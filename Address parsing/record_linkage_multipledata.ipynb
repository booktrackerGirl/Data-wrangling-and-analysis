{
 "cells": [
  {
   "cell_type": "code",
   "execution_count": 4,
   "metadata": {},
   "outputs": [
    {
     "name": "stdout",
     "output_type": "stream",
     "text": [
      "Collecting fuzzymatcher\n",
      "  Downloading fuzzymatcher-0.0.5-py3-none-any.whl (15 kB)\n",
      "Requirement already satisfied: fuzzywuzzy in c:\\users\\bookw\\anaconda3\\lib\\site-packages (from fuzzymatcher) (0.18.0)\n",
      "Requirement already satisfied: python-dateutil in c:\\users\\bookw\\anaconda3\\lib\\site-packages (from fuzzymatcher) (2.8.1)\n",
      "Requirement already satisfied: pandas in c:\\users\\bookw\\anaconda3\\lib\\site-packages (from fuzzymatcher) (1.2.2)\n",
      "Collecting metaphone\n",
      "  Downloading Metaphone-0.6.tar.gz (14 kB)\n",
      "Requirement already satisfied: python-Levenshtein in c:\\users\\bookw\\anaconda3\\lib\\site-packages (from fuzzymatcher) (0.12.2)\n",
      "Requirement already satisfied: numpy>=1.16.5 in c:\\users\\bookw\\anaconda3\\lib\\site-packages (from pandas->fuzzymatcher) (1.21.1)\n",
      "Requirement already satisfied: pytz>=2017.3 in c:\\users\\bookw\\anaconda3\\lib\\site-packages (from pandas->fuzzymatcher) (2019.3)\n",
      "Requirement already satisfied: six>=1.5 in c:\\users\\bookw\\appdata\\roaming\\python\\python37\\site-packages (from python-dateutil->fuzzymatcher) (1.15.0)\n",
      "Requirement already satisfied: setuptools in c:\\users\\bookw\\anaconda3\\lib\\site-packages (from python-Levenshtein->fuzzymatcher) (42.0.2.post20191203)\n",
      "Building wheels for collected packages: metaphone\n",
      "  Building wheel for metaphone (setup.py): started\n",
      "  Building wheel for metaphone (setup.py): finished with status 'done'\n",
      "  Created wheel for metaphone: filename=Metaphone-0.6-py3-none-any.whl size=13905 sha256=ea5bc5413db56f5b1e89f29dd699aae926997f7bc6a8472eb49f14a91af42789\n",
      "  Stored in directory: c:\\users\\bookw\\appdata\\local\\pip\\cache\\wheels\\1d\\a8\\cb\\6f8902aa5457bd71344e00665c230e9c45255b3f57f2194a0f\n",
      "Successfully built metaphone\n",
      "Installing collected packages: metaphone, fuzzymatcher\n",
      "Successfully installed fuzzymatcher-0.0.5 metaphone-0.6\n"
     ]
    },
    {
     "name": "stderr",
     "output_type": "stream",
     "text": [
      "WARNING: Ignoring invalid distribution -cipy (c:\\users\\bookw\\anaconda3\\lib\\site-packages)\n",
      "WARNING: Ignoring invalid distribution -cipy (c:\\users\\bookw\\anaconda3\\lib\\site-packages)\n",
      "WARNING: Ignoring invalid distribution -cipy (c:\\users\\bookw\\anaconda3\\lib\\site-packages)\n",
      "WARNING: Ignoring invalid distribution -cipy (c:\\users\\bookw\\anaconda3\\lib\\site-packages)\n",
      "WARNING: Ignoring invalid distribution -cipy (c:\\users\\bookw\\anaconda3\\lib\\site-packages)\n",
      "WARNING: Ignoring invalid distribution -cipy (c:\\users\\bookw\\anaconda3\\lib\\site-packages)\n",
      "WARNING: Ignoring invalid distribution -cipy (c:\\users\\bookw\\anaconda3\\lib\\site-packages)\n",
      "WARNING: Ignoring invalid distribution -cipy (c:\\users\\bookw\\anaconda3\\lib\\site-packages)\n",
      "WARNING: You are using pip version 21.1.3; however, version 21.2.4 is available.\n",
      "You should consider upgrading via the 'c:\\users\\bookw\\anaconda3\\python.exe -m pip install --upgrade pip' command.\n"
     ]
    }
   ],
   "source": [
    "!pip install recordlinkage\n",
    "!pip install fuzzymatcher"
   ]
  },
  {
   "cell_type": "code",
   "execution_count": 26,
   "metadata": {},
   "outputs": [
    {
     "name": "stdout",
     "output_type": "stream",
     "text": [
      "Requirement already satisfied: sqlite-fts4 in c:\\users\\bookw\\anaconda3\\lib\\site-packages (1.0.1)\n"
     ]
    },
    {
     "name": "stderr",
     "output_type": "stream",
     "text": [
      "WARNING: Ignoring invalid distribution -cipy (c:\\users\\bookw\\anaconda3\\lib\\site-packages)\n",
      "WARNING: Ignoring invalid distribution -cipy (c:\\users\\bookw\\anaconda3\\lib\\site-packages)\n",
      "WARNING: Ignoring invalid distribution -cipy (c:\\users\\bookw\\anaconda3\\lib\\site-packages)\n",
      "WARNING: Ignoring invalid distribution -cipy (c:\\users\\bookw\\anaconda3\\lib\\site-packages)\n",
      "WARNING: Ignoring invalid distribution -cipy (c:\\users\\bookw\\anaconda3\\lib\\site-packages)\n",
      "WARNING: Ignoring invalid distribution -cipy (c:\\users\\bookw\\anaconda3\\lib\\site-packages)\n",
      "WARNING: You are using pip version 21.1.3; however, version 21.2.4 is available.\n",
      "You should consider upgrading via the 'c:\\users\\bookw\\anaconda3\\python.exe -m pip install --upgrade pip' command.\n"
     ]
    }
   ],
   "source": [
    "!pip install sqlite-fts4"
   ]
  },
  {
   "cell_type": "code",
   "execution_count": 28,
   "metadata": {},
   "outputs": [],
   "source": [
    "import pandas as pd\n",
    "import recordlinkage\n",
    "from pathlib import Path\n",
    "\n",
    "import logging\n",
    "logging.basicConfig(level=logging.DEBUG)\n",
    "\n",
    "from pathlib import Path\n",
    "import fuzzymatcher\n",
    "import jellyfish"
   ]
  },
  {
   "cell_type": "code",
   "execution_count": 29,
   "metadata": {},
   "outputs": [
    {
     "name": "stdout",
     "output_type": "stream",
     "text": [
      "sqlite (2, 6, 0)\n",
      "sqlite (3, 30, 1)\n",
      "sqlite C:\\Users\\bookw\\Anaconda3\\lib\\sqlite3\\__init__.py\n",
      "('COMPILER=msvc-1916',)\n",
      "('THREADSAFE=1',)\n",
      "\n",
      "Operating System: Windows 10\n",
      "Platform: CPython 3.7.3\n",
      "SQLite: 3.30.1\n"
     ]
    }
   ],
   "source": [
    "import sqlite3, platform\n",
    "\n",
    "print('sqlite {}'.format(sqlite3.version_info))\n",
    "print('sqlite {}'.format(sqlite3.sqlite_version_info))\n",
    "print('sqlite {}'.format(sqlite3.__file__))\n",
    "\n",
    "db = sqlite3.connect(':memory:') # memory stream\n",
    "cursor = db.cursor()\n",
    "\n",
    "results = cursor.execute(\"pragma compile_options\")\n",
    "\n",
    "for r in results:\n",
    "    print(r)\n",
    "\n",
    "print()\n",
    "print(\"Operating System: {} {}\".format(platform.system(), platform.release()))\n",
    "print(\"Platform: {} {}\".format(platform.python_implementation(),platform.python_version()))\n",
    "print(\"SQLite: {}\".format(sqlite3.sqlite_version))"
   ]
  },
  {
   "cell_type": "code",
   "execution_count": 30,
   "metadata": {},
   "outputs": [
    {
     "name": "stdout",
     "output_type": "stream",
     "text": [
      "COMPILER=msvc-1916\n",
      "THREADSAFE=1\n"
     ]
    }
   ],
   "source": [
    "#For Solving the FTS4 Problem\n",
    "import sqlite3\n",
    "conn = sqlite3.connect(':memory:')\n",
    "cur = conn.cursor()\n",
    "conn.enable_load_extension(True)\n",
    "for (val,) in cur.execute('pragma compile_options'): \n",
    "    print (val)"
   ]
  },
  {
   "cell_type": "code",
   "execution_count": 14,
   "metadata": {},
   "outputs": [],
   "source": [
    "sai_accounts = pd.read_csv('sai_organization.csv')\n",
    "gots_accounts = pd.read_csv('gots_organization.csv')"
   ]
  },
  {
   "cell_type": "code",
   "execution_count": 15,
   "metadata": {},
   "outputs": [
    {
     "data": {
      "text/plain": [
       "Index(['address1', 'canonical_name1', 'city1', 'country1', 'country_code1',\n",
       "       'id1', 'name1', 'source', 'state1', 'type', 'url', '_cached_page_id',\n",
       "       'Id1'],\n",
       "      dtype='object')"
      ]
     },
     "execution_count": 15,
     "metadata": {},
     "output_type": "execute_result"
    }
   ],
   "source": [
    "sai_accounts.columns"
   ]
  },
  {
   "cell_type": "code",
   "execution_count": 21,
   "metadata": {},
   "outputs": [
    {
     "data": {
      "text/plain": [
       "Index(['address2', 'canonical_name2', 'city2', 'country2', 'country_code2',\n",
       "       'id', 'name2', 'source', 'state2', 'type', 'url', '_cached_page_id',\n",
       "       'Id2'],\n",
       "      dtype='object')"
      ]
     },
     "execution_count": 21,
     "metadata": {},
     "output_type": "execute_result"
    }
   ],
   "source": [
    "gots_accounts.columns"
   ]
  },
  {
   "cell_type": "code",
   "execution_count": 22,
   "metadata": {},
   "outputs": [],
   "source": [
    "left_on = ['address1', 'canonical_name1', 'city1', 'country1', 'country_code1', 'name1', 'state1']\n",
    "\n",
    "right_on = ['address2', 'canonical_name2', 'city2', 'country2', 'country_code2', 'name2', 'state2']"
   ]
  },
  {
   "cell_type": "code",
   "execution_count": 23,
   "metadata": {},
   "outputs": [
    {
     "ename": "OperationalError",
     "evalue": "no such module: fts4",
     "output_type": "error",
     "traceback": [
      "\u001b[1;31m---------------------------------------------------------------------------\u001b[0m",
      "\u001b[1;31mOperationalError\u001b[0m                          Traceback (most recent call last)",
      "\u001b[1;32m<ipython-input-23-1fe9e0dfccd8>\u001b[0m in \u001b[0;36m<module>\u001b[1;34m\u001b[0m\n\u001b[0;32m      3\u001b[0m                                             \u001b[0mleft_on\u001b[0m\u001b[1;33m,\u001b[0m\u001b[1;33m\u001b[0m\u001b[1;33m\u001b[0m\u001b[0m\n\u001b[0;32m      4\u001b[0m                                             \u001b[0mright_on\u001b[0m\u001b[1;33m,\u001b[0m\u001b[1;33m\u001b[0m\u001b[1;33m\u001b[0m\u001b[0m\n\u001b[1;32m----> 5\u001b[1;33m                                             left_id_col = \"Id1\", right_id_col = \"Id2\")\n\u001b[0m",
      "\u001b[1;32m~\\Anaconda3\\lib\\site-packages\\fuzzymatcher\\__init__.py\u001b[0m in \u001b[0;36mfuzzy_left_join\u001b[1;34m(df_left, df_right, left_on, right_on, left_id_col, right_id_col)\u001b[0m\n\u001b[0;32m     39\u001b[0m     \u001b[0mm\u001b[0m \u001b[1;33m=\u001b[0m \u001b[0mMatcher\u001b[0m\u001b[1;33m(\u001b[0m\u001b[0mdp\u001b[0m\u001b[1;33m,\u001b[0m \u001b[0mdg\u001b[0m\u001b[1;33m,\u001b[0m \u001b[0ms\u001b[0m\u001b[1;33m)\u001b[0m\u001b[1;33m\u001b[0m\u001b[1;33m\u001b[0m\u001b[0m\n\u001b[0;32m     40\u001b[0m     \u001b[0mm\u001b[0m\u001b[1;33m.\u001b[0m\u001b[0madd_data\u001b[0m\u001b[1;33m(\u001b[0m\u001b[0mdf_left\u001b[0m\u001b[1;33m,\u001b[0m \u001b[0mdf_right\u001b[0m\u001b[1;33m,\u001b[0m \u001b[0mleft_on\u001b[0m\u001b[1;33m,\u001b[0m \u001b[0mright_on\u001b[0m\u001b[1;33m,\u001b[0m  \u001b[0mleft_id_col\u001b[0m\u001b[1;33m,\u001b[0m \u001b[0mright_id_col\u001b[0m\u001b[1;33m)\u001b[0m\u001b[1;33m\u001b[0m\u001b[1;33m\u001b[0m\u001b[0m\n\u001b[1;32m---> 41\u001b[1;33m     \u001b[0mm\u001b[0m\u001b[1;33m.\u001b[0m\u001b[0mmatch_all\u001b[0m\u001b[1;33m(\u001b[0m\u001b[1;33m)\u001b[0m\u001b[1;33m\u001b[0m\u001b[1;33m\u001b[0m\u001b[0m\n\u001b[0m\u001b[0;32m     42\u001b[0m \u001b[1;33m\u001b[0m\u001b[0m\n\u001b[0;32m     43\u001b[0m     \u001b[1;32mreturn\u001b[0m \u001b[0mm\u001b[0m\u001b[1;33m.\u001b[0m\u001b[0mget_left_join_table\u001b[0m\u001b[1;33m(\u001b[0m\u001b[1;33m)\u001b[0m\u001b[1;33m\u001b[0m\u001b[1;33m\u001b[0m\u001b[0m\n",
      "\u001b[1;32m~\\Anaconda3\\lib\\site-packages\\fuzzymatcher\\matcher.py\u001b[0m in \u001b[0;36mmatch_all\u001b[1;34m(self)\u001b[0m\n\u001b[0;32m     87\u001b[0m         \u001b[0mself\u001b[0m\u001b[1;33m.\u001b[0m\u001b[0mscorer\u001b[0m\u001b[1;33m.\u001b[0m\u001b[0madd_data\u001b[0m\u001b[1;33m(\u001b[0m\u001b[0mself\u001b[0m\u001b[1;33m)\u001b[0m\u001b[1;33m\u001b[0m\u001b[1;33m\u001b[0m\u001b[0m\n\u001b[0;32m     88\u001b[0m \u001b[1;33m\u001b[0m\u001b[0m\n\u001b[1;32m---> 89\u001b[1;33m         \u001b[0mself\u001b[0m\u001b[1;33m.\u001b[0m\u001b[0mdata_getter\u001b[0m\u001b[1;33m.\u001b[0m\u001b[0madd_data\u001b[0m\u001b[1;33m(\u001b[0m\u001b[0mself\u001b[0m\u001b[1;33m)\u001b[0m\u001b[1;33m\u001b[0m\u001b[1;33m\u001b[0m\u001b[0m\n\u001b[0m\u001b[0;32m     90\u001b[0m \u001b[1;33m\u001b[0m\u001b[0m\n\u001b[0;32m     91\u001b[0m         \u001b[1;31m# Get a table that contains only the matches, scores and ids\u001b[0m\u001b[1;33m\u001b[0m\u001b[1;33m\u001b[0m\u001b[1;33m\u001b[0m\u001b[0m\n",
      "\u001b[1;32m~\\Anaconda3\\lib\\site-packages\\fuzzymatcher\\data_getter_sqlite.py\u001b[0m in \u001b[0;36madd_data\u001b[1;34m(self, matcher)\u001b[0m\n\u001b[0;32m     58\u001b[0m                  \u001b[0mUSING\u001b[0m \u001b[0mfts4\u001b[0m\u001b[1;33m(\u001b[0m\u001b[1;33m{\u001b[0m\u001b[1;33m}\u001b[0m \u001b[0mTEXT\u001b[0m\u001b[1;33m,\u001b[0m \u001b[0m_concat_all\u001b[0m \u001b[0mTEXT\u001b[0m\u001b[1;33m,\u001b[0m \u001b[0m_concat_all_alternatives\u001b[0m \u001b[0mTEXT\u001b[0m\u001b[1;33m)\u001b[0m\u001b[1;33m;\u001b[0m\u001b[1;33m\u001b[0m\u001b[1;33m\u001b[0m\u001b[0m\n\u001b[0;32m     59\u001b[0m               \"\"\".format(matcher.right_id_col)\n\u001b[1;32m---> 60\u001b[1;33m         \u001b[0mcon\u001b[0m\u001b[1;33m.\u001b[0m\u001b[0mexecute\u001b[0m\u001b[1;33m(\u001b[0m\u001b[0msql\u001b[0m\u001b[1;33m)\u001b[0m\u001b[1;33m\u001b[0m\u001b[1;33m\u001b[0m\u001b[0m\n\u001b[0m\u001b[0;32m     61\u001b[0m         \u001b[0mcon\u001b[0m\u001b[1;33m.\u001b[0m\u001b[0mexecute\u001b[0m\u001b[1;33m(\u001b[0m\u001b[1;34m\"INSERT INTO fts_target SELECT * FROM df_right_processed\"\u001b[0m\u001b[1;33m)\u001b[0m\u001b[1;33m\u001b[0m\u001b[1;33m\u001b[0m\u001b[0m\n\u001b[0;32m     62\u001b[0m \u001b[1;33m\u001b[0m\u001b[0m\n",
      "\u001b[1;31mOperationalError\u001b[0m: no such module: fts4"
     ]
    }
   ],
   "source": [
    "matched_results = fuzzymatcher.fuzzy_left_join(sai_accounts,\n",
    "                                            gots_accounts,\n",
    "                                            left_on,\n",
    "                                            right_on,\n",
    "                                            left_id_col = \"Id1\", right_id_col = \"Id2\")\n"
   ]
  },
  {
   "cell_type": "code",
   "execution_count": 19,
   "metadata": {},
   "outputs": [],
   "source": [
    "'''\n",
    "def get_closest_match(x, list_strings):\n",
    "    best_match = None\n",
    "    highest_jw = 0\n",
    "\n",
    "    for current_string in list_strings:\n",
    "        current_score = jellyfish.jaro_winkler(x, current_string)\n",
    "\n",
    "        if(current_score > highest_jw):\n",
    "            highest_jw = current_score\n",
    "            best_match = current_string\n",
    "\n",
    "    return best_match\n",
    "'''"
   ]
  },
  {
   "cell_type": "code",
   "execution_count": null,
   "metadata": {},
   "outputs": [],
   "source": []
  },
  {
   "cell_type": "code",
   "execution_count": 17,
   "metadata": {},
   "outputs": [],
   "source": [
    "#organization_dupes = pd.read_csv('new_input_file_edited.csv', index_col='Id')"
   ]
  },
  {
   "cell_type": "code",
   "execution_count": 18,
   "metadata": {},
   "outputs": [
    {
     "data": {
      "text/plain": [
       "Index(['address', 'canonical_name', 'city', 'country', 'country_code', 'id',\n",
       "       'name', 'source', 'state', 'type', 'url'],\n",
       "      dtype='object')"
      ]
     },
     "execution_count": 18,
     "metadata": {},
     "output_type": "execute_result"
    }
   ],
   "source": [
    "organization_dupes.columns"
   ]
  },
  {
   "cell_type": "code",
   "execution_count": 19,
   "metadata": {},
   "outputs": [],
   "source": [
    "dupe_indexer = recordlinkage.Index()\n",
    "dupe_indexer.sortedneighbourhood(left_on='country_code')\n",
    "dupe_candidate_links = dupe_indexer.index(organization_dupes)"
   ]
  },
  {
   "cell_type": "code",
   "execution_count": 20,
   "metadata": {},
   "outputs": [],
   "source": [
    "compare_dupes = recordlinkage.Compare()\n",
    "\n",
    "compare_dupes.string('name',\n",
    "                    'name',\n",
    "                    threshold=0.80,\n",
    "                    label='organization_name')\n",
    "compare_dupes.string('address',\n",
    "                    'address',\n",
    "                    threshold=0.85,\n",
    "                    label='organization_address')\n",
    "compare_dupes.string('canonical_name',\n",
    "                    'canonical_name',\n",
    "                    threshold=0.85,\n",
    "                    label='organization_canonical')\n",
    "compare_dupes.exact('city', 'city', label='organization_city')\n",
    "\n",
    "dupe_features = compare_dupes.compute(dupe_candidate_links, organization_dupes)"
   ]
  },
  {
   "cell_type": "code",
   "execution_count": 21,
   "metadata": {},
   "outputs": [
    {
     "data": {
      "text/plain": [
       "4.0         949\n",
       "3.0         100\n",
       "2.0       16639\n",
       "1.0       99939\n",
       "0.0    33419414\n",
       "dtype: int64"
      ]
     },
     "execution_count": 21,
     "metadata": {},
     "output_type": "execute_result"
    }
   ],
   "source": [
    "dupe_features.sum(axis=1).value_counts().sort_index(ascending=False)"
   ]
  },
  {
   "cell_type": "code",
   "execution_count": 22,
   "metadata": {},
   "outputs": [],
   "source": [
    "potential_dupes = dupe_features[dupe_features.sum(axis=1) > 1].reset_index()\n",
    "potential_dupes['Score'] = potential_dupes.loc[:, 'organization_name':'organization_city'].sum(axis=1)"
   ]
  },
  {
   "cell_type": "code",
   "execution_count": 23,
   "metadata": {},
   "outputs": [
    {
     "data": {
      "text/html": [
       "<div>\n",
       "<style scoped>\n",
       "    .dataframe tbody tr th:only-of-type {\n",
       "        vertical-align: middle;\n",
       "    }\n",
       "\n",
       "    .dataframe tbody tr th {\n",
       "        vertical-align: top;\n",
       "    }\n",
       "\n",
       "    .dataframe thead th {\n",
       "        text-align: right;\n",
       "    }\n",
       "</style>\n",
       "<table border=\"1\" class=\"dataframe\">\n",
       "  <thead>\n",
       "    <tr style=\"text-align: right;\">\n",
       "      <th></th>\n",
       "      <th>Id_1</th>\n",
       "      <th>Id_2</th>\n",
       "      <th>organization_name</th>\n",
       "      <th>organization_address</th>\n",
       "      <th>organization_canonical</th>\n",
       "      <th>organization_city</th>\n",
       "      <th>Score</th>\n",
       "    </tr>\n",
       "  </thead>\n",
       "  <tbody>\n",
       "    <tr>\n",
       "      <th>0</th>\n",
       "      <td>11906</td>\n",
       "      <td>10579</td>\n",
       "      <td>1.0</td>\n",
       "      <td>0.0</td>\n",
       "      <td>1.0</td>\n",
       "      <td>0</td>\n",
       "      <td>2.0</td>\n",
       "    </tr>\n",
       "    <tr>\n",
       "      <th>1</th>\n",
       "      <td>12427</td>\n",
       "      <td>10046</td>\n",
       "      <td>1.0</td>\n",
       "      <td>0.0</td>\n",
       "      <td>1.0</td>\n",
       "      <td>0</td>\n",
       "      <td>2.0</td>\n",
       "    </tr>\n",
       "    <tr>\n",
       "      <th>2</th>\n",
       "      <td>3</td>\n",
       "      <td>1</td>\n",
       "      <td>1.0</td>\n",
       "      <td>1.0</td>\n",
       "      <td>1.0</td>\n",
       "      <td>0</td>\n",
       "      <td>3.0</td>\n",
       "    </tr>\n",
       "    <tr>\n",
       "      <th>3</th>\n",
       "      <td>4</td>\n",
       "      <td>2</td>\n",
       "      <td>1.0</td>\n",
       "      <td>1.0</td>\n",
       "      <td>1.0</td>\n",
       "      <td>0</td>\n",
       "      <td>3.0</td>\n",
       "    </tr>\n",
       "    <tr>\n",
       "      <th>4</th>\n",
       "      <td>6</td>\n",
       "      <td>5</td>\n",
       "      <td>1.0</td>\n",
       "      <td>0.0</td>\n",
       "      <td>1.0</td>\n",
       "      <td>0</td>\n",
       "      <td>2.0</td>\n",
       "    </tr>\n",
       "    <tr>\n",
       "      <th>...</th>\n",
       "      <td>...</td>\n",
       "      <td>...</td>\n",
       "      <td>...</td>\n",
       "      <td>...</td>\n",
       "      <td>...</td>\n",
       "      <td>...</td>\n",
       "      <td>...</td>\n",
       "    </tr>\n",
       "    <tr>\n",
       "      <th>17683</th>\n",
       "      <td>14266</td>\n",
       "      <td>14220</td>\n",
       "      <td>1.0</td>\n",
       "      <td>0.0</td>\n",
       "      <td>1.0</td>\n",
       "      <td>0</td>\n",
       "      <td>2.0</td>\n",
       "    </tr>\n",
       "    <tr>\n",
       "      <th>17684</th>\n",
       "      <td>14266</td>\n",
       "      <td>14222</td>\n",
       "      <td>1.0</td>\n",
       "      <td>0.0</td>\n",
       "      <td>1.0</td>\n",
       "      <td>0</td>\n",
       "      <td>2.0</td>\n",
       "    </tr>\n",
       "    <tr>\n",
       "      <th>17685</th>\n",
       "      <td>14266</td>\n",
       "      <td>14228</td>\n",
       "      <td>1.0</td>\n",
       "      <td>0.0</td>\n",
       "      <td>1.0</td>\n",
       "      <td>0</td>\n",
       "      <td>2.0</td>\n",
       "    </tr>\n",
       "    <tr>\n",
       "      <th>17686</th>\n",
       "      <td>14266</td>\n",
       "      <td>14244</td>\n",
       "      <td>1.0</td>\n",
       "      <td>0.0</td>\n",
       "      <td>1.0</td>\n",
       "      <td>0</td>\n",
       "      <td>2.0</td>\n",
       "    </tr>\n",
       "    <tr>\n",
       "      <th>17687</th>\n",
       "      <td>14266</td>\n",
       "      <td>14262</td>\n",
       "      <td>1.0</td>\n",
       "      <td>0.0</td>\n",
       "      <td>1.0</td>\n",
       "      <td>0</td>\n",
       "      <td>2.0</td>\n",
       "    </tr>\n",
       "  </tbody>\n",
       "</table>\n",
       "<p>17688 rows × 7 columns</p>\n",
       "</div>"
      ],
      "text/plain": [
       "        Id_1   Id_2  organization_name  organization_address  \\\n",
       "0      11906  10579                1.0                   0.0   \n",
       "1      12427  10046                1.0                   0.0   \n",
       "2          3      1                1.0                   1.0   \n",
       "3          4      2                1.0                   1.0   \n",
       "4          6      5                1.0                   0.0   \n",
       "...      ...    ...                ...                   ...   \n",
       "17683  14266  14220                1.0                   0.0   \n",
       "17684  14266  14222                1.0                   0.0   \n",
       "17685  14266  14228                1.0                   0.0   \n",
       "17686  14266  14244                1.0                   0.0   \n",
       "17687  14266  14262                1.0                   0.0   \n",
       "\n",
       "       organization_canonical  organization_city  Score  \n",
       "0                         1.0                  0    2.0  \n",
       "1                         1.0                  0    2.0  \n",
       "2                         1.0                  0    3.0  \n",
       "3                         1.0                  0    3.0  \n",
       "4                         1.0                  0    2.0  \n",
       "...                       ...                ...    ...  \n",
       "17683                     1.0                  0    2.0  \n",
       "17684                     1.0                  0    2.0  \n",
       "17685                     1.0                  0    2.0  \n",
       "17686                     1.0                  0    2.0  \n",
       "17687                     1.0                  0    2.0  \n",
       "\n",
       "[17688 rows x 7 columns]"
      ]
     },
     "execution_count": 23,
     "metadata": {},
     "output_type": "execute_result"
    }
   ],
   "source": [
    "potential_dupes"
   ]
  },
  {
   "cell_type": "code",
   "execution_count": 26,
   "metadata": {},
   "outputs": [
    {
     "data": {
      "text/plain": [
       "address                                            NaN\n",
       "canonical_name                                 shaehan\n",
       "city                                               NaN\n",
       "country                                    South Korea\n",
       "country_code                                        KR\n",
       "id                fd3cd261-f835-4129-8d61-9b946895a0aa\n",
       "name                                           SHAEHAN\n",
       "source            9b50d4d5-6c83-4ae8-8c47-5f722e35a78b\n",
       "state                                              NaN\n",
       "type              905e0790-81a3-4396-acb6-e715ce483f6a\n",
       "url                                                NaN\n",
       "Name: 11906, dtype: object"
      ]
     },
     "execution_count": 26,
     "metadata": {},
     "output_type": "execute_result"
    }
   ],
   "source": [
    "organization_dupes.loc[11906, :]"
   ]
  },
  {
   "cell_type": "code",
   "execution_count": 27,
   "metadata": {},
   "outputs": [
    {
     "data": {
      "text/plain": [
       "address                  32-68, Oehang 1-gil,Gunsan-si\n",
       "canonical_name                                 shaehan\n",
       "city                                         Gunsan-si\n",
       "country                      South Korea (Republic of)\n",
       "country_code                                        KR\n",
       "id                42e2a9a9-21ed-43bc-93cc-bb5720628d53\n",
       "name                                           SHAEHAN\n",
       "source            9b50d4d5-6c83-4ae8-8c47-5f722e35a78b\n",
       "state                                              NaN\n",
       "type              905e0790-81a3-4396-acb6-e715ce483f6a\n",
       "url                                                NaN\n",
       "Name: 10579, dtype: object"
      ]
     },
     "execution_count": 27,
     "metadata": {},
     "output_type": "execute_result"
    }
   ],
   "source": [
    "organization_dupes.loc[10579, :]"
   ]
  },
  {
   "cell_type": "code",
   "execution_count": 28,
   "metadata": {},
   "outputs": [
    {
     "data": {
      "text/plain": [
       "address           24 Anns Nagar, KPN Colony, Tirupur-641601\n",
       "canonical_name                          ahillapparelexports\n",
       "city                                                    NaN\n",
       "country                                               India\n",
       "country_code                                             IN\n",
       "id                     87bb8b6e-daab-4195-9042-19ca17b96555\n",
       "name                          Ahill Apparel Exports PVT LTD\n",
       "source                 48aca846-b7a8-4ecb-bf24-685395f1592a\n",
       "state                                                   NaN\n",
       "type                   905e0790-81a3-4396-acb6-e715ce483f6a\n",
       "url                                                     NaN\n",
       "Name: 3, dtype: object"
      ]
     },
     "execution_count": 28,
     "metadata": {},
     "output_type": "execute_result"
    }
   ],
   "source": [
    "organization_dupes.loc[3, :]"
   ]
  },
  {
   "cell_type": "code",
   "execution_count": 29,
   "metadata": {},
   "outputs": [
    {
     "data": {
      "text/plain": [
       "address           24 Anns Nagar, KPN Colony, Tirupur-641601\n",
       "canonical_name                          ahillapparelexports\n",
       "city                                                    NaN\n",
       "country                                               India\n",
       "country_code                                             IN\n",
       "id                     87bb8b6e-daab-4195-9042-19ca17b96555\n",
       "name                          Ahill Apparel Exports PVT LTD\n",
       "source                 48aca846-b7a8-4ecb-bf24-685395f1592a\n",
       "state                                                   NaN\n",
       "type                   905e0790-81a3-4396-acb6-e715ce483f6a\n",
       "url                                                     NaN\n",
       "Name: 1, dtype: object"
      ]
     },
     "execution_count": 29,
     "metadata": {},
     "output_type": "execute_result"
    }
   ],
   "source": [
    "organization_dupes.loc[1, :]"
   ]
  },
  {
   "cell_type": "code",
   "execution_count": null,
   "metadata": {},
   "outputs": [],
   "source": []
  }
 ],
 "metadata": {
  "kernelspec": {
   "display_name": "Python 3",
   "language": "python",
   "name": "python3"
  },
  "language_info": {
   "codemirror_mode": {
    "name": "ipython",
    "version": 3
   },
   "file_extension": ".py",
   "mimetype": "text/x-python",
   "name": "python",
   "nbconvert_exporter": "python",
   "pygments_lexer": "ipython3",
   "version": "3.7.3"
  }
 },
 "nbformat": 4,
 "nbformat_minor": 2
}
