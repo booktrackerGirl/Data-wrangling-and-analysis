{
 "cells": [
  {
   "cell_type": "code",
   "execution_count": 7,
   "metadata": {},
   "outputs": [],
   "source": [
    "import pandas\n",
    "from matplotlib import rcParams \n",
    "import requests \n",
    "import json \n",
    "import seaborn as sns \n",
    "import itertools \n",
    "from datetime import datetime \n",
    "import matplotlib.pyplot as plt \n",
    "import networkx as nx \n",
    "import hashlib \n",
    "import os \n",
    "from operator import itemgetter\n",
    "\n",
    "import config\n",
    "\n",
    "rcParams['figure.figsize'] = 11.7,8.27"
   ]
  },
  {
   "cell_type": "code",
   "execution_count": 8,
   "metadata": {},
   "outputs": [],
   "source": [
    "def pretty_json(json_object): print(json.dumps(json_object, indent=2))"
   ]
  },
  {
   "cell_type": "code",
   "execution_count": null,
   "metadata": {},
   "outputs": [],
   "source": []
  }
 ],
 "metadata": {
  "kernelspec": {
   "display_name": "mlp",
   "language": "python",
   "name": "python3"
  },
  "language_info": {
   "codemirror_mode": {
    "name": "ipython",
    "version": 3
   },
   "file_extension": ".py",
   "mimetype": "text/x-python",
   "name": "python",
   "nbconvert_exporter": "python",
   "pygments_lexer": "ipython3",
   "version": "3.8.13"
  },
  "orig_nbformat": 4,
  "vscode": {
   "interpreter": {
    "hash": "a416f03cfb147488512f4759643ecc257e0c1cb5ba60170a7a416e21779e3a52"
   }
  }
 },
 "nbformat": 4,
 "nbformat_minor": 2
}
