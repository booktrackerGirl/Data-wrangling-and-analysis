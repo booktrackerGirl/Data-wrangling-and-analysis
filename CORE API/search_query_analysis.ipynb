{
 "cells": [
  {
   "cell_type": "code",
   "execution_count": 1,
   "metadata": {},
   "outputs": [],
   "source": [
    "import pandas\n",
    "from matplotlib import rcParams \n",
    "import requests \n",
    "import json \n",
    "import seaborn as sns \n",
    "import itertools \n",
    "from datetime import datetime \n",
    "import matplotlib.pyplot as plt \n",
    "import networkx as nx \n",
    "import hashlib \n",
    "import os \n",
    "from operator import itemgetter\n",
    "\n",
    "import config\n",
    "\n",
    "rcParams['figure.figsize'] = 11.7,8.27"
   ]
  },
  {
   "attachments": {},
   "cell_type": "markdown",
   "metadata": {},
   "source": [
    "## Extracting data\n",
    "This part of the code is taken from [here](https://github.com/oacore/apiv3-webinar/blob/main/webinar.ipynb)."
   ]
  },
  {
   "cell_type": "code",
   "execution_count": 2,
   "metadata": {},
   "outputs": [],
   "source": [
    "def pretty_json(json_object): print(json.dumps(json_object, indent=2))"
   ]
  },
  {
   "cell_type": "code",
   "execution_count": 3,
   "metadata": {},
   "outputs": [],
   "source": [
    "api_key = config.core_api_key\n",
    "api_endpoint = \"https://api.core.ac.uk/v3/\""
   ]
  },
  {
   "cell_type": "code",
   "execution_count": 4,
   "metadata": {},
   "outputs": [],
   "source": [
    "def get_entity(url_fragment):\n",
    "    headers={\"Authorization\":\"Bearer \"+api_key}\n",
    "    response = requests.get(api_endpoint + url_fragment, headers=headers)\n",
    "    if response.status_code == 200:\n",
    "        return response.json(), response.elapsed.total_seconds()\n",
    "    else:\n",
    "        print(f\"Error code {response.status_code}, {response.content}\")"
   ]
  },
  {
   "cell_type": "code",
   "execution_count": 5,
   "metadata": {},
   "outputs": [
    {
     "name": "stdout",
     "output_type": "stream",
     "text": [
      "{\n",
      "  \"id\": 1,\n",
      "  \"openDoarId\": 1767,\n",
      "  \"name\": \"Aberdeen University Research Archive\",\n",
      "  \"email\": \"aura.deposit@abdn.ac.uk\",\n",
      "  \"uri\": null,\n",
      "  \"oaiPmhUrl\": \"https://aura.abdn.ac.uk/dspace-oai/request\",\n",
      "  \"homepageUrl\": \"http://aura.abdn.ac.uk\",\n",
      "  \"source\": null,\n",
      "  \"software\": \"dspace\",\n",
      "  \"metadataFormat\": \"oai_dc\",\n",
      "  \"createdDate\": \"2011-05-05T23:00:00+00:00\",\n",
      "  \"location\": {\n",
      "    \"countryCode\": \"GB\",\n",
      "    \"latitude\": 57.165,\n",
      "    \"longitude\": -2.0991\n",
      "  },\n",
      "  \"logo\": \"https://api.core.ac.uk/data-providers/1/logo\",\n",
      "  \"type\": \"REPOSITORY\",\n",
      "  \"stats\": null\n",
      "}\n"
     ]
    }
   ],
   "source": [
    "data_provider, elapsed = get_entity(\"data-providers/1\")\n",
    "pretty_json(data_provider)"
   ]
  },
  {
   "cell_type": "code",
   "execution_count": 6,
   "metadata": {},
   "outputs": [],
   "source": [
    "def query_api(url_fragment, query, limit=1000):\n",
    "    headers={\"Authorization\":\"Bearer \"+api_key}\n",
    "    query = {\"q\": query, \"limit\":limit}\n",
    "    response = requests.post(f\"{api_endpoint}{url_fragment}\",data = json.dumps(query), headers=headers)\n",
    "    if response.status_code ==200:\n",
    "        return response.json(), response.elapsed.total_seconds()\n",
    "    else:\n",
    "        print(f\"Error code {response.status_code}, {response.content}\")"
   ]
  },
  {
   "cell_type": "code",
   "execution_count": 9,
   "metadata": {},
   "outputs": [
    {
     "name": "stdout",
     "output_type": "stream",
     "text": [
      "{\n",
      "  \"totalHits\": 0,\n",
      "  \"limit\": 1000,\n",
      "  \"offset\": 0,\n",
      "  \"scrollId\": null,\n",
      "  \"results\": [],\n",
      "  \"tooks\": null,\n",
      "  \"esTook\": null\n",
      "}\n"
     ]
    }
   ],
   "source": [
    "results , elapsed = query_api(\"search/data-providers\", \"sexism\")\n",
    "pretty_json(results)"
   ]
  },
  {
   "cell_type": "code",
   "execution_count": null,
   "metadata": {},
   "outputs": [],
   "source": []
  }
 ],
 "metadata": {
  "kernelspec": {
   "display_name": "mlp",
   "language": "python",
   "name": "python3"
  },
  "language_info": {
   "codemirror_mode": {
    "name": "ipython",
    "version": 3
   },
   "file_extension": ".py",
   "mimetype": "text/x-python",
   "name": "python",
   "nbconvert_exporter": "python",
   "pygments_lexer": "ipython3",
   "version": "3.8.13"
  },
  "orig_nbformat": 4,
  "vscode": {
   "interpreter": {
    "hash": "a416f03cfb147488512f4759643ecc257e0c1cb5ba60170a7a416e21779e3a52"
   }
  }
 },
 "nbformat": 4,
 "nbformat_minor": 2
}
