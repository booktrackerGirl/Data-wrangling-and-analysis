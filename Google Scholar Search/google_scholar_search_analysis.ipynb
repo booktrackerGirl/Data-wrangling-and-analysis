{
 "cells": [
  {
   "cell_type": "code",
   "execution_count": 1,
   "metadata": {},
   "outputs": [
    {
     "name": "stderr",
     "output_type": "stream",
     "text": [
      "[nltk_data] Downloading package omw-1.4 to\n",
      "[nltk_data]     /Users/aditidutta/nltk_data...\n",
      "[nltk_data]   Package omw-1.4 is already up-to-date!\n",
      "[nltk_data] Downloading package maxent_ne_chunker to\n",
      "[nltk_data]     /Users/aditidutta/nltk_data...\n",
      "[nltk_data]   Package maxent_ne_chunker is already up-to-date!\n",
      "[nltk_data] Downloading package words to\n",
      "[nltk_data]     /Users/aditidutta/nltk_data...\n",
      "[nltk_data]   Package words is already up-to-date!\n"
     ]
    }
   ],
   "source": [
    "# Importing the libraries\n",
    "\n",
    "import pandas as pd\n",
    "import matplotlib.pyplot as plt\n",
    "import numpy as np\n",
    "import pandas as pd\n",
    "import seaborn as sns\n",
    "import circlify\n",
    "#% matplotlib inline\n",
    "from datetime import datetime\n",
    "\n",
    "import plotly\n",
    "import plotly.graph_objs as go\n",
    "import plotly.offline as pyo\n",
    "import plotly.figure_factory as ff\n",
    "import plotly.express as px\n",
    "from plotly import tools\n",
    "from plotly.subplots import make_subplots\n",
    "from plotly.offline import iplot\n",
    "\n",
    "from textblob import TextBlob, Word, Blobber\n",
    "from textblob.classifiers import NaiveBayesClassifier\n",
    "from textblob.taggers import NLTKTagger\n",
    "\n",
    "import nltk\n",
    "from nltk.corpus import stopwords\n",
    "from nltk.stem.porter import PorterStemmer \n",
    "from nltk.stem import WordNetLemmatizer\n",
    "nltk.download('omw-1.4')\n",
    "from nltk.tokenize import word_tokenize\n",
    "nltk.download('maxent_ne_chunker')\n",
    "nltk.download('words')\n",
    "\n",
    "import string\n",
    "import gensim\n",
    "import collections\n",
    "from gensim.corpora import Dictionary\n",
    "\n",
    "from tqdm import tqdm\n",
    "tqdm.pandas(desc=\"progress-bar\")\n",
    "\n",
    "from gensim.models.ldamodel import LdaModel\n",
    "from gensim.models.coherencemodel import CoherenceModel\n",
    "\n",
    "from autocorrect import Speller\n",
    "\n",
    "from bs4 import BeautifulSoup\n",
    "import requests\n",
    "import csv\n",
    "import time\n",
    "\n",
    "import jellyfish\n",
    "\n",
    "import re\n",
    "import string\n",
    "import gc\n",
    "import warnings\n",
    "warnings.filterwarnings('ignore')"
   ]
  },
  {
   "cell_type": "code",
   "execution_count": 2,
   "metadata": {},
   "outputs": [
    {
     "data": {
      "text/html": [
       "<div>\n",
       "<style scoped>\n",
       "    .dataframe tbody tr th:only-of-type {\n",
       "        vertical-align: middle;\n",
       "    }\n",
       "\n",
       "    .dataframe tbody tr th {\n",
       "        vertical-align: top;\n",
       "    }\n",
       "\n",
       "    .dataframe thead th {\n",
       "        text-align: right;\n",
       "    }\n",
       "</style>\n",
       "<table border=\"1\" class=\"dataframe\">\n",
       "  <thead>\n",
       "    <tr style=\"text-align: right;\">\n",
       "      <th></th>\n",
       "      <th>Cites</th>\n",
       "      <th>Authors</th>\n",
       "      <th>Title</th>\n",
       "      <th>Year</th>\n",
       "      <th>Source</th>\n",
       "      <th>Publisher</th>\n",
       "      <th>ArticleURL</th>\n",
       "      <th>CitesURL</th>\n",
       "      <th>GSRank</th>\n",
       "      <th>QueryDate</th>\n",
       "      <th>...</th>\n",
       "      <th>StartPage</th>\n",
       "      <th>EndPage</th>\n",
       "      <th>ECC</th>\n",
       "      <th>CitesPerYear</th>\n",
       "      <th>CitesPerAuthor</th>\n",
       "      <th>AuthorCount</th>\n",
       "      <th>Age</th>\n",
       "      <th>Abstract</th>\n",
       "      <th>FullTextURL</th>\n",
       "      <th>RelatedURL</th>\n",
       "    </tr>\n",
       "  </thead>\n",
       "  <tbody>\n",
       "    <tr>\n",
       "      <th>0</th>\n",
       "      <td>1</td>\n",
       "      <td>M Turno</td>\n",
       "      <td>'Dai che mi vesto da puttana!': Cultural Repre...</td>\n",
       "      <td>2012.0</td>\n",
       "      <td>NaN</td>\n",
       "      <td>Citeseer</td>\n",
       "      <td>https://citeseerx.ist.psu.edu/viewdoc/download...</td>\n",
       "      <td>https://scholar.google.com/scholar?cites=68233...</td>\n",
       "      <td>93</td>\n",
       "      <td>2022-07-17 10:02:25</td>\n",
       "      <td>...</td>\n",
       "      <td>NaN</td>\n",
       "      <td>NaN</td>\n",
       "      <td>1</td>\n",
       "      <td>0.1</td>\n",
       "      <td>1</td>\n",
       "      <td>1</td>\n",
       "      <td>10.0</td>\n",
       "      <td>Nadia frantically tries to escape, chased by a...</td>\n",
       "      <td>https://citeseerx.ist.psu.edu/viewdoc/download...</td>\n",
       "      <td>https://scholar.google.com/scholar?q=related:x...</td>\n",
       "    </tr>\n",
       "    <tr>\n",
       "      <th>1</th>\n",
       "      <td>1</td>\n",
       "      <td>Z Vaisman</td>\n",
       "      <td>A Cognitive-Behavioral Therapy Model for the T...</td>\n",
       "      <td>2012.0</td>\n",
       "      <td>NaN</td>\n",
       "      <td>search.proquest.com</td>\n",
       "      <td>https://search.proquest.com/openview/e9d6eb306...</td>\n",
       "      <td>https://scholar.google.com/scholar?cites=14365...</td>\n",
       "      <td>27</td>\n",
       "      <td>2022-07-17 10:02:25</td>\n",
       "      <td>...</td>\n",
       "      <td>NaN</td>\n",
       "      <td>NaN</td>\n",
       "      <td>1</td>\n",
       "      <td>0.1</td>\n",
       "      <td>1</td>\n",
       "      <td>1</td>\n",
       "      <td>10.0</td>\n",
       "      <td>… to impose such a classification in our next ...</td>\n",
       "      <td>NaN</td>\n",
       "      <td>https://scholar.google.com/scholar?q=related:P...</td>\n",
       "    </tr>\n",
       "    <tr>\n",
       "      <th>2</th>\n",
       "      <td>0</td>\n",
       "      <td>J Lammi</td>\n",
       "      <td>A genre analysis of Iain M. Banks' The Player ...</td>\n",
       "      <td>2012.0</td>\n",
       "      <td>NaN</td>\n",
       "      <td>erepo.uef.fi</td>\n",
       "      <td>https://erepo.uef.fi/bitstream/handle/12345678...</td>\n",
       "      <td>NaN</td>\n",
       "      <td>82</td>\n",
       "      <td>2022-07-17 10:02:25</td>\n",
       "      <td>...</td>\n",
       "      <td>NaN</td>\n",
       "      <td>NaN</td>\n",
       "      <td>0</td>\n",
       "      <td>0.0</td>\n",
       "      <td>0</td>\n",
       "      <td>1</td>\n",
       "      <td>10.0</td>\n",
       "      <td>… Sentient artificial intelligence has also be...</td>\n",
       "      <td>https://erepo.uef.fi/bitstream/handle/12345678...</td>\n",
       "      <td>https://scholar.google.com/scholar?q=related:n...</td>\n",
       "    </tr>\n",
       "    <tr>\n",
       "      <th>3</th>\n",
       "      <td>31</td>\n",
       "      <td>MR Davidson</td>\n",
       "      <td>A nurse's guide to women's mental health</td>\n",
       "      <td>2012.0</td>\n",
       "      <td>NaN</td>\n",
       "      <td>books.google.com</td>\n",
       "      <td>https://books.google.com/books?hl=en&amp;lr=&amp;id=I3...</td>\n",
       "      <td>https://scholar.google.com/scholar?cites=15456...</td>\n",
       "      <td>37</td>\n",
       "      <td>2022-07-17 10:02:25</td>\n",
       "      <td>...</td>\n",
       "      <td>NaN</td>\n",
       "      <td>NaN</td>\n",
       "      <td>31</td>\n",
       "      <td>3.1</td>\n",
       "      <td>31</td>\n",
       "      <td>1</td>\n",
       "      <td>10.0</td>\n",
       "      <td>Named a 2013 Doody's Core Title! 2012 Third Pl...</td>\n",
       "      <td>NaN</td>\n",
       "      <td>https://scholar.google.com/scholar?q=related:8...</td>\n",
       "    </tr>\n",
       "    <tr>\n",
       "      <th>4</th>\n",
       "      <td>3</td>\n",
       "      <td>A Wright</td>\n",
       "      <td>A review of best practices in child welfare</td>\n",
       "      <td>2012.0</td>\n",
       "      <td>NaN</td>\n",
       "      <td>books.google.com</td>\n",
       "      <td>https://books.google.com/books?hl=en&amp;lr=&amp;id=hg...</td>\n",
       "      <td>https://scholar.google.com/scholar?cites=13797...</td>\n",
       "      <td>48</td>\n",
       "      <td>2022-07-17 10:02:25</td>\n",
       "      <td>...</td>\n",
       "      <td>NaN</td>\n",
       "      <td>NaN</td>\n",
       "      <td>3</td>\n",
       "      <td>0.3</td>\n",
       "      <td>3</td>\n",
       "      <td>1</td>\n",
       "      <td>10.0</td>\n",
       "      <td>… the child welfare field, as BP provide the i...</td>\n",
       "      <td>http://phoenixsinclairinquiry.ca/exhibits/exhi...</td>\n",
       "      <td>https://scholar.google.com/scholar?q=related:h...</td>\n",
       "    </tr>\n",
       "  </tbody>\n",
       "</table>\n",
       "<p>5 rows × 26 columns</p>\n",
       "</div>"
      ],
      "text/plain": [
       "   Cites      Authors                                              Title  \\\n",
       "0      1      M Turno  'Dai che mi vesto da puttana!': Cultural Repre...   \n",
       "1      1    Z Vaisman  A Cognitive-Behavioral Therapy Model for the T...   \n",
       "2      0      J Lammi  A genre analysis of Iain M. Banks' The Player ...   \n",
       "3     31  MR Davidson           A nurse's guide to women's mental health   \n",
       "4      3     A Wright        A review of best practices in child welfare   \n",
       "\n",
       "     Year Source            Publisher  \\\n",
       "0  2012.0    NaN             Citeseer   \n",
       "1  2012.0    NaN  search.proquest.com   \n",
       "2  2012.0    NaN         erepo.uef.fi   \n",
       "3  2012.0    NaN     books.google.com   \n",
       "4  2012.0    NaN     books.google.com   \n",
       "\n",
       "                                          ArticleURL  \\\n",
       "0  https://citeseerx.ist.psu.edu/viewdoc/download...   \n",
       "1  https://search.proquest.com/openview/e9d6eb306...   \n",
       "2  https://erepo.uef.fi/bitstream/handle/12345678...   \n",
       "3  https://books.google.com/books?hl=en&lr=&id=I3...   \n",
       "4  https://books.google.com/books?hl=en&lr=&id=hg...   \n",
       "\n",
       "                                            CitesURL  GSRank  \\\n",
       "0  https://scholar.google.com/scholar?cites=68233...      93   \n",
       "1  https://scholar.google.com/scholar?cites=14365...      27   \n",
       "2                                                NaN      82   \n",
       "3  https://scholar.google.com/scholar?cites=15456...      37   \n",
       "4  https://scholar.google.com/scholar?cites=13797...      48   \n",
       "\n",
       "             QueryDate  ... StartPage EndPage  ECC  CitesPerYear  \\\n",
       "0  2022-07-17 10:02:25  ...       NaN     NaN    1           0.1   \n",
       "1  2022-07-17 10:02:25  ...       NaN     NaN    1           0.1   \n",
       "2  2022-07-17 10:02:25  ...       NaN     NaN    0           0.0   \n",
       "3  2022-07-17 10:02:25  ...       NaN     NaN   31           3.1   \n",
       "4  2022-07-17 10:02:25  ...       NaN     NaN    3           0.3   \n",
       "\n",
       "   CitesPerAuthor  AuthorCount   Age  \\\n",
       "0               1            1  10.0   \n",
       "1               1            1  10.0   \n",
       "2               0            1  10.0   \n",
       "3              31            1  10.0   \n",
       "4               3            1  10.0   \n",
       "\n",
       "                                            Abstract  \\\n",
       "0  Nadia frantically tries to escape, chased by a...   \n",
       "1  … to impose such a classification in our next ...   \n",
       "2  … Sentient artificial intelligence has also be...   \n",
       "3  Named a 2013 Doody's Core Title! 2012 Third Pl...   \n",
       "4  … the child welfare field, as BP provide the i...   \n",
       "\n",
       "                                         FullTextURL  \\\n",
       "0  https://citeseerx.ist.psu.edu/viewdoc/download...   \n",
       "1                                                NaN   \n",
       "2  https://erepo.uef.fi/bitstream/handle/12345678...   \n",
       "3                                                NaN   \n",
       "4  http://phoenixsinclairinquiry.ca/exhibits/exhi...   \n",
       "\n",
       "                                          RelatedURL  \n",
       "0  https://scholar.google.com/scholar?q=related:x...  \n",
       "1  https://scholar.google.com/scholar?q=related:P...  \n",
       "2  https://scholar.google.com/scholar?q=related:n...  \n",
       "3  https://scholar.google.com/scholar?q=related:8...  \n",
       "4  https://scholar.google.com/scholar?q=related:h...  \n",
       "\n",
       "[5 rows x 26 columns]"
      ]
     },
     "execution_count": 2,
     "metadata": {},
     "output_type": "execute_result"
    }
   ],
   "source": [
    "# gathering up all the data from the files received in via Google Scholar search \n",
    "\n",
    "df1 = pd.read_csv('data/2012.csv')\n",
    "df2 = pd.read_csv('data/2013.csv')\n",
    "df3 = pd.read_csv('data/2014.csv')\n",
    "df4 = pd.read_csv('data/2015.csv')\n",
    "df5 = pd.read_csv('data/2016.csv')\n",
    "df6 = pd.read_csv('data/2017.csv')\n",
    "df7 = pd.read_csv('data/2018.csv')\n",
    "df8 = pd.read_csv('data/2019.csv')\n",
    "df9 = pd.read_csv('data/2020.csv')\n",
    "df10 = pd.read_csv('data/2021.csv')\n",
    "df11 = pd.read_csv('data/2022.csv')\n",
    "\n",
    "\n",
    "df = pd.concat([df1, df2, df3, df4, df5, df6, df7, df8, df9, df10, df11], ignore_index=True)\n",
    "df.head()"
   ]
  },
  {
   "cell_type": "code",
   "execution_count": 3,
   "metadata": {},
   "outputs": [
    {
     "data": {
      "text/plain": [
       "Index(['Cites', 'Authors', 'Title', 'Year', 'Source', 'Publisher',\n",
       "       'ArticleURL', 'CitesURL', 'GSRank', 'QueryDate', 'Type', 'DOI', 'ISSN',\n",
       "       'CitationURL', 'Volume', 'Issue', 'StartPage', 'EndPage', 'ECC',\n",
       "       'CitesPerYear', 'CitesPerAuthor', 'AuthorCount', 'Age', 'Abstract',\n",
       "       'FullTextURL', 'RelatedURL'],\n",
       "      dtype='object')"
      ]
     },
     "execution_count": 3,
     "metadata": {},
     "output_type": "execute_result"
    }
   ],
   "source": [
    "# View the columns\n",
    "df.columns"
   ]
  },
  {
   "cell_type": "code",
   "execution_count": 4,
   "metadata": {},
   "outputs": [
    {
     "data": {
      "text/plain": [
       "ArticleURL    https://link.springer.com/article/10.1007/s105...\n",
       "Name: 10, dtype: object"
      ]
     },
     "execution_count": 4,
     "metadata": {},
     "output_type": "execute_result"
    }
   ],
   "source": [
    "df[['ArticleURL']].iloc[10]  #not in full-text #difficult to scrape web data"
   ]
  },
  {
   "cell_type": "code",
   "execution_count": 5,
   "metadata": {},
   "outputs": [
    {
     "data": {
      "text/plain": [
       "arXiv preprint arXiv …                                   85\n",
       "api.taylorfrancis.com                                    34\n",
       "researchgate.net                                         27\n",
       "Journal of …                                             26\n",
       "Proceedings of the …                                     24\n",
       "                                                         ..\n",
       "CENTRAL EUROPEAN POLITICAL SCIENCE                        1\n",
       "The Kaleidoscope of Gender: Prisms, Patterns, and …       1\n",
       "Busted! The Truth about the 50 Most Common Internet …     1\n",
       "Psychology, Crime & Law                                   1\n",
       "CHI Conference on Human Factors in …                      1\n",
       "Name: Source, Length: 1581, dtype: int64"
      ]
     },
     "execution_count": 5,
     "metadata": {},
     "output_type": "execute_result"
    }
   ],
   "source": [
    "df['Source'].value_counts()\n",
    "\n",
    "# shows a lot of preprints, and it occupies the largest share of the lot"
   ]
  },
  {
   "cell_type": "code",
   "execution_count": 6,
   "metadata": {},
   "outputs": [
    {
     "data": {
      "text/plain": [
       "3892"
      ]
     },
     "execution_count": 6,
     "metadata": {},
     "output_type": "execute_result"
    }
   ],
   "source": [
    "df['Source'].isna().count() \n",
    "# The high number of NA could be because of a large number of preprints"
   ]
  },
  {
   "attachments": {},
   "cell_type": "markdown",
   "metadata": {},
   "source": [
    "### Years"
   ]
  },
  {
   "cell_type": "code",
   "execution_count": 7,
   "metadata": {},
   "outputs": [],
   "source": [
    "df['Year'] = pd.to_datetime(df['Year'], format='%Y').dt.strftime('%Y')\n",
    "df = df[~(df['Year'] < '2012')] # Seems like there were a few examples which dated before 2012"
   ]
  },
  {
   "cell_type": "code",
   "execution_count": 8,
   "metadata": {},
   "outputs": [
    {
     "data": {
      "text/html": [
       "<div>\n",
       "<style scoped>\n",
       "    .dataframe tbody tr th:only-of-type {\n",
       "        vertical-align: middle;\n",
       "    }\n",
       "\n",
       "    .dataframe tbody tr th {\n",
       "        vertical-align: top;\n",
       "    }\n",
       "\n",
       "    .dataframe thead th {\n",
       "        text-align: right;\n",
       "    }\n",
       "</style>\n",
       "<table border=\"1\" class=\"dataframe\">\n",
       "  <thead>\n",
       "    <tr style=\"text-align: right;\">\n",
       "      <th></th>\n",
       "      <th>index</th>\n",
       "      <th>total</th>\n",
       "    </tr>\n",
       "  </thead>\n",
       "  <tbody>\n",
       "    <tr>\n",
       "      <th>2</th>\n",
       "      <td>2022</td>\n",
       "      <td>528</td>\n",
       "    </tr>\n",
       "    <tr>\n",
       "      <th>0</th>\n",
       "      <td>2021</td>\n",
       "      <td>883</td>\n",
       "    </tr>\n",
       "    <tr>\n",
       "      <th>1</th>\n",
       "      <td>2020</td>\n",
       "      <td>553</td>\n",
       "    </tr>\n",
       "    <tr>\n",
       "      <th>3</th>\n",
       "      <td>2019</td>\n",
       "      <td>462</td>\n",
       "    </tr>\n",
       "    <tr>\n",
       "      <th>4</th>\n",
       "      <td>2018</td>\n",
       "      <td>334</td>\n",
       "    </tr>\n",
       "    <tr>\n",
       "      <th>5</th>\n",
       "      <td>2017</td>\n",
       "      <td>237</td>\n",
       "    </tr>\n",
       "    <tr>\n",
       "      <th>6</th>\n",
       "      <td>2016</td>\n",
       "      <td>175</td>\n",
       "    </tr>\n",
       "    <tr>\n",
       "      <th>8</th>\n",
       "      <td>2015</td>\n",
       "      <td>108</td>\n",
       "    </tr>\n",
       "    <tr>\n",
       "      <th>7</th>\n",
       "      <td>2014</td>\n",
       "      <td>124</td>\n",
       "    </tr>\n",
       "    <tr>\n",
       "      <th>9</th>\n",
       "      <td>2013</td>\n",
       "      <td>107</td>\n",
       "    </tr>\n",
       "    <tr>\n",
       "      <th>10</th>\n",
       "      <td>2012</td>\n",
       "      <td>88</td>\n",
       "    </tr>\n",
       "  </tbody>\n",
       "</table>\n",
       "</div>"
      ],
      "text/plain": [
       "   index  total\n",
       "2   2022    528\n",
       "0   2021    883\n",
       "1   2020    553\n",
       "3   2019    462\n",
       "4   2018    334\n",
       "5   2017    237\n",
       "6   2016    175\n",
       "8   2015    108\n",
       "7   2014    124\n",
       "9   2013    107\n",
       "10  2012     88"
      ]
     },
     "execution_count": 8,
     "metadata": {},
     "output_type": "execute_result"
    }
   ],
   "source": [
    "n_years = df['Year'].value_counts().reset_index(name='total')\n",
    "n_years = n_years.sort_values(by=\"index\", ascending=False)[[\"index\", \"total\"]]\n",
    "n_years"
   ]
  },
  {
   "cell_type": "code",
   "execution_count": 9,
   "metadata": {},
   "outputs": [
    {
     "data": {
      "application/vnd.plotly.v1+json": {
       "config": {
        "plotlyServerURL": "https://plot.ly"
       },
       "data": [
        {
         "marker": {
          "line": {
           "color": "rgb(8,48,107)",
           "width": 1.5
          }
         },
         "name": "Years",
         "showlegend": false,
         "text": [
          528,
          883,
          553,
          462,
          334,
          237,
          175,
          108,
          124,
          107,
          88
         ],
         "textposition": "outside",
         "type": "bar",
         "x": [
          "2022",
          "2021",
          "2020",
          "2019",
          "2018",
          "2017",
          "2016",
          "2015",
          "2014",
          "2013",
          "2012"
         ],
         "xaxis": "x",
         "y": [
          528,
          883,
          553,
          462,
          334,
          237,
          175,
          108,
          124,
          107,
          88
         ],
         "yaxis": "y"
        }
       ],
       "layout": {
        "template": {
         "data": {
          "bar": [
           {
            "error_x": {
             "color": "#2a3f5f"
            },
            "error_y": {
             "color": "#2a3f5f"
            },
            "marker": {
             "line": {
              "color": "#E5ECF6",
              "width": 0.5
             },
             "pattern": {
              "fillmode": "overlay",
              "size": 10,
              "solidity": 0.2
             }
            },
            "type": "bar"
           }
          ],
          "barpolar": [
           {
            "marker": {
             "line": {
              "color": "#E5ECF6",
              "width": 0.5
             },
             "pattern": {
              "fillmode": "overlay",
              "size": 10,
              "solidity": 0.2
             }
            },
            "type": "barpolar"
           }
          ],
          "carpet": [
           {
            "aaxis": {
             "endlinecolor": "#2a3f5f",
             "gridcolor": "white",
             "linecolor": "white",
             "minorgridcolor": "white",
             "startlinecolor": "#2a3f5f"
            },
            "baxis": {
             "endlinecolor": "#2a3f5f",
             "gridcolor": "white",
             "linecolor": "white",
             "minorgridcolor": "white",
             "startlinecolor": "#2a3f5f"
            },
            "type": "carpet"
           }
          ],
          "choropleth": [
           {
            "colorbar": {
             "outlinewidth": 0,
             "ticks": ""
            },
            "type": "choropleth"
           }
          ],
          "contour": [
           {
            "colorbar": {
             "outlinewidth": 0,
             "ticks": ""
            },
            "colorscale": [
             [
              0,
              "#0d0887"
             ],
             [
              0.1111111111111111,
              "#46039f"
             ],
             [
              0.2222222222222222,
              "#7201a8"
             ],
             [
              0.3333333333333333,
              "#9c179e"
             ],
             [
              0.4444444444444444,
              "#bd3786"
             ],
             [
              0.5555555555555556,
              "#d8576b"
             ],
             [
              0.6666666666666666,
              "#ed7953"
             ],
             [
              0.7777777777777778,
              "#fb9f3a"
             ],
             [
              0.8888888888888888,
              "#fdca26"
             ],
             [
              1,
              "#f0f921"
             ]
            ],
            "type": "contour"
           }
          ],
          "contourcarpet": [
           {
            "colorbar": {
             "outlinewidth": 0,
             "ticks": ""
            },
            "type": "contourcarpet"
           }
          ],
          "heatmap": [
           {
            "colorbar": {
             "outlinewidth": 0,
             "ticks": ""
            },
            "colorscale": [
             [
              0,
              "#0d0887"
             ],
             [
              0.1111111111111111,
              "#46039f"
             ],
             [
              0.2222222222222222,
              "#7201a8"
             ],
             [
              0.3333333333333333,
              "#9c179e"
             ],
             [
              0.4444444444444444,
              "#bd3786"
             ],
             [
              0.5555555555555556,
              "#d8576b"
             ],
             [
              0.6666666666666666,
              "#ed7953"
             ],
             [
              0.7777777777777778,
              "#fb9f3a"
             ],
             [
              0.8888888888888888,
              "#fdca26"
             ],
             [
              1,
              "#f0f921"
             ]
            ],
            "type": "heatmap"
           }
          ],
          "heatmapgl": [
           {
            "colorbar": {
             "outlinewidth": 0,
             "ticks": ""
            },
            "colorscale": [
             [
              0,
              "#0d0887"
             ],
             [
              0.1111111111111111,
              "#46039f"
             ],
             [
              0.2222222222222222,
              "#7201a8"
             ],
             [
              0.3333333333333333,
              "#9c179e"
             ],
             [
              0.4444444444444444,
              "#bd3786"
             ],
             [
              0.5555555555555556,
              "#d8576b"
             ],
             [
              0.6666666666666666,
              "#ed7953"
             ],
             [
              0.7777777777777778,
              "#fb9f3a"
             ],
             [
              0.8888888888888888,
              "#fdca26"
             ],
             [
              1,
              "#f0f921"
             ]
            ],
            "type": "heatmapgl"
           }
          ],
          "histogram": [
           {
            "marker": {
             "pattern": {
              "fillmode": "overlay",
              "size": 10,
              "solidity": 0.2
             }
            },
            "type": "histogram"
           }
          ],
          "histogram2d": [
           {
            "colorbar": {
             "outlinewidth": 0,
             "ticks": ""
            },
            "colorscale": [
             [
              0,
              "#0d0887"
             ],
             [
              0.1111111111111111,
              "#46039f"
             ],
             [
              0.2222222222222222,
              "#7201a8"
             ],
             [
              0.3333333333333333,
              "#9c179e"
             ],
             [
              0.4444444444444444,
              "#bd3786"
             ],
             [
              0.5555555555555556,
              "#d8576b"
             ],
             [
              0.6666666666666666,
              "#ed7953"
             ],
             [
              0.7777777777777778,
              "#fb9f3a"
             ],
             [
              0.8888888888888888,
              "#fdca26"
             ],
             [
              1,
              "#f0f921"
             ]
            ],
            "type": "histogram2d"
           }
          ],
          "histogram2dcontour": [
           {
            "colorbar": {
             "outlinewidth": 0,
             "ticks": ""
            },
            "colorscale": [
             [
              0,
              "#0d0887"
             ],
             [
              0.1111111111111111,
              "#46039f"
             ],
             [
              0.2222222222222222,
              "#7201a8"
             ],
             [
              0.3333333333333333,
              "#9c179e"
             ],
             [
              0.4444444444444444,
              "#bd3786"
             ],
             [
              0.5555555555555556,
              "#d8576b"
             ],
             [
              0.6666666666666666,
              "#ed7953"
             ],
             [
              0.7777777777777778,
              "#fb9f3a"
             ],
             [
              0.8888888888888888,
              "#fdca26"
             ],
             [
              1,
              "#f0f921"
             ]
            ],
            "type": "histogram2dcontour"
           }
          ],
          "mesh3d": [
           {
            "colorbar": {
             "outlinewidth": 0,
             "ticks": ""
            },
            "type": "mesh3d"
           }
          ],
          "parcoords": [
           {
            "line": {
             "colorbar": {
              "outlinewidth": 0,
              "ticks": ""
             }
            },
            "type": "parcoords"
           }
          ],
          "pie": [
           {
            "automargin": true,
            "type": "pie"
           }
          ],
          "scatter": [
           {
            "fillpattern": {
             "fillmode": "overlay",
             "size": 10,
             "solidity": 0.2
            },
            "type": "scatter"
           }
          ],
          "scatter3d": [
           {
            "line": {
             "colorbar": {
              "outlinewidth": 0,
              "ticks": ""
             }
            },
            "marker": {
             "colorbar": {
              "outlinewidth": 0,
              "ticks": ""
             }
            },
            "type": "scatter3d"
           }
          ],
          "scattercarpet": [
           {
            "marker": {
             "colorbar": {
              "outlinewidth": 0,
              "ticks": ""
             }
            },
            "type": "scattercarpet"
           }
          ],
          "scattergeo": [
           {
            "marker": {
             "colorbar": {
              "outlinewidth": 0,
              "ticks": ""
             }
            },
            "type": "scattergeo"
           }
          ],
          "scattergl": [
           {
            "marker": {
             "colorbar": {
              "outlinewidth": 0,
              "ticks": ""
             }
            },
            "type": "scattergl"
           }
          ],
          "scattermapbox": [
           {
            "marker": {
             "colorbar": {
              "outlinewidth": 0,
              "ticks": ""
             }
            },
            "type": "scattermapbox"
           }
          ],
          "scatterpolar": [
           {
            "marker": {
             "colorbar": {
              "outlinewidth": 0,
              "ticks": ""
             }
            },
            "type": "scatterpolar"
           }
          ],
          "scatterpolargl": [
           {
            "marker": {
             "colorbar": {
              "outlinewidth": 0,
              "ticks": ""
             }
            },
            "type": "scatterpolargl"
           }
          ],
          "scatterternary": [
           {
            "marker": {
             "colorbar": {
              "outlinewidth": 0,
              "ticks": ""
             }
            },
            "type": "scatterternary"
           }
          ],
          "surface": [
           {
            "colorbar": {
             "outlinewidth": 0,
             "ticks": ""
            },
            "colorscale": [
             [
              0,
              "#0d0887"
             ],
             [
              0.1111111111111111,
              "#46039f"
             ],
             [
              0.2222222222222222,
              "#7201a8"
             ],
             [
              0.3333333333333333,
              "#9c179e"
             ],
             [
              0.4444444444444444,
              "#bd3786"
             ],
             [
              0.5555555555555556,
              "#d8576b"
             ],
             [
              0.6666666666666666,
              "#ed7953"
             ],
             [
              0.7777777777777778,
              "#fb9f3a"
             ],
             [
              0.8888888888888888,
              "#fdca26"
             ],
             [
              1,
              "#f0f921"
             ]
            ],
            "type": "surface"
           }
          ],
          "table": [
           {
            "cells": {
             "fill": {
              "color": "#EBF0F8"
             },
             "line": {
              "color": "white"
             }
            },
            "header": {
             "fill": {
              "color": "#C8D4E3"
             },
             "line": {
              "color": "white"
             }
            },
            "type": "table"
           }
          ]
         },
         "layout": {
          "annotationdefaults": {
           "arrowcolor": "#2a3f5f",
           "arrowhead": 0,
           "arrowwidth": 1
          },
          "autotypenumbers": "strict",
          "coloraxis": {
           "colorbar": {
            "outlinewidth": 0,
            "ticks": ""
           }
          },
          "colorscale": {
           "diverging": [
            [
             0,
             "#8e0152"
            ],
            [
             0.1,
             "#c51b7d"
            ],
            [
             0.2,
             "#de77ae"
            ],
            [
             0.3,
             "#f1b6da"
            ],
            [
             0.4,
             "#fde0ef"
            ],
            [
             0.5,
             "#f7f7f7"
            ],
            [
             0.6,
             "#e6f5d0"
            ],
            [
             0.7,
             "#b8e186"
            ],
            [
             0.8,
             "#7fbc41"
            ],
            [
             0.9,
             "#4d9221"
            ],
            [
             1,
             "#276419"
            ]
           ],
           "sequential": [
            [
             0,
             "#0d0887"
            ],
            [
             0.1111111111111111,
             "#46039f"
            ],
            [
             0.2222222222222222,
             "#7201a8"
            ],
            [
             0.3333333333333333,
             "#9c179e"
            ],
            [
             0.4444444444444444,
             "#bd3786"
            ],
            [
             0.5555555555555556,
             "#d8576b"
            ],
            [
             0.6666666666666666,
             "#ed7953"
            ],
            [
             0.7777777777777778,
             "#fb9f3a"
            ],
            [
             0.8888888888888888,
             "#fdca26"
            ],
            [
             1,
             "#f0f921"
            ]
           ],
           "sequentialminus": [
            [
             0,
             "#0d0887"
            ],
            [
             0.1111111111111111,
             "#46039f"
            ],
            [
             0.2222222222222222,
             "#7201a8"
            ],
            [
             0.3333333333333333,
             "#9c179e"
            ],
            [
             0.4444444444444444,
             "#bd3786"
            ],
            [
             0.5555555555555556,
             "#d8576b"
            ],
            [
             0.6666666666666666,
             "#ed7953"
            ],
            [
             0.7777777777777778,
             "#fb9f3a"
            ],
            [
             0.8888888888888888,
             "#fdca26"
            ],
            [
             1,
             "#f0f921"
            ]
           ]
          },
          "colorway": [
           "#636efa",
           "#EF553B",
           "#00cc96",
           "#ab63fa",
           "#FFA15A",
           "#19d3f3",
           "#FF6692",
           "#B6E880",
           "#FF97FF",
           "#FECB52"
          ],
          "font": {
           "color": "#2a3f5f"
          },
          "geo": {
           "bgcolor": "white",
           "lakecolor": "white",
           "landcolor": "#E5ECF6",
           "showlakes": true,
           "showland": true,
           "subunitcolor": "white"
          },
          "hoverlabel": {
           "align": "left"
          },
          "hovermode": "closest",
          "mapbox": {
           "style": "light"
          },
          "paper_bgcolor": "white",
          "plot_bgcolor": "#E5ECF6",
          "polar": {
           "angularaxis": {
            "gridcolor": "white",
            "linecolor": "white",
            "ticks": ""
           },
           "bgcolor": "#E5ECF6",
           "radialaxis": {
            "gridcolor": "white",
            "linecolor": "white",
            "ticks": ""
           }
          },
          "scene": {
           "xaxis": {
            "backgroundcolor": "#E5ECF6",
            "gridcolor": "white",
            "gridwidth": 2,
            "linecolor": "white",
            "showbackground": true,
            "ticks": "",
            "zerolinecolor": "white"
           },
           "yaxis": {
            "backgroundcolor": "#E5ECF6",
            "gridcolor": "white",
            "gridwidth": 2,
            "linecolor": "white",
            "showbackground": true,
            "ticks": "",
            "zerolinecolor": "white"
           },
           "zaxis": {
            "backgroundcolor": "#E5ECF6",
            "gridcolor": "white",
            "gridwidth": 2,
            "linecolor": "white",
            "showbackground": true,
            "ticks": "",
            "zerolinecolor": "white"
           }
          },
          "shapedefaults": {
           "line": {
            "color": "#2a3f5f"
           }
          },
          "ternary": {
           "aaxis": {
            "gridcolor": "white",
            "linecolor": "white",
            "ticks": ""
           },
           "baxis": {
            "gridcolor": "white",
            "linecolor": "white",
            "ticks": ""
           },
           "bgcolor": "#E5ECF6",
           "caxis": {
            "gridcolor": "white",
            "linecolor": "white",
            "ticks": ""
           }
          },
          "title": {
           "x": 0.05
          },
          "xaxis": {
           "automargin": true,
           "gridcolor": "white",
           "linecolor": "white",
           "ticks": "",
           "title": {
            "standoff": 15
           },
           "zerolinecolor": "white",
           "zerolinewidth": 2
          },
          "yaxis": {
           "automargin": true,
           "gridcolor": "white",
           "linecolor": "white",
           "ticks": "",
           "title": {
            "standoff": 15
           },
           "zerolinecolor": "white",
           "zerolinewidth": 2
          }
         }
        },
        "xaxis": {
         "anchor": "y",
         "domain": [
          0,
          1
         ]
        },
        "yaxis": {
         "anchor": "x",
         "domain": [
          0,
          1
         ],
         "range": [
          0,
          1000
         ]
        }
       }
      }
     },
     "metadata": {},
     "output_type": "display_data"
    }
   ],
   "source": [
    "fig = make_subplots(rows=1, cols=1, specs=[[{\"type\": \"bar\"}]])\n",
    "\n",
    "fig.add_trace(go.Bar(\n",
    "     x=n_years['index'], y=n_years['total'], showlegend=False,\n",
    "    text =n_years['total'], \n",
    "     name=\"Years\"), \n",
    "     row=1, col=1)\n",
    "fig.update_traces(textposition='outside', marker_line_color='rgb(8,48,107)',  marker_line_width=1.5)\n",
    "fig.update_yaxes(range=[0,1000])\n",
    "fig.show()"
   ]
  },
  {
   "attachments": {},
   "cell_type": "markdown",
   "metadata": {},
   "source": [
    "### Publishers"
   ]
  },
  {
   "cell_type": "code",
   "execution_count": 10,
   "metadata": {},
   "outputs": [
    {
     "data": {
      "text/plain": [
       "array(['Citeseer', 'search.proquest.com', 'erepo.uef.fi',\n",
       "       'books.google.com', 'liebertpub.com', 'api.taylorfrancis.com',\n",
       "       'Taylor & Francis', 'Springer', 'scipedia.com',\n",
       "       'taylorfrancis.com', 'thescholarship.ecu.edu', 'theses.fr', nan,\n",
       "       'blancharder.wordpress.com', 'dc.etsu.edu', 'journals.sagepub.com',\n",
       "       'academiccommons.columbia.edu', 'lurepository.lakeheadu.ca',\n",
       "       'psycnet.apa.org', 'core.ac.uk', 'researchgate.net',\n",
       "       'jbe-platform.com', 'd.lib.msu.edu', 'summit.sfu.ca',\n",
       "       'scholarworks.boisestate.edu', 'kisseng.kstudy.com',\n",
       "       'studenttheses.uu.nl', 'stars.library.ucf.edu',\n",
       "       'dr.library.brocku.ca', 'utpjournals.press',\n",
       "       'digital.lib.washington.edu', 'deepblue.lib.umich.edu',\n",
       "       'academia.edu', 'existenz.us', 'openaccess.wgtn.ac.nz',\n",
       "       'tel.archives-ouvertes.fr', 'torrossa.com', 'Google Patents',\n",
       "       'dashboard.commons.pacificu.edu',\n",
       "       'research-repository.griffith.edu.au', 'etd.ceu.edu', 'tdx.cat',\n",
       "       'rave.ohiolink.edu', 'scholarworks.moreheadstate.edu',\n",
       "       'repository.londonmet.ac.uk', 'escholarship.mcgill.ca',\n",
       "       'ingentaconnect.com', 'swe.org', 'firstmonday.org',\n",
       "       'unbscholar.lib.unb.ca', 'academic.oup.com', 'scirp.org',\n",
       "       'journals.uchicago.edu', 'btchflcks.com',\n",
       "       'cardinalscholar.bsu.edu', 'bac-lac.gc.ca', 'open.library.ubc.ca',\n",
       "       'ir.canterbury.ac.nz', 'shareok.org',\n",
       "       'elischolar.library.yale.edu', 'powereality.net',\n",
       "       'scholarworks.umass.edu', 'rc.library.uta.edu', 'bia.unibz.it',\n",
       "       'minds.wisconsin.edu', 'iopscience.iop.org', 'eige.europa.eu',\n",
       "       'scholarworks.waldenu.edu', 'scholarworks.gsu.edu', 'elastic.org',\n",
       "       'JSTOR', 'getd.libs.uga.edu', 'etheses.lse.ac.uk',\n",
       "       'englishlit.ege.edu.tr', 'jcdurbant.wordpress.com',\n",
       "       'scholarworks.smith.edu', 'ruor.uottawa.ca',\n",
       "       'researchcommons.waikato.ac.nz', 'igi-global.com', 'emerald.com',\n",
       "       'Elsevier', 'frontiersin.org', 'digitalcommons.odu.edu',\n",
       "       'pubsonline.informs.org', 'curve.carleton.ca', 'eprints.hud.ac.uk',\n",
       "       'repository.up.ac.za', 'hrcak.srce.hr', 'scholarship.miami.edu',\n",
       "       'era.library.ualberta.ca', 'oaktrust.library.tamu.edu',\n",
       "       \"St. Martin's Press\", 'repository.lib.ncsu.edu',\n",
       "       'ncbi.nlm.nih.gov', 'studentexperiencenetwork.org',\n",
       "       'repositories.lib.utexas.edu', 'ir.stonybrook.edu',\n",
       "       'digitalcommons.georgefox.edu', 'research.manchester.ac.uk',\n",
       "       'papyrus.bib.umontreal.ca', 'diva-portal.org', 'ceeol.com',\n",
       "       'sophia.stkate.edu', 'etda.libraries.psu.edu', 'degruyter.com',\n",
       "       'etd.auburn.edu', 'bearworks.missouristate.edu',\n",
       "       'ukzn-dspace.ukzn.ac.za', 'dspace.library.uvic.ca',\n",
       "       'gupea.ub.gu.se', 'scholarworks.montana.edu', 'cambridge.org',\n",
       "       'trace.tennessee.edu', 'scholarworks.csun.edu',\n",
       "       'journal.finfar.org', 'duo.uio.no', 'ikee.lib.auth.gr',\n",
       "       'scholarworks.calstate.edu', 'mountainscholar.org',\n",
       "       'aclanthology.org', 'etd.uwc.ac.za', 'sorelle.friedler.net',\n",
       "       'scholarworks.umt.edu', 'jscholarship.library.jhu.edu',\n",
       "       'vuir.vu.edu.au', 'sfsu-dspace.calstate.edu',\n",
       "       'openresearch.ocadu.ca', 'morganclaypool.com', 'newappsblog.com',\n",
       "       'uwspace.uwaterloo.ca', 'conservancy.umn.edu', 'doi.apa.org',\n",
       "       'HeinOnline', 'repository.uel.ac.uk', 'scholars.wlu.ca',\n",
       "       'cab.unime.it', 'digitalcommons.wku.edu', 'digitalcommons.unf.edu',\n",
       "       'mro.massey.ac.nz', 'dare.uva.nl', 'prostitutionresearch.com',\n",
       "       'commons.erau.edu', 'library.oapen.org', 'ojs.uwindsor.ca',\n",
       "       'd-scholarship.pitt.edu', 'tauja.ujaen.es', 'cdr.lib.unc.edu',\n",
       "       'orca.cardiff.ac.uk', 'erudit.org', 'ojcmt.net',\n",
       "       'escholarship.org', 'courses.media.mit.edu', 'Macmillan',\n",
       "       'essay.utwente.nl', 'ora.ox.ac.uk', 'scarab.bates.edu',\n",
       "       'Wiley Online Library', 'alandu.me',\n",
       "       'digitalcommons.pepperdine.edu', 'dspace.adu.ac.ae',\n",
       "       'ir.lib.uwo.ca', 'bdigital.ufp.pt', 'repository.uantwerpen.be',\n",
       "       'yorkspace.library.yorku.ca', 'WW Norton & Company',\n",
       "       'dspace.mit.edu', 'growthecon.com', 'portal.pacfa.org.au',\n",
       "       'dl.acm.org', 'lucris.lub.lu.se', 'tverezo.info',\n",
       "       'macsphere.mcmaster.ca', 'publications.iadb.org',\n",
       "       'online.ucpress.edu', 'Bloomsbury Publishing USA', 'whdl.org',\n",
       "       'Hachette UK', 'repository.usfca.edu',\n",
       "       'digitalcommons.umassglobal.edu', 'arctichealth.org', 'jyx.jyu.fi',\n",
       "       'ideals.illinois.edu', 'scholarspace.manoa.hawaii.edu',\n",
       "       'harvest.usask.ca', 'ir.vanderbilt.edu', 'iris.luiss.it',\n",
       "       'ssoar.info', 'psych.theclinics.com', 'eprints.bournemouth.ac.uk',\n",
       "       'dspace.calstate.edu', 'recil.ensinolusofona.pt', 'oxfordre.com',\n",
       "       'repo.iainbatusangkar.ac.id', 'apps.dtic.mil',\n",
       "       'repository.upenn.edu', 'direct.mit.edu',\n",
       "       'research.library.mun.ca', 'ceur-ws.org', 'eprints.gla.ac.uk',\n",
       "       'muse.jhu.edu', 'philpapers.org', 'arxiv.org',\n",
       "       'scholar.colorado.edu', 'kuscholarworks.ku.edu', 'cag.edu.tr',\n",
       "       'royalsocietypublishing.org', 'osf.io', 'eprints.lse.ac.uk',\n",
       "       'pure.itu.dk', 'mitpressonpubpub.mitpress.mit.edu',\n",
       "       'thesis.honors.olemiss.edu', 'brill.com',\n",
       "       'scholarlypublications …', 'kb.wisconsin.edu',\n",
       "       'dspace.ceid.org.tr', 'opus.lib.uts.edu.au', 'biblio.ugent.be',\n",
       "       'Random House', 'vb.mruni.eu', 'elgaronline.com',\n",
       "       'kennisopenbaarbestuur.nl', 'ieeexplore.ieee.org',\n",
       "       'repository.cityu.edu', 'mro-ns.massey.ac.nz', 'boa.unimib.it',\n",
       "       'personales.upv.es', 'ir.library.oregonstate.edu',\n",
       "       'papers.ssrn.com', 'ntnuopen.ntnu.no', 'scriptieprijs.be',\n",
       "       'Penguin', 'mdpi.com', 'globaledunet.org', 'eplus.uni-salzburg.at',\n",
       "       'uhu.es', 'scholarworks.uni.edu', 'bora.uib.no',\n",
       "       'zaguan.unizar.es', 'hatemeter.eu', 'upturn.org', 'econ.au.dk',\n",
       "       'Atlantic Monthly Press', 'spectrum.library.concordia.ca',\n",
       "       'uhcl-ir.tdl.org', 'cgspace.cgiar.org', 'scholar.archive.org',\n",
       "       'acrwebsite.org', 'digitalcommons.unomaha.edu',\n",
       "       'journals.openedition.org', 'digitalcommons.library.umaine.edu',\n",
       "       'tech.humanrights.gov.au', 'vc.bridgew.edu',\n",
       "       'Presse Universitaires de la …', 'pdfcookie.com', 'iris.unito.it',\n",
       "       'antiracist.org', 'repositorio.iscte-iul.pt',\n",
       "       'dignifiedhedonist.com', 'csueastbay-dspace.calstate.edu',\n",
       "       'ri.ufs.br', 'pdfs.semanticscholar.org', 'everydayconcerned.net',\n",
       "       'content.iospress.com', 'ddd.uab.cat',\n",
       "       'Melbourne Univ. Publishing', 'mds.marshall.edu',\n",
       "       'towardsdatascience.com', 'eprints.zu.edu.ua',\n",
       "       'scholarsmine.mst.edu', 'psyarxiv.com', 'search.informit.org',\n",
       "       'ma.edu.mk', 'twu-ir.tdl.org', 'eprints.whiterose.ac.uk',\n",
       "       'theseus.fi', 'cairn.info', 'ir.library.louisville.edu',\n",
       "       'lup.lub.lu.se', 'repository.graduateinstitute.ch',\n",
       "       'dspace.library.uu.nl', 'scholarcommons.sc.edu',\n",
       "       'eprints.soas.ac.uk', 'itforchange.net',\n",
       "       'nottingham-repository.worktribe.com', 'eprints.utar.edu.my',\n",
       "       'dergipark.org.tr', 'iro.uiowa.edu', 'egrove.olemiss.edu',\n",
       "       'riunet.upv.es', 'etheses.whiterose.ac.uk', 'uni-mainz.de',\n",
       "       'ELTE BTK Angol-Amerikai Intézet', 'digitalcommons.chapman.edu',\n",
       "       'repub.eur.nl', 'trepo.tuni.fi', 'SciELO Chile',\n",
       "       'repository.iiitd.edu.in', 'pure.hva.nl', 'clok.uclan.ac.uk',\n",
       "       'cl.uzh.ch', 'datasociety.net', 'comum.rcaap.pt',\n",
       "       'upcommons.upc.edu', 'digitalcommons.latech.edu',\n",
       "       'library2.smu.ca', 'scholarship.law.umn.edu', 'eprints.qut.edu.au',\n",
       "       'clarin-pl.eu', 'elib.osu.ru', 'alexandrato.com',\n",
       "       'rucforsk.ruc.dk', 'nova.newcastle.edu.au', 'winlp.org',\n",
       "       'World Scientific', 'aaai.org', 'repository.falmouth.ac.uk',\n",
       "       'openaccess.hacettepe.edu.tr', 'doria.fi', 'lawscopelibrary.com',\n",
       "       'discovery.ucl.ac.uk', 'dspace.bracu.ac.bd', 'turing.ac.uk',\n",
       "       'etheses.bham.ac.uk', 'redalyc.org', 'dspace.unive.it',\n",
       "       'helda.helsinki.fi', 'oda.oslomet.no', 'wcsaglobal.org',\n",
       "       'usa.anarchistlibraries.net', 'commons.ru.ac.za',\n",
       "       'griffithlawjournal.org', 'scitepress.org', 'tesi.luiss.it',\n",
       "       'robsoncrim.scholasticahq.com', 'local.cis.strath.ac.uk',\n",
       "       'dalspace.library.dal.ca', 'journals.uic.edu', 'euppublishing.com',\n",
       "       'scholarscompass.vcu.edu', 'nwmindia.org', 'ray.yorksj.ac.uk',\n",
       "       'mediarep.org', 'scholars.hkbu.edu.hk', 'MSU Press', 'ERIC',\n",
       "       'digitalcommons.tacoma.uw.edu', 'scholarworks.umb.edu',\n",
       "       'dro.deakin.edu.au', 'ruj.uj.edu.pl', 'repositorio.grial.eu',\n",
       "       'commons.allard.ubc.ca', 'e-spacio.uned.es',\n",
       "       'ffi-publikasjoner.archive …', 'ualresearchonline.arts.ac.uk',\n",
       "       'graduation.asu.edu', 'repositori.upf.edu',\n",
       "       'atrium.lib.uoguelph.ca', 'wrap.warwick.ac.uk', 'dspace.cuni.cz',\n",
       "       'uknowledge.uky.edu', 'livrepository.liverpool.ac.uk',\n",
       "       'Lantern Books', 'digitalcommons.humboldt.edu', 'digibug.ugr.es',\n",
       "       'nur.nu.edu.kz', 'digitalscholarship.unlv.edu', 'cms.wellcome.org',\n",
       "       'vtechworks.lib.vt.edu', 'open.uct.ac.za', 'aireuhl.github.io',\n",
       "       'demtech.oii.ox.ac.uk', 'uia.brage.unit.no',\n",
       "       'chesterrep.openrepository.com', 'ojs.aaai.org', 'pure.qub.ac.uk',\n",
       "       'digitalcommons.nl.edu', 'digitalcommons.library.tmc.edu',\n",
       "       'dspace.uevora.pt', 'journals.plos.org', 'repo.gchumanrights.org',\n",
       "       'openreview.net', 'meridian.allenpress.com',\n",
       "       'repository.ihu.edu.gr', 'digital.sandiego.edu',\n",
       "       'academicrepository.khas.edu.tr', 'nature.com', 'par.nsf.gov',\n",
       "       'digital.library.txstate.edu', 'files.emailmeform.com', 'jlcl.org',\n",
       "       'smartech.gatech.edu', 'huolab.psych.ucla.edu',\n",
       "       'caminoscastillayleon.es', 'iopn.library.illinois.edu',\n",
       "       '203.201.63.46', 'laborcenter.berkeley.edu',\n",
       "       'africanstudies.ugent.be', 'carnegieendowment.org',\n",
       "       '200.144.93.16', 'researchprotocols.org',\n",
       "       'mspace.lib.umanitoba.ca', 'openworks.wooster.edu',\n",
       "       'strathprints.strath.ac.uk', 'ijpsl.in',\n",
       "       'language-and-psychoanalysis.com',\n",
       "       'commonplace.knowledgefutures.org', 'search.ebscohost.com',\n",
       "       'ses.library.usyd.edu.au', 'arpi.unipi.it', 'hpi.de',\n",
       "       'openaccess.thecvf.com', 'researchportal.scu.edu.au',\n",
       "       'iris.unitn.it', 'centaur.reading.ac.uk', 'researchportal.vub.be',\n",
       "       'Jones & Bartlett Learning', 'csitcp.org', 'politesi.polimi.it',\n",
       "       'research-management.mq.edu.au', 'nsuworks.nova.edu',\n",
       "       'scholarlypublishingcollective.org', 'gbata.org',\n",
       "       'culturavisual.uji.es', 'raco.cat', 'globaldigitalfoundation.org',\n",
       "       'dash.harvard.edu', 'iris.unimore.it', 'researchrepository.ucd.ie',\n",
       "       'ssa.uchicago.edu', 'drive.google.com', 'mediatum.ub.tum.de',\n",
       "       'maxwell.vrac.puc-rio.br', 'cms.textgain.com',\n",
       "       'fisherpub.sjfc.edu', 'roderic.uv.es',\n",
       "       'robertcookofnorthbucks.com', 'eprints.bbk.ac.uk',\n",
       "       'publishup.uni-potsdam.de', 'longtermrisk.org', 'otago.ac.nz',\n",
       "       'urban.org', 'kpu.pressbooks.pub', 'PublicAffairs',\n",
       "       'SAGE Publications', 'repositorio.ufmg.br',\n",
       "       'reports-archive.adm.cs.cmu.edu', 'repositorio.ul.pt', 'um.edu.mt',\n",
       "       'virtualconferences.press', 'pure.mpg.de', 'peerj.com',\n",
       "       'lirias.kuleuven.be', 'elainehsiehphd.net', 'repositorio.ucp.pt',\n",
       "       'triple-c.at', 'journal.acs.org.au', 'ijam-web.org',\n",
       "       'manchesterhive.com', 'it.iceforest.net', 'prof.bht-berlin.de',\n",
       "       'MCD', 'via.library.depaul.edu', 'ideaexchange.uakron.edu',\n",
       "       'ejournals.epublishing.ekt.gr', 'revistatransilvania.ro',\n",
       "       'digitalcommons.denison.edu', 'epjds.epj.org',\n",
       "       'crownschool.uchicago.edu', 'e-lib.mslu.by',\n",
       "       'researchspace.bathspa.ac.uk', 'aiu.ac.in',\n",
       "       'openscreensjournal.com', 'jdc.jefferson.edu',\n",
       "       'publications.aston.ac.uk', 'journals.nauss.edu.sa', 'zora.uzh.ch',\n",
       "       'icon2021.nits.ac.in', 'eu.boell.org', 'fcic.periodistes.cat',\n",
       "       '95.183.240.85', 'turcomat.org', 'tigerprints.clemson.edu',\n",
       "       'repositorioinstitucional.ceu.es', 'resp.llas.ac.cn',\n",
       "       'research.gold.ac.uk', 'wally.journals.yorku.ca',\n",
       "       'digital.csic.es', 'idl-bnc-idrc.dspacedirect.org', 'dsq-sds.org',\n",
       "       'think-asia.org', 'weareoneamerica.org', 'rua.ua.es',\n",
       "       'gelbukh.com', 'Redleaf Press', '130.63.180.190',\n",
       "       'raw.githubusercontent.com', 'lyonsassessmentconsulting.com',\n",
       "       'jair.org', 'nber.org', 'crestresearch.ac.uk', 'ttu-ir.tdl.org',\n",
       "       'survey.unitec.ac.nz', 'sol.sbc.org.br', 'ebooks.iospress.nl',\n",
       "       'cimat.repositorioinstitucional.mx',\n",
       "       'digitaldemocracy.mcmaster.ca', 'historyofwomenphilosophers.org',\n",
       "       'dronewars.net', 'usenix.org', 'repositorio.uam.es',\n",
       "       'digitalvegan.net', 'epub.ub.uni-muenchen.de', 'skeyesmedia.org',\n",
       "       'hamptonthink.org', 'ekmair.ukma.edu.ua',\n",
       "       'Random House Trade Paperbacks', 'businesscommunication.org',\n",
       "       'pewresearch.org', 'appap.group.uq.edu.au', '103.47.12.35',\n",
       "       'jdsr.se', 'econstor.eu', 'corpus.ulaval.ca', 'todigra.org',\n",
       "       'oxfamilibrary.openrepository.com', 'rodin.uca.es', 'idea.int',\n",
       "       'pearl.plymouth.ac.uk', 'iris.unibocconi.it',\n",
       "       'Penguin Random House India …', 'anyflip.com',\n",
       "       'rifdt.instifdt.bg.ac.rs', 'stacks.cdc.gov', 'odr.chalmers.se',\n",
       "       'ec.msvu.ca', 'repositorio.sis.puc-campinas.edu.br',\n",
       "       'jurnalkesos.ui.ac.id', 'bristoluniversitypressdigital.com',\n",
       "       'polecom.org', 'repository.law.uic.edu', 'ojs3.uv.es',\n",
       "       'savoirs.usherbrooke.ca', 'pure.royalholloway.ac.uk',\n",
       "       'atlantis-press.com', 'digitalcommons.acu.edu', 'ppbri.org',\n",
       "       'qmro.qmul.ac.uk', 'heritage.kemenag.go.id',\n",
       "       'digitalcommons.fiu.edu', 'proceedings.neurips.cc',\n",
       "       'en.cs.uni-paderborn.de', 'oa.upm.es', 'go.gale.com',\n",
       "       'theses.ncl.ac.uk', 'engrxiv.org', 'oro.open.ac.uk',\n",
       "       'journal.sepln.org', 'j-institute.org', 'scholarworks.ace.edu',\n",
       "       'refubium.fu-berlin.de', 'repository.ust.hk', 'pan.webis.de',\n",
       "       'repository.canterbury.ac.uk', 'prism.ucalgary.ca',\n",
       "       'uaos.unios.hr', 'kups.ub.uni-koeln.de', 'users.nber.org',\n",
       "       'University of Iowa Press', 'journals.sfu.ca',\n",
       "       'antitraffickingreview.org', 'dradproject.com',\n",
       "       'digitalcommons.schulichlaw.dal.ca', 'lartis.sk',\n",
       "       'saspublishers.com', 'edizionicafoscari.unive.it',\n",
       "       'journals.suub.uni-bremen.de', 'acr.comm.or.kr', 'revistas.ufg.br',\n",
       "       'researchspace.auckland.ac.nz', 'etheses.dur.ac.uk',\n",
       "       'cs.brown.edu', 'journals.uwyo.edu', 'delfanti.org',\n",
       "       'Cornell University Press', 'sadil.ws', 'mospace.umsystem.edu',\n",
       "       'aprja.net', 'proceedings.mlr.press',\n",
       "       'socj.telkomuniversity.ac.id', 'ojs.library.ubc.ca',\n",
       "       'dialnet.unirioja.es', 'inf.uni-hamburg.de',\n",
       "       'nrl.northumbria.ac.uk', 'hiof.brage.unit.no',\n",
       "       'research-portal.uws.ac.uk', 'hindawi.com', 'isdglobal.org',\n",
       "       'scholarworks.iupui.edu', 'ASHA', 'marinacastellaneta.it',\n",
       "       'hal.inria.fr', 'cogitatiopress.com', 'scholar.sun.ac.za',\n",
       "       'itflows.eu', 'cjshayward.com', 'sophiakraenkel.com',\n",
       "       'archipel.uqam.ca', 'recercat.cat', 'read.dukeupress.edu',\n",
       "       'cyberleninka.ru', 'vps5.cloudfarm.it', 'dbpia.co.kr',\n",
       "       'epublications.regis.edu', 'pure.solent.ac.uk',\n",
       "       'digitalcommons.usmalibrary.org', 'ccc.inaoep.mx', 'jscires.org',\n",
       "       'journal.binus.ac.id', 'preprints.org', 'scholarcommons.scu.edu',\n",
       "       'revista.uclm.es', 'aaltodoc.aalto.fi', 'manchesteropenhive.com',\n",
       "       'researchsquare.com', 'spiedigitallibrary.org',\n",
       "       's-space.snu.ac.kr', 'hal.archives-ouvertes.fr',\n",
       "       'webthesis.biblio.polito.it', 'aisel.aisnet.org',\n",
       "       'East West University', 'era.ed.ac.uk',\n",
       "       'digitalcommons.liberty.edu', 'uis.brage.unit.no', 'doras.dcu.ie',\n",
       "       'techrxiv.org', 'itc.ktu.lt', 'openrepository.aut.ac.nz',\n",
       "       'ecoevorxiv.org', 'penerbit.uthm.edu.my',\n",
       "       'ir.library.illinoisstate.edu', 'dspace.dtu.ac.in',\n",
       "       'ans-names.pitt.edu', 'scholarshare.temple.edu',\n",
       "       'rucore.libraries.rutgers.edu', 'populismstudies.org',\n",
       "       'scholarworks.utrgv.edu', 'repositorium.sdum.uminho.pt',\n",
       "       'journals.lww.com', 'chwaraeteg.com',\n",
       "       'scholarlycommons.law.wlu.edu', 'run.unl.pt', 'flore.unifi.it',\n",
       "       'researchbank.ac.nz', 'view.ckcest.cn', 'canada.ca',\n",
       "       'scholarworks.uark.edu', 'cys.cic.ipn.mx', 'jmt.scholasticahq.com',\n",
       "       'gala.gre.ac.uk', 'tumbig.com', 'cs.cmu.edu'], dtype=object)"
      ]
     },
     "execution_count": 10,
     "metadata": {},
     "output_type": "execute_result"
    }
   ],
   "source": [
    "df['Publisher'].unique()"
   ]
  },
  {
   "cell_type": "code",
   "execution_count": 11,
   "metadata": {},
   "outputs": [],
   "source": [
    "df['Publisher'] = df['Publisher'].replace(['taylorfrancis.com', 'api.taylorfrancis.com'],'Taylor & Francis')\n",
    "df['Publisher'] = df['Publisher'].replace(['search.proquest.com'],'ProQuest')\n",
    "df['Publisher'] = df['Publisher'].replace(['taylorfrancis.com', 'api.taylorfrancis.com'],'Taylor & Francis')\n",
    "df['Publisher'] = df['Publisher'].replace(['books.google.com'],'Google Books')\n",
    "df['Publisher'] = df['Publisher'].replace(['erepo.uef.fi'],'UEF eRepo')\n",
    "df['Publisher'] = df['Publisher'].replace(['arxiv.org'],'arXiv')\n",
    "df['Publisher'] = df['Publisher'].replace(['journals.sagepub.com'],'SAGE Publications')\n",
    "df['Publisher'] = df['Publisher'].replace(['dl.acm.org'],'ACM Digital Library')\n",
    "df['Publisher'] = df['Publisher'].replace(['aclanthology.org'],'ACL Anthology')\n",
    "df['Publisher'] = df['Publisher'].replace(['ieeexplore.ieee.org'],'IEEE Xplore')\n",
    "df['Publisher'] = df['Publisher'].replace(['papers.ssrn.com'],'SSRN eLibrary')\n",
    "df['Publisher'] = df['Publisher'].replace(['mdpi.com'],'MDPI')\n",
    "df['Publisher'] = df['Publisher'].replace(['researchgate.net'],'ResearchGate')\n",
    "df['Publisher'] = df['Publisher'].replace(['psycnet.apa.org'],'APA Psycnet')\n",
    "df['Publisher'] = df['Publisher'].replace(['library.oapen.org'],'OAPEN')\n",
    "df['Publisher'] = df['Publisher'].replace(['ceur-ws.org'],'CEUR Workshop')\n",
    "df['Publisher'] = df['Publisher'].replace(['academia.edu'],'Academia.edu')\n",
    "df['Publisher'] = df['Publisher'].replace(['emerald.com'],'Emerald Publishing')\n",
    "df['Publisher'] = df['Publisher'].replace(['academic.oup.com'],'Oxford Academic')\n"
   ]
  },
  {
   "cell_type": "code",
   "execution_count": 12,
   "metadata": {},
   "outputs": [
    {
     "data": {
      "text/html": [
       "<div>\n",
       "<style scoped>\n",
       "    .dataframe tbody tr th:only-of-type {\n",
       "        vertical-align: middle;\n",
       "    }\n",
       "\n",
       "    .dataframe tbody tr th {\n",
       "        vertical-align: top;\n",
       "    }\n",
       "\n",
       "    .dataframe thead th {\n",
       "        text-align: right;\n",
       "    }\n",
       "</style>\n",
       "<table border=\"1\" class=\"dataframe\">\n",
       "  <thead>\n",
       "    <tr style=\"text-align: right;\">\n",
       "      <th></th>\n",
       "      <th>index</th>\n",
       "      <th>total</th>\n",
       "    </tr>\n",
       "  </thead>\n",
       "  <tbody>\n",
       "    <tr>\n",
       "      <th>0</th>\n",
       "      <td>Taylor &amp; Francis</td>\n",
       "      <td>706</td>\n",
       "    </tr>\n",
       "    <tr>\n",
       "      <th>1</th>\n",
       "      <td>Google Books</td>\n",
       "      <td>483</td>\n",
       "    </tr>\n",
       "    <tr>\n",
       "      <th>2</th>\n",
       "      <td>ProQuest</td>\n",
       "      <td>387</td>\n",
       "    </tr>\n",
       "    <tr>\n",
       "      <th>3</th>\n",
       "      <td>Springer</td>\n",
       "      <td>220</td>\n",
       "    </tr>\n",
       "    <tr>\n",
       "      <th>4</th>\n",
       "      <td>arXiv</td>\n",
       "      <td>148</td>\n",
       "    </tr>\n",
       "    <tr>\n",
       "      <th>5</th>\n",
       "      <td>SAGE Publications</td>\n",
       "      <td>66</td>\n",
       "    </tr>\n",
       "    <tr>\n",
       "      <th>6</th>\n",
       "      <td>ACM Digital Library</td>\n",
       "      <td>62</td>\n",
       "    </tr>\n",
       "    <tr>\n",
       "      <th>7</th>\n",
       "      <td>Elsevier</td>\n",
       "      <td>53</td>\n",
       "    </tr>\n",
       "    <tr>\n",
       "      <th>8</th>\n",
       "      <td>ACL Anthology</td>\n",
       "      <td>51</td>\n",
       "    </tr>\n",
       "    <tr>\n",
       "      <th>9</th>\n",
       "      <td>IEEE Xplore</td>\n",
       "      <td>51</td>\n",
       "    </tr>\n",
       "    <tr>\n",
       "      <th>10</th>\n",
       "      <td>SSRN eLibrary</td>\n",
       "      <td>41</td>\n",
       "    </tr>\n",
       "    <tr>\n",
       "      <th>11</th>\n",
       "      <td>HeinOnline</td>\n",
       "      <td>39</td>\n",
       "    </tr>\n",
       "    <tr>\n",
       "      <th>12</th>\n",
       "      <td>MDPI</td>\n",
       "      <td>38</td>\n",
       "    </tr>\n",
       "    <tr>\n",
       "      <th>13</th>\n",
       "      <td>ResearchGate</td>\n",
       "      <td>31</td>\n",
       "    </tr>\n",
       "    <tr>\n",
       "      <th>14</th>\n",
       "      <td>APA Psycnet</td>\n",
       "      <td>30</td>\n",
       "    </tr>\n",
       "    <tr>\n",
       "      <th>15</th>\n",
       "      <td>OAPEN</td>\n",
       "      <td>24</td>\n",
       "    </tr>\n",
       "    <tr>\n",
       "      <th>16</th>\n",
       "      <td>CEUR Workshop</td>\n",
       "      <td>24</td>\n",
       "    </tr>\n",
       "    <tr>\n",
       "      <th>17</th>\n",
       "      <td>Academia.edu</td>\n",
       "      <td>23</td>\n",
       "    </tr>\n",
       "    <tr>\n",
       "      <th>18</th>\n",
       "      <td>Emerald Publishing</td>\n",
       "      <td>19</td>\n",
       "    </tr>\n",
       "    <tr>\n",
       "      <th>19</th>\n",
       "      <td>Oxford Academic</td>\n",
       "      <td>18</td>\n",
       "    </tr>\n",
       "  </tbody>\n",
       "</table>\n",
       "</div>"
      ],
      "text/plain": [
       "                  index  total\n",
       "0      Taylor & Francis    706\n",
       "1          Google Books    483\n",
       "2              ProQuest    387\n",
       "3              Springer    220\n",
       "4                 arXiv    148\n",
       "5     SAGE Publications     66\n",
       "6   ACM Digital Library     62\n",
       "7              Elsevier     53\n",
       "8         ACL Anthology     51\n",
       "9           IEEE Xplore     51\n",
       "10        SSRN eLibrary     41\n",
       "11           HeinOnline     39\n",
       "12                 MDPI     38\n",
       "13         ResearchGate     31\n",
       "14          APA Psycnet     30\n",
       "15                OAPEN     24\n",
       "16        CEUR Workshop     24\n",
       "17         Academia.edu     23\n",
       "18   Emerald Publishing     19\n",
       "19      Oxford Academic     18"
      ]
     },
     "execution_count": 12,
     "metadata": {},
     "output_type": "execute_result"
    }
   ],
   "source": [
    "# Viewing only top 20 publishers to check their count\n",
    "n_publishers = df['Publisher'].value_counts().reset_index(name='total')[:20]\n",
    "n_publishers = n_publishers.sort_values(by=\"total\", ascending=False)[[\"index\", \"total\"]]\n",
    "n_publishers"
   ]
  },
  {
   "cell_type": "code",
   "execution_count": 13,
   "metadata": {},
   "outputs": [
    {
     "data": {
      "application/vnd.plotly.v1+json": {
       "config": {
        "plotlyServerURL": "https://plot.ly"
       },
       "data": [
        {
         "marker": {
          "line": {
           "color": "rgb(8,48,107)",
           "width": 1
          }
         },
         "name": "Top 20 Publishers",
         "showlegend": false,
         "text": [
          706,
          483,
          387,
          220,
          148,
          66,
          62,
          53,
          51,
          51,
          41,
          39,
          38,
          31,
          30,
          24,
          24,
          23,
          19,
          18
         ],
         "textposition": "outside",
         "type": "bar",
         "x": [
          "Taylor & Francis",
          "Google Books",
          "ProQuest",
          "Springer",
          "arXiv",
          "SAGE Publications",
          "ACM Digital Library",
          "Elsevier",
          "ACL Anthology",
          "IEEE Xplore",
          "SSRN eLibrary",
          "HeinOnline",
          "MDPI",
          "ResearchGate",
          "APA Psycnet",
          "OAPEN",
          "CEUR Workshop",
          "Academia.edu",
          "Emerald Publishing",
          "Oxford Academic"
         ],
         "xaxis": "x",
         "y": [
          706,
          483,
          387,
          220,
          148,
          66,
          62,
          53,
          51,
          51,
          41,
          39,
          38,
          31,
          30,
          24,
          24,
          23,
          19,
          18
         ],
         "yaxis": "y"
        }
       ],
       "layout": {
        "template": {
         "data": {
          "bar": [
           {
            "error_x": {
             "color": "#2a3f5f"
            },
            "error_y": {
             "color": "#2a3f5f"
            },
            "marker": {
             "line": {
              "color": "#E5ECF6",
              "width": 0.5
             },
             "pattern": {
              "fillmode": "overlay",
              "size": 10,
              "solidity": 0.2
             }
            },
            "type": "bar"
           }
          ],
          "barpolar": [
           {
            "marker": {
             "line": {
              "color": "#E5ECF6",
              "width": 0.5
             },
             "pattern": {
              "fillmode": "overlay",
              "size": 10,
              "solidity": 0.2
             }
            },
            "type": "barpolar"
           }
          ],
          "carpet": [
           {
            "aaxis": {
             "endlinecolor": "#2a3f5f",
             "gridcolor": "white",
             "linecolor": "white",
             "minorgridcolor": "white",
             "startlinecolor": "#2a3f5f"
            },
            "baxis": {
             "endlinecolor": "#2a3f5f",
             "gridcolor": "white",
             "linecolor": "white",
             "minorgridcolor": "white",
             "startlinecolor": "#2a3f5f"
            },
            "type": "carpet"
           }
          ],
          "choropleth": [
           {
            "colorbar": {
             "outlinewidth": 0,
             "ticks": ""
            },
            "type": "choropleth"
           }
          ],
          "contour": [
           {
            "colorbar": {
             "outlinewidth": 0,
             "ticks": ""
            },
            "colorscale": [
             [
              0,
              "#0d0887"
             ],
             [
              0.1111111111111111,
              "#46039f"
             ],
             [
              0.2222222222222222,
              "#7201a8"
             ],
             [
              0.3333333333333333,
              "#9c179e"
             ],
             [
              0.4444444444444444,
              "#bd3786"
             ],
             [
              0.5555555555555556,
              "#d8576b"
             ],
             [
              0.6666666666666666,
              "#ed7953"
             ],
             [
              0.7777777777777778,
              "#fb9f3a"
             ],
             [
              0.8888888888888888,
              "#fdca26"
             ],
             [
              1,
              "#f0f921"
             ]
            ],
            "type": "contour"
           }
          ],
          "contourcarpet": [
           {
            "colorbar": {
             "outlinewidth": 0,
             "ticks": ""
            },
            "type": "contourcarpet"
           }
          ],
          "heatmap": [
           {
            "colorbar": {
             "outlinewidth": 0,
             "ticks": ""
            },
            "colorscale": [
             [
              0,
              "#0d0887"
             ],
             [
              0.1111111111111111,
              "#46039f"
             ],
             [
              0.2222222222222222,
              "#7201a8"
             ],
             [
              0.3333333333333333,
              "#9c179e"
             ],
             [
              0.4444444444444444,
              "#bd3786"
             ],
             [
              0.5555555555555556,
              "#d8576b"
             ],
             [
              0.6666666666666666,
              "#ed7953"
             ],
             [
              0.7777777777777778,
              "#fb9f3a"
             ],
             [
              0.8888888888888888,
              "#fdca26"
             ],
             [
              1,
              "#f0f921"
             ]
            ],
            "type": "heatmap"
           }
          ],
          "heatmapgl": [
           {
            "colorbar": {
             "outlinewidth": 0,
             "ticks": ""
            },
            "colorscale": [
             [
              0,
              "#0d0887"
             ],
             [
              0.1111111111111111,
              "#46039f"
             ],
             [
              0.2222222222222222,
              "#7201a8"
             ],
             [
              0.3333333333333333,
              "#9c179e"
             ],
             [
              0.4444444444444444,
              "#bd3786"
             ],
             [
              0.5555555555555556,
              "#d8576b"
             ],
             [
              0.6666666666666666,
              "#ed7953"
             ],
             [
              0.7777777777777778,
              "#fb9f3a"
             ],
             [
              0.8888888888888888,
              "#fdca26"
             ],
             [
              1,
              "#f0f921"
             ]
            ],
            "type": "heatmapgl"
           }
          ],
          "histogram": [
           {
            "marker": {
             "pattern": {
              "fillmode": "overlay",
              "size": 10,
              "solidity": 0.2
             }
            },
            "type": "histogram"
           }
          ],
          "histogram2d": [
           {
            "colorbar": {
             "outlinewidth": 0,
             "ticks": ""
            },
            "colorscale": [
             [
              0,
              "#0d0887"
             ],
             [
              0.1111111111111111,
              "#46039f"
             ],
             [
              0.2222222222222222,
              "#7201a8"
             ],
             [
              0.3333333333333333,
              "#9c179e"
             ],
             [
              0.4444444444444444,
              "#bd3786"
             ],
             [
              0.5555555555555556,
              "#d8576b"
             ],
             [
              0.6666666666666666,
              "#ed7953"
             ],
             [
              0.7777777777777778,
              "#fb9f3a"
             ],
             [
              0.8888888888888888,
              "#fdca26"
             ],
             [
              1,
              "#f0f921"
             ]
            ],
            "type": "histogram2d"
           }
          ],
          "histogram2dcontour": [
           {
            "colorbar": {
             "outlinewidth": 0,
             "ticks": ""
            },
            "colorscale": [
             [
              0,
              "#0d0887"
             ],
             [
              0.1111111111111111,
              "#46039f"
             ],
             [
              0.2222222222222222,
              "#7201a8"
             ],
             [
              0.3333333333333333,
              "#9c179e"
             ],
             [
              0.4444444444444444,
              "#bd3786"
             ],
             [
              0.5555555555555556,
              "#d8576b"
             ],
             [
              0.6666666666666666,
              "#ed7953"
             ],
             [
              0.7777777777777778,
              "#fb9f3a"
             ],
             [
              0.8888888888888888,
              "#fdca26"
             ],
             [
              1,
              "#f0f921"
             ]
            ],
            "type": "histogram2dcontour"
           }
          ],
          "mesh3d": [
           {
            "colorbar": {
             "outlinewidth": 0,
             "ticks": ""
            },
            "type": "mesh3d"
           }
          ],
          "parcoords": [
           {
            "line": {
             "colorbar": {
              "outlinewidth": 0,
              "ticks": ""
             }
            },
            "type": "parcoords"
           }
          ],
          "pie": [
           {
            "automargin": true,
            "type": "pie"
           }
          ],
          "scatter": [
           {
            "fillpattern": {
             "fillmode": "overlay",
             "size": 10,
             "solidity": 0.2
            },
            "type": "scatter"
           }
          ],
          "scatter3d": [
           {
            "line": {
             "colorbar": {
              "outlinewidth": 0,
              "ticks": ""
             }
            },
            "marker": {
             "colorbar": {
              "outlinewidth": 0,
              "ticks": ""
             }
            },
            "type": "scatter3d"
           }
          ],
          "scattercarpet": [
           {
            "marker": {
             "colorbar": {
              "outlinewidth": 0,
              "ticks": ""
             }
            },
            "type": "scattercarpet"
           }
          ],
          "scattergeo": [
           {
            "marker": {
             "colorbar": {
              "outlinewidth": 0,
              "ticks": ""
             }
            },
            "type": "scattergeo"
           }
          ],
          "scattergl": [
           {
            "marker": {
             "colorbar": {
              "outlinewidth": 0,
              "ticks": ""
             }
            },
            "type": "scattergl"
           }
          ],
          "scattermapbox": [
           {
            "marker": {
             "colorbar": {
              "outlinewidth": 0,
              "ticks": ""
             }
            },
            "type": "scattermapbox"
           }
          ],
          "scatterpolar": [
           {
            "marker": {
             "colorbar": {
              "outlinewidth": 0,
              "ticks": ""
             }
            },
            "type": "scatterpolar"
           }
          ],
          "scatterpolargl": [
           {
            "marker": {
             "colorbar": {
              "outlinewidth": 0,
              "ticks": ""
             }
            },
            "type": "scatterpolargl"
           }
          ],
          "scatterternary": [
           {
            "marker": {
             "colorbar": {
              "outlinewidth": 0,
              "ticks": ""
             }
            },
            "type": "scatterternary"
           }
          ],
          "surface": [
           {
            "colorbar": {
             "outlinewidth": 0,
             "ticks": ""
            },
            "colorscale": [
             [
              0,
              "#0d0887"
             ],
             [
              0.1111111111111111,
              "#46039f"
             ],
             [
              0.2222222222222222,
              "#7201a8"
             ],
             [
              0.3333333333333333,
              "#9c179e"
             ],
             [
              0.4444444444444444,
              "#bd3786"
             ],
             [
              0.5555555555555556,
              "#d8576b"
             ],
             [
              0.6666666666666666,
              "#ed7953"
             ],
             [
              0.7777777777777778,
              "#fb9f3a"
             ],
             [
              0.8888888888888888,
              "#fdca26"
             ],
             [
              1,
              "#f0f921"
             ]
            ],
            "type": "surface"
           }
          ],
          "table": [
           {
            "cells": {
             "fill": {
              "color": "#EBF0F8"
             },
             "line": {
              "color": "white"
             }
            },
            "header": {
             "fill": {
              "color": "#C8D4E3"
             },
             "line": {
              "color": "white"
             }
            },
            "type": "table"
           }
          ]
         },
         "layout": {
          "annotationdefaults": {
           "arrowcolor": "#2a3f5f",
           "arrowhead": 0,
           "arrowwidth": 1
          },
          "autotypenumbers": "strict",
          "coloraxis": {
           "colorbar": {
            "outlinewidth": 0,
            "ticks": ""
           }
          },
          "colorscale": {
           "diverging": [
            [
             0,
             "#8e0152"
            ],
            [
             0.1,
             "#c51b7d"
            ],
            [
             0.2,
             "#de77ae"
            ],
            [
             0.3,
             "#f1b6da"
            ],
            [
             0.4,
             "#fde0ef"
            ],
            [
             0.5,
             "#f7f7f7"
            ],
            [
             0.6,
             "#e6f5d0"
            ],
            [
             0.7,
             "#b8e186"
            ],
            [
             0.8,
             "#7fbc41"
            ],
            [
             0.9,
             "#4d9221"
            ],
            [
             1,
             "#276419"
            ]
           ],
           "sequential": [
            [
             0,
             "#0d0887"
            ],
            [
             0.1111111111111111,
             "#46039f"
            ],
            [
             0.2222222222222222,
             "#7201a8"
            ],
            [
             0.3333333333333333,
             "#9c179e"
            ],
            [
             0.4444444444444444,
             "#bd3786"
            ],
            [
             0.5555555555555556,
             "#d8576b"
            ],
            [
             0.6666666666666666,
             "#ed7953"
            ],
            [
             0.7777777777777778,
             "#fb9f3a"
            ],
            [
             0.8888888888888888,
             "#fdca26"
            ],
            [
             1,
             "#f0f921"
            ]
           ],
           "sequentialminus": [
            [
             0,
             "#0d0887"
            ],
            [
             0.1111111111111111,
             "#46039f"
            ],
            [
             0.2222222222222222,
             "#7201a8"
            ],
            [
             0.3333333333333333,
             "#9c179e"
            ],
            [
             0.4444444444444444,
             "#bd3786"
            ],
            [
             0.5555555555555556,
             "#d8576b"
            ],
            [
             0.6666666666666666,
             "#ed7953"
            ],
            [
             0.7777777777777778,
             "#fb9f3a"
            ],
            [
             0.8888888888888888,
             "#fdca26"
            ],
            [
             1,
             "#f0f921"
            ]
           ]
          },
          "colorway": [
           "#636efa",
           "#EF553B",
           "#00cc96",
           "#ab63fa",
           "#FFA15A",
           "#19d3f3",
           "#FF6692",
           "#B6E880",
           "#FF97FF",
           "#FECB52"
          ],
          "font": {
           "color": "#2a3f5f"
          },
          "geo": {
           "bgcolor": "white",
           "lakecolor": "white",
           "landcolor": "#E5ECF6",
           "showlakes": true,
           "showland": true,
           "subunitcolor": "white"
          },
          "hoverlabel": {
           "align": "left"
          },
          "hovermode": "closest",
          "mapbox": {
           "style": "light"
          },
          "paper_bgcolor": "white",
          "plot_bgcolor": "#E5ECF6",
          "polar": {
           "angularaxis": {
            "gridcolor": "white",
            "linecolor": "white",
            "ticks": ""
           },
           "bgcolor": "#E5ECF6",
           "radialaxis": {
            "gridcolor": "white",
            "linecolor": "white",
            "ticks": ""
           }
          },
          "scene": {
           "xaxis": {
            "backgroundcolor": "#E5ECF6",
            "gridcolor": "white",
            "gridwidth": 2,
            "linecolor": "white",
            "showbackground": true,
            "ticks": "",
            "zerolinecolor": "white"
           },
           "yaxis": {
            "backgroundcolor": "#E5ECF6",
            "gridcolor": "white",
            "gridwidth": 2,
            "linecolor": "white",
            "showbackground": true,
            "ticks": "",
            "zerolinecolor": "white"
           },
           "zaxis": {
            "backgroundcolor": "#E5ECF6",
            "gridcolor": "white",
            "gridwidth": 2,
            "linecolor": "white",
            "showbackground": true,
            "ticks": "",
            "zerolinecolor": "white"
           }
          },
          "shapedefaults": {
           "line": {
            "color": "#2a3f5f"
           }
          },
          "ternary": {
           "aaxis": {
            "gridcolor": "white",
            "linecolor": "white",
            "ticks": ""
           },
           "baxis": {
            "gridcolor": "white",
            "linecolor": "white",
            "ticks": ""
           },
           "bgcolor": "#E5ECF6",
           "caxis": {
            "gridcolor": "white",
            "linecolor": "white",
            "ticks": ""
           }
          },
          "title": {
           "x": 0.05
          },
          "xaxis": {
           "automargin": true,
           "gridcolor": "white",
           "linecolor": "white",
           "ticks": "",
           "title": {
            "standoff": 15
           },
           "zerolinecolor": "white",
           "zerolinewidth": 2
          },
          "yaxis": {
           "automargin": true,
           "gridcolor": "white",
           "linecolor": "white",
           "ticks": "",
           "title": {
            "standoff": 15
           },
           "zerolinecolor": "white",
           "zerolinewidth": 2
          }
         }
        },
        "xaxis": {
         "anchor": "y",
         "domain": [
          0,
          1
         ]
        },
        "yaxis": {
         "anchor": "x",
         "domain": [
          0,
          1
         ],
         "range": [
          0,
          800
         ]
        }
       }
      }
     },
     "metadata": {},
     "output_type": "display_data"
    }
   ],
   "source": [
    "fig = make_subplots(rows=1, cols=1, specs=[[{\"type\": \"bar\"}]])\n",
    "\n",
    "fig.add_trace(go.Bar(\n",
    "     x=n_publishers['index'], y=n_publishers['total'], showlegend=False,\n",
    "    text =n_publishers['total'],\n",
    "     name=\"Top 20 Publishers\"), \n",
    "     row=1, col=1)\n",
    "fig.update_traces(textposition='outside', marker_line_color='rgb(8,48,107)',  marker_line_width=1)\n",
    "fig.update_yaxes(range=[0,800])\n",
    "fig"
   ]
  },
  {
   "cell_type": "code",
   "execution_count": 14,
   "metadata": {},
   "outputs": [
    {
     "data": {
      "application/vnd.plotly.v1+json": {
       "config": {
        "plotlyServerURL": "https://plot.ly"
       },
       "data": [
        {
         "marker": {
          "color": [
           "#1F77B4",
           "#FF7F0E",
           "#2CA02C",
           "rgb(255, 255, 51)",
           "rgb(127, 60, 141)",
           "#8C564B",
           "#BCBD22",
           "#17BECE",
           "#7F7F7F",
           "#222A2A",
           "rgb(228, 26, 28)"
          ],
          "line": {
           "color": "rgb(8,48,107)",
           "width": 1.5
          }
         },
         "name": "Top 10 publications",
         "showlegend": false,
         "text": [
          706,
          483,
          387,
          220,
          148,
          66,
          62,
          53,
          51,
          51
         ],
         "textposition": "outside",
         "type": "bar",
         "x": [
          "Taylor & Francis",
          "Google Books",
          "ProQuest",
          "Springer",
          "arXiv",
          "SAGE Publications",
          "ACM Digital Library",
          "Elsevier",
          "ACL Anthology",
          "IEEE Xplore"
         ],
         "xaxis": "x",
         "y": [
          706,
          483,
          387,
          220,
          148,
          66,
          62,
          53,
          51,
          51
         ],
         "yaxis": "y"
        },
        {
         "domain": {
          "x": [
           0.55,
           1
          ],
          "y": [
           0,
           1
          ]
         },
         "hole": 0.3,
         "labels": [
          "Taylor & Francis",
          "Google Books",
          "ProQuest",
          "Springer",
          "arXiv",
          "SAGE Publications",
          "ACM Digital Library",
          "Elsevier",
          "ACL Anthology",
          "IEEE Xplore",
          "Others"
         ],
         "marker": {
          "colors": [
           "#1F77B4",
           "#FF7F0E",
           "#2CA02C",
           "rgb(255, 255, 51)",
           "rgb(127, 60, 141)",
           "#8C564B",
           "#BCBD22",
           "#17BECE",
           "#7F7F7F",
           "#222A2A",
           "rgb(228, 26, 28)"
          ]
         },
         "name": "Publication groups",
         "pull": [
          0.025,
          0.025,
          0.025,
          0.025,
          0.025,
          0.025,
          0.025,
          0.025,
          0.025,
          0.025,
          0.025,
          0.025,
          0.025,
          0.025,
          0.025
         ],
         "type": "pie",
         "values": [
          706,
          483,
          387,
          220,
          148,
          66,
          62,
          53,
          51,
          51,
          1393
         ]
        }
       ],
       "layout": {
        "legend": {
         "orientation": "h",
         "x": 0.5,
         "xanchor": "center",
         "y": 1,
         "yanchor": "bottom"
        },
        "template": {
         "data": {
          "bar": [
           {
            "error_x": {
             "color": "#2a3f5f"
            },
            "error_y": {
             "color": "#2a3f5f"
            },
            "marker": {
             "line": {
              "color": "#E5ECF6",
              "width": 0.5
             },
             "pattern": {
              "fillmode": "overlay",
              "size": 10,
              "solidity": 0.2
             }
            },
            "type": "bar"
           }
          ],
          "barpolar": [
           {
            "marker": {
             "line": {
              "color": "#E5ECF6",
              "width": 0.5
             },
             "pattern": {
              "fillmode": "overlay",
              "size": 10,
              "solidity": 0.2
             }
            },
            "type": "barpolar"
           }
          ],
          "carpet": [
           {
            "aaxis": {
             "endlinecolor": "#2a3f5f",
             "gridcolor": "white",
             "linecolor": "white",
             "minorgridcolor": "white",
             "startlinecolor": "#2a3f5f"
            },
            "baxis": {
             "endlinecolor": "#2a3f5f",
             "gridcolor": "white",
             "linecolor": "white",
             "minorgridcolor": "white",
             "startlinecolor": "#2a3f5f"
            },
            "type": "carpet"
           }
          ],
          "choropleth": [
           {
            "colorbar": {
             "outlinewidth": 0,
             "ticks": ""
            },
            "type": "choropleth"
           }
          ],
          "contour": [
           {
            "colorbar": {
             "outlinewidth": 0,
             "ticks": ""
            },
            "colorscale": [
             [
              0,
              "#0d0887"
             ],
             [
              0.1111111111111111,
              "#46039f"
             ],
             [
              0.2222222222222222,
              "#7201a8"
             ],
             [
              0.3333333333333333,
              "#9c179e"
             ],
             [
              0.4444444444444444,
              "#bd3786"
             ],
             [
              0.5555555555555556,
              "#d8576b"
             ],
             [
              0.6666666666666666,
              "#ed7953"
             ],
             [
              0.7777777777777778,
              "#fb9f3a"
             ],
             [
              0.8888888888888888,
              "#fdca26"
             ],
             [
              1,
              "#f0f921"
             ]
            ],
            "type": "contour"
           }
          ],
          "contourcarpet": [
           {
            "colorbar": {
             "outlinewidth": 0,
             "ticks": ""
            },
            "type": "contourcarpet"
           }
          ],
          "heatmap": [
           {
            "colorbar": {
             "outlinewidth": 0,
             "ticks": ""
            },
            "colorscale": [
             [
              0,
              "#0d0887"
             ],
             [
              0.1111111111111111,
              "#46039f"
             ],
             [
              0.2222222222222222,
              "#7201a8"
             ],
             [
              0.3333333333333333,
              "#9c179e"
             ],
             [
              0.4444444444444444,
              "#bd3786"
             ],
             [
              0.5555555555555556,
              "#d8576b"
             ],
             [
              0.6666666666666666,
              "#ed7953"
             ],
             [
              0.7777777777777778,
              "#fb9f3a"
             ],
             [
              0.8888888888888888,
              "#fdca26"
             ],
             [
              1,
              "#f0f921"
             ]
            ],
            "type": "heatmap"
           }
          ],
          "heatmapgl": [
           {
            "colorbar": {
             "outlinewidth": 0,
             "ticks": ""
            },
            "colorscale": [
             [
              0,
              "#0d0887"
             ],
             [
              0.1111111111111111,
              "#46039f"
             ],
             [
              0.2222222222222222,
              "#7201a8"
             ],
             [
              0.3333333333333333,
              "#9c179e"
             ],
             [
              0.4444444444444444,
              "#bd3786"
             ],
             [
              0.5555555555555556,
              "#d8576b"
             ],
             [
              0.6666666666666666,
              "#ed7953"
             ],
             [
              0.7777777777777778,
              "#fb9f3a"
             ],
             [
              0.8888888888888888,
              "#fdca26"
             ],
             [
              1,
              "#f0f921"
             ]
            ],
            "type": "heatmapgl"
           }
          ],
          "histogram": [
           {
            "marker": {
             "pattern": {
              "fillmode": "overlay",
              "size": 10,
              "solidity": 0.2
             }
            },
            "type": "histogram"
           }
          ],
          "histogram2d": [
           {
            "colorbar": {
             "outlinewidth": 0,
             "ticks": ""
            },
            "colorscale": [
             [
              0,
              "#0d0887"
             ],
             [
              0.1111111111111111,
              "#46039f"
             ],
             [
              0.2222222222222222,
              "#7201a8"
             ],
             [
              0.3333333333333333,
              "#9c179e"
             ],
             [
              0.4444444444444444,
              "#bd3786"
             ],
             [
              0.5555555555555556,
              "#d8576b"
             ],
             [
              0.6666666666666666,
              "#ed7953"
             ],
             [
              0.7777777777777778,
              "#fb9f3a"
             ],
             [
              0.8888888888888888,
              "#fdca26"
             ],
             [
              1,
              "#f0f921"
             ]
            ],
            "type": "histogram2d"
           }
          ],
          "histogram2dcontour": [
           {
            "colorbar": {
             "outlinewidth": 0,
             "ticks": ""
            },
            "colorscale": [
             [
              0,
              "#0d0887"
             ],
             [
              0.1111111111111111,
              "#46039f"
             ],
             [
              0.2222222222222222,
              "#7201a8"
             ],
             [
              0.3333333333333333,
              "#9c179e"
             ],
             [
              0.4444444444444444,
              "#bd3786"
             ],
             [
              0.5555555555555556,
              "#d8576b"
             ],
             [
              0.6666666666666666,
              "#ed7953"
             ],
             [
              0.7777777777777778,
              "#fb9f3a"
             ],
             [
              0.8888888888888888,
              "#fdca26"
             ],
             [
              1,
              "#f0f921"
             ]
            ],
            "type": "histogram2dcontour"
           }
          ],
          "mesh3d": [
           {
            "colorbar": {
             "outlinewidth": 0,
             "ticks": ""
            },
            "type": "mesh3d"
           }
          ],
          "parcoords": [
           {
            "line": {
             "colorbar": {
              "outlinewidth": 0,
              "ticks": ""
             }
            },
            "type": "parcoords"
           }
          ],
          "pie": [
           {
            "automargin": true,
            "type": "pie"
           }
          ],
          "scatter": [
           {
            "fillpattern": {
             "fillmode": "overlay",
             "size": 10,
             "solidity": 0.2
            },
            "type": "scatter"
           }
          ],
          "scatter3d": [
           {
            "line": {
             "colorbar": {
              "outlinewidth": 0,
              "ticks": ""
             }
            },
            "marker": {
             "colorbar": {
              "outlinewidth": 0,
              "ticks": ""
             }
            },
            "type": "scatter3d"
           }
          ],
          "scattercarpet": [
           {
            "marker": {
             "colorbar": {
              "outlinewidth": 0,
              "ticks": ""
             }
            },
            "type": "scattercarpet"
           }
          ],
          "scattergeo": [
           {
            "marker": {
             "colorbar": {
              "outlinewidth": 0,
              "ticks": ""
             }
            },
            "type": "scattergeo"
           }
          ],
          "scattergl": [
           {
            "marker": {
             "colorbar": {
              "outlinewidth": 0,
              "ticks": ""
             }
            },
            "type": "scattergl"
           }
          ],
          "scattermapbox": [
           {
            "marker": {
             "colorbar": {
              "outlinewidth": 0,
              "ticks": ""
             }
            },
            "type": "scattermapbox"
           }
          ],
          "scatterpolar": [
           {
            "marker": {
             "colorbar": {
              "outlinewidth": 0,
              "ticks": ""
             }
            },
            "type": "scatterpolar"
           }
          ],
          "scatterpolargl": [
           {
            "marker": {
             "colorbar": {
              "outlinewidth": 0,
              "ticks": ""
             }
            },
            "type": "scatterpolargl"
           }
          ],
          "scatterternary": [
           {
            "marker": {
             "colorbar": {
              "outlinewidth": 0,
              "ticks": ""
             }
            },
            "type": "scatterternary"
           }
          ],
          "surface": [
           {
            "colorbar": {
             "outlinewidth": 0,
             "ticks": ""
            },
            "colorscale": [
             [
              0,
              "#0d0887"
             ],
             [
              0.1111111111111111,
              "#46039f"
             ],
             [
              0.2222222222222222,
              "#7201a8"
             ],
             [
              0.3333333333333333,
              "#9c179e"
             ],
             [
              0.4444444444444444,
              "#bd3786"
             ],
             [
              0.5555555555555556,
              "#d8576b"
             ],
             [
              0.6666666666666666,
              "#ed7953"
             ],
             [
              0.7777777777777778,
              "#fb9f3a"
             ],
             [
              0.8888888888888888,
              "#fdca26"
             ],
             [
              1,
              "#f0f921"
             ]
            ],
            "type": "surface"
           }
          ],
          "table": [
           {
            "cells": {
             "fill": {
              "color": "#EBF0F8"
             },
             "line": {
              "color": "white"
             }
            },
            "header": {
             "fill": {
              "color": "#C8D4E3"
             },
             "line": {
              "color": "white"
             }
            },
            "type": "table"
           }
          ]
         },
         "layout": {
          "annotationdefaults": {
           "arrowcolor": "#2a3f5f",
           "arrowhead": 0,
           "arrowwidth": 1
          },
          "autotypenumbers": "strict",
          "coloraxis": {
           "colorbar": {
            "outlinewidth": 0,
            "ticks": ""
           }
          },
          "colorscale": {
           "diverging": [
            [
             0,
             "#8e0152"
            ],
            [
             0.1,
             "#c51b7d"
            ],
            [
             0.2,
             "#de77ae"
            ],
            [
             0.3,
             "#f1b6da"
            ],
            [
             0.4,
             "#fde0ef"
            ],
            [
             0.5,
             "#f7f7f7"
            ],
            [
             0.6,
             "#e6f5d0"
            ],
            [
             0.7,
             "#b8e186"
            ],
            [
             0.8,
             "#7fbc41"
            ],
            [
             0.9,
             "#4d9221"
            ],
            [
             1,
             "#276419"
            ]
           ],
           "sequential": [
            [
             0,
             "#0d0887"
            ],
            [
             0.1111111111111111,
             "#46039f"
            ],
            [
             0.2222222222222222,
             "#7201a8"
            ],
            [
             0.3333333333333333,
             "#9c179e"
            ],
            [
             0.4444444444444444,
             "#bd3786"
            ],
            [
             0.5555555555555556,
             "#d8576b"
            ],
            [
             0.6666666666666666,
             "#ed7953"
            ],
            [
             0.7777777777777778,
             "#fb9f3a"
            ],
            [
             0.8888888888888888,
             "#fdca26"
            ],
            [
             1,
             "#f0f921"
            ]
           ],
           "sequentialminus": [
            [
             0,
             "#0d0887"
            ],
            [
             0.1111111111111111,
             "#46039f"
            ],
            [
             0.2222222222222222,
             "#7201a8"
            ],
            [
             0.3333333333333333,
             "#9c179e"
            ],
            [
             0.4444444444444444,
             "#bd3786"
            ],
            [
             0.5555555555555556,
             "#d8576b"
            ],
            [
             0.6666666666666666,
             "#ed7953"
            ],
            [
             0.7777777777777778,
             "#fb9f3a"
            ],
            [
             0.8888888888888888,
             "#fdca26"
            ],
            [
             1,
             "#f0f921"
            ]
           ]
          },
          "colorway": [
           "#636efa",
           "#EF553B",
           "#00cc96",
           "#ab63fa",
           "#FFA15A",
           "#19d3f3",
           "#FF6692",
           "#B6E880",
           "#FF97FF",
           "#FECB52"
          ],
          "font": {
           "color": "#2a3f5f"
          },
          "geo": {
           "bgcolor": "white",
           "lakecolor": "white",
           "landcolor": "#E5ECF6",
           "showlakes": true,
           "showland": true,
           "subunitcolor": "white"
          },
          "hoverlabel": {
           "align": "left"
          },
          "hovermode": "closest",
          "mapbox": {
           "style": "light"
          },
          "paper_bgcolor": "white",
          "plot_bgcolor": "#E5ECF6",
          "polar": {
           "angularaxis": {
            "gridcolor": "white",
            "linecolor": "white",
            "ticks": ""
           },
           "bgcolor": "#E5ECF6",
           "radialaxis": {
            "gridcolor": "white",
            "linecolor": "white",
            "ticks": ""
           }
          },
          "scene": {
           "xaxis": {
            "backgroundcolor": "#E5ECF6",
            "gridcolor": "white",
            "gridwidth": 2,
            "linecolor": "white",
            "showbackground": true,
            "ticks": "",
            "zerolinecolor": "white"
           },
           "yaxis": {
            "backgroundcolor": "#E5ECF6",
            "gridcolor": "white",
            "gridwidth": 2,
            "linecolor": "white",
            "showbackground": true,
            "ticks": "",
            "zerolinecolor": "white"
           },
           "zaxis": {
            "backgroundcolor": "#E5ECF6",
            "gridcolor": "white",
            "gridwidth": 2,
            "linecolor": "white",
            "showbackground": true,
            "ticks": "",
            "zerolinecolor": "white"
           }
          },
          "shapedefaults": {
           "line": {
            "color": "#2a3f5f"
           }
          },
          "ternary": {
           "aaxis": {
            "gridcolor": "white",
            "linecolor": "white",
            "ticks": ""
           },
           "baxis": {
            "gridcolor": "white",
            "linecolor": "white",
            "ticks": ""
           },
           "bgcolor": "#E5ECF6",
           "caxis": {
            "gridcolor": "white",
            "linecolor": "white",
            "ticks": ""
           }
          },
          "title": {
           "x": 0.05
          },
          "xaxis": {
           "automargin": true,
           "gridcolor": "white",
           "linecolor": "white",
           "ticks": "",
           "title": {
            "standoff": 15
           },
           "zerolinecolor": "white",
           "zerolinewidth": 2
          },
          "yaxis": {
           "automargin": true,
           "gridcolor": "white",
           "linecolor": "white",
           "ticks": "",
           "title": {
            "standoff": 15
           },
           "zerolinecolor": "white",
           "zerolinewidth": 2
          }
         }
        },
        "title": {
         "text": "Top 10 publications with most works on misogyny",
         "x": 0.5,
         "y": 0.985
        },
        "uniformtext": {
         "minsize": 8
        },
        "xaxis": {
         "anchor": "y",
         "domain": [
          0,
          0.45
         ]
        },
        "yaxis": {
         "anchor": "x",
         "domain": [
          0,
          1
         ],
         "range": [
          0,
          750
         ]
        }
       }
      }
     },
     "metadata": {},
     "output_type": "display_data"
    }
   ],
   "source": [
    "# Viewing the top 10 publishers vs the others\n",
    "\n",
    "colors = ['#1F77B4', '#FF7F0E', '#2CA02C', 'rgb(255, 255, 51)', 'rgb(127, 60, 141)', '#8C564B', '#BCBD22', '#17BECE', '#7F7F7F', '#222A2A', 'rgb(228, 26, 28)']\n",
    "\n",
    "top10pubs = df['Publisher'].value_counts()[:10].reset_index(name='total')\n",
    "\n",
    "fig = make_subplots(rows=1, cols=2, specs=[[{\"type\": \"bar\"}, {\"type\": \"pie\"}]])\n",
    "\n",
    "fig.add_trace(go.Bar(\n",
    "     x=top10pubs['index'], y=top10pubs['total'], showlegend=False,\n",
    "    text =top10pubs['total'],\n",
    "     name=\"Top 10 publications\"), \n",
    "     row=1, col=1)\n",
    "fig.update_yaxes(range=[0,750])\n",
    "fig.update_layout(uniformtext_minsize=8)\n",
    "fig.update_traces(textposition='outside', marker_color=colors, marker_line_color='rgb(8,48,107)',  marker_line_width=1.5)\n",
    "\n",
    "list_top10pubs = list(df['Publisher'].value_counts()[:10].keys())\n",
    "\n",
    "others_count = len(df.loc[~df['Publisher'].isin(list_top10pubs)].dropna(subset=['Publisher']))\n",
    "new_row = {'index': 'Others', 'total':others_count}\n",
    "top10pubs = top10pubs.append(new_row, ignore_index=True)\n",
    "\n",
    "# pull is given as a fraction of the pie radius\n",
    "fig.add_trace(go.Pie(\n",
    "     values=top10pubs['total'],\n",
    "     labels=top10pubs['index'].values, pull=[0.025, 0.025, 0.025, 0.025, 0.025, 0.025, 0.025, 0.025, 0.025, 0.025, 0.025, 0.025, 0.025, 0.025, 0.025], hole=.3, \n",
    "    marker_colors=colors,\n",
    "     name=\"Publication groups\"),\n",
    "    row=1, col=2)\n",
    "fig.update_layout(title_text='Top 10 publications with most works on misogyny', title_x=0.5, title_y=0.985,\n",
    "                 legend=dict(orientation=\"h\", yanchor=\"bottom\", y=1, xanchor=\"center\", x=0.5))\n",
    "\n",
    "fig.show()\n",
    "\n"
   ]
  },
  {
   "cell_type": "code",
   "execution_count": 15,
   "metadata": {},
   "outputs": [
    {
     "data": {
      "text/plain": [
       "array([nan, \"Journal of Women's Health\", 'Journal of Sexual Aggression',\n",
       "       ..., 'LGBTQ+ Family: An Interdisciplinary Journal',\n",
       "       'Journal of Library …', 'CHI Conference on Human Factors in …'],\n",
       "      dtype=object)"
      ]
     },
     "execution_count": 15,
     "metadata": {},
     "output_type": "execute_result"
    }
   ],
   "source": [
    "df['Source'].unique()"
   ]
  },
  {
   "cell_type": "code",
   "execution_count": 16,
   "metadata": {},
   "outputs": [
    {
     "data": {
      "text/plain": [
       "array(['PDF', 'BOOK', nan, 'HTML', 'CITATION', 'TXT'], dtype=object)"
      ]
     },
     "execution_count": 16,
     "metadata": {},
     "output_type": "execute_result"
    }
   ],
   "source": [
    "df['Type'].unique() #not useful AT ALL"
   ]
  },
  {
   "cell_type": "code",
   "execution_count": 17,
   "metadata": {},
   "outputs": [
    {
     "data": {
      "text/plain": [
       "                          1599\n",
       "Journal                    366\n",
       "Conference                  59\n",
       "Handbook                    33\n",
       "Encyclopedia                27\n",
       "Research                    18\n",
       "Journal, Research           16\n",
       "journal                     13\n",
       "handbook                     8\n",
       "research                     7\n",
       "Research, Encyclopedia       3\n",
       "Dissertation                 2\n",
       "Thesis                       2\n",
       "journal, research            2\n",
       "Journal, research            2\n",
       "Handbook, Research           2\n",
       "JOURNAL                      1\n",
       "Journal, Conference          1\n",
       "Book                         1\n",
       "conference                   1\n",
       "Conference, Research         1\n",
       "Name: Type of Source, dtype: int64"
      ]
     },
     "execution_count": 17,
     "metadata": {},
     "output_type": "execute_result"
    }
   ],
   "source": [
    "# Grouping the manuscript types together\n",
    "\n",
    "L = ['conference', 'journal', 'article', 'thesis', 'dissertation', \n",
    "     'handbook', 'report', 'book', 'encyclopedia', 'research']\n",
    "# article can be termed similar to journals, since usually they come together\n",
    "\n",
    "\n",
    "pat = '|'.join(r\"\\b{}\\b\".format(x) for x in L)\n",
    "\n",
    "df['Type of Source'] = df['Source'].str.findall(pat, flags=re.I).str.join(', ')\n",
    "\n",
    "df['Type of Source'].value_counts() # shows using 'research' as a keyword is redundant, and usually the other keyword is the important one\n",
    "# Also hence use extract instead of findall, and arrange the order of the keywords according to preference"
   ]
  },
  {
   "cell_type": "code",
   "execution_count": 18,
   "metadata": {},
   "outputs": [
    {
     "data": {
      "text/plain": [
       "Journal       401\n",
       "Book           71\n",
       "Conference     61\n",
       "Thesis         32\n",
       "Name: Type of Source, dtype: int64"
      ]
     },
     "execution_count": 18,
     "metadata": {},
     "output_type": "execute_result"
    }
   ],
   "source": [
    "df['Type of Source'] = df['Source'].str.extract('('+ pat + ')', expand=False, flags=re.I)\n",
    "df['Type of Source'] = df['Type of Source'].replace(['journal', 'JOURNAL'],'Journal')\n",
    "df['Type of Source'] = df['Type of Source'].replace(['conference'],'Conference')\n",
    "df['Type of Source'] = df['Type of Source'].replace(['handbook', 'Handbook', 'Encyclopedia'],'Book') # Can encyclopedia be clubbed as well?\n",
    "# and should I keep 'book' instead of handbook\n",
    "df['Type of Source'] = df['Type of Source'].replace(['Dissertation', 'Research', 'research'],'Thesis') # can research also be clubbed with this?\n",
    "\n",
    "df['Type of Source'].value_counts()"
   ]
  },
  {
   "cell_type": "code",
   "execution_count": 19,
   "metadata": {},
   "outputs": [
    {
     "data": {
      "application/vnd.plotly.v1+json": {
       "config": {
        "plotlyServerURL": "https://plot.ly"
       },
       "data": [
        {
         "alignmentgroup": "True",
         "hovertemplate": "sources=%{x}<br>count=%{text}<extra></extra>",
         "legendgroup": "Journal",
         "marker": {
          "color": "#FC6955",
          "pattern": {
           "shape": ""
          }
         },
         "name": "Journal",
         "offsetgroup": "Journal",
         "orientation": "v",
         "showlegend": true,
         "text": [
          401
         ],
         "textposition": "outside",
         "type": "bar",
         "x": [
          "Journal"
         ],
         "xaxis": "x",
         "y": [
          401
         ],
         "yaxis": "y"
        },
        {
         "alignmentgroup": "True",
         "hovertemplate": "sources=%{x}<br>count=%{text}<extra></extra>",
         "legendgroup": "Book",
         "marker": {
          "color": "rgb(255, 255, 51)",
          "pattern": {
           "shape": ""
          }
         },
         "name": "Book",
         "offsetgroup": "Book",
         "orientation": "v",
         "showlegend": true,
         "text": [
          71
         ],
         "textposition": "outside",
         "type": "bar",
         "x": [
          "Book"
         ],
         "xaxis": "x",
         "y": [
          71
         ],
         "yaxis": "y"
        },
        {
         "alignmentgroup": "True",
         "hovertemplate": "sources=%{x}<br>count=%{text}<extra></extra>",
         "legendgroup": "Thesis",
         "marker": {
          "color": "black",
          "pattern": {
           "shape": ""
          }
         },
         "name": "Thesis",
         "offsetgroup": "Thesis",
         "orientation": "v",
         "showlegend": true,
         "text": [
          61
         ],
         "textposition": "outside",
         "type": "bar",
         "x": [
          "Thesis"
         ],
         "xaxis": "x",
         "y": [
          61
         ],
         "yaxis": "y"
        },
        {
         "alignmentgroup": "True",
         "hovertemplate": "sources=%{x}<br>count=%{text}<extra></extra>",
         "legendgroup": "Conference",
         "marker": {
          "color": "rgb(47, 138, 196)",
          "pattern": {
           "shape": ""
          }
         },
         "name": "Conference",
         "offsetgroup": "Conference",
         "orientation": "v",
         "showlegend": true,
         "text": [
          32
         ],
         "textposition": "outside",
         "type": "bar",
         "x": [
          "Conference"
         ],
         "xaxis": "x",
         "y": [
          32
         ],
         "yaxis": "y"
        }
       ],
       "layout": {
        "barmode": "relative",
        "legend": {
         "title": {
          "text": "sources"
         },
         "tracegroupgap": 0,
         "x": 0.79,
         "xanchor": "right",
         "y": 0.59,
         "yanchor": "top"
        },
        "margin": {
         "t": 60
        },
        "template": {
         "data": {
          "bar": [
           {
            "error_x": {
             "color": "#2a3f5f"
            },
            "error_y": {
             "color": "#2a3f5f"
            },
            "marker": {
             "line": {
              "color": "#E5ECF6",
              "width": 0.5
             },
             "pattern": {
              "fillmode": "overlay",
              "size": 10,
              "solidity": 0.2
             }
            },
            "type": "bar"
           }
          ],
          "barpolar": [
           {
            "marker": {
             "line": {
              "color": "#E5ECF6",
              "width": 0.5
             },
             "pattern": {
              "fillmode": "overlay",
              "size": 10,
              "solidity": 0.2
             }
            },
            "type": "barpolar"
           }
          ],
          "carpet": [
           {
            "aaxis": {
             "endlinecolor": "#2a3f5f",
             "gridcolor": "white",
             "linecolor": "white",
             "minorgridcolor": "white",
             "startlinecolor": "#2a3f5f"
            },
            "baxis": {
             "endlinecolor": "#2a3f5f",
             "gridcolor": "white",
             "linecolor": "white",
             "minorgridcolor": "white",
             "startlinecolor": "#2a3f5f"
            },
            "type": "carpet"
           }
          ],
          "choropleth": [
           {
            "colorbar": {
             "outlinewidth": 0,
             "ticks": ""
            },
            "type": "choropleth"
           }
          ],
          "contour": [
           {
            "colorbar": {
             "outlinewidth": 0,
             "ticks": ""
            },
            "colorscale": [
             [
              0,
              "#0d0887"
             ],
             [
              0.1111111111111111,
              "#46039f"
             ],
             [
              0.2222222222222222,
              "#7201a8"
             ],
             [
              0.3333333333333333,
              "#9c179e"
             ],
             [
              0.4444444444444444,
              "#bd3786"
             ],
             [
              0.5555555555555556,
              "#d8576b"
             ],
             [
              0.6666666666666666,
              "#ed7953"
             ],
             [
              0.7777777777777778,
              "#fb9f3a"
             ],
             [
              0.8888888888888888,
              "#fdca26"
             ],
             [
              1,
              "#f0f921"
             ]
            ],
            "type": "contour"
           }
          ],
          "contourcarpet": [
           {
            "colorbar": {
             "outlinewidth": 0,
             "ticks": ""
            },
            "type": "contourcarpet"
           }
          ],
          "heatmap": [
           {
            "colorbar": {
             "outlinewidth": 0,
             "ticks": ""
            },
            "colorscale": [
             [
              0,
              "#0d0887"
             ],
             [
              0.1111111111111111,
              "#46039f"
             ],
             [
              0.2222222222222222,
              "#7201a8"
             ],
             [
              0.3333333333333333,
              "#9c179e"
             ],
             [
              0.4444444444444444,
              "#bd3786"
             ],
             [
              0.5555555555555556,
              "#d8576b"
             ],
             [
              0.6666666666666666,
              "#ed7953"
             ],
             [
              0.7777777777777778,
              "#fb9f3a"
             ],
             [
              0.8888888888888888,
              "#fdca26"
             ],
             [
              1,
              "#f0f921"
             ]
            ],
            "type": "heatmap"
           }
          ],
          "heatmapgl": [
           {
            "colorbar": {
             "outlinewidth": 0,
             "ticks": ""
            },
            "colorscale": [
             [
              0,
              "#0d0887"
             ],
             [
              0.1111111111111111,
              "#46039f"
             ],
             [
              0.2222222222222222,
              "#7201a8"
             ],
             [
              0.3333333333333333,
              "#9c179e"
             ],
             [
              0.4444444444444444,
              "#bd3786"
             ],
             [
              0.5555555555555556,
              "#d8576b"
             ],
             [
              0.6666666666666666,
              "#ed7953"
             ],
             [
              0.7777777777777778,
              "#fb9f3a"
             ],
             [
              0.8888888888888888,
              "#fdca26"
             ],
             [
              1,
              "#f0f921"
             ]
            ],
            "type": "heatmapgl"
           }
          ],
          "histogram": [
           {
            "marker": {
             "pattern": {
              "fillmode": "overlay",
              "size": 10,
              "solidity": 0.2
             }
            },
            "type": "histogram"
           }
          ],
          "histogram2d": [
           {
            "colorbar": {
             "outlinewidth": 0,
             "ticks": ""
            },
            "colorscale": [
             [
              0,
              "#0d0887"
             ],
             [
              0.1111111111111111,
              "#46039f"
             ],
             [
              0.2222222222222222,
              "#7201a8"
             ],
             [
              0.3333333333333333,
              "#9c179e"
             ],
             [
              0.4444444444444444,
              "#bd3786"
             ],
             [
              0.5555555555555556,
              "#d8576b"
             ],
             [
              0.6666666666666666,
              "#ed7953"
             ],
             [
              0.7777777777777778,
              "#fb9f3a"
             ],
             [
              0.8888888888888888,
              "#fdca26"
             ],
             [
              1,
              "#f0f921"
             ]
            ],
            "type": "histogram2d"
           }
          ],
          "histogram2dcontour": [
           {
            "colorbar": {
             "outlinewidth": 0,
             "ticks": ""
            },
            "colorscale": [
             [
              0,
              "#0d0887"
             ],
             [
              0.1111111111111111,
              "#46039f"
             ],
             [
              0.2222222222222222,
              "#7201a8"
             ],
             [
              0.3333333333333333,
              "#9c179e"
             ],
             [
              0.4444444444444444,
              "#bd3786"
             ],
             [
              0.5555555555555556,
              "#d8576b"
             ],
             [
              0.6666666666666666,
              "#ed7953"
             ],
             [
              0.7777777777777778,
              "#fb9f3a"
             ],
             [
              0.8888888888888888,
              "#fdca26"
             ],
             [
              1,
              "#f0f921"
             ]
            ],
            "type": "histogram2dcontour"
           }
          ],
          "mesh3d": [
           {
            "colorbar": {
             "outlinewidth": 0,
             "ticks": ""
            },
            "type": "mesh3d"
           }
          ],
          "parcoords": [
           {
            "line": {
             "colorbar": {
              "outlinewidth": 0,
              "ticks": ""
             }
            },
            "type": "parcoords"
           }
          ],
          "pie": [
           {
            "automargin": true,
            "type": "pie"
           }
          ],
          "scatter": [
           {
            "fillpattern": {
             "fillmode": "overlay",
             "size": 10,
             "solidity": 0.2
            },
            "type": "scatter"
           }
          ],
          "scatter3d": [
           {
            "line": {
             "colorbar": {
              "outlinewidth": 0,
              "ticks": ""
             }
            },
            "marker": {
             "colorbar": {
              "outlinewidth": 0,
              "ticks": ""
             }
            },
            "type": "scatter3d"
           }
          ],
          "scattercarpet": [
           {
            "marker": {
             "colorbar": {
              "outlinewidth": 0,
              "ticks": ""
             }
            },
            "type": "scattercarpet"
           }
          ],
          "scattergeo": [
           {
            "marker": {
             "colorbar": {
              "outlinewidth": 0,
              "ticks": ""
             }
            },
            "type": "scattergeo"
           }
          ],
          "scattergl": [
           {
            "marker": {
             "colorbar": {
              "outlinewidth": 0,
              "ticks": ""
             }
            },
            "type": "scattergl"
           }
          ],
          "scattermapbox": [
           {
            "marker": {
             "colorbar": {
              "outlinewidth": 0,
              "ticks": ""
             }
            },
            "type": "scattermapbox"
           }
          ],
          "scatterpolar": [
           {
            "marker": {
             "colorbar": {
              "outlinewidth": 0,
              "ticks": ""
             }
            },
            "type": "scatterpolar"
           }
          ],
          "scatterpolargl": [
           {
            "marker": {
             "colorbar": {
              "outlinewidth": 0,
              "ticks": ""
             }
            },
            "type": "scatterpolargl"
           }
          ],
          "scatterternary": [
           {
            "marker": {
             "colorbar": {
              "outlinewidth": 0,
              "ticks": ""
             }
            },
            "type": "scatterternary"
           }
          ],
          "surface": [
           {
            "colorbar": {
             "outlinewidth": 0,
             "ticks": ""
            },
            "colorscale": [
             [
              0,
              "#0d0887"
             ],
             [
              0.1111111111111111,
              "#46039f"
             ],
             [
              0.2222222222222222,
              "#7201a8"
             ],
             [
              0.3333333333333333,
              "#9c179e"
             ],
             [
              0.4444444444444444,
              "#bd3786"
             ],
             [
              0.5555555555555556,
              "#d8576b"
             ],
             [
              0.6666666666666666,
              "#ed7953"
             ],
             [
              0.7777777777777778,
              "#fb9f3a"
             ],
             [
              0.8888888888888888,
              "#fdca26"
             ],
             [
              1,
              "#f0f921"
             ]
            ],
            "type": "surface"
           }
          ],
          "table": [
           {
            "cells": {
             "fill": {
              "color": "#EBF0F8"
             },
             "line": {
              "color": "white"
             }
            },
            "header": {
             "fill": {
              "color": "#C8D4E3"
             },
             "line": {
              "color": "white"
             }
            },
            "type": "table"
           }
          ]
         },
         "layout": {
          "annotationdefaults": {
           "arrowcolor": "#2a3f5f",
           "arrowhead": 0,
           "arrowwidth": 1
          },
          "autotypenumbers": "strict",
          "coloraxis": {
           "colorbar": {
            "outlinewidth": 0,
            "ticks": ""
           }
          },
          "colorscale": {
           "diverging": [
            [
             0,
             "#8e0152"
            ],
            [
             0.1,
             "#c51b7d"
            ],
            [
             0.2,
             "#de77ae"
            ],
            [
             0.3,
             "#f1b6da"
            ],
            [
             0.4,
             "#fde0ef"
            ],
            [
             0.5,
             "#f7f7f7"
            ],
            [
             0.6,
             "#e6f5d0"
            ],
            [
             0.7,
             "#b8e186"
            ],
            [
             0.8,
             "#7fbc41"
            ],
            [
             0.9,
             "#4d9221"
            ],
            [
             1,
             "#276419"
            ]
           ],
           "sequential": [
            [
             0,
             "#0d0887"
            ],
            [
             0.1111111111111111,
             "#46039f"
            ],
            [
             0.2222222222222222,
             "#7201a8"
            ],
            [
             0.3333333333333333,
             "#9c179e"
            ],
            [
             0.4444444444444444,
             "#bd3786"
            ],
            [
             0.5555555555555556,
             "#d8576b"
            ],
            [
             0.6666666666666666,
             "#ed7953"
            ],
            [
             0.7777777777777778,
             "#fb9f3a"
            ],
            [
             0.8888888888888888,
             "#fdca26"
            ],
            [
             1,
             "#f0f921"
            ]
           ],
           "sequentialminus": [
            [
             0,
             "#0d0887"
            ],
            [
             0.1111111111111111,
             "#46039f"
            ],
            [
             0.2222222222222222,
             "#7201a8"
            ],
            [
             0.3333333333333333,
             "#9c179e"
            ],
            [
             0.4444444444444444,
             "#bd3786"
            ],
            [
             0.5555555555555556,
             "#d8576b"
            ],
            [
             0.6666666666666666,
             "#ed7953"
            ],
            [
             0.7777777777777778,
             "#fb9f3a"
            ],
            [
             0.8888888888888888,
             "#fdca26"
            ],
            [
             1,
             "#f0f921"
            ]
           ]
          },
          "colorway": [
           "#636efa",
           "#EF553B",
           "#00cc96",
           "#ab63fa",
           "#FFA15A",
           "#19d3f3",
           "#FF6692",
           "#B6E880",
           "#FF97FF",
           "#FECB52"
          ],
          "font": {
           "color": "#2a3f5f"
          },
          "geo": {
           "bgcolor": "white",
           "lakecolor": "white",
           "landcolor": "#E5ECF6",
           "showlakes": true,
           "showland": true,
           "subunitcolor": "white"
          },
          "hoverlabel": {
           "align": "left"
          },
          "hovermode": "closest",
          "mapbox": {
           "style": "light"
          },
          "paper_bgcolor": "white",
          "plot_bgcolor": "#E5ECF6",
          "polar": {
           "angularaxis": {
            "gridcolor": "white",
            "linecolor": "white",
            "ticks": ""
           },
           "bgcolor": "#E5ECF6",
           "radialaxis": {
            "gridcolor": "white",
            "linecolor": "white",
            "ticks": ""
           }
          },
          "scene": {
           "xaxis": {
            "backgroundcolor": "#E5ECF6",
            "gridcolor": "white",
            "gridwidth": 2,
            "linecolor": "white",
            "showbackground": true,
            "ticks": "",
            "zerolinecolor": "white"
           },
           "yaxis": {
            "backgroundcolor": "#E5ECF6",
            "gridcolor": "white",
            "gridwidth": 2,
            "linecolor": "white",
            "showbackground": true,
            "ticks": "",
            "zerolinecolor": "white"
           },
           "zaxis": {
            "backgroundcolor": "#E5ECF6",
            "gridcolor": "white",
            "gridwidth": 2,
            "linecolor": "white",
            "showbackground": true,
            "ticks": "",
            "zerolinecolor": "white"
           }
          },
          "shapedefaults": {
           "line": {
            "color": "#2a3f5f"
           }
          },
          "ternary": {
           "aaxis": {
            "gridcolor": "white",
            "linecolor": "white",
            "ticks": ""
           },
           "baxis": {
            "gridcolor": "white",
            "linecolor": "white",
            "ticks": ""
           },
           "bgcolor": "#E5ECF6",
           "caxis": {
            "gridcolor": "white",
            "linecolor": "white",
            "ticks": ""
           }
          },
          "title": {
           "x": 0.05
          },
          "xaxis": {
           "automargin": true,
           "gridcolor": "white",
           "linecolor": "white",
           "ticks": "",
           "title": {
            "standoff": 15
           },
           "zerolinecolor": "white",
           "zerolinewidth": 2
          },
          "yaxis": {
           "automargin": true,
           "gridcolor": "white",
           "linecolor": "white",
           "ticks": "",
           "title": {
            "standoff": 15
           },
           "zerolinecolor": "white",
           "zerolinewidth": 2
          }
         }
        },
        "title": {
         "text": "Sources of manuscripts",
         "x": 0.5,
         "y": 0.92
        },
        "uniformtext": {
         "minsize": 8,
         "mode": "hide"
        },
        "xaxis": {
         "anchor": "y",
         "categoryarray": [
          "Journal",
          "Book",
          "Thesis",
          "Conference"
         ],
         "categoryorder": "array",
         "domain": [
          0,
          1
         ],
         "title": {
          "text": "sources"
         }
        },
        "yaxis": {
         "anchor": "x",
         "categoryorder": "total ascending",
         "domain": [
          0,
          1
         ],
         "title": {
          "text": "count"
         }
        }
       }
      }
     },
     "metadata": {},
     "output_type": "display_data"
    }
   ],
   "source": [
    "df_sources = pd.DataFrame({\n",
    "    'sources': df['Type of Source'].dropna().unique(),\n",
    "    'count': df['Type of Source'].value_counts().tolist()\n",
    "})\n",
    "\n",
    "\n",
    "color_discrete_map = {df_sources['sources'][0]: '#FC6955', \n",
    "                      df_sources['sources'][1]: 'rgb(255, 255, 51)', \n",
    "                      df_sources['sources'][2]: 'black',\n",
    "                      df_sources['sources'][3]: 'rgb(47, 138, 196)'}\n",
    "fig = px.bar(df_sources, x=\"sources\", y=\"count\", color= \"sources\", color_discrete_map=color_discrete_map,\n",
    "            hover_data=['sources'], text ='count')\n",
    "fig.update_layout(title_text='Sources of manuscripts', title_x=0.5, title_y=0.92,\n",
    "    legend=dict(\n",
    "    yanchor=\"top\",\n",
    "    y=0.59,\n",
    "    xanchor=\"right\",\n",
    "    x=0.79\n",
    "))\n",
    "fig.update_layout(yaxis={'categoryorder':'total ascending'})\n",
    "fig.update_traces(textposition='inside')\n",
    "fig.update_layout(uniformtext_minsize=8, uniformtext_mode='hide')\n",
    "fig.update_traces(textposition='outside')\n",
    "fig.show()"
   ]
  },
  {
   "cell_type": "code",
   "execution_count": 20,
   "metadata": {},
   "outputs": [
    {
     "data": {
      "text/plain": [
       "<AxesSubplot:xlabel='Publisher'>"
      ]
     },
     "execution_count": 20,
     "metadata": {},
     "output_type": "execute_result"
    },
    {
     "data": {
      "image/png": "[encoded data removed]",
      "text/plain": [
       "<Figure size 640x480 with 1 Axes>"
      ]
     },
     "metadata": {},
     "output_type": "display_data"
    }
   ],
   "source": [
    "# Type of sources and publisher\n",
    "\n",
    "list_top10pubs = list(df['Publisher'].value_counts()[:10].keys())\n",
    "df_pub_source= df.loc[df['Publisher'].isin(list_top10pubs)]\n",
    "df_pub_source = df_pub_source.groupby(['Type of Source','Publisher']).size().reset_index().rename(columns={0:'count'})\n",
    "df_pub_source= df_pub_source.sort_values(['Publisher', 'count'],axis=0,ascending=False)\n",
    "df_pub_source\n",
    "# arXiv not there as all are preprints\n",
    "\n",
    "df_pub_source.pivot(index=[\"Publisher\"], columns='Type of Source', values='count').plot(kind='bar', stacked=True)\n"
   ]
  },
  {
   "cell_type": "code",
   "execution_count": 21,
   "metadata": {},
   "outputs": [
    {
     "data": {
      "application/vnd.plotly.v1+json": {
       "config": {
        "plotlyServerURL": "https://plot.ly"
       },
       "data": [
        {
         "alignmentgroup": "True",
         "hovertemplate": "Type of Source=Journal<br>count=%{text}<br>Publisher=%{y}<extra></extra>",
         "legendgroup": "Journal",
         "marker": {
          "color": "#FC6955",
          "pattern": {
           "shape": ""
          }
         },
         "name": "Journal",
         "offsetgroup": "Journal",
         "orientation": "h",
         "showlegend": true,
         "text": [
          247,
          13,
          10,
          1,
          3,
          7
         ],
         "textposition": "outside",
         "type": "bar",
         "x": [
          247,
          13,
          10,
          1,
          3,
          7
         ],
         "xaxis": "x",
         "y": [
          "Taylor & Francis",
          "Springer",
          "SAGE Publications",
          "ProQuest",
          "IEEE Xplore",
          "Elsevier"
         ],
         "yaxis": "y"
        },
        {
         "alignmentgroup": "True",
         "hovertemplate": "Type of Source=Book<br>count=%{text}<br>Publisher=%{y}<extra></extra>",
         "legendgroup": "Book",
         "marker": {
          "color": "rgb(255, 255, 51)",
          "pattern": {
           "shape": ""
          }
         },
         "name": "Book",
         "offsetgroup": "Book",
         "orientation": "h",
         "showlegend": true,
         "text": [
          10,
          39,
          15,
          1
         ],
         "textposition": "outside",
         "type": "bar",
         "x": [
          10,
          39,
          15,
          1
         ],
         "xaxis": "x",
         "y": [
          "Taylor & Francis",
          "Springer",
          "Google Books",
          "Elsevier"
         ],
         "yaxis": "y"
        },
        {
         "alignmentgroup": "True",
         "hovertemplate": "Type of Source=Thesis<br>count=%{text}<br>Publisher=%{y}<extra></extra>",
         "legendgroup": "Thesis",
         "marker": {
          "color": "black",
          "pattern": {
           "shape": ""
          }
         },
         "name": "Thesis",
         "offsetgroup": "Thesis",
         "orientation": "h",
         "showlegend": true,
         "text": [
          6,
          3,
          1,
          1,
          1
         ],
         "textposition": "outside",
         "type": "bar",
         "x": [
          6,
          3,
          1,
          1,
          1
         ],
         "xaxis": "x",
         "y": [
          "Taylor & Francis",
          "Springer",
          "SAGE Publications",
          "Google Books",
          "ACL Anthology"
         ],
         "yaxis": "y"
        },
        {
         "alignmentgroup": "True",
         "hovertemplate": "Type of Source=Conference<br>count=%{text}<br>Publisher=%{y}<extra></extra>",
         "legendgroup": "Conference",
         "marker": {
          "color": "rgb(47, 138, 196)",
          "pattern": {
           "shape": ""
          }
         },
         "name": "Conference",
         "offsetgroup": "Conference",
         "orientation": "h",
         "showlegend": true,
         "text": [
          10,
          13,
          2,
          18,
          2
         ],
         "textposition": "outside",
         "type": "bar",
         "x": [
          10,
          13,
          2,
          18,
          2
         ],
         "xaxis": "x",
         "y": [
          "Springer",
          "IEEE Xplore",
          "Google Books",
          "ACM Digital Library",
          "ACL Anthology"
         ],
         "yaxis": "y"
        }
       ],
       "layout": {
        "barmode": "stack",
        "legend": {
         "title": {
          "text": "Type of Source"
         },
         "tracegroupgap": 0,
         "x": 0.79,
         "xanchor": "right",
         "y": 0.59,
         "yanchor": "top"
        },
        "margin": {
         "t": 60
        },
        "template": {
         "data": {
          "bar": [
           {
            "error_x": {
             "color": "#2a3f5f"
            },
            "error_y": {
             "color": "#2a3f5f"
            },
            "marker": {
             "line": {
              "color": "#E5ECF6",
              "width": 0.5
             },
             "pattern": {
              "fillmode": "overlay",
              "size": 10,
              "solidity": 0.2
             }
            },
            "type": "bar"
           }
          ],
          "barpolar": [
           {
            "marker": {
             "line": {
              "color": "#E5ECF6",
              "width": 0.5
             },
             "pattern": {
              "fillmode": "overlay",
              "size": 10,
              "solidity": 0.2
             }
            },
            "type": "barpolar"
           }
          ],
          "carpet": [
           {
            "aaxis": {
             "endlinecolor": "#2a3f5f",
             "gridcolor": "white",
             "linecolor": "white",
             "minorgridcolor": "white",
             "startlinecolor": "#2a3f5f"
            },
            "baxis": {
             "endlinecolor": "#2a3f5f",
             "gridcolor": "white",
             "linecolor": "white",
             "minorgridcolor": "white",
             "startlinecolor": "#2a3f5f"
            },
            "type": "carpet"
           }
          ],
          "choropleth": [
           {
            "colorbar": {
             "outlinewidth": 0,
             "ticks": ""
            },
            "type": "choropleth"
           }
          ],
          "contour": [
           {
            "colorbar": {
             "outlinewidth": 0,
             "ticks": ""
            },
            "colorscale": [
             [
              0,
              "#0d0887"
             ],
             [
              0.1111111111111111,
              "#46039f"
             ],
             [
              0.2222222222222222,
              "#7201a8"
             ],
             [
              0.3333333333333333,
              "#9c179e"
             ],
             [
              0.4444444444444444,
              "#bd3786"
             ],
             [
              0.5555555555555556,
              "#d8576b"
             ],
             [
              0.6666666666666666,
              "#ed7953"
             ],
             [
              0.7777777777777778,
              "#fb9f3a"
             ],
             [
              0.8888888888888888,
              "#fdca26"
             ],
             [
              1,
              "#f0f921"
             ]
            ],
            "type": "contour"
           }
          ],
          "contourcarpet": [
           {
            "colorbar": {
             "outlinewidth": 0,
             "ticks": ""
            },
            "type": "contourcarpet"
           }
          ],
          "heatmap": [
           {
            "colorbar": {
             "outlinewidth": 0,
             "ticks": ""
            },
            "colorscale": [
             [
              0,
              "#0d0887"
             ],
             [
              0.1111111111111111,
              "#46039f"
             ],
             [
              0.2222222222222222,
              "#7201a8"
             ],
             [
              0.3333333333333333,
              "#9c179e"
             ],
             [
              0.4444444444444444,
              "#bd3786"
             ],
             [
              0.5555555555555556,
              "#d8576b"
             ],
             [
              0.6666666666666666,
              "#ed7953"
             ],
             [
              0.7777777777777778,
              "#fb9f3a"
             ],
             [
              0.8888888888888888,
              "#fdca26"
             ],
             [
              1,
              "#f0f921"
             ]
            ],
            "type": "heatmap"
           }
          ],
          "heatmapgl": [
           {
            "colorbar": {
             "outlinewidth": 0,
             "ticks": ""
            },
            "colorscale": [
             [
              0,
              "#0d0887"
             ],
             [
              0.1111111111111111,
              "#46039f"
             ],
             [
              0.2222222222222222,
              "#7201a8"
             ],
             [
              0.3333333333333333,
              "#9c179e"
             ],
             [
              0.4444444444444444,
              "#bd3786"
             ],
             [
              0.5555555555555556,
              "#d8576b"
             ],
             [
              0.6666666666666666,
              "#ed7953"
             ],
             [
              0.7777777777777778,
              "#fb9f3a"
             ],
             [
              0.8888888888888888,
              "#fdca26"
             ],
             [
              1,
              "#f0f921"
             ]
            ],
            "type": "heatmapgl"
           }
          ],
          "histogram": [
           {
            "marker": {
             "pattern": {
              "fillmode": "overlay",
              "size": 10,
              "solidity": 0.2
             }
            },
            "type": "histogram"
           }
          ],
          "histogram2d": [
           {
            "colorbar": {
             "outlinewidth": 0,
             "ticks": ""
            },
            "colorscale": [
             [
              0,
              "#0d0887"
             ],
             [
              0.1111111111111111,
              "#46039f"
             ],
             [
              0.2222222222222222,
              "#7201a8"
             ],
             [
              0.3333333333333333,
              "#9c179e"
             ],
             [
              0.4444444444444444,
              "#bd3786"
             ],
             [
              0.5555555555555556,
              "#d8576b"
             ],
             [
              0.6666666666666666,
              "#ed7953"
             ],
             [
              0.7777777777777778,
              "#fb9f3a"
             ],
             [
              0.8888888888888888,
              "#fdca26"
             ],
             [
              1,
              "#f0f921"
             ]
            ],
            "type": "histogram2d"
           }
          ],
          "histogram2dcontour": [
           {
            "colorbar": {
             "outlinewidth": 0,
             "ticks": ""
            },
            "colorscale": [
             [
              0,
              "#0d0887"
             ],
             [
              0.1111111111111111,
              "#46039f"
             ],
             [
              0.2222222222222222,
              "#7201a8"
             ],
             [
              0.3333333333333333,
              "#9c179e"
             ],
             [
              0.4444444444444444,
              "#bd3786"
             ],
             [
              0.5555555555555556,
              "#d8576b"
             ],
             [
              0.6666666666666666,
              "#ed7953"
             ],
             [
              0.7777777777777778,
              "#fb9f3a"
             ],
             [
              0.8888888888888888,
              "#fdca26"
             ],
             [
              1,
              "#f0f921"
             ]
            ],
            "type": "histogram2dcontour"
           }
          ],
          "mesh3d": [
           {
            "colorbar": {
             "outlinewidth": 0,
             "ticks": ""
            },
            "type": "mesh3d"
           }
          ],
          "parcoords": [
           {
            "line": {
             "colorbar": {
              "outlinewidth": 0,
              "ticks": ""
             }
            },
            "type": "parcoords"
           }
          ],
          "pie": [
           {
            "automargin": true,
            "type": "pie"
           }
          ],
          "scatter": [
           {
            "fillpattern": {
             "fillmode": "overlay",
             "size": 10,
             "solidity": 0.2
            },
            "type": "scatter"
           }
          ],
          "scatter3d": [
           {
            "line": {
             "colorbar": {
              "outlinewidth": 0,
              "ticks": ""
             }
            },
            "marker": {
             "colorbar": {
              "outlinewidth": 0,
              "ticks": ""
             }
            },
            "type": "scatter3d"
           }
          ],
          "scattercarpet": [
           {
            "marker": {
             "colorbar": {
              "outlinewidth": 0,
              "ticks": ""
             }
            },
            "type": "scattercarpet"
           }
          ],
          "scattergeo": [
           {
            "marker": {
             "colorbar": {
              "outlinewidth": 0,
              "ticks": ""
             }
            },
            "type": "scattergeo"
           }
          ],
          "scattergl": [
           {
            "marker": {
             "colorbar": {
              "outlinewidth": 0,
              "ticks": ""
             }
            },
            "type": "scattergl"
           }
          ],
          "scattermapbox": [
           {
            "marker": {
             "colorbar": {
              "outlinewidth": 0,
              "ticks": ""
             }
            },
            "type": "scattermapbox"
           }
          ],
          "scatterpolar": [
           {
            "marker": {
             "colorbar": {
              "outlinewidth": 0,
              "ticks": ""
             }
            },
            "type": "scatterpolar"
           }
          ],
          "scatterpolargl": [
           {
            "marker": {
             "colorbar": {
              "outlinewidth": 0,
              "ticks": ""
             }
            },
            "type": "scatterpolargl"
           }
          ],
          "scatterternary": [
           {
            "marker": {
             "colorbar": {
              "outlinewidth": 0,
              "ticks": ""
             }
            },
            "type": "scatterternary"
           }
          ],
          "surface": [
           {
            "colorbar": {
             "outlinewidth": 0,
             "ticks": ""
            },
            "colorscale": [
             [
              0,
              "#0d0887"
             ],
             [
              0.1111111111111111,
              "#46039f"
             ],
             [
              0.2222222222222222,
              "#7201a8"
             ],
             [
              0.3333333333333333,
              "#9c179e"
             ],
             [
              0.4444444444444444,
              "#bd3786"
             ],
             [
              0.5555555555555556,
              "#d8576b"
             ],
             [
              0.6666666666666666,
              "#ed7953"
             ],
             [
              0.7777777777777778,
              "#fb9f3a"
             ],
             [
              0.8888888888888888,
              "#fdca26"
             ],
             [
              1,
              "#f0f921"
             ]
            ],
            "type": "surface"
           }
          ],
          "table": [
           {
            "cells": {
             "fill": {
              "color": "#EBF0F8"
             },
             "line": {
              "color": "white"
             }
            },
            "header": {
             "fill": {
              "color": "#C8D4E3"
             },
             "line": {
              "color": "white"
             }
            },
            "type": "table"
           }
          ]
         },
         "layout": {
          "annotationdefaults": {
           "arrowcolor": "#2a3f5f",
           "arrowhead": 0,
           "arrowwidth": 1
          },
          "autotypenumbers": "strict",
          "coloraxis": {
           "colorbar": {
            "outlinewidth": 0,
            "ticks": ""
           }
          },
          "colorscale": {
           "diverging": [
            [
             0,
             "#8e0152"
            ],
            [
             0.1,
             "#c51b7d"
            ],
            [
             0.2,
             "#de77ae"
            ],
            [
             0.3,
             "#f1b6da"
            ],
            [
             0.4,
             "#fde0ef"
            ],
            [
             0.5,
             "#f7f7f7"
            ],
            [
             0.6,
             "#e6f5d0"
            ],
            [
             0.7,
             "#b8e186"
            ],
            [
             0.8,
             "#7fbc41"
            ],
            [
             0.9,
             "#4d9221"
            ],
            [
             1,
             "#276419"
            ]
           ],
           "sequential": [
            [
             0,
             "#0d0887"
            ],
            [
             0.1111111111111111,
             "#46039f"
            ],
            [
             0.2222222222222222,
             "#7201a8"
            ],
            [
             0.3333333333333333,
             "#9c179e"
            ],
            [
             0.4444444444444444,
             "#bd3786"
            ],
            [
             0.5555555555555556,
             "#d8576b"
            ],
            [
             0.6666666666666666,
             "#ed7953"
            ],
            [
             0.7777777777777778,
             "#fb9f3a"
            ],
            [
             0.8888888888888888,
             "#fdca26"
            ],
            [
             1,
             "#f0f921"
            ]
           ],
           "sequentialminus": [
            [
             0,
             "#0d0887"
            ],
            [
             0.1111111111111111,
             "#46039f"
            ],
            [
             0.2222222222222222,
             "#7201a8"
            ],
            [
             0.3333333333333333,
             "#9c179e"
            ],
            [
             0.4444444444444444,
             "#bd3786"
            ],
            [
             0.5555555555555556,
             "#d8576b"
            ],
            [
             0.6666666666666666,
             "#ed7953"
            ],
            [
             0.7777777777777778,
             "#fb9f3a"
            ],
            [
             0.8888888888888888,
             "#fdca26"
            ],
            [
             1,
             "#f0f921"
            ]
           ]
          },
          "colorway": [
           "#636efa",
           "#EF553B",
           "#00cc96",
           "#ab63fa",
           "#FFA15A",
           "#19d3f3",
           "#FF6692",
           "#B6E880",
           "#FF97FF",
           "#FECB52"
          ],
          "font": {
           "color": "#2a3f5f"
          },
          "geo": {
           "bgcolor": "white",
           "lakecolor": "white",
           "landcolor": "#E5ECF6",
           "showlakes": true,
           "showland": true,
           "subunitcolor": "white"
          },
          "hoverlabel": {
           "align": "left"
          },
          "hovermode": "closest",
          "mapbox": {
           "style": "light"
          },
          "paper_bgcolor": "white",
          "plot_bgcolor": "#E5ECF6",
          "polar": {
           "angularaxis": {
            "gridcolor": "white",
            "linecolor": "white",
            "ticks": ""
           },
           "bgcolor": "#E5ECF6",
           "radialaxis": {
            "gridcolor": "white",
            "linecolor": "white",
            "ticks": ""
           }
          },
          "scene": {
           "xaxis": {
            "backgroundcolor": "#E5ECF6",
            "gridcolor": "white",
            "gridwidth": 2,
            "linecolor": "white",
            "showbackground": true,
            "ticks": "",
            "zerolinecolor": "white"
           },
           "yaxis": {
            "backgroundcolor": "#E5ECF6",
            "gridcolor": "white",
            "gridwidth": 2,
            "linecolor": "white",
            "showbackground": true,
            "ticks": "",
            "zerolinecolor": "white"
           },
           "zaxis": {
            "backgroundcolor": "#E5ECF6",
            "gridcolor": "white",
            "gridwidth": 2,
            "linecolor": "white",
            "showbackground": true,
            "ticks": "",
            "zerolinecolor": "white"
           }
          },
          "shapedefaults": {
           "line": {
            "color": "#2a3f5f"
           }
          },
          "ternary": {
           "aaxis": {
            "gridcolor": "white",
            "linecolor": "white",
            "ticks": ""
           },
           "baxis": {
            "gridcolor": "white",
            "linecolor": "white",
            "ticks": ""
           },
           "bgcolor": "#E5ECF6",
           "caxis": {
            "gridcolor": "white",
            "linecolor": "white",
            "ticks": ""
           }
          },
          "title": {
           "x": 0.05
          },
          "xaxis": {
           "automargin": true,
           "gridcolor": "white",
           "linecolor": "white",
           "ticks": "",
           "title": {
            "standoff": 15
           },
           "zerolinecolor": "white",
           "zerolinewidth": 2
          },
          "yaxis": {
           "automargin": true,
           "gridcolor": "white",
           "linecolor": "white",
           "ticks": "",
           "title": {
            "standoff": 15
           },
           "zerolinecolor": "white",
           "zerolinewidth": 2
          }
         }
        },
        "title": {
         "text": "Top 10 publications by their sources",
         "x": 0.5,
         "y": 0.92
        },
        "uniformtext": {
         "minsize": 8,
         "mode": "hide"
        },
        "xaxis": {
         "anchor": "y",
         "domain": [
          0,
          1
         ],
         "title": {
          "text": "count"
         }
        },
        "yaxis": {
         "anchor": "x",
         "categoryorder": "total ascending",
         "domain": [
          0,
          1
         ],
         "title": {
          "text": "Publisher"
         }
        }
       }
      }
     },
     "metadata": {},
     "output_type": "display_data"
    }
   ],
   "source": [
    "# Top 10 publishers with their count of manuscripts\n",
    "fig = px.bar(df_pub_source, x=\"count\", y=\"Publisher\", color=\"Type of Source\",\n",
    "            hover_data=['Publisher'], barmode = 'stack',\n",
    "            color_discrete_map={\n",
    "                'Journal': '#FC6955',\n",
    "                'Book': 'rgb(255, 255, 51)',\n",
    "                'Thesis': 'black',\n",
    "                'Conference': 'rgb(47, 138, 196)'\n",
    "                     }, text ='count')\n",
    "fig.update_layout(title_text='Top 10 publications by their sources', title_x=0.5, title_y=0.92,\n",
    "    legend=dict(\n",
    "    yanchor=\"top\",\n",
    "    y=0.59,\n",
    "    xanchor=\"right\",\n",
    "    x=0.79\n",
    "))\n",
    "fig.update_layout(yaxis={'categoryorder':'total ascending'})\n",
    "fig.update_traces(textposition='inside')\n",
    "fig.update_layout(uniformtext_minsize=8, uniformtext_mode='hide')\n",
    "fig.update_traces(textposition='outside')\n",
    "fig.show()"
   ]
  },
  {
   "attachments": {},
   "cell_type": "markdown",
   "metadata": {},
   "source": [
    "### Type of sources and conferences"
   ]
  },
  {
   "cell_type": "code",
   "execution_count": 22,
   "metadata": {},
   "outputs": [
    {
     "data": {
      "text/html": [
       "<div>\n",
       "<style scoped>\n",
       "    .dataframe tbody tr th:only-of-type {\n",
       "        vertical-align: middle;\n",
       "    }\n",
       "\n",
       "    .dataframe tbody tr th {\n",
       "        vertical-align: top;\n",
       "    }\n",
       "\n",
       "    .dataframe thead th {\n",
       "        text-align: right;\n",
       "    }\n",
       "</style>\n",
       "<table border=\"1\" class=\"dataframe\">\n",
       "  <thead>\n",
       "    <tr style=\"text-align: right;\">\n",
       "      <th></th>\n",
       "      <th>Cites</th>\n",
       "      <th>Authors</th>\n",
       "      <th>Title</th>\n",
       "      <th>Year</th>\n",
       "      <th>Source</th>\n",
       "      <th>Publisher</th>\n",
       "      <th>ArticleURL</th>\n",
       "      <th>CitesURL</th>\n",
       "      <th>GSRank</th>\n",
       "      <th>QueryDate</th>\n",
       "      <th>...</th>\n",
       "      <th>EndPage</th>\n",
       "      <th>ECC</th>\n",
       "      <th>CitesPerYear</th>\n",
       "      <th>CitesPerAuthor</th>\n",
       "      <th>AuthorCount</th>\n",
       "      <th>Age</th>\n",
       "      <th>Abstract</th>\n",
       "      <th>FullTextURL</th>\n",
       "      <th>RelatedURL</th>\n",
       "      <th>Type of Source</th>\n",
       "    </tr>\n",
       "  </thead>\n",
       "  <tbody>\n",
       "    <tr>\n",
       "      <th>5</th>\n",
       "      <td>0</td>\n",
       "      <td>JD Nagel, J Rudick</td>\n",
       "      <td>Abstracts from the NIH Office of Research on W...</td>\n",
       "      <td>2012</td>\n",
       "      <td>Journal of Women's Health</td>\n",
       "      <td>liebertpub.com</td>\n",
       "      <td>https://www.liebertpub.com/doi/full/10.1089/jw...</td>\n",
       "      <td>NaN</td>\n",
       "      <td>21</td>\n",
       "      <td>2022-07-17 10:02:25</td>\n",
       "      <td>...</td>\n",
       "      <td>NaN</td>\n",
       "      <td>0</td>\n",
       "      <td>0.0</td>\n",
       "      <td>0</td>\n",
       "      <td>2</td>\n",
       "      <td>10.0</td>\n",
       "      <td>… following activation by calcium, 5 pM tissue...</td>\n",
       "      <td>https://www.ncbi.nlm.nih.gov/pmc/articles/PMC3...</td>\n",
       "      <td>NaN</td>\n",
       "      <td>Journal</td>\n",
       "    </tr>\n",
       "    <tr>\n",
       "      <th>9</th>\n",
       "      <td>129</td>\n",
       "      <td>A Pina, TA Gannon</td>\n",
       "      <td>An overview of the literature on antecedents, ...</td>\n",
       "      <td>2012</td>\n",
       "      <td>Journal of Sexual Aggression</td>\n",
       "      <td>Taylor &amp; Francis</td>\n",
       "      <td>https://www.tandfonline.com/doi/abs/10.1080/13...</td>\n",
       "      <td>https://scholar.google.com/scholar?cites=10841...</td>\n",
       "      <td>19</td>\n",
       "      <td>2022-07-17 10:02:25</td>\n",
       "      <td>...</td>\n",
       "      <td>NaN</td>\n",
       "      <td>129</td>\n",
       "      <td>12.9</td>\n",
       "      <td>65</td>\n",
       "      <td>2</td>\n",
       "      <td>10.0</td>\n",
       "      <td>The detrimental effects of sexual harassment h...</td>\n",
       "      <td>https://kar.kent.ac.uk/25836/2/Pina%20%26%20Ga...</td>\n",
       "      <td>https://scholar.google.com/scholar?q=related:c...</td>\n",
       "      <td>Journal</td>\n",
       "    </tr>\n",
       "    <tr>\n",
       "      <th>12</th>\n",
       "      <td>23</td>\n",
       "      <td>MG Durham</td>\n",
       "      <td>Blood, lust and love: Interrogating gender vio...</td>\n",
       "      <td>2012</td>\n",
       "      <td>Journal of Children and Media</td>\n",
       "      <td>Taylor &amp; Francis</td>\n",
       "      <td>https://www.tandfonline.com/doi/abs/10.1080/17...</td>\n",
       "      <td>https://scholar.google.com/scholar?cites=90340...</td>\n",
       "      <td>33</td>\n",
       "      <td>2022-07-17 10:02:25</td>\n",
       "      <td>...</td>\n",
       "      <td>NaN</td>\n",
       "      <td>23</td>\n",
       "      <td>2.3</td>\n",
       "      <td>23</td>\n",
       "      <td>1</td>\n",
       "      <td>10.0</td>\n",
       "      <td>… point of view, thus strengthening the reader...</td>\n",
       "      <td>https://www.tandfonline.com/doi/pdf/10.1080/17...</td>\n",
       "      <td>https://scholar.google.com/scholar?q=related:u...</td>\n",
       "      <td>Journal</td>\n",
       "    </tr>\n",
       "    <tr>\n",
       "      <th>25</th>\n",
       "      <td>9</td>\n",
       "      <td>M O'Connell</td>\n",
       "      <td>Don't act, don't tell: Discrimination based on...</td>\n",
       "      <td>2012</td>\n",
       "      <td>Journal of Gay &amp; Lesbian Mental Health</td>\n",
       "      <td>Taylor &amp; Francis</td>\n",
       "      <td>https://www.tandfonline.com/doi/abs/10.1080/19...</td>\n",
       "      <td>https://scholar.google.com/scholar?cites=18134...</td>\n",
       "      <td>24</td>\n",
       "      <td>2022-07-17 10:02:25</td>\n",
       "      <td>...</td>\n",
       "      <td>NaN</td>\n",
       "      <td>9</td>\n",
       "      <td>0.9</td>\n",
       "      <td>9</td>\n",
       "      <td>1</td>\n",
       "      <td>10.0</td>\n",
       "      <td>… , bullying, suicides, and hate crimes agains...</td>\n",
       "      <td>NaN</td>\n",
       "      <td>https://scholar.google.com/scholar?q=related:H...</td>\n",
       "      <td>Journal</td>\n",
       "    </tr>\n",
       "    <tr>\n",
       "      <th>27</th>\n",
       "      <td>25</td>\n",
       "      <td>EC Bishop</td>\n",
       "      <td>Examining the raunch culture thesis through yo...</td>\n",
       "      <td>2012</td>\n",
       "      <td>Journal of Youth Studies</td>\n",
       "      <td>Taylor &amp; Francis</td>\n",
       "      <td>https://www.tandfonline.com/doi/abs/10.1080/13...</td>\n",
       "      <td>https://scholar.google.com/scholar?cites=90923...</td>\n",
       "      <td>35</td>\n",
       "      <td>2022-07-17 10:02:25</td>\n",
       "      <td>...</td>\n",
       "      <td>NaN</td>\n",
       "      <td>25</td>\n",
       "      <td>2.5</td>\n",
       "      <td>25</td>\n",
       "      <td>1</td>\n",
       "      <td>10.0</td>\n",
       "      <td>… Pornography was conceptualised as the epitom...</td>\n",
       "      <td>http://ecite.utas.edu.au/78545/3/78545%20-%20E...</td>\n",
       "      <td>https://scholar.google.com/scholar?q=related:g...</td>\n",
       "      <td>Journal</td>\n",
       "    </tr>\n",
       "    <tr>\n",
       "      <th>...</th>\n",
       "      <td>...</td>\n",
       "      <td>...</td>\n",
       "      <td>...</td>\n",
       "      <td>...</td>\n",
       "      <td>...</td>\n",
       "      <td>...</td>\n",
       "      <td>...</td>\n",
       "      <td>...</td>\n",
       "      <td>...</td>\n",
       "      <td>...</td>\n",
       "      <td>...</td>\n",
       "      <td>...</td>\n",
       "      <td>...</td>\n",
       "      <td>...</td>\n",
       "      <td>...</td>\n",
       "      <td>...</td>\n",
       "      <td>...</td>\n",
       "      <td>...</td>\n",
       "      <td>...</td>\n",
       "      <td>...</td>\n",
       "      <td>...</td>\n",
       "    </tr>\n",
       "    <tr>\n",
       "      <th>3875</th>\n",
       "      <td>0</td>\n",
       "      <td>J Lloyd, V Bradbury</td>\n",
       "      <td>Zero tolerance to sexual harm in schools–from ...</td>\n",
       "      <td>2022</td>\n",
       "      <td>Journal of Sexual Aggression</td>\n",
       "      <td>Taylor &amp; Francis</td>\n",
       "      <td>https://www.tandfonline.com/doi/abs/10.1080/13...</td>\n",
       "      <td>NaN</td>\n",
       "      <td>444</td>\n",
       "      <td>2022-07-17 13:58:58</td>\n",
       "      <td>...</td>\n",
       "      <td>NaN</td>\n",
       "      <td>0</td>\n",
       "      <td>0.0</td>\n",
       "      <td>0</td>\n",
       "      <td>2</td>\n",
       "      <td>1.0</td>\n",
       "      <td>… they do not recognise harmful sexual inciden...</td>\n",
       "      <td>https://www.tandfonline.com/doi/pdf/10.1080/13...</td>\n",
       "      <td>https://scholar.google.com/scholar?q=related:J...</td>\n",
       "      <td>Journal</td>\n",
       "    </tr>\n",
       "    <tr>\n",
       "      <th>3880</th>\n",
       "      <td>0</td>\n",
       "      <td>E Castro</td>\n",
       "      <td>“How every Black man should be”: Historical na...</td>\n",
       "      <td>2022</td>\n",
       "      <td>The Journal of Social Studies Research</td>\n",
       "      <td>Elsevier</td>\n",
       "      <td>https://www.sciencedirect.com/science/article/...</td>\n",
       "      <td>NaN</td>\n",
       "      <td>403</td>\n",
       "      <td>2022-07-17 13:58:58</td>\n",
       "      <td>...</td>\n",
       "      <td>NaN</td>\n",
       "      <td>0</td>\n",
       "      <td>0.0</td>\n",
       "      <td>0</td>\n",
       "      <td>1</td>\n",
       "      <td>1.0</td>\n",
       "      <td>This case study is a sociocultural analysis of...</td>\n",
       "      <td>NaN</td>\n",
       "      <td>https://scholar.google.com/scholar?q=related:N...</td>\n",
       "      <td>Journal</td>\n",
       "    </tr>\n",
       "    <tr>\n",
       "      <th>3881</th>\n",
       "      <td>0</td>\n",
       "      <td>C Horton</td>\n",
       "      <td>“I Was Losing That Sense of Her Being Happy”—T...</td>\n",
       "      <td>2022</td>\n",
       "      <td>LGBTQ+ Family: An Interdisciplinary Journal</td>\n",
       "      <td>Taylor &amp; Francis</td>\n",
       "      <td>https://www.tandfonline.com/doi/abs/10.1080/27...</td>\n",
       "      <td>NaN</td>\n",
       "      <td>493</td>\n",
       "      <td>2022-07-17 13:58:58</td>\n",
       "      <td>...</td>\n",
       "      <td>NaN</td>\n",
       "      <td>0</td>\n",
       "      <td>0.0</td>\n",
       "      <td>0</td>\n",
       "      <td>1</td>\n",
       "      <td>1.0</td>\n",
       "      <td>… So as a concept I absolutely hate it, and wo...</td>\n",
       "      <td>https://www.tandfonline.com/doi/pdf/10.1080/27...</td>\n",
       "      <td>https://scholar.google.com/scholar?q=related:V...</td>\n",
       "      <td>Journal</td>\n",
       "    </tr>\n",
       "    <tr>\n",
       "      <th>3887</th>\n",
       "      <td>1</td>\n",
       "      <td>A Glusker, C Emmelhainz, N Estrada…</td>\n",
       "      <td>“Viewed as Equals”: The Impacts of Library Org...</td>\n",
       "      <td>2022</td>\n",
       "      <td>Journal of Library …</td>\n",
       "      <td>Taylor &amp; Francis</td>\n",
       "      <td>https://www.tandfonline.com/doi/abs/10.1080/01...</td>\n",
       "      <td>https://scholar.google.com/scholar?cites=70832...</td>\n",
       "      <td>438</td>\n",
       "      <td>2022-07-17 13:58:58</td>\n",
       "      <td>...</td>\n",
       "      <td>NaN</td>\n",
       "      <td>1</td>\n",
       "      <td>1.0</td>\n",
       "      <td>0</td>\n",
       "      <td>4</td>\n",
       "      <td>1.0</td>\n",
       "      <td>… Staff who reported low morale were often in ...</td>\n",
       "      <td>https://www.tandfonline.com/doi/pdf/10.1080/01...</td>\n",
       "      <td>https://scholar.google.com/scholar?q=related:I...</td>\n",
       "      <td>Journal</td>\n",
       "    </tr>\n",
       "    <tr>\n",
       "      <th>3890</th>\n",
       "      <td>0</td>\n",
       "      <td>N Goyal, L Park, L Vasserman</td>\n",
       "      <td>” You have to prove the threat is real”: Under...</td>\n",
       "      <td>2022</td>\n",
       "      <td>CHI Conference on Human Factors in …</td>\n",
       "      <td>ACM Digital Library</td>\n",
       "      <td>https://dl.acm.org/doi/abs/10.1145/3491102.351...</td>\n",
       "      <td>NaN</td>\n",
       "      <td>193</td>\n",
       "      <td>2022-07-17 13:58:58</td>\n",
       "      <td>...</td>\n",
       "      <td>NaN</td>\n",
       "      <td>0</td>\n",
       "      <td>0.0</td>\n",
       "      <td>0</td>\n",
       "      <td>3</td>\n",
       "      <td>1.0</td>\n",
       "      <td>… or suspending accounts associated with abusi...</td>\n",
       "      <td>https://dl.acm.org/doi/fullHtml/10.1145/349110...</td>\n",
       "      <td>https://scholar.google.com/scholar?q=related:d...</td>\n",
       "      <td>Conference</td>\n",
       "    </tr>\n",
       "  </tbody>\n",
       "</table>\n",
       "<p>610 rows × 27 columns</p>\n",
       "</div>"
      ],
      "text/plain": [
       "      Cites                              Authors  \\\n",
       "5         0                   JD Nagel, J Rudick   \n",
       "9       129                    A Pina, TA Gannon   \n",
       "12       23                            MG Durham   \n",
       "25        9                          M O'Connell   \n",
       "27       25                            EC Bishop   \n",
       "...     ...                                  ...   \n",
       "3875      0                  J Lloyd, V Bradbury   \n",
       "3880      0                             E Castro   \n",
       "3881      0                             C Horton   \n",
       "3887      1  A Glusker, C Emmelhainz, N Estrada…   \n",
       "3890      0         N Goyal, L Park, L Vasserman   \n",
       "\n",
       "                                                  Title  Year  \\\n",
       "5     Abstracts from the NIH Office of Research on W...  2012   \n",
       "9     An overview of the literature on antecedents, ...  2012   \n",
       "12    Blood, lust and love: Interrogating gender vio...  2012   \n",
       "25    Don't act, don't tell: Discrimination based on...  2012   \n",
       "27    Examining the raunch culture thesis through yo...  2012   \n",
       "...                                                 ...   ...   \n",
       "3875  Zero tolerance to sexual harm in schools–from ...  2022   \n",
       "3880  “How every Black man should be”: Historical na...  2022   \n",
       "3881  “I Was Losing That Sense of Her Being Happy”—T...  2022   \n",
       "3887  “Viewed as Equals”: The Impacts of Library Org...  2022   \n",
       "3890  ” You have to prove the threat is real”: Under...  2022   \n",
       "\n",
       "                                           Source            Publisher  \\\n",
       "5                       Journal of Women's Health       liebertpub.com   \n",
       "9                    Journal of Sexual Aggression     Taylor & Francis   \n",
       "12                  Journal of Children and Media     Taylor & Francis   \n",
       "25         Journal of Gay & Lesbian Mental Health     Taylor & Francis   \n",
       "27                       Journal of Youth Studies     Taylor & Francis   \n",
       "...                                           ...                  ...   \n",
       "3875                 Journal of Sexual Aggression     Taylor & Francis   \n",
       "3880       The Journal of Social Studies Research             Elsevier   \n",
       "3881  LGBTQ+ Family: An Interdisciplinary Journal     Taylor & Francis   \n",
       "3887                         Journal of Library …     Taylor & Francis   \n",
       "3890         CHI Conference on Human Factors in …  ACM Digital Library   \n",
       "\n",
       "                                             ArticleURL  \\\n",
       "5     https://www.liebertpub.com/doi/full/10.1089/jw...   \n",
       "9     https://www.tandfonline.com/doi/abs/10.1080/13...   \n",
       "12    https://www.tandfonline.com/doi/abs/10.1080/17...   \n",
       "25    https://www.tandfonline.com/doi/abs/10.1080/19...   \n",
       "27    https://www.tandfonline.com/doi/abs/10.1080/13...   \n",
       "...                                                 ...   \n",
       "3875  https://www.tandfonline.com/doi/abs/10.1080/13...   \n",
       "3880  https://www.sciencedirect.com/science/article/...   \n",
       "3881  https://www.tandfonline.com/doi/abs/10.1080/27...   \n",
       "3887  https://www.tandfonline.com/doi/abs/10.1080/01...   \n",
       "3890  https://dl.acm.org/doi/abs/10.1145/3491102.351...   \n",
       "\n",
       "                                               CitesURL  GSRank  \\\n",
       "5                                                   NaN      21   \n",
       "9     https://scholar.google.com/scholar?cites=10841...      19   \n",
       "12    https://scholar.google.com/scholar?cites=90340...      33   \n",
       "25    https://scholar.google.com/scholar?cites=18134...      24   \n",
       "27    https://scholar.google.com/scholar?cites=90923...      35   \n",
       "...                                                 ...     ...   \n",
       "3875                                                NaN     444   \n",
       "3880                                                NaN     403   \n",
       "3881                                                NaN     493   \n",
       "3887  https://scholar.google.com/scholar?cites=70832...     438   \n",
       "3890                                                NaN     193   \n",
       "\n",
       "                QueryDate  ... EndPage  ECC  CitesPerYear  CitesPerAuthor  \\\n",
       "5     2022-07-17 10:02:25  ...     NaN    0           0.0               0   \n",
       "9     2022-07-17 10:02:25  ...     NaN  129          12.9              65   \n",
       "12    2022-07-17 10:02:25  ...     NaN   23           2.3              23   \n",
       "25    2022-07-17 10:02:25  ...     NaN    9           0.9               9   \n",
       "27    2022-07-17 10:02:25  ...     NaN   25           2.5              25   \n",
       "...                   ...  ...     ...  ...           ...             ...   \n",
       "3875  2022-07-17 13:58:58  ...     NaN    0           0.0               0   \n",
       "3880  2022-07-17 13:58:58  ...     NaN    0           0.0               0   \n",
       "3881  2022-07-17 13:58:58  ...     NaN    0           0.0               0   \n",
       "3887  2022-07-17 13:58:58  ...     NaN    1           1.0               0   \n",
       "3890  2022-07-17 13:58:58  ...     NaN    0           0.0               0   \n",
       "\n",
       "      AuthorCount   Age                                           Abstract  \\\n",
       "5               2  10.0  … following activation by calcium, 5 pM tissue...   \n",
       "9               2  10.0  The detrimental effects of sexual harassment h...   \n",
       "12              1  10.0  … point of view, thus strengthening the reader...   \n",
       "25              1  10.0  … , bullying, suicides, and hate crimes agains...   \n",
       "27              1  10.0  … Pornography was conceptualised as the epitom...   \n",
       "...           ...   ...                                                ...   \n",
       "3875            2   1.0  … they do not recognise harmful sexual inciden...   \n",
       "3880            1   1.0  This case study is a sociocultural analysis of...   \n",
       "3881            1   1.0  … So as a concept I absolutely hate it, and wo...   \n",
       "3887            4   1.0  … Staff who reported low morale were often in ...   \n",
       "3890            3   1.0  … or suspending accounts associated with abusi...   \n",
       "\n",
       "                                            FullTextURL  \\\n",
       "5     https://www.ncbi.nlm.nih.gov/pmc/articles/PMC3...   \n",
       "9     https://kar.kent.ac.uk/25836/2/Pina%20%26%20Ga...   \n",
       "12    https://www.tandfonline.com/doi/pdf/10.1080/17...   \n",
       "25                                                  NaN   \n",
       "27    http://ecite.utas.edu.au/78545/3/78545%20-%20E...   \n",
       "...                                                 ...   \n",
       "3875  https://www.tandfonline.com/doi/pdf/10.1080/13...   \n",
       "3880                                                NaN   \n",
       "3881  https://www.tandfonline.com/doi/pdf/10.1080/27...   \n",
       "3887  https://www.tandfonline.com/doi/pdf/10.1080/01...   \n",
       "3890  https://dl.acm.org/doi/fullHtml/10.1145/349110...   \n",
       "\n",
       "                                             RelatedURL  Type of Source  \n",
       "5                                                   NaN         Journal  \n",
       "9     https://scholar.google.com/scholar?q=related:c...         Journal  \n",
       "12    https://scholar.google.com/scholar?q=related:u...         Journal  \n",
       "25    https://scholar.google.com/scholar?q=related:H...         Journal  \n",
       "27    https://scholar.google.com/scholar?q=related:g...         Journal  \n",
       "...                                                 ...             ...  \n",
       "3875  https://scholar.google.com/scholar?q=related:J...         Journal  \n",
       "3880  https://scholar.google.com/scholar?q=related:N...         Journal  \n",
       "3881  https://scholar.google.com/scholar?q=related:V...         Journal  \n",
       "3887  https://scholar.google.com/scholar?q=related:I...         Journal  \n",
       "3890  https://scholar.google.com/scholar?q=related:d...      Conference  \n",
       "\n",
       "[610 rows x 27 columns]"
      ]
     },
     "execution_count": 22,
     "metadata": {},
     "output_type": "execute_result"
    }
   ],
   "source": [
    "# However including the exclusion criteria, we only take the ones which are \n",
    "# 1. published through conferences/journals\n",
    "# 2. the preprints\n",
    "\n",
    "df_conf_jour = df[(df[\"Type of Source\"].isin(['Conference', 'Journal'])) | (df[\"Publisher\"] == 'arXiv')]\n",
    "df_conf_jour['Type of Source'] = df_conf_jour['Type of Source'].fillna('Preprints') # replacing nans with preprints\n",
    "df_conf_jour"
   ]
  },
  {
   "cell_type": "code",
   "execution_count": 23,
   "metadata": {},
   "outputs": [
    {
     "data": {
      "application/vnd.plotly.v1+json": {
       "config": {
        "plotlyServerURL": "https://plot.ly"
       },
       "data": [
        {
         "alignmentgroup": "True",
         "hovertemplate": "Type of Source=Preprints<br>Year=%{x}<br>Count=%{text}<extra></extra>",
         "legendgroup": "Preprints",
         "marker": {
          "color": "rgb(255, 255, 51)",
          "pattern": {
           "shape": ""
          }
         },
         "name": "Preprints",
         "offsetgroup": "Preprints",
         "orientation": "v",
         "showlegend": true,
         "text": [
          51,
          56,
          21,
          11,
          9
         ],
         "textposition": "outside",
         "type": "bar",
         "x": [
          "2022",
          "2021",
          "2020",
          "2019",
          "2018"
         ],
         "xaxis": "x",
         "y": [
          51,
          56,
          21,
          11,
          9
         ],
         "yaxis": "y"
        },
        {
         "alignmentgroup": "True",
         "hovertemplate": "Type of Source=Journal<br>Year=%{x}<br>Count=%{text}<extra></extra>",
         "legendgroup": "Journal",
         "marker": {
          "color": "#FC6955",
          "pattern": {
           "shape": ""
          }
         },
         "name": "Journal",
         "offsetgroup": "Journal",
         "orientation": "v",
         "showlegend": true,
         "text": [
          60,
          103,
          57,
          39,
          30,
          28,
          26,
          16,
          10,
          14,
          14
         ],
         "textposition": "outside",
         "type": "bar",
         "x": [
          "2022",
          "2021",
          "2020",
          "2019",
          "2018",
          "2017",
          "2016",
          "2015",
          "2014",
          "2013",
          "2012"
         ],
         "xaxis": "x",
         "y": [
          60,
          103,
          57,
          39,
          30,
          28,
          26,
          16,
          10,
          14,
          14
         ],
         "yaxis": "y"
        },
        {
         "alignmentgroup": "True",
         "hovertemplate": "Type of Source=Conference<br>Year=%{x}<br>Count=%{text}<extra></extra>",
         "legendgroup": "Conference",
         "marker": {
          "color": "rgb(47, 138, 196)",
          "pattern": {
           "shape": ""
          }
         },
         "name": "Conference",
         "offsetgroup": "Conference",
         "orientation": "v",
         "showlegend": true,
         "text": [
          16,
          20,
          7,
          13,
          2,
          1,
          1,
          1
         ],
         "textposition": "outside",
         "type": "bar",
         "x": [
          "2022",
          "2021",
          "2020",
          "2019",
          "2018",
          "2017",
          "2015",
          "2012"
         ],
         "xaxis": "x",
         "y": [
          16,
          20,
          7,
          13,
          2,
          1,
          1,
          1
         ],
         "yaxis": "y"
        }
       ],
       "layout": {
        "barmode": "stack",
        "legend": {
         "title": {
          "text": "Type of Source"
         },
         "tracegroupgap": 0,
         "x": 0.79,
         "xanchor": "right",
         "y": 0.59,
         "yanchor": "top"
        },
        "margin": {
         "t": 60
        },
        "template": {
         "data": {
          "bar": [
           {
            "error_x": {
             "color": "#2a3f5f"
            },
            "error_y": {
             "color": "#2a3f5f"
            },
            "marker": {
             "line": {
              "color": "#E5ECF6",
              "width": 0.5
             },
             "pattern": {
              "fillmode": "overlay",
              "size": 10,
              "solidity": 0.2
             }
            },
            "type": "bar"
           }
          ],
          "barpolar": [
           {
            "marker": {
             "line": {
              "color": "#E5ECF6",
              "width": 0.5
             },
             "pattern": {
              "fillmode": "overlay",
              "size": 10,
              "solidity": 0.2
             }
            },
            "type": "barpolar"
           }
          ],
          "carpet": [
           {
            "aaxis": {
             "endlinecolor": "#2a3f5f",
             "gridcolor": "white",
             "linecolor": "white",
             "minorgridcolor": "white",
             "startlinecolor": "#2a3f5f"
            },
            "baxis": {
             "endlinecolor": "#2a3f5f",
             "gridcolor": "white",
             "linecolor": "white",
             "minorgridcolor": "white",
             "startlinecolor": "#2a3f5f"
            },
            "type": "carpet"
           }
          ],
          "choropleth": [
           {
            "colorbar": {
             "outlinewidth": 0,
             "ticks": ""
            },
            "type": "choropleth"
           }
          ],
          "contour": [
           {
            "colorbar": {
             "outlinewidth": 0,
             "ticks": ""
            },
            "colorscale": [
             [
              0,
              "#0d0887"
             ],
             [
              0.1111111111111111,
              "#46039f"
             ],
             [
              0.2222222222222222,
              "#7201a8"
             ],
             [
              0.3333333333333333,
              "#9c179e"
             ],
             [
              0.4444444444444444,
              "#bd3786"
             ],
             [
              0.5555555555555556,
              "#d8576b"
             ],
             [
              0.6666666666666666,
              "#ed7953"
             ],
             [
              0.7777777777777778,
              "#fb9f3a"
             ],
             [
              0.8888888888888888,
              "#fdca26"
             ],
             [
              1,
              "#f0f921"
             ]
            ],
            "type": "contour"
           }
          ],
          "contourcarpet": [
           {
            "colorbar": {
             "outlinewidth": 0,
             "ticks": ""
            },
            "type": "contourcarpet"
           }
          ],
          "heatmap": [
           {
            "colorbar": {
             "outlinewidth": 0,
             "ticks": ""
            },
            "colorscale": [
             [
              0,
              "#0d0887"
             ],
             [
              0.1111111111111111,
              "#46039f"
             ],
             [
              0.2222222222222222,
              "#7201a8"
             ],
             [
              0.3333333333333333,
              "#9c179e"
             ],
             [
              0.4444444444444444,
              "#bd3786"
             ],
             [
              0.5555555555555556,
              "#d8576b"
             ],
             [
              0.6666666666666666,
              "#ed7953"
             ],
             [
              0.7777777777777778,
              "#fb9f3a"
             ],
             [
              0.8888888888888888,
              "#fdca26"
             ],
             [
              1,
              "#f0f921"
             ]
            ],
            "type": "heatmap"
           }
          ],
          "heatmapgl": [
           {
            "colorbar": {
             "outlinewidth": 0,
             "ticks": ""
            },
            "colorscale": [
             [
              0,
              "#0d0887"
             ],
             [
              0.1111111111111111,
              "#46039f"
             ],
             [
              0.2222222222222222,
              "#7201a8"
             ],
             [
              0.3333333333333333,
              "#9c179e"
             ],
             [
              0.4444444444444444,
              "#bd3786"
             ],
             [
              0.5555555555555556,
              "#d8576b"
             ],
             [
              0.6666666666666666,
              "#ed7953"
             ],
             [
              0.7777777777777778,
              "#fb9f3a"
             ],
             [
              0.8888888888888888,
              "#fdca26"
             ],
             [
              1,
              "#f0f921"
             ]
            ],
            "type": "heatmapgl"
           }
          ],
          "histogram": [
           {
            "marker": {
             "pattern": {
              "fillmode": "overlay",
              "size": 10,
              "solidity": 0.2
             }
            },
            "type": "histogram"
           }
          ],
          "histogram2d": [
           {
            "colorbar": {
             "outlinewidth": 0,
             "ticks": ""
            },
            "colorscale": [
             [
              0,
              "#0d0887"
             ],
             [
              0.1111111111111111,
              "#46039f"
             ],
             [
              0.2222222222222222,
              "#7201a8"
             ],
             [
              0.3333333333333333,
              "#9c179e"
             ],
             [
              0.4444444444444444,
              "#bd3786"
             ],
             [
              0.5555555555555556,
              "#d8576b"
             ],
             [
              0.6666666666666666,
              "#ed7953"
             ],
             [
              0.7777777777777778,
              "#fb9f3a"
             ],
             [
              0.8888888888888888,
              "#fdca26"
             ],
             [
              1,
              "#f0f921"
             ]
            ],
            "type": "histogram2d"
           }
          ],
          "histogram2dcontour": [
           {
            "colorbar": {
             "outlinewidth": 0,
             "ticks": ""
            },
            "colorscale": [
             [
              0,
              "#0d0887"
             ],
             [
              0.1111111111111111,
              "#46039f"
             ],
             [
              0.2222222222222222,
              "#7201a8"
             ],
             [
              0.3333333333333333,
              "#9c179e"
             ],
             [
              0.4444444444444444,
              "#bd3786"
             ],
             [
              0.5555555555555556,
              "#d8576b"
             ],
             [
              0.6666666666666666,
              "#ed7953"
             ],
             [
              0.7777777777777778,
              "#fb9f3a"
             ],
             [
              0.8888888888888888,
              "#fdca26"
             ],
             [
              1,
              "#f0f921"
             ]
            ],
            "type": "histogram2dcontour"
           }
          ],
          "mesh3d": [
           {
            "colorbar": {
             "outlinewidth": 0,
             "ticks": ""
            },
            "type": "mesh3d"
           }
          ],
          "parcoords": [
           {
            "line": {
             "colorbar": {
              "outlinewidth": 0,
              "ticks": ""
             }
            },
            "type": "parcoords"
           }
          ],
          "pie": [
           {
            "automargin": true,
            "type": "pie"
           }
          ],
          "scatter": [
           {
            "fillpattern": {
             "fillmode": "overlay",
             "size": 10,
             "solidity": 0.2
            },
            "type": "scatter"
           }
          ],
          "scatter3d": [
           {
            "line": {
             "colorbar": {
              "outlinewidth": 0,
              "ticks": ""
             }
            },
            "marker": {
             "colorbar": {
              "outlinewidth": 0,
              "ticks": ""
             }
            },
            "type": "scatter3d"
           }
          ],
          "scattercarpet": [
           {
            "marker": {
             "colorbar": {
              "outlinewidth": 0,
              "ticks": ""
             }
            },
            "type": "scattercarpet"
           }
          ],
          "scattergeo": [
           {
            "marker": {
             "colorbar": {
              "outlinewidth": 0,
              "ticks": ""
             }
            },
            "type": "scattergeo"
           }
          ],
          "scattergl": [
           {
            "marker": {
             "colorbar": {
              "outlinewidth": 0,
              "ticks": ""
             }
            },
            "type": "scattergl"
           }
          ],
          "scattermapbox": [
           {
            "marker": {
             "colorbar": {
              "outlinewidth": 0,
              "ticks": ""
             }
            },
            "type": "scattermapbox"
           }
          ],
          "scatterpolar": [
           {
            "marker": {
             "colorbar": {
              "outlinewidth": 0,
              "ticks": ""
             }
            },
            "type": "scatterpolar"
           }
          ],
          "scatterpolargl": [
           {
            "marker": {
             "colorbar": {
              "outlinewidth": 0,
              "ticks": ""
             }
            },
            "type": "scatterpolargl"
           }
          ],
          "scatterternary": [
           {
            "marker": {
             "colorbar": {
              "outlinewidth": 0,
              "ticks": ""
             }
            },
            "type": "scatterternary"
           }
          ],
          "surface": [
           {
            "colorbar": {
             "outlinewidth": 0,
             "ticks": ""
            },
            "colorscale": [
             [
              0,
              "#0d0887"
             ],
             [
              0.1111111111111111,
              "#46039f"
             ],
             [
              0.2222222222222222,
              "#7201a8"
             ],
             [
              0.3333333333333333,
              "#9c179e"
             ],
             [
              0.4444444444444444,
              "#bd3786"
             ],
             [
              0.5555555555555556,
              "#d8576b"
             ],
             [
              0.6666666666666666,
              "#ed7953"
             ],
             [
              0.7777777777777778,
              "#fb9f3a"
             ],
             [
              0.8888888888888888,
              "#fdca26"
             ],
             [
              1,
              "#f0f921"
             ]
            ],
            "type": "surface"
           }
          ],
          "table": [
           {
            "cells": {
             "fill": {
              "color": "#EBF0F8"
             },
             "line": {
              "color": "white"
             }
            },
            "header": {
             "fill": {
              "color": "#C8D4E3"
             },
             "line": {
              "color": "white"
             }
            },
            "type": "table"
           }
          ]
         },
         "layout": {
          "annotationdefaults": {
           "arrowcolor": "#2a3f5f",
           "arrowhead": 0,
           "arrowwidth": 1
          },
          "autotypenumbers": "strict",
          "coloraxis": {
           "colorbar": {
            "outlinewidth": 0,
            "ticks": ""
           }
          },
          "colorscale": {
           "diverging": [
            [
             0,
             "#8e0152"
            ],
            [
             0.1,
             "#c51b7d"
            ],
            [
             0.2,
             "#de77ae"
            ],
            [
             0.3,
             "#f1b6da"
            ],
            [
             0.4,
             "#fde0ef"
            ],
            [
             0.5,
             "#f7f7f7"
            ],
            [
             0.6,
             "#e6f5d0"
            ],
            [
             0.7,
             "#b8e186"
            ],
            [
             0.8,
             "#7fbc41"
            ],
            [
             0.9,
             "#4d9221"
            ],
            [
             1,
             "#276419"
            ]
           ],
           "sequential": [
            [
             0,
             "#0d0887"
            ],
            [
             0.1111111111111111,
             "#46039f"
            ],
            [
             0.2222222222222222,
             "#7201a8"
            ],
            [
             0.3333333333333333,
             "#9c179e"
            ],
            [
             0.4444444444444444,
             "#bd3786"
            ],
            [
             0.5555555555555556,
             "#d8576b"
            ],
            [
             0.6666666666666666,
             "#ed7953"
            ],
            [
             0.7777777777777778,
             "#fb9f3a"
            ],
            [
             0.8888888888888888,
             "#fdca26"
            ],
            [
             1,
             "#f0f921"
            ]
           ],
           "sequentialminus": [
            [
             0,
             "#0d0887"
            ],
            [
             0.1111111111111111,
             "#46039f"
            ],
            [
             0.2222222222222222,
             "#7201a8"
            ],
            [
             0.3333333333333333,
             "#9c179e"
            ],
            [
             0.4444444444444444,
             "#bd3786"
            ],
            [
             0.5555555555555556,
             "#d8576b"
            ],
            [
             0.6666666666666666,
             "#ed7953"
            ],
            [
             0.7777777777777778,
             "#fb9f3a"
            ],
            [
             0.8888888888888888,
             "#fdca26"
            ],
            [
             1,
             "#f0f921"
            ]
           ]
          },
          "colorway": [
           "#636efa",
           "#EF553B",
           "#00cc96",
           "#ab63fa",
           "#FFA15A",
           "#19d3f3",
           "#FF6692",
           "#B6E880",
           "#FF97FF",
           "#FECB52"
          ],
          "font": {
           "color": "#2a3f5f"
          },
          "geo": {
           "bgcolor": "white",
           "lakecolor": "white",
           "landcolor": "#E5ECF6",
           "showlakes": true,
           "showland": true,
           "subunitcolor": "white"
          },
          "hoverlabel": {
           "align": "left"
          },
          "hovermode": "closest",
          "mapbox": {
           "style": "light"
          },
          "paper_bgcolor": "white",
          "plot_bgcolor": "#E5ECF6",
          "polar": {
           "angularaxis": {
            "gridcolor": "white",
            "linecolor": "white",
            "ticks": ""
           },
           "bgcolor": "#E5ECF6",
           "radialaxis": {
            "gridcolor": "white",
            "linecolor": "white",
            "ticks": ""
           }
          },
          "scene": {
           "xaxis": {
            "backgroundcolor": "#E5ECF6",
            "gridcolor": "white",
            "gridwidth": 2,
            "linecolor": "white",
            "showbackground": true,
            "ticks": "",
            "zerolinecolor": "white"
           },
           "yaxis": {
            "backgroundcolor": "#E5ECF6",
            "gridcolor": "white",
            "gridwidth": 2,
            "linecolor": "white",
            "showbackground": true,
            "ticks": "",
            "zerolinecolor": "white"
           },
           "zaxis": {
            "backgroundcolor": "#E5ECF6",
            "gridcolor": "white",
            "gridwidth": 2,
            "linecolor": "white",
            "showbackground": true,
            "ticks": "",
            "zerolinecolor": "white"
           }
          },
          "shapedefaults": {
           "line": {
            "color": "#2a3f5f"
           }
          },
          "ternary": {
           "aaxis": {
            "gridcolor": "white",
            "linecolor": "white",
            "ticks": ""
           },
           "baxis": {
            "gridcolor": "white",
            "linecolor": "white",
            "ticks": ""
           },
           "bgcolor": "#E5ECF6",
           "caxis": {
            "gridcolor": "white",
            "linecolor": "white",
            "ticks": ""
           }
          },
          "title": {
           "x": 0.05
          },
          "xaxis": {
           "automargin": true,
           "gridcolor": "white",
           "linecolor": "white",
           "ticks": "",
           "title": {
            "standoff": 15
           },
           "zerolinecolor": "white",
           "zerolinewidth": 2
          },
          "yaxis": {
           "automargin": true,
           "gridcolor": "white",
           "linecolor": "white",
           "ticks": "",
           "title": {
            "standoff": 15
           },
           "zerolinecolor": "white",
           "zerolinewidth": 2
          }
         }
        },
        "title": {
         "text": "Sources by the years",
         "x": 0.5,
         "y": 0.92
        },
        "uniformtext": {
         "minsize": 8,
         "mode": "hide"
        },
        "xaxis": {
         "anchor": "y",
         "domain": [
          0,
          1
         ],
         "title": {
          "text": "Year"
         }
        },
        "yaxis": {
         "anchor": "x",
         "categoryorder": "total descending",
         "domain": [
          0,
          1
         ],
         "title": {
          "text": "Count"
         }
        }
       }
      }
     },
     "metadata": {},
     "output_type": "display_data"
    }
   ],
   "source": [
    "df_conf_jour_yr = df_conf_jour.groupby(['Year', 'Type of Source']).size().reset_index().rename(columns={0:'Count'})\n",
    "df_conf_jour_yr= df_conf_jour_yr.sort_values(['Year'],axis=0,ascending=False)\n",
    "\n",
    "\n",
    "fig = px.bar(df_conf_jour_yr, y=\"Count\", x=\"Year\", color=\"Type of Source\",\n",
    "            hover_data=['Year'], barmode = 'stack',\n",
    "            color_discrete_map={\n",
    "                'Journal': '#FC6955',\n",
    "                'Preprints': 'rgb(255, 255, 51)',\n",
    "                'Conference': 'rgb(47, 138, 196)'\n",
    "                     }, text ='Count')\n",
    "fig.update_layout(title_text='Sources by the years', title_x=0.5, title_y=0.92,\n",
    "    legend=dict(\n",
    "    yanchor=\"top\",\n",
    "    y=0.59,\n",
    "    xanchor=\"right\",\n",
    "    x=0.79\n",
    "))\n",
    "fig.update_layout(yaxis={'categoryorder':'total descending'})\n",
    "fig.update_layout(uniformtext_minsize=8, uniformtext_mode='hide')\n",
    "fig.update_traces(textposition='outside')\n",
    "fig.show()\n"
   ]
  },
  {
   "attachments": {},
   "cell_type": "markdown",
   "metadata": {},
   "source": [
    "### Sources and their subjects"
   ]
  },
  {
   "cell_type": "code",
   "execution_count": 24,
   "metadata": {},
   "outputs": [
    {
     "data": {
      "text/plain": [
       "arXiv preprint arXiv …                                   85\n",
       "api.taylorfrancis.com                                    34\n",
       "researchgate.net                                         27\n",
       "Journal of …                                             26\n",
       "Proceedings of the …                                     24\n",
       "                                                         ..\n",
       "CENTRAL EUROPEAN POLITICAL SCIENCE                        1\n",
       "The Kaleidoscope of Gender: Prisms, Patterns, and …       1\n",
       "Busted! The Truth about the 50 Most Common Internet …     1\n",
       "Psychology, Crime & Law                                   1\n",
       "CHI Conference on Human Factors in …                      1\n",
       "Name: Source, Length: 1580, dtype: int64"
      ]
     },
     "execution_count": 24,
     "metadata": {},
     "output_type": "execute_result"
    }
   ],
   "source": [
    "df['Source'].value_counts()"
   ]
  },
  {
   "cell_type": "code",
   "execution_count": 25,
   "metadata": {},
   "outputs": [
    {
     "data": {
      "text/html": [
       "<div>\n",
       "<style scoped>\n",
       "    .dataframe tbody tr th:only-of-type {\n",
       "        vertical-align: middle;\n",
       "    }\n",
       "\n",
       "    .dataframe tbody tr th {\n",
       "        vertical-align: top;\n",
       "    }\n",
       "\n",
       "    .dataframe thead th {\n",
       "        text-align: right;\n",
       "    }\n",
       "</style>\n",
       "<table border=\"1\" class=\"dataframe\">\n",
       "  <thead>\n",
       "    <tr style=\"text-align: right;\">\n",
       "      <th></th>\n",
       "      <th>Source</th>\n",
       "    </tr>\n",
       "  </thead>\n",
       "  <tbody>\n",
       "    <tr>\n",
       "      <th>0</th>\n",
       "      <td>Journal of Women's Health</td>\n",
       "    </tr>\n",
       "    <tr>\n",
       "      <th>1</th>\n",
       "      <td>Journal of Sexual Aggression</td>\n",
       "    </tr>\n",
       "    <tr>\n",
       "      <th>2</th>\n",
       "      <td>Handbook of Psychology and Sexual Orientation</td>\n",
       "    </tr>\n",
       "    <tr>\n",
       "      <th>3</th>\n",
       "      <td>Journal of Children and Media</td>\n",
       "    </tr>\n",
       "    <tr>\n",
       "      <th>4</th>\n",
       "      <td>Journal of Gay &amp; Lesbian Mental Health</td>\n",
       "    </tr>\n",
       "    <tr>\n",
       "      <th>...</th>\n",
       "      <td>...</td>\n",
       "    </tr>\n",
       "    <tr>\n",
       "      <th>528</th>\n",
       "      <td>Journal of Sexual Aggression</td>\n",
       "    </tr>\n",
       "    <tr>\n",
       "      <th>529</th>\n",
       "      <td>The Journal of Social Studies Research</td>\n",
       "    </tr>\n",
       "    <tr>\n",
       "      <th>530</th>\n",
       "      <td>LGBTQ+ Family: An Interdisciplinary Journal</td>\n",
       "    </tr>\n",
       "    <tr>\n",
       "      <th>531</th>\n",
       "      <td>Journal of Library …</td>\n",
       "    </tr>\n",
       "    <tr>\n",
       "      <th>532</th>\n",
       "      <td>CHI Conference on Human Factors in …</td>\n",
       "    </tr>\n",
       "  </tbody>\n",
       "</table>\n",
       "<p>533 rows × 1 columns</p>\n",
       "</div>"
      ],
      "text/plain": [
       "                                            Source\n",
       "0                        Journal of Women's Health\n",
       "1                     Journal of Sexual Aggression\n",
       "2    Handbook of Psychology and Sexual Orientation\n",
       "3                    Journal of Children and Media\n",
       "4           Journal of Gay & Lesbian Mental Health\n",
       "..                                             ...\n",
       "528                   Journal of Sexual Aggression\n",
       "529         The Journal of Social Studies Research\n",
       "530    LGBTQ+ Family: An Interdisciplinary Journal\n",
       "531                           Journal of Library …\n",
       "532           CHI Conference on Human Factors in …\n",
       "\n",
       "[533 rows x 1 columns]"
      ]
     },
     "execution_count": 25,
     "metadata": {},
     "output_type": "execute_result"
    }
   ],
   "source": [
    "df_sou_sub = df[['Source', 'Type of Source']]\n",
    "df_sou_sub = df_sou_sub.loc[~df_sou_sub['Type of Source'].isna()] # Removing the nan values\n",
    "df_sou_sub = df_sou_sub.loc[~(df_sou_sub['Type of Source'] == 'Thesis')] # Removing the thesis type\n",
    "\n",
    "df_sou_sub = pd.DataFrame({\n",
    "    'Source': df_sou_sub['Source'].tolist()\n",
    "    #'Source': df_sou_sub['Source'].unique().tolist(),\n",
    "    #'counts': df_sou_sub['Source'].value_counts()\n",
    "}).reset_index(drop=True)\n",
    "\n",
    "df_sou_sub\n"
   ]
  },
  {
   "cell_type": "code",
   "execution_count": 26,
   "metadata": {},
   "outputs": [],
   "source": [
    "# Clean the source of any domains = ['com', 'net', 'co']\n",
    "\n",
    "df_sou_sub[\"Source\"] = df_sou_sub[\"Source\"].str.strip('.net')\n",
    "df_sou_sub[\"Source\"] = df_sou_sub[\"Source\"].str.strip('.com')\n",
    "df_sou_sub[\"Source\"] = df_sou_sub[\"Source\"].str.strip('.co')\n",
    "\n",
    "df_sou_sub[\"Source\"] = df_sou_sub[\"Source\"].replace('-', ' ', regex=True)\n",
    "\n",
    "\n",
    "df_sou_sub[\"Source\"] = df_sou_sub[\"Source\"].str.lower()\n"
   ]
  },
  {
   "cell_type": "code",
   "execution_count": 27,
   "metadata": {},
   "outputs": [
    {
     "data": {
      "text/plain": [
       "(0, 401, 0)"
      ]
     },
     "execution_count": 27,
     "metadata": {},
     "output_type": "execute_result"
    }
   ],
   "source": [
    "# Check occurrences for journals\n",
    "df_sou_sub[\"Source\"].str.contains('Journal').sum(), df_sou_sub[\"Source\"].str.contains('journal').sum(), df_sou_sub[\"Source\"].str.contains('JOURNAL').sum()"
   ]
  },
  {
   "cell_type": "code",
   "execution_count": 28,
   "metadata": {},
   "outputs": [
    {
     "data": {
      "text/html": [
       "<div>\n",
       "<style scoped>\n",
       "    .dataframe tbody tr th:only-of-type {\n",
       "        vertical-align: middle;\n",
       "    }\n",
       "\n",
       "    .dataframe tbody tr th {\n",
       "        vertical-align: top;\n",
       "    }\n",
       "\n",
       "    .dataframe thead th {\n",
       "        text-align: right;\n",
       "    }\n",
       "</style>\n",
       "<table border=\"1\" class=\"dataframe\">\n",
       "  <thead>\n",
       "    <tr style=\"text-align: right;\">\n",
       "      <th></th>\n",
       "      <th>Source</th>\n",
       "    </tr>\n",
       "  </thead>\n",
       "  <tbody>\n",
       "    <tr>\n",
       "      <th>0</th>\n",
       "      <td>journal of women's health</td>\n",
       "    </tr>\n",
       "    <tr>\n",
       "      <th>1</th>\n",
       "      <td>journal of sexual aggressi</td>\n",
       "    </tr>\n",
       "    <tr>\n",
       "      <th>3</th>\n",
       "      <td>journal of children and media</td>\n",
       "    </tr>\n",
       "    <tr>\n",
       "      <th>4</th>\n",
       "      <td>journal of gay &amp; lesbian mental health</td>\n",
       "    </tr>\n",
       "    <tr>\n",
       "      <th>5</th>\n",
       "      <td>journal of youth studies</td>\n",
       "    </tr>\n",
       "    <tr>\n",
       "      <th>...</th>\n",
       "      <td>...</td>\n",
       "    </tr>\n",
       "    <tr>\n",
       "      <th>526</th>\n",
       "      <td>european journal of engineering educati</td>\n",
       "    </tr>\n",
       "    <tr>\n",
       "      <th>528</th>\n",
       "      <td>journal of sexual aggressi</td>\n",
       "    </tr>\n",
       "    <tr>\n",
       "      <th>529</th>\n",
       "      <td>the journal of social studies research</td>\n",
       "    </tr>\n",
       "    <tr>\n",
       "      <th>530</th>\n",
       "      <td>lgbtq+ family: an interdisciplinary journal</td>\n",
       "    </tr>\n",
       "    <tr>\n",
       "      <th>531</th>\n",
       "      <td>journal of library …</td>\n",
       "    </tr>\n",
       "  </tbody>\n",
       "</table>\n",
       "<p>401 rows × 1 columns</p>\n",
       "</div>"
      ],
      "text/plain": [
       "                                          Source\n",
       "0                      journal of women's health\n",
       "1                     journal of sexual aggressi\n",
       "3                  journal of children and media\n",
       "4         journal of gay & lesbian mental health\n",
       "5                       journal of youth studies\n",
       "..                                           ...\n",
       "526      european journal of engineering educati\n",
       "528                   journal of sexual aggressi\n",
       "529       the journal of social studies research\n",
       "530  lgbtq+ family: an interdisciplinary journal\n",
       "531                         journal of library …\n",
       "\n",
       "[401 rows x 1 columns]"
      ]
     },
     "execution_count": 28,
     "metadata": {},
     "output_type": "execute_result"
    }
   ],
   "source": [
    "# See how those words are\n",
    "\n",
    "# 'journal'\n",
    "contain_values = df_sou_sub[df_sou_sub[\"Source\"].str.contains('journal')]\n",
    "\n",
    "# Similarly for 'JOURNAL'\n",
    "# contain_values = df_sou_sub[df_sou_sub[\"Source\"].str.contains('JOURNAL')]\n",
    "\n",
    "contain_values"
   ]
  },
  {
   "cell_type": "code",
   "execution_count": 29,
   "metadata": {},
   "outputs": [
    {
     "data": {
      "text/plain": [
       "'journal of bisexuality'"
      ]
     },
     "execution_count": 29,
     "metadata": {},
     "output_type": "execute_result"
    }
   ],
   "source": [
    "contain_values['Source'].loc[41]\n",
    "# Has '...' after the journal, so cannot be extracted properly\n",
    "# Many such examples are there"
   ]
  },
  {
   "cell_type": "code",
   "execution_count": 30,
   "metadata": {},
   "outputs": [
    {
     "data": {
      "text/plain": [
       "(60, 0, 0)"
      ]
     },
     "execution_count": 30,
     "metadata": {},
     "output_type": "execute_result"
    }
   ],
   "source": [
    "# Check occurrences for conferences\n",
    "df_sou_sub[\"Source\"].str.contains('conference').sum(), df_sou_sub[\"Source\"].str.contains('Conference').sum(), df_sou_sub[\"Source\"].str.contains('Conferences').sum()"
   ]
  },
  {
   "cell_type": "code",
   "execution_count": 31,
   "metadata": {},
   "outputs": [
    {
     "data": {
      "text/html": [
       "<div>\n",
       "<style scoped>\n",
       "    .dataframe tbody tr th:only-of-type {\n",
       "        vertical-align: middle;\n",
       "    }\n",
       "\n",
       "    .dataframe tbody tr th {\n",
       "        vertical-align: top;\n",
       "    }\n",
       "\n",
       "    .dataframe thead th {\n",
       "        text-align: right;\n",
       "    }\n",
       "</style>\n",
       "<table border=\"1\" class=\"dataframe\">\n",
       "  <thead>\n",
       "    <tr style=\"text-align: right;\">\n",
       "      <th></th>\n",
       "      <th>Source</th>\n",
       "    </tr>\n",
       "  </thead>\n",
       "  <tbody>\n",
       "    <tr>\n",
       "      <th>6</th>\n",
       "      <td>international conference on social …</td>\n",
       "    </tr>\n",
       "    <tr>\n",
       "      <th>64</th>\n",
       "      <td>… international joint conference on artificial...</td>\n",
       "    </tr>\n",
       "    <tr>\n",
       "      <th>97</th>\n",
       "      <td>international conference on recent development...</td>\n",
       "    </tr>\n",
       "    <tr>\n",
       "      <th>128</th>\n",
       "      <td>alife 2018: the 2018 conference on artificial lif</td>\n",
       "    </tr>\n",
       "    <tr>\n",
       "      <th>145</th>\n",
       "      <td>australasian conference on data …</td>\n",
       "    </tr>\n",
       "    <tr>\n",
       "      <th>165</th>\n",
       "      <td>2019 ieee 21st conference on business …</td>\n",
       "    </tr>\n",
       "    <tr>\n",
       "      <th>169</th>\n",
       "      <td>6th italian conference on …</td>\n",
       "    </tr>\n",
       "    <tr>\n",
       "      <th>172</th>\n",
       "      <td>6th italian conference …</td>\n",
       "    </tr>\n",
       "    <tr>\n",
       "      <th>177</th>\n",
       "      <td>2019 ieee 21st conference on …</td>\n",
       "    </tr>\n",
       "    <tr>\n",
       "      <th>190</th>\n",
       "      <td>journal of physics: conference …</td>\n",
       "    </tr>\n",
       "    <tr>\n",
       "      <th>205</th>\n",
       "      <td>… of the 2019 chi conference on human …</td>\n",
       "    </tr>\n",
       "    <tr>\n",
       "      <th>209</th>\n",
       "      <td>2019 25th conference of open …</td>\n",
       "    </tr>\n",
       "    <tr>\n",
       "      <th>214</th>\n",
       "      <td>23rd pacific asia conference on information …</td>\n",
       "    </tr>\n",
       "    <tr>\n",
       "      <th>222</th>\n",
       "      <td>… joint conference on artificial intelligen</td>\n",
       "    </tr>\n",
       "    <tr>\n",
       "      <th>223</th>\n",
       "      <td>2019 11th international conference on …</td>\n",
       "    </tr>\n",
       "    <tr>\n",
       "      <th>224</th>\n",
       "      <td>ieee/wic/acm international conference on …</td>\n",
       "    </tr>\n",
       "    <tr>\n",
       "      <th>243</th>\n",
       "      <td>… conference on social …</td>\n",
       "    </tr>\n",
       "    <tr>\n",
       "      <th>257</th>\n",
       "      <td>2020 international conference on …</td>\n",
       "    </tr>\n",
       "    <tr>\n",
       "      <th>269</th>\n",
       "      <td>proceedings of the aaai conference on …</td>\n",
       "    </tr>\n",
       "    <tr>\n",
       "      <th>276</th>\n",
       "      <td>… of the 28th international conference on …</td>\n",
       "    </tr>\n",
       "    <tr>\n",
       "      <th>285</th>\n",
       "      <td>proceedings of the 2nd conference on conversat...</td>\n",
       "    </tr>\n",
       "    <tr>\n",
       "      <th>294</th>\n",
       "      <td>… of the aaai conference on artificial intelligen</td>\n",
       "    </tr>\n",
       "    <tr>\n",
       "      <th>297</th>\n",
       "      <td>proceedings of the 2020 conference on …</td>\n",
       "    </tr>\n",
       "    <tr>\n",
       "      <th>321</th>\n",
       "      <td>2021 ieee international conference on big …</td>\n",
       "    </tr>\n",
       "    <tr>\n",
       "      <th>326</th>\n",
       "      <td>… conference of the cross …</td>\n",
       "    </tr>\n",
       "    <tr>\n",
       "      <th>329</th>\n",
       "      <td>2021 conference on research in …</td>\n",
       "    </tr>\n",
       "    <tr>\n",
       "      <th>331</th>\n",
       "      <td>international conference …</td>\n",
       "    </tr>\n",
       "    <tr>\n",
       "      <th>345</th>\n",
       "      <td>… conference on data …</td>\n",
       "    </tr>\n",
       "    <tr>\n",
       "      <th>346</th>\n",
       "      <td>data mining: 19th australasian conference on d...</td>\n",
       "    </tr>\n",
       "    <tr>\n",
       "      <th>350</th>\n",
       "      <td>13th acm web science conference …</td>\n",
       "    </tr>\n",
       "    <tr>\n",
       "      <th>364</th>\n",
       "      <td>… conference on machine learning …</td>\n",
       "    </tr>\n",
       "    <tr>\n",
       "      <th>365</th>\n",
       "      <td>the 2021 conference of the north …</td>\n",
       "    </tr>\n",
       "    <tr>\n",
       "      <th>366</th>\n",
       "      <td>iccws 2021 16th international conference on cy...</td>\n",
       "    </tr>\n",
       "    <tr>\n",
       "      <th>371</th>\n",
       "      <td>… of the 32nd acm conference on …</td>\n",
       "    </tr>\n",
       "    <tr>\n",
       "      <th>377</th>\n",
       "      <td>… conference on language, communication and cu...</td>\n",
       "    </tr>\n",
       "    <tr>\n",
       "      <th>387</th>\n",
       "      <td>thirty fifth conference …</td>\n",
       "    </tr>\n",
       "    <tr>\n",
       "      <th>396</th>\n",
       "      <td>iop conference series: materials …</td>\n",
       "    </tr>\n",
       "    <tr>\n",
       "      <th>399</th>\n",
       "      <td>… of the 16th conference of the …</td>\n",
       "    </tr>\n",
       "    <tr>\n",
       "      <th>402</th>\n",
       "      <td>… acm sigaccess conference on computers and …</td>\n",
       "    </tr>\n",
       "    <tr>\n",
       "      <th>404</th>\n",
       "      <td>… international conference on artificial intel...</td>\n",
       "    </tr>\n",
       "    <tr>\n",
       "      <th>407</th>\n",
       "      <td>… conference on social …</td>\n",
       "    </tr>\n",
       "    <tr>\n",
       "      <th>423</th>\n",
       "      <td>2021 ieee conference on games (cog)</td>\n",
       "    </tr>\n",
       "    <tr>\n",
       "      <th>430</th>\n",
       "      <td>2021 5th international conference …</td>\n",
       "    </tr>\n",
       "    <tr>\n",
       "      <th>443</th>\n",
       "      <td>acm conference on fairness, accountability, and …</td>\n",
       "    </tr>\n",
       "    <tr>\n",
       "      <th>444</th>\n",
       "      <td>chi conference on human factors in computing …</td>\n",
       "    </tr>\n",
       "    <tr>\n",
       "      <th>451</th>\n",
       "      <td>2022 acm conference on fairness, accountability …</td>\n",
       "    </tr>\n",
       "    <tr>\n",
       "      <th>460</th>\n",
       "      <td>… conference on information management and big …</td>\n",
       "    </tr>\n",
       "    <tr>\n",
       "      <th>461</th>\n",
       "      <td>… of the international aaai conference on …</td>\n",
       "    </tr>\n",
       "    <tr>\n",
       "      <th>463</th>\n",
       "      <td>2022 acm conference …</td>\n",
       "    </tr>\n",
       "    <tr>\n",
       "      <th>465</th>\n",
       "      <td>… conference on statistics, applied mathematic...</td>\n",
       "    </tr>\n",
       "    <tr>\n",
       "      <th>466</th>\n",
       "      <td>chi conference on human …</td>\n",
       "    </tr>\n",
       "    <tr>\n",
       "      <th>467</th>\n",
       "      <td>journal of social policy conferences</td>\n",
       "    </tr>\n",
       "    <tr>\n",
       "      <th>470</th>\n",
       "      <td>chi conference on human …</td>\n",
       "    </tr>\n",
       "    <tr>\n",
       "      <th>471</th>\n",
       "      <td>2022 international conference for advancement …</td>\n",
       "    </tr>\n",
       "    <tr>\n",
       "      <th>486</th>\n",
       "      <td>2022 acm conference on …</td>\n",
       "    </tr>\n",
       "    <tr>\n",
       "      <th>502</th>\n",
       "      <td>2022 acm conference …</td>\n",
       "    </tr>\n",
       "    <tr>\n",
       "      <th>511</th>\n",
       "      <td>2022 8th international conference on …</td>\n",
       "    </tr>\n",
       "    <tr>\n",
       "      <th>523</th>\n",
       "      <td>proceedings of the international aaai conferen...</td>\n",
       "    </tr>\n",
       "    <tr>\n",
       "      <th>527</th>\n",
       "      <td>international conference on informati</td>\n",
       "    </tr>\n",
       "    <tr>\n",
       "      <th>532</th>\n",
       "      <td>chi conference on human factors in …</td>\n",
       "    </tr>\n",
       "  </tbody>\n",
       "</table>\n",
       "</div>"
      ],
      "text/plain": [
       "                                                Source\n",
       "6                 international conference on social …\n",
       "64   … international joint conference on artificial...\n",
       "97   international conference on recent development...\n",
       "128  alife 2018: the 2018 conference on artificial lif\n",
       "145                  australasian conference on data …\n",
       "165            2019 ieee 21st conference on business …\n",
       "169                        6th italian conference on …\n",
       "172                           6th italian conference …\n",
       "177                     2019 ieee 21st conference on …\n",
       "190                   journal of physics: conference …\n",
       "205            … of the 2019 chi conference on human …\n",
       "209                     2019 25th conference of open …\n",
       "214      23rd pacific asia conference on information …\n",
       "222        … joint conference on artificial intelligen\n",
       "223            2019 11th international conference on …\n",
       "224         ieee/wic/acm international conference on …\n",
       "243                           … conference on social …\n",
       "257                 2020 international conference on …\n",
       "269            proceedings of the aaai conference on …\n",
       "276        … of the 28th international conference on …\n",
       "285  proceedings of the 2nd conference on conversat...\n",
       "294  … of the aaai conference on artificial intelligen\n",
       "297            proceedings of the 2020 conference on …\n",
       "321        2021 ieee international conference on big …\n",
       "326                        … conference of the cross …\n",
       "329                   2021 conference on research in …\n",
       "331                         international conference …\n",
       "345                             … conference on data …\n",
       "346  data mining: 19th australasian conference on d...\n",
       "350                  13th acm web science conference …\n",
       "364                 … conference on machine learning …\n",
       "365                 the 2021 conference of the north …\n",
       "366  iccws 2021 16th international conference on cy...\n",
       "371                  … of the 32nd acm conference on …\n",
       "377  … conference on language, communication and cu...\n",
       "387                          thirty fifth conference …\n",
       "396                 iop conference series: materials …\n",
       "399                  … of the 16th conference of the …\n",
       "402      … acm sigaccess conference on computers and …\n",
       "404  … international conference on artificial intel...\n",
       "407                           … conference on social …\n",
       "423                2021 ieee conference on games (cog)\n",
       "430                2021 5th international conference …\n",
       "443  acm conference on fairness, accountability, and …\n",
       "444     chi conference on human factors in computing …\n",
       "451  2022 acm conference on fairness, accountability …\n",
       "460   … conference on information management and big …\n",
       "461        … of the international aaai conference on …\n",
       "463                              2022 acm conference …\n",
       "465  … conference on statistics, applied mathematic...\n",
       "466                          chi conference on human …\n",
       "467               journal of social policy conferences\n",
       "470                          chi conference on human …\n",
       "471    2022 international conference for advancement …\n",
       "486                           2022 acm conference on …\n",
       "502                              2022 acm conference …\n",
       "511             2022 8th international conference on …\n",
       "523  proceedings of the international aaai conferen...\n",
       "527              international conference on informati\n",
       "532               chi conference on human factors in …"
      ]
     },
     "execution_count": 31,
     "metadata": {},
     "output_type": "execute_result"
    }
   ],
   "source": [
    "# 'conference'\n",
    "contain_values = df_sou_sub[df_sou_sub[\"Source\"].str.contains('conference')]\n",
    "\n",
    "# 'Conference'\n",
    "# contain_values = df_sou_sub[df_sou_sub[\"Source\"].str.contains('Conference')]\n",
    "\n",
    "# 'Conferences'\n",
    "#contain_values = df_sou_sub[df_sou_sub[\"Source\"].str.contains('Conferences')] # string before\n",
    "\n",
    "contain_values"
   ]
  },
  {
   "cell_type": "code",
   "execution_count": 32,
   "metadata": {},
   "outputs": [
    {
     "data": {
      "text/html": [
       "<div>\n",
       "<style scoped>\n",
       "    .dataframe tbody tr th:only-of-type {\n",
       "        vertical-align: middle;\n",
       "    }\n",
       "\n",
       "    .dataframe tbody tr th {\n",
       "        vertical-align: top;\n",
       "    }\n",
       "\n",
       "    .dataframe thead th {\n",
       "        text-align: right;\n",
       "    }\n",
       "</style>\n",
       "<table border=\"1\" class=\"dataframe\">\n",
       "  <thead>\n",
       "    <tr style=\"text-align: right;\">\n",
       "      <th></th>\n",
       "      <th>Source</th>\n",
       "    </tr>\n",
       "  </thead>\n",
       "  <tbody>\n",
       "  </tbody>\n",
       "</table>\n",
       "</div>"
      ],
      "text/plain": [
       "Empty DataFrame\n",
       "Columns: [Source]\n",
       "Index: []"
      ]
     },
     "execution_count": 32,
     "metadata": {},
     "output_type": "execute_result"
    }
   ],
   "source": [
    "# 'Handbook'\n",
    "# contain_values = df_sou_sub[df_sou_sub[\"Source\"].str.contains('Handbook')]\n",
    "# observation: Some of the values need to be lowercased to match\n",
    "# clean the values after this\n",
    "\n",
    "# 'Book'\n",
    "contain_values = df_sou_sub[df_sou_sub[\"Source\"].str.contains('Book')] # before\n",
    "\n",
    "# 'book'\n",
    "#contain_values = df_sou_sub[df_sou_sub[\"Source\"].str.contains('book')] # takes from handbook itself, so not considered\n",
    "\n",
    "# Encyclopedia\n",
    "#contain_values = df_sou_sub[df_sou_sub[\"Source\"].str.contains('Encyclopedia')]\n",
    "contain_values"
   ]
  },
  {
   "cell_type": "code",
   "execution_count": 33,
   "metadata": {},
   "outputs": [],
   "source": [
    "def substring_extract(s, delim):\n",
    "    str = ''\n",
    "    for each in range(0, len(delim)):\n",
    "        if s.endswith(delim[each]): \n",
    "            value = s.partition(delim[each])[0]\n",
    "        else:\n",
    "            value = s.partition(delim[each])[2]\n",
    "        if jellyfish.jaro_distance(str, value) < 0.50:\n",
    "            str += value\n",
    "    return str"
   ]
  },
  {
   "cell_type": "code",
   "execution_count": 34,
   "metadata": {},
   "outputs": [],
   "source": [
    "## These are the key words.  The pairs belong to separate lists--(journals, conferences) in \n",
    "## either order.  These lists tend to grow as more keywords are discovered.\n",
    "journal_items = ['journal of', 'journal']\n",
    "conference_items = ['conference on', 'conference']\n",
    "book_items = [ 'handbook for', 'handbook of', 'handbook on', 'handbook', 'encyclopedia of', 'e-book']"
   ]
  },
  {
   "cell_type": "code",
   "execution_count": 35,
   "metadata": {},
   "outputs": [
    {
     "data": {
      "text/html": [
       "<div>\n",
       "<style scoped>\n",
       "    .dataframe tbody tr th:only-of-type {\n",
       "        vertical-align: middle;\n",
       "    }\n",
       "\n",
       "    .dataframe tbody tr th {\n",
       "        vertical-align: top;\n",
       "    }\n",
       "\n",
       "    .dataframe thead th {\n",
       "        text-align: right;\n",
       "    }\n",
       "</style>\n",
       "<table border=\"1\" class=\"dataframe\">\n",
       "  <thead>\n",
       "    <tr style=\"text-align: right;\">\n",
       "      <th></th>\n",
       "      <th>Source</th>\n",
       "      <th>journals</th>\n",
       "      <th>conferences</th>\n",
       "      <th>books</th>\n",
       "    </tr>\n",
       "  </thead>\n",
       "  <tbody>\n",
       "    <tr>\n",
       "      <th>0</th>\n",
       "      <td>journal of women's health</td>\n",
       "      <td>women's health</td>\n",
       "      <td></td>\n",
       "      <td></td>\n",
       "    </tr>\n",
       "    <tr>\n",
       "      <th>1</th>\n",
       "      <td>journal of sexual aggressi</td>\n",
       "      <td>sexual aggressi</td>\n",
       "      <td></td>\n",
       "      <td></td>\n",
       "    </tr>\n",
       "    <tr>\n",
       "      <th>2</th>\n",
       "      <td>handbook of psychology and sexual orientati</td>\n",
       "      <td></td>\n",
       "      <td></td>\n",
       "      <td>psychology and sexual orientati</td>\n",
       "    </tr>\n",
       "    <tr>\n",
       "      <th>3</th>\n",
       "      <td>journal of children and media</td>\n",
       "      <td>children and media</td>\n",
       "      <td></td>\n",
       "      <td></td>\n",
       "    </tr>\n",
       "    <tr>\n",
       "      <th>4</th>\n",
       "      <td>journal of gay &amp; lesbian mental health</td>\n",
       "      <td>gay &amp; lesbian mental health</td>\n",
       "      <td></td>\n",
       "      <td></td>\n",
       "    </tr>\n",
       "    <tr>\n",
       "      <th>...</th>\n",
       "      <td>...</td>\n",
       "      <td>...</td>\n",
       "      <td>...</td>\n",
       "      <td>...</td>\n",
       "    </tr>\n",
       "    <tr>\n",
       "      <th>528</th>\n",
       "      <td>journal of sexual aggressi</td>\n",
       "      <td>sexual aggressi</td>\n",
       "      <td></td>\n",
       "      <td></td>\n",
       "    </tr>\n",
       "    <tr>\n",
       "      <th>529</th>\n",
       "      <td>the journal of social studies research</td>\n",
       "      <td>social studies research</td>\n",
       "      <td></td>\n",
       "      <td></td>\n",
       "    </tr>\n",
       "    <tr>\n",
       "      <th>530</th>\n",
       "      <td>lgbtq+ family: an interdisciplinary journal</td>\n",
       "      <td>lgbtq+ family: an interdisciplinary</td>\n",
       "      <td></td>\n",
       "      <td></td>\n",
       "    </tr>\n",
       "    <tr>\n",
       "      <th>531</th>\n",
       "      <td>journal of library …</td>\n",
       "      <td>library …</td>\n",
       "      <td></td>\n",
       "      <td></td>\n",
       "    </tr>\n",
       "    <tr>\n",
       "      <th>532</th>\n",
       "      <td>chi conference on human factors in …</td>\n",
       "      <td></td>\n",
       "      <td>human factors in …</td>\n",
       "      <td></td>\n",
       "    </tr>\n",
       "  </tbody>\n",
       "</table>\n",
       "<p>533 rows × 4 columns</p>\n",
       "</div>"
      ],
      "text/plain": [
       "                                          Source  \\\n",
       "0                      journal of women's health   \n",
       "1                     journal of sexual aggressi   \n",
       "2    handbook of psychology and sexual orientati   \n",
       "3                  journal of children and media   \n",
       "4         journal of gay & lesbian mental health   \n",
       "..                                           ...   \n",
       "528                   journal of sexual aggressi   \n",
       "529       the journal of social studies research   \n",
       "530  lgbtq+ family: an interdisciplinary journal   \n",
       "531                         journal of library …   \n",
       "532         chi conference on human factors in …   \n",
       "\n",
       "                                 journals          conferences  \\\n",
       "0                          women's health                        \n",
       "1                         sexual aggressi                        \n",
       "2                                                                \n",
       "3                      children and media                        \n",
       "4             gay & lesbian mental health                        \n",
       "..                                    ...                  ...   \n",
       "528                       sexual aggressi                        \n",
       "529               social studies research                        \n",
       "530  lgbtq+ family: an interdisciplinary                         \n",
       "531                             library …                        \n",
       "532                                         human factors in …   \n",
       "\n",
       "                                books  \n",
       "0                                      \n",
       "1                                      \n",
       "2     psychology and sexual orientati  \n",
       "3                                      \n",
       "4                                      \n",
       "..                                ...  \n",
       "528                                    \n",
       "529                                    \n",
       "530                                    \n",
       "531                                    \n",
       "532                                    \n",
       "\n",
       "[533 rows x 4 columns]"
      ]
     },
     "execution_count": 35,
     "metadata": {},
     "output_type": "execute_result"
    }
   ],
   "source": [
    "# the apply(lambda) is slow but I don't mind it.\n",
    "df_sou_sub['journals'] = df_sou_sub['Source'].apply(lambda x: substring_extract(x, journal_items))\n",
    "df_sou_sub['conferences'] = df_sou_sub['Source'].apply(lambda x: substring_extract(x, conference_items)) \n",
    "df_sou_sub['books'] = df_sou_sub['Source'].apply(lambda x: substring_extract(x, book_items)) \n",
    "\n",
    "df_sou_sub"
   ]
  },
  {
   "attachments": {},
   "cell_type": "markdown",
   "metadata": {},
   "source": [
    "##### Minor text cleaning"
   ]
  },
  {
   "cell_type": "code",
   "execution_count": 36,
   "metadata": {},
   "outputs": [],
   "source": [
    "def minor_preprocess(text):\n",
    "    spell = Speller(lang='en') #check spellings \n",
    "    text = spell(text) # does not seem to work well on this. Works better on individual sentences\n",
    "    text = text.replace(r'&', 'and')\n",
    "    text = text.replace(r':', '')\n",
    "    text = text.replace(r'sexual aggressive', 'sexual aggression') # this was wrongly spelt\n",
    "    text = text.replace(r'...', '') # replacing the null values with NA to remove them in a later stage\n",
    "    text = text.replace(r'(', '')\n",
    "    text = text.replace(r')', '') \n",
    "\n",
    "    '''\n",
    "    Specifically for removing certain words from the texts to enrich them\n",
    "    can consist of preprositions and other words\n",
    "    '''\n",
    "    stopwords = ['of', 'for', 'on', 'in', 'interdisciplinary', 'research', 'work', 'task', 'an', 'a']\n",
    "    querywords = text.split()\n",
    "\n",
    "    resultwords  = [word for word in querywords if word.lower() not in stopwords]\n",
    "    text = ' '.join(resultwords)\n",
    "\n",
    "    return text \n",
    "\n",
    "\n",
    "df_sou_sub['journals'] = df_sou_sub['journals'].apply(minor_preprocess)\n",
    "df_sou_sub['conferences'] = df_sou_sub['conferences'].apply(minor_preprocess)\n",
    "df_sou_sub['books'] = df_sou_sub['books'].apply(minor_preprocess)"
   ]
  },
  {
   "cell_type": "code",
   "execution_count": 37,
   "metadata": {},
   "outputs": [
    {
     "data": {
      "text/html": [
       "<div>\n",
       "<style scoped>\n",
       "    .dataframe tbody tr th:only-of-type {\n",
       "        vertical-align: middle;\n",
       "    }\n",
       "\n",
       "    .dataframe tbody tr th {\n",
       "        vertical-align: top;\n",
       "    }\n",
       "\n",
       "    .dataframe thead th {\n",
       "        text-align: right;\n",
       "    }\n",
       "</style>\n",
       "<table border=\"1\" class=\"dataframe\">\n",
       "  <thead>\n",
       "    <tr style=\"text-align: right;\">\n",
       "      <th></th>\n",
       "      <th>Source</th>\n",
       "      <th>journals</th>\n",
       "      <th>conferences</th>\n",
       "      <th>books</th>\n",
       "    </tr>\n",
       "  </thead>\n",
       "  <tbody>\n",
       "    <tr>\n",
       "      <th>0</th>\n",
       "      <td>journal of women's health</td>\n",
       "      <td>women's health</td>\n",
       "      <td></td>\n",
       "      <td></td>\n",
       "    </tr>\n",
       "    <tr>\n",
       "      <th>1</th>\n",
       "      <td>journal of sexual aggressi</td>\n",
       "      <td>sexual aggression</td>\n",
       "      <td></td>\n",
       "      <td></td>\n",
       "    </tr>\n",
       "    <tr>\n",
       "      <th>2</th>\n",
       "      <td>handbook of psychology and sexual orientati</td>\n",
       "      <td></td>\n",
       "      <td></td>\n",
       "      <td>psychology and sexual orientation</td>\n",
       "    </tr>\n",
       "    <tr>\n",
       "      <th>3</th>\n",
       "      <td>journal of children and media</td>\n",
       "      <td>children and media</td>\n",
       "      <td></td>\n",
       "      <td></td>\n",
       "    </tr>\n",
       "    <tr>\n",
       "      <th>4</th>\n",
       "      <td>journal of gay &amp; lesbian mental health</td>\n",
       "      <td>gay and lesbian mental health</td>\n",
       "      <td></td>\n",
       "      <td></td>\n",
       "    </tr>\n",
       "    <tr>\n",
       "      <th>...</th>\n",
       "      <td>...</td>\n",
       "      <td>...</td>\n",
       "      <td>...</td>\n",
       "      <td>...</td>\n",
       "    </tr>\n",
       "    <tr>\n",
       "      <th>528</th>\n",
       "      <td>journal of sexual aggressi</td>\n",
       "      <td>sexual aggression</td>\n",
       "      <td></td>\n",
       "      <td></td>\n",
       "    </tr>\n",
       "    <tr>\n",
       "      <th>529</th>\n",
       "      <td>the journal of social studies research</td>\n",
       "      <td>social studies</td>\n",
       "      <td></td>\n",
       "      <td></td>\n",
       "    </tr>\n",
       "    <tr>\n",
       "      <th>530</th>\n",
       "      <td>lgbtq+ family: an interdisciplinary journal</td>\n",
       "      <td>lgbtq+ family</td>\n",
       "      <td></td>\n",
       "      <td></td>\n",
       "    </tr>\n",
       "    <tr>\n",
       "      <th>531</th>\n",
       "      <td>journal of library …</td>\n",
       "      <td>library …</td>\n",
       "      <td></td>\n",
       "      <td></td>\n",
       "    </tr>\n",
       "    <tr>\n",
       "      <th>532</th>\n",
       "      <td>chi conference on human factors in …</td>\n",
       "      <td></td>\n",
       "      <td>human factors …</td>\n",
       "      <td></td>\n",
       "    </tr>\n",
       "  </tbody>\n",
       "</table>\n",
       "<p>533 rows × 4 columns</p>\n",
       "</div>"
      ],
      "text/plain": [
       "                                          Source  \\\n",
       "0                      journal of women's health   \n",
       "1                     journal of sexual aggressi   \n",
       "2    handbook of psychology and sexual orientati   \n",
       "3                  journal of children and media   \n",
       "4         journal of gay & lesbian mental health   \n",
       "..                                           ...   \n",
       "528                   journal of sexual aggressi   \n",
       "529       the journal of social studies research   \n",
       "530  lgbtq+ family: an interdisciplinary journal   \n",
       "531                         journal of library …   \n",
       "532         chi conference on human factors in …   \n",
       "\n",
       "                          journals      conferences  \\\n",
       "0                   women's health                    \n",
       "1                sexual aggression                    \n",
       "2                                                     \n",
       "3               children and media                    \n",
       "4    gay and lesbian mental health                    \n",
       "..                             ...              ...   \n",
       "528              sexual aggression                    \n",
       "529                 social studies                    \n",
       "530                  lgbtq+ family                    \n",
       "531                      library …                    \n",
       "532                                 human factors …   \n",
       "\n",
       "                                 books  \n",
       "0                                       \n",
       "1                                       \n",
       "2    psychology and sexual orientation  \n",
       "3                                       \n",
       "4                                       \n",
       "..                                 ...  \n",
       "528                                     \n",
       "529                                     \n",
       "530                                     \n",
       "531                                     \n",
       "532                                     \n",
       "\n",
       "[533 rows x 4 columns]"
      ]
     },
     "execution_count": 37,
     "metadata": {},
     "output_type": "execute_result"
    }
   ],
   "source": [
    "df_sou_sub"
   ]
  },
  {
   "cell_type": "code",
   "execution_count": 38,
   "metadata": {},
   "outputs": [
    {
     "data": {
      "text/html": [
       "<div>\n",
       "<style scoped>\n",
       "    .dataframe tbody tr th:only-of-type {\n",
       "        vertical-align: middle;\n",
       "    }\n",
       "\n",
       "    .dataframe tbody tr th {\n",
       "        vertical-align: top;\n",
       "    }\n",
       "\n",
       "    .dataframe thead th {\n",
       "        text-align: right;\n",
       "    }\n",
       "</style>\n",
       "<table border=\"1\" class=\"dataframe\">\n",
       "  <thead>\n",
       "    <tr style=\"text-align: right;\">\n",
       "      <th></th>\n",
       "      <th>Source</th>\n",
       "      <th>journals</th>\n",
       "      <th>conferences</th>\n",
       "      <th>books</th>\n",
       "      <th>subjects</th>\n",
       "    </tr>\n",
       "  </thead>\n",
       "  <tbody>\n",
       "    <tr>\n",
       "      <th>0</th>\n",
       "      <td>journal of women's health</td>\n",
       "      <td>women's health</td>\n",
       "      <td></td>\n",
       "      <td></td>\n",
       "      <td>women's health</td>\n",
       "    </tr>\n",
       "    <tr>\n",
       "      <th>1</th>\n",
       "      <td>journal of sexual aggressi</td>\n",
       "      <td>sexual aggression</td>\n",
       "      <td></td>\n",
       "      <td></td>\n",
       "      <td>sexual aggression</td>\n",
       "    </tr>\n",
       "    <tr>\n",
       "      <th>2</th>\n",
       "      <td>handbook of psychology and sexual orientati</td>\n",
       "      <td></td>\n",
       "      <td></td>\n",
       "      <td>psychology and sexual orientation</td>\n",
       "      <td>psychology and sexual orientation</td>\n",
       "    </tr>\n",
       "    <tr>\n",
       "      <th>3</th>\n",
       "      <td>journal of children and media</td>\n",
       "      <td>children and media</td>\n",
       "      <td></td>\n",
       "      <td></td>\n",
       "      <td>children and media</td>\n",
       "    </tr>\n",
       "    <tr>\n",
       "      <th>4</th>\n",
       "      <td>journal of gay &amp; lesbian mental health</td>\n",
       "      <td>gay and lesbian mental health</td>\n",
       "      <td></td>\n",
       "      <td></td>\n",
       "      <td>gay and lesbian mental health</td>\n",
       "    </tr>\n",
       "    <tr>\n",
       "      <th>...</th>\n",
       "      <td>...</td>\n",
       "      <td>...</td>\n",
       "      <td>...</td>\n",
       "      <td>...</td>\n",
       "      <td>...</td>\n",
       "    </tr>\n",
       "    <tr>\n",
       "      <th>528</th>\n",
       "      <td>journal of sexual aggressi</td>\n",
       "      <td>sexual aggression</td>\n",
       "      <td></td>\n",
       "      <td></td>\n",
       "      <td>sexual aggression</td>\n",
       "    </tr>\n",
       "    <tr>\n",
       "      <th>529</th>\n",
       "      <td>the journal of social studies research</td>\n",
       "      <td>social studies</td>\n",
       "      <td></td>\n",
       "      <td></td>\n",
       "      <td>social studies</td>\n",
       "    </tr>\n",
       "    <tr>\n",
       "      <th>530</th>\n",
       "      <td>lgbtq+ family: an interdisciplinary journal</td>\n",
       "      <td>lgbtq+ family</td>\n",
       "      <td></td>\n",
       "      <td></td>\n",
       "      <td>lgbtq+ family</td>\n",
       "    </tr>\n",
       "    <tr>\n",
       "      <th>531</th>\n",
       "      <td>journal of library …</td>\n",
       "      <td>library …</td>\n",
       "      <td></td>\n",
       "      <td></td>\n",
       "      <td>library …</td>\n",
       "    </tr>\n",
       "    <tr>\n",
       "      <th>532</th>\n",
       "      <td>chi conference on human factors in …</td>\n",
       "      <td></td>\n",
       "      <td>human factors …</td>\n",
       "      <td></td>\n",
       "      <td>human factors …</td>\n",
       "    </tr>\n",
       "  </tbody>\n",
       "</table>\n",
       "<p>533 rows × 5 columns</p>\n",
       "</div>"
      ],
      "text/plain": [
       "                                          Source  \\\n",
       "0                      journal of women's health   \n",
       "1                     journal of sexual aggressi   \n",
       "2    handbook of psychology and sexual orientati   \n",
       "3                  journal of children and media   \n",
       "4         journal of gay & lesbian mental health   \n",
       "..                                           ...   \n",
       "528                   journal of sexual aggressi   \n",
       "529       the journal of social studies research   \n",
       "530  lgbtq+ family: an interdisciplinary journal   \n",
       "531                         journal of library …   \n",
       "532         chi conference on human factors in …   \n",
       "\n",
       "                          journals      conferences  \\\n",
       "0                   women's health                    \n",
       "1                sexual aggression                    \n",
       "2                                                     \n",
       "3               children and media                    \n",
       "4    gay and lesbian mental health                    \n",
       "..                             ...              ...   \n",
       "528              sexual aggression                    \n",
       "529                 social studies                    \n",
       "530                  lgbtq+ family                    \n",
       "531                      library …                    \n",
       "532                                 human factors …   \n",
       "\n",
       "                                 books                           subjects  \n",
       "0                                                          women's health  \n",
       "1                                                       sexual aggression  \n",
       "2    psychology and sexual orientation  psychology and sexual orientation  \n",
       "3                                                      children and media  \n",
       "4                                           gay and lesbian mental health  \n",
       "..                                 ...                                ...  \n",
       "528                                                     sexual aggression  \n",
       "529                                                        social studies  \n",
       "530                                                         lgbtq+ family  \n",
       "531                                                             library …  \n",
       "532                                                       human factors …  \n",
       "\n",
       "[533 rows x 5 columns]"
      ]
     },
     "execution_count": 38,
     "metadata": {},
     "output_type": "execute_result"
    }
   ],
   "source": [
    "df_sou_sub['subjects'] = df_sou_sub['journals'] + df_sou_sub['conferences'] + df_sou_sub['books']\n",
    "#df_sou_sub['subjects'].isnull().unique() # no null values\n",
    "df_sou_sub"
   ]
  },
  {
   "cell_type": "code",
   "execution_count": 39,
   "metadata": {},
   "outputs": [
    {
     "data": {
      "text/html": [
       "<div>\n",
       "<style scoped>\n",
       "    .dataframe tbody tr th:only-of-type {\n",
       "        vertical-align: middle;\n",
       "    }\n",
       "\n",
       "    .dataframe tbody tr th {\n",
       "        vertical-align: top;\n",
       "    }\n",
       "\n",
       "    .dataframe thead th {\n",
       "        text-align: right;\n",
       "    }\n",
       "</style>\n",
       "<table border=\"1\" class=\"dataframe\">\n",
       "  <thead>\n",
       "    <tr style=\"text-align: right;\">\n",
       "      <th></th>\n",
       "      <th>names</th>\n",
       "      <th>journal_counts</th>\n",
       "      <th>conferences_counts</th>\n",
       "      <th>books_counts</th>\n",
       "    </tr>\n",
       "  </thead>\n",
       "  <tbody>\n",
       "    <tr>\n",
       "      <th>0</th>\n",
       "      <td>…</td>\n",
       "      <td>2</td>\n",
       "      <td>1</td>\n",
       "      <td>1</td>\n",
       "    </tr>\n",
       "    <tr>\n",
       "      <th>1</th>\n",
       "      <td>social …</td>\n",
       "      <td>1</td>\n",
       "      <td>22</td>\n",
       "      <td>3</td>\n",
       "    </tr>\n",
       "  </tbody>\n",
       "</table>\n",
       "</div>"
      ],
      "text/plain": [
       "      names  journal_counts  conferences_counts  books_counts\n",
       "0         …               2                   1             1\n",
       "1  social …               1                  22             3"
      ]
     },
     "execution_count": 39,
     "metadata": {},
     "output_type": "execute_result"
    }
   ],
   "source": [
    "# Journals\n",
    "df_journal = pd.DataFrame({\n",
    "    'names': df_sou_sub['journals'].unique().tolist(),\n",
    "    'journal_counts': df_sou_sub['journals'].value_counts()\n",
    "}).reset_index(drop=True).drop([2], axis=0)\n",
    "\n",
    "# Conferences\n",
    "df_conference = pd.DataFrame({\n",
    "    'names': df_sou_sub['conferences'].unique().tolist(),\n",
    "    'conferences_counts': df_sou_sub['conferences'].value_counts()\n",
    "}).reset_index(drop=True)[1:]\n",
    "\n",
    "# Books\n",
    "df_book = pd.DataFrame({\n",
    "    'names': df_sou_sub['books'].unique().tolist(),\n",
    "    'books_counts': df_sou_sub['books'].value_counts()\n",
    "}).reset_index(drop=True)[1:]\n",
    "\n",
    "# Testing if merging is beneficial\n",
    "df_jcb = df_journal.merge(df_conference, on='names', how='inner')\n",
    "df_jcb = df_jcb.merge(df_book, on='names', how='inner')\n",
    "df_jcb\n",
    "\n",
    "# NO \n",
    "## Only social research topic is the same for all three\n",
    "## Rather plot individually\n"
   ]
  },
  {
   "cell_type": "code",
   "execution_count": 40,
   "metadata": {},
   "outputs": [
    {
     "data": {
      "application/vnd.plotly.v1+json": {
       "config": {
        "plotlyServerURL": "https://plot.ly"
       },
       "data": [
        {
         "alignmentgroup": "True",
         "hovertemplate": "names=%{y}<br>journal_counts=%{text}<extra></extra>",
         "legendgroup": "women's health",
         "marker": {
          "color": "#636efa",
          "pattern": {
           "shape": ""
          }
         },
         "name": "women's health",
         "offsetgroup": "women's health",
         "orientation": "h",
         "showlegend": true,
         "text": [
          133
         ],
         "textposition": "outside",
         "type": "bar",
         "x": [
          133
         ],
         "xaxis": "x",
         "y": [
          "women's health"
         ],
         "yaxis": "y"
        },
        {
         "alignmentgroup": "True",
         "hovertemplate": "names=%{y}<br>journal_counts=%{text}<extra></extra>",
         "legendgroup": "sexual aggression",
         "marker": {
          "color": "#EF553B",
          "pattern": {
           "shape": ""
          }
         },
         "name": "sexual aggression",
         "offsetgroup": "sexual aggression",
         "orientation": "h",
         "showlegend": true,
         "text": [
          70
         ],
         "textposition": "outside",
         "type": "bar",
         "x": [
          70
         ],
         "xaxis": "x",
         "y": [
          "sexual aggression"
         ],
         "yaxis": "y"
        },
        {
         "alignmentgroup": "True",
         "hovertemplate": "names=%{y}<br>journal_counts=%{text}<extra></extra>",
         "legendgroup": "children and media",
         "marker": {
          "color": "#00cc96",
          "pattern": {
           "shape": ""
          }
         },
         "name": "children and media",
         "offsetgroup": "children and media",
         "orientation": "h",
         "showlegend": true,
         "text": [
          11
         ],
         "textposition": "outside",
         "type": "bar",
         "x": [
          11
         ],
         "xaxis": "x",
         "y": [
          "children and media"
         ],
         "yaxis": "y"
        },
        {
         "alignmentgroup": "True",
         "hovertemplate": "names=%{y}<br>journal_counts=%{text}<extra></extra>",
         "legendgroup": "gay and lesbian mental health",
         "marker": {
          "color": "#ab63fa",
          "pattern": {
           "shape": ""
          }
         },
         "name": "gay and lesbian mental health",
         "offsetgroup": "gay and lesbian mental health",
         "orientation": "h",
         "showlegend": true,
         "text": [
          6
         ],
         "textposition": "outside",
         "type": "bar",
         "x": [
          6
         ],
         "xaxis": "x",
         "y": [
          "gay and lesbian mental health"
         ],
         "yaxis": "y"
        },
        {
         "alignmentgroup": "True",
         "hovertemplate": "names=%{y}<br>journal_counts=%{text}<extra></extra>",
         "legendgroup": "youth studies",
         "marker": {
          "color": "#FFA15A",
          "pattern": {
           "shape": ""
          }
         },
         "name": "youth studies",
         "offsetgroup": "youth studies",
         "orientation": "h",
         "showlegend": true,
         "text": [
          6
         ],
         "textposition": "outside",
         "type": "bar",
         "x": [
          6
         ],
         "xaxis": "x",
         "y": [
          "youth studies"
         ],
         "yaxis": "y"
        },
        {
         "alignmentgroup": "True",
         "hovertemplate": "names=%{y}<br>journal_counts=%{text}<extra></extra>",
         "legendgroup": "ethnicity criminal just",
         "marker": {
          "color": "#19d3f3",
          "pattern": {
           "shape": ""
          }
         },
         "name": "ethnicity criminal just",
         "offsetgroup": "ethnicity criminal just",
         "orientation": "h",
         "showlegend": true,
         "text": [
          5
         ],
         "textposition": "outside",
         "type": "bar",
         "x": [
          5
         ],
         "xaxis": "x",
         "y": [
          "ethnicity criminal just"
         ],
         "yaxis": "y"
        },
        {
         "alignmentgroup": "True",
         "hovertemplate": "names=%{y}<br>journal_counts=%{text}<extra></extra>",
         "legendgroup": "lesbian …",
         "marker": {
          "color": "#FF6692",
          "pattern": {
           "shape": ""
          }
         },
         "name": "lesbian …",
         "offsetgroup": "lesbian …",
         "orientation": "h",
         "showlegend": true,
         "text": [
          5
         ],
         "textposition": "outside",
         "type": "bar",
         "x": [
          5
         ],
         "xaxis": "x",
         "y": [
          "lesbian …"
         ],
         "yaxis": "y"
        },
        {
         "alignmentgroup": "True",
         "hovertemplate": "names=%{y}<br>journal_counts=%{text}<extra></extra>",
         "legendgroup": "lesbian studies",
         "marker": {
          "color": "#B6E880",
          "pattern": {
           "shape": ""
          }
         },
         "name": "lesbian studies",
         "offsetgroup": "lesbian studies",
         "orientation": "h",
         "showlegend": true,
         "text": [
          5
         ],
         "textposition": "outside",
         "type": "bar",
         "x": [
          5
         ],
         "xaxis": "x",
         "y": [
          "lesbian studies"
         ],
         "yaxis": "y"
        },
        {
         "alignmentgroup": "True",
         "hovertemplate": "names=%{y}<br>journal_counts=%{text}<extra></extra>",
         "legendgroup": "lgbt issues counseling",
         "marker": {
          "color": "#FF97FF",
          "pattern": {
           "shape": ""
          }
         },
         "name": "lgbt issues counseling",
         "offsetgroup": "lgbt issues counseling",
         "orientation": "h",
         "showlegend": true,
         "text": [
          4
         ],
         "textposition": "outside",
         "type": "bar",
         "x": [
          4
         ],
         "xaxis": "x",
         "y": [
          "lgbt issues counseling"
         ],
         "yaxis": "y"
        },
        {
         "alignmentgroup": "True",
         "hovertemplate": "names=%{y}<br>journal_counts=%{text}<extra></extra>",
         "legendgroup": "corpus …",
         "marker": {
          "color": "#FECB52",
          "pattern": {
           "shape": ""
          }
         },
         "name": "corpus …",
         "offsetgroup": "corpus …",
         "orientation": "h",
         "showlegend": true,
         "text": [
          4
         ],
         "textposition": "outside",
         "type": "bar",
         "x": [
          4
         ],
         "xaxis": "x",
         "y": [
          "corpus …"
         ],
         "yaxis": "y"
        },
        {
         "alignmentgroup": "True",
         "hovertemplate": "names=%{y}<br>journal_counts=%{text}<extra></extra>",
         "legendgroup": "qualitative studies …",
         "marker": {
          "color": "#636efa",
          "pattern": {
           "shape": ""
          }
         },
         "name": "qualitative studies …",
         "offsetgroup": "qualitative studies …",
         "orientation": "h",
         "showlegend": true,
         "text": [
          4
         ],
         "textposition": "outside",
         "type": "bar",
         "x": [
          4
         ],
         "xaxis": "x",
         "y": [
          "qualitative studies …"
         ],
         "yaxis": "y"
        },
        {
         "alignmentgroup": "True",
         "hovertemplate": "names=%{y}<br>journal_counts=%{text}<extra></extra>",
         "legendgroup": "sex",
         "marker": {
          "color": "#EF553B",
          "pattern": {
           "shape": ""
          }
         },
         "name": "sex",
         "offsetgroup": "sex",
         "orientation": "h",
         "showlegend": true,
         "text": [
          4
         ],
         "textposition": "outside",
         "type": "bar",
         "x": [
          4
         ],
         "xaxis": "x",
         "y": [
          "sex"
         ],
         "yaxis": "y"
        },
        {
         "alignmentgroup": "True",
         "hovertemplate": "names=%{y}<br>journal_counts=%{text}<extra></extra>",
         "legendgroup": "gay and lesbian …",
         "marker": {
          "color": "#00cc96",
          "pattern": {
           "shape": ""
          }
         },
         "name": "gay and lesbian …",
         "offsetgroup": "gay and lesbian …",
         "orientation": "h",
         "showlegend": true,
         "text": [
          4
         ],
         "textposition": "outside",
         "type": "bar",
         "x": [
          4
         ],
         "xaxis": "x",
         "y": [
          "gay and lesbian …"
         ],
         "yaxis": "y"
        },
        {
         "alignmentgroup": "True",
         "hovertemplate": "names=%{y}<br>journal_counts=%{text}<extra></extra>",
         "legendgroup": "intercultural studies",
         "marker": {
          "color": "#ab63fa",
          "pattern": {
           "shape": ""
          }
         },
         "name": "intercultural studies",
         "offsetgroup": "intercultural studies",
         "orientation": "h",
         "showlegend": true,
         "text": [
          4
         ],
         "textposition": "outside",
         "type": "bar",
         "x": [
          4
         ],
         "xaxis": "x",
         "y": [
          "intercultural studies"
         ],
         "yaxis": "y"
        },
        {
         "alignmentgroup": "True",
         "hovertemplate": "names=%{y}<br>journal_counts=%{text}<extra></extra>",
         "legendgroup": "lgbt …",
         "marker": {
          "color": "#FFA15A",
          "pattern": {
           "shape": ""
          }
         },
         "name": "lgbt …",
         "offsetgroup": "lgbt …",
         "orientation": "h",
         "showlegend": true,
         "text": [
          4
         ],
         "textposition": "outside",
         "type": "bar",
         "x": [
          4
         ],
         "xaxis": "x",
         "y": [
          "lgbt …"
         ],
         "yaxis": "y"
        },
        {
         "alignmentgroup": "True",
         "hovertemplate": "names=%{y}<br>journal_counts=%{text}<extra></extra>",
         "legendgroup": "film studies",
         "marker": {
          "color": "#19d3f3",
          "pattern": {
           "shape": ""
          }
         },
         "name": "film studies",
         "offsetgroup": "film studies",
         "orientation": "h",
         "showlegend": true,
         "text": [
          4
         ],
         "textposition": "outside",
         "type": "bar",
         "x": [
          4
         ],
         "xaxis": "x",
         "y": [
          "film studies"
         ],
         "yaxis": "y"
        },
        {
         "alignmentgroup": "True",
         "hovertemplate": "names=%{y}<br>journal_counts=%{text}<extra></extra>",
         "legendgroup": "social service",
         "marker": {
          "color": "#FF6692",
          "pattern": {
           "shape": ""
          }
         },
         "name": "social service",
         "offsetgroup": "social service",
         "orientation": "h",
         "showlegend": true,
         "text": [
          4
         ],
         "textposition": "outside",
         "type": "bar",
         "x": [
          4
         ],
         "xaxis": "x",
         "y": [
          "social service"
         ],
         "yaxis": "y"
        },
        {
         "alignmentgroup": "True",
         "hovertemplate": "names=%{y}<br>journal_counts=%{text}<extra></extra>",
         "legendgroup": "homosexuality",
         "marker": {
          "color": "#B6E880",
          "pattern": {
           "shape": ""
          }
         },
         "name": "homosexuality",
         "offsetgroup": "homosexuality",
         "orientation": "h",
         "showlegend": true,
         "text": [
          3
         ],
         "textposition": "outside",
         "type": "bar",
         "x": [
          3
         ],
         "xaxis": "x",
         "y": [
          "homosexuality"
         ],
         "yaxis": "y"
        },
        {
         "alignmentgroup": "True",
         "hovertemplate": "names=%{y}<br>journal_counts=%{text}<extra></extra>",
         "legendgroup": "information technology and politics",
         "marker": {
          "color": "#FF97FF",
          "pattern": {
           "shape": ""
          }
         },
         "name": "information technology and politics",
         "offsetgroup": "information technology and politics",
         "orientation": "h",
         "showlegend": true,
         "text": [
          3
         ],
         "textposition": "outside",
         "type": "bar",
         "x": [
          3
         ],
         "xaxis": "x",
         "y": [
          "information technology and politics"
         ],
         "yaxis": "y"
        },
        {
         "alignmentgroup": "True",
         "hovertemplate": "names=%{y}<br>journal_counts=%{text}<extra></extra>",
         "legendgroup": "language, identity and educate",
         "marker": {
          "color": "#FECB52",
          "pattern": {
           "shape": ""
          }
         },
         "name": "language, identity and educate",
         "offsetgroup": "language, identity and educate",
         "orientation": "h",
         "showlegend": true,
         "text": [
          2
         ],
         "textposition": "outside",
         "type": "bar",
         "x": [
          2
         ],
         "xaxis": "x",
         "y": [
          "language, identity and educate"
         ],
         "yaxis": "y"
        }
       ],
       "layout": {
        "barmode": "stack",
        "legend": {
         "title": {
          "text": "names"
         },
         "tracegroupgap": 0,
         "x": 0.79,
         "xanchor": "right",
         "y": 0.59,
         "yanchor": "top"
        },
        "margin": {
         "t": 60
        },
        "template": {
         "data": {
          "bar": [
           {
            "error_x": {
             "color": "#2a3f5f"
            },
            "error_y": {
             "color": "#2a3f5f"
            },
            "marker": {
             "line": {
              "color": "#E5ECF6",
              "width": 0.5
             },
             "pattern": {
              "fillmode": "overlay",
              "size": 10,
              "solidity": 0.2
             }
            },
            "type": "bar"
           }
          ],
          "barpolar": [
           {
            "marker": {
             "line": {
              "color": "#E5ECF6",
              "width": 0.5
             },
             "pattern": {
              "fillmode": "overlay",
              "size": 10,
              "solidity": 0.2
             }
            },
            "type": "barpolar"
           }
          ],
          "carpet": [
           {
            "aaxis": {
             "endlinecolor": "#2a3f5f",
             "gridcolor": "white",
             "linecolor": "white",
             "minorgridcolor": "white",
             "startlinecolor": "#2a3f5f"
            },
            "baxis": {
             "endlinecolor": "#2a3f5f",
             "gridcolor": "white",
             "linecolor": "white",
             "minorgridcolor": "white",
             "startlinecolor": "#2a3f5f"
            },
            "type": "carpet"
           }
          ],
          "choropleth": [
           {
            "colorbar": {
             "outlinewidth": 0,
             "ticks": ""
            },
            "type": "choropleth"
           }
          ],
          "contour": [
           {
            "colorbar": {
             "outlinewidth": 0,
             "ticks": ""
            },
            "colorscale": [
             [
              0,
              "#0d0887"
             ],
             [
              0.1111111111111111,
              "#46039f"
             ],
             [
              0.2222222222222222,
              "#7201a8"
             ],
             [
              0.3333333333333333,
              "#9c179e"
             ],
             [
              0.4444444444444444,
              "#bd3786"
             ],
             [
              0.5555555555555556,
              "#d8576b"
             ],
             [
              0.6666666666666666,
              "#ed7953"
             ],
             [
              0.7777777777777778,
              "#fb9f3a"
             ],
             [
              0.8888888888888888,
              "#fdca26"
             ],
             [
              1,
              "#f0f921"
             ]
            ],
            "type": "contour"
           }
          ],
          "contourcarpet": [
           {
            "colorbar": {
             "outlinewidth": 0,
             "ticks": ""
            },
            "type": "contourcarpet"
           }
          ],
          "heatmap": [
           {
            "colorbar": {
             "outlinewidth": 0,
             "ticks": ""
            },
            "colorscale": [
             [
              0,
              "#0d0887"
             ],
             [
              0.1111111111111111,
              "#46039f"
             ],
             [
              0.2222222222222222,
              "#7201a8"
             ],
             [
              0.3333333333333333,
              "#9c179e"
             ],
             [
              0.4444444444444444,
              "#bd3786"
             ],
             [
              0.5555555555555556,
              "#d8576b"
             ],
             [
              0.6666666666666666,
              "#ed7953"
             ],
             [
              0.7777777777777778,
              "#fb9f3a"
             ],
             [
              0.8888888888888888,
              "#fdca26"
             ],
             [
              1,
              "#f0f921"
             ]
            ],
            "type": "heatmap"
           }
          ],
          "heatmapgl": [
           {
            "colorbar": {
             "outlinewidth": 0,
             "ticks": ""
            },
            "colorscale": [
             [
              0,
              "#0d0887"
             ],
             [
              0.1111111111111111,
              "#46039f"
             ],
             [
              0.2222222222222222,
              "#7201a8"
             ],
             [
              0.3333333333333333,
              "#9c179e"
             ],
             [
              0.4444444444444444,
              "#bd3786"
             ],
             [
              0.5555555555555556,
              "#d8576b"
             ],
             [
              0.6666666666666666,
              "#ed7953"
             ],
             [
              0.7777777777777778,
              "#fb9f3a"
             ],
             [
              0.8888888888888888,
              "#fdca26"
             ],
             [
              1,
              "#f0f921"
             ]
            ],
            "type": "heatmapgl"
           }
          ],
          "histogram": [
           {
            "marker": {
             "pattern": {
              "fillmode": "overlay",
              "size": 10,
              "solidity": 0.2
             }
            },
            "type": "histogram"
           }
          ],
          "histogram2d": [
           {
            "colorbar": {
             "outlinewidth": 0,
             "ticks": ""
            },
            "colorscale": [
             [
              0,
              "#0d0887"
             ],
             [
              0.1111111111111111,
              "#46039f"
             ],
             [
              0.2222222222222222,
              "#7201a8"
             ],
             [
              0.3333333333333333,
              "#9c179e"
             ],
             [
              0.4444444444444444,
              "#bd3786"
             ],
             [
              0.5555555555555556,
              "#d8576b"
             ],
             [
              0.6666666666666666,
              "#ed7953"
             ],
             [
              0.7777777777777778,
              "#fb9f3a"
             ],
             [
              0.8888888888888888,
              "#fdca26"
             ],
             [
              1,
              "#f0f921"
             ]
            ],
            "type": "histogram2d"
           }
          ],
          "histogram2dcontour": [
           {
            "colorbar": {
             "outlinewidth": 0,
             "ticks": ""
            },
            "colorscale": [
             [
              0,
              "#0d0887"
             ],
             [
              0.1111111111111111,
              "#46039f"
             ],
             [
              0.2222222222222222,
              "#7201a8"
             ],
             [
              0.3333333333333333,
              "#9c179e"
             ],
             [
              0.4444444444444444,
              "#bd3786"
             ],
             [
              0.5555555555555556,
              "#d8576b"
             ],
             [
              0.6666666666666666,
              "#ed7953"
             ],
             [
              0.7777777777777778,
              "#fb9f3a"
             ],
             [
              0.8888888888888888,
              "#fdca26"
             ],
             [
              1,
              "#f0f921"
             ]
            ],
            "type": "histogram2dcontour"
           }
          ],
          "mesh3d": [
           {
            "colorbar": {
             "outlinewidth": 0,
             "ticks": ""
            },
            "type": "mesh3d"
           }
          ],
          "parcoords": [
           {
            "line": {
             "colorbar": {
              "outlinewidth": 0,
              "ticks": ""
             }
            },
            "type": "parcoords"
           }
          ],
          "pie": [
           {
            "automargin": true,
            "type": "pie"
           }
          ],
          "scatter": [
           {
            "fillpattern": {
             "fillmode": "overlay",
             "size": 10,
             "solidity": 0.2
            },
            "type": "scatter"
           }
          ],
          "scatter3d": [
           {
            "line": {
             "colorbar": {
              "outlinewidth": 0,
              "ticks": ""
             }
            },
            "marker": {
             "colorbar": {
              "outlinewidth": 0,
              "ticks": ""
             }
            },
            "type": "scatter3d"
           }
          ],
          "scattercarpet": [
           {
            "marker": {
             "colorbar": {
              "outlinewidth": 0,
              "ticks": ""
             }
            },
            "type": "scattercarpet"
           }
          ],
          "scattergeo": [
           {
            "marker": {
             "colorbar": {
              "outlinewidth": 0,
              "ticks": ""
             }
            },
            "type": "scattergeo"
           }
          ],
          "scattergl": [
           {
            "marker": {
             "colorbar": {
              "outlinewidth": 0,
              "ticks": ""
             }
            },
            "type": "scattergl"
           }
          ],
          "scattermapbox": [
           {
            "marker": {
             "colorbar": {
              "outlinewidth": 0,
              "ticks": ""
             }
            },
            "type": "scattermapbox"
           }
          ],
          "scatterpolar": [
           {
            "marker": {
             "colorbar": {
              "outlinewidth": 0,
              "ticks": ""
             }
            },
            "type": "scatterpolar"
           }
          ],
          "scatterpolargl": [
           {
            "marker": {
             "colorbar": {
              "outlinewidth": 0,
              "ticks": ""
             }
            },
            "type": "scatterpolargl"
           }
          ],
          "scatterternary": [
           {
            "marker": {
             "colorbar": {
              "outlinewidth": 0,
              "ticks": ""
             }
            },
            "type": "scatterternary"
           }
          ],
          "surface": [
           {
            "colorbar": {
             "outlinewidth": 0,
             "ticks": ""
            },
            "colorscale": [
             [
              0,
              "#0d0887"
             ],
             [
              0.1111111111111111,
              "#46039f"
             ],
             [
              0.2222222222222222,
              "#7201a8"
             ],
             [
              0.3333333333333333,
              "#9c179e"
             ],
             [
              0.4444444444444444,
              "#bd3786"
             ],
             [
              0.5555555555555556,
              "#d8576b"
             ],
             [
              0.6666666666666666,
              "#ed7953"
             ],
             [
              0.7777777777777778,
              "#fb9f3a"
             ],
             [
              0.8888888888888888,
              "#fdca26"
             ],
             [
              1,
              "#f0f921"
             ]
            ],
            "type": "surface"
           }
          ],
          "table": [
           {
            "cells": {
             "fill": {
              "color": "#EBF0F8"
             },
             "line": {
              "color": "white"
             }
            },
            "header": {
             "fill": {
              "color": "#C8D4E3"
             },
             "line": {
              "color": "white"
             }
            },
            "type": "table"
           }
          ]
         },
         "layout": {
          "annotationdefaults": {
           "arrowcolor": "#2a3f5f",
           "arrowhead": 0,
           "arrowwidth": 1
          },
          "autotypenumbers": "strict",
          "coloraxis": {
           "colorbar": {
            "outlinewidth": 0,
            "ticks": ""
           }
          },
          "colorscale": {
           "diverging": [
            [
             0,
             "#8e0152"
            ],
            [
             0.1,
             "#c51b7d"
            ],
            [
             0.2,
             "#de77ae"
            ],
            [
             0.3,
             "#f1b6da"
            ],
            [
             0.4,
             "#fde0ef"
            ],
            [
             0.5,
             "#f7f7f7"
            ],
            [
             0.6,
             "#e6f5d0"
            ],
            [
             0.7,
             "#b8e186"
            ],
            [
             0.8,
             "#7fbc41"
            ],
            [
             0.9,
             "#4d9221"
            ],
            [
             1,
             "#276419"
            ]
           ],
           "sequential": [
            [
             0,
             "#0d0887"
            ],
            [
             0.1111111111111111,
             "#46039f"
            ],
            [
             0.2222222222222222,
             "#7201a8"
            ],
            [
             0.3333333333333333,
             "#9c179e"
            ],
            [
             0.4444444444444444,
             "#bd3786"
            ],
            [
             0.5555555555555556,
             "#d8576b"
            ],
            [
             0.6666666666666666,
             "#ed7953"
            ],
            [
             0.7777777777777778,
             "#fb9f3a"
            ],
            [
             0.8888888888888888,
             "#fdca26"
            ],
            [
             1,
             "#f0f921"
            ]
           ],
           "sequentialminus": [
            [
             0,
             "#0d0887"
            ],
            [
             0.1111111111111111,
             "#46039f"
            ],
            [
             0.2222222222222222,
             "#7201a8"
            ],
            [
             0.3333333333333333,
             "#9c179e"
            ],
            [
             0.4444444444444444,
             "#bd3786"
            ],
            [
             0.5555555555555556,
             "#d8576b"
            ],
            [
             0.6666666666666666,
             "#ed7953"
            ],
            [
             0.7777777777777778,
             "#fb9f3a"
            ],
            [
             0.8888888888888888,
             "#fdca26"
            ],
            [
             1,
             "#f0f921"
            ]
           ]
          },
          "colorway": [
           "#636efa",
           "#EF553B",
           "#00cc96",
           "#ab63fa",
           "#FFA15A",
           "#19d3f3",
           "#FF6692",
           "#B6E880",
           "#FF97FF",
           "#FECB52"
          ],
          "font": {
           "color": "#2a3f5f"
          },
          "geo": {
           "bgcolor": "white",
           "lakecolor": "white",
           "landcolor": "#E5ECF6",
           "showlakes": true,
           "showland": true,
           "subunitcolor": "white"
          },
          "hoverlabel": {
           "align": "left"
          },
          "hovermode": "closest",
          "mapbox": {
           "style": "light"
          },
          "paper_bgcolor": "white",
          "plot_bgcolor": "#E5ECF6",
          "polar": {
           "angularaxis": {
            "gridcolor": "white",
            "linecolor": "white",
            "ticks": ""
           },
           "bgcolor": "#E5ECF6",
           "radialaxis": {
            "gridcolor": "white",
            "linecolor": "white",
            "ticks": ""
           }
          },
          "scene": {
           "xaxis": {
            "backgroundcolor": "#E5ECF6",
            "gridcolor": "white",
            "gridwidth": 2,
            "linecolor": "white",
            "showbackground": true,
            "ticks": "",
            "zerolinecolor": "white"
           },
           "yaxis": {
            "backgroundcolor": "#E5ECF6",
            "gridcolor": "white",
            "gridwidth": 2,
            "linecolor": "white",
            "showbackground": true,
            "ticks": "",
            "zerolinecolor": "white"
           },
           "zaxis": {
            "backgroundcolor": "#E5ECF6",
            "gridcolor": "white",
            "gridwidth": 2,
            "linecolor": "white",
            "showbackground": true,
            "ticks": "",
            "zerolinecolor": "white"
           }
          },
          "shapedefaults": {
           "line": {
            "color": "#2a3f5f"
           }
          },
          "ternary": {
           "aaxis": {
            "gridcolor": "white",
            "linecolor": "white",
            "ticks": ""
           },
           "baxis": {
            "gridcolor": "white",
            "linecolor": "white",
            "ticks": ""
           },
           "bgcolor": "#E5ECF6",
           "caxis": {
            "gridcolor": "white",
            "linecolor": "white",
            "ticks": ""
           }
          },
          "title": {
           "x": 0.05
          },
          "xaxis": {
           "automargin": true,
           "gridcolor": "white",
           "linecolor": "white",
           "ticks": "",
           "title": {
            "standoff": 15
           },
           "zerolinecolor": "white",
           "zerolinewidth": 2
          },
          "yaxis": {
           "automargin": true,
           "gridcolor": "white",
           "linecolor": "white",
           "ticks": "",
           "title": {
            "standoff": 15
           },
           "zerolinecolor": "white",
           "zerolinewidth": 2
          }
         }
        },
        "title": {
         "text": "",
         "x": 0.5,
         "y": 0.92
        },
        "uniformtext": {
         "minsize": 8,
         "mode": "hide"
        },
        "xaxis": {
         "anchor": "y",
         "categoryorder": "total descending",
         "domain": [
          0,
          1
         ],
         "title": {
          "text": "journal_counts"
         }
        },
        "yaxis": {
         "anchor": "x",
         "categoryarray": [
          "language, identity and educate",
          "information technology and politics",
          "homosexuality",
          "social service",
          "film studies",
          "lgbt …",
          "intercultural studies",
          "gay and lesbian …",
          "sex",
          "qualitative studies …",
          "corpus …",
          "lgbt issues counseling",
          "lesbian studies",
          "lesbian …",
          "ethnicity criminal just",
          "youth studies",
          "gay and lesbian mental health",
          "children and media",
          "sexual aggression",
          "women's health"
         ],
         "categoryorder": "array",
         "domain": [
          0,
          1
         ],
         "title": {
          "text": "names"
         }
        }
       }
      }
     },
     "metadata": {},
     "output_type": "display_data"
    }
   ],
   "source": [
    "# Top 20 journals\n",
    "fig = px.bar(df_journal[:20], x=\"journal_counts\", y=\"names\", color=\"names\",\n",
    "            hover_data=['names'], barmode = 'stack',\n",
    "            text ='journal_counts')\n",
    "fig.update_layout(title_text='', title_x=0.5, title_y=0.92,\n",
    "    legend=dict(\n",
    "    yanchor=\"top\",\n",
    "    y=0.59,\n",
    "    xanchor=\"right\",\n",
    "    x=0.79\n",
    "))\n",
    "fig.update_layout(xaxis={'categoryorder':'total descending'})\n",
    "fig.update_layout(uniformtext_minsize=8, uniformtext_mode='hide')\n",
    "fig.update_traces(textposition='outside')\n",
    "fig.show()"
   ]
  },
  {
   "cell_type": "code",
   "execution_count": 41,
   "metadata": {},
   "outputs": [
    {
     "data": {
      "application/vnd.plotly.v1+json": {
       "config": {
        "plotlyServerURL": "https://plot.ly"
       },
       "data": [
        {
         "alignmentgroup": "True",
         "hovertemplate": "names=%{y}<br>conferences_counts=%{text}<extra></extra>",
         "legendgroup": "social …",
         "marker": {
          "color": "#636efa",
          "pattern": {
           "shape": ""
          }
         },
         "name": "social …",
         "offsetgroup": "social …",
         "orientation": "h",
         "showlegend": true,
         "text": [
          22
         ],
         "textposition": "outside",
         "type": "bar",
         "x": [
          22
         ],
         "xaxis": "x",
         "y": [
          "social …"
         ],
         "yaxis": "y"
        },
        {
         "alignmentgroup": "True",
         "hovertemplate": "names=%{y}<br>conferences_counts=%{text}<extra></extra>",
         "legendgroup": "artificial intelligence …",
         "marker": {
          "color": "#EF553B",
          "pattern": {
           "shape": ""
          }
         },
         "name": "artificial intelligence …",
         "offsetgroup": "artificial intelligence …",
         "orientation": "h",
         "showlegend": true,
         "text": [
          3
         ],
         "textposition": "outside",
         "type": "bar",
         "x": [
          3
         ],
         "xaxis": "x",
         "y": [
          "artificial intelligence …"
         ],
         "yaxis": "y"
        },
        {
         "alignmentgroup": "True",
         "hovertemplate": "names=%{y}<br>conferences_counts=%{text}<extra></extra>",
         "legendgroup": "recent developments …",
         "marker": {
          "color": "#00cc96",
          "pattern": {
           "shape": ""
          }
         },
         "name": "recent developments …",
         "offsetgroup": "recent developments …",
         "orientation": "h",
         "showlegend": true,
         "text": [
          3
         ],
         "textposition": "outside",
         "type": "bar",
         "x": [
          3
         ],
         "xaxis": "x",
         "y": [
          "recent developments …"
         ],
         "yaxis": "y"
        },
        {
         "alignmentgroup": "True",
         "hovertemplate": "names=%{y}<br>conferences_counts=%{text}<extra></extra>",
         "legendgroup": "artificial lif",
         "marker": {
          "color": "#ab63fa",
          "pattern": {
           "shape": ""
          }
         },
         "name": "artificial lif",
         "offsetgroup": "artificial lif",
         "orientation": "h",
         "showlegend": true,
         "text": [
          3
         ],
         "textposition": "outside",
         "type": "bar",
         "x": [
          3
         ],
         "xaxis": "x",
         "y": [
          "artificial lif"
         ],
         "yaxis": "y"
        },
        {
         "alignmentgroup": "True",
         "hovertemplate": "names=%{y}<br>conferences_counts=%{text}<extra></extra>",
         "legendgroup": "data …",
         "marker": {
          "color": "#FFA15A",
          "pattern": {
           "shape": ""
          }
         },
         "name": "data …",
         "offsetgroup": "data …",
         "orientation": "h",
         "showlegend": true,
         "text": [
          2
         ],
         "textposition": "outside",
         "type": "bar",
         "x": [
          2
         ],
         "xaxis": "x",
         "y": [
          "data …"
         ],
         "yaxis": "y"
        },
        {
         "alignmentgroup": "True",
         "hovertemplate": "names=%{y}<br>conferences_counts=%{text}<extra></extra>",
         "legendgroup": "business …",
         "marker": {
          "color": "#19d3f3",
          "pattern": {
           "shape": ""
          }
         },
         "name": "business …",
         "offsetgroup": "business …",
         "orientation": "h",
         "showlegend": true,
         "text": [
          2
         ],
         "textposition": "outside",
         "type": "bar",
         "x": [
          2
         ],
         "xaxis": "x",
         "y": [
          "business …"
         ],
         "yaxis": "y"
        },
        {
         "alignmentgroup": "True",
         "hovertemplate": "names=%{y}<br>conferences_counts=%{text}<extra></extra>",
         "legendgroup": "…",
         "marker": {
          "color": "#FF6692",
          "pattern": {
           "shape": ""
          }
         },
         "name": "…",
         "offsetgroup": "…",
         "orientation": "h",
         "showlegend": true,
         "text": [
          1
         ],
         "textposition": "outside",
         "type": "bar",
         "x": [
          1
         ],
         "xaxis": "x",
         "y": [
          "…"
         ],
         "yaxis": "y"
        },
        {
         "alignmentgroup": "True",
         "hovertemplate": "names=%{y}<br>conferences_counts=%{text}<extra></extra>",
         "legendgroup": "human …",
         "marker": {
          "color": "#B6E880",
          "pattern": {
           "shape": ""
          }
         },
         "name": "human …",
         "offsetgroup": "human …",
         "orientation": "h",
         "showlegend": true,
         "text": [
          1
         ],
         "textposition": "outside",
         "type": "bar",
         "x": [
          1
         ],
         "xaxis": "x",
         "y": [
          "human …"
         ],
         "yaxis": "y"
        },
        {
         "alignmentgroup": "True",
         "hovertemplate": "names=%{y}<br>conferences_counts=%{text}<extra></extra>",
         "legendgroup": "open …",
         "marker": {
          "color": "#FF97FF",
          "pattern": {
           "shape": ""
          }
         },
         "name": "open …",
         "offsetgroup": "open …",
         "orientation": "h",
         "showlegend": true,
         "text": [
          1
         ],
         "textposition": "outside",
         "type": "bar",
         "x": [
          1
         ],
         "xaxis": "x",
         "y": [
          "open …"
         ],
         "yaxis": "y"
        },
        {
         "alignmentgroup": "True",
         "hovertemplate": "names=%{y}<br>conferences_counts=%{text}<extra></extra>",
         "legendgroup": "information …",
         "marker": {
          "color": "#FECB52",
          "pattern": {
           "shape": ""
          }
         },
         "name": "information …",
         "offsetgroup": "information …",
         "orientation": "h",
         "showlegend": true,
         "text": [
          1
         ],
         "textposition": "outside",
         "type": "bar",
         "x": [
          1
         ],
         "xaxis": "x",
         "y": [
          "information …"
         ],
         "yaxis": "y"
        }
       ],
       "layout": {
        "barmode": "stack",
        "legend": {
         "title": {
          "text": "names"
         },
         "tracegroupgap": 0,
         "x": 0.79,
         "xanchor": "right",
         "y": 0.59,
         "yanchor": "top"
        },
        "margin": {
         "t": 60
        },
        "template": {
         "data": {
          "bar": [
           {
            "error_x": {
             "color": "#2a3f5f"
            },
            "error_y": {
             "color": "#2a3f5f"
            },
            "marker": {
             "line": {
              "color": "#E5ECF6",
              "width": 0.5
             },
             "pattern": {
              "fillmode": "overlay",
              "size": 10,
              "solidity": 0.2
             }
            },
            "type": "bar"
           }
          ],
          "barpolar": [
           {
            "marker": {
             "line": {
              "color": "#E5ECF6",
              "width": 0.5
             },
             "pattern": {
              "fillmode": "overlay",
              "size": 10,
              "solidity": 0.2
             }
            },
            "type": "barpolar"
           }
          ],
          "carpet": [
           {
            "aaxis": {
             "endlinecolor": "#2a3f5f",
             "gridcolor": "white",
             "linecolor": "white",
             "minorgridcolor": "white",
             "startlinecolor": "#2a3f5f"
            },
            "baxis": {
             "endlinecolor": "#2a3f5f",
             "gridcolor": "white",
             "linecolor": "white",
             "minorgridcolor": "white",
             "startlinecolor": "#2a3f5f"
            },
            "type": "carpet"
           }
          ],
          "choropleth": [
           {
            "colorbar": {
             "outlinewidth": 0,
             "ticks": ""
            },
            "type": "choropleth"
           }
          ],
          "contour": [
           {
            "colorbar": {
             "outlinewidth": 0,
             "ticks": ""
            },
            "colorscale": [
             [
              0,
              "#0d0887"
             ],
             [
              0.1111111111111111,
              "#46039f"
             ],
             [
              0.2222222222222222,
              "#7201a8"
             ],
             [
              0.3333333333333333,
              "#9c179e"
             ],
             [
              0.4444444444444444,
              "#bd3786"
             ],
             [
              0.5555555555555556,
              "#d8576b"
             ],
             [
              0.6666666666666666,
              "#ed7953"
             ],
             [
              0.7777777777777778,
              "#fb9f3a"
             ],
             [
              0.8888888888888888,
              "#fdca26"
             ],
             [
              1,
              "#f0f921"
             ]
            ],
            "type": "contour"
           }
          ],
          "contourcarpet": [
           {
            "colorbar": {
             "outlinewidth": 0,
             "ticks": ""
            },
            "type": "contourcarpet"
           }
          ],
          "heatmap": [
           {
            "colorbar": {
             "outlinewidth": 0,
             "ticks": ""
            },
            "colorscale": [
             [
              0,
              "#0d0887"
             ],
             [
              0.1111111111111111,
              "#46039f"
             ],
             [
              0.2222222222222222,
              "#7201a8"
             ],
             [
              0.3333333333333333,
              "#9c179e"
             ],
             [
              0.4444444444444444,
              "#bd3786"
             ],
             [
              0.5555555555555556,
              "#d8576b"
             ],
             [
              0.6666666666666666,
              "#ed7953"
             ],
             [
              0.7777777777777778,
              "#fb9f3a"
             ],
             [
              0.8888888888888888,
              "#fdca26"
             ],
             [
              1,
              "#f0f921"
             ]
            ],
            "type": "heatmap"
           }
          ],
          "heatmapgl": [
           {
            "colorbar": {
             "outlinewidth": 0,
             "ticks": ""
            },
            "colorscale": [
             [
              0,
              "#0d0887"
             ],
             [
              0.1111111111111111,
              "#46039f"
             ],
             [
              0.2222222222222222,
              "#7201a8"
             ],
             [
              0.3333333333333333,
              "#9c179e"
             ],
             [
              0.4444444444444444,
              "#bd3786"
             ],
             [
              0.5555555555555556,
              "#d8576b"
             ],
             [
              0.6666666666666666,
              "#ed7953"
             ],
             [
              0.7777777777777778,
              "#fb9f3a"
             ],
             [
              0.8888888888888888,
              "#fdca26"
             ],
             [
              1,
              "#f0f921"
             ]
            ],
            "type": "heatmapgl"
           }
          ],
          "histogram": [
           {
            "marker": {
             "pattern": {
              "fillmode": "overlay",
              "size": 10,
              "solidity": 0.2
             }
            },
            "type": "histogram"
           }
          ],
          "histogram2d": [
           {
            "colorbar": {
             "outlinewidth": 0,
             "ticks": ""
            },
            "colorscale": [
             [
              0,
              "#0d0887"
             ],
             [
              0.1111111111111111,
              "#46039f"
             ],
             [
              0.2222222222222222,
              "#7201a8"
             ],
             [
              0.3333333333333333,
              "#9c179e"
             ],
             [
              0.4444444444444444,
              "#bd3786"
             ],
             [
              0.5555555555555556,
              "#d8576b"
             ],
             [
              0.6666666666666666,
              "#ed7953"
             ],
             [
              0.7777777777777778,
              "#fb9f3a"
             ],
             [
              0.8888888888888888,
              "#fdca26"
             ],
             [
              1,
              "#f0f921"
             ]
            ],
            "type": "histogram2d"
           }
          ],
          "histogram2dcontour": [
           {
            "colorbar": {
             "outlinewidth": 0,
             "ticks": ""
            },
            "colorscale": [
             [
              0,
              "#0d0887"
             ],
             [
              0.1111111111111111,
              "#46039f"
             ],
             [
              0.2222222222222222,
              "#7201a8"
             ],
             [
              0.3333333333333333,
              "#9c179e"
             ],
             [
              0.4444444444444444,
              "#bd3786"
             ],
             [
              0.5555555555555556,
              "#d8576b"
             ],
             [
              0.6666666666666666,
              "#ed7953"
             ],
             [
              0.7777777777777778,
              "#fb9f3a"
             ],
             [
              0.8888888888888888,
              "#fdca26"
             ],
             [
              1,
              "#f0f921"
             ]
            ],
            "type": "histogram2dcontour"
           }
          ],
          "mesh3d": [
           {
            "colorbar": {
             "outlinewidth": 0,
             "ticks": ""
            },
            "type": "mesh3d"
           }
          ],
          "parcoords": [
           {
            "line": {
             "colorbar": {
              "outlinewidth": 0,
              "ticks": ""
             }
            },
            "type": "parcoords"
           }
          ],
          "pie": [
           {
            "automargin": true,
            "type": "pie"
           }
          ],
          "scatter": [
           {
            "fillpattern": {
             "fillmode": "overlay",
             "size": 10,
             "solidity": 0.2
            },
            "type": "scatter"
           }
          ],
          "scatter3d": [
           {
            "line": {
             "colorbar": {
              "outlinewidth": 0,
              "ticks": ""
             }
            },
            "marker": {
             "colorbar": {
              "outlinewidth": 0,
              "ticks": ""
             }
            },
            "type": "scatter3d"
           }
          ],
          "scattercarpet": [
           {
            "marker": {
             "colorbar": {
              "outlinewidth": 0,
              "ticks": ""
             }
            },
            "type": "scattercarpet"
           }
          ],
          "scattergeo": [
           {
            "marker": {
             "colorbar": {
              "outlinewidth": 0,
              "ticks": ""
             }
            },
            "type": "scattergeo"
           }
          ],
          "scattergl": [
           {
            "marker": {
             "colorbar": {
              "outlinewidth": 0,
              "ticks": ""
             }
            },
            "type": "scattergl"
           }
          ],
          "scattermapbox": [
           {
            "marker": {
             "colorbar": {
              "outlinewidth": 0,
              "ticks": ""
             }
            },
            "type": "scattermapbox"
           }
          ],
          "scatterpolar": [
           {
            "marker": {
             "colorbar": {
              "outlinewidth": 0,
              "ticks": ""
             }
            },
            "type": "scatterpolar"
           }
          ],
          "scatterpolargl": [
           {
            "marker": {
             "colorbar": {
              "outlinewidth": 0,
              "ticks": ""
             }
            },
            "type": "scatterpolargl"
           }
          ],
          "scatterternary": [
           {
            "marker": {
             "colorbar": {
              "outlinewidth": 0,
              "ticks": ""
             }
            },
            "type": "scatterternary"
           }
          ],
          "surface": [
           {
            "colorbar": {
             "outlinewidth": 0,
             "ticks": ""
            },
            "colorscale": [
             [
              0,
              "#0d0887"
             ],
             [
              0.1111111111111111,
              "#46039f"
             ],
             [
              0.2222222222222222,
              "#7201a8"
             ],
             [
              0.3333333333333333,
              "#9c179e"
             ],
             [
              0.4444444444444444,
              "#bd3786"
             ],
             [
              0.5555555555555556,
              "#d8576b"
             ],
             [
              0.6666666666666666,
              "#ed7953"
             ],
             [
              0.7777777777777778,
              "#fb9f3a"
             ],
             [
              0.8888888888888888,
              "#fdca26"
             ],
             [
              1,
              "#f0f921"
             ]
            ],
            "type": "surface"
           }
          ],
          "table": [
           {
            "cells": {
             "fill": {
              "color": "#EBF0F8"
             },
             "line": {
              "color": "white"
             }
            },
            "header": {
             "fill": {
              "color": "#C8D4E3"
             },
             "line": {
              "color": "white"
             }
            },
            "type": "table"
           }
          ]
         },
         "layout": {
          "annotationdefaults": {
           "arrowcolor": "#2a3f5f",
           "arrowhead": 0,
           "arrowwidth": 1
          },
          "autotypenumbers": "strict",
          "coloraxis": {
           "colorbar": {
            "outlinewidth": 0,
            "ticks": ""
           }
          },
          "colorscale": {
           "diverging": [
            [
             0,
             "#8e0152"
            ],
            [
             0.1,
             "#c51b7d"
            ],
            [
             0.2,
             "#de77ae"
            ],
            [
             0.3,
             "#f1b6da"
            ],
            [
             0.4,
             "#fde0ef"
            ],
            [
             0.5,
             "#f7f7f7"
            ],
            [
             0.6,
             "#e6f5d0"
            ],
            [
             0.7,
             "#b8e186"
            ],
            [
             0.8,
             "#7fbc41"
            ],
            [
             0.9,
             "#4d9221"
            ],
            [
             1,
             "#276419"
            ]
           ],
           "sequential": [
            [
             0,
             "#0d0887"
            ],
            [
             0.1111111111111111,
             "#46039f"
            ],
            [
             0.2222222222222222,
             "#7201a8"
            ],
            [
             0.3333333333333333,
             "#9c179e"
            ],
            [
             0.4444444444444444,
             "#bd3786"
            ],
            [
             0.5555555555555556,
             "#d8576b"
            ],
            [
             0.6666666666666666,
             "#ed7953"
            ],
            [
             0.7777777777777778,
             "#fb9f3a"
            ],
            [
             0.8888888888888888,
             "#fdca26"
            ],
            [
             1,
             "#f0f921"
            ]
           ],
           "sequentialminus": [
            [
             0,
             "#0d0887"
            ],
            [
             0.1111111111111111,
             "#46039f"
            ],
            [
             0.2222222222222222,
             "#7201a8"
            ],
            [
             0.3333333333333333,
             "#9c179e"
            ],
            [
             0.4444444444444444,
             "#bd3786"
            ],
            [
             0.5555555555555556,
             "#d8576b"
            ],
            [
             0.6666666666666666,
             "#ed7953"
            ],
            [
             0.7777777777777778,
             "#fb9f3a"
            ],
            [
             0.8888888888888888,
             "#fdca26"
            ],
            [
             1,
             "#f0f921"
            ]
           ]
          },
          "colorway": [
           "#636efa",
           "#EF553B",
           "#00cc96",
           "#ab63fa",
           "#FFA15A",
           "#19d3f3",
           "#FF6692",
           "#B6E880",
           "#FF97FF",
           "#FECB52"
          ],
          "font": {
           "color": "#2a3f5f"
          },
          "geo": {
           "bgcolor": "white",
           "lakecolor": "white",
           "landcolor": "#E5ECF6",
           "showlakes": true,
           "showland": true,
           "subunitcolor": "white"
          },
          "hoverlabel": {
           "align": "left"
          },
          "hovermode": "closest",
          "mapbox": {
           "style": "light"
          },
          "paper_bgcolor": "white",
          "plot_bgcolor": "#E5ECF6",
          "polar": {
           "angularaxis": {
            "gridcolor": "white",
            "linecolor": "white",
            "ticks": ""
           },
           "bgcolor": "#E5ECF6",
           "radialaxis": {
            "gridcolor": "white",
            "linecolor": "white",
            "ticks": ""
           }
          },
          "scene": {
           "xaxis": {
            "backgroundcolor": "#E5ECF6",
            "gridcolor": "white",
            "gridwidth": 2,
            "linecolor": "white",
            "showbackground": true,
            "ticks": "",
            "zerolinecolor": "white"
           },
           "yaxis": {
            "backgroundcolor": "#E5ECF6",
            "gridcolor": "white",
            "gridwidth": 2,
            "linecolor": "white",
            "showbackground": true,
            "ticks": "",
            "zerolinecolor": "white"
           },
           "zaxis": {
            "backgroundcolor": "#E5ECF6",
            "gridcolor": "white",
            "gridwidth": 2,
            "linecolor": "white",
            "showbackground": true,
            "ticks": "",
            "zerolinecolor": "white"
           }
          },
          "shapedefaults": {
           "line": {
            "color": "#2a3f5f"
           }
          },
          "ternary": {
           "aaxis": {
            "gridcolor": "white",
            "linecolor": "white",
            "ticks": ""
           },
           "baxis": {
            "gridcolor": "white",
            "linecolor": "white",
            "ticks": ""
           },
           "bgcolor": "#E5ECF6",
           "caxis": {
            "gridcolor": "white",
            "linecolor": "white",
            "ticks": ""
           }
          },
          "title": {
           "x": 0.05
          },
          "xaxis": {
           "automargin": true,
           "gridcolor": "white",
           "linecolor": "white",
           "ticks": "",
           "title": {
            "standoff": 15
           },
           "zerolinecolor": "white",
           "zerolinewidth": 2
          },
          "yaxis": {
           "automargin": true,
           "gridcolor": "white",
           "linecolor": "white",
           "ticks": "",
           "title": {
            "standoff": 15
           },
           "zerolinecolor": "white",
           "zerolinewidth": 2
          }
         }
        },
        "title": {
         "text": "",
         "x": 0.5,
         "y": 0.92
        },
        "uniformtext": {
         "minsize": 8,
         "mode": "hide"
        },
        "xaxis": {
         "anchor": "y",
         "categoryorder": "total descending",
         "domain": [
          0,
          1
         ],
         "title": {
          "text": "conferences_counts"
         }
        },
        "yaxis": {
         "anchor": "x",
         "categoryarray": [
          "information …",
          "open …",
          "human …",
          "…",
          "business …",
          "data …",
          "artificial lif",
          "recent developments …",
          "artificial intelligence …",
          "social …"
         ],
         "categoryorder": "array",
         "domain": [
          0,
          1
         ],
         "title": {
          "text": "names"
         }
        }
       }
      }
     },
     "metadata": {},
     "output_type": "display_data"
    }
   ],
   "source": [
    "# Top 10 conferences\n",
    "fig = px.bar(df_conference[:10], x=\"conferences_counts\", y=\"names\", color=\"names\",\n",
    "            hover_data=['names'], barmode = 'stack',\n",
    "            text ='conferences_counts')\n",
    "fig.update_layout(title_text='', title_x=0.5, title_y=0.92,\n",
    "    legend=dict(\n",
    "    yanchor=\"top\",\n",
    "    y=0.59,\n",
    "    xanchor=\"right\",\n",
    "    x=0.79\n",
    "))\n",
    "fig.update_layout(xaxis={'categoryorder':'total descending'})\n",
    "fig.update_layout(uniformtext_minsize=8, uniformtext_mode='hide')\n",
    "fig.update_traces(textposition='outside')\n",
    "fig.show()"
   ]
  },
  {
   "cell_type": "code",
   "execution_count": 42,
   "metadata": {},
   "outputs": [
    {
     "data": {
      "application/vnd.plotly.v1+json": {
       "config": {
        "plotlyServerURL": "https://plot.ly"
       },
       "data": [
        {
         "alignmentgroup": "True",
         "hovertemplate": "names=%{y}<br>books_counts=%{text}<extra></extra>",
         "legendgroup": "psychology and sexual orientation",
         "marker": {
          "color": "#636efa",
          "pattern": {
           "shape": ""
          }
         },
         "name": "psychology and sexual orientation",
         "offsetgroup": "psychology and sexual orientation",
         "orientation": "h",
         "showlegend": true,
         "text": [
          20
         ],
         "textposition": "outside",
         "type": "bar",
         "x": [
          20
         ],
         "xaxis": "x",
         "y": [
          "psychology and sexual orientation"
         ],
         "yaxis": "y"
        },
        {
         "alignmentgroup": "True",
         "hovertemplate": "names=%{y}<br>books_counts=%{text}<extra></extra>",
         "legendgroup": "asian american …",
         "marker": {
          "color": "#EF553B",
          "pattern": {
           "shape": ""
          }
         },
         "name": "asian american …",
         "offsetgroup": "asian american …",
         "orientation": "h",
         "showlegend": true,
         "text": [
          5
         ],
         "textposition": "outside",
         "type": "bar",
         "x": [
          5
         ],
         "xaxis": "x",
         "y": [
          "asian american …"
         ],
         "yaxis": "y"
        },
        {
         "alignmentgroup": "True",
         "hovertemplate": "names=%{y}<br>books_counts=%{text}<extra></extra>",
         "legendgroup": "social …",
         "marker": {
          "color": "#00cc96",
          "pattern": {
           "shape": ""
          }
         },
         "name": "social …",
         "offsetgroup": "social …",
         "orientation": "h",
         "showlegend": true,
         "text": [
          3
         ],
         "textposition": "outside",
         "type": "bar",
         "x": [
          3
         ],
         "xaxis": "x",
         "y": [
          "social …"
         ],
         "yaxis": "y"
        },
        {
         "alignmentgroup": "True",
         "hovertemplate": "names=%{y}<br>books_counts=%{text}<extra></extra>",
         "legendgroup": "health …",
         "marker": {
          "color": "#ab63fa",
          "pattern": {
           "shape": ""
          }
         },
         "name": "health …",
         "offsetgroup": "health …",
         "orientation": "h",
         "showlegend": true,
         "text": [
          2
         ],
         "textposition": "outside",
         "type": "bar",
         "x": [
          2
         ],
         "xaxis": "x",
         "y": [
          "health …"
         ],
         "yaxis": "y"
        },
        {
         "alignmentgroup": "True",
         "hovertemplate": "names=%{y}<br>books_counts=%{text}<extra></extra>",
         "legendgroup": "achieving …",
         "marker": {
          "color": "#FFA15A",
          "pattern": {
           "shape": ""
          }
         },
         "name": "achieving …",
         "offsetgroup": "achieving …",
         "orientation": "h",
         "showlegend": true,
         "text": [
          2
         ],
         "textposition": "outside",
         "type": "bar",
         "x": [
          2
         ],
         "xaxis": "x",
         "y": [
          "achieving …"
         ],
         "yaxis": "y"
        }
       ],
       "layout": {
        "barmode": "stack",
        "legend": {
         "title": {
          "text": "names"
         },
         "tracegroupgap": 0,
         "x": 0.79,
         "xanchor": "right",
         "y": 0.59,
         "yanchor": "top"
        },
        "margin": {
         "t": 60
        },
        "template": {
         "data": {
          "bar": [
           {
            "error_x": {
             "color": "#2a3f5f"
            },
            "error_y": {
             "color": "#2a3f5f"
            },
            "marker": {
             "line": {
              "color": "#E5ECF6",
              "width": 0.5
             },
             "pattern": {
              "fillmode": "overlay",
              "size": 10,
              "solidity": 0.2
             }
            },
            "type": "bar"
           }
          ],
          "barpolar": [
           {
            "marker": {
             "line": {
              "color": "#E5ECF6",
              "width": 0.5
             },
             "pattern": {
              "fillmode": "overlay",
              "size": 10,
              "solidity": 0.2
             }
            },
            "type": "barpolar"
           }
          ],
          "carpet": [
           {
            "aaxis": {
             "endlinecolor": "#2a3f5f",
             "gridcolor": "white",
             "linecolor": "white",
             "minorgridcolor": "white",
             "startlinecolor": "#2a3f5f"
            },
            "baxis": {
             "endlinecolor": "#2a3f5f",
             "gridcolor": "white",
             "linecolor": "white",
             "minorgridcolor": "white",
             "startlinecolor": "#2a3f5f"
            },
            "type": "carpet"
           }
          ],
          "choropleth": [
           {
            "colorbar": {
             "outlinewidth": 0,
             "ticks": ""
            },
            "type": "choropleth"
           }
          ],
          "contour": [
           {
            "colorbar": {
             "outlinewidth": 0,
             "ticks": ""
            },
            "colorscale": [
             [
              0,
              "#0d0887"
             ],
             [
              0.1111111111111111,
              "#46039f"
             ],
             [
              0.2222222222222222,
              "#7201a8"
             ],
             [
              0.3333333333333333,
              "#9c179e"
             ],
             [
              0.4444444444444444,
              "#bd3786"
             ],
             [
              0.5555555555555556,
              "#d8576b"
             ],
             [
              0.6666666666666666,
              "#ed7953"
             ],
             [
              0.7777777777777778,
              "#fb9f3a"
             ],
             [
              0.8888888888888888,
              "#fdca26"
             ],
             [
              1,
              "#f0f921"
             ]
            ],
            "type": "contour"
           }
          ],
          "contourcarpet": [
           {
            "colorbar": {
             "outlinewidth": 0,
             "ticks": ""
            },
            "type": "contourcarpet"
           }
          ],
          "heatmap": [
           {
            "colorbar": {
             "outlinewidth": 0,
             "ticks": ""
            },
            "colorscale": [
             [
              0,
              "#0d0887"
             ],
             [
              0.1111111111111111,
              "#46039f"
             ],
             [
              0.2222222222222222,
              "#7201a8"
             ],
             [
              0.3333333333333333,
              "#9c179e"
             ],
             [
              0.4444444444444444,
              "#bd3786"
             ],
             [
              0.5555555555555556,
              "#d8576b"
             ],
             [
              0.6666666666666666,
              "#ed7953"
             ],
             [
              0.7777777777777778,
              "#fb9f3a"
             ],
             [
              0.8888888888888888,
              "#fdca26"
             ],
             [
              1,
              "#f0f921"
             ]
            ],
            "type": "heatmap"
           }
          ],
          "heatmapgl": [
           {
            "colorbar": {
             "outlinewidth": 0,
             "ticks": ""
            },
            "colorscale": [
             [
              0,
              "#0d0887"
             ],
             [
              0.1111111111111111,
              "#46039f"
             ],
             [
              0.2222222222222222,
              "#7201a8"
             ],
             [
              0.3333333333333333,
              "#9c179e"
             ],
             [
              0.4444444444444444,
              "#bd3786"
             ],
             [
              0.5555555555555556,
              "#d8576b"
             ],
             [
              0.6666666666666666,
              "#ed7953"
             ],
             [
              0.7777777777777778,
              "#fb9f3a"
             ],
             [
              0.8888888888888888,
              "#fdca26"
             ],
             [
              1,
              "#f0f921"
             ]
            ],
            "type": "heatmapgl"
           }
          ],
          "histogram": [
           {
            "marker": {
             "pattern": {
              "fillmode": "overlay",
              "size": 10,
              "solidity": 0.2
             }
            },
            "type": "histogram"
           }
          ],
          "histogram2d": [
           {
            "colorbar": {
             "outlinewidth": 0,
             "ticks": ""
            },
            "colorscale": [
             [
              0,
              "#0d0887"
             ],
             [
              0.1111111111111111,
              "#46039f"
             ],
             [
              0.2222222222222222,
              "#7201a8"
             ],
             [
              0.3333333333333333,
              "#9c179e"
             ],
             [
              0.4444444444444444,
              "#bd3786"
             ],
             [
              0.5555555555555556,
              "#d8576b"
             ],
             [
              0.6666666666666666,
              "#ed7953"
             ],
             [
              0.7777777777777778,
              "#fb9f3a"
             ],
             [
              0.8888888888888888,
              "#fdca26"
             ],
             [
              1,
              "#f0f921"
             ]
            ],
            "type": "histogram2d"
           }
          ],
          "histogram2dcontour": [
           {
            "colorbar": {
             "outlinewidth": 0,
             "ticks": ""
            },
            "colorscale": [
             [
              0,
              "#0d0887"
             ],
             [
              0.1111111111111111,
              "#46039f"
             ],
             [
              0.2222222222222222,
              "#7201a8"
             ],
             [
              0.3333333333333333,
              "#9c179e"
             ],
             [
              0.4444444444444444,
              "#bd3786"
             ],
             [
              0.5555555555555556,
              "#d8576b"
             ],
             [
              0.6666666666666666,
              "#ed7953"
             ],
             [
              0.7777777777777778,
              "#fb9f3a"
             ],
             [
              0.8888888888888888,
              "#fdca26"
             ],
             [
              1,
              "#f0f921"
             ]
            ],
            "type": "histogram2dcontour"
           }
          ],
          "mesh3d": [
           {
            "colorbar": {
             "outlinewidth": 0,
             "ticks": ""
            },
            "type": "mesh3d"
           }
          ],
          "parcoords": [
           {
            "line": {
             "colorbar": {
              "outlinewidth": 0,
              "ticks": ""
             }
            },
            "type": "parcoords"
           }
          ],
          "pie": [
           {
            "automargin": true,
            "type": "pie"
           }
          ],
          "scatter": [
           {
            "fillpattern": {
             "fillmode": "overlay",
             "size": 10,
             "solidity": 0.2
            },
            "type": "scatter"
           }
          ],
          "scatter3d": [
           {
            "line": {
             "colorbar": {
              "outlinewidth": 0,
              "ticks": ""
             }
            },
            "marker": {
             "colorbar": {
              "outlinewidth": 0,
              "ticks": ""
             }
            },
            "type": "scatter3d"
           }
          ],
          "scattercarpet": [
           {
            "marker": {
             "colorbar": {
              "outlinewidth": 0,
              "ticks": ""
             }
            },
            "type": "scattercarpet"
           }
          ],
          "scattergeo": [
           {
            "marker": {
             "colorbar": {
              "outlinewidth": 0,
              "ticks": ""
             }
            },
            "type": "scattergeo"
           }
          ],
          "scattergl": [
           {
            "marker": {
             "colorbar": {
              "outlinewidth": 0,
              "ticks": ""
             }
            },
            "type": "scattergl"
           }
          ],
          "scattermapbox": [
           {
            "marker": {
             "colorbar": {
              "outlinewidth": 0,
              "ticks": ""
             }
            },
            "type": "scattermapbox"
           }
          ],
          "scatterpolar": [
           {
            "marker": {
             "colorbar": {
              "outlinewidth": 0,
              "ticks": ""
             }
            },
            "type": "scatterpolar"
           }
          ],
          "scatterpolargl": [
           {
            "marker": {
             "colorbar": {
              "outlinewidth": 0,
              "ticks": ""
             }
            },
            "type": "scatterpolargl"
           }
          ],
          "scatterternary": [
           {
            "marker": {
             "colorbar": {
              "outlinewidth": 0,
              "ticks": ""
             }
            },
            "type": "scatterternary"
           }
          ],
          "surface": [
           {
            "colorbar": {
             "outlinewidth": 0,
             "ticks": ""
            },
            "colorscale": [
             [
              0,
              "#0d0887"
             ],
             [
              0.1111111111111111,
              "#46039f"
             ],
             [
              0.2222222222222222,
              "#7201a8"
             ],
             [
              0.3333333333333333,
              "#9c179e"
             ],
             [
              0.4444444444444444,
              "#bd3786"
             ],
             [
              0.5555555555555556,
              "#d8576b"
             ],
             [
              0.6666666666666666,
              "#ed7953"
             ],
             [
              0.7777777777777778,
              "#fb9f3a"
             ],
             [
              0.8888888888888888,
              "#fdca26"
             ],
             [
              1,
              "#f0f921"
             ]
            ],
            "type": "surface"
           }
          ],
          "table": [
           {
            "cells": {
             "fill": {
              "color": "#EBF0F8"
             },
             "line": {
              "color": "white"
             }
            },
            "header": {
             "fill": {
              "color": "#C8D4E3"
             },
             "line": {
              "color": "white"
             }
            },
            "type": "table"
           }
          ]
         },
         "layout": {
          "annotationdefaults": {
           "arrowcolor": "#2a3f5f",
           "arrowhead": 0,
           "arrowwidth": 1
          },
          "autotypenumbers": "strict",
          "coloraxis": {
           "colorbar": {
            "outlinewidth": 0,
            "ticks": ""
           }
          },
          "colorscale": {
           "diverging": [
            [
             0,
             "#8e0152"
            ],
            [
             0.1,
             "#c51b7d"
            ],
            [
             0.2,
             "#de77ae"
            ],
            [
             0.3,
             "#f1b6da"
            ],
            [
             0.4,
             "#fde0ef"
            ],
            [
             0.5,
             "#f7f7f7"
            ],
            [
             0.6,
             "#e6f5d0"
            ],
            [
             0.7,
             "#b8e186"
            ],
            [
             0.8,
             "#7fbc41"
            ],
            [
             0.9,
             "#4d9221"
            ],
            [
             1,
             "#276419"
            ]
           ],
           "sequential": [
            [
             0,
             "#0d0887"
            ],
            [
             0.1111111111111111,
             "#46039f"
            ],
            [
             0.2222222222222222,
             "#7201a8"
            ],
            [
             0.3333333333333333,
             "#9c179e"
            ],
            [
             0.4444444444444444,
             "#bd3786"
            ],
            [
             0.5555555555555556,
             "#d8576b"
            ],
            [
             0.6666666666666666,
             "#ed7953"
            ],
            [
             0.7777777777777778,
             "#fb9f3a"
            ],
            [
             0.8888888888888888,
             "#fdca26"
            ],
            [
             1,
             "#f0f921"
            ]
           ],
           "sequentialminus": [
            [
             0,
             "#0d0887"
            ],
            [
             0.1111111111111111,
             "#46039f"
            ],
            [
             0.2222222222222222,
             "#7201a8"
            ],
            [
             0.3333333333333333,
             "#9c179e"
            ],
            [
             0.4444444444444444,
             "#bd3786"
            ],
            [
             0.5555555555555556,
             "#d8576b"
            ],
            [
             0.6666666666666666,
             "#ed7953"
            ],
            [
             0.7777777777777778,
             "#fb9f3a"
            ],
            [
             0.8888888888888888,
             "#fdca26"
            ],
            [
             1,
             "#f0f921"
            ]
           ]
          },
          "colorway": [
           "#636efa",
           "#EF553B",
           "#00cc96",
           "#ab63fa",
           "#FFA15A",
           "#19d3f3",
           "#FF6692",
           "#B6E880",
           "#FF97FF",
           "#FECB52"
          ],
          "font": {
           "color": "#2a3f5f"
          },
          "geo": {
           "bgcolor": "white",
           "lakecolor": "white",
           "landcolor": "#E5ECF6",
           "showlakes": true,
           "showland": true,
           "subunitcolor": "white"
          },
          "hoverlabel": {
           "align": "left"
          },
          "hovermode": "closest",
          "mapbox": {
           "style": "light"
          },
          "paper_bgcolor": "white",
          "plot_bgcolor": "#E5ECF6",
          "polar": {
           "angularaxis": {
            "gridcolor": "white",
            "linecolor": "white",
            "ticks": ""
           },
           "bgcolor": "#E5ECF6",
           "radialaxis": {
            "gridcolor": "white",
            "linecolor": "white",
            "ticks": ""
           }
          },
          "scene": {
           "xaxis": {
            "backgroundcolor": "#E5ECF6",
            "gridcolor": "white",
            "gridwidth": 2,
            "linecolor": "white",
            "showbackground": true,
            "ticks": "",
            "zerolinecolor": "white"
           },
           "yaxis": {
            "backgroundcolor": "#E5ECF6",
            "gridcolor": "white",
            "gridwidth": 2,
            "linecolor": "white",
            "showbackground": true,
            "ticks": "",
            "zerolinecolor": "white"
           },
           "zaxis": {
            "backgroundcolor": "#E5ECF6",
            "gridcolor": "white",
            "gridwidth": 2,
            "linecolor": "white",
            "showbackground": true,
            "ticks": "",
            "zerolinecolor": "white"
           }
          },
          "shapedefaults": {
           "line": {
            "color": "#2a3f5f"
           }
          },
          "ternary": {
           "aaxis": {
            "gridcolor": "white",
            "linecolor": "white",
            "ticks": ""
           },
           "baxis": {
            "gridcolor": "white",
            "linecolor": "white",
            "ticks": ""
           },
           "bgcolor": "#E5ECF6",
           "caxis": {
            "gridcolor": "white",
            "linecolor": "white",
            "ticks": ""
           }
          },
          "title": {
           "x": 0.05
          },
          "xaxis": {
           "automargin": true,
           "gridcolor": "white",
           "linecolor": "white",
           "ticks": "",
           "title": {
            "standoff": 15
           },
           "zerolinecolor": "white",
           "zerolinewidth": 2
          },
          "yaxis": {
           "automargin": true,
           "gridcolor": "white",
           "linecolor": "white",
           "ticks": "",
           "title": {
            "standoff": 15
           },
           "zerolinecolor": "white",
           "zerolinewidth": 2
          }
         }
        },
        "title": {
         "text": "",
         "x": 0.5,
         "y": 0.92
        },
        "uniformtext": {
         "minsize": 8,
         "mode": "hide"
        },
        "xaxis": {
         "anchor": "y",
         "categoryorder": "total descending",
         "domain": [
          0,
          1
         ],
         "title": {
          "text": "books_counts"
         }
        },
        "yaxis": {
         "anchor": "x",
         "categoryarray": [
          "achieving …",
          "health …",
          "social …",
          "asian american …",
          "psychology and sexual orientation"
         ],
         "categoryorder": "array",
         "domain": [
          0,
          1
         ],
         "title": {
          "text": "names"
         }
        }
       }
      }
     },
     "metadata": {},
     "output_type": "display_data"
    }
   ],
   "source": [
    "# Books do not have that many topics, hence taking only top 5\n",
    "fig = px.bar(df_book[:5], x=\"books_counts\", y=\"names\", color=\"names\",\n",
    "            hover_data=['names'], barmode = 'stack',\n",
    "            text ='books_counts')\n",
    "fig.update_layout(title_text='', title_x=0.5, title_y=0.92,\n",
    "    legend=dict(\n",
    "    yanchor=\"top\",\n",
    "    y=0.59,\n",
    "    xanchor=\"right\",\n",
    "    x=0.79\n",
    "))\n",
    "fig.update_layout(xaxis={'categoryorder':'total descending'})\n",
    "fig.update_layout(uniformtext_minsize=8, uniformtext_mode='hide')\n",
    "fig.update_traces(textposition='outside')\n",
    "fig.show()"
   ]
  },
  {
   "attachments": {},
   "cell_type": "markdown",
   "metadata": {},
   "source": [
    "### Subjects and their count"
   ]
  },
  {
   "cell_type": "code",
   "execution_count": 43,
   "metadata": {},
   "outputs": [
    {
     "data": {
      "text/html": [
       "<div>\n",
       "<style scoped>\n",
       "    .dataframe tbody tr th:only-of-type {\n",
       "        vertical-align: middle;\n",
       "    }\n",
       "\n",
       "    .dataframe tbody tr th {\n",
       "        vertical-align: top;\n",
       "    }\n",
       "\n",
       "    .dataframe thead th {\n",
       "        text-align: right;\n",
       "    }\n",
       "</style>\n",
       "<table border=\"1\" class=\"dataframe\">\n",
       "  <thead>\n",
       "    <tr style=\"text-align: right;\">\n",
       "      <th></th>\n",
       "      <th>subjects</th>\n",
       "      <th>counts</th>\n",
       "    </tr>\n",
       "  </thead>\n",
       "  <tbody>\n",
       "    <tr>\n",
       "      <th>0</th>\n",
       "      <td>women's health</td>\n",
       "      <td>94</td>\n",
       "    </tr>\n",
       "    <tr>\n",
       "      <th>1</th>\n",
       "      <td>sexual aggression</td>\n",
       "      <td>20</td>\n",
       "    </tr>\n",
       "    <tr>\n",
       "      <th>2</th>\n",
       "      <td>psychology and sexual orientation</td>\n",
       "      <td>15</td>\n",
       "    </tr>\n",
       "    <tr>\n",
       "      <th>3</th>\n",
       "      <td>children and media</td>\n",
       "      <td>11</td>\n",
       "    </tr>\n",
       "    <tr>\n",
       "      <th>4</th>\n",
       "      <td>gay and lesbian mental health</td>\n",
       "      <td>9</td>\n",
       "    </tr>\n",
       "    <tr>\n",
       "      <th>5</th>\n",
       "      <td>youth studies</td>\n",
       "      <td>8</td>\n",
       "    </tr>\n",
       "    <tr>\n",
       "      <th>6</th>\n",
       "      <td>social …</td>\n",
       "      <td>6</td>\n",
       "    </tr>\n",
       "    <tr>\n",
       "      <th>7</th>\n",
       "      <td>ethnicity criminal just</td>\n",
       "      <td>5</td>\n",
       "    </tr>\n",
       "    <tr>\n",
       "      <th>8</th>\n",
       "      <td>lesbian …</td>\n",
       "      <td>5</td>\n",
       "    </tr>\n",
       "    <tr>\n",
       "      <th>9</th>\n",
       "      <td>lesbian studies</td>\n",
       "      <td>5</td>\n",
       "    </tr>\n",
       "    <tr>\n",
       "      <th>10</th>\n",
       "      <td>lgbt issues counseling</td>\n",
       "      <td>5</td>\n",
       "    </tr>\n",
       "    <tr>\n",
       "      <th>11</th>\n",
       "      <td>corpus …</td>\n",
       "      <td>5</td>\n",
       "    </tr>\n",
       "    <tr>\n",
       "      <th>12</th>\n",
       "      <td>qualitative studies …</td>\n",
       "      <td>5</td>\n",
       "    </tr>\n",
       "    <tr>\n",
       "      <th>13</th>\n",
       "      <td>sex</td>\n",
       "      <td>4</td>\n",
       "    </tr>\n",
       "    <tr>\n",
       "      <th>14</th>\n",
       "      <td>gay and lesbian …</td>\n",
       "      <td>4</td>\n",
       "    </tr>\n",
       "    <tr>\n",
       "      <th>15</th>\n",
       "      <td>intercultural studies</td>\n",
       "      <td>4</td>\n",
       "    </tr>\n",
       "    <tr>\n",
       "      <th>16</th>\n",
       "      <td>asian american …</td>\n",
       "      <td>4</td>\n",
       "    </tr>\n",
       "    <tr>\n",
       "      <th>17</th>\n",
       "      <td>lgbt …</td>\n",
       "      <td>4</td>\n",
       "    </tr>\n",
       "    <tr>\n",
       "      <th>18</th>\n",
       "      <td>film studies</td>\n",
       "      <td>4</td>\n",
       "    </tr>\n",
       "    <tr>\n",
       "      <th>19</th>\n",
       "      <td>social service</td>\n",
       "      <td>4</td>\n",
       "    </tr>\n",
       "    <tr>\n",
       "      <th>20</th>\n",
       "      <td>homosexuality</td>\n",
       "      <td>3</td>\n",
       "    </tr>\n",
       "    <tr>\n",
       "      <th>21</th>\n",
       "      <td>information technology and politics</td>\n",
       "      <td>3</td>\n",
       "    </tr>\n",
       "    <tr>\n",
       "      <th>22</th>\n",
       "      <td>language, identity and educate</td>\n",
       "      <td>3</td>\n",
       "    </tr>\n",
       "    <tr>\n",
       "      <th>23</th>\n",
       "      <td>southern communication</td>\n",
       "      <td>3</td>\n",
       "    </tr>\n",
       "    <tr>\n",
       "      <th>24</th>\n",
       "      <td>counseling …</td>\n",
       "      <td>3</td>\n",
       "    </tr>\n",
       "    <tr>\n",
       "      <th>25</th>\n",
       "      <td>aggression, mistreatment and …</td>\n",
       "      <td>2</td>\n",
       "    </tr>\n",
       "    <tr>\n",
       "      <th>26</th>\n",
       "      <td>health educate</td>\n",
       "      <td>2</td>\n",
       "    </tr>\n",
       "    <tr>\n",
       "      <th>27</th>\n",
       "      <td>gaming and virtual worlds</td>\n",
       "      <td>2</td>\n",
       "    </tr>\n",
       "    <tr>\n",
       "      <th>28</th>\n",
       "      <td>personality and social psychology</td>\n",
       "      <td>2</td>\n",
       "    </tr>\n",
       "    <tr>\n",
       "      <th>29</th>\n",
       "      <td>infant, child, and adolescent …</td>\n",
       "      <td>2</td>\n",
       "    </tr>\n",
       "    <tr>\n",
       "      <th>30</th>\n",
       "      <td>human …</td>\n",
       "      <td>2</td>\n",
       "    </tr>\n",
       "    <tr>\n",
       "      <th>31</th>\n",
       "      <td>sociology</td>\n",
       "      <td>2</td>\n",
       "    </tr>\n",
       "    <tr>\n",
       "      <th>32</th>\n",
       "      <td>health …</td>\n",
       "      <td>2</td>\n",
       "    </tr>\n",
       "    <tr>\n",
       "      <th>33</th>\n",
       "      <td>education and</td>\n",
       "      <td>2</td>\n",
       "    </tr>\n",
       "    <tr>\n",
       "      <th>34</th>\n",
       "      <td>achieving …</td>\n",
       "      <td>2</td>\n",
       "    </tr>\n",
       "    <tr>\n",
       "      <th>35</th>\n",
       "      <td>latin american and caribbean …</td>\n",
       "      <td>2</td>\n",
       "    </tr>\n",
       "    <tr>\n",
       "      <th>36</th>\n",
       "      <td>black psychology</td>\n",
       "      <td>2</td>\n",
       "    </tr>\n",
       "    <tr>\n",
       "      <th>37</th>\n",
       "      <td>sexuality</td>\n",
       "      <td>2</td>\n",
       "    </tr>\n",
       "    <tr>\n",
       "      <th>38</th>\n",
       "      <td>…</td>\n",
       "      <td>2</td>\n",
       "    </tr>\n",
       "    <tr>\n",
       "      <th>39</th>\n",
       "      <td>education and …</td>\n",
       "      <td>2</td>\n",
       "    </tr>\n",
       "    <tr>\n",
       "      <th>40</th>\n",
       "      <td>the social psychology …</td>\n",
       "      <td>2</td>\n",
       "    </tr>\n",
       "    <tr>\n",
       "      <th>41</th>\n",
       "      <td>global literates, technologies, and …</td>\n",
       "      <td>2</td>\n",
       "    </tr>\n",
       "    <tr>\n",
       "      <th>42</th>\n",
       "      <td>criminal justice educate</td>\n",
       "      <td>2</td>\n",
       "    </tr>\n",
       "    <tr>\n",
       "      <th>43</th>\n",
       "      <td>about women higher …</td>\n",
       "      <td>2</td>\n",
       "    </tr>\n",
       "    <tr>\n",
       "      <th>44</th>\n",
       "      <td>gay and …</td>\n",
       "      <td>2</td>\n",
       "    </tr>\n",
       "    <tr>\n",
       "      <th>45</th>\n",
       "      <td>international migration and …</td>\n",
       "      <td>2</td>\n",
       "    </tr>\n",
       "    <tr>\n",
       "      <th>46</th>\n",
       "      <td>human behavior the social environs</td>\n",
       "      <td>2</td>\n",
       "    </tr>\n",
       "    <tr>\n",
       "      <th>47</th>\n",
       "      <td>gender studies</td>\n",
       "      <td>2</td>\n",
       "    </tr>\n",
       "    <tr>\n",
       "      <th>48</th>\n",
       "      <td>crime and just</td>\n",
       "      <td>2</td>\n",
       "    </tr>\n",
       "    <tr>\n",
       "      <th>49</th>\n",
       "      <td>aggression …</td>\n",
       "      <td>2</td>\n",
       "    </tr>\n",
       "  </tbody>\n",
       "</table>\n",
       "</div>"
      ],
      "text/plain": [
       "                                 subjects  counts\n",
       "0                          women's health      94\n",
       "1                       sexual aggression      20\n",
       "2       psychology and sexual orientation      15\n",
       "3                      children and media      11\n",
       "4           gay and lesbian mental health       9\n",
       "5                           youth studies       8\n",
       "6                                social …       6\n",
       "7                 ethnicity criminal just       5\n",
       "8                               lesbian …       5\n",
       "9                         lesbian studies       5\n",
       "10                 lgbt issues counseling       5\n",
       "11                               corpus …       5\n",
       "12                  qualitative studies …       5\n",
       "13                                    sex       4\n",
       "14                      gay and lesbian …       4\n",
       "15                  intercultural studies       4\n",
       "16                       asian american …       4\n",
       "17                                 lgbt …       4\n",
       "18                           film studies       4\n",
       "19                         social service       4\n",
       "20                          homosexuality       3\n",
       "21    information technology and politics       3\n",
       "22         language, identity and educate       3\n",
       "23                 southern communication       3\n",
       "24                           counseling …       3\n",
       "25         aggression, mistreatment and …       2\n",
       "26                         health educate       2\n",
       "27              gaming and virtual worlds       2\n",
       "28      personality and social psychology       2\n",
       "29        infant, child, and adolescent …       2\n",
       "30                                human …       2\n",
       "31                              sociology       2\n",
       "32                               health …       2\n",
       "33                          education and       2\n",
       "34                            achieving …       2\n",
       "35         latin american and caribbean …       2\n",
       "36                       black psychology       2\n",
       "37                              sexuality       2\n",
       "38                                      …       2\n",
       "39                        education and …       2\n",
       "40                the social psychology …       2\n",
       "41  global literates, technologies, and …       2\n",
       "42               criminal justice educate       2\n",
       "43                   about women higher …       2\n",
       "44                              gay and …       2\n",
       "45          international migration and …       2\n",
       "46     human behavior the social environs       2\n",
       "47                         gender studies       2\n",
       "48                         crime and just       2\n",
       "49                           aggression …       2"
      ]
     },
     "execution_count": 43,
     "metadata": {},
     "output_type": "execute_result"
    }
   ],
   "source": [
    "# This dataframe consists of all the categories of subjects, irrespective of the source type\n",
    "\n",
    "df_sub = pd.DataFrame({\n",
    "    'subjects': df_sou_sub['subjects'].unique().tolist(),\n",
    "    'counts': df_sou_sub['subjects'].value_counts(),\n",
    "}).reset_index(drop=True)\n",
    "\n",
    "df_sub[:50]"
   ]
  },
  {
   "cell_type": "code",
   "execution_count": 44,
   "metadata": {},
   "outputs": [
    {
     "data": {
      "application/vnd.plotly.v1+json": {
       "config": {
        "plotlyServerURL": "https://plot.ly"
       },
       "data": [
        {
         "alignmentgroup": "True",
         "hovertemplate": "subjects=%{y}<br>counts=%{text}<extra></extra>",
         "legendgroup": "women's health",
         "marker": {
          "color": "#636efa",
          "pattern": {
           "shape": ""
          }
         },
         "name": "women's health",
         "offsetgroup": "women's health",
         "orientation": "h",
         "showlegend": true,
         "text": [
          94
         ],
         "textposition": "outside",
         "type": "bar",
         "x": [
          94
         ],
         "xaxis": "x",
         "y": [
          "women's health"
         ],
         "yaxis": "y"
        },
        {
         "alignmentgroup": "True",
         "hovertemplate": "subjects=%{y}<br>counts=%{text}<extra></extra>",
         "legendgroup": "sexual aggression",
         "marker": {
          "color": "#EF553B",
          "pattern": {
           "shape": ""
          }
         },
         "name": "sexual aggression",
         "offsetgroup": "sexual aggression",
         "orientation": "h",
         "showlegend": true,
         "text": [
          20
         ],
         "textposition": "outside",
         "type": "bar",
         "x": [
          20
         ],
         "xaxis": "x",
         "y": [
          "sexual aggression"
         ],
         "yaxis": "y"
        },
        {
         "alignmentgroup": "True",
         "hovertemplate": "subjects=%{y}<br>counts=%{text}<extra></extra>",
         "legendgroup": "psychology and sexual orientation",
         "marker": {
          "color": "#00cc96",
          "pattern": {
           "shape": ""
          }
         },
         "name": "psychology and sexual orientation",
         "offsetgroup": "psychology and sexual orientation",
         "orientation": "h",
         "showlegend": true,
         "text": [
          15
         ],
         "textposition": "outside",
         "type": "bar",
         "x": [
          15
         ],
         "xaxis": "x",
         "y": [
          "psychology and sexual orientation"
         ],
         "yaxis": "y"
        },
        {
         "alignmentgroup": "True",
         "hovertemplate": "subjects=%{y}<br>counts=%{text}<extra></extra>",
         "legendgroup": "children and media",
         "marker": {
          "color": "#ab63fa",
          "pattern": {
           "shape": ""
          }
         },
         "name": "children and media",
         "offsetgroup": "children and media",
         "orientation": "h",
         "showlegend": true,
         "text": [
          11
         ],
         "textposition": "outside",
         "type": "bar",
         "x": [
          11
         ],
         "xaxis": "x",
         "y": [
          "children and media"
         ],
         "yaxis": "y"
        },
        {
         "alignmentgroup": "True",
         "hovertemplate": "subjects=%{y}<br>counts=%{text}<extra></extra>",
         "legendgroup": "gay and lesbian mental health",
         "marker": {
          "color": "#FFA15A",
          "pattern": {
           "shape": ""
          }
         },
         "name": "gay and lesbian mental health",
         "offsetgroup": "gay and lesbian mental health",
         "orientation": "h",
         "showlegend": true,
         "text": [
          9
         ],
         "textposition": "outside",
         "type": "bar",
         "x": [
          9
         ],
         "xaxis": "x",
         "y": [
          "gay and lesbian mental health"
         ],
         "yaxis": "y"
        },
        {
         "alignmentgroup": "True",
         "hovertemplate": "subjects=%{y}<br>counts=%{text}<extra></extra>",
         "legendgroup": "youth studies",
         "marker": {
          "color": "#19d3f3",
          "pattern": {
           "shape": ""
          }
         },
         "name": "youth studies",
         "offsetgroup": "youth studies",
         "orientation": "h",
         "showlegend": true,
         "text": [
          8
         ],
         "textposition": "outside",
         "type": "bar",
         "x": [
          8
         ],
         "xaxis": "x",
         "y": [
          "youth studies"
         ],
         "yaxis": "y"
        },
        {
         "alignmentgroup": "True",
         "hovertemplate": "subjects=%{y}<br>counts=%{text}<extra></extra>",
         "legendgroup": "social …",
         "marker": {
          "color": "#FF6692",
          "pattern": {
           "shape": ""
          }
         },
         "name": "social …",
         "offsetgroup": "social …",
         "orientation": "h",
         "showlegend": true,
         "text": [
          6
         ],
         "textposition": "outside",
         "type": "bar",
         "x": [
          6
         ],
         "xaxis": "x",
         "y": [
          "social …"
         ],
         "yaxis": "y"
        },
        {
         "alignmentgroup": "True",
         "hovertemplate": "subjects=%{y}<br>counts=%{text}<extra></extra>",
         "legendgroup": "ethnicity criminal just",
         "marker": {
          "color": "#B6E880",
          "pattern": {
           "shape": ""
          }
         },
         "name": "ethnicity criminal just",
         "offsetgroup": "ethnicity criminal just",
         "orientation": "h",
         "showlegend": true,
         "text": [
          5
         ],
         "textposition": "outside",
         "type": "bar",
         "x": [
          5
         ],
         "xaxis": "x",
         "y": [
          "ethnicity criminal just"
         ],
         "yaxis": "y"
        },
        {
         "alignmentgroup": "True",
         "hovertemplate": "subjects=%{y}<br>counts=%{text}<extra></extra>",
         "legendgroup": "lesbian …",
         "marker": {
          "color": "#FF97FF",
          "pattern": {
           "shape": ""
          }
         },
         "name": "lesbian …",
         "offsetgroup": "lesbian …",
         "orientation": "h",
         "showlegend": true,
         "text": [
          5
         ],
         "textposition": "outside",
         "type": "bar",
         "x": [
          5
         ],
         "xaxis": "x",
         "y": [
          "lesbian …"
         ],
         "yaxis": "y"
        },
        {
         "alignmentgroup": "True",
         "hovertemplate": "subjects=%{y}<br>counts=%{text}<extra></extra>",
         "legendgroup": "lesbian studies",
         "marker": {
          "color": "#FECB52",
          "pattern": {
           "shape": ""
          }
         },
         "name": "lesbian studies",
         "offsetgroup": "lesbian studies",
         "orientation": "h",
         "showlegend": true,
         "text": [
          5
         ],
         "textposition": "outside",
         "type": "bar",
         "x": [
          5
         ],
         "xaxis": "x",
         "y": [
          "lesbian studies"
         ],
         "yaxis": "y"
        },
        {
         "alignmentgroup": "True",
         "hovertemplate": "subjects=%{y}<br>counts=%{text}<extra></extra>",
         "legendgroup": "lgbt issues counseling",
         "marker": {
          "color": "#636efa",
          "pattern": {
           "shape": ""
          }
         },
         "name": "lgbt issues counseling",
         "offsetgroup": "lgbt issues counseling",
         "orientation": "h",
         "showlegend": true,
         "text": [
          5
         ],
         "textposition": "outside",
         "type": "bar",
         "x": [
          5
         ],
         "xaxis": "x",
         "y": [
          "lgbt issues counseling"
         ],
         "yaxis": "y"
        },
        {
         "alignmentgroup": "True",
         "hovertemplate": "subjects=%{y}<br>counts=%{text}<extra></extra>",
         "legendgroup": "corpus …",
         "marker": {
          "color": "#EF553B",
          "pattern": {
           "shape": ""
          }
         },
         "name": "corpus …",
         "offsetgroup": "corpus …",
         "orientation": "h",
         "showlegend": true,
         "text": [
          5
         ],
         "textposition": "outside",
         "type": "bar",
         "x": [
          5
         ],
         "xaxis": "x",
         "y": [
          "corpus …"
         ],
         "yaxis": "y"
        },
        {
         "alignmentgroup": "True",
         "hovertemplate": "subjects=%{y}<br>counts=%{text}<extra></extra>",
         "legendgroup": "qualitative studies …",
         "marker": {
          "color": "#00cc96",
          "pattern": {
           "shape": ""
          }
         },
         "name": "qualitative studies …",
         "offsetgroup": "qualitative studies …",
         "orientation": "h",
         "showlegend": true,
         "text": [
          5
         ],
         "textposition": "outside",
         "type": "bar",
         "x": [
          5
         ],
         "xaxis": "x",
         "y": [
          "qualitative studies …"
         ],
         "yaxis": "y"
        },
        {
         "alignmentgroup": "True",
         "hovertemplate": "subjects=%{y}<br>counts=%{text}<extra></extra>",
         "legendgroup": "sex",
         "marker": {
          "color": "#ab63fa",
          "pattern": {
           "shape": ""
          }
         },
         "name": "sex",
         "offsetgroup": "sex",
         "orientation": "h",
         "showlegend": true,
         "text": [
          4
         ],
         "textposition": "outside",
         "type": "bar",
         "x": [
          4
         ],
         "xaxis": "x",
         "y": [
          "sex"
         ],
         "yaxis": "y"
        },
        {
         "alignmentgroup": "True",
         "hovertemplate": "subjects=%{y}<br>counts=%{text}<extra></extra>",
         "legendgroup": "gay and lesbian …",
         "marker": {
          "color": "#FFA15A",
          "pattern": {
           "shape": ""
          }
         },
         "name": "gay and lesbian …",
         "offsetgroup": "gay and lesbian …",
         "orientation": "h",
         "showlegend": true,
         "text": [
          4
         ],
         "textposition": "outside",
         "type": "bar",
         "x": [
          4
         ],
         "xaxis": "x",
         "y": [
          "gay and lesbian …"
         ],
         "yaxis": "y"
        },
        {
         "alignmentgroup": "True",
         "hovertemplate": "subjects=%{y}<br>counts=%{text}<extra></extra>",
         "legendgroup": "intercultural studies",
         "marker": {
          "color": "#19d3f3",
          "pattern": {
           "shape": ""
          }
         },
         "name": "intercultural studies",
         "offsetgroup": "intercultural studies",
         "orientation": "h",
         "showlegend": true,
         "text": [
          4
         ],
         "textposition": "outside",
         "type": "bar",
         "x": [
          4
         ],
         "xaxis": "x",
         "y": [
          "intercultural studies"
         ],
         "yaxis": "y"
        },
        {
         "alignmentgroup": "True",
         "hovertemplate": "subjects=%{y}<br>counts=%{text}<extra></extra>",
         "legendgroup": "asian american …",
         "marker": {
          "color": "#FF6692",
          "pattern": {
           "shape": ""
          }
         },
         "name": "asian american …",
         "offsetgroup": "asian american …",
         "orientation": "h",
         "showlegend": true,
         "text": [
          4
         ],
         "textposition": "outside",
         "type": "bar",
         "x": [
          4
         ],
         "xaxis": "x",
         "y": [
          "asian american …"
         ],
         "yaxis": "y"
        },
        {
         "alignmentgroup": "True",
         "hovertemplate": "subjects=%{y}<br>counts=%{text}<extra></extra>",
         "legendgroup": "lgbt …",
         "marker": {
          "color": "#B6E880",
          "pattern": {
           "shape": ""
          }
         },
         "name": "lgbt …",
         "offsetgroup": "lgbt …",
         "orientation": "h",
         "showlegend": true,
         "text": [
          4
         ],
         "textposition": "outside",
         "type": "bar",
         "x": [
          4
         ],
         "xaxis": "x",
         "y": [
          "lgbt …"
         ],
         "yaxis": "y"
        },
        {
         "alignmentgroup": "True",
         "hovertemplate": "subjects=%{y}<br>counts=%{text}<extra></extra>",
         "legendgroup": "film studies",
         "marker": {
          "color": "#FF97FF",
          "pattern": {
           "shape": ""
          }
         },
         "name": "film studies",
         "offsetgroup": "film studies",
         "orientation": "h",
         "showlegend": true,
         "text": [
          4
         ],
         "textposition": "outside",
         "type": "bar",
         "x": [
          4
         ],
         "xaxis": "x",
         "y": [
          "film studies"
         ],
         "yaxis": "y"
        },
        {
         "alignmentgroup": "True",
         "hovertemplate": "subjects=%{y}<br>counts=%{text}<extra></extra>",
         "legendgroup": "social service",
         "marker": {
          "color": "#FECB52",
          "pattern": {
           "shape": ""
          }
         },
         "name": "social service",
         "offsetgroup": "social service",
         "orientation": "h",
         "showlegend": true,
         "text": [
          4
         ],
         "textposition": "outside",
         "type": "bar",
         "x": [
          4
         ],
         "xaxis": "x",
         "y": [
          "social service"
         ],
         "yaxis": "y"
        }
       ],
       "layout": {
        "barmode": "stack",
        "legend": {
         "title": {
          "text": "subjects"
         },
         "tracegroupgap": 0,
         "x": 0.79,
         "xanchor": "right",
         "y": 0.59,
         "yanchor": "top"
        },
        "margin": {
         "t": 60
        },
        "template": {
         "data": {
          "bar": [
           {
            "error_x": {
             "color": "#2a3f5f"
            },
            "error_y": {
             "color": "#2a3f5f"
            },
            "marker": {
             "line": {
              "color": "#E5ECF6",
              "width": 0.5
             },
             "pattern": {
              "fillmode": "overlay",
              "size": 10,
              "solidity": 0.2
             }
            },
            "type": "bar"
           }
          ],
          "barpolar": [
           {
            "marker": {
             "line": {
              "color": "#E5ECF6",
              "width": 0.5
             },
             "pattern": {
              "fillmode": "overlay",
              "size": 10,
              "solidity": 0.2
             }
            },
            "type": "barpolar"
           }
          ],
          "carpet": [
           {
            "aaxis": {
             "endlinecolor": "#2a3f5f",
             "gridcolor": "white",
             "linecolor": "white",
             "minorgridcolor": "white",
             "startlinecolor": "#2a3f5f"
            },
            "baxis": {
             "endlinecolor": "#2a3f5f",
             "gridcolor": "white",
             "linecolor": "white",
             "minorgridcolor": "white",
             "startlinecolor": "#2a3f5f"
            },
            "type": "carpet"
           }
          ],
          "choropleth": [
           {
            "colorbar": {
             "outlinewidth": 0,
             "ticks": ""
            },
            "type": "choropleth"
           }
          ],
          "contour": [
           {
            "colorbar": {
             "outlinewidth": 0,
             "ticks": ""
            },
            "colorscale": [
             [
              0,
              "#0d0887"
             ],
             [
              0.1111111111111111,
              "#46039f"
             ],
             [
              0.2222222222222222,
              "#7201a8"
             ],
             [
              0.3333333333333333,
              "#9c179e"
             ],
             [
              0.4444444444444444,
              "#bd3786"
             ],
             [
              0.5555555555555556,
              "#d8576b"
             ],
             [
              0.6666666666666666,
              "#ed7953"
             ],
             [
              0.7777777777777778,
              "#fb9f3a"
             ],
             [
              0.8888888888888888,
              "#fdca26"
             ],
             [
              1,
              "#f0f921"
             ]
            ],
            "type": "contour"
           }
          ],
          "contourcarpet": [
           {
            "colorbar": {
             "outlinewidth": 0,
             "ticks": ""
            },
            "type": "contourcarpet"
           }
          ],
          "heatmap": [
           {
            "colorbar": {
             "outlinewidth": 0,
             "ticks": ""
            },
            "colorscale": [
             [
              0,
              "#0d0887"
             ],
             [
              0.1111111111111111,
              "#46039f"
             ],
             [
              0.2222222222222222,
              "#7201a8"
             ],
             [
              0.3333333333333333,
              "#9c179e"
             ],
             [
              0.4444444444444444,
              "#bd3786"
             ],
             [
              0.5555555555555556,
              "#d8576b"
             ],
             [
              0.6666666666666666,
              "#ed7953"
             ],
             [
              0.7777777777777778,
              "#fb9f3a"
             ],
             [
              0.8888888888888888,
              "#fdca26"
             ],
             [
              1,
              "#f0f921"
             ]
            ],
            "type": "heatmap"
           }
          ],
          "heatmapgl": [
           {
            "colorbar": {
             "outlinewidth": 0,
             "ticks": ""
            },
            "colorscale": [
             [
              0,
              "#0d0887"
             ],
             [
              0.1111111111111111,
              "#46039f"
             ],
             [
              0.2222222222222222,
              "#7201a8"
             ],
             [
              0.3333333333333333,
              "#9c179e"
             ],
             [
              0.4444444444444444,
              "#bd3786"
             ],
             [
              0.5555555555555556,
              "#d8576b"
             ],
             [
              0.6666666666666666,
              "#ed7953"
             ],
             [
              0.7777777777777778,
              "#fb9f3a"
             ],
             [
              0.8888888888888888,
              "#fdca26"
             ],
             [
              1,
              "#f0f921"
             ]
            ],
            "type": "heatmapgl"
           }
          ],
          "histogram": [
           {
            "marker": {
             "pattern": {
              "fillmode": "overlay",
              "size": 10,
              "solidity": 0.2
             }
            },
            "type": "histogram"
           }
          ],
          "histogram2d": [
           {
            "colorbar": {
             "outlinewidth": 0,
             "ticks": ""
            },
            "colorscale": [
             [
              0,
              "#0d0887"
             ],
             [
              0.1111111111111111,
              "#46039f"
             ],
             [
              0.2222222222222222,
              "#7201a8"
             ],
             [
              0.3333333333333333,
              "#9c179e"
             ],
             [
              0.4444444444444444,
              "#bd3786"
             ],
             [
              0.5555555555555556,
              "#d8576b"
             ],
             [
              0.6666666666666666,
              "#ed7953"
             ],
             [
              0.7777777777777778,
              "#fb9f3a"
             ],
             [
              0.8888888888888888,
              "#fdca26"
             ],
             [
              1,
              "#f0f921"
             ]
            ],
            "type": "histogram2d"
           }
          ],
          "histogram2dcontour": [
           {
            "colorbar": {
             "outlinewidth": 0,
             "ticks": ""
            },
            "colorscale": [
             [
              0,
              "#0d0887"
             ],
             [
              0.1111111111111111,
              "#46039f"
             ],
             [
              0.2222222222222222,
              "#7201a8"
             ],
             [
              0.3333333333333333,
              "#9c179e"
             ],
             [
              0.4444444444444444,
              "#bd3786"
             ],
             [
              0.5555555555555556,
              "#d8576b"
             ],
             [
              0.6666666666666666,
              "#ed7953"
             ],
             [
              0.7777777777777778,
              "#fb9f3a"
             ],
             [
              0.8888888888888888,
              "#fdca26"
             ],
             [
              1,
              "#f0f921"
             ]
            ],
            "type": "histogram2dcontour"
           }
          ],
          "mesh3d": [
           {
            "colorbar": {
             "outlinewidth": 0,
             "ticks": ""
            },
            "type": "mesh3d"
           }
          ],
          "parcoords": [
           {
            "line": {
             "colorbar": {
              "outlinewidth": 0,
              "ticks": ""
             }
            },
            "type": "parcoords"
           }
          ],
          "pie": [
           {
            "automargin": true,
            "type": "pie"
           }
          ],
          "scatter": [
           {
            "fillpattern": {
             "fillmode": "overlay",
             "size": 10,
             "solidity": 0.2
            },
            "type": "scatter"
           }
          ],
          "scatter3d": [
           {
            "line": {
             "colorbar": {
              "outlinewidth": 0,
              "ticks": ""
             }
            },
            "marker": {
             "colorbar": {
              "outlinewidth": 0,
              "ticks": ""
             }
            },
            "type": "scatter3d"
           }
          ],
          "scattercarpet": [
           {
            "marker": {
             "colorbar": {
              "outlinewidth": 0,
              "ticks": ""
             }
            },
            "type": "scattercarpet"
           }
          ],
          "scattergeo": [
           {
            "marker": {
             "colorbar": {
              "outlinewidth": 0,
              "ticks": ""
             }
            },
            "type": "scattergeo"
           }
          ],
          "scattergl": [
           {
            "marker": {
             "colorbar": {
              "outlinewidth": 0,
              "ticks": ""
             }
            },
            "type": "scattergl"
           }
          ],
          "scattermapbox": [
           {
            "marker": {
             "colorbar": {
              "outlinewidth": 0,
              "ticks": ""
             }
            },
            "type": "scattermapbox"
           }
          ],
          "scatterpolar": [
           {
            "marker": {
             "colorbar": {
              "outlinewidth": 0,
              "ticks": ""
             }
            },
            "type": "scatterpolar"
           }
          ],
          "scatterpolargl": [
           {
            "marker": {
             "colorbar": {
              "outlinewidth": 0,
              "ticks": ""
             }
            },
            "type": "scatterpolargl"
           }
          ],
          "scatterternary": [
           {
            "marker": {
             "colorbar": {
              "outlinewidth": 0,
              "ticks": ""
             }
            },
            "type": "scatterternary"
           }
          ],
          "surface": [
           {
            "colorbar": {
             "outlinewidth": 0,
             "ticks": ""
            },
            "colorscale": [
             [
              0,
              "#0d0887"
             ],
             [
              0.1111111111111111,
              "#46039f"
             ],
             [
              0.2222222222222222,
              "#7201a8"
             ],
             [
              0.3333333333333333,
              "#9c179e"
             ],
             [
              0.4444444444444444,
              "#bd3786"
             ],
             [
              0.5555555555555556,
              "#d8576b"
             ],
             [
              0.6666666666666666,
              "#ed7953"
             ],
             [
              0.7777777777777778,
              "#fb9f3a"
             ],
             [
              0.8888888888888888,
              "#fdca26"
             ],
             [
              1,
              "#f0f921"
             ]
            ],
            "type": "surface"
           }
          ],
          "table": [
           {
            "cells": {
             "fill": {
              "color": "#EBF0F8"
             },
             "line": {
              "color": "white"
             }
            },
            "header": {
             "fill": {
              "color": "#C8D4E3"
             },
             "line": {
              "color": "white"
             }
            },
            "type": "table"
           }
          ]
         },
         "layout": {
          "annotationdefaults": {
           "arrowcolor": "#2a3f5f",
           "arrowhead": 0,
           "arrowwidth": 1
          },
          "autotypenumbers": "strict",
          "coloraxis": {
           "colorbar": {
            "outlinewidth": 0,
            "ticks": ""
           }
          },
          "colorscale": {
           "diverging": [
            [
             0,
             "#8e0152"
            ],
            [
             0.1,
             "#c51b7d"
            ],
            [
             0.2,
             "#de77ae"
            ],
            [
             0.3,
             "#f1b6da"
            ],
            [
             0.4,
             "#fde0ef"
            ],
            [
             0.5,
             "#f7f7f7"
            ],
            [
             0.6,
             "#e6f5d0"
            ],
            [
             0.7,
             "#b8e186"
            ],
            [
             0.8,
             "#7fbc41"
            ],
            [
             0.9,
             "#4d9221"
            ],
            [
             1,
             "#276419"
            ]
           ],
           "sequential": [
            [
             0,
             "#0d0887"
            ],
            [
             0.1111111111111111,
             "#46039f"
            ],
            [
             0.2222222222222222,
             "#7201a8"
            ],
            [
             0.3333333333333333,
             "#9c179e"
            ],
            [
             0.4444444444444444,
             "#bd3786"
            ],
            [
             0.5555555555555556,
             "#d8576b"
            ],
            [
             0.6666666666666666,
             "#ed7953"
            ],
            [
             0.7777777777777778,
             "#fb9f3a"
            ],
            [
             0.8888888888888888,
             "#fdca26"
            ],
            [
             1,
             "#f0f921"
            ]
           ],
           "sequentialminus": [
            [
             0,
             "#0d0887"
            ],
            [
             0.1111111111111111,
             "#46039f"
            ],
            [
             0.2222222222222222,
             "#7201a8"
            ],
            [
             0.3333333333333333,
             "#9c179e"
            ],
            [
             0.4444444444444444,
             "#bd3786"
            ],
            [
             0.5555555555555556,
             "#d8576b"
            ],
            [
             0.6666666666666666,
             "#ed7953"
            ],
            [
             0.7777777777777778,
             "#fb9f3a"
            ],
            [
             0.8888888888888888,
             "#fdca26"
            ],
            [
             1,
             "#f0f921"
            ]
           ]
          },
          "colorway": [
           "#636efa",
           "#EF553B",
           "#00cc96",
           "#ab63fa",
           "#FFA15A",
           "#19d3f3",
           "#FF6692",
           "#B6E880",
           "#FF97FF",
           "#FECB52"
          ],
          "font": {
           "color": "#2a3f5f"
          },
          "geo": {
           "bgcolor": "white",
           "lakecolor": "white",
           "landcolor": "#E5ECF6",
           "showlakes": true,
           "showland": true,
           "subunitcolor": "white"
          },
          "hoverlabel": {
           "align": "left"
          },
          "hovermode": "closest",
          "mapbox": {
           "style": "light"
          },
          "paper_bgcolor": "white",
          "plot_bgcolor": "#E5ECF6",
          "polar": {
           "angularaxis": {
            "gridcolor": "white",
            "linecolor": "white",
            "ticks": ""
           },
           "bgcolor": "#E5ECF6",
           "radialaxis": {
            "gridcolor": "white",
            "linecolor": "white",
            "ticks": ""
           }
          },
          "scene": {
           "xaxis": {
            "backgroundcolor": "#E5ECF6",
            "gridcolor": "white",
            "gridwidth": 2,
            "linecolor": "white",
            "showbackground": true,
            "ticks": "",
            "zerolinecolor": "white"
           },
           "yaxis": {
            "backgroundcolor": "#E5ECF6",
            "gridcolor": "white",
            "gridwidth": 2,
            "linecolor": "white",
            "showbackground": true,
            "ticks": "",
            "zerolinecolor": "white"
           },
           "zaxis": {
            "backgroundcolor": "#E5ECF6",
            "gridcolor": "white",
            "gridwidth": 2,
            "linecolor": "white",
            "showbackground": true,
            "ticks": "",
            "zerolinecolor": "white"
           }
          },
          "shapedefaults": {
           "line": {
            "color": "#2a3f5f"
           }
          },
          "ternary": {
           "aaxis": {
            "gridcolor": "white",
            "linecolor": "white",
            "ticks": ""
           },
           "baxis": {
            "gridcolor": "white",
            "linecolor": "white",
            "ticks": ""
           },
           "bgcolor": "#E5ECF6",
           "caxis": {
            "gridcolor": "white",
            "linecolor": "white",
            "ticks": ""
           }
          },
          "title": {
           "x": 0.05
          },
          "xaxis": {
           "automargin": true,
           "gridcolor": "white",
           "linecolor": "white",
           "ticks": "",
           "title": {
            "standoff": 15
           },
           "zerolinecolor": "white",
           "zerolinewidth": 2
          },
          "yaxis": {
           "automargin": true,
           "gridcolor": "white",
           "linecolor": "white",
           "ticks": "",
           "title": {
            "standoff": 15
           },
           "zerolinecolor": "white",
           "zerolinewidth": 2
          }
         }
        },
        "title": {
         "text": "",
         "x": 0.5,
         "y": 0.92
        },
        "uniformtext": {
         "minsize": 8,
         "mode": "hide"
        },
        "xaxis": {
         "anchor": "y",
         "categoryorder": "total descending",
         "domain": [
          0,
          1
         ],
         "title": {
          "text": "counts"
         }
        },
        "yaxis": {
         "anchor": "x",
         "categoryarray": [
          "social service",
          "film studies",
          "lgbt …",
          "asian american …",
          "intercultural studies",
          "gay and lesbian …",
          "sex",
          "qualitative studies …",
          "corpus …",
          "lgbt issues counseling",
          "lesbian studies",
          "lesbian …",
          "ethnicity criminal just",
          "social …",
          "youth studies",
          "gay and lesbian mental health",
          "children and media",
          "psychology and sexual orientation",
          "sexual aggression",
          "women's health"
         ],
         "categoryorder": "array",
         "domain": [
          0,
          1
         ],
         "title": {
          "text": "subjects"
         }
        }
       }
      }
     },
     "metadata": {},
     "output_type": "display_data"
    }
   ],
   "source": [
    "fig = px.bar(df_sub[:20], x=\"counts\", y=\"subjects\", color=\"subjects\",\n",
    "            hover_data=['subjects'], barmode = 'stack',\n",
    "            text ='counts')\n",
    "fig.update_layout(title_text='', title_x=0.5, title_y=0.92,\n",
    "    legend=dict(\n",
    "    yanchor=\"top\",\n",
    "    y=0.59,\n",
    "    xanchor=\"right\",\n",
    "    x=0.79\n",
    "))\n",
    "fig.update_layout(xaxis={'categoryorder':'total descending'})\n",
    "fig.update_layout(uniformtext_minsize=8, uniformtext_mode='hide')\n",
    "fig.update_traces(textposition='outside')\n",
    "fig.show()"
   ]
  },
  {
   "attachments": {},
   "cell_type": "markdown",
   "metadata": {},
   "source": [
    "##### Packing the values together"
   ]
  },
  {
   "cell_type": "code",
   "execution_count": 45,
   "metadata": {},
   "outputs": [],
   "source": [
    "# https://www.python-graph-gallery.com/circular-packing-several-levels-of-hierarchy\n",
    "\n",
    "data = [{'id': 'Publication', 'datum': 271, 'children' : [\n",
    "              {'id' : \"Journals\", 'datum': 206,\n",
    "                   'children' : [\n",
    "                     {'id' : \"women's health\", 'datum' : 113},\n",
    "                     {'id' : \"sexual aggression\", 'datum' : 70},\n",
    "                     {'id' : \"children and media\", 'datum' : 11},\n",
    "                     {'id' : \"gay and lesbian mental health\", 'datum' : 6},\n",
    "                     {'id' : \"youth studies\", 'datum' : 6}  \n",
    "                   ]},\n",
    "              {'id' : \"Conferences\", 'datum' : 33, \n",
    "                   'children' : [\n",
    "                     {'id' : \"social\", 'datum' : 22},\n",
    "                     {'id' : \"artificial intelligence\", 'datum' : 3},\n",
    "                     {'id' : \"recent developments\", 'datum' : 3},\n",
    "                     {'id' : \"artificial life\", 'datum' : 3},\n",
    "                     {'id' : \"data\", 'datum' : 2}\n",
    "                   ]},\n",
    "              {'id' : \"Books\", 'datum' : 32,  \n",
    "                   'children' : [\n",
    "                     {'id' : \"psychology and sexual orientation\", 'datum' : 20},\n",
    "                     {'id' : \"asian american\", 'datum' : 5},\n",
    "                     {'id' : \"social\", 'datum' : 3},\n",
    "                     {'id' : \"health\", 'datum' : 2},\n",
    "                     {'id' : \"achieving\", 'datum' : 2}\n",
    "                   ]}\n",
    "    ]}]"
   ]
  },
  {
   "cell_type": "code",
   "execution_count": 60,
   "metadata": {},
   "outputs": [
    {
     "data": {
      "image/png": "[encoded data removed]",
      "text/plain": [
       "<Figure size 1000x1000 with 1 Axes>"
      ]
     },
     "metadata": {},
     "output_type": "display_data"
    }
   ],
   "source": [
    "# Compute circle positions thanks to the circlify() function\n",
    "circles = circlify.circlify(\n",
    "    data, \n",
    "    show_enclosure=False, \n",
    "    target_enclosure=circlify.Circle(x=0, y=0, r=1)\n",
    ")\n",
    "\n",
    "# Create just a figure and only one subplot\n",
    "fig, ax = plt.subplots(figsize=(10,10))\n",
    "\n",
    "# Title\n",
    "ax.set_title('Publication by sources and types')\n",
    "\n",
    "# Remove axes\n",
    "ax.axis('off')\n",
    "\n",
    "# Find axis boundaries\n",
    "lim = max(\n",
    "    max(\n",
    "        abs(circle.x) + circle.r,\n",
    "        abs(circle.y) + circle.r,\n",
    "    )\n",
    "    for circle in circles\n",
    ")\n",
    "plt.xlim(-lim, lim)\n",
    "plt.ylim(-lim, lim)\n",
    "\n",
    "# Print circle the highest level (continents):\n",
    "for circle in circles:\n",
    "    if circle.level != 2:\n",
    "      continue\n",
    "    x, y, r = circle\n",
    "    ax.add_patch( plt.Circle((x, y), r, alpha=0.5, linewidth=2, color=\"lightblue\"))\n",
    "\n",
    "# Print circle and labels for the highest level:\n",
    "for circle in circles:\n",
    "    if circle.level != 3:\n",
    "      continue\n",
    "    x, y, r = circle\n",
    "    label = circle.ex[\"id\"]\n",
    "    ax.add_patch( plt.Circle((x, y), r, alpha=0.5, linewidth=2, color=\"#69b3a2\"))\n",
    "    plt.annotate(label, (x,y ), ha='center', color=\"white\")\n",
    "\n",
    "# Print labels for the continents\n",
    "for circle in circles:\n",
    "    if circle.level != 2:\n",
    "      continue\n",
    "    x, y, r = circle\n",
    "    label = circle.ex[\"id\"]\n",
    "    plt.annotate(label, (x,y ) ,va='center', ha='center', bbox=dict(facecolor='white', edgecolor='black', boxstyle='round', pad=.5))\n",
    "\n"
   ]
  },
  {
   "attachments": {},
   "cell_type": "markdown",
   "metadata": {},
   "source": [
    "### Social Media"
   ]
  },
  {
   "cell_type": "code",
   "execution_count": 47,
   "metadata": {},
   "outputs": [
    {
     "data": {
      "text/plain": [
       "array(['', nan, 'Facebook', 'Twitter', 'YouTube', 'Facebook Twitter',\n",
       "       '4Chan', 'twitter', '4chan', '4chan 8chan', 'Twitter Gab',\n",
       "       'Facebook Instagram', 'Gab', 'Instagram', 'Reddit', 'gab',\n",
       "       'YouTube Twitter twitter', 'LinkedIn Twitter Facebook Instagram',\n",
       "       'Twitter Twitter'], dtype=object)"
      ]
     },
     "execution_count": 47,
     "metadata": {},
     "output_type": "execute_result"
    }
   ],
   "source": [
    "social_media_lst = [\"twitter\", \"facebook\", \"reddit\", \"instagram\", \"whatsapp\",\n",
    "                    \"gab\", \"2chan\", \"4chan\", \"8chan\", \"youtube\", \"linkedin\", \"tumblr\"]\n",
    "\n",
    "pattern = '|'.join(r\"\\b{}\\b\".format(x) for x in social_media_lst)\n",
    "df[\"Platform of interest\"] = df['Abstract'].str.findall(pattern, flags=re.I).str.join(' ')\n",
    "df[\"Platform of interest\"].unique()"
   ]
  },
  {
   "cell_type": "code",
   "execution_count": 48,
   "metadata": {},
   "outputs": [
    {
     "data": {
      "application/vnd.plotly.v1+json": {
       "config": {
        "plotlyServerURL": "https://plot.ly"
       },
       "data": [
        {
         "alignmentgroup": "True",
         "hovertemplate": "Social Media Platforms=%{y}<br>Counts=%{text}<extra></extra>",
         "legendgroup": "Twitter",
         "marker": {
          "color": "#636efa",
          "pattern": {
           "shape": ""
          }
         },
         "name": "Twitter",
         "offsetgroup": "Twitter",
         "orientation": "h",
         "showlegend": true,
         "text": [
          51
         ],
         "textposition": "outside",
         "type": "bar",
         "x": [
          51
         ],
         "xaxis": "x",
         "y": [
          "Twitter"
         ],
         "yaxis": "y"
        },
        {
         "alignmentgroup": "True",
         "hovertemplate": "Social Media Platforms=%{y}<br>Counts=%{text}<extra></extra>",
         "legendgroup": "Facebook",
         "marker": {
          "color": "#EF553B",
          "pattern": {
           "shape": ""
          }
         },
         "name": "Facebook",
         "offsetgroup": "Facebook",
         "orientation": "h",
         "showlegend": true,
         "text": [
          23
         ],
         "textposition": "outside",
         "type": "bar",
         "x": [
          23
         ],
         "xaxis": "x",
         "y": [
          "Facebook"
         ],
         "yaxis": "y"
        },
        {
         "alignmentgroup": "True",
         "hovertemplate": "Social Media Platforms=%{y}<br>Counts=%{text}<extra></extra>",
         "legendgroup": "4chan",
         "marker": {
          "color": "#00cc96",
          "pattern": {
           "shape": ""
          }
         },
         "name": "4chan",
         "offsetgroup": "4chan",
         "orientation": "h",
         "showlegend": true,
         "text": [
          3
         ],
         "textposition": "outside",
         "type": "bar",
         "x": [
          3
         ],
         "xaxis": "x",
         "y": [
          "4chan"
         ],
         "yaxis": "y"
        },
        {
         "alignmentgroup": "True",
         "hovertemplate": "Social Media Platforms=%{y}<br>Counts=%{text}<extra></extra>",
         "legendgroup": "8chan",
         "marker": {
          "color": "#ab63fa",
          "pattern": {
           "shape": ""
          }
         },
         "name": "8chan",
         "offsetgroup": "8chan",
         "orientation": "h",
         "showlegend": true,
         "text": [
          1
         ],
         "textposition": "outside",
         "type": "bar",
         "x": [
          1
         ],
         "xaxis": "x",
         "y": [
          "8chan"
         ],
         "yaxis": "y"
        },
        {
         "alignmentgroup": "True",
         "hovertemplate": "Social Media Platforms=%{y}<br>Counts=%{text}<extra></extra>",
         "legendgroup": "YouTube",
         "marker": {
          "color": "#FFA15A",
          "pattern": {
           "shape": ""
          }
         },
         "name": "YouTube",
         "offsetgroup": "YouTube",
         "orientation": "h",
         "showlegend": true,
         "text": [
          8
         ],
         "textposition": "outside",
         "type": "bar",
         "x": [
          8
         ],
         "xaxis": "x",
         "y": [
          "YouTube"
         ],
         "yaxis": "y"
        },
        {
         "alignmentgroup": "True",
         "hovertemplate": "Social Media Platforms=%{y}<br>Counts=%{text}<extra></extra>",
         "legendgroup": "Gab",
         "marker": {
          "color": "#19d3f3",
          "pattern": {
           "shape": ""
          }
         },
         "name": "Gab",
         "offsetgroup": "Gab",
         "orientation": "h",
         "showlegend": true,
         "text": [
          4
         ],
         "textposition": "outside",
         "type": "bar",
         "x": [
          4
         ],
         "xaxis": "x",
         "y": [
          "Gab"
         ],
         "yaxis": "y"
        },
        {
         "alignmentgroup": "True",
         "hovertemplate": "Social Media Platforms=%{y}<br>Counts=%{text}<extra></extra>",
         "legendgroup": "Instagram",
         "marker": {
          "color": "#FF6692",
          "pattern": {
           "shape": ""
          }
         },
         "name": "Instagram",
         "offsetgroup": "Instagram",
         "orientation": "h",
         "showlegend": true,
         "text": [
          3
         ],
         "textposition": "outside",
         "type": "bar",
         "x": [
          3
         ],
         "xaxis": "x",
         "y": [
          "Instagram"
         ],
         "yaxis": "y"
        },
        {
         "alignmentgroup": "True",
         "hovertemplate": "Social Media Platforms=%{y}<br>Counts=%{text}<extra></extra>",
         "legendgroup": "Reddit",
         "marker": {
          "color": "#B6E880",
          "pattern": {
           "shape": ""
          }
         },
         "name": "Reddit",
         "offsetgroup": "Reddit",
         "orientation": "h",
         "showlegend": true,
         "text": [
          2
         ],
         "textposition": "outside",
         "type": "bar",
         "x": [
          2
         ],
         "xaxis": "x",
         "y": [
          "Reddit"
         ],
         "yaxis": "y"
        },
        {
         "alignmentgroup": "True",
         "hovertemplate": "Social Media Platforms=%{y}<br>Counts=%{text}<extra></extra>",
         "legendgroup": "LinkedIn",
         "marker": {
          "color": "#FF97FF",
          "pattern": {
           "shape": ""
          }
         },
         "name": "LinkedIn",
         "offsetgroup": "LinkedIn",
         "orientation": "h",
         "showlegend": true,
         "text": [
          1
         ],
         "textposition": "outside",
         "type": "bar",
         "x": [
          1
         ],
         "xaxis": "x",
         "y": [
          "LinkedIn"
         ],
         "yaxis": "y"
        }
       ],
       "layout": {
        "barmode": "relative",
        "legend": {
         "title": {
          "text": "Social Media Platforms"
         },
         "tracegroupgap": 0
        },
        "margin": {
         "t": 60
        },
        "showlegend": false,
        "template": {
         "data": {
          "bar": [
           {
            "error_x": {
             "color": "#2a3f5f"
            },
            "error_y": {
             "color": "#2a3f5f"
            },
            "marker": {
             "line": {
              "color": "#E5ECF6",
              "width": 0.5
             },
             "pattern": {
              "fillmode": "overlay",
              "size": 10,
              "solidity": 0.2
             }
            },
            "type": "bar"
           }
          ],
          "barpolar": [
           {
            "marker": {
             "line": {
              "color": "#E5ECF6",
              "width": 0.5
             },
             "pattern": {
              "fillmode": "overlay",
              "size": 10,
              "solidity": 0.2
             }
            },
            "type": "barpolar"
           }
          ],
          "carpet": [
           {
            "aaxis": {
             "endlinecolor": "#2a3f5f",
             "gridcolor": "white",
             "linecolor": "white",
             "minorgridcolor": "white",
             "startlinecolor": "#2a3f5f"
            },
            "baxis": {
             "endlinecolor": "#2a3f5f",
             "gridcolor": "white",
             "linecolor": "white",
             "minorgridcolor": "white",
             "startlinecolor": "#2a3f5f"
            },
            "type": "carpet"
           }
          ],
          "choropleth": [
           {
            "colorbar": {
             "outlinewidth": 0,
             "ticks": ""
            },
            "type": "choropleth"
           }
          ],
          "contour": [
           {
            "colorbar": {
             "outlinewidth": 0,
             "ticks": ""
            },
            "colorscale": [
             [
              0,
              "#0d0887"
             ],
             [
              0.1111111111111111,
              "#46039f"
             ],
             [
              0.2222222222222222,
              "#7201a8"
             ],
             [
              0.3333333333333333,
              "#9c179e"
             ],
             [
              0.4444444444444444,
              "#bd3786"
             ],
             [
              0.5555555555555556,
              "#d8576b"
             ],
             [
              0.6666666666666666,
              "#ed7953"
             ],
             [
              0.7777777777777778,
              "#fb9f3a"
             ],
             [
              0.8888888888888888,
              "#fdca26"
             ],
             [
              1,
              "#f0f921"
             ]
            ],
            "type": "contour"
           }
          ],
          "contourcarpet": [
           {
            "colorbar": {
             "outlinewidth": 0,
             "ticks": ""
            },
            "type": "contourcarpet"
           }
          ],
          "heatmap": [
           {
            "colorbar": {
             "outlinewidth": 0,
             "ticks": ""
            },
            "colorscale": [
             [
              0,
              "#0d0887"
             ],
             [
              0.1111111111111111,
              "#46039f"
             ],
             [
              0.2222222222222222,
              "#7201a8"
             ],
             [
              0.3333333333333333,
              "#9c179e"
             ],
             [
              0.4444444444444444,
              "#bd3786"
             ],
             [
              0.5555555555555556,
              "#d8576b"
             ],
             [
              0.6666666666666666,
              "#ed7953"
             ],
             [
              0.7777777777777778,
              "#fb9f3a"
             ],
             [
              0.8888888888888888,
              "#fdca26"
             ],
             [
              1,
              "#f0f921"
             ]
            ],
            "type": "heatmap"
           }
          ],
          "heatmapgl": [
           {
            "colorbar": {
             "outlinewidth": 0,
             "ticks": ""
            },
            "colorscale": [
             [
              0,
              "#0d0887"
             ],
             [
              0.1111111111111111,
              "#46039f"
             ],
             [
              0.2222222222222222,
              "#7201a8"
             ],
             [
              0.3333333333333333,
              "#9c179e"
             ],
             [
              0.4444444444444444,
              "#bd3786"
             ],
             [
              0.5555555555555556,
              "#d8576b"
             ],
             [
              0.6666666666666666,
              "#ed7953"
             ],
             [
              0.7777777777777778,
              "#fb9f3a"
             ],
             [
              0.8888888888888888,
              "#fdca26"
             ],
             [
              1,
              "#f0f921"
             ]
            ],
            "type": "heatmapgl"
           }
          ],
          "histogram": [
           {
            "marker": {
             "pattern": {
              "fillmode": "overlay",
              "size": 10,
              "solidity": 0.2
             }
            },
            "type": "histogram"
           }
          ],
          "histogram2d": [
           {
            "colorbar": {
             "outlinewidth": 0,
             "ticks": ""
            },
            "colorscale": [
             [
              0,
              "#0d0887"
             ],
             [
              0.1111111111111111,
              "#46039f"
             ],
             [
              0.2222222222222222,
              "#7201a8"
             ],
             [
              0.3333333333333333,
              "#9c179e"
             ],
             [
              0.4444444444444444,
              "#bd3786"
             ],
             [
              0.5555555555555556,
              "#d8576b"
             ],
             [
              0.6666666666666666,
              "#ed7953"
             ],
             [
              0.7777777777777778,
              "#fb9f3a"
             ],
             [
              0.8888888888888888,
              "#fdca26"
             ],
             [
              1,
              "#f0f921"
             ]
            ],
            "type": "histogram2d"
           }
          ],
          "histogram2dcontour": [
           {
            "colorbar": {
             "outlinewidth": 0,
             "ticks": ""
            },
            "colorscale": [
             [
              0,
              "#0d0887"
             ],
             [
              0.1111111111111111,
              "#46039f"
             ],
             [
              0.2222222222222222,
              "#7201a8"
             ],
             [
              0.3333333333333333,
              "#9c179e"
             ],
             [
              0.4444444444444444,
              "#bd3786"
             ],
             [
              0.5555555555555556,
              "#d8576b"
             ],
             [
              0.6666666666666666,
              "#ed7953"
             ],
             [
              0.7777777777777778,
              "#fb9f3a"
             ],
             [
              0.8888888888888888,
              "#fdca26"
             ],
             [
              1,
              "#f0f921"
             ]
            ],
            "type": "histogram2dcontour"
           }
          ],
          "mesh3d": [
           {
            "colorbar": {
             "outlinewidth": 0,
             "ticks": ""
            },
            "type": "mesh3d"
           }
          ],
          "parcoords": [
           {
            "line": {
             "colorbar": {
              "outlinewidth": 0,
              "ticks": ""
             }
            },
            "type": "parcoords"
           }
          ],
          "pie": [
           {
            "automargin": true,
            "type": "pie"
           }
          ],
          "scatter": [
           {
            "fillpattern": {
             "fillmode": "overlay",
             "size": 10,
             "solidity": 0.2
            },
            "type": "scatter"
           }
          ],
          "scatter3d": [
           {
            "line": {
             "colorbar": {
              "outlinewidth": 0,
              "ticks": ""
             }
            },
            "marker": {
             "colorbar": {
              "outlinewidth": 0,
              "ticks": ""
             }
            },
            "type": "scatter3d"
           }
          ],
          "scattercarpet": [
           {
            "marker": {
             "colorbar": {
              "outlinewidth": 0,
              "ticks": ""
             }
            },
            "type": "scattercarpet"
           }
          ],
          "scattergeo": [
           {
            "marker": {
             "colorbar": {
              "outlinewidth": 0,
              "ticks": ""
             }
            },
            "type": "scattergeo"
           }
          ],
          "scattergl": [
           {
            "marker": {
             "colorbar": {
              "outlinewidth": 0,
              "ticks": ""
             }
            },
            "type": "scattergl"
           }
          ],
          "scattermapbox": [
           {
            "marker": {
             "colorbar": {
              "outlinewidth": 0,
              "ticks": ""
             }
            },
            "type": "scattermapbox"
           }
          ],
          "scatterpolar": [
           {
            "marker": {
             "colorbar": {
              "outlinewidth": 0,
              "ticks": ""
             }
            },
            "type": "scatterpolar"
           }
          ],
          "scatterpolargl": [
           {
            "marker": {
             "colorbar": {
              "outlinewidth": 0,
              "ticks": ""
             }
            },
            "type": "scatterpolargl"
           }
          ],
          "scatterternary": [
           {
            "marker": {
             "colorbar": {
              "outlinewidth": 0,
              "ticks": ""
             }
            },
            "type": "scatterternary"
           }
          ],
          "surface": [
           {
            "colorbar": {
             "outlinewidth": 0,
             "ticks": ""
            },
            "colorscale": [
             [
              0,
              "#0d0887"
             ],
             [
              0.1111111111111111,
              "#46039f"
             ],
             [
              0.2222222222222222,
              "#7201a8"
             ],
             [
              0.3333333333333333,
              "#9c179e"
             ],
             [
              0.4444444444444444,
              "#bd3786"
             ],
             [
              0.5555555555555556,
              "#d8576b"
             ],
             [
              0.6666666666666666,
              "#ed7953"
             ],
             [
              0.7777777777777778,
              "#fb9f3a"
             ],
             [
              0.8888888888888888,
              "#fdca26"
             ],
             [
              1,
              "#f0f921"
             ]
            ],
            "type": "surface"
           }
          ],
          "table": [
           {
            "cells": {
             "fill": {
              "color": "#EBF0F8"
             },
             "line": {
              "color": "white"
             }
            },
            "header": {
             "fill": {
              "color": "#C8D4E3"
             },
             "line": {
              "color": "white"
             }
            },
            "type": "table"
           }
          ]
         },
         "layout": {
          "annotationdefaults": {
           "arrowcolor": "#2a3f5f",
           "arrowhead": 0,
           "arrowwidth": 1
          },
          "autotypenumbers": "strict",
          "coloraxis": {
           "colorbar": {
            "outlinewidth": 0,
            "ticks": ""
           }
          },
          "colorscale": {
           "diverging": [
            [
             0,
             "#8e0152"
            ],
            [
             0.1,
             "#c51b7d"
            ],
            [
             0.2,
             "#de77ae"
            ],
            [
             0.3,
             "#f1b6da"
            ],
            [
             0.4,
             "#fde0ef"
            ],
            [
             0.5,
             "#f7f7f7"
            ],
            [
             0.6,
             "#e6f5d0"
            ],
            [
             0.7,
             "#b8e186"
            ],
            [
             0.8,
             "#7fbc41"
            ],
            [
             0.9,
             "#4d9221"
            ],
            [
             1,
             "#276419"
            ]
           ],
           "sequential": [
            [
             0,
             "#0d0887"
            ],
            [
             0.1111111111111111,
             "#46039f"
            ],
            [
             0.2222222222222222,
             "#7201a8"
            ],
            [
             0.3333333333333333,
             "#9c179e"
            ],
            [
             0.4444444444444444,
             "#bd3786"
            ],
            [
             0.5555555555555556,
             "#d8576b"
            ],
            [
             0.6666666666666666,
             "#ed7953"
            ],
            [
             0.7777777777777778,
             "#fb9f3a"
            ],
            [
             0.8888888888888888,
             "#fdca26"
            ],
            [
             1,
             "#f0f921"
            ]
           ],
           "sequentialminus": [
            [
             0,
             "#0d0887"
            ],
            [
             0.1111111111111111,
             "#46039f"
            ],
            [
             0.2222222222222222,
             "#7201a8"
            ],
            [
             0.3333333333333333,
             "#9c179e"
            ],
            [
             0.4444444444444444,
             "#bd3786"
            ],
            [
             0.5555555555555556,
             "#d8576b"
            ],
            [
             0.6666666666666666,
             "#ed7953"
            ],
            [
             0.7777777777777778,
             "#fb9f3a"
            ],
            [
             0.8888888888888888,
             "#fdca26"
            ],
            [
             1,
             "#f0f921"
            ]
           ]
          },
          "colorway": [
           "#636efa",
           "#EF553B",
           "#00cc96",
           "#ab63fa",
           "#FFA15A",
           "#19d3f3",
           "#FF6692",
           "#B6E880",
           "#FF97FF",
           "#FECB52"
          ],
          "font": {
           "color": "#2a3f5f"
          },
          "geo": {
           "bgcolor": "white",
           "lakecolor": "white",
           "landcolor": "#E5ECF6",
           "showlakes": true,
           "showland": true,
           "subunitcolor": "white"
          },
          "hoverlabel": {
           "align": "left"
          },
          "hovermode": "closest",
          "mapbox": {
           "style": "light"
          },
          "paper_bgcolor": "white",
          "plot_bgcolor": "#E5ECF6",
          "polar": {
           "angularaxis": {
            "gridcolor": "white",
            "linecolor": "white",
            "ticks": ""
           },
           "bgcolor": "#E5ECF6",
           "radialaxis": {
            "gridcolor": "white",
            "linecolor": "white",
            "ticks": ""
           }
          },
          "scene": {
           "xaxis": {
            "backgroundcolor": "#E5ECF6",
            "gridcolor": "white",
            "gridwidth": 2,
            "linecolor": "white",
            "showbackground": true,
            "ticks": "",
            "zerolinecolor": "white"
           },
           "yaxis": {
            "backgroundcolor": "#E5ECF6",
            "gridcolor": "white",
            "gridwidth": 2,
            "linecolor": "white",
            "showbackground": true,
            "ticks": "",
            "zerolinecolor": "white"
           },
           "zaxis": {
            "backgroundcolor": "#E5ECF6",
            "gridcolor": "white",
            "gridwidth": 2,
            "linecolor": "white",
            "showbackground": true,
            "ticks": "",
            "zerolinecolor": "white"
           }
          },
          "shapedefaults": {
           "line": {
            "color": "#2a3f5f"
           }
          },
          "ternary": {
           "aaxis": {
            "gridcolor": "white",
            "linecolor": "white",
            "ticks": ""
           },
           "baxis": {
            "gridcolor": "white",
            "linecolor": "white",
            "ticks": ""
           },
           "bgcolor": "#E5ECF6",
           "caxis": {
            "gridcolor": "white",
            "linecolor": "white",
            "ticks": ""
           }
          },
          "title": {
           "x": 0.05
          },
          "xaxis": {
           "automargin": true,
           "gridcolor": "white",
           "linecolor": "white",
           "ticks": "",
           "title": {
            "standoff": 15
           },
           "zerolinecolor": "white",
           "zerolinewidth": 2
          },
          "yaxis": {
           "automargin": true,
           "gridcolor": "white",
           "linecolor": "white",
           "ticks": "",
           "title": {
            "standoff": 15
           },
           "zerolinecolor": "white",
           "zerolinewidth": 2
          }
         }
        },
        "uniformtext": {
         "minsize": 8,
         "mode": "hide"
        },
        "xaxis": {
         "anchor": "y",
         "domain": [
          0,
          1
         ],
         "title": {
          "text": "Counts"
         }
        },
        "yaxis": {
         "anchor": "x",
         "categoryarray": [
          "LinkedIn",
          "Reddit",
          "Instagram",
          "Gab",
          "YouTube",
          "8chan",
          "4chan",
          "Facebook",
          "Twitter"
         ],
         "categoryorder": "total ascending",
         "domain": [
          0,
          1
         ],
         "title": {
          "text": "Social Media Platforms"
         }
        }
       }
      }
     },
     "metadata": {},
     "output_type": "display_data"
    }
   ],
   "source": [
    "# taking in only the platforms which showed in the string extraction\n",
    "twitter_count = df[\"Platform of interest\"].str.lower().str.contains('twitter').sum()\n",
    "fb_count = df[\"Platform of interest\"].str.lower().str.contains('facebook').sum()\n",
    "fourchan_count = df[\"Platform of interest\"].str.lower().str.contains('4chan').sum()\n",
    "eightchan_count = df[\"Platform of interest\"].str.lower().str.contains('8chan').sum()\n",
    "youtube_count = df[\"Platform of interest\"].str.lower().str.contains('youtube').sum()\n",
    "gab_count = df[\"Platform of interest\"].str.lower().str.contains('gab').sum()\n",
    "instagram_count = df[\"Platform of interest\"].str.lower().str.contains('instagram').sum()\n",
    "reddit_count = df[\"Platform of interest\"].str.lower().str.contains('reddit').sum()\n",
    "linkedin_count = df[\"Platform of interest\"].str.lower().str.contains('linkedin').sum()\n",
    "\n",
    "\n",
    "df_social_media_counts = pd.DataFrame({'Social Media Platforms': ['Twitter', 'Facebook', '4chan', '8chan',\n",
    "                                                                 'YouTube', 'Gab', 'Instagram', 'Reddit', 'LinkedIn'], \n",
    "                                       'Counts': [twitter_count, fb_count, fourchan_count, eightchan_count,\n",
    "                                                 youtube_count, gab_count, instagram_count, reddit_count, linkedin_count]})\n",
    "\n",
    "fig = px.bar(df_social_media_counts, x='Counts', y='Social Media Platforms', text='Counts', color='Social Media Platforms')\n",
    "fig.update_layout(yaxis={'categoryorder':'total ascending'})\n",
    "fig.update_layout(uniformtext_minsize=8, uniformtext_mode='hide')\n",
    "fig.update_traces(textposition='outside')\n",
    "fig.update_layout(showlegend=False)\n",
    "\n",
    "'''\n",
    "fig.add_annotation(\n",
    "        x=30,\n",
    "        y=3,\n",
    "        xref=\"x\",\n",
    "        yref=\"y\",\n",
    "        text=\"Twitter seems to be the most sought after social media platform, <br> exceeding much ahead of the other platforms in the list. <br> Overall the top 2 platforms- Twitter and Facebook <br> outnumber the other platforms, even though some of them,<br> e.g., Reddit, Gab and 4chan have been known for their misogynistic contents.\",\n",
    "        showarrow=False,\n",
    "        font=dict(\n",
    "            family=\"Muli, sans-serif\",\n",
    "            size=14,\n",
    "            color=\"#222A2A\"\n",
    "            ),\n",
    "        align=\"center\",\n",
    "        arrowcolor=\"#636363\",\n",
    "        ax=120,\n",
    "        ay=-20,\n",
    "        bordercolor=\"#c7c7c7\",\n",
    "        borderwidth=2,\n",
    "        borderpad=4,\n",
    "        bgcolor=\"#ffffff\",\n",
    "        opacity=0.8\n",
    "        )\n",
    "'''\n",
    "\n",
    "fig.show()\n"
   ]
  },
  {
   "cell_type": "code",
   "execution_count": null,
   "metadata": {},
   "outputs": [],
   "source": []
  },
  {
   "attachments": {},
   "cell_type": "markdown",
   "metadata": {},
   "source": [
    "#### Joining the title and abstract for further analysis"
   ]
  },
  {
   "cell_type": "code",
   "execution_count": 49,
   "metadata": {},
   "outputs": [
    {
     "data": {
      "text/plain": [
       "5       abstract nih offic research women health ninth...\n",
       "9       an overview literatur anteced percept behaviou...\n",
       "12      blood lust love interrog gender violenc twilig...\n",
       "25      do act tell discrimin base gender nonconform e...\n",
       "27      examin launch cultur thesi young australian wo...\n",
       "                              ...                        \n",
       "3875    zero toler sexual harm broken rule broken syst...\n",
       "3880    how everi black man histor narr construct iden...\n",
       "3881    i wa lose that sens her be happi children dela...\n",
       "3887    view equal the impact librari organiz cultur m...\n",
       "3890    you prove threat real understand need femal jo...\n",
       "Name: Title & Abstract, Length: 610, dtype: object"
      ]
     },
     "execution_count": 49,
     "metadata": {},
     "output_type": "execute_result"
    }
   ],
   "source": [
    "df_conf_jour['Title & Abstract'] = df_conf_jour['Title'] + ' ' + df_conf_jour['Abstract']\n",
    "\n",
    "\n",
    "#nltk.download('punkt');\n",
    "#nltk.download('stopwords');\n",
    "\n",
    "def preprocess_text(text):\n",
    "    spell = Speller(lang='en') #check spellings \n",
    "    text = spell(text) # does not seem to work well on this. Works better on individual sentences\n",
    "    tokens = nltk.word_tokenize(text) #tokenize\n",
    "    text = [w for w in tokens if w.isalpha()]  \n",
    "    stops = set(stopwords.words(\"english\")) #eliminate stopwords\n",
    "    text = [word for word in text if not word in stops]\n",
    "    stemmer = PorterStemmer() #stemming\n",
    "    text = [stemmer.stem(word) for word in text]\n",
    "    return ( \" \".join(text)) #rejoin the words\n",
    "\n",
    "\n",
    "df_conf_jour['Title & Abstract'] = df_conf_jour.apply(lambda x: preprocess_text(x['Title & Abstract']), axis=1)\n",
    "df_conf_jour['Title & Abstract']"
   ]
  },
  {
   "cell_type": "code",
   "execution_count": 50,
   "metadata": {},
   "outputs": [
    {
     "data": {
      "text/plain": [
       "'how every black man history rarr construct'"
      ]
     },
     "execution_count": 50,
     "metadata": {},
     "output_type": "execute_result"
    }
   ],
   "source": [
    "spell = Speller(lang='en') #check spellings \n",
    "text = spell('how everi black man histor narr construct')\n",
    "text #works fine in here"
   ]
  },
  {
   "cell_type": "code",
   "execution_count": 51,
   "metadata": {},
   "outputs": [
    {
     "data": {
      "text/plain": [
       "'https://www.tandfonline.com/doi/abs/10.1080/15538605.2012.726150'"
      ]
     },
     "execution_count": 51,
     "metadata": {},
     "output_type": "execute_result"
    }
   ],
   "source": [
    "df_conf_jour['ArticleURL'].iloc[10]"
   ]
  },
  {
   "cell_type": "code",
   "execution_count": 52,
   "metadata": {},
   "outputs": [
    {
     "data": {
      "text/plain": [
       "(610, 610)"
      ]
     },
     "execution_count": 52,
     "metadata": {},
     "output_type": "execute_result"
    }
   ],
   "source": [
    "len(df_conf_jour), len(df_conf_jour['ArticleURL'].unique()) #So all the studies here come with their url link"
   ]
  },
  {
   "cell_type": "code",
   "execution_count": 53,
   "metadata": {},
   "outputs": [
    {
     "data": {
      "text/plain": [
       "['https://www.liebertpub.com/doi/full/10.1089/jwh.2012.ab02',\n",
       " 'https://www.tandfonline.com/doi/abs/10.1080/13552600.2010.501909',\n",
       " 'https://www.tandfonline.com/doi/abs/10.1080/17482798.2011.619549',\n",
       " 'https://www.tandfonline.com/doi/abs/10.1080/19359705.2012.658013',\n",
       " 'https://www.tandfonline.com/doi/abs/10.1080/13676261.2012.693597',\n",
       " 'https://link.springer.com/chapter/10.1007/978-3-642-34103-8_17',\n",
       " 'https://www.tandfonline.com/doi/abs/10.1080/15377938.2012.722883',\n",
       " 'https://www.tandfonline.com/doi/abs/10.1080/10894160.2011.605009',\n",
       " 'https://www.tandfonline.com/doi/abs/10.1080/19359705.2012.671126',\n",
       " 'https://www.tandfonline.com/doi/abs/10.1080/10894160.2011.557641',\n",
       " 'https://www.tandfonline.com/doi/abs/10.1080/15538605.2012.726150',\n",
       " 'https://www.jbe-platform.com/content/journals/10.1075/ijcl.17.2.05pre',\n",
       " 'https://www.tandfonline.com/doi/abs/10.1080/09518398.2012.720729',\n",
       " 'https://www.tandfonline.com/doi/abs/10.1080/00224499.2011.637247',\n",
       " 'https://www.tandfonline.com/doi/abs/10.1080/10538720.2012.697036',\n",
       " 'https://www.tandfonline.com/doi/abs/10.1080/07256868.2013.751903',\n",
       " 'https://www.tandfonline.com/doi/full/10.1080/15538605.2013.755444',\n",
       " 'https://www.utpjournals.press/doi/abs/10.3138/cjfs.22.1.118',\n",
       " 'https://www.tandfonline.com/doi/abs/10.1080/01488376.2012.727669',\n",
       " 'https://www.tandfonline.com/doi/abs/10.1080/00918369.2013.776406',\n",
       " 'https://www.tandfonline.com/doi/abs/10.1080/19331681.2013.799051',\n",
       " 'https://www.tandfonline.com/doi/abs/10.1080/15348458.2013.835575',\n",
       " 'https://www.tandfonline.com/doi/abs/10.1080/1041794X.2013.847480',\n",
       " 'https://psycnet.apa.org/buy/2013-05724-001',\n",
       " 'https://www.tandfonline.com/doi/abs/10.1080/00918369.2013.774876',\n",
       " 'https://www.tandfonline.com/doi/abs/10.1080/10926771.2013.775985',\n",
       " 'https://www.tandfonline.com/doi/abs/10.1080/19325037.2013.767735',\n",
       " 'https://www.ingentaconnect.com/content/intellect/jgvw/2013/00000005/00000003/art00007',\n",
       " 'https://psycnet.apa.org/doiLanding?doi=10.1037/a0030183',\n",
       " 'https://www.tandfonline.com/doi/abs/10.1080/15289168.2014.905340',\n",
       " 'https://www.tandfonline.com/doi/abs/10.1080/10911359.2014.922813',\n",
       " 'https://www.journals.uchicago.edu/doi/abs/10.1086/678272',\n",
       " 'https://www.tandfonline.com/doi/abs/10.1080/13639080.2012.738291',\n",
       " 'https://www.tandfonline.com/doi/abs/10.1080/08263663.2014.1013289',\n",
       " 'https://journals.sagepub.com/doi/abs/10.1177/0095798413500072',\n",
       " 'https://www.tandfonline.com/doi/abs/10.1080/15299716.2014.872484',\n",
       " 'https://academic.oup.com/aje/article-abstract/179/7/875/87380',\n",
       " 'https://citeseerx.ist.psu.edu/viewdoc/download?doi=10.1.1.1082.5136&rep=rep1&type=pdf',\n",
       " 'https://www.tandfonline.com/doi/abs/10.1080/10511253.2014.965410',\n",
       " 'https://www.tandfonline.com/doi/abs/10.1080/19407882.2015.1084330',\n",
       " 'https://www.tandfonline.com/doi/abs/10.1080/00918369.2014.1003007',\n",
       " 'https://www.tandfonline.com/doi/abs/10.1080/19359705.2014.1003121',\n",
       " 'https://link.springer.com/article/10.1007/s12134-014-0392-y',\n",
       " 'https://www.tandfonline.com/doi/abs/10.1080/10911359.2014.991055',\n",
       " 'https://www.tandfonline.com/doi/abs/10.1080/09589236.2013.841571',\n",
       " 'https://www.tandfonline.com/doi/abs/10.1080/0735648X.2014.996321',\n",
       " 'https://www.tandfonline.com/doi/abs/10.1080/09589236.2013.868301',\n",
       " 'https://www.tandfonline.com/doi/abs/10.1080/10926771.2015.1074135',\n",
       " 'https://www.tandfonline.com/doi/abs/10.1080/10926771.2015.1070231',\n",
       " 'https://www.tandfonline.com/doi/abs/10.1080/00918369.2014.969071',\n",
       " 'https://www.tandfonline.com/doi/abs/10.1080/00918369.2014.983375',\n",
       " 'https://www.sciencedirect.com/science/article/pii/S0140197115000470',\n",
       " 'https://www.tandfonline.com/doi/abs/10.1080/0267257X.2015.1073170',\n",
       " 'https://www.tandfonline.com/doi/abs/10.1080/09589236.2015.1021307',\n",
       " 'https://www.tandfonline.com/doi/abs/10.1080/00918369.2014.998965',\n",
       " 'https://www.diva-portal.org/smash/record.jsf?pid=diva2:900496',\n",
       " 'https://www.ceeol.com/search/article-detail?id=469884',\n",
       " 'https://www.tandfonline.com/doi/abs/10.1080/00918369.2015.1117903',\n",
       " 'https://www.tandfonline.com/doi/abs/10.1080/02650487.2016.1138576',\n",
       " 'https://www.tandfonline.com/doi/abs/10.1080/01488376.2015.1077188',\n",
       " 'https://www.cambridge.org/core/journals/spanish-journal-of-psychology/article/emotional-dependency-and-dysfunctional-relationship-beliefs-as-predictors-of-married-turkish-individuals-relationship-satisfaction/1209D08CBF8EB0ECDA0A80F80CF7987D',\n",
       " 'https://www.tandfonline.com/doi/abs/10.1080/17475759.2016.1171795',\n",
       " 'http://journal.finfar.org/articles/645.pdf#page=17',\n",
       " 'https://www.tandfonline.com/doi/abs/10.1080/15426432.2015.1067582',\n",
       " 'https://www.tandfonline.com/doi/abs/10.1080/14616742.2015.1094246',\n",
       " 'https://www.tandfonline.com/doi/abs/10.1080/00224499.2014.980497',\n",
       " 'https://www.tandfonline.com/doi/abs/10.1080/08946566.2016.1247402',\n",
       " 'https://www.tandfonline.com/doi/abs/10.1080/00224499.2016.1142495',\n",
       " 'https://www.tandfonline.com/doi/abs/10.1080/19359705.2015.1108257',\n",
       " 'https://journals.sagepub.com/doi/abs/10.1177/0149206313506466',\n",
       " 'https://www.tandfonline.com/doi/abs/10.1080/01434632.2016.1142553',\n",
       " 'https://www.tandfonline.com/doi/abs/10.1080/19361653.2016.1185760',\n",
       " 'https://www.tandfonline.com/doi/abs/10.1080/15299732.2016.1103104',\n",
       " 'https://www.tandfonline.com/doi/abs/10.1080/01924036.2016.1195420',\n",
       " 'https://www.tandfonline.com/doi/abs/10.1080/02650487.2016.1160855',\n",
       " 'https://www.tandfonline.com/doi/abs/10.1080/08952841.2014.950500',\n",
       " 'http://cab.unime.it/journals/index.php/MJCP/article/viewFile/1290/pdf',\n",
       " 'https://www.tandfonline.com/doi/abs/10.1080/15401383.2016.1222322',\n",
       " 'https://www.tandfonline.com/doi/abs/10.1080/00918369.2016.1222829',\n",
       " 'https://www.tandfonline.com/doi/abs/10.1080/01292986.2016.1202988',\n",
       " 'https://www.tandfonline.com/doi/abs/10.1080/10646175.2016.1206046',\n",
       " 'https://www.tandfonline.com/doi/abs/10.1080/10428232.2016.1198673',\n",
       " 'https://www.tandfonline.com/doi/abs/10.1080/13603116.2017.1336577',\n",
       " 'https://www.tandfonline.com/doi/abs/10.1080/10926771.2017.1321602',\n",
       " 'https://www.ojcmt.net/article/age-differences-in-online-communication-how-college-students-and-adults-compare-in-their-perceptions',\n",
       " 'https://link.springer.com/chapter/10.1007/978-981-10-8527-7_41',\n",
       " 'https://www.tandfonline.com/doi/abs/10.1080/02791072.2016.1273566',\n",
       " 'https://www.tandfonline.com/doi/abs/10.1080/00224545.2016.1184127',\n",
       " 'https://link.springer.com/article/10.1007/s12630-016-0784-x',\n",
       " 'https://www.tandfonline.com/doi/abs/10.1080/08952833.2017.1245062',\n",
       " 'https://psycnet.apa.org/record/2017-32282-001',\n",
       " 'https://www.tandfonline.com/doi/abs/10.1080/15377857.2017.1377142',\n",
       " 'https://www.tandfonline.com/doi/abs/10.1080/19361653.2016.1264910',\n",
       " 'https://www.tandfonline.com/doi/abs/10.1080/00223980.2016.1241738',\n",
       " 'https://www.tandfonline.com/doi/abs/10.1080/10538720.2016.1260512',\n",
       " 'https://www.tandfonline.com/doi/abs/10.1080/00918369.2016.1242333',\n",
       " 'https://psycnet.apa.org/doiLanding?doi=10.1037/ort0000306',\n",
       " 'https://www.tandfonline.com/doi/abs/10.1080/15532739.2017.1329048',\n",
       " 'https://www.tandfonline.com/doi/abs/10.1080/1550428X.2016.1268551',\n",
       " 'https://www.tandfonline.com/doi/abs/10.1080/10926771.2016.1270379',\n",
       " 'https://www.tandfonline.com/doi/abs/10.1080/13552600.2017.1351265',\n",
       " 'https://www.tandfonline.com/doi/abs/10.1080/00223980.2017.1289145',\n",
       " 'https://www.tandfonline.com/doi/abs/10.1080/15388220.2017.1284450',\n",
       " 'https://link.springer.com/article/10.1007/s12369-017-0413-z',\n",
       " 'https://www.igi-global.com/article/synergy-with-the-world-soul/198954',\n",
       " 'https://www.tandfonline.com/doi/abs/10.1080/15532739.2017.1332535',\n",
       " 'https://www.tandfonline.com/doi/abs/10.1080/00918369.2016.1236587',\n",
       " 'https://www.tandfonline.com/doi/abs/10.1080/09518398.2016.1257752',\n",
       " 'https://www.tandfonline.com/doi/abs/10.1080/00918369.2016.1172893',\n",
       " 'https://www.tandfonline.com/doi/abs/10.1080/09589236.2015.1090305',\n",
       " 'https://www.tandfonline.com/doi/abs/10.1080/19331681.2016.1266981',\n",
       " 'https://www.tandfonline.com/doi/abs/10.1080/09589236.2017.1296352',\n",
       " 'https://www.tandfonline.com/doi/abs/10.1080/09589236.2016.1202105',\n",
       " 'https://psycnet.apa.org/record/2017-45567-001',\n",
       " 'https://direct.mit.edu/isal/proceedings-abstract/alife2018/30/504/99700',\n",
       " 'https://www.emerald.com/insight/content/doi/10.1108/JICES-03-2018-0024/full/html',\n",
       " 'https://arxiv.org/abs/1812.02712',\n",
       " 'https://www.tandfonline.com/doi/abs/10.1080/08952833.2018.1426947',\n",
       " 'https://www.tandfonline.com/doi/abs/10.1080/10437797.2017.1299064',\n",
       " 'https://www.academia.edu/download/58392810/Association_Analysis_of_Cyberbullying_on_Social_Media_using_Apriori_Algorithm.pdf',\n",
       " 'https://www.tandfonline.com/doi/abs/10.1080/23736992.2018.1476149',\n",
       " 'https://arxiv.org/abs/1809.08726',\n",
       " 'https://arxiv.org/abs/1805.05345',\n",
       " 'https://arxiv.org/abs/1801.04433',\n",
       " 'https://www.tandfonline.com/doi/abs/10.1080/10511253.2017.1409781',\n",
       " 'https://www.tandfonline.com/doi/abs/10.1080/10911359.2018.1428137',\n",
       " 'https://arxiv.org/abs/1808.07235',\n",
       " 'https://globaledunet.org/wp-content/uploads/2021/01/KIU-Journal-of-Education-Volume-12-No-1-August-2017.pdf#page=123',\n",
       " 'https://www.tandfonline.com/doi/abs/10.1080/10894160.2018.1384293',\n",
       " 'https://arxiv.org/abs/1812.06700',\n",
       " 'https://www.tandfonline.com/doi/shareview/10.1080/00918369.2018.1542208',\n",
       " 'https://www.ingentaconnect.com/content/intellect/mcp/2018/00000014/00000001/art00003',\n",
       " 'https://www.researchgate.net/profile/Serdar-Uenal-2/publication/329330017_IRKSAL_TEMELLI_AYRIMCILIGIN_YENI_GORUNMEZ_YUZU_KULTUREL_KARSILASMALAR_VE_MIKRO-SALDIRGANLIKLAR/links/5c02c793299bf1a3c159bdc3/IRKSAL-TEMELLI-AYRIMCILIGIN-YENI-GOeRUeNMEZ-YUeZUe-KUeLTUeREL-KARSILASMALAR-VE-MIKRO-SALDIRGANLIKLAR.pdf',\n",
       " 'https://api.taylorfrancis.com/content/books/mono/download?identifierName=doi&identifierValue=10.4324/9781315466095&type=googlepdf',\n",
       " 'https://www.tandfonline.com/doi/abs/10.1080/15299716.2018.1450174',\n",
       " 'https://muse.jhu.edu/article/715809/summary',\n",
       " 'https://link.springer.com/chapter/10.1007/978-981-13-6661-1_1',\n",
       " 'https://www.tandfonline.com/doi/abs/10.1080/09589236.2016.1210002',\n",
       " 'https://arxiv.org/abs/1809.03944',\n",
       " 'https://escholarship.org/uc/item/0443g1nq',\n",
       " 'https://www.tandfonline.com/doi/abs/10.1080/10926771.2017.1320343',\n",
       " 'https://muse.jhu.edu/article/714327/summary',\n",
       " 'https://arxiv.org/abs/1808.07231',\n",
       " 'https://www.tandfonline.com/doi/shareview/10.1080/00918369.2018.1547560',\n",
       " 'https://www.tandfonline.com/doi/abs/10.1080/19407882.2018.1423999',\n",
       " 'https://www.tandfonline.com/doi/abs/10.1080/1550428X.2017.1420847',\n",
       " 'https://link.springer.com/article/10.1007/s10903-017-0547-y',\n",
       " 'https://www.tandfonline.com/doi/abs/10.1080/00224545.2017.1404958',\n",
       " 'https://www.tandfonline.com/doi/abs/10.1080/10926771.2017.1330297',\n",
       " 'https://www.tandfonline.com/doi/abs/10.1080/1046560X.2018.1436359',\n",
       " 'http://www.ma.edu.mk/wp-content/uploads/Study-Final-MHJC3I.pdf',\n",
       " 'https://arxiv.org/abs/1808.01076',\n",
       " 'https://www.tandfonline.com/doi/abs/10.1080/10894160.2018.1449503',\n",
       " 'https://www.tandfonline.com/doi/abs/10.1080/09589236.2018.1552566',\n",
       " 'https://eprints.soas.ac.uk/31348',\n",
       " 'https://www.tandfonline.com/doi/abs/10.1080/15299716.2019.1576153',\n",
       " 'https://www.tandfonline.com/doi/abs/10.1080/15532739.2018.1545149',\n",
       " 'https://dergipark.org.tr/en/pub/eja/issue/50091/627593',\n",
       " 'https://arxiv.org/abs/1904.04073',\n",
       " 'https://ieeexplore.ieee.org/abstract/document/8808012/',\n",
       " 'https://www.tandfonline.com/doi/abs/10.1080/10810730.2019.1630523',\n",
       " 'https://www.tandfonline.com/doi/abs/10.1080/00224499.2019.1578330',\n",
       " 'https://ieeexplore.ieee.org/abstract/document/8708913/',\n",
       " 'https://iris.unito.it/bitstream/2318/1716344/1/paper56.pdf',\n",
       " 'https://www.tandfonline.com/doi/shareview/10.1080/00918369.2018.1560127',\n",
       " 'https://arxiv.org/abs/1910.03270',\n",
       " 'https://www.tandfonline.com/doi/abs/10.1080/0075417X.2019.1649709',\n",
       " 'https://iris.unito.it/handle/2318/1717637',\n",
       " 'https://dl.acm.org/doi/abs/10.1145/3308558.3313431',\n",
       " 'https://www.tandfonline.com/doi/abs/10.1080/08946566.2019.1584070',\n",
       " 'https://www.mdpi.com/440340',\n",
       " 'https://www.tandfonline.com/doi/abs/10.1080/00918369.2018.1503462',\n",
       " 'https://ieeexplore.ieee.org/abstract/document/8808038/',\n",
       " 'https://www.tandfonline.com/doi/abs/10.1080/00224545.2018.1538930',\n",
       " 'https://www.tandfonline.com/doi/abs/10.1080/19317611.2019.1583299',\n",
       " 'https://www.tandfonline.com/doi/abs/10.1080/00918369.2017.1406210',\n",
       " 'https://dl.acm.org/doi/abs/10.1145/3308558.3313400',\n",
       " 'https://www.worldscientific.com/doi/abs/10.1142/S252973251940011X',\n",
       " 'https://www.aaai.org/ocs/index.php/FLAIRS/FLAIRS19/paper/viewPaper/18321',\n",
       " 'https://academic.oup.com/jcr/article-abstract/46/4/825/5567100',\n",
       " 'https://www.tandfonline.com/doi/abs/10.1080/19361653.2018.1552225',\n",
       " 'https://www.tandfonline.com/doi/abs/10.1080/15379418.2019.1614511',\n",
       " 'https://www.tandfonline.com/doi/abs/10.1080/15236803.2018.1565050',\n",
       " 'https://iopscience.iop.org/article/10.1088/1742-6596/1196/1/012041/meta',\n",
       " 'https://griffithlawjournal.org/index.php/gjlhd/article/view/1055',\n",
       " 'https://robsoncrim.scholasticahq.com/article/10286.pdf',\n",
       " 'https://arxiv.org/abs/1904.05152',\n",
       " 'https://arxiv.org/abs/1910.01043',\n",
       " 'https://core.ac.uk/download/pdf/195358615.pdf',\n",
       " 'https://www.jbe-platform.com/content/journals/10.1075/jlac.00026.jak',\n",
       " 'https://arxiv.org/abs/1908.06165',\n",
       " 'https://dl.acm.org/doi/abs/10.1145/3290605.3300702',\n",
       " 'https://www.tandfonline.com/doi/abs/10.1080/26379112.2019.1681007',\n",
       " 'https://www.tandfonline.com/doi/abs/10.1080/23736992.2019.1672554',\n",
       " 'https://ieeexplore.ieee.org/abstract/document/8981521/',\n",
       " 'https://arxiv.org/abs/1911.03842',\n",
       " 'https://arxiv.org/abs/1910.00920',\n",
       " 'https://arxiv.org/abs/1905.12516',\n",
       " 'https://helda.helsinki.fi/bitstream/handle/10138/327851/UnMediated_Issue_2_Complete.pdf?sequence=1',\n",
       " 'https://www.tandfonline.com/doi/abs/10.1080/09585192.2017.1314975',\n",
       " 'https://www.tandfonline.com/doi/abs/10.1080/09589236.2019.1584744',\n",
       " 'https://www.emerald.com/insight/content/doi/10.1108/JIBR-04-2018-0107/full/html',\n",
       " 'https://arxiv.org/abs/1911.03891',\n",
       " 'https://arxiv.org/abs/1908.06024',\n",
       " 'https://core.ac.uk/download/pdf/326833349.pdf',\n",
       " 'https://papers.ssrn.com/sol3/papers.cfm?abstract_id=3389468',\n",
       " 'https://www.tandfonline.com/doi/abs/10.1080/07256868.2019.1628720',\n",
       " 'https://philpapers.org/rec/SPATPA-7',\n",
       " 'https://www.tandfonline.com/doi/abs/10.1080/02650487.2019.1598831',\n",
       " 'https://academic.oup.com/jid/article-abstract/220/Supplement_2/S62/5552356',\n",
       " 'https://link.springer.com/article/10.1007/s10597-019-00427-3',\n",
       " 'https://link.springer.com/chapter/10.1007/978-3-030-35288-2_28',\n",
       " 'https://ieeexplore.ieee.org/abstract/document/8756866/',\n",
       " 'https://dl.acm.org/doi/abs/10.1145/3350546.3352512',\n",
       " 'https://www.tandfonline.com/doi/abs/10.1080/10474412.2018.1480376',\n",
       " 'https://www.tandfonline.com/doi/abs/10.1080/19406940.2019.1577902',\n",
       " 'https://arxiv.org/abs/1911.11025',\n",
       " 'https://arxiv.org/abs/2005.06946',\n",
       " 'https://www.tandfonline.com/doi/abs/10.1080/00224499.2019.1665619',\n",
       " 'https://www.igi-global.com/article/ai-based-cyberbullying-prevention-in-5g-networks/264207',\n",
       " 'https://www.tandfonline.com/doi/abs/10.1080/15538605.2020.1827477',\n",
       " 'https://link.springer.com/chapter/10.1007/978-3-030-60975-7_31',\n",
       " 'https://www.tandfonline.com/doi/abs/10.1080/00909882.2019.1706099',\n",
       " 'https://arxiv.org/abs/2008.07371',\n",
       " 'https://www.tandfonline.com/doi/abs/10.1080/23738871.2020.1778760',\n",
       " 'https://arxiv.org/abs/2008.09656',\n",
       " 'https://jlcl.org/content/2-allissues/1-heft1-2020/jlcl_2020-1.pdf#page=59',\n",
       " 'https://www.tandfonline.com/doi/abs/10.1080/10538712.2020.1801934',\n",
       " 'https://www.ingentaconnect.com/content/hsp/jdpp/2020/00000003/00000004/art00002',\n",
       " 'https://www.tandfonline.com/doi/abs/10.1080/10474412.2019.1705162',\n",
       " 'https://arxiv.org/abs/2010.03776',\n",
       " 'https://arxiv.org/abs/2005.03909',\n",
       " 'https://www.tandfonline.com/doi/abs/10.1080/19331681.2019.1702607',\n",
       " 'https://arxiv.org/abs/2012.09110',\n",
       " 'https://arxiv.org/abs/2006.08328',\n",
       " 'https://journals.openedition.org/ijcol/754',\n",
       " 'https://ijpsl.in/index.php/volume-1-issue-2/',\n",
       " 'https://hpi.de/fileadmin/user_upload/fachgebiete/naumann/publications/PDFs/2020_risch_explaining.pdf',\n",
       " 'https://arxiv.org/abs/2010.04987',\n",
       " 'https://arxiv.org/abs/2011.06485',\n",
       " 'https://www.tandfonline.com/doi/abs/10.1080/1550428X.2019.1593279',\n",
       " 'https://journals.sagepub.com/doi/abs/10.1177/1470412920906259',\n",
       " 'https://www.tandfonline.com/doi/abs/10.1080/02134748.2020.1721049',\n",
       " 'https://ieeexplore.ieee.org/abstract/document/9436621/',\n",
       " 'https://arxiv.org/abs/2012.15606',\n",
       " 'https://www.tandfonline.com/doi/abs/10.1080/00472778.2019.1659679',\n",
       " 'https://digitalcommons.odu.edu/sociotechnicalcritique/vol1/iss1/5/',\n",
       " 'https://www.tandfonline.com/doi/abs/10.1080/19361653.2020.1844606',\n",
       " 'https://www.tandfonline.com/doi/abs/10.1080/15562948.2018.1557312',\n",
       " 'https://scholarlypublishingcollective.org/psup/posthuman-studies/article-abstract/4/2/129/200036',\n",
       " 'https://arxiv.org/abs/2005.14028',\n",
       " 'https://www.tandfonline.com/doi/abs/10.1080/19361653.2019.1653808',\n",
       " 'https://arxiv.org/abs/2005.14050',\n",
       " 'https://arxiv.org/abs/2012.15761',\n",
       " 'https://www.tandfonline.com/doi/abs/10.1080/10538720.2020.1764896',\n",
       " 'https://journals.openedition.org/ijcol/740',\n",
       " 'https://arxiv.org/abs/2001.03303',\n",
       " 'https://www.tandfonline.com/doi/abs/10.1080/15388220.2020.1760108',\n",
       " 'https://psycnet.apa.org/record/2020-15667-001',\n",
       " 'https://ojs.aaai.org/index.php/HCOMP/article/view/7473',\n",
       " 'https://arxiv.org/abs/2005.00614',\n",
       " 'https://www.tandfonline.com/doi/abs/10.1080/08865655.2019.1571935',\n",
       " 'https://www.tandfonline.com/doi/abs/10.1080/10646175.2020.1819483',\n",
       " 'https://arxiv.org/abs/2007.05039',\n",
       " 'https://www.tandfonline.com/doi/abs/10.1080/19317611.2019.1701170',\n",
       " 'https://www.mdpi.com/829486',\n",
       " 'https://www.tandfonline.com/doi/abs/10.1080/01933922.2020.1789794',\n",
       " 'https://drive.google.com/file/d/1efPnnMclym8obf7JLJzu5NcQcEo_jxiP/view',\n",
       " 'https://aclanthology.org/2020.coling-main.0.pdf',\n",
       " 'https://scholarlypublishingcollective.org/psup/information-policy/article-abstract/10/1/439/201648',\n",
       " 'https://psycnet.apa.org/record/2020-44603-001',\n",
       " 'https://arxiv.org/abs/2009.11462',\n",
       " 'https://www.tandfonline.com/doi/abs/10.1080/23322705.2019.1627775',\n",
       " 'https://www.degruyter.com/document/doi/10.1515/pjbr-2020-0001/html',\n",
       " 'https://www.tandfonline.com/doi/abs/10.1080/10447318.2020.1801226',\n",
       " 'https://www.tandfonline.com/doi/abs/10.1080/21568235.2020.1729833',\n",
       " 'https://dl.acm.org/doi/abs/10.1145/3405755.3406124',\n",
       " 'https://www.tandfonline.com/doi/abs/10.1080/17482631.2020.1744926',\n",
       " 'https://repositorio.ul.pt/bitstream/10451/45575/1/ICS_ADelicado_REview.pdf',\n",
       " 'https://www.tandfonline.com/doi/abs/10.1080/00918369.2019.1603493',\n",
       " 'https://www.mdpi.com/884404',\n",
       " 'https://www.tandfonline.com/doi/abs/10.1080/00207578.2019.1696655',\n",
       " 'https://www.utpjournals.press/doi/abs/10.3138/cjhs.2020-0024',\n",
       " 'http://journal.acs.org.au/index.php/ajis/article/view/2799',\n",
       " 'https://www.ijam-web.org/article.asp?issn=2455-5568;year=2020;volume=6;issue=4;spage=337;epage=398;aulast=Madani',\n",
       " 'https://arxiv.org/abs/2010.14952',\n",
       " 'https://ojs.aaai.org/index.php/AAAI/article/view/5654',\n",
       " 'https://arxiv.org/abs/2008.00525',\n",
       " 'https://www.tandfonline.com/doi/abs/10.1080/13572334.2020.1730502',\n",
       " 'https://arxiv.org/abs/2010.07023',\n",
       " 'https://link.springer.com/article/10.1007/s42001-020-00090-9',\n",
       " 'https://arxiv.org/abs/2007.09685',\n",
       " 'https://dl.acm.org/doi/abs/10.1145/3351095.3372844',\n",
       " 'https://www.tandfonline.com/doi/abs/10.1080/15244113.2020.1749011',\n",
       " 'https://digitalcommons.odu.edu/sociotechnicalcritique/vol1/iss1/7/',\n",
       " 'https://psycnet.apa.org/record/2019-65960-001',\n",
       " 'https://www.tandfonline.com/doi/abs/10.1080/19359705.2019.1706683',\n",
       " 'https://www.tandfonline.com/doi/abs/10.1080/08263663.2020.1769448',\n",
       " 'https://www.tandfonline.com/doi/abs/10.1080/26904586.2020.1826025',\n",
       " 'https://www.tandfonline.com/doi/abs/10.1080/17482798.2019.1688669',\n",
       " 'https://journals.openedition.org/ijcol/659',\n",
       " 'https://asistdl.onlinelibrary.wiley.com/doi/abs/10.1002/asi.24342',\n",
       " 'https://arxiv.org/abs/2112.02265',\n",
       " 'https://arxiv.org/abs/2110.00116',\n",
       " 'https://www.tandfonline.com/doi/full/10.1080/0267257X.2021.1889140',\n",
       " 'https://www.tandfonline.com/doi/abs/10.1080/11038128.2020.1769182',\n",
       " 'https://www.tandfonline.com/doi/abs/10.1080/15401383.2021.1892557',\n",
       " 'https://search.proquest.com/openview/9d241004661eae85bfdf1b9f2f97f300/1?pq-origsite=gscholar&cbl=38745',\n",
       " 'https://www.tandfonline.com/doi/abs/10.1080/1474225X.2021.2003659',\n",
       " 'http://www.semantic-web-journal.net/system/files/swj2867.pdf',\n",
       " 'https://orca.cardiff.ac.uk/id/eprint/140994/',\n",
       " 'https://arxiv.org/abs/2111.07188',\n",
       " 'https://arxiv.org/abs/2112.14168',\n",
       " 'https://arxiv.org/abs/2106.00742',\n",
       " 'https://journals.nauss.edu.sa/index.php/JISCR/article/view/1488',\n",
       " 'https://www.tandfonline.com/doi/abs/10.1080/19331681.2020.1858218',\n",
       " 'https://arxiv.org/abs/2111.04530',\n",
       " 'https://www.tandfonline.com/doi/abs/10.1080/01434632.2021.1980573',\n",
       " 'https://www.tandfonline.com/doi/abs/10.1080/00918369.2020.1804253',\n",
       " 'https://www.tandfonline.com/doi/abs/10.1080/10926771.2019.1607962',\n",
       " 'https://ieeexplore.ieee.org/abstract/document/9698154/',\n",
       " 'https://ieeexplore.ieee.org/abstract/document/9672022/',\n",
       " 'https://arxiv.org/abs/2110.01577',\n",
       " 'https://arxiv.org/abs/2106.09775',\n",
       " 'https://www.turcomat.org/index.php/turkbilmat/article/view/5182',\n",
       " 'https://arxiv.org/abs/2111.07997',\n",
       " 'https://arxiv.org/abs/2104.04147',\n",
       " 'https://arxiv.org/abs/2106.06157',\n",
       " 'https://www.tandfonline.com/doi/abs/10.1080/23322705.2021.1899525',\n",
       " 'https://www.tandfonline.com/doi/abs/10.1080/00918369.2020.1868191',\n",
       " 'https://www.tandfonline.com/doi/abs/10.1080/00918369.2020.1717839',\n",
       " 'https://arxiv.org/abs/2106.04908',\n",
       " 'https://link.springer.com/chapter/10.1007/978-3-030-85251-1_15',\n",
       " 'https://www.tandfonline.com/doi/abs/10.1080/00221309.2021.1922343',\n",
       " 'https://www.degruyter.com/document/doi/10.1515/jisys-2020-0060/html',\n",
       " 'https://ieeexplore.ieee.org/abstract/document/9620565/',\n",
       " 'https://arxiv.org/abs/2106.08409',\n",
       " 'https://onlinelibrary.wiley.com/doi/abs/10.1111/jora.12645',\n",
       " 'https://link.springer.com/chapter/10.1007/978-3-030-88113-9_45',\n",
       " 'https://link.springer.com/article/10.1007/s12369-020-00700-6',\n",
       " 'https://arxiv.org/abs/2102.04211',\n",
       " 'https://www.journals.uchicago.edu/doi/abs/10.1086/715227',\n",
       " 'https://www.tandfonline.com/doi/abs/10.1080/15378020.2020.1842955',\n",
       " 'https://www.tandfonline.com/doi/abs/10.1080/17439760.2021.2012342',\n",
       " 'https://www.jstor.org/stable/10.2979/jfemistudreli.37.2.04',\n",
       " 'https://www.jair.org/index.php/jair/article/view/12590',\n",
       " 'https://arxiv.org/abs/2105.08847',\n",
       " 'https://journals.sagepub.com/doi/abs/10.1177/0022242920953847',\n",
       " 'https://arxiv.org/abs/2109.09483',\n",
       " 'https://www.tandfonline.com/doi/abs/10.1080/00224545.2021.1936438',\n",
       " 'https://sol.sbc.org.br/journals/index.php/isys/article/view/1797',\n",
       " 'https://ieeexplore.ieee.org/abstract/document/9698152/',\n",
       " 'https://www.nature.com/articles/s41443-020-0302-0',\n",
       " 'https://www.tandfonline.com/doi/abs/10.1080/10437797.2019.1671267',\n",
       " 'https://link.springer.com/chapter/10.1007/978-981-16-8531-6_7',\n",
       " 'https://books.google.com/books?hl=en&lr=&id=xkpUEAAAQBAJ&oi=fnd&pg=PA86&dq=misogyny%7Csexism+hate%7Ctoxic%7Cabusive%7Coffensive+detection%7Cidentification%7Cprediction%7Cclassification+%22natural+language+processing%22%7Cnlp%7C%22deep+learning%22%7C%22machine+learning%22%7Cml%7C%22artificial+intelligence%22+or+ai&ots=66ecsdfnkj&sig=RNzG0dLMkslKJZlfSHIksL2vbgU',\n",
       " 'https://academic.oup.com/bjc/advance-article-abstract/doi/10.1093/bjc/azab111/6448791',\n",
       " 'https://arxiv.org/abs/2110.07574',\n",
       " 'https://arxiv.org/abs/2103.05345',\n",
       " 'https://sol.sbc.org.br/journals/index.php/isys/article/view/2134',\n",
       " 'https://arxiv.org/abs/2102.12596',\n",
       " 'https://dl.acm.org/doi/abs/10.1145/3447535.3462495',\n",
       " 'https://www.tandfonline.com/doi/abs/10.1080/19359705.2020.1843582',\n",
       " 'https://www.tandfonline.com/doi/abs/10.1080/15236803.2021.1877983',\n",
       " 'https://www.tandfonline.com/doi/abs/10.1080/17475759.2021.1888147',\n",
       " 'https://arxiv.org/abs/2111.04479',\n",
       " 'https://www.tandfonline.com/doi/abs/10.1080/09589236.2020.1754177',\n",
       " 'https://www.tandfonline.com/doi/abs/10.1080/09518398.2021.1930246',\n",
       " 'https://jdsr.se/ojs/index.php/jdsr/article/view/56',\n",
       " 'https://academic.oup.com/ijlit/article-abstract/29/3/204/6387502',\n",
       " 'https://journals.sagepub.com/doi/abs/10.1177/08862605211012999',\n",
       " 'https://www.tandfonline.com/doi/abs/10.1080/09585192.2021.2023895',\n",
       " 'https://www.tandfonline.com/doi/abs/10.1080/00918369.2021.1999121',\n",
       " 'https://www.tandfonline.com/doi/abs/10.1080/19361653.2019.1694460',\n",
       " 'https://www.tandfonline.com/doi/abs/10.1080/16138171.2021.1930941',\n",
       " 'https://www.tandfonline.com/doi/abs/10.1080/10926771.2020.1783737',\n",
       " 'https://ieeexplore.ieee.org/abstract/document/9680133/',\n",
       " 'https://iris.unibocconi.it/bitstream/11565/4042487/1/2021.naacl-main.191.pdf',\n",
       " 'https://books.google.com/books?hl=en&lr=&id=BpgjEAAAQBAJ&oi=fnd&pg=PA318&dq=misogyny%7Csexism+hate%7Ctoxic%7Cabusive%7Coffensive+detection%7Cidentification%7Cprediction%7Cclassification+%22natural+language+processing%22%7Cnlp%7C%22deep+learning%22%7C%22machine+learning%22%7Cml%7C%22artificial+intelligence%22+or+ai&ots=tI95-gGFnI&sig=SLlfujya49kY8W4--3O36MFwPhI',\n",
       " 'https://arxiv.org/abs/2108.12084',\n",
       " 'https://arxiv.org/abs/2105.11219',\n",
       " 'https://www.tandfonline.com/doi/abs/10.1080/15424065.2021.1955073',\n",
       " 'https://www.jbe-platform.com/content/journals/10.1075/japc.00071.ita',\n",
       " 'https://arxiv.org/abs/2109.07022',\n",
       " 'https://arxiv.org/abs/2102.07836',\n",
       " 'https://arxiv.org/abs/2107.08720',\n",
       " 'https://www.tandfonline.com/doi/abs/10.1080/00224499.2021.1966355',\n",
       " 'https://online.ucpress.edu/res/article-abstract/2/2/125/117706',\n",
       " 'https://dl.acm.org/doi/abs/10.1145/3465336.3475112',\n",
       " 'https://www.tandfonline.com/doi/abs/10.1080/17457289.2021.1968413',\n",
       " 'https://www.tandfonline.com/doi/abs/10.1080/14442213.2021.1882548',\n",
       " 'https://www.tandfonline.com/doi/abs/10.1080/15299732.2020.1869098',\n",
       " 'https://arxiv.org/abs/2103.01616',\n",
       " 'https://arxiv.org/abs/2107.07691',\n",
       " 'https://www.tandfonline.com/doi/abs/10.1080/15391523.2021.2014373',\n",
       " 'https://www.tandfonline.com/doi/abs/10.1080/15538605.2021.1914276',\n",
       " 'https://www.atlantis-press.com/proceedings/iclccs-21/125961993',\n",
       " 'https://arxiv.org/abs/2109.05322',\n",
       " 'https://ppbri.org/Journals/2021/PPJBR%20Spring%202021%20Vol%2012_NO%201_(4)%20.pdf',\n",
       " 'https://www.tandfonline.com/doi/abs/10.1080/15505170.2021.1920517',\n",
       " 'https://arxiv.org/abs/2111.15596',\n",
       " 'https://www.tandfonline.com/doi/abs/10.1080/00918369.2019.1702353',\n",
       " 'https://www.sciencedirect.com/science/article/pii/S1526590021003527',\n",
       " 'https://heritage.kemenag.go.id/index.php/heritage/article/view/607',\n",
       " 'https://www.tandfonline.com/doi/abs/10.1080/13552600.2020.1733111',\n",
       " 'https://www.tandfonline.com/doi/abs/10.1080/09589236.2020.1842178',\n",
       " 'https://journals.sagepub.com/doi/abs/10.1177/13675494211055736',\n",
       " 'https://arxiv.org/abs/2111.07074',\n",
       " 'https://www.tandfonline.com/doi/abs/10.1080/00918369.2021.2004794',\n",
       " 'https://arxiv.org/abs/2103.16953',\n",
       " 'https://arxiv.org/abs/2108.07790',\n",
       " 'https://arxiv.org/abs/2103.17191',\n",
       " 'https://arxiv.org/abs/2104.08829',\n",
       " 'https://openreview.net/forum?id=NfTU-wN8Uo',\n",
       " 'https://arxiv.org/abs/2109.04870',\n",
       " 'https://arxiv.org/abs/2107.07502',\n",
       " 'https://www.tandfonline.com/doi/abs/10.1080/17513057.2020.1782453',\n",
       " 'https://arxiv.org/abs/2110.01963',\n",
       " 'https://www.tandfonline.com/doi/abs/10.1080/26895269.2020.1760164',\n",
       " 'https://www.tandfonline.com/doi/abs/10.1080/15313204.2021.1986447',\n",
       " 'https://link.springer.com/article/10.1007/s10551-020-04635-w',\n",
       " 'https://www.tandfonline.com/doi/abs/10.1080/19361653.2020.1727394',\n",
       " 'https://arxiv.org/abs/2112.09301',\n",
       " 'http://www.j-institute.org/wp-content/uploads/2021/07/Regulations_202162.pdf',\n",
       " 'https://www.tandfonline.com/doi/abs/10.1080/00918369.2020.1734378',\n",
       " 'https://www.tandfonline.com/doi/abs/10.1080/09589236.2021.1975107',\n",
       " 'https://iopscience.iop.org/article/10.1088/1757-899X/1085/1/012008/meta',\n",
       " 'https://www.tandfonline.com/doi/abs/10.1080/87568225.2020.1739584',\n",
       " 'https://www.tandfonline.com/doi/abs/10.1080/15546128.2021.1932654',\n",
       " 'https://aclanthology.org/2021.eacl-main.0.pdf',\n",
       " 'https://arxiv.org/abs/2111.14322',\n",
       " 'https://www.tandfonline.com/doi/abs/10.1080/10570314.2020.1789728',\n",
       " 'https://arxiv.org/abs/2106.03521',\n",
       " 'https://dl.acm.org/doi/abs/10.1145/3441852.3476471',\n",
       " 'https://dl.acm.org/doi/abs/10.1145/3469213.3470385',\n",
       " 'https://arxiv.org/abs/2108.07374',\n",
       " 'https://arxiv.org/abs/2109.02691',\n",
       " 'https://www.mdpi.com/1660-4601/18/21/11697',\n",
       " 'https://arxiv.org/abs/2104.09586',\n",
       " 'https://ieeexplore.ieee.org/abstract/document/9732077/',\n",
       " 'https://arxiv.org/abs/2110.02869',\n",
       " 'https://www.tandfonline.com/doi/abs/10.1080/08838151.2021.2019741',\n",
       " 'https://www.mdpi.com/article/10.3390/ijerph18115568',\n",
       " 'https://www.tandfonline.com/doi/abs/10.1080/09518398.2021.2003895',\n",
       " 'https://arxiv.org/abs/2112.12750',\n",
       " 'https://journals.sfu.ca/jd/index.php/jd/article/download/431/259/1345',\n",
       " 'https://arxiv.org/abs/2108.11056',\n",
       " 'https://journals.sagepub.com/doi/abs/10.1177/0886260519844781',\n",
       " 'https://www.tandfonline.com/doi/abs/10.1080/00224499.2020.1763238',\n",
       " 'https://www.tandfonline.com/doi/abs/10.1080/00918369.2021.1921511',\n",
       " 'https://arxiv.org/abs/2108.12752',\n",
       " 'https://bristoluniversitypressdigital.com/view/journals/jgbv/5/3/article-p531.xml',\n",
       " 'https://link.springer.com/article/10.1007/s10896-021-00254-9',\n",
       " 'https://journals.openedition.org/ijcol/880',\n",
       " 'https://arxiv.org/abs/2102.11009',\n",
       " 'https://arxiv.org/abs/2107.14052',\n",
       " 'https://arxiv.org/abs/2105.09059',\n",
       " 'https://arxiv.org/abs/2108.03929',\n",
       " 'https://journals.uwyo.edu/index.php/workingclassstudies/issue/download/235/25',\n",
       " 'https://www.mdpi.com/957978',\n",
       " 'https://psycnet.apa.org/doiLanding?doi=10.1037%2Faap0000208',\n",
       " 'https://ieeexplore.ieee.org/abstract/document/9619090/',\n",
       " 'https://www.tandfonline.com/doi/abs/10.1080/0267257X.2020.1798714',\n",
       " 'https://www.sciencedirect.com/science/article/pii/S0969698920313710',\n",
       " 'https://arxiv.org/abs/2104.05658',\n",
       " 'https://aprja.net/article/view/128185',\n",
       " 'https://arxiv.org/abs/2110.15905',\n",
       " 'https://ojs.library.ubc.ca/index.php/newproposals/article/view/194419',\n",
       " 'https://www.tandfonline.com/doi/abs/10.1080/21504857.2019.1700145',\n",
       " 'https://ieeexplore.ieee.org/abstract/document/9702333/',\n",
       " 'https://arxiv.org/abs/2112.07475',\n",
       " 'https://www.tandfonline.com/doi/abs/10.1080/10926771.2020.1821855',\n",
       " 'https://www.tandfonline.com/doi/abs/10.1080/00224499.2020.1829530',\n",
       " 'https://arxiv.org/abs/2105.02732',\n",
       " 'https://www.tandfonline.com/doi/abs/10.1080/00918369.2021.1938467',\n",
       " 'https://arxiv.org/abs/2106.15896',\n",
       " 'https://www.itflows.eu/wp-content/uploads/2022/06/3.-D2.2-ITFLOWS.pdf',\n",
       " 'https://www.tandfonline.com/doi/abs/10.1080/0092623X.2021.1942348',\n",
       " 'https://www.emerald.com/insight/content/doi/10.1108/IJGE-01-2021-0016/full/html',\n",
       " 'https://www.tandfonline.com/doi/abs/10.1080/15299716.2021.1932008',\n",
       " 'https://academic.oup.com/jamia/article-abstract/28/2/209/6134803',\n",
       " 'https://www.tandfonline.com/doi/abs/10.1080/00207411.2021.1891364',\n",
       " 'https://pure.solent.ac.uk/en/publications/fuckthealgorithm-algorithmic-imaginaries-and-political-resistance',\n",
       " 'https://dl.acm.org/doi/fullHtml/10.1145/3491102.3501857',\n",
       " 'https://www.sciencedirect.com/science/article/pii/S2667096822000404',\n",
       " 'https://link.springer.com/article/10.1007/s12369-022-00900-2',\n",
       " 'https://jscires.org/sites/default/files/JScientometRes-11-1-100.pdf',\n",
       " 'https://arxiv.org/abs/2202.07853',\n",
       " 'https://www.tandfonline.com/doi/abs/10.1080/00918369.2021.1898803',\n",
       " 'https://dl.acm.org/doi/abs/10.1145/3531146.3533114',\n",
       " 'https://papers.ssrn.com/sol3/papers.cfm?abstract_id=3985523',\n",
       " 'https://journals.sagepub.com/doi/abs/10.1177/10946705211063692',\n",
       " 'https://psycnet.apa.org/record/2022-30886-001',\n",
       " 'https://www.tandfonline.com/doi/abs/10.1080/03772063.2022.2034534',\n",
       " 'https://arxiv.org/abs/2206.04179',\n",
       " 'https://arxiv.org/abs/2202.07543',\n",
       " 'https://arxiv.org/abs/2203.02392',\n",
       " 'https://bera-journals.onlinelibrary.wiley.com/doi/abs/10.1111/bjet.13227',\n",
       " 'https://arxiv.org/abs/2204.06389',\n",
       " 'https://link.springer.com/article/10.1007/s12369-021-00787-5',\n",
       " 'https://arxiv.org/abs/2202.06675',\n",
       " 'https://arxiv.org/abs/2203.10020',\n",
       " 'https://www.tandfonline.com/doi/abs/10.1080/15299732.2021.1987373',\n",
       " 'https://link.springer.com/chapter/10.1007/978-3-031-04447-2_15',\n",
       " 'https://ojs.aaai.org/index.php/ICWSM/article/view/19307',\n",
       " 'https://arxiv.org/abs/2206.07190',\n",
       " 'https://arxiv.org/abs/2203.03584',\n",
       " 'https://arxiv.org/abs/2205.04238',\n",
       " 'https://arxiv.org/abs/2204.12543',\n",
       " 'https://dl.acm.org/doi/abs/10.1145/3531146.3534637',\n",
       " 'https://onlinelibrary.wiley.com/doi/abs/10.1111/jan.15170',\n",
       " 'https://arxiv.org/abs/2202.09517',\n",
       " 'https://www.spiedigitallibrary.org/conference-proceedings-of-spie/12163/1216346/Deep-learning-for-hate-speech-detection/10.1117/12.2628010.short',\n",
       " 'https://arxiv.org/abs/2205.01038',\n",
       " 'https://arxiv.org/abs/2207.00111',\n",
       " 'https://dl.acm.org/doi/abs/10.1145/3491102.3517505',\n",
       " 'https://arxiv.org/abs/2205.04274',\n",
       " 'https://dergipark.org.tr/en/pub/iusskd/issue/69406/1073130',\n",
       " 'https://papers.ssrn.com/sol3/papers.cfm?abstract_id=4022653',\n",
       " 'https://arxiv.org/abs/2201.10066',\n",
       " 'https://arxiv.org/abs/2206.06370',\n",
       " 'https://arxiv.org/abs/2202.06218',\n",
       " 'https://www.tandfonline.com/doi/abs/10.1080/00918369.2022.2059971',\n",
       " 'https://arxiv.org/abs/2206.08445',\n",
       " 'https://arxiv.org/abs/2203.09192',\n",
       " 'https://arxiv.org/abs/2205.10764',\n",
       " 'https://dl.acm.org/doi/abs/10.1145/3491102.3517608',\n",
       " 'https://ieeexplore.ieee.org/abstract/document/9726098/',\n",
       " 'https://www.mdpi.com/article/10.3390/ijerph19127440',\n",
       " 'https://arxiv.org/abs/2204.04026',\n",
       " 'https://arxiv.org/abs/2203.07228',\n",
       " 'https://www.tandfonline.com/doi/abs/10.1080/19386389.2022.2032547',\n",
       " 'https://link.springer.com/article/10.1007/s10560-022-00848-2',\n",
       " 'https://www.tandfonline.com/doi/abs/10.1080/10894160.2022.2087344',\n",
       " 'https://www.emerald.com/insight/content/doi/10.1108/GM-06-2020-0167/full/html',\n",
       " 'https://arxiv.org/abs/2201.10853',\n",
       " 'https://www.sciencedirect.com/science/article/pii/S0148296322002211',\n",
       " 'https://www.tandfonline.com/doi/abs/10.1080/03043797.2021.1915251',\n",
       " 'https://arxiv.org/abs/2202.00126',\n",
       " 'https://arxiv.org/abs/2204.14256',\n",
       " 'https://arxiv.org/pdf/2206.15455',\n",
       " 'https://www.tandfonline.com/doi/abs/10.1080/10538720.2021.1927927',\n",
       " 'https://arxiv.org/abs/2206.04162',\n",
       " 'https://www.tandfonline.com/doi/abs/10.1080/00918369.2020.1809893',\n",
       " 'https://arxiv.org/abs/2205.00501',\n",
       " 'https://www.tandfonline.com/doi/abs/10.1080/1369183X.2022.2050191',\n",
       " 'https://arxiv.org/abs/2205.11315',\n",
       " 'https://arxiv.org/abs/2204.03262',\n",
       " 'https://www.tandfonline.com/doi/abs/10.1080/26895269.2021.1938779',\n",
       " 'https://arxiv.org/abs/2204.00679',\n",
       " 'https://arxiv.org/abs/2203.11764',\n",
       " 'https://penerbit.uthm.edu.my/ojs/index.php/jscdm/article/view/11657',\n",
       " 'https://journals.sagepub.com/doi/abs/10.1177/00220221211054206',\n",
       " 'https://dl.acm.org/doi/abs/10.1145/3531146.3533099',\n",
       " 'https://academic.oup.com/aje/article-abstract/191/4/539/6375136',\n",
       " 'https://www.tandfonline.com/doi/abs/10.1080/1554477X.2022.2004846',\n",
       " 'https://onlinelibrary.wiley.com/doi/abs/10.1002/pa.2805',\n",
       " 'https://www.sciencedirect.com/science/article/pii/S0021992421001039',\n",
       " 'https://arxiv.org/abs/2203.10675',\n",
       " 'https://arxiv.org/abs/2205.07233',\n",
       " 'https://arxiv.org/abs/2206.09917',\n",
       " 'https://www.tandfonline.com/doi/abs/10.1080/26895269.2020.1838395',\n",
       " 'https://papers.ssrn.com/sol3/papers.cfm?abstract_id=4021610',\n",
       " 'https://arxiv.org/abs/2203.10024',\n",
       " 'https://arxiv.org/abs/2204.12708',\n",
       " 'https://arxiv.org/abs/2205.12586',\n",
       " 'https://www.tandfonline.com/doi/abs/10.1080/19496591.2021.1924760',\n",
       " 'https://www.tandfonline.com/doi/abs/10.1080/15426432.2022.2049433',\n",
       " 'https://arxiv.org/abs/2206.04007',\n",
       " 'https://psycnet.apa.org/record/2022-34995-001',\n",
       " 'https://papers.ssrn.com/sol3/papers.cfm?abstract_id=3850317',\n",
       " 'https://arxiv.org/abs/2203.14349',\n",
       " 'https://dl.acm.org/doi/abs/10.1145/3531146.3533138',\n",
       " 'https://arxiv.org/abs/2204.03953',\n",
       " 'https://academic.oup.com/comjnl/article-abstract/65/2/436/6363561',\n",
       " 'https://journals.sagepub.com/doi/abs/10.1177/10949968221075817',\n",
       " 'https://www.tandfonline.com/doi/abs/10.1080/19496591.2022.2042006',\n",
       " 'https://www.tandfonline.com/doi/abs/10.1080/11038128.2021.1895308',\n",
       " 'https://link.springer.com/article/10.1007/s12369-021-00797-3',\n",
       " 'https://journals.lww.com/jaids/Fulltext/2022/08150/Sexual_Relationship_Power_Equity_Is_Associated.2.aspx',\n",
       " 'https://ieeexplore.ieee.org/abstract/document/9785119/',\n",
       " 'https://arxiv.org/abs/2203.05140',\n",
       " 'https://arxiv.org/abs/2202.10848',\n",
       " 'https://www.mdpi.com/1660-4601/19/9/5693',\n",
       " 'https://www.tandfonline.com/doi/abs/10.1080/21504857.2022.2025877',\n",
       " 'https://www.researchgate.net/profile/Luke-Munn-2/publication/358656540_Sustainable_Hate_How_Gab_Built_a_Durable_Platform_for_the_People/links/6221337e97401151d2f8e236/Sustainable-Hate-How-Gab-Built-a-Durable-Platform-for-the-People.pdf',\n",
       " 'https://arxiv.org/abs/2203.11401',\n",
       " 'https://www.tandfonline.com/doi/abs/10.1080/00207578.2021.2017780',\n",
       " 'https://www.tandfonline.com/doi/abs/10.1080/00918369.2021.1909397',\n",
       " 'https://arxiv.org/abs/2205.11963',\n",
       " 'https://www.tandfonline.com/doi/abs/10.1080/01488376.2021.2018089',\n",
       " 'https://arxiv.org/abs/2205.02526',\n",
       " 'https://www.mdpi.com/1682892',\n",
       " 'https://www.tandfonline.com/doi/abs/10.1080/10911359.2021.1898516',\n",
       " 'https://arxiv.org/abs/2204.10365',\n",
       " 'https://arxiv.org/abs/2202.08011',\n",
       " 'https://arxiv.org/abs/2203.09509',\n",
       " 'https://www.tandfonline.com/doi/abs/10.1080/00918369.2020.1813510',\n",
       " 'https://www.tandfonline.com/doi/abs/10.1080/13552600.2021.1936230',\n",
       " 'https://ojs.aaai.org/index.php/ICWSM/article/view/19311',\n",
       " 'https://jmt.scholasticahq.com/article/34127.pdf',\n",
       " 'https://arxiv.org/abs/2206.00035',\n",
       " 'https://www.tandfonline.com/doi/abs/10.1080/10926771.2021.1912873',\n",
       " 'https://www.tandfonline.com/doi/abs/10.1080/03043797.2022.2047895',\n",
       " 'https://link.springer.com/chapter/10.1007/978-3-030-96960-8_13',\n",
       " 'https://www.tandfonline.com/doi/abs/10.1080/13552600.2022.2057605',\n",
       " 'https://www.sciencedirect.com/science/article/pii/S0885985X22000146',\n",
       " 'https://www.tandfonline.com/doi/abs/10.1080/27703371.2022.2076002',\n",
       " 'https://www.tandfonline.com/doi/abs/10.1080/01930826.2022.2026119',\n",
       " 'https://dl.acm.org/doi/abs/10.1145/3491102.3517517']"
      ]
     },
     "execution_count": 53,
     "metadata": {},
     "output_type": "execute_result"
    }
   ],
   "source": [
    "# first converting all the links into a list \n",
    "list_urls = list(df_conf_jour['ArticleURL'].unique())\n",
    "list_urls"
   ]
  },
  {
   "cell_type": "code",
   "execution_count": 54,
   "metadata": {},
   "outputs": [
    {
     "data": {
      "text/plain": [
       "['https://arxiv.org/abs/1812.02712',\n",
       " 'https://arxiv.org/abs/1809.08726',\n",
       " 'https://arxiv.org/abs/1805.05345',\n",
       " 'https://arxiv.org/abs/1801.04433',\n",
       " 'https://arxiv.org/abs/1808.07235',\n",
       " 'https://arxiv.org/abs/1812.06700',\n",
       " 'https://arxiv.org/abs/1809.03944',\n",
       " 'https://arxiv.org/abs/1808.07231',\n",
       " 'https://arxiv.org/abs/1808.01076',\n",
       " 'https://arxiv.org/abs/1904.04073',\n",
       " 'https://arxiv.org/abs/1910.03270',\n",
       " 'https://arxiv.org/abs/1904.05152',\n",
       " 'https://arxiv.org/abs/1910.01043',\n",
       " 'https://arxiv.org/abs/1908.06165',\n",
       " 'https://arxiv.org/abs/1911.03842',\n",
       " 'https://arxiv.org/abs/1910.00920',\n",
       " 'https://arxiv.org/abs/1905.12516',\n",
       " 'https://arxiv.org/abs/1911.03891',\n",
       " 'https://arxiv.org/abs/1908.06024',\n",
       " 'https://arxiv.org/abs/1911.11025',\n",
       " 'https://arxiv.org/abs/2005.06946',\n",
       " 'https://arxiv.org/abs/2008.07371',\n",
       " 'https://arxiv.org/abs/2008.09656',\n",
       " 'https://arxiv.org/abs/2010.03776',\n",
       " 'https://arxiv.org/abs/2005.03909',\n",
       " 'https://arxiv.org/abs/2012.09110',\n",
       " 'https://arxiv.org/abs/2006.08328',\n",
       " 'https://arxiv.org/abs/2010.04987',\n",
       " 'https://arxiv.org/abs/2011.06485',\n",
       " 'https://arxiv.org/abs/2012.15606',\n",
       " 'https://arxiv.org/abs/2005.14028',\n",
       " 'https://arxiv.org/abs/2005.14050',\n",
       " 'https://arxiv.org/abs/2012.15761',\n",
       " 'https://arxiv.org/abs/2001.03303',\n",
       " 'https://arxiv.org/abs/2005.00614',\n",
       " 'https://arxiv.org/abs/2007.05039',\n",
       " 'https://arxiv.org/abs/2009.11462',\n",
       " 'https://arxiv.org/abs/2010.14952',\n",
       " 'https://arxiv.org/abs/2008.00525',\n",
       " 'https://arxiv.org/abs/2010.07023',\n",
       " 'https://arxiv.org/abs/2007.09685',\n",
       " 'https://arxiv.org/abs/2112.02265',\n",
       " 'https://arxiv.org/abs/2110.00116',\n",
       " 'https://arxiv.org/abs/2111.07188',\n",
       " 'https://arxiv.org/abs/2112.14168',\n",
       " 'https://arxiv.org/abs/2106.00742',\n",
       " 'https://arxiv.org/abs/2111.04530',\n",
       " 'https://arxiv.org/abs/2110.01577',\n",
       " 'https://arxiv.org/abs/2106.09775',\n",
       " 'https://arxiv.org/abs/2111.07997',\n",
       " 'https://arxiv.org/abs/2104.04147',\n",
       " 'https://arxiv.org/abs/2106.06157',\n",
       " 'https://arxiv.org/abs/2106.04908',\n",
       " 'https://arxiv.org/abs/2106.08409',\n",
       " 'https://arxiv.org/abs/2102.04211',\n",
       " 'https://arxiv.org/abs/2105.08847',\n",
       " 'https://arxiv.org/abs/2109.09483',\n",
       " 'https://arxiv.org/abs/2110.07574',\n",
       " 'https://arxiv.org/abs/2103.05345',\n",
       " 'https://arxiv.org/abs/2102.12596',\n",
       " 'https://arxiv.org/abs/2111.04479',\n",
       " 'https://arxiv.org/abs/2108.12084',\n",
       " 'https://arxiv.org/abs/2105.11219',\n",
       " 'https://arxiv.org/abs/2109.07022',\n",
       " 'https://arxiv.org/abs/2102.07836',\n",
       " 'https://arxiv.org/abs/2107.08720',\n",
       " 'https://arxiv.org/abs/2103.01616',\n",
       " 'https://arxiv.org/abs/2107.07691',\n",
       " 'https://arxiv.org/abs/2109.05322',\n",
       " 'https://arxiv.org/abs/2111.15596',\n",
       " 'https://arxiv.org/abs/2111.07074',\n",
       " 'https://arxiv.org/abs/2103.16953',\n",
       " 'https://arxiv.org/abs/2108.07790',\n",
       " 'https://arxiv.org/abs/2103.17191',\n",
       " 'https://arxiv.org/abs/2104.08829',\n",
       " 'https://arxiv.org/abs/2109.04870',\n",
       " 'https://arxiv.org/abs/2107.07502',\n",
       " 'https://arxiv.org/abs/2110.01963',\n",
       " 'https://arxiv.org/abs/2112.09301',\n",
       " 'https://arxiv.org/abs/2111.14322',\n",
       " 'https://arxiv.org/abs/2106.03521',\n",
       " 'https://arxiv.org/abs/2108.07374',\n",
       " 'https://arxiv.org/abs/2109.02691',\n",
       " 'https://arxiv.org/abs/2104.09586',\n",
       " 'https://arxiv.org/abs/2110.02869',\n",
       " 'https://arxiv.org/abs/2112.12750',\n",
       " 'https://arxiv.org/abs/2108.11056',\n",
       " 'https://arxiv.org/abs/2108.12752',\n",
       " 'https://arxiv.org/abs/2102.11009',\n",
       " 'https://arxiv.org/abs/2107.14052',\n",
       " 'https://arxiv.org/abs/2105.09059',\n",
       " 'https://arxiv.org/abs/2108.03929',\n",
       " 'https://arxiv.org/abs/2104.05658',\n",
       " 'https://arxiv.org/abs/2110.15905',\n",
       " 'https://arxiv.org/abs/2112.07475',\n",
       " 'https://arxiv.org/abs/2105.02732',\n",
       " 'https://arxiv.org/abs/2106.15896',\n",
       " 'https://arxiv.org/abs/2202.07853',\n",
       " 'https://arxiv.org/abs/2206.04179',\n",
       " 'https://arxiv.org/abs/2202.07543',\n",
       " 'https://arxiv.org/abs/2203.02392',\n",
       " 'https://arxiv.org/abs/2204.06389',\n",
       " 'https://arxiv.org/abs/2202.06675',\n",
       " 'https://arxiv.org/abs/2203.10020',\n",
       " 'https://arxiv.org/abs/2206.07190',\n",
       " 'https://arxiv.org/abs/2203.03584',\n",
       " 'https://arxiv.org/abs/2205.04238',\n",
       " 'https://arxiv.org/abs/2204.12543',\n",
       " 'https://arxiv.org/abs/2202.09517',\n",
       " 'https://arxiv.org/abs/2205.01038',\n",
       " 'https://arxiv.org/abs/2207.00111',\n",
       " 'https://arxiv.org/abs/2205.04274',\n",
       " 'https://arxiv.org/abs/2201.10066',\n",
       " 'https://arxiv.org/abs/2206.06370',\n",
       " 'https://arxiv.org/abs/2202.06218',\n",
       " 'https://arxiv.org/abs/2206.08445',\n",
       " 'https://arxiv.org/abs/2203.09192',\n",
       " 'https://arxiv.org/abs/2205.10764',\n",
       " 'https://arxiv.org/abs/2204.04026',\n",
       " 'https://arxiv.org/abs/2203.07228',\n",
       " 'https://arxiv.org/abs/2201.10853',\n",
       " 'https://arxiv.org/abs/2202.00126',\n",
       " 'https://arxiv.org/abs/2204.14256',\n",
       " 'https://arxiv.org/pdf/2206.15455',\n",
       " 'https://arxiv.org/abs/2206.04162',\n",
       " 'https://arxiv.org/abs/2205.00501',\n",
       " 'https://arxiv.org/abs/2205.11315',\n",
       " 'https://arxiv.org/abs/2204.03262',\n",
       " 'https://arxiv.org/abs/2204.00679',\n",
       " 'https://arxiv.org/abs/2203.11764',\n",
       " 'https://arxiv.org/abs/2203.10675',\n",
       " 'https://arxiv.org/abs/2205.07233',\n",
       " 'https://arxiv.org/abs/2206.09917',\n",
       " 'https://arxiv.org/abs/2203.10024',\n",
       " 'https://arxiv.org/abs/2204.12708',\n",
       " 'https://arxiv.org/abs/2205.12586',\n",
       " 'https://arxiv.org/abs/2206.04007',\n",
       " 'https://arxiv.org/abs/2203.14349',\n",
       " 'https://arxiv.org/abs/2204.03953',\n",
       " 'https://arxiv.org/abs/2203.05140',\n",
       " 'https://arxiv.org/abs/2202.10848',\n",
       " 'https://arxiv.org/abs/2203.11401',\n",
       " 'https://arxiv.org/abs/2205.11963',\n",
       " 'https://arxiv.org/abs/2205.02526',\n",
       " 'https://arxiv.org/abs/2204.10365',\n",
       " 'https://arxiv.org/abs/2202.08011',\n",
       " 'https://arxiv.org/abs/2203.09509',\n",
       " 'https://arxiv.org/abs/2206.00035']"
      ]
     },
     "execution_count": 54,
     "metadata": {},
     "output_type": "execute_result"
    }
   ],
   "source": [
    "# Only the arXiv manuscripts\n",
    "df_archive = df[(df[\"Publisher\"] == 'arXiv')]\n",
    "urls_only = list(df_archive['ArticleURL'].unique())\n",
    "urls_only"
   ]
  },
  {
   "cell_type": "code",
   "execution_count": null,
   "metadata": {},
   "outputs": [],
   "source": []
  }
 ],
 "metadata": {
  "kernelspec": {
   "display_name": "mlp",
   "language": "python",
   "name": "python3"
  },
  "language_info": {
   "codemirror_mode": {
    "name": "ipython",
    "version": 3
   },
   "file_extension": ".py",
   "mimetype": "text/x-python",
   "name": "python",
   "nbconvert_exporter": "python",
   "pygments_lexer": "ipython3",
   "version": "3.8.13 | packaged by conda-forge | (default, Mar 25 2022, 06:05:16) \n[Clang 12.0.1 ]"
  },
  "orig_nbformat": 4,
  "vscode": {
   "interpreter": {
    "hash": "a416f03cfb147488512f4759643ecc257e0c1cb5ba60170a7a416e21779e3a52"
   }
  }
 },
 "nbformat": 4,
 "nbformat_minor": 2
}
