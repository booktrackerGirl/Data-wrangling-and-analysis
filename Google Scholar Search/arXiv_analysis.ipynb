{
 "cells": [
  {
   "cell_type": "code",
   "execution_count": 1,
   "metadata": {},
   "outputs": [
    {
     "name": "stderr",
     "output_type": "stream",
     "text": [
      "[nltk_data] Downloading package omw-1.4 to\n",
      "[nltk_data]     /Users/aditidutta/nltk_data...\n",
      "[nltk_data]   Package omw-1.4 is already up-to-date!\n",
      "[nltk_data] Downloading package maxent_ne_chunker to\n",
      "[nltk_data]     /Users/aditidutta/nltk_data...\n",
      "[nltk_data]   Package maxent_ne_chunker is already up-to-date!\n",
      "[nltk_data] Downloading package words to\n",
      "[nltk_data]     /Users/aditidutta/nltk_data...\n",
      "[nltk_data]   Package words is already up-to-date!\n"
     ]
    }
   ],
   "source": [
    "import pandas as pd\n",
    "import matplotlib.pyplot as plt\n",
    "import numpy as np\n",
    "from sklearn.feature_extraction.text import CountVectorizer\n",
    "import pandas as pd\n",
    "import seaborn as sns\n",
    "#% matplotlib inline\n",
    "from datetime import datetime\n",
    "\n",
    "import plotly.graph_objs as go\n",
    "import plotly.offline as pyo\n",
    "import plotly.figure_factory as ff\n",
    "import plotly.express as px\n",
    "from plotly import tools\n",
    "from plotly.subplots import make_subplots\n",
    "from plotly.offline import iplot\n",
    "\n",
    "from textblob import TextBlob, Word, Blobber\n",
    "from textblob.classifiers import NaiveBayesClassifier\n",
    "from textblob.taggers import NLTKTagger\n",
    "\n",
    "import nltk\n",
    "from nltk.corpus import stopwords\n",
    "from nltk.stem.porter import PorterStemmer \n",
    "from nltk.stem import WordNetLemmatizer\n",
    "nltk.download('omw-1.4')\n",
    "from nltk.tokenize import word_tokenize\n",
    "nltk.download('maxent_ne_chunker')\n",
    "nltk.download('words')\n",
    "\n",
    "import string\n",
    "import gensim\n",
    "import collections\n",
    "from gensim.corpora import Dictionary\n",
    "import difflib \n",
    "\n",
    "from tqdm import tqdm\n",
    "tqdm.pandas(desc=\"progress-bar\")\n",
    "\n",
    "from gensim.models.ldamodel import LdaModel\n",
    "from gensim.models.coherencemodel import CoherenceModel\n",
    "\n",
    "from autocorrect import Speller\n",
    "\n",
    "from bs4 import BeautifulSoup\n",
    "import requests\n",
    "import csv\n",
    "import time\n",
    "\n",
    "import re\n",
    "import string\n",
    "import gc\n",
    "import warnings\n",
    "warnings.filterwarnings('ignore')"
   ]
  },
  {
   "attachments": {},
   "cell_type": "markdown",
   "metadata": {},
   "source": [
    "#### Using the arXiv API"
   ]
  },
  {
   "cell_type": "code",
   "execution_count": 2,
   "metadata": {},
   "outputs": [],
   "source": [
    "import requests \n",
    "import datetime as dt\n",
    "import xml.etree.ElementTree as ET\n",
    "import matplotlib.pyplot as plt"
   ]
  },
  {
   "cell_type": "code",
   "execution_count": 3,
   "metadata": {},
   "outputs": [],
   "source": [
    "# Parameters\n",
    "query = '(misogyny OR sexism OR sexist OR gender OR \"online hate\" OR \"online abuse\") AND (\"social media\" OR \"social platform\" OR twitter OR Twitter OR Facebook OR facebook OR reddit OR Reddit OR instagram OR Instagram OR meta OR linkedin OR LinkedIn OR youtube OR YouTube)' \n",
    "\n",
    "# original query only gave 22 results. This gives 406 results\n",
    "max_results = 1000"
   ]
  },
  {
   "attachments": {},
   "cell_type": "markdown",
   "metadata": {},
   "source": [
    "Setting the query right is very important. Especially if topic modelling is intended to be used. Too arbitrary keywords in here could confuse the model into better clustering. For this script, it was experimented with a few other keywords in the search query, such as \"hate speech\" and \"online hate speech\". While the first one could encompass a range of hate speech, both online and offline; the later one is redundant as we already have the keyword \"online hate\" in our query. "
   ]
  },
  {
   "cell_type": "code",
   "execution_count": 4,
   "metadata": {},
   "outputs": [],
   "source": [
    "#Call arXiv API with the query parameters\n",
    "url = f'http://export.arxiv.org/api/query?search_query={query}&max_results={max_results}'\n",
    "resp = requests.get(url)"
   ]
  },
  {
   "cell_type": "code",
   "execution_count": 5,
   "metadata": {},
   "outputs": [
    {
     "data": {
      "text/plain": [
       "Index(['id', 'updated', 'published', 'title', 'summary', 'author', 'comment',\n",
       "       'link', 'primary_category', 'category', 'doi', 'journal_ref'],\n",
       "      dtype='object')"
      ]
     },
     "execution_count": 5,
     "metadata": {},
     "output_type": "execute_result"
    }
   ],
   "source": [
    "# Parse the response.\n",
    "# The response is in XML format. We’ll use an XML parser to parse the response\n",
    "ns = { 'r':'http://www.w3.org/2005/Atom'}\n",
    "root = ET.fromstring(resp.text)\n",
    "\n",
    "# Construct the dataframe from the response\n",
    "all_papers = list()\n",
    "entries = root.findall('r:entry',namespaces=ns)\n",
    "for entry in entries :\n",
    "    all_papers.append({l.tag[l.tag.index('}')+1:] :l.text for l in entry})\n",
    "\n",
    "all_papers_df=pd.DataFrame(all_papers)\n",
    "all_papers_df.columns"
   ]
  },
  {
   "cell_type": "code",
   "execution_count": 6,
   "metadata": {},
   "outputs": [
    {
     "data": {
      "text/plain": [
       "407"
      ]
     },
     "execution_count": 6,
     "metadata": {},
     "output_type": "execute_result"
    }
   ],
   "source": [
    "len(all_papers_df) # Seems to give different lengths everytime"
   ]
  },
  {
   "cell_type": "code",
   "execution_count": 7,
   "metadata": {},
   "outputs": [
    {
     "data": {
      "text/plain": [
       "(407, 407)"
      ]
     },
     "execution_count": 7,
     "metadata": {},
     "output_type": "execute_result"
    }
   ],
   "source": [
    "all_papers_df['primary_category'].isna().sum(), all_papers_df['category'].isna().sum() "
   ]
  },
  {
   "cell_type": "code",
   "execution_count": 8,
   "metadata": {},
   "outputs": [
    {
     "data": {
      "text/plain": [
       "(360, 337)"
      ]
     },
     "execution_count": 8,
     "metadata": {},
     "output_type": "execute_result"
    }
   ],
   "source": [
    "all_papers_df['journal_ref'].isna().sum(), all_papers_df['doi'].isna().sum()"
   ]
  },
  {
   "cell_type": "code",
   "execution_count": 9,
   "metadata": {},
   "outputs": [],
   "source": [
    "# Joining the titles and the abstracts \n",
    "all_papers_df['title & abstract'] = all_papers_df['title'] + ' ' + all_papers_df['summary']\n",
    "\n",
    "# Converting to datetime format\n",
    "all_papers_df['year'] = pd.to_datetime(all_papers_df['published']).dt.year"
   ]
  },
  {
   "cell_type": "code",
   "execution_count": 10,
   "metadata": {},
   "outputs": [],
   "source": [
    "# Removing dates till 2012 in post-filtering as only 'updated' and 'published' parameters are there\n",
    "all_papers_df = all_papers_df[all_papers_df.year > 2012]"
   ]
  },
  {
   "cell_type": "code",
   "execution_count": 11,
   "metadata": {},
   "outputs": [
    {
     "name": "stdout",
     "output_type": "stream",
     "text": [
      "CPU times: user 1 µs, sys: 1 µs, total: 2 µs\n",
      "Wall time: 3.1 µs\n"
     ]
    },
    {
     "data": {
      "text/html": [
       "<div>\n",
       "<style scoped>\n",
       "    .dataframe tbody tr th:only-of-type {\n",
       "        vertical-align: middle;\n",
       "    }\n",
       "\n",
       "    .dataframe tbody tr th {\n",
       "        vertical-align: top;\n",
       "    }\n",
       "\n",
       "    .dataframe thead th {\n",
       "        text-align: right;\n",
       "    }\n",
       "</style>\n",
       "<table border=\"1\" class=\"dataframe\">\n",
       "  <thead>\n",
       "    <tr style=\"text-align: right;\">\n",
       "      <th></th>\n",
       "      <th>year</th>\n",
       "      <th>title</th>\n",
       "      <th>summary</th>\n",
       "    </tr>\n",
       "  </thead>\n",
       "  <tbody>\n",
       "    <tr>\n",
       "      <th>398</th>\n",
       "      <td>2022</td>\n",
       "      <td>Adaptive Fairness-Aware Online Meta-Learning f...</td>\n",
       "      <td>The fairness-aware online learning framework...</td>\n",
       "    </tr>\n",
       "    <tr>\n",
       "      <th>399</th>\n",
       "      <td>2016</td>\n",
       "      <td>Surveying Turkish high school and university s...</td>\n",
       "      <td>Student attitudes and approaches to problem ...</td>\n",
       "    </tr>\n",
       "    <tr>\n",
       "      <th>400</th>\n",
       "      <td>2020</td>\n",
       "      <td>Large image datasets: A pyrrhic win for comput...</td>\n",
       "      <td>In this paper we investigate problematic pra...</td>\n",
       "    </tr>\n",
       "  </tbody>\n",
       "</table>\n",
       "</div>"
      ],
      "text/plain": [
       "     year                                              title  \\\n",
       "398  2022  Adaptive Fairness-Aware Online Meta-Learning f...   \n",
       "399  2016  Surveying Turkish high school and university s...   \n",
       "400  2020  Large image datasets: A pyrrhic win for comput...   \n",
       "\n",
       "                                               summary  \n",
       "398    The fairness-aware online learning framework...  \n",
       "399    Student attitudes and approaches to problem ...  \n",
       "400    In this paper we investigate problematic pra...  "
      ]
     },
     "execution_count": 11,
     "metadata": {},
     "output_type": "execute_result"
    }
   ],
   "source": [
    "import datetime\n",
    "%time\n",
    "def initial_process(df):\n",
    "    data = df.copy()\n",
    "    data = data[~data['summary'].isnull()]  # Remove rows with empty content\n",
    "\n",
    "    # Select contents of length between 140 and 2000 characters.\n",
    "    data = data[(data.summary.map(len) > 140) & (data.summary.map(len) <= 2000)]\n",
    "    data.reset_index(inplace=True, drop=True)\n",
    "\n",
    "    # collecting 10000 random sample for computational ease\n",
    "    #data = data.sample(10000, random_state=2021)\n",
    "    #data.reset_index(inplace=True, drop=True)\n",
    "    \n",
    "\n",
    "    # aligning the columns in order of requirement\n",
    "    data = data[['year', 'title', 'summary']]\n",
    "    # renaming date -> date_of_news\n",
    "    #data.rename(columns = {'date': 'date_of_news'}, inplace = True)\n",
    "    return (data)\n",
    "\n",
    "data = initial_process(all_papers_df)\n",
    "data.tail(3)"
   ]
  },
  {
   "cell_type": "code",
   "execution_count": 12,
   "metadata": {},
   "outputs": [
    {
     "data": {
      "image/png": "[encoded data removed]",
      "text/plain": [
       "<Figure size 1000x600 with 1 Axes>"
      ]
     },
     "metadata": {},
     "output_type": "display_data"
    }
   ],
   "source": [
    "years = data['year'].value_counts().to_frame()[:30]\n",
    "years.sort_values(by='year', ascending=True).plot(\n",
    "    kind = 'barh', colormap='jet', legend=False, figsize=(10, 6));\n",
    "plt.grid(True)"
   ]
  },
  {
   "cell_type": "code",
   "execution_count": 13,
   "metadata": {},
   "outputs": [
    {
     "data": {
      "application/vnd.plotly.v1+json": {
       "config": {
        "plotlyServerURL": "https://plot.ly"
       },
       "data": [
        {
         "alignmentgroup": "True",
         "hovertemplate": "year=%{x}<br>count=%{marker.color}<extra></extra>",
         "legendgroup": "",
         "marker": {
          "color": [
           5,
           1,
           73,
           8,
           78,
           52,
           33,
           19,
           74,
           47,
           11
          ],
          "coloraxis": "coloraxis",
          "pattern": {
           "shape": ""
          }
         },
         "name": "",
         "offsetgroup": "",
         "orientation": "v",
         "showlegend": false,
         "text": [
          5,
          1,
          73,
          8,
          78,
          52,
          33,
          19,
          74,
          47,
          11
         ],
         "textposition": "outside",
         "type": "bar",
         "x": [
          2013,
          2014,
          2015,
          2016,
          2017,
          2018,
          2019,
          2020,
          2021,
          2022,
          2023
         ],
         "xaxis": "x",
         "y": [
          5,
          1,
          73,
          8,
          78,
          52,
          33,
          19,
          74,
          47,
          11
         ],
         "yaxis": "y"
        }
       ],
       "layout": {
        "barmode": "relative",
        "coloraxis": {
         "colorbar": {
          "title": {
           "text": "count"
          }
         },
         "colorscale": [
          [
           0,
           "#0d0887"
          ],
          [
           0.1111111111111111,
           "#46039f"
          ],
          [
           0.2222222222222222,
           "#7201a8"
          ],
          [
           0.3333333333333333,
           "#9c179e"
          ],
          [
           0.4444444444444444,
           "#bd3786"
          ],
          [
           0.5555555555555556,
           "#d8576b"
          ],
          [
           0.6666666666666666,
           "#ed7953"
          ],
          [
           0.7777777777777778,
           "#fb9f3a"
          ],
          [
           0.8888888888888888,
           "#fdca26"
          ],
          [
           1,
           "#f0f921"
          ]
         ],
         "showscale": false
        },
        "legend": {
         "tracegroupgap": 0
        },
        "margin": {
         "t": 60
        },
        "showlegend": false,
        "template": {
         "data": {
          "bar": [
           {
            "error_x": {
             "color": "#2a3f5f"
            },
            "error_y": {
             "color": "#2a3f5f"
            },
            "marker": {
             "line": {
              "color": "#E5ECF6",
              "width": 0.5
             },
             "pattern": {
              "fillmode": "overlay",
              "size": 10,
              "solidity": 0.2
             }
            },
            "type": "bar"
           }
          ],
          "barpolar": [
           {
            "marker": {
             "line": {
              "color": "#E5ECF6",
              "width": 0.5
             },
             "pattern": {
              "fillmode": "overlay",
              "size": 10,
              "solidity": 0.2
             }
            },
            "type": "barpolar"
           }
          ],
          "carpet": [
           {
            "aaxis": {
             "endlinecolor": "#2a3f5f",
             "gridcolor": "white",
             "linecolor": "white",
             "minorgridcolor": "white",
             "startlinecolor": "#2a3f5f"
            },
            "baxis": {
             "endlinecolor": "#2a3f5f",
             "gridcolor": "white",
             "linecolor": "white",
             "minorgridcolor": "white",
             "startlinecolor": "#2a3f5f"
            },
            "type": "carpet"
           }
          ],
          "choropleth": [
           {
            "colorbar": {
             "outlinewidth": 0,
             "ticks": ""
            },
            "type": "choropleth"
           }
          ],
          "contour": [
           {
            "colorbar": {
             "outlinewidth": 0,
             "ticks": ""
            },
            "colorscale": [
             [
              0,
              "#0d0887"
             ],
             [
              0.1111111111111111,
              "#46039f"
             ],
             [
              0.2222222222222222,
              "#7201a8"
             ],
             [
              0.3333333333333333,
              "#9c179e"
             ],
             [
              0.4444444444444444,
              "#bd3786"
             ],
             [
              0.5555555555555556,
              "#d8576b"
             ],
             [
              0.6666666666666666,
              "#ed7953"
             ],
             [
              0.7777777777777778,
              "#fb9f3a"
             ],
             [
              0.8888888888888888,
              "#fdca26"
             ],
             [
              1,
              "#f0f921"
             ]
            ],
            "type": "contour"
           }
          ],
          "contourcarpet": [
           {
            "colorbar": {
             "outlinewidth": 0,
             "ticks": ""
            },
            "type": "contourcarpet"
           }
          ],
          "heatmap": [
           {
            "colorbar": {
             "outlinewidth": 0,
             "ticks": ""
            },
            "colorscale": [
             [
              0,
              "#0d0887"
             ],
             [
              0.1111111111111111,
              "#46039f"
             ],
             [
              0.2222222222222222,
              "#7201a8"
             ],
             [
              0.3333333333333333,
              "#9c179e"
             ],
             [
              0.4444444444444444,
              "#bd3786"
             ],
             [
              0.5555555555555556,
              "#d8576b"
             ],
             [
              0.6666666666666666,
              "#ed7953"
             ],
             [
              0.7777777777777778,
              "#fb9f3a"
             ],
             [
              0.8888888888888888,
              "#fdca26"
             ],
             [
              1,
              "#f0f921"
             ]
            ],
            "type": "heatmap"
           }
          ],
          "heatmapgl": [
           {
            "colorbar": {
             "outlinewidth": 0,
             "ticks": ""
            },
            "colorscale": [
             [
              0,
              "#0d0887"
             ],
             [
              0.1111111111111111,
              "#46039f"
             ],
             [
              0.2222222222222222,
              "#7201a8"
             ],
             [
              0.3333333333333333,
              "#9c179e"
             ],
             [
              0.4444444444444444,
              "#bd3786"
             ],
             [
              0.5555555555555556,
              "#d8576b"
             ],
             [
              0.6666666666666666,
              "#ed7953"
             ],
             [
              0.7777777777777778,
              "#fb9f3a"
             ],
             [
              0.8888888888888888,
              "#fdca26"
             ],
             [
              1,
              "#f0f921"
             ]
            ],
            "type": "heatmapgl"
           }
          ],
          "histogram": [
           {
            "marker": {
             "pattern": {
              "fillmode": "overlay",
              "size": 10,
              "solidity": 0.2
             }
            },
            "type": "histogram"
           }
          ],
          "histogram2d": [
           {
            "colorbar": {
             "outlinewidth": 0,
             "ticks": ""
            },
            "colorscale": [
             [
              0,
              "#0d0887"
             ],
             [
              0.1111111111111111,
              "#46039f"
             ],
             [
              0.2222222222222222,
              "#7201a8"
             ],
             [
              0.3333333333333333,
              "#9c179e"
             ],
             [
              0.4444444444444444,
              "#bd3786"
             ],
             [
              0.5555555555555556,
              "#d8576b"
             ],
             [
              0.6666666666666666,
              "#ed7953"
             ],
             [
              0.7777777777777778,
              "#fb9f3a"
             ],
             [
              0.8888888888888888,
              "#fdca26"
             ],
             [
              1,
              "#f0f921"
             ]
            ],
            "type": "histogram2d"
           }
          ],
          "histogram2dcontour": [
           {
            "colorbar": {
             "outlinewidth": 0,
             "ticks": ""
            },
            "colorscale": [
             [
              0,
              "#0d0887"
             ],
             [
              0.1111111111111111,
              "#46039f"
             ],
             [
              0.2222222222222222,
              "#7201a8"
             ],
             [
              0.3333333333333333,
              "#9c179e"
             ],
             [
              0.4444444444444444,
              "#bd3786"
             ],
             [
              0.5555555555555556,
              "#d8576b"
             ],
             [
              0.6666666666666666,
              "#ed7953"
             ],
             [
              0.7777777777777778,
              "#fb9f3a"
             ],
             [
              0.8888888888888888,
              "#fdca26"
             ],
             [
              1,
              "#f0f921"
             ]
            ],
            "type": "histogram2dcontour"
           }
          ],
          "mesh3d": [
           {
            "colorbar": {
             "outlinewidth": 0,
             "ticks": ""
            },
            "type": "mesh3d"
           }
          ],
          "parcoords": [
           {
            "line": {
             "colorbar": {
              "outlinewidth": 0,
              "ticks": ""
             }
            },
            "type": "parcoords"
           }
          ],
          "pie": [
           {
            "automargin": true,
            "type": "pie"
           }
          ],
          "scatter": [
           {
            "fillpattern": {
             "fillmode": "overlay",
             "size": 10,
             "solidity": 0.2
            },
            "type": "scatter"
           }
          ],
          "scatter3d": [
           {
            "line": {
             "colorbar": {
              "outlinewidth": 0,
              "ticks": ""
             }
            },
            "marker": {
             "colorbar": {
              "outlinewidth": 0,
              "ticks": ""
             }
            },
            "type": "scatter3d"
           }
          ],
          "scattercarpet": [
           {
            "marker": {
             "colorbar": {
              "outlinewidth": 0,
              "ticks": ""
             }
            },
            "type": "scattercarpet"
           }
          ],
          "scattergeo": [
           {
            "marker": {
             "colorbar": {
              "outlinewidth": 0,
              "ticks": ""
             }
            },
            "type": "scattergeo"
           }
          ],
          "scattergl": [
           {
            "marker": {
             "colorbar": {
              "outlinewidth": 0,
              "ticks": ""
             }
            },
            "type": "scattergl"
           }
          ],
          "scattermapbox": [
           {
            "marker": {
             "colorbar": {
              "outlinewidth": 0,
              "ticks": ""
             }
            },
            "type": "scattermapbox"
           }
          ],
          "scatterpolar": [
           {
            "marker": {
             "colorbar": {
              "outlinewidth": 0,
              "ticks": ""
             }
            },
            "type": "scatterpolar"
           }
          ],
          "scatterpolargl": [
           {
            "marker": {
             "colorbar": {
              "outlinewidth": 0,
              "ticks": ""
             }
            },
            "type": "scatterpolargl"
           }
          ],
          "scatterternary": [
           {
            "marker": {
             "colorbar": {
              "outlinewidth": 0,
              "ticks": ""
             }
            },
            "type": "scatterternary"
           }
          ],
          "surface": [
           {
            "colorbar": {
             "outlinewidth": 0,
             "ticks": ""
            },
            "colorscale": [
             [
              0,
              "#0d0887"
             ],
             [
              0.1111111111111111,
              "#46039f"
             ],
             [
              0.2222222222222222,
              "#7201a8"
             ],
             [
              0.3333333333333333,
              "#9c179e"
             ],
             [
              0.4444444444444444,
              "#bd3786"
             ],
             [
              0.5555555555555556,
              "#d8576b"
             ],
             [
              0.6666666666666666,
              "#ed7953"
             ],
             [
              0.7777777777777778,
              "#fb9f3a"
             ],
             [
              0.8888888888888888,
              "#fdca26"
             ],
             [
              1,
              "#f0f921"
             ]
            ],
            "type": "surface"
           }
          ],
          "table": [
           {
            "cells": {
             "fill": {
              "color": "#EBF0F8"
             },
             "line": {
              "color": "white"
             }
            },
            "header": {
             "fill": {
              "color": "#C8D4E3"
             },
             "line": {
              "color": "white"
             }
            },
            "type": "table"
           }
          ]
         },
         "layout": {
          "annotationdefaults": {
           "arrowcolor": "#2a3f5f",
           "arrowhead": 0,
           "arrowwidth": 1
          },
          "autotypenumbers": "strict",
          "coloraxis": {
           "colorbar": {
            "outlinewidth": 0,
            "ticks": ""
           }
          },
          "colorscale": {
           "diverging": [
            [
             0,
             "#8e0152"
            ],
            [
             0.1,
             "#c51b7d"
            ],
            [
             0.2,
             "#de77ae"
            ],
            [
             0.3,
             "#f1b6da"
            ],
            [
             0.4,
             "#fde0ef"
            ],
            [
             0.5,
             "#f7f7f7"
            ],
            [
             0.6,
             "#e6f5d0"
            ],
            [
             0.7,
             "#b8e186"
            ],
            [
             0.8,
             "#7fbc41"
            ],
            [
             0.9,
             "#4d9221"
            ],
            [
             1,
             "#276419"
            ]
           ],
           "sequential": [
            [
             0,
             "#0d0887"
            ],
            [
             0.1111111111111111,
             "#46039f"
            ],
            [
             0.2222222222222222,
             "#7201a8"
            ],
            [
             0.3333333333333333,
             "#9c179e"
            ],
            [
             0.4444444444444444,
             "#bd3786"
            ],
            [
             0.5555555555555556,
             "#d8576b"
            ],
            [
             0.6666666666666666,
             "#ed7953"
            ],
            [
             0.7777777777777778,
             "#fb9f3a"
            ],
            [
             0.8888888888888888,
             "#fdca26"
            ],
            [
             1,
             "#f0f921"
            ]
           ],
           "sequentialminus": [
            [
             0,
             "#0d0887"
            ],
            [
             0.1111111111111111,
             "#46039f"
            ],
            [
             0.2222222222222222,
             "#7201a8"
            ],
            [
             0.3333333333333333,
             "#9c179e"
            ],
            [
             0.4444444444444444,
             "#bd3786"
            ],
            [
             0.5555555555555556,
             "#d8576b"
            ],
            [
             0.6666666666666666,
             "#ed7953"
            ],
            [
             0.7777777777777778,
             "#fb9f3a"
            ],
            [
             0.8888888888888888,
             "#fdca26"
            ],
            [
             1,
             "#f0f921"
            ]
           ]
          },
          "colorway": [
           "#636efa",
           "#EF553B",
           "#00cc96",
           "#ab63fa",
           "#FFA15A",
           "#19d3f3",
           "#FF6692",
           "#B6E880",
           "#FF97FF",
           "#FECB52"
          ],
          "font": {
           "color": "#2a3f5f"
          },
          "geo": {
           "bgcolor": "white",
           "lakecolor": "white",
           "landcolor": "#E5ECF6",
           "showlakes": true,
           "showland": true,
           "subunitcolor": "white"
          },
          "hoverlabel": {
           "align": "left"
          },
          "hovermode": "closest",
          "mapbox": {
           "style": "light"
          },
          "paper_bgcolor": "white",
          "plot_bgcolor": "#E5ECF6",
          "polar": {
           "angularaxis": {
            "gridcolor": "white",
            "linecolor": "white",
            "ticks": ""
           },
           "bgcolor": "#E5ECF6",
           "radialaxis": {
            "gridcolor": "white",
            "linecolor": "white",
            "ticks": ""
           }
          },
          "scene": {
           "xaxis": {
            "backgroundcolor": "#E5ECF6",
            "gridcolor": "white",
            "gridwidth": 2,
            "linecolor": "white",
            "showbackground": true,
            "ticks": "",
            "zerolinecolor": "white"
           },
           "yaxis": {
            "backgroundcolor": "#E5ECF6",
            "gridcolor": "white",
            "gridwidth": 2,
            "linecolor": "white",
            "showbackground": true,
            "ticks": "",
            "zerolinecolor": "white"
           },
           "zaxis": {
            "backgroundcolor": "#E5ECF6",
            "gridcolor": "white",
            "gridwidth": 2,
            "linecolor": "white",
            "showbackground": true,
            "ticks": "",
            "zerolinecolor": "white"
           }
          },
          "shapedefaults": {
           "line": {
            "color": "#2a3f5f"
           }
          },
          "ternary": {
           "aaxis": {
            "gridcolor": "white",
            "linecolor": "white",
            "ticks": ""
           },
           "baxis": {
            "gridcolor": "white",
            "linecolor": "white",
            "ticks": ""
           },
           "bgcolor": "#E5ECF6",
           "caxis": {
            "gridcolor": "white",
            "linecolor": "white",
            "ticks": ""
           }
          },
          "title": {
           "x": 0.05
          },
          "xaxis": {
           "automargin": true,
           "gridcolor": "white",
           "linecolor": "white",
           "ticks": "",
           "title": {
            "standoff": 15
           },
           "zerolinecolor": "white",
           "zerolinewidth": 2
          },
          "yaxis": {
           "automargin": true,
           "gridcolor": "white",
           "linecolor": "white",
           "ticks": "",
           "title": {
            "standoff": 15
           },
           "zerolinecolor": "white",
           "zerolinewidth": 2
          }
         }
        },
        "title": {
         "text": "Number of preprints by years",
         "x": 0.5,
         "y": 0.92
        },
        "uniformtext": {
         "minsize": 8,
         "mode": "hide"
        },
        "xaxis": {
         "anchor": "y",
         "domain": [
          0,
          1
         ],
         "tickmode": "array",
         "ticktext": [
          2013,
          2014,
          2015,
          2016,
          2017,
          2018,
          2019,
          2020,
          2021,
          2022,
          2023
         ],
         "tickvals": [
          2013,
          2014,
          2015,
          2016,
          2017,
          2018,
          2019,
          2020,
          2021,
          2022,
          2023
         ],
         "title": {
          "text": "year"
         }
        },
        "yaxis": {
         "anchor": "x",
         "categoryorder": "total ascending",
         "domain": [
          0,
          1
         ],
         "range": [
          0,
          90
         ],
         "title": {
          "text": "count"
         }
        }
       }
      }
     },
     "metadata": {},
     "output_type": "display_data"
    }
   ],
   "source": [
    "df_pub_years = pd.DataFrame({\n",
    "    'year': data['year'].dropna().unique(),\n",
    "    'count': data['year'].value_counts().tolist()\n",
    "})\n",
    "df_pub_years = df_pub_years.sort_values(by='year', ascending=True)\n",
    "tick_val = df_pub_years.year.to_list()\n",
    "\n",
    "fig = px.bar(df_pub_years, x=\"year\", y=\"count\", color= \"count\", \n",
    "            hover_data=['year'], text ='count')\n",
    "fig.update_layout(yaxis={'categoryorder':'total ascending'})\n",
    "fig.update_layout(uniformtext_minsize=8, uniformtext_mode='hide')\n",
    "fig.update_traces(textposition='outside')\n",
    "fig.update_layout(title_text='Number of preprints by years', title_x=0.5, title_y=0.92,\n",
    "    showlegend=False)\n",
    "fig.update_yaxes(range=[0,90])\n",
    "fig.update_layout(\n",
    "    xaxis = dict(\n",
    "        tickmode = 'array',\n",
    "        tickvals = tick_val,\n",
    "        ticktext = tick_val\n",
    "    )\n",
    ")\n",
    "fig.update_coloraxes(showscale=False)\n",
    "\n",
    "fig.show()"
   ]
  },
  {
   "cell_type": "code",
   "execution_count": 14,
   "metadata": {},
   "outputs": [
    {
     "data": {
      "image/png": "[encoded data removed]",
      "text/plain": [
       "<Figure size 800x400 with 1 Axes>"
      ]
     },
     "metadata": {},
     "output_type": "display_data"
    }
   ],
   "source": [
    "f, ax = plt.subplots(figsize=(8, 4))\n",
    "palette = sns.color_palette(\"muted\")\n",
    "p = sns.barplot(x=\"year\", y=\"count\", data=df_pub_years,\n",
    "            label=\"count\", palette=palette)\n",
    "ax.set(ylim=(0, 85))\n",
    "# new helper method to auto-label bars\n",
    "ax.bar_label(ax.containers[0], fontsize=8, padding=1.5)\n",
    "sns.despine(left=True, bottom=True)\n",
    "p.set_xlabel(\"Number of published manuscripts by years\", fontsize=10)\n",
    "p.set_ylabel(\"\",fontsize=10)\n",
    "# disabling yticks by setting yticks to an empty list\n",
    "plt.yticks([]) \n",
    "p.tick_params(labelsize=8)"
   ]
  },
  {
   "attachments": {},
   "cell_type": "markdown",
   "metadata": {},
   "source": [
    "### Further preprocessing"
   ]
  },
  {
   "cell_type": "code",
   "execution_count": 15,
   "metadata": {},
   "outputs": [
    {
     "name": "stdout",
     "output_type": "stream",
     "text": [
      "CPU times: user 1 µs, sys: 0 ns, total: 1 µs\n",
      "Wall time: 1.67 µs\n"
     ]
    },
    {
     "data": {
      "text/html": [
       "<div>\n",
       "<style scoped>\n",
       "    .dataframe tbody tr th:only-of-type {\n",
       "        vertical-align: middle;\n",
       "    }\n",
       "\n",
       "    .dataframe tbody tr th {\n",
       "        vertical-align: top;\n",
       "    }\n",
       "\n",
       "    .dataframe thead th {\n",
       "        text-align: right;\n",
       "    }\n",
       "</style>\n",
       "<table border=\"1\" class=\"dataframe\">\n",
       "  <thead>\n",
       "    <tr style=\"text-align: right;\">\n",
       "      <th></th>\n",
       "      <th>year</th>\n",
       "      <th>title</th>\n",
       "      <th>summary</th>\n",
       "      <th>processedsummary</th>\n",
       "    </tr>\n",
       "  </thead>\n",
       "  <tbody>\n",
       "    <tr>\n",
       "      <th>0</th>\n",
       "      <td>2017</td>\n",
       "      <td>Wearing Many (Social) Hats: How Different are ...</td>\n",
       "      <td>This paper investigates when users create pr...</td>\n",
       "      <td>this paper investigates when users create prof...</td>\n",
       "    </tr>\n",
       "    <tr>\n",
       "      <th>1</th>\n",
       "      <td>2021</td>\n",
       "      <td>Benchmark dataset of memes with text transcrip...</td>\n",
       "      <td>In this paper we present a benchmark dataset...</td>\n",
       "      <td>in this paper we present a benchmark dataset g...</td>\n",
       "    </tr>\n",
       "    <tr>\n",
       "      <th>2</th>\n",
       "      <td>2015</td>\n",
       "      <td>Ang Social Network sa Facebook ng mga Taga-Bat...</td>\n",
       "      <td>Online social networking (OSN) has become of...</td>\n",
       "      <td>online social networking osn has become of gre...</td>\n",
       "    </tr>\n",
       "  </tbody>\n",
       "</table>\n",
       "</div>"
      ],
      "text/plain": [
       "   year                                              title  \\\n",
       "0  2017  Wearing Many (Social) Hats: How Different are ...   \n",
       "1  2021  Benchmark dataset of memes with text transcrip...   \n",
       "2  2015  Ang Social Network sa Facebook ng mga Taga-Bat...   \n",
       "\n",
       "                                             summary  \\\n",
       "0    This paper investigates when users create pr...   \n",
       "1    In this paper we present a benchmark dataset...   \n",
       "2    Online social networking (OSN) has become of...   \n",
       "\n",
       "                                    processedsummary  \n",
       "0  this paper investigates when users create prof...  \n",
       "1  in this paper we present a benchmark dataset g...  \n",
       "2  online social networking osn has become of gre...  "
      ]
     },
     "execution_count": 15,
     "metadata": {},
     "output_type": "execute_result"
    }
   ],
   "source": [
    "%time\n",
    "def preProcess(text):\n",
    "    #  Remove non-ASCII characters\n",
    "    text = text.encode('ascii', 'ignore').decode('utf-8', 'ignore').lower()                   # lower case lowers the sparsity of the data\n",
    "  \n",
    "    # remove numbers\n",
    "    text = re.sub(r'\\d+', '', str(text))\n",
    "\n",
    "    # removing salutaions (if any)\n",
    "    text = re.sub(\"Mr\\.\",'Mr',  str(text))\n",
    "    text = re.sub(\"Mrs\\.\",'Mrs',str(text))\n",
    "\n",
    "    text = re.sub(r\"what's\", \"what is \", text)\n",
    "    text = re.sub(r'won\\'t', 'will not', text)\n",
    "    text = text.replace('(ap)', '')\n",
    "    text = re.sub(r\"\\'s\", \" is \", text)\n",
    "    text = re.sub(r'(\\w+)\\'s', '\\g<1> is', text)\n",
    "    text = re.sub(r'(\\w+)\\'ve', '\\g<1> have', text)\n",
    "    text = re.sub(r\"can't\", \"cannot \", text)\n",
    "    text = re.sub(r\"n't\", \" not \", text)\n",
    "    text = re.sub(r\"i'm\", \"i am \", text)\n",
    "    text = re.sub(r\"\\'re\", \" are \", text)\n",
    "    text = re.sub(r\"\\'d\", \" would \", text)\n",
    "    text = re.sub(r\"\\'ll\", \" will \", text)\n",
    "\n",
    "   \n",
    "    # substitute multiple whitespace with single whitespace\n",
    "    # Also, removes leading and trailing whitespaces\n",
    "    text = re.sub(r'\\W+', ' ', text)\n",
    "    text = re.sub(r'\\s+', ' ', text)\n",
    "  \n",
    "    # removing any reference to outside text\n",
    "    text = re.sub(r\"\\\\\", \"\", text)\n",
    "    text = re.sub(r\"\\'\", \"\", text)    \n",
    "    text = re.sub(r\"\\\"\", \"\", text)\n",
    "\n",
    "    text = text.strip()\n",
    "    return text\n",
    "\n",
    "# preprocessing texts\n",
    "data['processedsummary'] = data['summary'].apply(preProcess)\n",
    "data.head(3)"
   ]
  },
  {
   "attachments": {},
   "cell_type": "markdown",
   "metadata": {},
   "source": [
    "##### Removing rare words"
   ]
  },
  {
   "cell_type": "code",
   "execution_count": 16,
   "metadata": {},
   "outputs": [
    {
     "name": "stdout",
     "output_type": "stream",
     "text": [
      "CPU times: user 1e+03 ns, sys: 0 ns, total: 1e+03 ns\n",
      "Wall time: 1.91 µs\n"
     ]
    },
    {
     "data": {
      "text/html": [
       "<div>\n",
       "<style scoped>\n",
       "    .dataframe tbody tr th:only-of-type {\n",
       "        vertical-align: middle;\n",
       "    }\n",
       "\n",
       "    .dataframe tbody tr th {\n",
       "        vertical-align: top;\n",
       "    }\n",
       "\n",
       "    .dataframe thead th {\n",
       "        text-align: right;\n",
       "    }\n",
       "</style>\n",
       "<table border=\"1\" class=\"dataframe\">\n",
       "  <thead>\n",
       "    <tr style=\"text-align: right;\">\n",
       "      <th></th>\n",
       "      <th>year</th>\n",
       "      <th>title</th>\n",
       "      <th>summary</th>\n",
       "      <th>processedsummary</th>\n",
       "    </tr>\n",
       "  </thead>\n",
       "  <tbody>\n",
       "    <tr>\n",
       "      <th>0</th>\n",
       "      <td>2017</td>\n",
       "      <td>Wearing Many (Social) Hats: How Different are ...</td>\n",
       "      <td>This paper investigates when users create pr...</td>\n",
       "      <td>this paper investigates when users create prof...</td>\n",
       "    </tr>\n",
       "    <tr>\n",
       "      <th>1</th>\n",
       "      <td>2021</td>\n",
       "      <td>Benchmark dataset of memes with text transcrip...</td>\n",
       "      <td>In this paper we present a benchmark dataset...</td>\n",
       "      <td>in this paper we present a benchmark dataset g...</td>\n",
       "    </tr>\n",
       "    <tr>\n",
       "      <th>2</th>\n",
       "      <td>2015</td>\n",
       "      <td>Ang Social Network sa Facebook ng mga Taga-Bat...</td>\n",
       "      <td>Online social networking (OSN) has become of...</td>\n",
       "      <td>online social networking osn has become of gre...</td>\n",
       "    </tr>\n",
       "  </tbody>\n",
       "</table>\n",
       "</div>"
      ],
      "text/plain": [
       "   year                                              title  \\\n",
       "0  2017  Wearing Many (Social) Hats: How Different are ...   \n",
       "1  2021  Benchmark dataset of memes with text transcrip...   \n",
       "2  2015  Ang Social Network sa Facebook ng mga Taga-Bat...   \n",
       "\n",
       "                                             summary  \\\n",
       "0    This paper investigates when users create pr...   \n",
       "1    In this paper we present a benchmark dataset...   \n",
       "2    Online social networking (OSN) has become of...   \n",
       "\n",
       "                                    processedsummary  \n",
       "0  this paper investigates when users create prof...  \n",
       "1  in this paper we present a benchmark dataset g...  \n",
       "2  online social networking osn has become of gre...  "
      ]
     },
     "execution_count": 16,
     "metadata": {},
     "output_type": "execute_result"
    }
   ],
   "source": [
    "%time\n",
    "num_of_rare_words = 25\n",
    "RARE_WORDS = set([w for (w, wc) in collections.Counter().most_common()[:-num_of_rare_words-1:-1]])\n",
    "def remove_rare_words(text):\n",
    "    return \" \".join([word for word in str(text).split() if word not in RARE_WORDS])\n",
    "\n",
    "data[\"processedsummary\"] = data[\"processedsummary\"].apply(lambda text: remove_rare_words(text))\n",
    "data.head(3)"
   ]
  },
  {
   "attachments": {},
   "cell_type": "markdown",
   "metadata": {},
   "source": [
    "##### Frequent words removal"
   ]
  },
  {
   "cell_type": "code",
   "execution_count": 17,
   "metadata": {},
   "outputs": [
    {
     "name": "stdout",
     "output_type": "stream",
     "text": [
      "CPU times: user 0 ns, sys: 0 ns, total: 0 ns\n",
      "Wall time: 1.91 µs\n"
     ]
    },
    {
     "data": {
      "text/html": [
       "<div>\n",
       "<style scoped>\n",
       "    .dataframe tbody tr th:only-of-type {\n",
       "        vertical-align: middle;\n",
       "    }\n",
       "\n",
       "    .dataframe tbody tr th {\n",
       "        vertical-align: top;\n",
       "    }\n",
       "\n",
       "    .dataframe thead th {\n",
       "        text-align: right;\n",
       "    }\n",
       "</style>\n",
       "<table border=\"1\" class=\"dataframe\">\n",
       "  <thead>\n",
       "    <tr style=\"text-align: right;\">\n",
       "      <th></th>\n",
       "      <th>year</th>\n",
       "      <th>title</th>\n",
       "      <th>summary</th>\n",
       "      <th>processedsummary</th>\n",
       "    </tr>\n",
       "  </thead>\n",
       "  <tbody>\n",
       "    <tr>\n",
       "      <th>0</th>\n",
       "      <td>2017</td>\n",
       "      <td>Wearing Many (Social) Hats: How Different are ...</td>\n",
       "      <td>This paper investigates when users create pr...</td>\n",
       "      <td>this paper investigates when users create prof...</td>\n",
       "    </tr>\n",
       "    <tr>\n",
       "      <th>1</th>\n",
       "      <td>2021</td>\n",
       "      <td>Benchmark dataset of memes with text transcrip...</td>\n",
       "      <td>In this paper we present a benchmark dataset...</td>\n",
       "      <td>in this paper we present a benchmark dataset g...</td>\n",
       "    </tr>\n",
       "    <tr>\n",
       "      <th>2</th>\n",
       "      <td>2015</td>\n",
       "      <td>Ang Social Network sa Facebook ng mga Taga-Bat...</td>\n",
       "      <td>Online social networking (OSN) has become of...</td>\n",
       "      <td>online social networking osn has become of gre...</td>\n",
       "    </tr>\n",
       "  </tbody>\n",
       "</table>\n",
       "</div>"
      ],
      "text/plain": [
       "   year                                              title  \\\n",
       "0  2017  Wearing Many (Social) Hats: How Different are ...   \n",
       "1  2021  Benchmark dataset of memes with text transcrip...   \n",
       "2  2015  Ang Social Network sa Facebook ng mga Taga-Bat...   \n",
       "\n",
       "                                             summary  \\\n",
       "0    This paper investigates when users create pr...   \n",
       "1    In this paper we present a benchmark dataset...   \n",
       "2    Online social networking (OSN) has become of...   \n",
       "\n",
       "                                    processedsummary  \n",
       "0  this paper investigates when users create prof...  \n",
       "1  in this paper we present a benchmark dataset g...  \n",
       "2  online social networking osn has become of gre...  "
      ]
     },
     "execution_count": 17,
     "metadata": {},
     "output_type": "execute_result"
    }
   ],
   "source": [
    "%time\n",
    "FREQ_WORDS = set([w for (w, wc) in collections.Counter().most_common(25)])\n",
    "def remove_freq_words(text):\n",
    "    return \" \".join([word for word in str(text).split() if word not in FREQ_WORDS])\n",
    "\n",
    "data[\"processedsummary\"] = data[\"processedsummary\"].apply(lambda text: remove_freq_words(text))\n",
    "data.head(3)"
   ]
  },
  {
   "attachments": {},
   "cell_type": "markdown",
   "metadata": {},
   "source": [
    "##### Stopwords removal"
   ]
  },
  {
   "cell_type": "code",
   "execution_count": 18,
   "metadata": {},
   "outputs": [
    {
     "name": "stdout",
     "output_type": "stream",
     "text": [
      "CPU times: user 1 µs, sys: 1 µs, total: 2 µs\n",
      "Wall time: 2.86 µs\n"
     ]
    },
    {
     "data": {
      "text/html": [
       "<div>\n",
       "<style scoped>\n",
       "    .dataframe tbody tr th:only-of-type {\n",
       "        vertical-align: middle;\n",
       "    }\n",
       "\n",
       "    .dataframe tbody tr th {\n",
       "        vertical-align: top;\n",
       "    }\n",
       "\n",
       "    .dataframe thead th {\n",
       "        text-align: right;\n",
       "    }\n",
       "</style>\n",
       "<table border=\"1\" class=\"dataframe\">\n",
       "  <thead>\n",
       "    <tr style=\"text-align: right;\">\n",
       "      <th></th>\n",
       "      <th>year</th>\n",
       "      <th>title</th>\n",
       "      <th>summary</th>\n",
       "      <th>processedsummary</th>\n",
       "    </tr>\n",
       "  </thead>\n",
       "  <tbody>\n",
       "    <tr>\n",
       "      <th>0</th>\n",
       "      <td>2017</td>\n",
       "      <td>Wearing Many (Social) Hats: How Different are ...</td>\n",
       "      <td>This paper investigates when users create pr...</td>\n",
       "      <td>paper investigates users create profiles diffe...</td>\n",
       "    </tr>\n",
       "    <tr>\n",
       "      <th>1</th>\n",
       "      <td>2021</td>\n",
       "      <td>Benchmark dataset of memes with text transcrip...</td>\n",
       "      <td>In this paper we present a benchmark dataset...</td>\n",
       "      <td>paper present benchmark dataset generated part...</td>\n",
       "    </tr>\n",
       "    <tr>\n",
       "      <th>2</th>\n",
       "      <td>2015</td>\n",
       "      <td>Ang Social Network sa Facebook ng mga Taga-Bat...</td>\n",
       "      <td>Online social networking (OSN) has become of...</td>\n",
       "      <td>online social networking osn become great infl...</td>\n",
       "    </tr>\n",
       "    <tr>\n",
       "      <th>3</th>\n",
       "      <td>2021</td>\n",
       "      <td>Let-Mi: An Arabic Levantine Twitter Dataset fo...</td>\n",
       "      <td>Online misogyny has become an increasing wor...</td>\n",
       "      <td>online misogyny become increasing worry arab w...</td>\n",
       "    </tr>\n",
       "    <tr>\n",
       "      <th>4</th>\n",
       "      <td>2018</td>\n",
       "      <td>#ILookLikeAnEngineer: Using Social Media Based...</td>\n",
       "      <td>Each year, significant investment of time an...</td>\n",
       "      <td>year significant investment time resources mad...</td>\n",
       "    </tr>\n",
       "  </tbody>\n",
       "</table>\n",
       "</div>"
      ],
      "text/plain": [
       "   year                                              title  \\\n",
       "0  2017  Wearing Many (Social) Hats: How Different are ...   \n",
       "1  2021  Benchmark dataset of memes with text transcrip...   \n",
       "2  2015  Ang Social Network sa Facebook ng mga Taga-Bat...   \n",
       "3  2021  Let-Mi: An Arabic Levantine Twitter Dataset fo...   \n",
       "4  2018  #ILookLikeAnEngineer: Using Social Media Based...   \n",
       "\n",
       "                                             summary  \\\n",
       "0    This paper investigates when users create pr...   \n",
       "1    In this paper we present a benchmark dataset...   \n",
       "2    Online social networking (OSN) has become of...   \n",
       "3    Online misogyny has become an increasing wor...   \n",
       "4    Each year, significant investment of time an...   \n",
       "\n",
       "                                    processedsummary  \n",
       "0  paper investigates users create profiles diffe...  \n",
       "1  paper present benchmark dataset generated part...  \n",
       "2  online social networking osn become great infl...  \n",
       "3  online misogyny become increasing worry arab w...  \n",
       "4  year significant investment time resources mad...  "
      ]
     },
     "execution_count": 18,
     "metadata": {},
     "output_type": "execute_result"
    }
   ],
   "source": [
    "%time\n",
    "\n",
    "stop_words = set(stopwords.words('english'))\n",
    "\n",
    "# add words that aren't in the NLTK stopwords list\n",
    "STOPWORDS = list(stop_words)\n",
    "#print(STOPWORDS); print()\n",
    "#print(len(STOPWORDS))\n",
    "\n",
    "def remove_stopwords(text):\n",
    "    return \" \".join([word for word in str(text).split() if word not in STOPWORDS])\n",
    "\n",
    "data[\"processedsummary\"] = data[\"processedsummary\"].apply(lambda text: remove_stopwords(text))\n",
    "data.head(5)"
   ]
  },
  {
   "attachments": {},
   "cell_type": "markdown",
   "metadata": {},
   "source": [
    "##### Lemmatizing"
   ]
  },
  {
   "cell_type": "code",
   "execution_count": 19,
   "metadata": {},
   "outputs": [
    {
     "data": {
      "text/html": [
       "<div>\n",
       "<style scoped>\n",
       "    .dataframe tbody tr th:only-of-type {\n",
       "        vertical-align: middle;\n",
       "    }\n",
       "\n",
       "    .dataframe tbody tr th {\n",
       "        vertical-align: top;\n",
       "    }\n",
       "\n",
       "    .dataframe thead th {\n",
       "        text-align: right;\n",
       "    }\n",
       "</style>\n",
       "<table border=\"1\" class=\"dataframe\">\n",
       "  <thead>\n",
       "    <tr style=\"text-align: right;\">\n",
       "      <th></th>\n",
       "      <th>year</th>\n",
       "      <th>title</th>\n",
       "      <th>summary</th>\n",
       "      <th>processedsummary</th>\n",
       "    </tr>\n",
       "  </thead>\n",
       "  <tbody>\n",
       "    <tr>\n",
       "      <th>0</th>\n",
       "      <td>2017</td>\n",
       "      <td>Wearing Many (Social) Hats: How Different are ...</td>\n",
       "      <td>This paper investigates when users create pr...</td>\n",
       "      <td>paper investigates user create profile differe...</td>\n",
       "    </tr>\n",
       "    <tr>\n",
       "      <th>1</th>\n",
       "      <td>2021</td>\n",
       "      <td>Benchmark dataset of memes with text transcrip...</td>\n",
       "      <td>In this paper we present a benchmark dataset...</td>\n",
       "      <td>paper present benchmark dataset generated part...</td>\n",
       "    </tr>\n",
       "    <tr>\n",
       "      <th>2</th>\n",
       "      <td>2015</td>\n",
       "      <td>Ang Social Network sa Facebook ng mga Taga-Bat...</td>\n",
       "      <td>Online social networking (OSN) has become of...</td>\n",
       "      <td>online social networking osn become great infl...</td>\n",
       "    </tr>\n",
       "    <tr>\n",
       "      <th>3</th>\n",
       "      <td>2021</td>\n",
       "      <td>Let-Mi: An Arabic Levantine Twitter Dataset fo...</td>\n",
       "      <td>Online misogyny has become an increasing wor...</td>\n",
       "      <td>online misogyny become increasing worry arab w...</td>\n",
       "    </tr>\n",
       "    <tr>\n",
       "      <th>4</th>\n",
       "      <td>2018</td>\n",
       "      <td>#ILookLikeAnEngineer: Using Social Media Based...</td>\n",
       "      <td>Each year, significant investment of time an...</td>\n",
       "      <td>year significant investment time resource made...</td>\n",
       "    </tr>\n",
       "  </tbody>\n",
       "</table>\n",
       "</div>"
      ],
      "text/plain": [
       "   year                                              title  \\\n",
       "0  2017  Wearing Many (Social) Hats: How Different are ...   \n",
       "1  2021  Benchmark dataset of memes with text transcrip...   \n",
       "2  2015  Ang Social Network sa Facebook ng mga Taga-Bat...   \n",
       "3  2021  Let-Mi: An Arabic Levantine Twitter Dataset fo...   \n",
       "4  2018  #ILookLikeAnEngineer: Using Social Media Based...   \n",
       "\n",
       "                                             summary  \\\n",
       "0    This paper investigates when users create pr...   \n",
       "1    In this paper we present a benchmark dataset...   \n",
       "2    Online social networking (OSN) has become of...   \n",
       "3    Online misogyny has become an increasing wor...   \n",
       "4    Each year, significant investment of time an...   \n",
       "\n",
       "                                    processedsummary  \n",
       "0  paper investigates user create profile differe...  \n",
       "1  paper present benchmark dataset generated part...  \n",
       "2  online social networking osn become great infl...  \n",
       "3  online misogyny become increasing worry arab w...  \n",
       "4  year significant investment time resource made...  "
      ]
     },
     "execution_count": 19,
     "metadata": {},
     "output_type": "execute_result"
    }
   ],
   "source": [
    "wnl = WordNetLemmatizer()\n",
    "def lemmatize_words(text):\n",
    "    return \" \".join([wnl.lemmatize(word) for word in text.split()])\n",
    "\n",
    "data[\"processedsummary\"] = data[\"processedsummary\"].apply(lambda text: lemmatize_words(text))\n",
    "data.head()"
   ]
  },
  {
   "attachments": {},
   "cell_type": "markdown",
   "metadata": {},
   "source": [
    "##### Remove punctuations"
   ]
  },
  {
   "cell_type": "code",
   "execution_count": 20,
   "metadata": {},
   "outputs": [
    {
     "name": "stdout",
     "output_type": "stream",
     "text": [
      "CPU times: user 0 ns, sys: 1 µs, total: 1 µs\n",
      "Wall time: 2.62 µs\n"
     ]
    },
    {
     "data": {
      "text/html": [
       "<div>\n",
       "<style scoped>\n",
       "    .dataframe tbody tr th:only-of-type {\n",
       "        vertical-align: middle;\n",
       "    }\n",
       "\n",
       "    .dataframe tbody tr th {\n",
       "        vertical-align: top;\n",
       "    }\n",
       "\n",
       "    .dataframe thead th {\n",
       "        text-align: right;\n",
       "    }\n",
       "</style>\n",
       "<table border=\"1\" class=\"dataframe\">\n",
       "  <thead>\n",
       "    <tr style=\"text-align: right;\">\n",
       "      <th></th>\n",
       "      <th>year</th>\n",
       "      <th>title</th>\n",
       "      <th>summary</th>\n",
       "      <th>processedsummary</th>\n",
       "    </tr>\n",
       "  </thead>\n",
       "  <tbody>\n",
       "    <tr>\n",
       "      <th>0</th>\n",
       "      <td>2017</td>\n",
       "      <td>Wearing Many (Social) Hats: How Different are ...</td>\n",
       "      <td>This paper investigates when users create pr...</td>\n",
       "      <td>paper investigates user create profile differe...</td>\n",
       "    </tr>\n",
       "    <tr>\n",
       "      <th>1</th>\n",
       "      <td>2021</td>\n",
       "      <td>Benchmark dataset of memes with text transcrip...</td>\n",
       "      <td>In this paper we present a benchmark dataset...</td>\n",
       "      <td>paper present benchmark dataset generated part...</td>\n",
       "    </tr>\n",
       "    <tr>\n",
       "      <th>2</th>\n",
       "      <td>2015</td>\n",
       "      <td>Ang Social Network sa Facebook ng mga Taga-Bat...</td>\n",
       "      <td>Online social networking (OSN) has become of...</td>\n",
       "      <td>online social networking osn become great infl...</td>\n",
       "    </tr>\n",
       "    <tr>\n",
       "      <th>3</th>\n",
       "      <td>2021</td>\n",
       "      <td>Let-Mi: An Arabic Levantine Twitter Dataset fo...</td>\n",
       "      <td>Online misogyny has become an increasing wor...</td>\n",
       "      <td>online misogyny become increasing worry arab w...</td>\n",
       "    </tr>\n",
       "    <tr>\n",
       "      <th>4</th>\n",
       "      <td>2018</td>\n",
       "      <td>#ILookLikeAnEngineer: Using Social Media Based...</td>\n",
       "      <td>Each year, significant investment of time an...</td>\n",
       "      <td>year significant investment time resource made...</td>\n",
       "    </tr>\n",
       "  </tbody>\n",
       "</table>\n",
       "</div>"
      ],
      "text/plain": [
       "   year                                              title  \\\n",
       "0  2017  Wearing Many (Social) Hats: How Different are ...   \n",
       "1  2021  Benchmark dataset of memes with text transcrip...   \n",
       "2  2015  Ang Social Network sa Facebook ng mga Taga-Bat...   \n",
       "3  2021  Let-Mi: An Arabic Levantine Twitter Dataset fo...   \n",
       "4  2018  #ILookLikeAnEngineer: Using Social Media Based...   \n",
       "\n",
       "                                             summary  \\\n",
       "0    This paper investigates when users create pr...   \n",
       "1    In this paper we present a benchmark dataset...   \n",
       "2    Online social networking (OSN) has become of...   \n",
       "3    Online misogyny has become an increasing wor...   \n",
       "4    Each year, significant investment of time an...   \n",
       "\n",
       "                                    processedsummary  \n",
       "0  paper investigates user create profile differe...  \n",
       "1  paper present benchmark dataset generated part...  \n",
       "2  online social networking osn become great infl...  \n",
       "3  online misogyny become increasing worry arab w...  \n",
       "4  year significant investment time resource made...  "
      ]
     },
     "execution_count": 20,
     "metadata": {},
     "output_type": "execute_result"
    }
   ],
   "source": [
    "%time\n",
    "PUNCT_REMOVE = string.punctuation\n",
    "def remove_punctuation(text):\n",
    "    return text.translate(str.maketrans('', '', PUNCT_REMOVE))\n",
    "\n",
    "data[\"processedsummary\"] = data[\"processedsummary\"].apply(lambda text: remove_punctuation(text))\n",
    "data.head()\n"
   ]
  },
  {
   "attachments": {},
   "cell_type": "markdown",
   "metadata": {},
   "source": [
    "##### Tokenization"
   ]
  },
  {
   "cell_type": "code",
   "execution_count": 21,
   "metadata": {},
   "outputs": [
    {
     "data": {
      "text/html": [
       "<div>\n",
       "<style scoped>\n",
       "    .dataframe tbody tr th:only-of-type {\n",
       "        vertical-align: middle;\n",
       "    }\n",
       "\n",
       "    .dataframe tbody tr th {\n",
       "        vertical-align: top;\n",
       "    }\n",
       "\n",
       "    .dataframe thead th {\n",
       "        text-align: right;\n",
       "    }\n",
       "</style>\n",
       "<table border=\"1\" class=\"dataframe\">\n",
       "  <thead>\n",
       "    <tr style=\"text-align: right;\">\n",
       "      <th></th>\n",
       "      <th>year</th>\n",
       "      <th>title</th>\n",
       "      <th>summary</th>\n",
       "      <th>processedsummary</th>\n",
       "      <th>tokens</th>\n",
       "      <th>ner</th>\n",
       "    </tr>\n",
       "  </thead>\n",
       "  <tbody>\n",
       "    <tr>\n",
       "      <th>398</th>\n",
       "      <td>2022</td>\n",
       "      <td>Adaptive Fairness-Aware Online Meta-Learning f...</td>\n",
       "      <td>The fairness-aware online learning framework...</td>\n",
       "      <td>fairness aware online learning framework arise...</td>\n",
       "      <td>[fairness, aware, online, learning, framework,...</td>\n",
       "      <td>[(fairness, NN), (aware, JJ), (online, JJ), (l...</td>\n",
       "    </tr>\n",
       "    <tr>\n",
       "      <th>399</th>\n",
       "      <td>2016</td>\n",
       "      <td>Surveying Turkish high school and university s...</td>\n",
       "      <td>Student attitudes and approaches to problem ...</td>\n",
       "      <td>student attitude approach problem solving impa...</td>\n",
       "      <td>[student, attitude, approach, problem, solving...</td>\n",
       "      <td>[(student, NN), (attitude, NN), (approach, NN)...</td>\n",
       "    </tr>\n",
       "    <tr>\n",
       "      <th>400</th>\n",
       "      <td>2020</td>\n",
       "      <td>Large image datasets: A pyrrhic win for comput...</td>\n",
       "      <td>In this paper we investigate problematic pra...</td>\n",
       "      <td>paper investigate problematic practice consequ...</td>\n",
       "      <td>[paper, investigate, problematic, practice, co...</td>\n",
       "      <td>[(paper, NN), (investigate, NN), (problematic,...</td>\n",
       "    </tr>\n",
       "  </tbody>\n",
       "</table>\n",
       "</div>"
      ],
      "text/plain": [
       "     year                                              title  \\\n",
       "398  2022  Adaptive Fairness-Aware Online Meta-Learning f...   \n",
       "399  2016  Surveying Turkish high school and university s...   \n",
       "400  2020  Large image datasets: A pyrrhic win for comput...   \n",
       "\n",
       "                                               summary  \\\n",
       "398    The fairness-aware online learning framework...   \n",
       "399    Student attitudes and approaches to problem ...   \n",
       "400    In this paper we investigate problematic pra...   \n",
       "\n",
       "                                      processedsummary  \\\n",
       "398  fairness aware online learning framework arise...   \n",
       "399  student attitude approach problem solving impa...   \n",
       "400  paper investigate problematic practice consequ...   \n",
       "\n",
       "                                                tokens  \\\n",
       "398  [fairness, aware, online, learning, framework,...   \n",
       "399  [student, attitude, approach, problem, solving...   \n",
       "400  [paper, investigate, problematic, practice, co...   \n",
       "\n",
       "                                                   ner  \n",
       "398  [(fairness, NN), (aware, JJ), (online, JJ), (l...  \n",
       "399  [(student, NN), (attitude, NN), (approach, NN)...  \n",
       "400  [(paper, NN), (investigate, NN), (problematic,...  "
      ]
     },
     "execution_count": 21,
     "metadata": {},
     "output_type": "execute_result"
    }
   ],
   "source": [
    "# tokenizer to 'processedContent' column through all rows and store in 'tokens' column.\n",
    "data['tokens'] = data['processedsummary'].apply(word_tokenize) \n",
    "\n",
    "#  POS tagging of the sentence and ne_chunk() to recognize each named entity in sentences\n",
    "data['ner'] = data['processedsummary']\\\n",
    "    .apply(lambda x: nltk.ne_chunk(nltk.pos_tag(nltk.word_tokenize(x)),binary=True))\n",
    "data.tail(3)"
   ]
  },
  {
   "attachments": {},
   "cell_type": "markdown",
   "metadata": {},
   "source": [
    "### Term Document Frequency"
   ]
  },
  {
   "cell_type": "code",
   "execution_count": 22,
   "metadata": {},
   "outputs": [
    {
     "name": "stdout",
     "output_type": "stream",
     "text": [
      "CPU times: user 1 µs, sys: 0 ns, total: 1 µs\n",
      "Wall time: 1.91 µs\n"
     ]
    },
    {
     "name": "stderr",
     "output_type": "stream",
     "text": [
      "progress-bar: 100%|██████████| 401/401 [00:00<00:00, 17026.89it/s]\n"
     ]
    }
   ],
   "source": [
    "%time\n",
    "yDf = data[['year', 'title', 'tokens']].copy()\n",
    "\n",
    "bigram = gensim.models.Phrases(yDf['tokens'], min_count=5, threshold=100)\n",
    "bigramModel = gensim.models.phrases.Phraser(bigram)\n",
    "\n",
    "yDf['bigramTokens'] = yDf['tokens'].progress_map(lambda tokens: bigramModel[tokens])\n",
    "\n",
    "# Creating Dictionary\n",
    "id2word = Dictionary(yDf['bigramTokens'])\n",
    "\n",
    "# Creating Corpus\n",
    "texts = yDf['bigramTokens'].tolist()\n",
    "dictionary = Dictionary(texts)\n",
    "\n",
    "# Term Document Frequency\n",
    "corpus = [id2word.doc2bow(text) for text in texts]"
   ]
  },
  {
   "attachments": {},
   "cell_type": "markdown",
   "metadata": {},
   "source": [
    "### Defining LDA model"
   ]
  },
  {
   "cell_type": "code",
   "execution_count": 23,
   "metadata": {},
   "outputs": [
    {
     "name": "stdout",
     "output_type": "stream",
     "text": [
      "CPU times: user 1e+03 ns, sys: 0 ns, total: 1e+03 ns\n",
      "Wall time: 3.1 µs\n"
     ]
    },
    {
     "name": "stderr",
     "output_type": "stream",
     "text": [
      "                                             \r"
     ]
    },
    {
     "data": {
      "image/png": "[encoded data removed]",
      "text/plain": [
       "<Figure size 1000x500 with 1 Axes>"
      ]
     },
     "metadata": {},
     "output_type": "display_data"
    }
   ],
   "source": [
    "\n",
    "%time\n",
    "\n",
    "# Define LDA model in function that takes the number of topics as a parameter.\n",
    "def LDAmodel(num_topics, passes=1):\n",
    "    return gensim.models.ldamodel.LdaModel(\n",
    "        corpus=tqdm(corpus, leave=False),\n",
    "        id2word=id2word,\n",
    "        alpha='auto', eta='auto',\n",
    "        num_topics=num_topics, # the number of topics is equal to num_topics\n",
    "        random_state=2021,\n",
    "        eval_every=1,\n",
    "        chunksize=2000,\n",
    "        passes=passes,\n",
    "        per_word_topics=True\n",
    "        )\n",
    "    \n",
    "def coherence_computation(model):\n",
    "    coherence = CoherenceModel(\n",
    "        model = model, \n",
    "        texts = texts,\n",
    "        dictionary = id2word, coherence='c_v'\n",
    "        )\n",
    "    return coherence.get_coherence()\n",
    "\n",
    "def display_topics(model):\n",
    "    topics = model.show_topics(num_topics=model.num_topics, formatted=False, num_words=10)\n",
    "    topics = map(lambda c: map(lambda cc: cc[0], c[1]), topics)\n",
    "    DATA = pd.DataFrame(topics)\n",
    "    DATA.index = ['topic_{0}'.format(i) for i in range(model.num_topics)]\n",
    "    DATA.columns = ['keyword_{0}'.format(i) for i in range(1, 10+1)]\n",
    "    return DATA\n",
    "\n",
    "def explore_models(DATA, range = range(5, 25)):\n",
    "    id2word = Dictionary(DATA['bigramTokens'])\n",
    "    texts = DATA['bigramTokens'].tolist()\n",
    "    corpus = [id2word.doc2bow(text) for text in texts]\n",
    "\n",
    "    coherence_values = []\n",
    "    model_list = []\n",
    "    \n",
    "    for num_topics in tqdm(range, leave=False):\n",
    "        lda = LDAmodel(num_topics, passes=5)\n",
    "        model_list.append(lda)\n",
    "        coherence = coherence_computation(lda)\n",
    "        coherence_values.append(coherence)\n",
    "      \n",
    "    fig = plt.figure(figsize=(10,5))\n",
    "    plt.title('Optimal number of topics')\n",
    "    plt.xlabel('Number of topics')\n",
    "    plt.ylabel('Coherence Score')\n",
    "    plt.grid(True)\n",
    "    plt.plot(range, coherence_values)\n",
    "    \n",
    "    return coherence_values, model_list\n",
    "\n",
    "coherence_values, model_list = explore_models(yDf, range = range(5, 40, 5))"
   ]
  },
  {
   "attachments": {},
   "cell_type": "markdown",
   "metadata": {},
   "source": [
    "##### Printing the coherence scores"
   ]
  },
  {
   "cell_type": "code",
   "execution_count": 24,
   "metadata": {},
   "outputs": [
    {
     "name": "stdout",
     "output_type": "stream",
     "text": [
      "Num Topics = 5  has Coherence Value of 0.2628\n",
      "Num Topics = 11  has Coherence Value of 0.2705\n",
      "Num Topics = 17  has Coherence Value of 0.2735\n",
      "Num Topics = 23  has Coherence Value of 0.2709\n",
      "Num Topics = 29  has Coherence Value of 0.2808\n",
      "Num Topics = 35  has Coherence Value of 0.2825\n"
     ]
    }
   ],
   "source": [
    "# Print the coherence scores\n",
    "limit=40; start=5; step=6;\n",
    "x = range(start, limit, step)\n",
    "\n",
    "for m, cv in zip(x, coherence_values):\n",
    "    print(\"Num Topics =\", m, \" has Coherence Value of\", round(cv, 4))"
   ]
  },
  {
   "cell_type": "code",
   "execution_count": 25,
   "metadata": {},
   "outputs": [
    {
     "name": "stderr",
     "output_type": "stream",
     "text": [
      "                                                   \r"
     ]
    },
    {
     "name": "stdout",
     "output_type": "stream",
     "text": [
      "        keyword_1    keyword_2 keyword_3 keyword_4 keyword_5    keyword_6  \\\n",
      "topic_0    online       social      user   network    gender  hate_speech   \n",
      "topic_1    social  hate_speech      hate      user    gender       online   \n",
      "topic_2    gender         bias      data     study  research        model   \n",
      "topic_3    gender       social      user     model     study       medium   \n",
      "topic_4      user       social    gender     model    medium         data   \n",
      "topic_5    gender          age   content    social  analysis    different   \n",
      "topic_6     model       social      data    gender    medium     analysis   \n",
      "topic_7    social       medium      data   twitter     study       gender   \n",
      "topic_8   dataset       gender    social     tweet      task      twitter   \n",
      "topic_9      bias       gender  approach      user     study         word   \n",
      "\n",
      "           keyword_7  keyword_8 keyword_9  keyword_10  \n",
      "topic_0    community      study      data       model  \n",
      "topic_1       medium  community     paper        data  \n",
      "topic_2  hate_speech  attribute    medium       paper  \n",
      "topic_3         data     online      bias     twitter  \n",
      "topic_4  information     online      task    platform  \n",
      "topic_5         user    feature  facebook        data  \n",
      "topic_6    sentiment       bias       use       using  \n",
      "topic_7       online      woman  follower  moderation  \n",
      "topic_8       method   approach    medium       using  \n",
      "topic_9           ai   hoarding  fairness      social  \n"
     ]
    }
   ],
   "source": [
    "pd.options.display.max_columns = 20\n",
    "bestModel = LDAmodel(num_topics=10, passes=5)\n",
    "print(display_topics(model = bestModel))"
   ]
  },
  {
   "cell_type": "code",
   "execution_count": 26,
   "metadata": {},
   "outputs": [
    {
     "name": "stdout",
     "output_type": "stream",
     "text": [
      "\n",
      "c_v Coherence Score:  0.2704824320170462\n"
     ]
    }
   ],
   "source": [
    "# Compute Coherence Score using c_v\n",
    "coherence_model_lda = CoherenceModel(model=bestModel, texts=texts, dictionary=dictionary, coherence='c_v')\n",
    "coherence_lda = coherence_model_lda.get_coherence()\n",
    "print('\\nc_v Coherence Score: ', coherence_lda)"
   ]
  },
  {
   "cell_type": "code",
   "execution_count": 27,
   "metadata": {},
   "outputs": [
    {
     "name": "stdout",
     "output_type": "stream",
     "text": [
      "\n",
      "UMass Coherence Score:  -1.9880584933286645\n"
     ]
    }
   ],
   "source": [
    "# Compute Coherence Score using UMass\n",
    "coherence_model_lda = CoherenceModel(model=bestModel, texts=texts, dictionary=dictionary, coherence=\"u_mass\")\n",
    "coherence_lda = coherence_model_lda.get_coherence()\n",
    "print('\\nUMass Coherence Score: ', coherence_lda)"
   ]
  },
  {
   "cell_type": "code",
   "execution_count": null,
   "metadata": {},
   "outputs": [],
   "source": []
  },
  {
   "attachments": {},
   "cell_type": "markdown",
   "metadata": {},
   "source": [
    "#### Journal References"
   ]
  },
  {
   "cell_type": "code",
   "execution_count": 28,
   "metadata": {},
   "outputs": [
    {
     "data": {
      "text/plain": [
       "0                                                    NaN\n",
       "1                        Data in brief 44 (2022): 108526\n",
       "2      Asia Pacific Journal of Multidisciplinary Rese...\n",
       "3                                                    NaN\n",
       "4                                                    NaN\n",
       "                             ...                        \n",
       "402                                                  NaN\n",
       "403                                                  NaN\n",
       "404                                                  NaN\n",
       "405    Physical Review Physics Education Research, 12...\n",
       "406                                                  NaN\n",
       "Name: journal_ref, Length: 401, dtype: object"
      ]
     },
     "execution_count": 28,
     "metadata": {},
     "output_type": "execute_result"
    }
   ],
   "source": [
    "all_papers_df['journal_ref'] "
   ]
  },
  {
   "cell_type": "code",
   "execution_count": 29,
   "metadata": {},
   "outputs": [
    {
     "data": {
      "text/plain": [
       "355"
      ]
     },
     "execution_count": 29,
     "metadata": {},
     "output_type": "execute_result"
    }
   ],
   "source": [
    "# Check for NaN values\n",
    "all_papers_df['journal_ref'].isna().sum() # Mostly NaN values"
   ]
  },
  {
   "cell_type": "code",
   "execution_count": 30,
   "metadata": {},
   "outputs": [
    {
     "data": {
      "text/plain": [
       "'\\n\\ndef best_match(tokens, names):\\n    for i,t in enumerate(tokens):\\n        closest = difflib.get_close_matches(t, names, n=3, cutoff=0.8)\\n        if len(closest) > 0:\\n            return i, closest[0]\\n    return None\\n\\ndef fuzzy_replace(x, y):\\n\\n    names = y # just a simple replacement list\\n    tokens = x.split()\\n    res = best_match(tokens, y)\\n    if res is not None:\\n        pos, replacement = res\\n        return u\" \".join(tokens)\\n    return x\\n\\n'"
      ]
     },
     "execution_count": 30,
     "metadata": {},
     "output_type": "execute_result"
    }
   ],
   "source": [
    "# to remove the part before the comma, as some of them are duplicated that way, ranging from different years\n",
    "def substring_before(s, delim):\n",
    "    value = ''\n",
    "    if delim in s: \n",
    "        value = s.partition(delim)[0]\n",
    "    else:\n",
    "        value = s\n",
    "    return value\n",
    "\n",
    "'''\n",
    "\n",
    "def best_match(tokens, names):\n",
    "    for i,t in enumerate(tokens):\n",
    "        closest = difflib.get_close_matches(t, names, n=3, cutoff=0.8)\n",
    "        if len(closest) > 0:\n",
    "            return i, closest[0]\n",
    "    return None\n",
    "\n",
    "def fuzzy_replace(x, y):\n",
    "\n",
    "    names = y # just a simple replacement list\n",
    "    tokens = x.split()\n",
    "    res = best_match(tokens, y)\n",
    "    if res is not None:\n",
    "        pos, replacement = res\n",
    "        return u\" \".join(tokens)\n",
    "    return x\n",
    "\n",
    "'''\n"
   ]
  },
  {
   "cell_type": "code",
   "execution_count": 31,
   "metadata": {},
   "outputs": [
    {
     "data": {
      "text/plain": [
       "45"
      ]
     },
     "execution_count": 31,
     "metadata": {},
     "output_type": "execute_result"
    }
   ],
   "source": [
    "\n",
    "n_references = all_papers_df['journal_ref'].dropna()\n",
    "\n",
    "n_references = n_references.apply(lambda x: substring_before(x, ','))\n",
    "\n",
    "'''\n",
    "names = n_references.values\n",
    "\n",
    "n_references = n_references.apply(lambda x: fuzzy_replace(x, names))\n",
    "\n",
    "'''\n",
    "\n",
    "\n",
    "n_references = n_references.value_counts().reset_index(name='total')\n",
    "n_references = n_references.sort_values(by=\"index\", ascending=False)[[\"index\", \"total\"]].rename(columns={'index': 'references'})\n",
    "\n",
    "len(n_references)"
   ]
  },
  {
   "cell_type": "code",
   "execution_count": 32,
   "metadata": {},
   "outputs": [
    {
     "data": {
      "text/plain": [
       "['https://aclanthology.org/2022.lrec-1.777/',\n",
       " 'The International AAAI Conference on Web and Social Media (ICWSM)\\n  2021',\n",
       " 'Technological Forecasting & Social Change 157',\n",
       " 'Sustainable Advanced Computing - Select Proceedings of ICSAC 2021',\n",
       " 'Special Session on Intelligent Data Mining',\n",
       " 'Social Informatics 2020',\n",
       " 'Proceedings of the ACM on Human-Computer Interaction 2019',\n",
       " 'Proceedings of the 20th International Conference on Computational\\n  Linguistics and Intelligent Text Processing',\n",
       " 'Proceedings of the 2022 AAAI/ACM Conference on AI',\n",
       " 'Proceedings of the 2021 AAAI/ACM Conference on AI',\n",
       " \"Proceedings of the 2019 World Wide Web Conference (WWW '19)\",\n",
       " 'Proceedings of the 15th International AAAI Conference on Web and\\n  Social Media (ICWSM)',\n",
       " 'Proceedings of the 15th Conference of the EACL (2017) 152-162',\n",
       " 'Proceedings of NLP4CMC III: 3rd Workshop on Natural Language\\n  Processing for Computer-Mediated Communication (Bochum)',\n",
       " 'Proc. SIGCHI Conf. Hum. Factor Comput. Syst. (2022)',\n",
       " 'Proc. ACM Hum.-Comput. Interact. 6',\n",
       " 'Physical Review Physics Education Research',\n",
       " 'PNAS',\n",
       " 'PMLR 133:344-360',\n",
       " 'PLoS ONE 11(9):e0162756']"
      ]
     },
     "execution_count": 32,
     "metadata": {},
     "output_type": "execute_result"
    }
   ],
   "source": [
    "n_references.references.to_list()[:20]"
   ]
  },
  {
   "attachments": {},
   "cell_type": "markdown",
   "metadata": {},
   "source": [
    "##### Create a dictionary\n",
    "We can now create a dictionary from the data we get above.\n",
    "Though the references are limited, they can be used to related to the disciplines. \n",
    "Reason: Some of them contain urls while other a much abbreviated version of the conference/event, which makes it difficult to automate the model to extract the disciplines from them. "
   ]
  },
  {
   "cell_type": "code",
   "execution_count": 33,
   "metadata": {},
   "outputs": [],
   "source": [
    "dict_reference = {\n",
    "    'https://aclanthology.org/2022.lrec-1.777/': 'Language Resources and Evaluation',\n",
    "    'The International AAAI Conference on Web and Social Media (ICWSM)\\n  2021': 'Computational approaches to social media',\n",
    "    'Special Session on Intelligent Data Mining': 'Artificial Intelligent algorithms in data mining',\n",
    "    'Proceedings of the 2022 AAAI/ACM Conference on AI': 'Artificial Intelligence',\n",
    "    'Proceedings of the 2021 AAAI/ACM Conference on AI': 'Artificial Intelligence',\n",
    "    'Technological Forecasting & Social Change 157': 'Social, environmental and technological',\n",
    "    'Sustainable Advanced Computing - Select Proceedings of ICSAC 2021': 'Sustainable Advanced Computing',\n",
    "    \n",
    "}"
   ]
  },
  {
   "attachments": {},
   "cell_type": "markdown",
   "metadata": {},
   "source": [
    "### Topic modelling"
   ]
  },
  {
   "cell_type": "code",
   "execution_count": 34,
   "metadata": {},
   "outputs": [],
   "source": [
    "import os\n",
    "os.environ['KMP_DUPLICATE_LIB_OK']='True'\n",
    "\n",
    "from sentence_transformers import SentenceTransformer\n",
    "import hdbscan\n",
    "import matplotlib.pyplot as plt\n",
    "\n",
    "import umap"
   ]
  },
  {
   "attachments": {},
   "cell_type": "markdown",
   "metadata": {},
   "source": [
    "#### Sentence embeddings"
   ]
  },
  {
   "cell_type": "code",
   "execution_count": 35,
   "metadata": {},
   "outputs": [
    {
     "data": {
      "application/json": {
       "ascii": false,
       "bar_format": null,
       "colour": null,
       "elapsed": 0.011528968811035156,
       "initial": 0,
       "n": 0,
       "ncols": null,
       "nrows": null,
       "postfix": null,
       "prefix": "Batches",
       "rate": null,
       "total": 13,
       "unit": "it",
       "unit_divisor": 1000,
       "unit_scale": false
      },
      "application/vnd.jupyter.widget-view+json": {
       "model_id": "07d7c50deea34830aa11c7c39bba1847",
       "version_major": 2,
       "version_minor": 0
      },
      "text/plain": [
       "Batches:   0%|          | 0/13 [00:00<?, ?it/s]"
      ]
     },
     "metadata": {},
     "output_type": "display_data"
    }
   ],
   "source": [
    "#https://www.kdnuggets.com/2020/11/topic-modeling-bert.html\n",
    "model = SentenceTransformer('distilbert-base-nli-mean-tokens')\n",
    "\n",
    "data1 = data['processedsummary']\n",
    "\n",
    "#train_df.loc[pd.isnull(train_df.selected_text),:]\n",
    "\n",
    "embeddings = model.encode(data1, show_progress_bar=True)"
   ]
  },
  {
   "cell_type": "code",
   "execution_count": 36,
   "metadata": {},
   "outputs": [
    {
     "data": {
      "text/plain": [
       "'understanding human behavior important task application many domain targeted advertisement health analytics security entertainment etc purpose designing system activity recognition ar important however since every human different behavior understanding analyzing common pattern become challenging task since smartphones easily available every human modern world using track human activity becomes possible paper extracted different human activity using accelerometer magnetometer gyroscope sensor android smartphones building android mobile application using different social medium application facebook instagram whatsapp twitter extracted raw sensor value along attribute subject along attribute class label age gender left right hand application usage extract feature raw signal use perform classification using different machine learning ml algorithm using statistical analysis show importance different feature towards prediction class label end use trained ml model data extract unknown feature well known activity recognition data uci repository highlight potential privacy breach using ml model security analysis could help researcher future take appropriate step preserve privacy human subject'"
      ]
     },
     "execution_count": 36,
     "metadata": {},
     "output_type": "execute_result"
    }
   ],
   "source": [
    "data1.iloc[10]"
   ]
  },
  {
   "cell_type": "code",
   "execution_count": 37,
   "metadata": {},
   "outputs": [
    {
     "data": {
      "text/plain": [
       "401"
      ]
     },
     "execution_count": 37,
     "metadata": {},
     "output_type": "execute_result"
    }
   ],
   "source": [
    "len(data1)"
   ]
  },
  {
   "cell_type": "code",
   "execution_count": 38,
   "metadata": {},
   "outputs": [
    {
     "data": {
      "text/plain": [
       "(401, 768)"
      ]
     },
     "execution_count": 38,
     "metadata": {},
     "output_type": "execute_result"
    }
   ],
   "source": [
    "embeddings.shape"
   ]
  },
  {
   "attachments": {},
   "cell_type": "markdown",
   "metadata": {},
   "source": [
    "UMAP has several hyperparameters that can have a significant impact on the resulting embedding. The four major ones are listed below:\n",
    "\n",
    "```n_neighbors``` - This parameter controls how UMAP balances local versus global structure in the data. It does this by constraining the size of the local neighborhood UMAP will look at when attempting to learn the manifold structure of the data.\n",
    "\n",
    "```min_dist``` - This parameter controls how tightly UMAP is allowed to pack points together. It, quite literally, provides the minimum distance apart that points are allowed to be in the low dimensional representation.\n",
    "\n",
    "```n_components``` - This allows the user to determine the dimensionality of the reduced dimension space we will be embedding the data into. \n",
    "\n",
    "```metric``` - This controls how distance is computed in the ambient space of the input data. \n",
    "\n",
    "Each of these parameters has a distinct effect, and we will look at each in turn. To make exploration simpler we will first write a short utility function that can fit the data with UMAP given a set of parameter choices, and plot the result."
   ]
  },
  {
   "cell_type": "code",
   "execution_count": 39,
   "metadata": {},
   "outputs": [
    {
     "name": "stderr",
     "output_type": "stream",
     "text": [
      "OMP: Info #276: omp_set_nested routine deprecated, please use omp_set_max_active_levels instead.\n"
     ]
    },
    {
     "data": {
      "text/plain": [
       "(401, 50)"
      ]
     },
     "execution_count": 39,
     "metadata": {},
     "output_type": "execute_result"
    }
   ],
   "source": [
    "umap_data_1 = umap.UMAP(n_neighbors=200, n_components=50, min_dist=0.5, metric='cosine').fit_transform(embeddings)\n",
    "umap_data_1.shape"
   ]
  },
  {
   "attachments": {},
   "cell_type": "markdown",
   "metadata": {},
   "source": [
    "The primary parameter to effect the resulting clustering is min_cluster_size. Ideally this is a relatively intuitive parameter to select – set it to the smallest size grouping that you wish to consider a cluster. "
   ]
  },
  {
   "cell_type": "code",
   "execution_count": 40,
   "metadata": {},
   "outputs": [
    {
     "data": {
      "text/plain": [
       "(401, 2)"
      ]
     },
     "execution_count": 40,
     "metadata": {},
     "output_type": "execute_result"
    }
   ],
   "source": [
    "umap_data_2 = umap.UMAP(n_neighbors=5, n_components=2, min_dist=0.2, metric='cosine').fit_transform(umap_data_1)\n",
    "umap_data_2.shape"
   ]
  },
  {
   "cell_type": "code",
   "execution_count": 60,
   "metadata": {},
   "outputs": [
    {
     "name": "stdout",
     "output_type": "stream",
     "text": [
      "7\n"
     ]
    }
   ],
   "source": [
    "# Prepare data\n",
    "\n",
    "cluster = hdbscan.HDBSCAN(min_cluster_size=8,\n",
    "                          metric='euclidean',                      \n",
    "                          cluster_selection_method='eom').fit(umap_data_2)\n",
    "\n",
    "result = pd.DataFrame(umap_data_2, columns=['x', 'y'])\n",
    "result['labels'] = cluster.labels_\n",
    "\n",
    "n = len(result.labels.unique())\n",
    "print(n)"
   ]
  },
  {
   "cell_type": "code",
   "execution_count": 61,
   "metadata": {},
   "outputs": [
    {
     "data": {
      "image/png": "[encoded data removed]",
      "text/plain": [
       "<Figure size 600x600 with 2 Axes>"
      ]
     },
     "metadata": {},
     "output_type": "display_data"
    }
   ],
   "source": [
    "# Visualize clusters\n",
    "fig, ax = plt.subplots(figsize=(6, 6))\n",
    "outliers = result.loc[result.labels == -1, :]\n",
    "clustered = result.loc[result.labels != -1, :]\n",
    "plt.scatter(outliers.x, outliers.y, color='#BDBDBD', s=5)\n",
    "plt.scatter(clustered.x, clustered.y, c=clustered.labels, cmap='Spectral', s=5)\n",
    "plt.gca().set_aspect('equal', 'datalim')\n",
    "plt.colorbar(boundaries=np.arange(n)-0.5).set_ticks(np.arange(n-1)) "
   ]
  },
  {
   "cell_type": "code",
   "execution_count": 62,
   "metadata": {},
   "outputs": [
    {
     "data": {
      "text/plain": [
       "12"
      ]
     },
     "execution_count": 62,
     "metadata": {},
     "output_type": "execute_result"
    }
   ],
   "source": [
    "len(result[result.labels==-1])"
   ]
  },
  {
   "attachments": {},
   "cell_type": "markdown",
   "metadata": {},
   "source": [
    "The results are pretty good. The UMAP was able to distinctly capture all the digit classes, with none of them blending into each other. Also, there are only a few outliers (12)."
   ]
  },
  {
   "cell_type": "code",
   "execution_count": 44,
   "metadata": {},
   "outputs": [
    {
     "data": {
      "text/html": [
       "<div>\n",
       "<style scoped>\n",
       "    .dataframe tbody tr th:only-of-type {\n",
       "        vertical-align: middle;\n",
       "    }\n",
       "\n",
       "    .dataframe tbody tr th {\n",
       "        vertical-align: top;\n",
       "    }\n",
       "\n",
       "    .dataframe thead th {\n",
       "        text-align: right;\n",
       "    }\n",
       "</style>\n",
       "<table border=\"1\" class=\"dataframe\">\n",
       "  <thead>\n",
       "    <tr style=\"text-align: right;\">\n",
       "      <th></th>\n",
       "      <th>x</th>\n",
       "      <th>y</th>\n",
       "      <th>labels</th>\n",
       "    </tr>\n",
       "  </thead>\n",
       "  <tbody>\n",
       "    <tr>\n",
       "      <th>1</th>\n",
       "      <td>4.769589</td>\n",
       "      <td>6.300722</td>\n",
       "      <td>3</td>\n",
       "    </tr>\n",
       "    <tr>\n",
       "      <th>2</th>\n",
       "      <td>7.535138</td>\n",
       "      <td>6.309051</td>\n",
       "      <td>3</td>\n",
       "    </tr>\n",
       "    <tr>\n",
       "      <th>4</th>\n",
       "      <td>6.424732</td>\n",
       "      <td>7.829355</td>\n",
       "      <td>3</td>\n",
       "    </tr>\n",
       "    <tr>\n",
       "      <th>7</th>\n",
       "      <td>6.484865</td>\n",
       "      <td>5.895464</td>\n",
       "      <td>3</td>\n",
       "    </tr>\n",
       "    <tr>\n",
       "      <th>15</th>\n",
       "      <td>6.639665</td>\n",
       "      <td>6.164343</td>\n",
       "      <td>3</td>\n",
       "    </tr>\n",
       "    <tr>\n",
       "      <th>16</th>\n",
       "      <td>4.635489</td>\n",
       "      <td>6.167049</td>\n",
       "      <td>3</td>\n",
       "    </tr>\n",
       "    <tr>\n",
       "      <th>17</th>\n",
       "      <td>5.738527</td>\n",
       "      <td>8.103366</td>\n",
       "      <td>3</td>\n",
       "    </tr>\n",
       "    <tr>\n",
       "      <th>29</th>\n",
       "      <td>4.922898</td>\n",
       "      <td>6.428528</td>\n",
       "      <td>3</td>\n",
       "    </tr>\n",
       "    <tr>\n",
       "      <th>31</th>\n",
       "      <td>5.477500</td>\n",
       "      <td>7.109082</td>\n",
       "      <td>3</td>\n",
       "    </tr>\n",
       "    <tr>\n",
       "      <th>56</th>\n",
       "      <td>6.627798</td>\n",
       "      <td>8.312312</td>\n",
       "      <td>3</td>\n",
       "    </tr>\n",
       "    <tr>\n",
       "      <th>57</th>\n",
       "      <td>6.548222</td>\n",
       "      <td>8.284857</td>\n",
       "      <td>3</td>\n",
       "    </tr>\n",
       "    <tr>\n",
       "      <th>63</th>\n",
       "      <td>6.498402</td>\n",
       "      <td>5.142385</td>\n",
       "      <td>3</td>\n",
       "    </tr>\n",
       "    <tr>\n",
       "      <th>65</th>\n",
       "      <td>5.703497</td>\n",
       "      <td>6.849207</td>\n",
       "      <td>3</td>\n",
       "    </tr>\n",
       "    <tr>\n",
       "      <th>70</th>\n",
       "      <td>6.639781</td>\n",
       "      <td>6.936591</td>\n",
       "      <td>3</td>\n",
       "    </tr>\n",
       "    <tr>\n",
       "      <th>80</th>\n",
       "      <td>5.940720</td>\n",
       "      <td>7.387461</td>\n",
       "      <td>3</td>\n",
       "    </tr>\n",
       "    <tr>\n",
       "      <th>81</th>\n",
       "      <td>6.289614</td>\n",
       "      <td>6.852357</td>\n",
       "      <td>3</td>\n",
       "    </tr>\n",
       "    <tr>\n",
       "      <th>85</th>\n",
       "      <td>5.979622</td>\n",
       "      <td>6.293540</td>\n",
       "      <td>3</td>\n",
       "    </tr>\n",
       "    <tr>\n",
       "      <th>86</th>\n",
       "      <td>6.416208</td>\n",
       "      <td>6.187411</td>\n",
       "      <td>3</td>\n",
       "    </tr>\n",
       "    <tr>\n",
       "      <th>94</th>\n",
       "      <td>6.310277</td>\n",
       "      <td>8.662543</td>\n",
       "      <td>3</td>\n",
       "    </tr>\n",
       "    <tr>\n",
       "      <th>95</th>\n",
       "      <td>6.376540</td>\n",
       "      <td>8.608202</td>\n",
       "      <td>3</td>\n",
       "    </tr>\n",
       "    <tr>\n",
       "      <th>105</th>\n",
       "      <td>7.625567</td>\n",
       "      <td>5.961487</td>\n",
       "      <td>3</td>\n",
       "    </tr>\n",
       "    <tr>\n",
       "      <th>107</th>\n",
       "      <td>5.862808</td>\n",
       "      <td>8.315343</td>\n",
       "      <td>3</td>\n",
       "    </tr>\n",
       "    <tr>\n",
       "      <th>119</th>\n",
       "      <td>6.194376</td>\n",
       "      <td>7.711743</td>\n",
       "      <td>3</td>\n",
       "    </tr>\n",
       "    <tr>\n",
       "      <th>123</th>\n",
       "      <td>5.746832</td>\n",
       "      <td>7.887410</td>\n",
       "      <td>3</td>\n",
       "    </tr>\n",
       "    <tr>\n",
       "      <th>125</th>\n",
       "      <td>6.490588</td>\n",
       "      <td>8.065181</td>\n",
       "      <td>3</td>\n",
       "    </tr>\n",
       "    <tr>\n",
       "      <th>126</th>\n",
       "      <td>7.266589</td>\n",
       "      <td>6.476468</td>\n",
       "      <td>3</td>\n",
       "    </tr>\n",
       "    <tr>\n",
       "      <th>128</th>\n",
       "      <td>6.020630</td>\n",
       "      <td>7.309528</td>\n",
       "      <td>3</td>\n",
       "    </tr>\n",
       "    <tr>\n",
       "      <th>135</th>\n",
       "      <td>4.660506</td>\n",
       "      <td>6.201324</td>\n",
       "      <td>3</td>\n",
       "    </tr>\n",
       "    <tr>\n",
       "      <th>145</th>\n",
       "      <td>7.950286</td>\n",
       "      <td>5.949044</td>\n",
       "      <td>3</td>\n",
       "    </tr>\n",
       "    <tr>\n",
       "      <th>148</th>\n",
       "      <td>7.360670</td>\n",
       "      <td>6.443873</td>\n",
       "      <td>3</td>\n",
       "    </tr>\n",
       "    <tr>\n",
       "      <th>151</th>\n",
       "      <td>6.553915</td>\n",
       "      <td>6.886717</td>\n",
       "      <td>3</td>\n",
       "    </tr>\n",
       "    <tr>\n",
       "      <th>163</th>\n",
       "      <td>7.350740</td>\n",
       "      <td>6.486552</td>\n",
       "      <td>3</td>\n",
       "    </tr>\n",
       "    <tr>\n",
       "      <th>169</th>\n",
       "      <td>7.300460</td>\n",
       "      <td>6.613971</td>\n",
       "      <td>3</td>\n",
       "    </tr>\n",
       "    <tr>\n",
       "      <th>170</th>\n",
       "      <td>5.156034</td>\n",
       "      <td>6.641148</td>\n",
       "      <td>3</td>\n",
       "    </tr>\n",
       "    <tr>\n",
       "      <th>180</th>\n",
       "      <td>4.763053</td>\n",
       "      <td>6.298589</td>\n",
       "      <td>3</td>\n",
       "    </tr>\n",
       "    <tr>\n",
       "      <th>186</th>\n",
       "      <td>5.555096</td>\n",
       "      <td>7.239576</td>\n",
       "      <td>3</td>\n",
       "    </tr>\n",
       "    <tr>\n",
       "      <th>194</th>\n",
       "      <td>7.738741</td>\n",
       "      <td>6.040013</td>\n",
       "      <td>3</td>\n",
       "    </tr>\n",
       "    <tr>\n",
       "      <th>198</th>\n",
       "      <td>5.385403</td>\n",
       "      <td>7.057145</td>\n",
       "      <td>3</td>\n",
       "    </tr>\n",
       "    <tr>\n",
       "      <th>203</th>\n",
       "      <td>6.690986</td>\n",
       "      <td>6.531882</td>\n",
       "      <td>3</td>\n",
       "    </tr>\n",
       "    <tr>\n",
       "      <th>240</th>\n",
       "      <td>6.626702</td>\n",
       "      <td>8.185199</td>\n",
       "      <td>3</td>\n",
       "    </tr>\n",
       "    <tr>\n",
       "      <th>247</th>\n",
       "      <td>5.726492</td>\n",
       "      <td>7.542027</td>\n",
       "      <td>3</td>\n",
       "    </tr>\n",
       "    <tr>\n",
       "      <th>248</th>\n",
       "      <td>5.512799</td>\n",
       "      <td>8.098654</td>\n",
       "      <td>3</td>\n",
       "    </tr>\n",
       "    <tr>\n",
       "      <th>258</th>\n",
       "      <td>4.817633</td>\n",
       "      <td>6.353216</td>\n",
       "      <td>3</td>\n",
       "    </tr>\n",
       "    <tr>\n",
       "      <th>268</th>\n",
       "      <td>7.471805</td>\n",
       "      <td>6.050528</td>\n",
       "      <td>3</td>\n",
       "    </tr>\n",
       "    <tr>\n",
       "      <th>272</th>\n",
       "      <td>6.817283</td>\n",
       "      <td>6.466388</td>\n",
       "      <td>3</td>\n",
       "    </tr>\n",
       "    <tr>\n",
       "      <th>289</th>\n",
       "      <td>6.472490</td>\n",
       "      <td>7.972446</td>\n",
       "      <td>3</td>\n",
       "    </tr>\n",
       "    <tr>\n",
       "      <th>300</th>\n",
       "      <td>6.454836</td>\n",
       "      <td>8.680111</td>\n",
       "      <td>3</td>\n",
       "    </tr>\n",
       "    <tr>\n",
       "      <th>304</th>\n",
       "      <td>6.992825</td>\n",
       "      <td>6.521859</td>\n",
       "      <td>3</td>\n",
       "    </tr>\n",
       "    <tr>\n",
       "      <th>305</th>\n",
       "      <td>6.316761</td>\n",
       "      <td>7.678562</td>\n",
       "      <td>3</td>\n",
       "    </tr>\n",
       "    <tr>\n",
       "      <th>318</th>\n",
       "      <td>7.117455</td>\n",
       "      <td>6.081458</td>\n",
       "      <td>3</td>\n",
       "    </tr>\n",
       "    <tr>\n",
       "      <th>319</th>\n",
       "      <td>6.328449</td>\n",
       "      <td>8.711901</td>\n",
       "      <td>3</td>\n",
       "    </tr>\n",
       "    <tr>\n",
       "      <th>340</th>\n",
       "      <td>7.653600</td>\n",
       "      <td>6.175622</td>\n",
       "      <td>3</td>\n",
       "    </tr>\n",
       "    <tr>\n",
       "      <th>342</th>\n",
       "      <td>5.493909</td>\n",
       "      <td>8.068854</td>\n",
       "      <td>3</td>\n",
       "    </tr>\n",
       "    <tr>\n",
       "      <th>362</th>\n",
       "      <td>6.400228</td>\n",
       "      <td>8.547994</td>\n",
       "      <td>3</td>\n",
       "    </tr>\n",
       "    <tr>\n",
       "      <th>367</th>\n",
       "      <td>5.434907</td>\n",
       "      <td>7.772704</td>\n",
       "      <td>3</td>\n",
       "    </tr>\n",
       "    <tr>\n",
       "      <th>368</th>\n",
       "      <td>5.505672</td>\n",
       "      <td>8.071992</td>\n",
       "      <td>3</td>\n",
       "    </tr>\n",
       "  </tbody>\n",
       "</table>\n",
       "</div>"
      ],
      "text/plain": [
       "            x         y  labels\n",
       "1    4.769589  6.300722       3\n",
       "2    7.535138  6.309051       3\n",
       "4    6.424732  7.829355       3\n",
       "7    6.484865  5.895464       3\n",
       "15   6.639665  6.164343       3\n",
       "16   4.635489  6.167049       3\n",
       "17   5.738527  8.103366       3\n",
       "29   4.922898  6.428528       3\n",
       "31   5.477500  7.109082       3\n",
       "56   6.627798  8.312312       3\n",
       "57   6.548222  8.284857       3\n",
       "63   6.498402  5.142385       3\n",
       "65   5.703497  6.849207       3\n",
       "70   6.639781  6.936591       3\n",
       "80   5.940720  7.387461       3\n",
       "81   6.289614  6.852357       3\n",
       "85   5.979622  6.293540       3\n",
       "86   6.416208  6.187411       3\n",
       "94   6.310277  8.662543       3\n",
       "95   6.376540  8.608202       3\n",
       "105  7.625567  5.961487       3\n",
       "107  5.862808  8.315343       3\n",
       "119  6.194376  7.711743       3\n",
       "123  5.746832  7.887410       3\n",
       "125  6.490588  8.065181       3\n",
       "126  7.266589  6.476468       3\n",
       "128  6.020630  7.309528       3\n",
       "135  4.660506  6.201324       3\n",
       "145  7.950286  5.949044       3\n",
       "148  7.360670  6.443873       3\n",
       "151  6.553915  6.886717       3\n",
       "163  7.350740  6.486552       3\n",
       "169  7.300460  6.613971       3\n",
       "170  5.156034  6.641148       3\n",
       "180  4.763053  6.298589       3\n",
       "186  5.555096  7.239576       3\n",
       "194  7.738741  6.040013       3\n",
       "198  5.385403  7.057145       3\n",
       "203  6.690986  6.531882       3\n",
       "240  6.626702  8.185199       3\n",
       "247  5.726492  7.542027       3\n",
       "248  5.512799  8.098654       3\n",
       "258  4.817633  6.353216       3\n",
       "268  7.471805  6.050528       3\n",
       "272  6.817283  6.466388       3\n",
       "289  6.472490  7.972446       3\n",
       "300  6.454836  8.680111       3\n",
       "304  6.992825  6.521859       3\n",
       "305  6.316761  7.678562       3\n",
       "318  7.117455  6.081458       3\n",
       "319  6.328449  8.711901       3\n",
       "340  7.653600  6.175622       3\n",
       "342  5.493909  8.068854       3\n",
       "362  6.400228  8.547994       3\n",
       "367  5.434907  7.772704       3\n",
       "368  5.505672  8.071992       3"
      ]
     },
     "execution_count": 44,
     "metadata": {},
     "output_type": "execute_result"
    }
   ],
   "source": [
    "result[result.labels==3]"
   ]
  },
  {
   "attachments": {},
   "cell_type": "markdown",
   "metadata": {},
   "source": [
    "#### Applying class-based TF-IDF\n",
    "\n",
    "c-TF-IDF can best be explained as a TF-IDF formula adopted for multiple classes by joining all documents per class. Thus, each class is converted to a single document instead of set of documents. The frequency of each word x is extracted for each class c and is l1 normalized. This constitutes the term frequency.\n",
    "\n",
    "Then, the term frequency is multiplied with IDF which is the logarithm of 1 plus the average number of words per class A divided by the frequency of word x across all classes."
   ]
  },
  {
   "cell_type": "code",
   "execution_count": 45,
   "metadata": {},
   "outputs": [],
   "source": [
    "docs_df = pd.DataFrame(data)\n",
    "docs_df['Topic'] = cluster.labels_\n",
    "docs_df['Doc_ID'] = range(len(docs_df))\n",
    "#docs_per_topic = docs_df.groupby(['Topic'], as_index = False)\n",
    "docs_per_topic = docs_df.groupby(['Topic'], as_index = False).agg({'processedsummary': ' '.join})"
   ]
  },
  {
   "attachments": {},
   "cell_type": "markdown",
   "metadata": {},
   "source": [
    "With class-based TF-IDF, we can adopt it such that we can search for words that make up certain classes."
   ]
  },
  {
   "cell_type": "code",
   "execution_count": 46,
   "metadata": {},
   "outputs": [],
   "source": [
    "def c_tf_idf(documents, m, ngram_range=(1, 1)):\n",
    "    count = CountVectorizer(ngram_range=ngram_range, stop_words=\"english\").fit(documents)\n",
    "    t = count.transform(documents).toarray()\n",
    "    w = t.sum(axis=1)\n",
    "    tf = np.divide(t.T, w)\n",
    "    sum_t = t.sum(axis=0)\n",
    "    idf = np.log(np.divide(m, sum_t)).reshape(-1, 1)\n",
    "    tf_idf = np.multiply(tf, idf)\n",
    "\n",
    "    return tf_idf, count\n",
    "  \n",
    "tf_idf, count = c_tf_idf(docs_per_topic['processedsummary'].values, m=len(data))"
   ]
  },
  {
   "attachments": {},
   "cell_type": "markdown",
   "metadata": {},
   "source": [
    "##### Topic representation"
   ]
  },
  {
   "cell_type": "code",
   "execution_count": 47,
   "metadata": {},
   "outputs": [
    {
     "data": {
      "text/html": [
       "<div>\n",
       "<style scoped>\n",
       "    .dataframe tbody tr th:only-of-type {\n",
       "        vertical-align: middle;\n",
       "    }\n",
       "\n",
       "    .dataframe tbody tr th {\n",
       "        vertical-align: top;\n",
       "    }\n",
       "\n",
       "    .dataframe thead th {\n",
       "        text-align: right;\n",
       "    }\n",
       "</style>\n",
       "<table border=\"1\" class=\"dataframe\">\n",
       "  <thead>\n",
       "    <tr style=\"text-align: right;\">\n",
       "      <th></th>\n",
       "      <th>Topic</th>\n",
       "      <th>Size</th>\n",
       "    </tr>\n",
       "  </thead>\n",
       "  <tbody>\n",
       "    <tr>\n",
       "      <th>1</th>\n",
       "      <td>0</td>\n",
       "      <td>143</td>\n",
       "    </tr>\n",
       "    <tr>\n",
       "      <th>2</th>\n",
       "      <td>1</td>\n",
       "      <td>129</td>\n",
       "    </tr>\n",
       "    <tr>\n",
       "      <th>4</th>\n",
       "      <td>3</td>\n",
       "      <td>56</td>\n",
       "    </tr>\n",
       "    <tr>\n",
       "      <th>6</th>\n",
       "      <td>5</td>\n",
       "      <td>42</td>\n",
       "    </tr>\n",
       "    <tr>\n",
       "      <th>0</th>\n",
       "      <td>-1</td>\n",
       "      <td>12</td>\n",
       "    </tr>\n",
       "    <tr>\n",
       "      <th>5</th>\n",
       "      <td>4</td>\n",
       "      <td>10</td>\n",
       "    </tr>\n",
       "    <tr>\n",
       "      <th>3</th>\n",
       "      <td>2</td>\n",
       "      <td>9</td>\n",
       "    </tr>\n",
       "  </tbody>\n",
       "</table>\n",
       "</div>"
      ],
      "text/plain": [
       "   Topic  Size\n",
       "1      0   143\n",
       "2      1   129\n",
       "4      3    56\n",
       "6      5    42\n",
       "0     -1    12\n",
       "5      4    10\n",
       "3      2     9"
      ]
     },
     "execution_count": 47,
     "metadata": {},
     "output_type": "execute_result"
    }
   ],
   "source": [
    "def extract_top_n_words_per_topic(tf_idf, count, docs_per_topic, n=20):\n",
    "    words = count.get_feature_names()\n",
    "    labels = list(docs_per_topic.Topic)\n",
    "    tf_idf_transposed = tf_idf.T\n",
    "    indices = tf_idf_transposed.argsort()[:, -n:]\n",
    "    top_n_words = {label: [(words[j], tf_idf_transposed[i][j]) for j in indices[i]][::-1] for i, label in enumerate(labels)}\n",
    "    return top_n_words\n",
    "\n",
    "def extract_topic_sizes(df):\n",
    "    topic_sizes = (df.groupby(['Topic'])\n",
    "                     ['processedsummary']\n",
    "                     .count()\n",
    "                     .reset_index()\n",
    "                     .rename({\"Topic\": \"Topic\", \"processedsummary\": \"Size\"}, axis='columns')\n",
    "                     .sort_values(\"Size\", ascending=False))\n",
    "    return topic_sizes\n",
    "\n",
    "top_n_words = extract_top_n_words_per_topic(tf_idf, count, docs_per_topic)\n",
    "topic_sizes = extract_topic_sizes(docs_df); topic_sizes.head(10)"
   ]
  },
  {
   "cell_type": "code",
   "execution_count": 48,
   "metadata": {},
   "outputs": [
    {
     "data": {
      "text/plain": [
       "[('follower', 0.07840396247570969),\n",
       " ('clinton', 0.057370858311435555),\n",
       " ('trump', 0.054976635702260836),\n",
       " ('candidate', 0.05402214691446087),\n",
       " ('hillary', 0.04030393704634989),\n",
       " ('presidential', 0.033255642651464176),\n",
       " ('sander', 0.032449435969718256),\n",
       " ('donald', 0.03125908322973943),\n",
       " ('leave', 0.027041196641431876),\n",
       " ('follow', 0.026571522428676993),\n",
       " ('woman', 0.02594746911182033),\n",
       " ('likely', 0.025862100134513594),\n",
       " ('influencers', 0.023720293777022797),\n",
       " ('following', 0.020834938697314596),\n",
       " ('card', 0.020151968523174944),\n",
       " ('number', 0.019388288938308962),\n",
       " ('camp', 0.018900961925245017),\n",
       " ('champion', 0.018900961925245017),\n",
       " ('clintonists', 0.018900961925245017),\n",
       " ('september', 0.017790220332767098)]"
      ]
     },
     "execution_count": 48,
     "metadata": {},
     "output_type": "execute_result"
    }
   ],
   "source": [
    "top_n_words[4][:30]"
   ]
  },
  {
   "cell_type": "code",
   "execution_count": 49,
   "metadata": {},
   "outputs": [
    {
     "data": {
      "text/plain": [
       "[('hateful', 0.009381379125582998),\n",
       " ('abusive', 0.00787089598102998),\n",
       " ('detection', 0.007777251982578517),\n",
       " ('speech', 0.007279155843196481),\n",
       " ('anti', 0.006663655067519613),\n",
       " ('content', 0.006425651483112818),\n",
       " ('tweet', 0.00622984519717809),\n",
       " ('political', 0.006184264309295787),\n",
       " ('covid', 0.006074506365335944),\n",
       " ('offensive', 0.006042670105779233),\n",
       " ('abuse', 0.005953192935938009),\n",
       " ('score', 0.005563743290381736),\n",
       " ('hate', 0.005451114220406797),\n",
       " ('comment', 0.005204380347596994),\n",
       " ('topic', 0.004929747713463867),\n",
       " ('party', 0.004814191461459205),\n",
       " ('news', 0.004747421221260884),\n",
       " ('detect', 0.004704104126677428),\n",
       " ('counter', 0.0046923788819221044),\n",
       " ('post', 0.004688239114289884)]"
      ]
     },
     "execution_count": 49,
     "metadata": {},
     "output_type": "execute_result"
    }
   ],
   "source": [
    "top_n_words[1][:30] "
   ]
  },
  {
   "cell_type": "code",
   "execution_count": 50,
   "metadata": {},
   "outputs": [
    {
     "data": {
      "text/plain": [
       "[('attribute', 0.006385011485780079),\n",
       " ('meta', 0.005298559398991851),\n",
       " ('age', 0.005136804946785345),\n",
       " ('sample', 0.004978472693400587),\n",
       " ('image', 0.004880273804048276),\n",
       " ('learning', 0.0047938352133327835),\n",
       " ('task', 0.004659239523034774),\n",
       " ('text', 0.004504868126813793),\n",
       " ('research', 0.0044991045852351575),\n",
       " ('representation', 0.0044706455353192886),\n",
       " ('algorithm', 0.0044269412968075215),\n",
       " ('search', 0.004352155374525892),\n",
       " ('accuracy', 0.004291318947301102),\n",
       " ('fairness', 0.00423286050652103),\n",
       " ('method', 0.004231333958414812),\n",
       " ('feature', 0.004196756502757868),\n",
       " ('result', 0.004187051677856794),\n",
       " ('face', 0.004180786080581894),\n",
       " ('use', 0.004144467627519994),\n",
       " ('author', 0.004127326639571592)]"
      ]
     },
     "execution_count": 50,
     "metadata": {},
     "output_type": "execute_result"
    }
   ],
   "source": [
    "top_n_words[0][:30] "
   ]
  },
  {
   "cell_type": "code",
   "execution_count": null,
   "metadata": {},
   "outputs": [],
   "source": []
  },
  {
   "attachments": {},
   "cell_type": "markdown",
   "metadata": {},
   "source": [
    "### Word + Doc Embedding"
   ]
  },
  {
   "cell_type": "code",
   "execution_count": 51,
   "metadata": {},
   "outputs": [],
   "source": [
    "from bertopic.backend import WordDocEmbedder\n",
    "import gensim.downloader as api\n",
    "\n",
    "# Word embedding model\n",
    "ft = api.load('fasttext-wiki-news-subwords-300')\n",
    "\n",
    "from bertopic import BERTopic"
   ]
  },
  {
   "cell_type": "code",
   "execution_count": 52,
   "metadata": {},
   "outputs": [],
   "source": [
    "# Document embedding model\n",
    "embedding_model = SentenceTransformer('distilbert-base-nli-mean-tokens') #this one worked better\n",
    "# embedding_model = SentenceTransformer('paraphrase-distilroberta-base-v1')\n",
    "\n",
    "# Create a model that uses both language models and pass it through BERTopic\n",
    "word_doc_embedder = WordDocEmbedder(embedding_model=embedding_model, word_embedding_model=ft)\n",
    "\n",
    "topic_model = BERTopic(embedding_model=word_doc_embedder)\n",
    "#embeddings_worddoc = topic_model.encode(data, show_progress_bar=True)"
   ]
  },
  {
   "cell_type": "code",
   "execution_count": 53,
   "metadata": {},
   "outputs": [
    {
     "data": {
      "text/html": [
       "<div>\n",
       "<style scoped>\n",
       "    .dataframe tbody tr th:only-of-type {\n",
       "        vertical-align: middle;\n",
       "    }\n",
       "\n",
       "    .dataframe tbody tr th {\n",
       "        vertical-align: top;\n",
       "    }\n",
       "\n",
       "    .dataframe thead th {\n",
       "        text-align: right;\n",
       "    }\n",
       "</style>\n",
       "<table border=\"1\" class=\"dataframe\">\n",
       "  <thead>\n",
       "    <tr style=\"text-align: right;\">\n",
       "      <th></th>\n",
       "      <th>Topic</th>\n",
       "      <th>Count</th>\n",
       "      <th>Name</th>\n",
       "    </tr>\n",
       "  </thead>\n",
       "  <tbody>\n",
       "    <tr>\n",
       "      <th>0</th>\n",
       "      <td>-1</td>\n",
       "      <td>129</td>\n",
       "      <td>-1_gender_user_social_bias</td>\n",
       "    </tr>\n",
       "    <tr>\n",
       "      <th>1</th>\n",
       "      <td>0</td>\n",
       "      <td>109</td>\n",
       "      <td>0_hate_speech_online_social</td>\n",
       "    </tr>\n",
       "    <tr>\n",
       "      <th>2</th>\n",
       "      <td>1</td>\n",
       "      <td>68</td>\n",
       "      <td>1_gender_social_model_attribute</td>\n",
       "    </tr>\n",
       "    <tr>\n",
       "      <th>3</th>\n",
       "      <td>2</td>\n",
       "      <td>40</td>\n",
       "      <td>2_user_social_gender_network</td>\n",
       "    </tr>\n",
       "    <tr>\n",
       "      <th>4</th>\n",
       "      <td>3</td>\n",
       "      <td>38</td>\n",
       "      <td>3_gender_woman_study_social</td>\n",
       "    </tr>\n",
       "    <tr>\n",
       "      <th>5</th>\n",
       "      <td>4</td>\n",
       "      <td>17</td>\n",
       "      <td>4_bias_model_data_meta</td>\n",
       "    </tr>\n",
       "  </tbody>\n",
       "</table>\n",
       "</div>"
      ],
      "text/plain": [
       "   Topic  Count                             Name\n",
       "0     -1    129       -1_gender_user_social_bias\n",
       "1      0    109      0_hate_speech_online_social\n",
       "2      1     68  1_gender_social_model_attribute\n",
       "3      2     40     2_user_social_gender_network\n",
       "4      3     38      3_gender_woman_study_social\n",
       "5      4     17           4_bias_model_data_meta"
      ]
     },
     "execution_count": 53,
     "metadata": {},
     "output_type": "execute_result"
    }
   ],
   "source": [
    "topics, probs = topic_model.fit_transform(data['processedsummary'])\n",
    "\n",
    "freq = topic_model.get_topic_info(); freq.head(10)"
   ]
  },
  {
   "attachments": {},
   "cell_type": "markdown",
   "metadata": {},
   "source": [
    "##### Check the topics that have 'sexism' or 'misogyny' in it "
   ]
  },
  {
   "cell_type": "code",
   "execution_count": 54,
   "metadata": {},
   "outputs": [
    {
     "data": {
      "text/plain": [
       "[3, 0, -1, 4, 1]"
      ]
     },
     "execution_count": 54,
     "metadata": {},
     "output_type": "execute_result"
    }
   ],
   "source": [
    "similar_topics, similarity = topic_model.find_topics(\"sexism\"); similar_topics \n",
    "# Most of the topics are related to sexism, which is expected from the query which was used to gather data from the API."
   ]
  },
  {
   "cell_type": "code",
   "execution_count": 55,
   "metadata": {},
   "outputs": [
    {
     "data": {
      "text/plain": [
       "[('gender', 0.08046677089123473),\n",
       " ('woman', 0.0489141377255614),\n",
       " ('study', 0.04178529243597041),\n",
       " ('social', 0.028591966054948244),\n",
       " ('medium', 0.02858221266792683),\n",
       " ('wikipedia', 0.027118803226033886),\n",
       " ('bias', 0.025316890120162045),\n",
       " ('user', 0.02503884021147182),\n",
       " ('men', 0.022968268605209344),\n",
       " ('difference', 0.022912720911304224)]"
      ]
     },
     "execution_count": 55,
     "metadata": {},
     "output_type": "execute_result"
    }
   ],
   "source": [
    "topic_model.get_topic(3)"
   ]
  },
  {
   "cell_type": "code",
   "execution_count": 56,
   "metadata": {},
   "outputs": [
    {
     "data": {
      "text/plain": [
       "[('hate', 0.0800859641794325),\n",
       " ('speech', 0.06789851593737199),\n",
       " ('online', 0.041389617539060064),\n",
       " ('social', 0.03425194201259263),\n",
       " ('content', 0.0326867295617788),\n",
       " ('hateful', 0.031245309504773514),\n",
       " ('medium', 0.030484874753809534),\n",
       " ('detection', 0.028564605365339807),\n",
       " ('model', 0.026802661496539308),\n",
       " ('tweet', 0.024701632379981273)]"
      ]
     },
     "execution_count": 56,
     "metadata": {},
     "output_type": "execute_result"
    }
   ],
   "source": [
    "topic_model.get_topic(0)"
   ]
  },
  {
   "cell_type": "code",
   "execution_count": 57,
   "metadata": {},
   "outputs": [
    {
     "data": {
      "text/plain": [
       "[('bias', 0.05303816621046512),\n",
       " ('model', 0.04448690683882269),\n",
       " ('data', 0.032363058271874724),\n",
       " ('meta', 0.03162161561944399),\n",
       " ('datasets', 0.030754456339591674),\n",
       " ('learning', 0.030169257337611128),\n",
       " ('based', 0.027901671391030843),\n",
       " ('language', 0.02731603756729795),\n",
       " ('sentiment', 0.027258436127839673),\n",
       " ('attribute', 0.025160206499478352)]"
      ]
     },
     "execution_count": 57,
     "metadata": {},
     "output_type": "execute_result"
    }
   ],
   "source": [
    "topic_model.get_topic(4)"
   ]
  },
  {
   "cell_type": "code",
   "execution_count": 58,
   "metadata": {},
   "outputs": [
    {
     "data": {
      "text/plain": [
       "[('gender', 0.03372621174500134),\n",
       " ('social', 0.031218270269110508),\n",
       " ('model', 0.02761000176635539),\n",
       " ('attribute', 0.026941772537652696),\n",
       " ('user', 0.026911852123451218),\n",
       " ('image', 0.025967006357431422),\n",
       " ('data', 0.02534740127124857),\n",
       " ('approach', 0.0249011914673085),\n",
       " ('network', 0.024268280780823517),\n",
       " ('learning', 0.023318261886010067)]"
      ]
     },
     "execution_count": 58,
     "metadata": {},
     "output_type": "execute_result"
    }
   ],
   "source": [
    "topic_model.get_topic(1)"
   ]
  },
  {
   "cell_type": "code",
   "execution_count": 59,
   "metadata": {},
   "outputs": [
    {
     "data": {
      "text/plain": [
       "[0, 3, -1, 4, 1]"
      ]
     },
     "execution_count": 59,
     "metadata": {},
     "output_type": "execute_result"
    }
   ],
   "source": [
    "similar_topics, similarity = topic_model.find_topics(\"misogyny\"); similar_topics\n",
    "\n",
    "## These are same topic numbers!"
   ]
  },
  {
   "cell_type": "code",
   "execution_count": null,
   "metadata": {},
   "outputs": [],
   "source": []
  }
 ],
 "metadata": {
  "kernelspec": {
   "display_name": "mlp",
   "language": "python",
   "name": "python3"
  },
  "language_info": {
   "codemirror_mode": {
    "name": "ipython",
    "version": 3
   },
   "file_extension": ".py",
   "mimetype": "text/x-python",
   "name": "python",
   "nbconvert_exporter": "python",
   "pygments_lexer": "ipython3",
   "version": "3.8.13"
  },
  "orig_nbformat": 4,
  "vscode": {
   "interpreter": {
    "hash": "a416f03cfb147488512f4759643ecc257e0c1cb5ba60170a7a416e21779e3a52"
   }
  }
 },
 "nbformat": 4,
 "nbformat_minor": 2
}
