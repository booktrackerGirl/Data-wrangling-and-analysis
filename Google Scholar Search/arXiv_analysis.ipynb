{
 "cells": [
  {
   "cell_type": "code",
   "execution_count": 1,
   "metadata": {},
   "outputs": [
    {
     "name": "stderr",
     "output_type": "stream",
     "text": [
      "[nltk_data] Downloading package omw-1.4 to\n",
      "[nltk_data]     /Users/aditidutta/nltk_data...\n",
      "[nltk_data]   Package omw-1.4 is already up-to-date!\n",
      "[nltk_data] Downloading package maxent_ne_chunker to\n",
      "[nltk_data]     /Users/aditidutta/nltk_data...\n",
      "[nltk_data]   Package maxent_ne_chunker is already up-to-date!\n",
      "[nltk_data] Downloading package words to\n",
      "[nltk_data]     /Users/aditidutta/nltk_data...\n",
      "[nltk_data]   Package words is already up-to-date!\n"
     ]
    }
   ],
   "source": [
    "import pandas as pd\n",
    "import matplotlib.pyplot as plt\n",
    "import numpy as np\n",
    "import pandas as pd\n",
    "import seaborn as sns\n",
    "#% matplotlib inline\n",
    "from datetime import datetime\n",
    "\n",
    "import plotly.graph_objs as go\n",
    "import plotly.offline as pyo\n",
    "import plotly.figure_factory as ff\n",
    "import plotly.express as px\n",
    "from plotly import tools\n",
    "from plotly.subplots import make_subplots\n",
    "from plotly.offline import iplot\n",
    "\n",
    "from textblob import TextBlob, Word, Blobber\n",
    "from textblob.classifiers import NaiveBayesClassifier\n",
    "from textblob.taggers import NLTKTagger\n",
    "\n",
    "import nltk\n",
    "from nltk.corpus import stopwords\n",
    "from nltk.stem.porter import PorterStemmer \n",
    "from nltk.stem import WordNetLemmatizer\n",
    "nltk.download('omw-1.4')\n",
    "from nltk.tokenize import word_tokenize\n",
    "nltk.download('maxent_ne_chunker')\n",
    "nltk.download('words')\n",
    "\n",
    "import string\n",
    "import gensim\n",
    "import collections\n",
    "from gensim.corpora import Dictionary\n",
    "\n",
    "from tqdm import tqdm\n",
    "tqdm.pandas(desc=\"progress-bar\")\n",
    "\n",
    "from gensim.models.ldamodel import LdaModel\n",
    "from gensim.models.coherencemodel import CoherenceModel\n",
    "\n",
    "from autocorrect import Speller\n",
    "\n",
    "from bs4 import BeautifulSoup\n",
    "import requests\n",
    "import csv\n",
    "import time\n",
    "\n",
    "import re\n",
    "import string\n",
    "import gc\n",
    "import warnings\n",
    "warnings.filterwarnings('ignore')"
   ]
  },
  {
   "attachments": {},
   "cell_type": "markdown",
   "metadata": {},
   "source": [
    "#### Using the arXiv API"
   ]
  },
  {
   "cell_type": "code",
   "execution_count": 2,
   "metadata": {},
   "outputs": [],
   "source": [
    "import requests \n",
    "import datetime as dt\n",
    "import xml.etree.ElementTree as ET\n",
    "import matplotlib.pyplot as plt"
   ]
  },
  {
   "cell_type": "code",
   "execution_count": 3,
   "metadata": {},
   "outputs": [],
   "source": [
    "# Parameters\n",
    "query = '(misogyny OR sexism OR sexist OR gender OR \"online hate\" OR \"online abuse\") AND (\"social media\" OR \"social platform\" OR twitter OR facebook OR reddit OR instagram OR meta OR linkedin OR youtube)' \n",
    "# original query only gave 22 results. This gives 405 results\n",
    "max_results = 1000"
   ]
  },
  {
   "cell_type": "code",
   "execution_count": 4,
   "metadata": {},
   "outputs": [],
   "source": [
    "#Call arXiv API with the query parameters\n",
    "url = f'http://export.arxiv.org/api/query?search_query={query}&max_results={max_results}'\n",
    "resp = requests.get(url)"
   ]
  },
  {
   "cell_type": "code",
   "execution_count": 5,
   "metadata": {},
   "outputs": [
    {
     "data": {
      "text/plain": [
       "Index(['id', 'updated', 'published', 'title', 'summary', 'author', 'comment',\n",
       "       'link', 'primary_category', 'category', 'doi', 'journal_ref'],\n",
       "      dtype='object')"
      ]
     },
     "execution_count": 5,
     "metadata": {},
     "output_type": "execute_result"
    }
   ],
   "source": [
    "# Parse the response.\n",
    "# The response is in XML format. We’ll use an XML parser to parse the response\n",
    "ns = { 'r':'http://www.w3.org/2005/Atom'}\n",
    "root = ET.fromstring(resp.text)\n",
    "\n",
    "# Construct the dataframe from the response\n",
    "all_papers = list()\n",
    "entries = root.findall('r:entry',namespaces=ns)\n",
    "for entry in entries :\n",
    "    all_papers.append({l.tag[l.tag.index('}')+1:] :l.text for l in entry})\n",
    "\n",
    "all_papers_df=pd.DataFrame(all_papers)\n",
    "all_papers_df.columns"
   ]
  },
  {
   "cell_type": "code",
   "execution_count": 6,
   "metadata": {},
   "outputs": [
    {
     "data": {
      "text/plain": [
       "10"
      ]
     },
     "execution_count": 6,
     "metadata": {},
     "output_type": "execute_result"
    }
   ],
   "source": [
    "len(all_papers_df)"
   ]
  },
  {
   "cell_type": "code",
   "execution_count": 7,
   "metadata": {},
   "outputs": [],
   "source": [
    "# Joining the titles and the abstracts \n",
    "all_papers_df['title & abstract'] = all_papers_df['title'] + ' ' + all_papers_df['summary']\n",
    "\n",
    "# Converting to datetime format\n",
    "all_papers_df['year'] = pd.to_datetime(all_papers_df['published']).dt.year"
   ]
  },
  {
   "cell_type": "code",
   "execution_count": 8,
   "metadata": {},
   "outputs": [],
   "source": [
    "# Removing dates till 2012 in post-filtering as only 'updated' and 'published' parameters are there\n",
    "all_papers_df = all_papers_df[all_papers_df.year > 2012]"
   ]
  },
  {
   "cell_type": "code",
   "execution_count": 9,
   "metadata": {},
   "outputs": [
    {
     "name": "stdout",
     "output_type": "stream",
     "text": [
      "CPU times: user 1 µs, sys: 1 µs, total: 2 µs\n",
      "Wall time: 2.86 µs\n"
     ]
    },
    {
     "data": {
      "text/html": [
       "<div>\n",
       "<style scoped>\n",
       "    .dataframe tbody tr th:only-of-type {\n",
       "        vertical-align: middle;\n",
       "    }\n",
       "\n",
       "    .dataframe tbody tr th {\n",
       "        vertical-align: top;\n",
       "    }\n",
       "\n",
       "    .dataframe thead th {\n",
       "        text-align: right;\n",
       "    }\n",
       "</style>\n",
       "<table border=\"1\" class=\"dataframe\">\n",
       "  <thead>\n",
       "    <tr style=\"text-align: right;\">\n",
       "      <th></th>\n",
       "      <th>year</th>\n",
       "      <th>title</th>\n",
       "      <th>summary</th>\n",
       "    </tr>\n",
       "  </thead>\n",
       "  <tbody>\n",
       "    <tr>\n",
       "      <th>7</th>\n",
       "      <td>2020</td>\n",
       "      <td>Automatic Detection of Sexist Statements Commo...</td>\n",
       "      <td>Detecting hate speech in the workplace is a ...</td>\n",
       "    </tr>\n",
       "    <tr>\n",
       "      <th>8</th>\n",
       "      <td>2022</td>\n",
       "      <td>AMS_ADRN at SemEval-2022 Task 5: A Suitable Im...</td>\n",
       "      <td>Women are influential online, especially in ...</td>\n",
       "    </tr>\n",
       "    <tr>\n",
       "      <th>9</th>\n",
       "      <td>2018</td>\n",
       "      <td>A Unified Deep Learning Architecture for Abuse...</td>\n",
       "      <td>Hate speech, offensive language, sexism, rac...</td>\n",
       "    </tr>\n",
       "  </tbody>\n",
       "</table>\n",
       "</div>"
      ],
      "text/plain": [
       "   year                                              title  \\\n",
       "7  2020  Automatic Detection of Sexist Statements Commo...   \n",
       "8  2022  AMS_ADRN at SemEval-2022 Task 5: A Suitable Im...   \n",
       "9  2018  A Unified Deep Learning Architecture for Abuse...   \n",
       "\n",
       "                                             summary  \n",
       "7    Detecting hate speech in the workplace is a ...  \n",
       "8    Women are influential online, especially in ...  \n",
       "9    Hate speech, offensive language, sexism, rac...  "
      ]
     },
     "execution_count": 9,
     "metadata": {},
     "output_type": "execute_result"
    }
   ],
   "source": [
    "import datetime\n",
    "%time\n",
    "def initial_process(df):\n",
    "    data = df.copy()\n",
    "    data = data[~data['summary'].isnull()]  # Remove rows with empty content\n",
    "\n",
    "    # Select contents of length between 140 and 2000 characters.\n",
    "    data = data[(data.summary.map(len) > 140) & (data.summary.map(len) <= 2000)]\n",
    "    data.reset_index(inplace=True, drop=True)\n",
    "\n",
    "    # collecting 10000 random sample for computational ease\n",
    "    #data = data.sample(10000, random_state=2021)\n",
    "    #data.reset_index(inplace=True, drop=True)\n",
    "    \n",
    "\n",
    "    # aligning the columns in order of requirement\n",
    "    data = data[['year', 'title', 'summary']]\n",
    "    # renaming date -> date_of_news\n",
    "    #data.rename(columns = {'date': 'date_of_news'}, inplace = True)\n",
    "    return (data)\n",
    "\n",
    "data = initial_process(all_papers_df)\n",
    "data.tail(3)"
   ]
  },
  {
   "cell_type": "code",
   "execution_count": 10,
   "metadata": {},
   "outputs": [
    {
     "data": {
      "image/png": "[encoded data removed]",
      "text/plain": [
       "<Figure size 1000x600 with 1 Axes>"
      ]
     },
     "metadata": {},
     "output_type": "display_data"
    }
   ],
   "source": [
    "years = data['year'].value_counts().to_frame()[:30]\n",
    "years.sort_values(by='year', ascending=True).plot(\n",
    "    kind = 'barh', colormap='jet', legend=False, figsize=(10, 6));\n",
    "plt.grid(True)"
   ]
  },
  {
   "cell_type": "code",
   "execution_count": 11,
   "metadata": {},
   "outputs": [
    {
     "data": {
      "application/vnd.plotly.v1+json": {
       "config": {
        "plotlyServerURL": "https://plot.ly"
       },
       "data": [
        {
         "alignmentgroup": "True",
         "hovertemplate": "year=%{x}<br>count=%{marker.color}<extra></extra>",
         "legendgroup": "",
         "marker": {
          "color": [
           2,
           1,
           1,
           1,
           3,
           2
          ],
          "coloraxis": "coloraxis",
          "pattern": {
           "shape": ""
          }
         },
         "name": "",
         "offsetgroup": "",
         "orientation": "v",
         "showlegend": false,
         "text": [
          2,
          1,
          1,
          1,
          3,
          2
         ],
         "textposition": "outside",
         "type": "bar",
         "x": [
          2017,
          2018,
          2019,
          2020,
          2021,
          2022
         ],
         "xaxis": "x",
         "y": [
          2,
          1,
          1,
          1,
          3,
          2
         ],
         "yaxis": "y"
        }
       ],
       "layout": {
        "barmode": "relative",
        "coloraxis": {
         "colorbar": {
          "title": {
           "text": "count"
          }
         },
         "colorscale": [
          [
           0,
           "#0d0887"
          ],
          [
           0.1111111111111111,
           "#46039f"
          ],
          [
           0.2222222222222222,
           "#7201a8"
          ],
          [
           0.3333333333333333,
           "#9c179e"
          ],
          [
           0.4444444444444444,
           "#bd3786"
          ],
          [
           0.5555555555555556,
           "#d8576b"
          ],
          [
           0.6666666666666666,
           "#ed7953"
          ],
          [
           0.7777777777777778,
           "#fb9f3a"
          ],
          [
           0.8888888888888888,
           "#fdca26"
          ],
          [
           1,
           "#f0f921"
          ]
         ],
         "showscale": false
        },
        "legend": {
         "tracegroupgap": 0
        },
        "margin": {
         "t": 60
        },
        "showlegend": false,
        "template": {
         "data": {
          "bar": [
           {
            "error_x": {
             "color": "#2a3f5f"
            },
            "error_y": {
             "color": "#2a3f5f"
            },
            "marker": {
             "line": {
              "color": "#E5ECF6",
              "width": 0.5
             },
             "pattern": {
              "fillmode": "overlay",
              "size": 10,
              "solidity": 0.2
             }
            },
            "type": "bar"
           }
          ],
          "barpolar": [
           {
            "marker": {
             "line": {
              "color": "#E5ECF6",
              "width": 0.5
             },
             "pattern": {
              "fillmode": "overlay",
              "size": 10,
              "solidity": 0.2
             }
            },
            "type": "barpolar"
           }
          ],
          "carpet": [
           {
            "aaxis": {
             "endlinecolor": "#2a3f5f",
             "gridcolor": "white",
             "linecolor": "white",
             "minorgridcolor": "white",
             "startlinecolor": "#2a3f5f"
            },
            "baxis": {
             "endlinecolor": "#2a3f5f",
             "gridcolor": "white",
             "linecolor": "white",
             "minorgridcolor": "white",
             "startlinecolor": "#2a3f5f"
            },
            "type": "carpet"
           }
          ],
          "choropleth": [
           {
            "colorbar": {
             "outlinewidth": 0,
             "ticks": ""
            },
            "type": "choropleth"
           }
          ],
          "contour": [
           {
            "colorbar": {
             "outlinewidth": 0,
             "ticks": ""
            },
            "colorscale": [
             [
              0,
              "#0d0887"
             ],
             [
              0.1111111111111111,
              "#46039f"
             ],
             [
              0.2222222222222222,
              "#7201a8"
             ],
             [
              0.3333333333333333,
              "#9c179e"
             ],
             [
              0.4444444444444444,
              "#bd3786"
             ],
             [
              0.5555555555555556,
              "#d8576b"
             ],
             [
              0.6666666666666666,
              "#ed7953"
             ],
             [
              0.7777777777777778,
              "#fb9f3a"
             ],
             [
              0.8888888888888888,
              "#fdca26"
             ],
             [
              1,
              "#f0f921"
             ]
            ],
            "type": "contour"
           }
          ],
          "contourcarpet": [
           {
            "colorbar": {
             "outlinewidth": 0,
             "ticks": ""
            },
            "type": "contourcarpet"
           }
          ],
          "heatmap": [
           {
            "colorbar": {
             "outlinewidth": 0,
             "ticks": ""
            },
            "colorscale": [
             [
              0,
              "#0d0887"
             ],
             [
              0.1111111111111111,
              "#46039f"
             ],
             [
              0.2222222222222222,
              "#7201a8"
             ],
             [
              0.3333333333333333,
              "#9c179e"
             ],
             [
              0.4444444444444444,
              "#bd3786"
             ],
             [
              0.5555555555555556,
              "#d8576b"
             ],
             [
              0.6666666666666666,
              "#ed7953"
             ],
             [
              0.7777777777777778,
              "#fb9f3a"
             ],
             [
              0.8888888888888888,
              "#fdca26"
             ],
             [
              1,
              "#f0f921"
             ]
            ],
            "type": "heatmap"
           }
          ],
          "heatmapgl": [
           {
            "colorbar": {
             "outlinewidth": 0,
             "ticks": ""
            },
            "colorscale": [
             [
              0,
              "#0d0887"
             ],
             [
              0.1111111111111111,
              "#46039f"
             ],
             [
              0.2222222222222222,
              "#7201a8"
             ],
             [
              0.3333333333333333,
              "#9c179e"
             ],
             [
              0.4444444444444444,
              "#bd3786"
             ],
             [
              0.5555555555555556,
              "#d8576b"
             ],
             [
              0.6666666666666666,
              "#ed7953"
             ],
             [
              0.7777777777777778,
              "#fb9f3a"
             ],
             [
              0.8888888888888888,
              "#fdca26"
             ],
             [
              1,
              "#f0f921"
             ]
            ],
            "type": "heatmapgl"
           }
          ],
          "histogram": [
           {
            "marker": {
             "pattern": {
              "fillmode": "overlay",
              "size": 10,
              "solidity": 0.2
             }
            },
            "type": "histogram"
           }
          ],
          "histogram2d": [
           {
            "colorbar": {
             "outlinewidth": 0,
             "ticks": ""
            },
            "colorscale": [
             [
              0,
              "#0d0887"
             ],
             [
              0.1111111111111111,
              "#46039f"
             ],
             [
              0.2222222222222222,
              "#7201a8"
             ],
             [
              0.3333333333333333,
              "#9c179e"
             ],
             [
              0.4444444444444444,
              "#bd3786"
             ],
             [
              0.5555555555555556,
              "#d8576b"
             ],
             [
              0.6666666666666666,
              "#ed7953"
             ],
             [
              0.7777777777777778,
              "#fb9f3a"
             ],
             [
              0.8888888888888888,
              "#fdca26"
             ],
             [
              1,
              "#f0f921"
             ]
            ],
            "type": "histogram2d"
           }
          ],
          "histogram2dcontour": [
           {
            "colorbar": {
             "outlinewidth": 0,
             "ticks": ""
            },
            "colorscale": [
             [
              0,
              "#0d0887"
             ],
             [
              0.1111111111111111,
              "#46039f"
             ],
             [
              0.2222222222222222,
              "#7201a8"
             ],
             [
              0.3333333333333333,
              "#9c179e"
             ],
             [
              0.4444444444444444,
              "#bd3786"
             ],
             [
              0.5555555555555556,
              "#d8576b"
             ],
             [
              0.6666666666666666,
              "#ed7953"
             ],
             [
              0.7777777777777778,
              "#fb9f3a"
             ],
             [
              0.8888888888888888,
              "#fdca26"
             ],
             [
              1,
              "#f0f921"
             ]
            ],
            "type": "histogram2dcontour"
           }
          ],
          "mesh3d": [
           {
            "colorbar": {
             "outlinewidth": 0,
             "ticks": ""
            },
            "type": "mesh3d"
           }
          ],
          "parcoords": [
           {
            "line": {
             "colorbar": {
              "outlinewidth": 0,
              "ticks": ""
             }
            },
            "type": "parcoords"
           }
          ],
          "pie": [
           {
            "automargin": true,
            "type": "pie"
           }
          ],
          "scatter": [
           {
            "fillpattern": {
             "fillmode": "overlay",
             "size": 10,
             "solidity": 0.2
            },
            "type": "scatter"
           }
          ],
          "scatter3d": [
           {
            "line": {
             "colorbar": {
              "outlinewidth": 0,
              "ticks": ""
             }
            },
            "marker": {
             "colorbar": {
              "outlinewidth": 0,
              "ticks": ""
             }
            },
            "type": "scatter3d"
           }
          ],
          "scattercarpet": [
           {
            "marker": {
             "colorbar": {
              "outlinewidth": 0,
              "ticks": ""
             }
            },
            "type": "scattercarpet"
           }
          ],
          "scattergeo": [
           {
            "marker": {
             "colorbar": {
              "outlinewidth": 0,
              "ticks": ""
             }
            },
            "type": "scattergeo"
           }
          ],
          "scattergl": [
           {
            "marker": {
             "colorbar": {
              "outlinewidth": 0,
              "ticks": ""
             }
            },
            "type": "scattergl"
           }
          ],
          "scattermapbox": [
           {
            "marker": {
             "colorbar": {
              "outlinewidth": 0,
              "ticks": ""
             }
            },
            "type": "scattermapbox"
           }
          ],
          "scatterpolar": [
           {
            "marker": {
             "colorbar": {
              "outlinewidth": 0,
              "ticks": ""
             }
            },
            "type": "scatterpolar"
           }
          ],
          "scatterpolargl": [
           {
            "marker": {
             "colorbar": {
              "outlinewidth": 0,
              "ticks": ""
             }
            },
            "type": "scatterpolargl"
           }
          ],
          "scatterternary": [
           {
            "marker": {
             "colorbar": {
              "outlinewidth": 0,
              "ticks": ""
             }
            },
            "type": "scatterternary"
           }
          ],
          "surface": [
           {
            "colorbar": {
             "outlinewidth": 0,
             "ticks": ""
            },
            "colorscale": [
             [
              0,
              "#0d0887"
             ],
             [
              0.1111111111111111,
              "#46039f"
             ],
             [
              0.2222222222222222,
              "#7201a8"
             ],
             [
              0.3333333333333333,
              "#9c179e"
             ],
             [
              0.4444444444444444,
              "#bd3786"
             ],
             [
              0.5555555555555556,
              "#d8576b"
             ],
             [
              0.6666666666666666,
              "#ed7953"
             ],
             [
              0.7777777777777778,
              "#fb9f3a"
             ],
             [
              0.8888888888888888,
              "#fdca26"
             ],
             [
              1,
              "#f0f921"
             ]
            ],
            "type": "surface"
           }
          ],
          "table": [
           {
            "cells": {
             "fill": {
              "color": "#EBF0F8"
             },
             "line": {
              "color": "white"
             }
            },
            "header": {
             "fill": {
              "color": "#C8D4E3"
             },
             "line": {
              "color": "white"
             }
            },
            "type": "table"
           }
          ]
         },
         "layout": {
          "annotationdefaults": {
           "arrowcolor": "#2a3f5f",
           "arrowhead": 0,
           "arrowwidth": 1
          },
          "autotypenumbers": "strict",
          "coloraxis": {
           "colorbar": {
            "outlinewidth": 0,
            "ticks": ""
           }
          },
          "colorscale": {
           "diverging": [
            [
             0,
             "#8e0152"
            ],
            [
             0.1,
             "#c51b7d"
            ],
            [
             0.2,
             "#de77ae"
            ],
            [
             0.3,
             "#f1b6da"
            ],
            [
             0.4,
             "#fde0ef"
            ],
            [
             0.5,
             "#f7f7f7"
            ],
            [
             0.6,
             "#e6f5d0"
            ],
            [
             0.7,
             "#b8e186"
            ],
            [
             0.8,
             "#7fbc41"
            ],
            [
             0.9,
             "#4d9221"
            ],
            [
             1,
             "#276419"
            ]
           ],
           "sequential": [
            [
             0,
             "#0d0887"
            ],
            [
             0.1111111111111111,
             "#46039f"
            ],
            [
             0.2222222222222222,
             "#7201a8"
            ],
            [
             0.3333333333333333,
             "#9c179e"
            ],
            [
             0.4444444444444444,
             "#bd3786"
            ],
            [
             0.5555555555555556,
             "#d8576b"
            ],
            [
             0.6666666666666666,
             "#ed7953"
            ],
            [
             0.7777777777777778,
             "#fb9f3a"
            ],
            [
             0.8888888888888888,
             "#fdca26"
            ],
            [
             1,
             "#f0f921"
            ]
           ],
           "sequentialminus": [
            [
             0,
             "#0d0887"
            ],
            [
             0.1111111111111111,
             "#46039f"
            ],
            [
             0.2222222222222222,
             "#7201a8"
            ],
            [
             0.3333333333333333,
             "#9c179e"
            ],
            [
             0.4444444444444444,
             "#bd3786"
            ],
            [
             0.5555555555555556,
             "#d8576b"
            ],
            [
             0.6666666666666666,
             "#ed7953"
            ],
            [
             0.7777777777777778,
             "#fb9f3a"
            ],
            [
             0.8888888888888888,
             "#fdca26"
            ],
            [
             1,
             "#f0f921"
            ]
           ]
          },
          "colorway": [
           "#636efa",
           "#EF553B",
           "#00cc96",
           "#ab63fa",
           "#FFA15A",
           "#19d3f3",
           "#FF6692",
           "#B6E880",
           "#FF97FF",
           "#FECB52"
          ],
          "font": {
           "color": "#2a3f5f"
          },
          "geo": {
           "bgcolor": "white",
           "lakecolor": "white",
           "landcolor": "#E5ECF6",
           "showlakes": true,
           "showland": true,
           "subunitcolor": "white"
          },
          "hoverlabel": {
           "align": "left"
          },
          "hovermode": "closest",
          "mapbox": {
           "style": "light"
          },
          "paper_bgcolor": "white",
          "plot_bgcolor": "#E5ECF6",
          "polar": {
           "angularaxis": {
            "gridcolor": "white",
            "linecolor": "white",
            "ticks": ""
           },
           "bgcolor": "#E5ECF6",
           "radialaxis": {
            "gridcolor": "white",
            "linecolor": "white",
            "ticks": ""
           }
          },
          "scene": {
           "xaxis": {
            "backgroundcolor": "#E5ECF6",
            "gridcolor": "white",
            "gridwidth": 2,
            "linecolor": "white",
            "showbackground": true,
            "ticks": "",
            "zerolinecolor": "white"
           },
           "yaxis": {
            "backgroundcolor": "#E5ECF6",
            "gridcolor": "white",
            "gridwidth": 2,
            "linecolor": "white",
            "showbackground": true,
            "ticks": "",
            "zerolinecolor": "white"
           },
           "zaxis": {
            "backgroundcolor": "#E5ECF6",
            "gridcolor": "white",
            "gridwidth": 2,
            "linecolor": "white",
            "showbackground": true,
            "ticks": "",
            "zerolinecolor": "white"
           }
          },
          "shapedefaults": {
           "line": {
            "color": "#2a3f5f"
           }
          },
          "ternary": {
           "aaxis": {
            "gridcolor": "white",
            "linecolor": "white",
            "ticks": ""
           },
           "baxis": {
            "gridcolor": "white",
            "linecolor": "white",
            "ticks": ""
           },
           "bgcolor": "#E5ECF6",
           "caxis": {
            "gridcolor": "white",
            "linecolor": "white",
            "ticks": ""
           }
          },
          "title": {
           "x": 0.05
          },
          "xaxis": {
           "automargin": true,
           "gridcolor": "white",
           "linecolor": "white",
           "ticks": "",
           "title": {
            "standoff": 15
           },
           "zerolinecolor": "white",
           "zerolinewidth": 2
          },
          "yaxis": {
           "automargin": true,
           "gridcolor": "white",
           "linecolor": "white",
           "ticks": "",
           "title": {
            "standoff": 15
           },
           "zerolinecolor": "white",
           "zerolinewidth": 2
          }
         }
        },
        "title": {
         "text": "Number of preprints by years",
         "x": 0.5,
         "y": 0.92
        },
        "uniformtext": {
         "minsize": 8,
         "mode": "hide"
        },
        "xaxis": {
         "anchor": "y",
         "domain": [
          0,
          1
         ],
         "tickmode": "array",
         "ticktext": [
          2017,
          2018,
          2019,
          2020,
          2021,
          2022
         ],
         "tickvals": [
          2017,
          2018,
          2019,
          2020,
          2021,
          2022
         ],
         "title": {
          "text": "year"
         }
        },
        "yaxis": {
         "anchor": "x",
         "categoryorder": "total ascending",
         "domain": [
          0,
          1
         ],
         "range": [
          0,
          90
         ],
         "title": {
          "text": "count"
         }
        }
       }
      }
     },
     "metadata": {},
     "output_type": "display_data"
    }
   ],
   "source": [
    "df_pub_years = pd.DataFrame({\n",
    "    'year': data['year'].dropna().unique(),\n",
    "    'count': data['year'].value_counts().tolist()\n",
    "})\n",
    "df_pub_years = df_pub_years.sort_values(by='year', ascending=True)\n",
    "tick_val = df_pub_years.year.to_list()\n",
    "\n",
    "fig = px.bar(df_pub_years, x=\"year\", y=\"count\", color= \"count\", \n",
    "            hover_data=['year'], text ='count')\n",
    "fig.update_layout(yaxis={'categoryorder':'total ascending'})\n",
    "fig.update_layout(uniformtext_minsize=8, uniformtext_mode='hide')\n",
    "fig.update_traces(textposition='outside')\n",
    "fig.update_layout(title_text='Number of preprints by years', title_x=0.5, title_y=0.92,\n",
    "    showlegend=False)\n",
    "fig.update_yaxes(range=[0,90])\n",
    "fig.update_layout(\n",
    "    xaxis = dict(\n",
    "        tickmode = 'array',\n",
    "        tickvals = tick_val,\n",
    "        ticktext = tick_val\n",
    "    )\n",
    ")\n",
    "fig.update_coloraxes(showscale=False)\n",
    "\n",
    "fig.show()"
   ]
  },
  {
   "cell_type": "code",
   "execution_count": null,
   "metadata": {},
   "outputs": [],
   "source": []
  },
  {
   "attachments": {},
   "cell_type": "markdown",
   "metadata": {},
   "source": [
    "### Further preprocessing"
   ]
  },
  {
   "cell_type": "code",
   "execution_count": 12,
   "metadata": {},
   "outputs": [
    {
     "name": "stdout",
     "output_type": "stream",
     "text": [
      "CPU times: user 1 µs, sys: 0 ns, total: 1 µs\n",
      "Wall time: 3.1 µs\n"
     ]
    },
    {
     "data": {
      "text/html": [
       "<div>\n",
       "<style scoped>\n",
       "    .dataframe tbody tr th:only-of-type {\n",
       "        vertical-align: middle;\n",
       "    }\n",
       "\n",
       "    .dataframe tbody tr th {\n",
       "        vertical-align: top;\n",
       "    }\n",
       "\n",
       "    .dataframe thead th {\n",
       "        text-align: right;\n",
       "    }\n",
       "</style>\n",
       "<table border=\"1\" class=\"dataframe\">\n",
       "  <thead>\n",
       "    <tr style=\"text-align: right;\">\n",
       "      <th></th>\n",
       "      <th>year</th>\n",
       "      <th>title</th>\n",
       "      <th>summary</th>\n",
       "      <th>processedsummary</th>\n",
       "    </tr>\n",
       "  </thead>\n",
       "  <tbody>\n",
       "    <tr>\n",
       "      <th>0</th>\n",
       "      <td>2021</td>\n",
       "      <td>Let-Mi: An Arabic Levantine Twitter Dataset fo...</td>\n",
       "      <td>Online misogyny has become an increasing wor...</td>\n",
       "      <td>online misogyny has become an increasing worry...</td>\n",
       "    </tr>\n",
       "    <tr>\n",
       "      <th>1</th>\n",
       "      <td>2022</td>\n",
       "      <td>SexWEs: Domain-Aware Word Embeddings via Cross...</td>\n",
       "      <td>The goal of sexism detection is to mitigate ...</td>\n",
       "      <td>the goal of sexism detection is to mitigate ne...</td>\n",
       "    </tr>\n",
       "    <tr>\n",
       "      <th>2</th>\n",
       "      <td>2017</td>\n",
       "      <td>Wearing Many (Social) Hats: How Different are ...</td>\n",
       "      <td>This paper investigates when users create pr...</td>\n",
       "      <td>this paper investigates when users create prof...</td>\n",
       "    </tr>\n",
       "  </tbody>\n",
       "</table>\n",
       "</div>"
      ],
      "text/plain": [
       "   year                                              title  \\\n",
       "0  2021  Let-Mi: An Arabic Levantine Twitter Dataset fo...   \n",
       "1  2022  SexWEs: Domain-Aware Word Embeddings via Cross...   \n",
       "2  2017  Wearing Many (Social) Hats: How Different are ...   \n",
       "\n",
       "                                             summary  \\\n",
       "0    Online misogyny has become an increasing wor...   \n",
       "1    The goal of sexism detection is to mitigate ...   \n",
       "2    This paper investigates when users create pr...   \n",
       "\n",
       "                                    processedsummary  \n",
       "0  online misogyny has become an increasing worry...  \n",
       "1  the goal of sexism detection is to mitigate ne...  \n",
       "2  this paper investigates when users create prof...  "
      ]
     },
     "execution_count": 12,
     "metadata": {},
     "output_type": "execute_result"
    }
   ],
   "source": [
    "%time\n",
    "def preProcess(text):\n",
    "    #  Remove non-ASCII characters\n",
    "    text = text.encode('ascii', 'ignore').decode('utf-8', 'ignore').lower()                   # lower case lowers the sparsity of the data\n",
    "  \n",
    "    # remove numbers\n",
    "    text = re.sub(r'\\d+', '', str(text))\n",
    "\n",
    "    # removing salutaions (if any)\n",
    "    text = re.sub(\"Mr\\.\",'Mr',  str(text))\n",
    "    text = re.sub(\"Mrs\\.\",'Mrs',str(text))\n",
    "\n",
    "    text = re.sub(r\"what's\", \"what is \", text)\n",
    "    text = re.sub(r'won\\'t', 'will not', text)\n",
    "    text = text.replace('(ap)', '')\n",
    "    text = re.sub(r\"\\'s\", \" is \", text)\n",
    "    text = re.sub(r'(\\w+)\\'s', '\\g<1> is', text)\n",
    "    text = re.sub(r'(\\w+)\\'ve', '\\g<1> have', text)\n",
    "    text = re.sub(r\"can't\", \"cannot \", text)\n",
    "    text = re.sub(r\"n't\", \" not \", text)\n",
    "    text = re.sub(r\"i'm\", \"i am \", text)\n",
    "    text = re.sub(r\"\\'re\", \" are \", text)\n",
    "    text = re.sub(r\"\\'d\", \" would \", text)\n",
    "    text = re.sub(r\"\\'ll\", \" will \", text)\n",
    "\n",
    "   \n",
    "    # substitute multiple whitespace with single whitespace\n",
    "    # Also, removes leading and trailing whitespaces\n",
    "    text = re.sub(r'\\W+', ' ', text)\n",
    "    text = re.sub(r'\\s+', ' ', text)\n",
    "  \n",
    "    # removing any reference to outside text\n",
    "    text = re.sub(r\"\\\\\", \"\", text)\n",
    "    text = re.sub(r\"\\'\", \"\", text)    \n",
    "    text = re.sub(r\"\\\"\", \"\", text)\n",
    "\n",
    "    text = text.strip()\n",
    "    return text\n",
    "\n",
    "# preprocessing texts\n",
    "data['processedsummary'] = data['summary'].apply(preProcess)\n",
    "data.head(3)"
   ]
  },
  {
   "attachments": {},
   "cell_type": "markdown",
   "metadata": {},
   "source": [
    "##### Removing rare words"
   ]
  },
  {
   "cell_type": "code",
   "execution_count": 13,
   "metadata": {},
   "outputs": [
    {
     "name": "stdout",
     "output_type": "stream",
     "text": [
      "CPU times: user 1 µs, sys: 1e+03 ns, total: 2 µs\n",
      "Wall time: 1.91 µs\n"
     ]
    },
    {
     "data": {
      "text/html": [
       "<div>\n",
       "<style scoped>\n",
       "    .dataframe tbody tr th:only-of-type {\n",
       "        vertical-align: middle;\n",
       "    }\n",
       "\n",
       "    .dataframe tbody tr th {\n",
       "        vertical-align: top;\n",
       "    }\n",
       "\n",
       "    .dataframe thead th {\n",
       "        text-align: right;\n",
       "    }\n",
       "</style>\n",
       "<table border=\"1\" class=\"dataframe\">\n",
       "  <thead>\n",
       "    <tr style=\"text-align: right;\">\n",
       "      <th></th>\n",
       "      <th>year</th>\n",
       "      <th>title</th>\n",
       "      <th>summary</th>\n",
       "      <th>processedsummary</th>\n",
       "    </tr>\n",
       "  </thead>\n",
       "  <tbody>\n",
       "    <tr>\n",
       "      <th>0</th>\n",
       "      <td>2021</td>\n",
       "      <td>Let-Mi: An Arabic Levantine Twitter Dataset fo...</td>\n",
       "      <td>Online misogyny has become an increasing wor...</td>\n",
       "      <td>online misogyny has become an increasing worry...</td>\n",
       "    </tr>\n",
       "    <tr>\n",
       "      <th>1</th>\n",
       "      <td>2022</td>\n",
       "      <td>SexWEs: Domain-Aware Word Embeddings via Cross...</td>\n",
       "      <td>The goal of sexism detection is to mitigate ...</td>\n",
       "      <td>the goal of sexism detection is to mitigate ne...</td>\n",
       "    </tr>\n",
       "    <tr>\n",
       "      <th>2</th>\n",
       "      <td>2017</td>\n",
       "      <td>Wearing Many (Social) Hats: How Different are ...</td>\n",
       "      <td>This paper investigates when users create pr...</td>\n",
       "      <td>this paper investigates when users create prof...</td>\n",
       "    </tr>\n",
       "  </tbody>\n",
       "</table>\n",
       "</div>"
      ],
      "text/plain": [
       "   year                                              title  \\\n",
       "0  2021  Let-Mi: An Arabic Levantine Twitter Dataset fo...   \n",
       "1  2022  SexWEs: Domain-Aware Word Embeddings via Cross...   \n",
       "2  2017  Wearing Many (Social) Hats: How Different are ...   \n",
       "\n",
       "                                             summary  \\\n",
       "0    Online misogyny has become an increasing wor...   \n",
       "1    The goal of sexism detection is to mitigate ...   \n",
       "2    This paper investigates when users create pr...   \n",
       "\n",
       "                                    processedsummary  \n",
       "0  online misogyny has become an increasing worry...  \n",
       "1  the goal of sexism detection is to mitigate ne...  \n",
       "2  this paper investigates when users create prof...  "
      ]
     },
     "execution_count": 13,
     "metadata": {},
     "output_type": "execute_result"
    }
   ],
   "source": [
    "%time\n",
    "num_of_rare_words = 25\n",
    "RARE_WORDS = set([w for (w, wc) in collections.Counter().most_common()[:-num_of_rare_words-1:-1]])\n",
    "def remove_rare_words(text):\n",
    "    return \" \".join([word for word in str(text).split() if word not in RARE_WORDS])\n",
    "\n",
    "data[\"processedsummary\"] = data[\"processedsummary\"].apply(lambda text: remove_rare_words(text))\n",
    "data.head(3)"
   ]
  },
  {
   "attachments": {},
   "cell_type": "markdown",
   "metadata": {},
   "source": [
    "##### Frequent words removal"
   ]
  },
  {
   "cell_type": "code",
   "execution_count": 14,
   "metadata": {},
   "outputs": [
    {
     "name": "stdout",
     "output_type": "stream",
     "text": [
      "CPU times: user 1e+03 ns, sys: 1e+03 ns, total: 2 µs\n",
      "Wall time: 3.1 µs\n"
     ]
    },
    {
     "data": {
      "text/html": [
       "<div>\n",
       "<style scoped>\n",
       "    .dataframe tbody tr th:only-of-type {\n",
       "        vertical-align: middle;\n",
       "    }\n",
       "\n",
       "    .dataframe tbody tr th {\n",
       "        vertical-align: top;\n",
       "    }\n",
       "\n",
       "    .dataframe thead th {\n",
       "        text-align: right;\n",
       "    }\n",
       "</style>\n",
       "<table border=\"1\" class=\"dataframe\">\n",
       "  <thead>\n",
       "    <tr style=\"text-align: right;\">\n",
       "      <th></th>\n",
       "      <th>year</th>\n",
       "      <th>title</th>\n",
       "      <th>summary</th>\n",
       "      <th>processedsummary</th>\n",
       "    </tr>\n",
       "  </thead>\n",
       "  <tbody>\n",
       "    <tr>\n",
       "      <th>0</th>\n",
       "      <td>2021</td>\n",
       "      <td>Let-Mi: An Arabic Levantine Twitter Dataset fo...</td>\n",
       "      <td>Online misogyny has become an increasing wor...</td>\n",
       "      <td>online misogyny has become an increasing worry...</td>\n",
       "    </tr>\n",
       "    <tr>\n",
       "      <th>1</th>\n",
       "      <td>2022</td>\n",
       "      <td>SexWEs: Domain-Aware Word Embeddings via Cross...</td>\n",
       "      <td>The goal of sexism detection is to mitigate ...</td>\n",
       "      <td>the goal of sexism detection is to mitigate ne...</td>\n",
       "    </tr>\n",
       "    <tr>\n",
       "      <th>2</th>\n",
       "      <td>2017</td>\n",
       "      <td>Wearing Many (Social) Hats: How Different are ...</td>\n",
       "      <td>This paper investigates when users create pr...</td>\n",
       "      <td>this paper investigates when users create prof...</td>\n",
       "    </tr>\n",
       "  </tbody>\n",
       "</table>\n",
       "</div>"
      ],
      "text/plain": [
       "   year                                              title  \\\n",
       "0  2021  Let-Mi: An Arabic Levantine Twitter Dataset fo...   \n",
       "1  2022  SexWEs: Domain-Aware Word Embeddings via Cross...   \n",
       "2  2017  Wearing Many (Social) Hats: How Different are ...   \n",
       "\n",
       "                                             summary  \\\n",
       "0    Online misogyny has become an increasing wor...   \n",
       "1    The goal of sexism detection is to mitigate ...   \n",
       "2    This paper investigates when users create pr...   \n",
       "\n",
       "                                    processedsummary  \n",
       "0  online misogyny has become an increasing worry...  \n",
       "1  the goal of sexism detection is to mitigate ne...  \n",
       "2  this paper investigates when users create prof...  "
      ]
     },
     "execution_count": 14,
     "metadata": {},
     "output_type": "execute_result"
    }
   ],
   "source": [
    "%time\n",
    "FREQ_WORDS = set([w for (w, wc) in collections.Counter().most_common(25)])\n",
    "def remove_freq_words(text):\n",
    "    return \" \".join([word for word in str(text).split() if word not in FREQ_WORDS])\n",
    "\n",
    "data[\"processedsummary\"] = data[\"processedsummary\"].apply(lambda text: remove_freq_words(text))\n",
    "data.head(3)"
   ]
  },
  {
   "attachments": {},
   "cell_type": "markdown",
   "metadata": {},
   "source": [
    "##### Stopwords removal"
   ]
  },
  {
   "cell_type": "code",
   "execution_count": 15,
   "metadata": {},
   "outputs": [
    {
     "name": "stdout",
     "output_type": "stream",
     "text": [
      "CPU times: user 1e+03 ns, sys: 0 ns, total: 1e+03 ns\n",
      "Wall time: 3.1 µs\n"
     ]
    },
    {
     "data": {
      "text/html": [
       "<div>\n",
       "<style scoped>\n",
       "    .dataframe tbody tr th:only-of-type {\n",
       "        vertical-align: middle;\n",
       "    }\n",
       "\n",
       "    .dataframe tbody tr th {\n",
       "        vertical-align: top;\n",
       "    }\n",
       "\n",
       "    .dataframe thead th {\n",
       "        text-align: right;\n",
       "    }\n",
       "</style>\n",
       "<table border=\"1\" class=\"dataframe\">\n",
       "  <thead>\n",
       "    <tr style=\"text-align: right;\">\n",
       "      <th></th>\n",
       "      <th>year</th>\n",
       "      <th>title</th>\n",
       "      <th>summary</th>\n",
       "      <th>processedsummary</th>\n",
       "    </tr>\n",
       "  </thead>\n",
       "  <tbody>\n",
       "    <tr>\n",
       "      <th>0</th>\n",
       "      <td>2021</td>\n",
       "      <td>Let-Mi: An Arabic Levantine Twitter Dataset fo...</td>\n",
       "      <td>Online misogyny has become an increasing wor...</td>\n",
       "      <td>online misogyny become increasing worry arab w...</td>\n",
       "    </tr>\n",
       "    <tr>\n",
       "      <th>1</th>\n",
       "      <td>2022</td>\n",
       "      <td>SexWEs: Domain-Aware Word Embeddings via Cross...</td>\n",
       "      <td>The goal of sexism detection is to mitigate ...</td>\n",
       "      <td>goal sexism detection mitigate negative online...</td>\n",
       "    </tr>\n",
       "    <tr>\n",
       "      <th>2</th>\n",
       "      <td>2017</td>\n",
       "      <td>Wearing Many (Social) Hats: How Different are ...</td>\n",
       "      <td>This paper investigates when users create pr...</td>\n",
       "      <td>paper investigates users create profiles diffe...</td>\n",
       "    </tr>\n",
       "    <tr>\n",
       "      <th>3</th>\n",
       "      <td>2019</td>\n",
       "      <td>When a Tweet is Actually Sexist. A more Compre...</td>\n",
       "      <td>Sexism is very common in social media and ma...</td>\n",
       "      <td>sexism common social media makes boundaries fr...</td>\n",
       "    </tr>\n",
       "    <tr>\n",
       "      <th>4</th>\n",
       "      <td>2019</td>\n",
       "      <td>How is Your Mood When Writing Sexist tweets? D...</td>\n",
       "      <td>Online social platforms have been the battle...</td>\n",
       "      <td>online social platforms battlefield users diff...</td>\n",
       "    </tr>\n",
       "  </tbody>\n",
       "</table>\n",
       "</div>"
      ],
      "text/plain": [
       "   year                                              title  \\\n",
       "0  2021  Let-Mi: An Arabic Levantine Twitter Dataset fo...   \n",
       "1  2022  SexWEs: Domain-Aware Word Embeddings via Cross...   \n",
       "2  2017  Wearing Many (Social) Hats: How Different are ...   \n",
       "3  2019  When a Tweet is Actually Sexist. A more Compre...   \n",
       "4  2019  How is Your Mood When Writing Sexist tweets? D...   \n",
       "\n",
       "                                             summary  \\\n",
       "0    Online misogyny has become an increasing wor...   \n",
       "1    The goal of sexism detection is to mitigate ...   \n",
       "2    This paper investigates when users create pr...   \n",
       "3    Sexism is very common in social media and ma...   \n",
       "4    Online social platforms have been the battle...   \n",
       "\n",
       "                                    processedsummary  \n",
       "0  online misogyny become increasing worry arab w...  \n",
       "1  goal sexism detection mitigate negative online...  \n",
       "2  paper investigates users create profiles diffe...  \n",
       "3  sexism common social media makes boundaries fr...  \n",
       "4  online social platforms battlefield users diff...  "
      ]
     },
     "execution_count": 15,
     "metadata": {},
     "output_type": "execute_result"
    }
   ],
   "source": [
    "%time\n",
    "\n",
    "stop_words = set(stopwords.words('english'))\n",
    "\n",
    "# add words that aren't in the NLTK stopwords list\n",
    "STOPWORDS = list(stop_words)\n",
    "#print(STOPWORDS); print()\n",
    "#print(len(STOPWORDS))\n",
    "\n",
    "def remove_stopwords(text):\n",
    "    return \" \".join([word for word in str(text).split() if word not in STOPWORDS])\n",
    "\n",
    "data[\"processedsummary\"] = data[\"processedsummary\"].apply(lambda text: remove_stopwords(text))\n",
    "data.head(5)"
   ]
  },
  {
   "attachments": {},
   "cell_type": "markdown",
   "metadata": {},
   "source": [
    "##### Lemmatizing"
   ]
  },
  {
   "cell_type": "code",
   "execution_count": 16,
   "metadata": {},
   "outputs": [
    {
     "data": {
      "text/html": [
       "<div>\n",
       "<style scoped>\n",
       "    .dataframe tbody tr th:only-of-type {\n",
       "        vertical-align: middle;\n",
       "    }\n",
       "\n",
       "    .dataframe tbody tr th {\n",
       "        vertical-align: top;\n",
       "    }\n",
       "\n",
       "    .dataframe thead th {\n",
       "        text-align: right;\n",
       "    }\n",
       "</style>\n",
       "<table border=\"1\" class=\"dataframe\">\n",
       "  <thead>\n",
       "    <tr style=\"text-align: right;\">\n",
       "      <th></th>\n",
       "      <th>year</th>\n",
       "      <th>title</th>\n",
       "      <th>summary</th>\n",
       "      <th>processedsummary</th>\n",
       "    </tr>\n",
       "  </thead>\n",
       "  <tbody>\n",
       "    <tr>\n",
       "      <th>0</th>\n",
       "      <td>2021</td>\n",
       "      <td>Let-Mi: An Arabic Levantine Twitter Dataset fo...</td>\n",
       "      <td>Online misogyny has become an increasing wor...</td>\n",
       "      <td>online misogyny become increasing worry arab w...</td>\n",
       "    </tr>\n",
       "    <tr>\n",
       "      <th>1</th>\n",
       "      <td>2022</td>\n",
       "      <td>SexWEs: Domain-Aware Word Embeddings via Cross...</td>\n",
       "      <td>The goal of sexism detection is to mitigate ...</td>\n",
       "      <td>goal sexism detection mitigate negative online...</td>\n",
       "    </tr>\n",
       "    <tr>\n",
       "      <th>2</th>\n",
       "      <td>2017</td>\n",
       "      <td>Wearing Many (Social) Hats: How Different are ...</td>\n",
       "      <td>This paper investigates when users create pr...</td>\n",
       "      <td>paper investigates user create profile differe...</td>\n",
       "    </tr>\n",
       "    <tr>\n",
       "      <th>3</th>\n",
       "      <td>2019</td>\n",
       "      <td>When a Tweet is Actually Sexist. A more Compre...</td>\n",
       "      <td>Sexism is very common in social media and ma...</td>\n",
       "      <td>sexism common social medium make boundary free...</td>\n",
       "    </tr>\n",
       "    <tr>\n",
       "      <th>4</th>\n",
       "      <td>2019</td>\n",
       "      <td>How is Your Mood When Writing Sexist tweets? D...</td>\n",
       "      <td>Online social platforms have been the battle...</td>\n",
       "      <td>online social platform battlefield user differ...</td>\n",
       "    </tr>\n",
       "  </tbody>\n",
       "</table>\n",
       "</div>"
      ],
      "text/plain": [
       "   year                                              title  \\\n",
       "0  2021  Let-Mi: An Arabic Levantine Twitter Dataset fo...   \n",
       "1  2022  SexWEs: Domain-Aware Word Embeddings via Cross...   \n",
       "2  2017  Wearing Many (Social) Hats: How Different are ...   \n",
       "3  2019  When a Tweet is Actually Sexist. A more Compre...   \n",
       "4  2019  How is Your Mood When Writing Sexist tweets? D...   \n",
       "\n",
       "                                             summary  \\\n",
       "0    Online misogyny has become an increasing wor...   \n",
       "1    The goal of sexism detection is to mitigate ...   \n",
       "2    This paper investigates when users create pr...   \n",
       "3    Sexism is very common in social media and ma...   \n",
       "4    Online social platforms have been the battle...   \n",
       "\n",
       "                                    processedsummary  \n",
       "0  online misogyny become increasing worry arab w...  \n",
       "1  goal sexism detection mitigate negative online...  \n",
       "2  paper investigates user create profile differe...  \n",
       "3  sexism common social medium make boundary free...  \n",
       "4  online social platform battlefield user differ...  "
      ]
     },
     "execution_count": 16,
     "metadata": {},
     "output_type": "execute_result"
    }
   ],
   "source": [
    "wnl = WordNetLemmatizer()\n",
    "def lemmatize_words(text):\n",
    "    return \" \".join([wnl.lemmatize(word) for word in text.split()])\n",
    "\n",
    "data[\"processedsummary\"] = data[\"processedsummary\"].apply(lambda text: lemmatize_words(text))\n",
    "data.head()"
   ]
  },
  {
   "attachments": {},
   "cell_type": "markdown",
   "metadata": {},
   "source": [
    "##### Remove punctuations"
   ]
  },
  {
   "cell_type": "code",
   "execution_count": 17,
   "metadata": {},
   "outputs": [
    {
     "name": "stdout",
     "output_type": "stream",
     "text": [
      "CPU times: user 1 µs, sys: 0 ns, total: 1 µs\n",
      "Wall time: 1.91 µs\n"
     ]
    },
    {
     "data": {
      "text/html": [
       "<div>\n",
       "<style scoped>\n",
       "    .dataframe tbody tr th:only-of-type {\n",
       "        vertical-align: middle;\n",
       "    }\n",
       "\n",
       "    .dataframe tbody tr th {\n",
       "        vertical-align: top;\n",
       "    }\n",
       "\n",
       "    .dataframe thead th {\n",
       "        text-align: right;\n",
       "    }\n",
       "</style>\n",
       "<table border=\"1\" class=\"dataframe\">\n",
       "  <thead>\n",
       "    <tr style=\"text-align: right;\">\n",
       "      <th></th>\n",
       "      <th>year</th>\n",
       "      <th>title</th>\n",
       "      <th>summary</th>\n",
       "      <th>processedsummary</th>\n",
       "    </tr>\n",
       "  </thead>\n",
       "  <tbody>\n",
       "    <tr>\n",
       "      <th>0</th>\n",
       "      <td>2021</td>\n",
       "      <td>Let-Mi: An Arabic Levantine Twitter Dataset fo...</td>\n",
       "      <td>Online misogyny has become an increasing wor...</td>\n",
       "      <td>online misogyny become increasing worry arab w...</td>\n",
       "    </tr>\n",
       "    <tr>\n",
       "      <th>1</th>\n",
       "      <td>2022</td>\n",
       "      <td>SexWEs: Domain-Aware Word Embeddings via Cross...</td>\n",
       "      <td>The goal of sexism detection is to mitigate ...</td>\n",
       "      <td>goal sexism detection mitigate negative online...</td>\n",
       "    </tr>\n",
       "    <tr>\n",
       "      <th>2</th>\n",
       "      <td>2017</td>\n",
       "      <td>Wearing Many (Social) Hats: How Different are ...</td>\n",
       "      <td>This paper investigates when users create pr...</td>\n",
       "      <td>paper investigates user create profile differe...</td>\n",
       "    </tr>\n",
       "    <tr>\n",
       "      <th>3</th>\n",
       "      <td>2019</td>\n",
       "      <td>When a Tweet is Actually Sexist. A more Compre...</td>\n",
       "      <td>Sexism is very common in social media and ma...</td>\n",
       "      <td>sexism common social medium make boundary free...</td>\n",
       "    </tr>\n",
       "    <tr>\n",
       "      <th>4</th>\n",
       "      <td>2019</td>\n",
       "      <td>How is Your Mood When Writing Sexist tweets? D...</td>\n",
       "      <td>Online social platforms have been the battle...</td>\n",
       "      <td>online social platform battlefield user differ...</td>\n",
       "    </tr>\n",
       "  </tbody>\n",
       "</table>\n",
       "</div>"
      ],
      "text/plain": [
       "   year                                              title  \\\n",
       "0  2021  Let-Mi: An Arabic Levantine Twitter Dataset fo...   \n",
       "1  2022  SexWEs: Domain-Aware Word Embeddings via Cross...   \n",
       "2  2017  Wearing Many (Social) Hats: How Different are ...   \n",
       "3  2019  When a Tweet is Actually Sexist. A more Compre...   \n",
       "4  2019  How is Your Mood When Writing Sexist tweets? D...   \n",
       "\n",
       "                                             summary  \\\n",
       "0    Online misogyny has become an increasing wor...   \n",
       "1    The goal of sexism detection is to mitigate ...   \n",
       "2    This paper investigates when users create pr...   \n",
       "3    Sexism is very common in social media and ma...   \n",
       "4    Online social platforms have been the battle...   \n",
       "\n",
       "                                    processedsummary  \n",
       "0  online misogyny become increasing worry arab w...  \n",
       "1  goal sexism detection mitigate negative online...  \n",
       "2  paper investigates user create profile differe...  \n",
       "3  sexism common social medium make boundary free...  \n",
       "4  online social platform battlefield user differ...  "
      ]
     },
     "execution_count": 17,
     "metadata": {},
     "output_type": "execute_result"
    }
   ],
   "source": [
    "%time\n",
    "PUNCT_REMOVE = string.punctuation\n",
    "def remove_punctuation(text):\n",
    "    return text.translate(str.maketrans('', '', PUNCT_REMOVE))\n",
    "\n",
    "data[\"processedsummary\"] = data[\"processedsummary\"].apply(lambda text: remove_punctuation(text))\n",
    "data.head()\n"
   ]
  },
  {
   "attachments": {},
   "cell_type": "markdown",
   "metadata": {},
   "source": [
    "##### Tokenization"
   ]
  },
  {
   "cell_type": "code",
   "execution_count": 18,
   "metadata": {},
   "outputs": [
    {
     "data": {
      "text/html": [
       "<div>\n",
       "<style scoped>\n",
       "    .dataframe tbody tr th:only-of-type {\n",
       "        vertical-align: middle;\n",
       "    }\n",
       "\n",
       "    .dataframe tbody tr th {\n",
       "        vertical-align: top;\n",
       "    }\n",
       "\n",
       "    .dataframe thead th {\n",
       "        text-align: right;\n",
       "    }\n",
       "</style>\n",
       "<table border=\"1\" class=\"dataframe\">\n",
       "  <thead>\n",
       "    <tr style=\"text-align: right;\">\n",
       "      <th></th>\n",
       "      <th>year</th>\n",
       "      <th>title</th>\n",
       "      <th>summary</th>\n",
       "      <th>processedsummary</th>\n",
       "      <th>tokens</th>\n",
       "      <th>ner</th>\n",
       "    </tr>\n",
       "  </thead>\n",
       "  <tbody>\n",
       "    <tr>\n",
       "      <th>7</th>\n",
       "      <td>2020</td>\n",
       "      <td>Automatic Detection of Sexist Statements Commo...</td>\n",
       "      <td>Detecting hate speech in the workplace is a ...</td>\n",
       "      <td>detecting hate speech workplace unique classif...</td>\n",
       "      <td>[detecting, hate, speech, workplace, unique, c...</td>\n",
       "      <td>[(detecting, VBG), (hate, NN), (speech, NN), (...</td>\n",
       "    </tr>\n",
       "    <tr>\n",
       "      <th>8</th>\n",
       "      <td>2022</td>\n",
       "      <td>AMS_ADRN at SemEval-2022 Task 5: A Suitable Im...</td>\n",
       "      <td>Women are influential online, especially in ...</td>\n",
       "      <td>woman influential online especially image base...</td>\n",
       "      <td>[woman, influential, online, especially, image...</td>\n",
       "      <td>[(woman, NN), (influential, JJ), (online, NN),...</td>\n",
       "    </tr>\n",
       "    <tr>\n",
       "      <th>9</th>\n",
       "      <td>2018</td>\n",
       "      <td>A Unified Deep Learning Architecture for Abuse...</td>\n",
       "      <td>Hate speech, offensive language, sexism, rac...</td>\n",
       "      <td>hate speech offensive language sexism racism t...</td>\n",
       "      <td>[hate, speech, offensive, language, sexism, ra...</td>\n",
       "      <td>[(hate, NN), (speech, NN), (offensive, JJ), (l...</td>\n",
       "    </tr>\n",
       "  </tbody>\n",
       "</table>\n",
       "</div>"
      ],
      "text/plain": [
       "   year                                              title  \\\n",
       "7  2020  Automatic Detection of Sexist Statements Commo...   \n",
       "8  2022  AMS_ADRN at SemEval-2022 Task 5: A Suitable Im...   \n",
       "9  2018  A Unified Deep Learning Architecture for Abuse...   \n",
       "\n",
       "                                             summary  \\\n",
       "7    Detecting hate speech in the workplace is a ...   \n",
       "8    Women are influential online, especially in ...   \n",
       "9    Hate speech, offensive language, sexism, rac...   \n",
       "\n",
       "                                    processedsummary  \\\n",
       "7  detecting hate speech workplace unique classif...   \n",
       "8  woman influential online especially image base...   \n",
       "9  hate speech offensive language sexism racism t...   \n",
       "\n",
       "                                              tokens  \\\n",
       "7  [detecting, hate, speech, workplace, unique, c...   \n",
       "8  [woman, influential, online, especially, image...   \n",
       "9  [hate, speech, offensive, language, sexism, ra...   \n",
       "\n",
       "                                                 ner  \n",
       "7  [(detecting, VBG), (hate, NN), (speech, NN), (...  \n",
       "8  [(woman, NN), (influential, JJ), (online, NN),...  \n",
       "9  [(hate, NN), (speech, NN), (offensive, JJ), (l...  "
      ]
     },
     "execution_count": 18,
     "metadata": {},
     "output_type": "execute_result"
    }
   ],
   "source": [
    "# tokenizer to 'processedContent' column through all rows and store in 'tokens' column.\n",
    "data['tokens'] = data['processedsummary'].apply(word_tokenize) \n",
    "\n",
    "#  POS tagging of the sentence and ne_chunk() to recognize each named entity in sentences\n",
    "data['ner'] = data['processedsummary']\\\n",
    "    .apply(lambda x: nltk.ne_chunk(nltk.pos_tag(nltk.word_tokenize(x)),binary=True))\n",
    "data.tail(3)"
   ]
  },
  {
   "attachments": {},
   "cell_type": "markdown",
   "metadata": {},
   "source": [
    "### Term Document Frequency"
   ]
  },
  {
   "cell_type": "code",
   "execution_count": 19,
   "metadata": {},
   "outputs": [
    {
     "name": "stdout",
     "output_type": "stream",
     "text": [
      "CPU times: user 1 µs, sys: 0 ns, total: 1 µs\n",
      "Wall time: 2.15 µs\n"
     ]
    },
    {
     "name": "stderr",
     "output_type": "stream",
     "text": [
      "progress-bar: 100%|██████████| 10/10 [00:00<00:00, 5684.88it/s]\n"
     ]
    }
   ],
   "source": [
    "%time\n",
    "yDf = data[['year', 'title', 'tokens']].copy()\n",
    "\n",
    "bigram = gensim.models.Phrases(yDf['tokens'], min_count=5, threshold=100)\n",
    "bigramModel = gensim.models.phrases.Phraser(bigram)\n",
    "\n",
    "yDf['bigramTokens'] = yDf['tokens'].progress_map(lambda tokens: bigramModel[tokens])\n",
    "\n",
    "# Creating Dictionary\n",
    "id2word = Dictionary(yDf['bigramTokens'])\n",
    "\n",
    "# Creating Corpus\n",
    "texts = yDf['bigramTokens'].tolist()\n",
    "dictionary = Dictionary(texts)\n",
    "\n",
    "# Term Document Frequency\n",
    "corpus = [id2word.doc2bow(text) for text in texts]"
   ]
  },
  {
   "attachments": {},
   "cell_type": "markdown",
   "metadata": {},
   "source": [
    "### Defining LDA model"
   ]
  },
  {
   "cell_type": "code",
   "execution_count": 20,
   "metadata": {},
   "outputs": [
    {
     "name": "stdout",
     "output_type": "stream",
     "text": [
      "CPU times: user 1 µs, sys: 0 ns, total: 1 µs\n",
      "Wall time: 1.91 µs\n"
     ]
    },
    {
     "name": "stderr",
     "output_type": "stream",
     "text": [
      "                                             \r"
     ]
    },
    {
     "data": {
      "image/png": "[encoded data removed]",
      "text/plain": [
       "<Figure size 1000x500 with 1 Axes>"
      ]
     },
     "metadata": {},
     "output_type": "display_data"
    }
   ],
   "source": [
    "\n",
    "%time\n",
    "\n",
    "# Define LDA model in function that takes the number of topics as a parameter.\n",
    "def LDAmodel(num_topics, passes=1):\n",
    "    return gensim.models.ldamodel.LdaModel(\n",
    "        corpus=tqdm(corpus, leave=False),\n",
    "        id2word=id2word,\n",
    "        alpha='auto', eta='auto',\n",
    "        num_topics=num_topics, # the number of topics is equal to num_topics\n",
    "        random_state=2021,\n",
    "        eval_every=1,\n",
    "        chunksize=2000,\n",
    "        passes=passes,\n",
    "        per_word_topics=True\n",
    "        )\n",
    "    \n",
    "def coherence_computation(model):\n",
    "    coherence = CoherenceModel(\n",
    "        model = model, \n",
    "        texts = texts,\n",
    "        dictionary = id2word, coherence='c_v'\n",
    "        )\n",
    "    return coherence.get_coherence()\n",
    "\n",
    "def display_topics(model):\n",
    "    topics = model.show_topics(num_topics=model.num_topics, formatted=False, num_words=10)\n",
    "    topics = map(lambda c: map(lambda cc: cc[0], c[1]), topics)\n",
    "    DATA = pd.DataFrame(topics)\n",
    "    DATA.index = ['topic_{0}'.format(i) for i in range(model.num_topics)]\n",
    "    DATA.columns = ['keyword_{0}'.format(i) for i in range(1, 10+1)]\n",
    "    return DATA\n",
    "\n",
    "def explore_models(DATA, range = range(5, 25)):\n",
    "    id2word = Dictionary(DATA['bigramTokens'])\n",
    "    texts = DATA['bigramTokens'].tolist()\n",
    "    corpus = [id2word.doc2bow(text) for text in texts]\n",
    "\n",
    "    coherence_values = []\n",
    "    model_list = []\n",
    "    \n",
    "    for num_topics in tqdm(range, leave=False):\n",
    "        lda = LDAmodel(num_topics, passes=5)\n",
    "        model_list.append(lda)\n",
    "        coherence = coherence_computation(lda)\n",
    "        coherence_values.append(coherence)\n",
    "      \n",
    "    fig = plt.figure(figsize=(10,5))\n",
    "    plt.title('Optimal number of topics')\n",
    "    plt.xlabel('Number of topics')\n",
    "    plt.ylabel('Coherence Score')\n",
    "    plt.grid(True)\n",
    "    plt.plot(range, coherence_values)\n",
    "    \n",
    "    return coherence_values, model_list\n",
    "\n",
    "coherence_values, model_list = explore_models(yDf, range = range(5, 40, 5))"
   ]
  },
  {
   "attachments": {},
   "cell_type": "markdown",
   "metadata": {},
   "source": [
    "##### Printing the coherence scores"
   ]
  },
  {
   "cell_type": "code",
   "execution_count": 21,
   "metadata": {},
   "outputs": [
    {
     "name": "stdout",
     "output_type": "stream",
     "text": [
      "Num Topics = 5  has Coherence Value of 0.4969\n",
      "Num Topics = 11  has Coherence Value of 0.5052\n",
      "Num Topics = 17  has Coherence Value of 0.4768\n",
      "Num Topics = 23  has Coherence Value of 0.6175\n",
      "Num Topics = 29  has Coherence Value of 0.5512\n",
      "Num Topics = 35  has Coherence Value of 0.5742\n"
     ]
    }
   ],
   "source": [
    "# Print the coherence scores\n",
    "limit=40; start=5; step=6;\n",
    "x = range(start, limit, step)\n",
    "\n",
    "for m, cv in zip(x, coherence_values):\n",
    "    print(\"Num Topics =\", m, \" has Coherence Value of\", round(cv, 4))"
   ]
  },
  {
   "cell_type": "code",
   "execution_count": 22,
   "metadata": {},
   "outputs": [
    {
     "name": "stderr",
     "output_type": "stream",
     "text": [
      "                                      "
     ]
    },
    {
     "name": "stdout",
     "output_type": "stream",
     "text": [
      "        keyword_1     keyword_2  keyword_3   keyword_4      keyword_5  \\\n",
      "topic_0   dataset          task    twitter    misogyny         arabic   \n",
      "topic_1   profile          user   platform  difference         social   \n",
      "topic_2    sexism         model  workplace      speech           hate   \n",
      "topic_3  behavior       abusive   platform   different        twitter   \n",
      "topic_4    gender         image   language     profile         social   \n",
      "topic_5  category          user      tweet     dataset         social   \n",
      "topic_6    system      misogyny     gender     dataset           task   \n",
      "topic_7    sexism      category     social       tweet         medium   \n",
      "topic_8      meme  misogynistic    content     dataset  crowdsourcing   \n",
      "topic_9    sexism          word   language    resource         vector   \n",
      "\n",
      "            keyword_6    keyword_7       keyword_8   keyword_9  keyword_10  \n",
      "topic_0      behavior       system        learning      online     abusive  \n",
      "topic_1     different  description             auc   behaviour        used  \n",
      "topic_2       hostile    detection          social         art      sexist  \n",
      "topic_3  architecture     approach        multiple        hate      sexism  \n",
      "topic_4        sexism      network       different        user  embeddings  \n",
      "topic_5        sexism    different        platform    language       state  \n",
      "topic_6        arabic        woman          online  embeddings    learning  \n",
      "topic_7    harassment        woman          online    language        user  \n",
      "topic_8      platform       expert       collected        text   automatic  \n",
      "topic_9      semantic    detection  specialisation  evaluation      sexwes  \n"
     ]
    },
    {
     "name": "stderr",
     "output_type": "stream",
     "text": [
      "\r"
     ]
    }
   ],
   "source": [
    "pd.options.display.max_columns = 20\n",
    "bestModel = LDAmodel(num_topics=10, passes=5)\n",
    "print(display_topics(model = bestModel))"
   ]
  },
  {
   "cell_type": "code",
   "execution_count": 23,
   "metadata": {},
   "outputs": [
    {
     "name": "stdout",
     "output_type": "stream",
     "text": [
      "\n",
      "c_v Coherence Score:  0.5052089966257757\n"
     ]
    }
   ],
   "source": [
    "# Compute Coherence Score using c_v\n",
    "coherence_model_lda = CoherenceModel(model=bestModel, texts=texts, dictionary=dictionary, coherence='c_v')\n",
    "coherence_lda = coherence_model_lda.get_coherence()\n",
    "print('\\nc_v Coherence Score: ', coherence_lda)"
   ]
  },
  {
   "cell_type": "code",
   "execution_count": 24,
   "metadata": {},
   "outputs": [
    {
     "name": "stdout",
     "output_type": "stream",
     "text": [
      "\n",
      "UMass Coherence Score:  -1.8405852359247827\n"
     ]
    }
   ],
   "source": [
    "# Compute Coherence Score using UMass\n",
    "coherence_model_lda = CoherenceModel(model=bestModel, texts=texts, dictionary=dictionary, coherence=\"u_mass\")\n",
    "coherence_lda = coherence_model_lda.get_coherence()\n",
    "print('\\nUMass Coherence Score: ', coherence_lda)"
   ]
  },
  {
   "cell_type": "code",
   "execution_count": null,
   "metadata": {},
   "outputs": [],
   "source": []
  },
  {
   "cell_type": "code",
   "execution_count": null,
   "metadata": {},
   "outputs": [],
   "source": []
  },
  {
   "attachments": {},
   "cell_type": "markdown",
   "metadata": {},
   "source": [
    "### Topic modelling"
   ]
  },
  {
   "cell_type": "code",
   "execution_count": 25,
   "metadata": {},
   "outputs": [],
   "source": [
    "import os\n",
    "os.environ['KMP_DUPLICATE_LIB_OK']='True'\n",
    "\n",
    "from sentence_transformers import SentenceTransformer\n",
    "import hdbscan\n",
    "import matplotlib.pyplot as plt\n",
    "\n",
    "import umap"
   ]
  },
  {
   "attachments": {},
   "cell_type": "markdown",
   "metadata": {},
   "source": [
    "#### Sentence embeddings"
   ]
  },
  {
   "cell_type": "code",
   "execution_count": 26,
   "metadata": {},
   "outputs": [
    {
     "data": {
      "application/json": {
       "ascii": false,
       "bar_format": null,
       "colour": null,
       "elapsed": 0.015683650970458984,
       "initial": 0,
       "n": 0,
       "ncols": null,
       "nrows": null,
       "postfix": null,
       "prefix": "Batches",
       "rate": null,
       "total": 1,
       "unit": "it",
       "unit_divisor": 1000,
       "unit_scale": false
      },
      "application/vnd.jupyter.widget-view+json": {
       "model_id": "8c584e564c434065a0fa523eeadb4dce",
       "version_major": 2,
       "version_minor": 0
      },
      "text/plain": [
       "Batches:   0%|          | 0/1 [00:00<?, ?it/s]"
      ]
     },
     "metadata": {},
     "output_type": "display_data"
    }
   ],
   "source": [
    "#https://www.kdnuggets.com/2020/11/topic-modeling-bert.html\n",
    "model = SentenceTransformer('distilbert-base-nli-mean-tokens')\n",
    "\n",
    "data1 = data['processedsummary']\n",
    "\n",
    "#train_df.loc[pd.isnull(train_df.selected_text),:]\n",
    "\n",
    "embeddings = model.encode(data1, show_progress_bar=True)"
   ]
  },
  {
   "cell_type": "code",
   "execution_count": 27,
   "metadata": {},
   "outputs": [
    {
     "ename": "IndexError",
     "evalue": "single positional indexer is out-of-bounds",
     "output_type": "error",
     "traceback": [
      "\u001b[0;31m---------------------------------------------------------------------------\u001b[0m",
      "\u001b[0;31mIndexError\u001b[0m                                Traceback (most recent call last)",
      "\u001b[1;32m/Users/aditidutta/Library/CloudStorage/OneDrive-UniversityofExeter/Miscellaneous/Data-wrangling-and-analysis/Data-wrangling-and-analysis/Google Scholar Search/arXiv_analysis.ipynb Cell 43\u001b[0m in \u001b[0;36m<cell line: 1>\u001b[0;34m()\u001b[0m\n\u001b[0;32m----> <a href='vscode-notebook-cell:/Users/aditidutta/Library/CloudStorage/OneDrive-UniversityofExeter/Miscellaneous/Data-wrangling-and-analysis/Data-wrangling-and-analysis/Google%20Scholar%20Search/arXiv_analysis.ipynb#X60sZmlsZQ%3D%3D?line=0'>1</a>\u001b[0m data1\u001b[39m.\u001b[39;49miloc[\u001b[39m10\u001b[39;49m]\n",
      "File \u001b[0;32m~/yes/envs/mlp/lib/python3.8/site-packages/pandas/core/indexing.py:967\u001b[0m, in \u001b[0;36m_LocationIndexer.__getitem__\u001b[0;34m(self, key)\u001b[0m\n\u001b[1;32m    964\u001b[0m axis \u001b[39m=\u001b[39m \u001b[39mself\u001b[39m\u001b[39m.\u001b[39maxis \u001b[39mor\u001b[39;00m \u001b[39m0\u001b[39m\n\u001b[1;32m    966\u001b[0m maybe_callable \u001b[39m=\u001b[39m com\u001b[39m.\u001b[39mapply_if_callable(key, \u001b[39mself\u001b[39m\u001b[39m.\u001b[39mobj)\n\u001b[0;32m--> 967\u001b[0m \u001b[39mreturn\u001b[39;00m \u001b[39mself\u001b[39;49m\u001b[39m.\u001b[39;49m_getitem_axis(maybe_callable, axis\u001b[39m=\u001b[39;49maxis)\n",
      "File \u001b[0;32m~/yes/envs/mlp/lib/python3.8/site-packages/pandas/core/indexing.py:1520\u001b[0m, in \u001b[0;36m_iLocIndexer._getitem_axis\u001b[0;34m(self, key, axis)\u001b[0m\n\u001b[1;32m   1517\u001b[0m     \u001b[39mraise\u001b[39;00m \u001b[39mTypeError\u001b[39;00m(\u001b[39m\"\u001b[39m\u001b[39mCannot index by location index with a non-integer key\u001b[39m\u001b[39m\"\u001b[39m)\n\u001b[1;32m   1519\u001b[0m \u001b[39m# validate the location\u001b[39;00m\n\u001b[0;32m-> 1520\u001b[0m \u001b[39mself\u001b[39;49m\u001b[39m.\u001b[39;49m_validate_integer(key, axis)\n\u001b[1;32m   1522\u001b[0m \u001b[39mreturn\u001b[39;00m \u001b[39mself\u001b[39m\u001b[39m.\u001b[39mobj\u001b[39m.\u001b[39m_ixs(key, axis\u001b[39m=\u001b[39maxis)\n",
      "File \u001b[0;32m~/yes/envs/mlp/lib/python3.8/site-packages/pandas/core/indexing.py:1452\u001b[0m, in \u001b[0;36m_iLocIndexer._validate_integer\u001b[0;34m(self, key, axis)\u001b[0m\n\u001b[1;32m   1450\u001b[0m len_axis \u001b[39m=\u001b[39m \u001b[39mlen\u001b[39m(\u001b[39mself\u001b[39m\u001b[39m.\u001b[39mobj\u001b[39m.\u001b[39m_get_axis(axis))\n\u001b[1;32m   1451\u001b[0m \u001b[39mif\u001b[39;00m key \u001b[39m>\u001b[39m\u001b[39m=\u001b[39m len_axis \u001b[39mor\u001b[39;00m key \u001b[39m<\u001b[39m \u001b[39m-\u001b[39mlen_axis:\n\u001b[0;32m-> 1452\u001b[0m     \u001b[39mraise\u001b[39;00m \u001b[39mIndexError\u001b[39;00m(\u001b[39m\"\u001b[39m\u001b[39msingle positional indexer is out-of-bounds\u001b[39m\u001b[39m\"\u001b[39m)\n",
      "\u001b[0;31mIndexError\u001b[0m: single positional indexer is out-of-bounds"
     ]
    }
   ],
   "source": [
    "data1.iloc[10]"
   ]
  },
  {
   "cell_type": "code",
   "execution_count": null,
   "metadata": {},
   "outputs": [
    {
     "data": {
      "text/plain": [
       "399"
      ]
     },
     "execution_count": 157,
     "metadata": {},
     "output_type": "execute_result"
    }
   ],
   "source": [
    "len(data1)"
   ]
  },
  {
   "cell_type": "code",
   "execution_count": null,
   "metadata": {},
   "outputs": [
    {
     "data": {
      "text/plain": [
       "(399, 768)"
      ]
     },
     "execution_count": 158,
     "metadata": {},
     "output_type": "execute_result"
    }
   ],
   "source": [
    "embeddings.shape"
   ]
  },
  {
   "attachments": {},
   "cell_type": "markdown",
   "metadata": {},
   "source": [
    "UMAP has several hyperparameters that can have a significant impact on the resulting embedding. The four major ones are listed below:\n",
    "\n",
    "```n_neighbors``` - This parameter controls how UMAP balances local versus global structure in the data. It does this by constraining the size of the local neighborhood UMAP will look at when attempting to learn the manifold structure of the data.\n",
    "\n",
    "```min_dist``` - This parameter controls how tightly UMAP is allowed to pack points together. It, quite literally, provides the minimum distance apart that points are allowed to be in the low dimensional representation.\n",
    "\n",
    "```n_components``` - This allows the user to determine the dimensionality of the reduced dimension space we will be embedding the data into. \n",
    "\n",
    "```metric``` - This controls how distance is computed in the ambient space of the input data. \n",
    "\n",
    "Each of these parameters has a distinct effect, and we will look at each in turn. To make exploration simpler we will first write a short utility function that can fit the data with UMAP given a set of parameter choices, and plot the result."
   ]
  },
  {
   "cell_type": "code",
   "execution_count": null,
   "metadata": {},
   "outputs": [
    {
     "data": {
      "text/plain": [
       "(399, 50)"
      ]
     },
     "execution_count": 159,
     "metadata": {},
     "output_type": "execute_result"
    }
   ],
   "source": [
    "umap_data1 = umap.UMAP(n_neighbors=200, n_components=50, min_dist=0.5, metric='correlation').fit_transform(embeddings)\n",
    "umap_data1.shape"
   ]
  },
  {
   "attachments": {},
   "cell_type": "markdown",
   "metadata": {},
   "source": [
    "The primary parameter to effect the resulting clustering is min_cluster_size. Ideally this is a relatively intuitive parameter to select – set it to the smallest size grouping that you wish to consider a cluster. "
   ]
  },
  {
   "cell_type": "code",
   "execution_count": null,
   "metadata": {},
   "outputs": [],
   "source": [
    "cluster1 = hdbscan.HDBSCAN(min_cluster_size=20,\n",
    "                          metric='euclidean',                      \n",
    "                          cluster_selection_method='eom').fit(umap_data1)"
   ]
  },
  {
   "cell_type": "code",
   "execution_count": null,
   "metadata": {},
   "outputs": [
    {
     "data": {
      "text/plain": [
       "<matplotlib.colorbar.Colorbar at 0x2bb445d00>"
      ]
     },
     "execution_count": 161,
     "metadata": {},
     "output_type": "execute_result"
    },
    {
     "data": {
      "image/png": "[encoded data removed]",
      "text/plain": [
       "<Figure size 800x800 with 2 Axes>"
      ]
     },
     "metadata": {},
     "output_type": "display_data"
    }
   ],
   "source": [
    "# Prepare data\n",
    "umap_data_plot = umap.UMAP(n_neighbors=5, n_components=2, min_dist=0.9, metric='correlation').fit_transform(umap_data1)\n",
    "\n",
    "cluster = hdbscan.HDBSCAN(min_cluster_size=8,\n",
    "                          metric='euclidean',                      \n",
    "                          cluster_selection_method='eom').fit(umap_data_plot)\n",
    "\n",
    "result = pd.DataFrame(umap_data_plot, columns=['x', 'y'])\n",
    "result['labels'] = cluster.labels_\n",
    "\n",
    "# Visualize clusters\n",
    "fig, ax = plt.subplots(figsize=(8, 8))\n",
    "outliers = result.loc[result.labels == -1, :]\n",
    "clustered = result.loc[result.labels != -1, :]\n",
    "plt.scatter(outliers.x, outliers.y, color='#BDBDBD', s=3)\n",
    "plt.scatter(clustered.x, clustered.y, c=clustered.labels, s=6, cmap='hsv_r', alpha=0.85)\n",
    "plt.colorbar()"
   ]
  },
  {
   "cell_type": "code",
   "execution_count": null,
   "metadata": {},
   "outputs": [
    {
     "data": {
      "text/plain": [
       "5"
      ]
     },
     "execution_count": 162,
     "metadata": {},
     "output_type": "execute_result"
    }
   ],
   "source": [
    "len(result.labels.unique())"
   ]
  },
  {
   "cell_type": "code",
   "execution_count": null,
   "metadata": {},
   "outputs": [
    {
     "data": {
      "text/html": [
       "<div>\n",
       "<style scoped>\n",
       "    .dataframe tbody tr th:only-of-type {\n",
       "        vertical-align: middle;\n",
       "    }\n",
       "\n",
       "    .dataframe tbody tr th {\n",
       "        vertical-align: top;\n",
       "    }\n",
       "\n",
       "    .dataframe thead th {\n",
       "        text-align: right;\n",
       "    }\n",
       "</style>\n",
       "<table border=\"1\" class=\"dataframe\">\n",
       "  <thead>\n",
       "    <tr style=\"text-align: right;\">\n",
       "      <th></th>\n",
       "      <th>x</th>\n",
       "      <th>y</th>\n",
       "      <th>labels</th>\n",
       "    </tr>\n",
       "  </thead>\n",
       "  <tbody>\n",
       "    <tr>\n",
       "      <th>7</th>\n",
       "      <td>9.724073</td>\n",
       "      <td>-0.795610</td>\n",
       "      <td>2</td>\n",
       "    </tr>\n",
       "    <tr>\n",
       "      <th>12</th>\n",
       "      <td>10.060728</td>\n",
       "      <td>1.644026</td>\n",
       "      <td>2</td>\n",
       "    </tr>\n",
       "    <tr>\n",
       "      <th>21</th>\n",
       "      <td>10.527859</td>\n",
       "      <td>2.106560</td>\n",
       "      <td>2</td>\n",
       "    </tr>\n",
       "    <tr>\n",
       "      <th>29</th>\n",
       "      <td>10.828904</td>\n",
       "      <td>4.448161</td>\n",
       "      <td>2</td>\n",
       "    </tr>\n",
       "    <tr>\n",
       "      <th>30</th>\n",
       "      <td>8.019602</td>\n",
       "      <td>1.655323</td>\n",
       "      <td>2</td>\n",
       "    </tr>\n",
       "    <tr>\n",
       "      <th>35</th>\n",
       "      <td>10.352186</td>\n",
       "      <td>1.312262</td>\n",
       "      <td>2</td>\n",
       "    </tr>\n",
       "    <tr>\n",
       "      <th>41</th>\n",
       "      <td>11.332353</td>\n",
       "      <td>3.963981</td>\n",
       "      <td>2</td>\n",
       "    </tr>\n",
       "    <tr>\n",
       "      <th>43</th>\n",
       "      <td>9.909665</td>\n",
       "      <td>1.294144</td>\n",
       "      <td>2</td>\n",
       "    </tr>\n",
       "    <tr>\n",
       "      <th>45</th>\n",
       "      <td>8.801680</td>\n",
       "      <td>2.436577</td>\n",
       "      <td>2</td>\n",
       "    </tr>\n",
       "    <tr>\n",
       "      <th>53</th>\n",
       "      <td>9.827134</td>\n",
       "      <td>4.936482</td>\n",
       "      <td>2</td>\n",
       "    </tr>\n",
       "    <tr>\n",
       "      <th>66</th>\n",
       "      <td>7.581488</td>\n",
       "      <td>1.986825</td>\n",
       "      <td>2</td>\n",
       "    </tr>\n",
       "    <tr>\n",
       "      <th>69</th>\n",
       "      <td>10.924598</td>\n",
       "      <td>1.886061</td>\n",
       "      <td>2</td>\n",
       "    </tr>\n",
       "    <tr>\n",
       "      <th>76</th>\n",
       "      <td>9.867062</td>\n",
       "      <td>2.189893</td>\n",
       "      <td>2</td>\n",
       "    </tr>\n",
       "    <tr>\n",
       "      <th>80</th>\n",
       "      <td>10.712213</td>\n",
       "      <td>4.365050</td>\n",
       "      <td>2</td>\n",
       "    </tr>\n",
       "    <tr>\n",
       "      <th>83</th>\n",
       "      <td>11.118006</td>\n",
       "      <td>0.894502</td>\n",
       "      <td>2</td>\n",
       "    </tr>\n",
       "    <tr>\n",
       "      <th>86</th>\n",
       "      <td>10.390161</td>\n",
       "      <td>3.683269</td>\n",
       "      <td>2</td>\n",
       "    </tr>\n",
       "    <tr>\n",
       "      <th>88</th>\n",
       "      <td>8.785585</td>\n",
       "      <td>0.414688</td>\n",
       "      <td>2</td>\n",
       "    </tr>\n",
       "    <tr>\n",
       "      <th>91</th>\n",
       "      <td>7.874008</td>\n",
       "      <td>0.548271</td>\n",
       "      <td>2</td>\n",
       "    </tr>\n",
       "    <tr>\n",
       "      <th>92</th>\n",
       "      <td>10.369672</td>\n",
       "      <td>0.136793</td>\n",
       "      <td>2</td>\n",
       "    </tr>\n",
       "    <tr>\n",
       "      <th>94</th>\n",
       "      <td>8.340189</td>\n",
       "      <td>2.504501</td>\n",
       "      <td>2</td>\n",
       "    </tr>\n",
       "    <tr>\n",
       "      <th>98</th>\n",
       "      <td>8.682971</td>\n",
       "      <td>1.269053</td>\n",
       "      <td>2</td>\n",
       "    </tr>\n",
       "    <tr>\n",
       "      <th>105</th>\n",
       "      <td>9.334975</td>\n",
       "      <td>0.238587</td>\n",
       "      <td>2</td>\n",
       "    </tr>\n",
       "    <tr>\n",
       "      <th>117</th>\n",
       "      <td>9.629105</td>\n",
       "      <td>-0.425930</td>\n",
       "      <td>2</td>\n",
       "    </tr>\n",
       "    <tr>\n",
       "      <th>124</th>\n",
       "      <td>8.390016</td>\n",
       "      <td>1.851978</td>\n",
       "      <td>2</td>\n",
       "    </tr>\n",
       "    <tr>\n",
       "      <th>137</th>\n",
       "      <td>11.081948</td>\n",
       "      <td>-0.075335</td>\n",
       "      <td>2</td>\n",
       "    </tr>\n",
       "    <tr>\n",
       "      <th>145</th>\n",
       "      <td>7.968751</td>\n",
       "      <td>3.013739</td>\n",
       "      <td>2</td>\n",
       "    </tr>\n",
       "    <tr>\n",
       "      <th>149</th>\n",
       "      <td>9.050292</td>\n",
       "      <td>1.266727</td>\n",
       "      <td>2</td>\n",
       "    </tr>\n",
       "    <tr>\n",
       "      <th>157</th>\n",
       "      <td>10.020071</td>\n",
       "      <td>4.530111</td>\n",
       "      <td>2</td>\n",
       "    </tr>\n",
       "    <tr>\n",
       "      <th>158</th>\n",
       "      <td>9.500299</td>\n",
       "      <td>3.196237</td>\n",
       "      <td>2</td>\n",
       "    </tr>\n",
       "    <tr>\n",
       "      <th>175</th>\n",
       "      <td>10.125539</td>\n",
       "      <td>0.463439</td>\n",
       "      <td>2</td>\n",
       "    </tr>\n",
       "    <tr>\n",
       "      <th>179</th>\n",
       "      <td>8.833048</td>\n",
       "      <td>2.387924</td>\n",
       "      <td>2</td>\n",
       "    </tr>\n",
       "    <tr>\n",
       "      <th>181</th>\n",
       "      <td>11.501342</td>\n",
       "      <td>1.633799</td>\n",
       "      <td>2</td>\n",
       "    </tr>\n",
       "    <tr>\n",
       "      <th>192</th>\n",
       "      <td>9.874497</td>\n",
       "      <td>-0.319017</td>\n",
       "      <td>2</td>\n",
       "    </tr>\n",
       "    <tr>\n",
       "      <th>200</th>\n",
       "      <td>9.513959</td>\n",
       "      <td>1.566112</td>\n",
       "      <td>2</td>\n",
       "    </tr>\n",
       "    <tr>\n",
       "      <th>213</th>\n",
       "      <td>8.034776</td>\n",
       "      <td>1.232029</td>\n",
       "      <td>2</td>\n",
       "    </tr>\n",
       "    <tr>\n",
       "      <th>214</th>\n",
       "      <td>9.036108</td>\n",
       "      <td>0.778132</td>\n",
       "      <td>2</td>\n",
       "    </tr>\n",
       "    <tr>\n",
       "      <th>215</th>\n",
       "      <td>9.535526</td>\n",
       "      <td>0.719870</td>\n",
       "      <td>2</td>\n",
       "    </tr>\n",
       "    <tr>\n",
       "      <th>241</th>\n",
       "      <td>10.406809</td>\n",
       "      <td>1.300330</td>\n",
       "      <td>2</td>\n",
       "    </tr>\n",
       "    <tr>\n",
       "      <th>275</th>\n",
       "      <td>10.889585</td>\n",
       "      <td>3.379339</td>\n",
       "      <td>2</td>\n",
       "    </tr>\n",
       "    <tr>\n",
       "      <th>281</th>\n",
       "      <td>8.762098</td>\n",
       "      <td>0.634803</td>\n",
       "      <td>2</td>\n",
       "    </tr>\n",
       "    <tr>\n",
       "      <th>284</th>\n",
       "      <td>11.248874</td>\n",
       "      <td>3.508156</td>\n",
       "      <td>2</td>\n",
       "    </tr>\n",
       "    <tr>\n",
       "      <th>342</th>\n",
       "      <td>9.060058</td>\n",
       "      <td>2.107890</td>\n",
       "      <td>2</td>\n",
       "    </tr>\n",
       "  </tbody>\n",
       "</table>\n",
       "</div>"
      ],
      "text/plain": [
       "             x         y  labels\n",
       "7     9.724073 -0.795610       2\n",
       "12   10.060728  1.644026       2\n",
       "21   10.527859  2.106560       2\n",
       "29   10.828904  4.448161       2\n",
       "30    8.019602  1.655323       2\n",
       "35   10.352186  1.312262       2\n",
       "41   11.332353  3.963981       2\n",
       "43    9.909665  1.294144       2\n",
       "45    8.801680  2.436577       2\n",
       "53    9.827134  4.936482       2\n",
       "66    7.581488  1.986825       2\n",
       "69   10.924598  1.886061       2\n",
       "76    9.867062  2.189893       2\n",
       "80   10.712213  4.365050       2\n",
       "83   11.118006  0.894502       2\n",
       "86   10.390161  3.683269       2\n",
       "88    8.785585  0.414688       2\n",
       "91    7.874008  0.548271       2\n",
       "92   10.369672  0.136793       2\n",
       "94    8.340189  2.504501       2\n",
       "98    8.682971  1.269053       2\n",
       "105   9.334975  0.238587       2\n",
       "117   9.629105 -0.425930       2\n",
       "124   8.390016  1.851978       2\n",
       "137  11.081948 -0.075335       2\n",
       "145   7.968751  3.013739       2\n",
       "149   9.050292  1.266727       2\n",
       "157  10.020071  4.530111       2\n",
       "158   9.500299  3.196237       2\n",
       "175  10.125539  0.463439       2\n",
       "179   8.833048  2.387924       2\n",
       "181  11.501342  1.633799       2\n",
       "192   9.874497 -0.319017       2\n",
       "200   9.513959  1.566112       2\n",
       "213   8.034776  1.232029       2\n",
       "214   9.036108  0.778132       2\n",
       "215   9.535526  0.719870       2\n",
       "241  10.406809  1.300330       2\n",
       "275  10.889585  3.379339       2\n",
       "281   8.762098  0.634803       2\n",
       "284  11.248874  3.508156       2\n",
       "342   9.060058  2.107890       2"
      ]
     },
     "execution_count": 163,
     "metadata": {},
     "output_type": "execute_result"
    }
   ],
   "source": [
    "result[result.labels==2]"
   ]
  },
  {
   "attachments": {},
   "cell_type": "markdown",
   "metadata": {},
   "source": [
    "#### Applying class-based TF-IDF"
   ]
  },
  {
   "cell_type": "code",
   "execution_count": null,
   "metadata": {},
   "outputs": [],
   "source": [
    "import numpy as np\n",
    "from sklearn.feature_extraction.text import CountVectorizer"
   ]
  },
  {
   "cell_type": "code",
   "execution_count": null,
   "metadata": {},
   "outputs": [],
   "source": [
    "docs_df = pd.DataFrame(data)\n",
    "docs_df['Topic'] = cluster.labels_\n",
    "docs_df['Doc_ID'] = range(len(docs_df))\n",
    "#docs_per_topic = docs_df.groupby(['Topic'], as_index = False)\n",
    "docs_per_topic = docs_df.groupby(['Topic'], as_index = False).agg({'processedsummary': ' '.join})"
   ]
  },
  {
   "cell_type": "code",
   "execution_count": null,
   "metadata": {},
   "outputs": [],
   "source": [
    "def c_tf_idf(documents, m, ngram_range=(1, 1)):\n",
    "    count = CountVectorizer(ngram_range=ngram_range, stop_words=\"english\").fit(documents)\n",
    "    t = count.transform(documents).toarray()\n",
    "    w = t.sum(axis=1)\n",
    "    tf = np.divide(t.T, w)\n",
    "    sum_t = t.sum(axis=0)\n",
    "    idf = np.log(np.divide(m, sum_t)).reshape(-1, 1)\n",
    "    tf_idf = np.multiply(tf, idf)\n",
    "\n",
    "    return tf_idf, count\n",
    "  \n",
    "tf_idf, count = c_tf_idf(docs_per_topic['processedsummary'].values, m=len(data))"
   ]
  },
  {
   "attachments": {},
   "cell_type": "markdown",
   "metadata": {},
   "source": [
    "##### Topic representation"
   ]
  },
  {
   "cell_type": "code",
   "execution_count": null,
   "metadata": {},
   "outputs": [
    {
     "data": {
      "text/html": [
       "<div>\n",
       "<style scoped>\n",
       "    .dataframe tbody tr th:only-of-type {\n",
       "        vertical-align: middle;\n",
       "    }\n",
       "\n",
       "    .dataframe tbody tr th {\n",
       "        vertical-align: top;\n",
       "    }\n",
       "\n",
       "    .dataframe thead th {\n",
       "        text-align: right;\n",
       "    }\n",
       "</style>\n",
       "<table border=\"1\" class=\"dataframe\">\n",
       "  <thead>\n",
       "    <tr style=\"text-align: right;\">\n",
       "      <th></th>\n",
       "      <th>Topic</th>\n",
       "      <th>Size</th>\n",
       "    </tr>\n",
       "  </thead>\n",
       "  <tbody>\n",
       "    <tr>\n",
       "      <th>1</th>\n",
       "      <td>0</td>\n",
       "      <td>161</td>\n",
       "    </tr>\n",
       "    <tr>\n",
       "      <th>0</th>\n",
       "      <td>-1</td>\n",
       "      <td>146</td>\n",
       "    </tr>\n",
       "    <tr>\n",
       "      <th>3</th>\n",
       "      <td>2</td>\n",
       "      <td>42</td>\n",
       "    </tr>\n",
       "    <tr>\n",
       "      <th>4</th>\n",
       "      <td>3</td>\n",
       "      <td>29</td>\n",
       "    </tr>\n",
       "    <tr>\n",
       "      <th>2</th>\n",
       "      <td>1</td>\n",
       "      <td>21</td>\n",
       "    </tr>\n",
       "  </tbody>\n",
       "</table>\n",
       "</div>"
      ],
      "text/plain": [
       "   Topic  Size\n",
       "1      0   161\n",
       "0     -1   146\n",
       "3      2    42\n",
       "4      3    29\n",
       "2      1    21"
      ]
     },
     "execution_count": 167,
     "metadata": {},
     "output_type": "execute_result"
    }
   ],
   "source": [
    "def extract_top_n_words_per_topic(tf_idf, count, docs_per_topic, n=20):\n",
    "    words = count.get_feature_names()\n",
    "    labels = list(docs_per_topic.Topic)\n",
    "    tf_idf_transposed = tf_idf.T\n",
    "    indices = tf_idf_transposed.argsort()[:, -n:]\n",
    "    top_n_words = {label: [(words[j], tf_idf_transposed[i][j]) for j in indices[i]][::-1] for i, label in enumerate(labels)}\n",
    "    return top_n_words\n",
    "\n",
    "def extract_topic_sizes(df):\n",
    "    topic_sizes = (df.groupby(['Topic'])\n",
    "                     ['processedsummary']\n",
    "                     .count()\n",
    "                     .reset_index()\n",
    "                     .rename({\"Topic\": \"Topic\", \"processedsummary\": \"Size\"}, axis='columns')\n",
    "                     .sort_values(\"Size\", ascending=False))\n",
    "    return topic_sizes\n",
    "\n",
    "top_n_words = extract_top_n_words_per_topic(tf_idf, count, docs_per_topic)\n",
    "topic_sizes = extract_topic_sizes(docs_df); topic_sizes.head(10)"
   ]
  },
  {
   "cell_type": "code",
   "execution_count": null,
   "metadata": {},
   "outputs": [
    {
     "data": {
      "text/plain": [
       "[('hateful', 0.01556143228168101),\n",
       " ('speech', 0.012445322484853078),\n",
       " ('counterspeech', 0.010153149430687972),\n",
       " ('offensive', 0.009553938115489859),\n",
       " ('detection', 0.009021515240494512),\n",
       " ('content', 0.008911661619211248),\n",
       " ('comment', 0.008563290614806778),\n",
       " ('hate', 0.008480776474433549),\n",
       " ('counter', 0.0074892141513554274),\n",
       " ('protest', 0.007480808774534917),\n",
       " ('conversation', 0.007389036876306782),\n",
       " ('bert', 0.0071066708411479),\n",
       " ('context', 0.007006328684841908),\n",
       " ('detecting', 0.00697181137586496),\n",
       " ('nlp', 0.006773283803281217),\n",
       " ('datasets', 0.006766121596239691),\n",
       " ('score', 0.006716850622213382),\n",
       " ('deep', 0.00660231191352493),\n",
       " ('gab', 0.006527024634013695),\n",
       " ('detect', 0.006432479769181084)]"
      ]
     },
     "execution_count": 168,
     "metadata": {},
     "output_type": "execute_result"
    }
   ],
   "source": [
    "top_n_words[2][:30]"
   ]
  },
  {
   "cell_type": "code",
   "execution_count": null,
   "metadata": {},
   "outputs": [
    {
     "data": {
      "text/plain": [
       "[('board', 0.023022362388544184),\n",
       " ('mobility', 0.013653245644058586),\n",
       " ('formation', 0.01330024497811664),\n",
       " ('pronoun', 0.012681526146030839),\n",
       " ('fashion', 0.012151523021435755),\n",
       " ('structural', 0.011476257996272958),\n",
       " ('characteristic', 0.010820257505362854),\n",
       " ('review', 0.010649234712871228),\n",
       " ('network', 0.0105270331936934),\n",
       " ('demographic', 0.010369202557118134),\n",
       " ('seeding', 0.010363461599164958),\n",
       " ('popularity', 0.010201118218909296),\n",
       " ('popular', 0.010084516178254859),\n",
       " ('generation', 0.009540473954013326),\n",
       " ('formed', 0.009362313184083072),\n",
       " ('tie', 0.009102163762705723),\n",
       " ('urban', 0.009102163762705723),\n",
       " ('startup', 0.009011365235505686),\n",
       " ('property', 0.008925978441545634),\n",
       " ('college', 0.00865198707926386)]"
      ]
     },
     "execution_count": 169,
     "metadata": {},
     "output_type": "execute_result"
    }
   ],
   "source": [
    "top_n_words[1][:30] "
   ]
  },
  {
   "cell_type": "code",
   "execution_count": null,
   "metadata": {},
   "outputs": [
    {
     "data": {
      "text/plain": [
       "[('meta', 0.00481358594955991),\n",
       " ('difference', 0.004636225270819031),\n",
       " ('age', 0.0044956847913852575),\n",
       " ('feature', 0.004433235862625278),\n",
       " ('image', 0.004427302714512588),\n",
       " ('bias', 0.004393781694234965),\n",
       " ('attribute', 0.004327143586097763),\n",
       " ('research', 0.004246944446924847),\n",
       " ('method', 0.0042198176247835),\n",
       " ('result', 0.004137833428007863),\n",
       " ('female', 0.004096668893242477),\n",
       " ('woman', 0.004076187782158912),\n",
       " ('representation', 0.004061640349578866),\n",
       " ('level', 0.004029556461979521),\n",
       " ('text', 0.004018628617788349),\n",
       " ('author', 0.004014411536031067),\n",
       " ('fairness', 0.003991018405027705),\n",
       " ('approach', 0.003980459660200919),\n",
       " ('search', 0.0039560065562377535),\n",
       " ('sample', 0.003929240080885729)]"
      ]
     },
     "execution_count": 170,
     "metadata": {},
     "output_type": "execute_result"
    }
   ],
   "source": [
    "top_n_words[0][:30] "
   ]
  },
  {
   "cell_type": "code",
   "execution_count": null,
   "metadata": {},
   "outputs": [],
   "source": []
  },
  {
   "attachments": {},
   "cell_type": "markdown",
   "metadata": {},
   "source": [
    "### Word + Doc Embedding"
   ]
  },
  {
   "cell_type": "code",
   "execution_count": null,
   "metadata": {},
   "outputs": [],
   "source": [
    "from bertopic.backend import WordDocEmbedder\n",
    "import gensim.downloader as api\n",
    "\n",
    "# Word embedding model\n",
    "ft = api.load('fasttext-wiki-news-subwords-300')\n",
    "\n",
    "from bertopic import BERTopic"
   ]
  },
  {
   "cell_type": "code",
   "execution_count": null,
   "metadata": {},
   "outputs": [],
   "source": [
    "# Document embedding model\n",
    "embedding_model = SentenceTransformer('distilbert-base-nli-mean-tokens')\n",
    "\n",
    "# Create a model that uses both language models and pass it through BERTopic\n",
    "word_doc_embedder = WordDocEmbedder(embedding_model=embedding_model, word_embedding_model=ft)\n",
    "\n",
    "topic_model = BERTopic(embedding_model=word_doc_embedder)\n",
    "#embeddings_worddoc = topic_model.encode(data, show_progress_bar=True)"
   ]
  },
  {
   "cell_type": "code",
   "execution_count": null,
   "metadata": {},
   "outputs": [
    {
     "data": {
      "text/html": [
       "<div>\n",
       "<style scoped>\n",
       "    .dataframe tbody tr th:only-of-type {\n",
       "        vertical-align: middle;\n",
       "    }\n",
       "\n",
       "    .dataframe tbody tr th {\n",
       "        vertical-align: top;\n",
       "    }\n",
       "\n",
       "    .dataframe thead th {\n",
       "        text-align: right;\n",
       "    }\n",
       "</style>\n",
       "<table border=\"1\" class=\"dataframe\">\n",
       "  <thead>\n",
       "    <tr style=\"text-align: right;\">\n",
       "      <th></th>\n",
       "      <th>Topic</th>\n",
       "      <th>Count</th>\n",
       "      <th>Name</th>\n",
       "    </tr>\n",
       "  </thead>\n",
       "  <tbody>\n",
       "    <tr>\n",
       "      <th>0</th>\n",
       "      <td>-1</td>\n",
       "      <td>101</td>\n",
       "      <td>-1_gender_user_social_study</td>\n",
       "    </tr>\n",
       "    <tr>\n",
       "      <th>1</th>\n",
       "      <td>0</td>\n",
       "      <td>106</td>\n",
       "      <td>0_hate_speech_online_social</td>\n",
       "    </tr>\n",
       "    <tr>\n",
       "      <th>2</th>\n",
       "      <td>1</td>\n",
       "      <td>82</td>\n",
       "      <td>1_gender_social_model_data</td>\n",
       "    </tr>\n",
       "    <tr>\n",
       "      <th>3</th>\n",
       "      <td>2</td>\n",
       "      <td>50</td>\n",
       "      <td>2_user_social_gender_network</td>\n",
       "    </tr>\n",
       "    <tr>\n",
       "      <th>4</th>\n",
       "      <td>3</td>\n",
       "      <td>29</td>\n",
       "      <td>3_gender_woman_bias_wikipedia</td>\n",
       "    </tr>\n",
       "    <tr>\n",
       "      <th>5</th>\n",
       "      <td>4</td>\n",
       "      <td>21</td>\n",
       "      <td>4_bias_model_task_data</td>\n",
       "    </tr>\n",
       "    <tr>\n",
       "      <th>6</th>\n",
       "      <td>5</td>\n",
       "      <td>10</td>\n",
       "      <td>5_political_ad_party_politician</td>\n",
       "    </tr>\n",
       "  </tbody>\n",
       "</table>\n",
       "</div>"
      ],
      "text/plain": [
       "   Topic  Count                             Name\n",
       "0     -1    101      -1_gender_user_social_study\n",
       "1      0    106      0_hate_speech_online_social\n",
       "2      1     82       1_gender_social_model_data\n",
       "3      2     50     2_user_social_gender_network\n",
       "4      3     29    3_gender_woman_bias_wikipedia\n",
       "5      4     21           4_bias_model_task_data\n",
       "6      5     10  5_political_ad_party_politician"
      ]
     },
     "execution_count": 173,
     "metadata": {},
     "output_type": "execute_result"
    }
   ],
   "source": [
    "topics, probs = topic_model.fit_transform(data['processedsummary'])\n",
    "\n",
    "freq = topic_model.get_topic_info(); freq.head(10)"
   ]
  },
  {
   "attachments": {},
   "cell_type": "markdown",
   "metadata": {},
   "source": [
    "##### Check the topics that have 'sexism' or 'misogyny' in it "
   ]
  },
  {
   "cell_type": "code",
   "execution_count": null,
   "metadata": {},
   "outputs": [
    {
     "data": {
      "text/plain": [
       "[3, 4, 0, -1, 1]"
      ]
     },
     "execution_count": 174,
     "metadata": {},
     "output_type": "execute_result"
    }
   ],
   "source": [
    "similar_topics, similarity = topic_model.find_topics(\"sexism\"); similar_topics"
   ]
  },
  {
   "cell_type": "code",
   "execution_count": null,
   "metadata": {},
   "outputs": [
    {
     "data": {
      "text/plain": [
       "[('gender', 0.08228589536804264),\n",
       " ('woman', 0.06110951515364146),\n",
       " ('bias', 0.03514936779345612),\n",
       " ('wikipedia', 0.03388516994102389),\n",
       " ('harassment', 0.02709525948002574),\n",
       " ('medium', 0.027086031385597932),\n",
       " ('online', 0.026669903711598122),\n",
       " ('social', 0.026486089110560187),\n",
       " ('difference', 0.02468786709767935),\n",
       " ('female', 0.024514651159530904)]"
      ]
     },
     "execution_count": 175,
     "metadata": {},
     "output_type": "execute_result"
    }
   ],
   "source": [
    "topic_model.get_topic(3)"
   ]
  },
  {
   "cell_type": "code",
   "execution_count": null,
   "metadata": {},
   "outputs": [
    {
     "data": {
      "text/plain": [
       "[('hate', 0.0774270775349343),\n",
       " ('speech', 0.06589423123512654),\n",
       " ('online', 0.04009171157565334),\n",
       " ('social', 0.03213301503564715),\n",
       " ('hateful', 0.03086749807666907),\n",
       " ('content', 0.02984594732852281),\n",
       " ('medium', 0.029680783170337524),\n",
       " ('detection', 0.02825268067350599),\n",
       " ('model', 0.026635066407973907),\n",
       " ('user', 0.024616053344197624)]"
      ]
     },
     "execution_count": 176,
     "metadata": {},
     "output_type": "execute_result"
    }
   ],
   "source": [
    "topic_model.get_topic(0)"
   ]
  },
  {
   "cell_type": "code",
   "execution_count": null,
   "metadata": {},
   "outputs": [
    {
     "data": {
      "text/plain": [
       "[('bias', 0.05148037602920845),\n",
       " ('model', 0.04116239461271526),\n",
       " ('task', 0.0289487254480152),\n",
       " ('data', 0.0272259481356927),\n",
       " ('meta', 0.02597747744283034),\n",
       " ('datasets', 0.025188458551902885),\n",
       " ('learning', 0.024589413743151847),\n",
       " ('language', 0.023458794614492184),\n",
       " ('based', 0.022784682849390458),\n",
       " ('sentiment', 0.022381915096761955)]"
      ]
     },
     "execution_count": 177,
     "metadata": {},
     "output_type": "execute_result"
    }
   ],
   "source": [
    "topic_model.get_topic(4)"
   ]
  },
  {
   "cell_type": "code",
   "execution_count": null,
   "metadata": {},
   "outputs": [
    {
     "data": {
      "text/plain": [
       "[('gender', 0.0346976154860892),\n",
       " ('social', 0.02693758267377371),\n",
       " ('model', 0.02464275919985341),\n",
       " ('data', 0.023837684311427864),\n",
       " ('user', 0.023269419530985387),\n",
       " ('attribute', 0.023057748604188164),\n",
       " ('approach', 0.021991979120499872),\n",
       " ('network', 0.021643151388451368),\n",
       " ('learning', 0.02142625525647363),\n",
       " ('image', 0.021356377027956362)]"
      ]
     },
     "execution_count": 178,
     "metadata": {},
     "output_type": "execute_result"
    }
   ],
   "source": [
    "topic_model.get_topic(1)"
   ]
  },
  {
   "cell_type": "code",
   "execution_count": null,
   "metadata": {},
   "outputs": [
    {
     "data": {
      "text/plain": [
       "[3, 0, 4, -1, 1]"
      ]
     },
     "execution_count": 179,
     "metadata": {},
     "output_type": "execute_result"
    }
   ],
   "source": [
    "similar_topics, similarity = topic_model.find_topics(\"misogyny\"); similar_topics\n",
    "\n",
    "## These are same topic numbers!"
   ]
  },
  {
   "cell_type": "code",
   "execution_count": null,
   "metadata": {},
   "outputs": [],
   "source": []
  }
 ],
 "metadata": {
  "kernelspec": {
   "display_name": "mlp",
   "language": "python",
   "name": "python3"
  },
  "language_info": {
   "codemirror_mode": {
    "name": "ipython",
    "version": 3
   },
   "file_extension": ".py",
   "mimetype": "text/x-python",
   "name": "python",
   "nbconvert_exporter": "python",
   "pygments_lexer": "ipython3",
   "version": "3.8.13"
  },
  "orig_nbformat": 4,
  "vscode": {
   "interpreter": {
    "hash": "a416f03cfb147488512f4759643ecc257e0c1cb5ba60170a7a416e21779e3a52"
   }
  }
 },
 "nbformat": 4,
 "nbformat_minor": 2
}
