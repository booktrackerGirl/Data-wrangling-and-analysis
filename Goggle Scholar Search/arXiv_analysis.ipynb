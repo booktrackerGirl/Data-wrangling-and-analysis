{
 "cells": [
  {
   "cell_type": "code",
   "execution_count": 1,
   "metadata": {},
   "outputs": [
    {
     "name": "stderr",
     "output_type": "stream",
     "text": [
      "[nltk_data] Downloading package omw-1.4 to\n",
      "[nltk_data]     /Users/aditidutta/nltk_data...\n",
      "[nltk_data]   Package omw-1.4 is already up-to-date!\n",
      "[nltk_data] Downloading package maxent_ne_chunker to\n",
      "[nltk_data]     /Users/aditidutta/nltk_data...\n",
      "[nltk_data]   Package maxent_ne_chunker is already up-to-date!\n",
      "[nltk_data] Downloading package words to\n",
      "[nltk_data]     /Users/aditidutta/nltk_data...\n",
      "[nltk_data]   Package words is already up-to-date!\n"
     ]
    }
   ],
   "source": [
    "import pandas as pd\n",
    "import matplotlib.pyplot as plt\n",
    "import numpy as np\n",
    "import pandas as pd\n",
    "import seaborn as sns\n",
    "#% matplotlib inline\n",
    "from datetime import datetime\n",
    "\n",
    "import plotly.graph_objs as go\n",
    "import plotly.offline as pyo\n",
    "import plotly.figure_factory as ff\n",
    "import plotly.express as px\n",
    "from plotly import tools\n",
    "from plotly.subplots import make_subplots\n",
    "from plotly.offline import iplot\n",
    "\n",
    "from textblob import TextBlob, Word, Blobber\n",
    "from textblob.classifiers import NaiveBayesClassifier\n",
    "from textblob.taggers import NLTKTagger\n",
    "\n",
    "import nltk\n",
    "from nltk.corpus import stopwords\n",
    "from nltk.stem.porter import PorterStemmer \n",
    "from nltk.stem import WordNetLemmatizer\n",
    "nltk.download('omw-1.4')\n",
    "from nltk.tokenize import word_tokenize\n",
    "nltk.download('maxent_ne_chunker')\n",
    "nltk.download('words')\n",
    "\n",
    "import string\n",
    "import gensim\n",
    "import collections\n",
    "from gensim.corpora import Dictionary\n",
    "\n",
    "from tqdm import tqdm\n",
    "tqdm.pandas(desc=\"progress-bar\")\n",
    "\n",
    "from gensim.models.ldamodel import LdaModel\n",
    "from gensim.models.coherencemodel import CoherenceModel\n",
    "\n",
    "from autocorrect import Speller\n",
    "\n",
    "from bs4 import BeautifulSoup\n",
    "import requests\n",
    "import csv\n",
    "import time\n",
    "\n",
    "import re\n",
    "import string\n",
    "import gc\n",
    "import warnings\n",
    "warnings.filterwarnings('ignore')"
   ]
  },
  {
   "attachments": {},
   "cell_type": "markdown",
   "metadata": {},
   "source": [
    "#### Using the arXiv API"
   ]
  },
  {
   "cell_type": "code",
   "execution_count": 4,
   "metadata": {},
   "outputs": [],
   "source": [
    "import requests \n",
    "import datetime as dt\n",
    "import xml.etree.ElementTree as ET\n",
    "import matplotlib.pyplot as plt"
   ]
  },
  {
   "cell_type": "code",
   "execution_count": 5,
   "metadata": {},
   "outputs": [],
   "source": [
    "# Parameters\n",
    "query = '(misogyny OR sexism OR sexist OR gender OR \"online hate\" OR \"online abuse\") AND (\"social media\" OR \"social platform\" OR twitter OR facebook OR reddit)' \n",
    "# original query only gave 22 results. This gives 321 results\n",
    "max_results = 1000"
   ]
  },
  {
   "cell_type": "code",
   "execution_count": 6,
   "metadata": {},
   "outputs": [],
   "source": [
    "#Call arXiv API with the query parameters\n",
    "url = f'http://export.arxiv.org/api/query?search_query={query}&max_results={max_results}'\n",
    "resp = requests.get(url)"
   ]
  },
  {
   "cell_type": "code",
   "execution_count": 7,
   "metadata": {},
   "outputs": [
    {
     "data": {
      "text/plain": [
       "Index(['id', 'updated', 'published', 'title', 'summary', 'author', 'comment',\n",
       "       'link', 'primary_category', 'category', 'doi', 'journal_ref'],\n",
       "      dtype='object')"
      ]
     },
     "execution_count": 7,
     "metadata": {},
     "output_type": "execute_result"
    }
   ],
   "source": [
    "# Parse the response.\n",
    "# The response is in XML format. We’ll use an XML parser to parse the response\n",
    "ns = { 'r':'http://www.w3.org/2005/Atom'}\n",
    "root = ET.fromstring(resp.text)\n",
    "\n",
    "# Construct the dataframe from the response\n",
    "all_papers = list()\n",
    "entries = root.findall('r:entry',namespaces=ns)\n",
    "for entry in entries :\n",
    "    all_papers.append({l.tag[l.tag.index('}')+1:] :l.text for l in entry})\n",
    "\n",
    "all_papers_df=pd.DataFrame(all_papers)\n",
    "all_papers_df.columns"
   ]
  },
  {
   "cell_type": "code",
   "execution_count": 9,
   "metadata": {},
   "outputs": [],
   "source": [
    "# Joining the titles and the abstracts \n",
    "all_papers_df['title & abstract'] = all_papers_df['title'] + ' ' + all_papers_df['summary']\n",
    "\n",
    "# Converting to datetime format\n",
    "all_papers_df['year'] = pd.to_datetime(all_papers_df['published']).dt.year"
   ]
  },
  {
   "cell_type": "code",
   "execution_count": 10,
   "metadata": {},
   "outputs": [
    {
     "name": "stdout",
     "output_type": "stream",
     "text": [
      "CPU times: user 1 µs, sys: 1e+03 ns, total: 2 µs\n",
      "Wall time: 6.91 µs\n"
     ]
    },
    {
     "data": {
      "text/html": [
       "<div>\n",
       "<style scoped>\n",
       "    .dataframe tbody tr th:only-of-type {\n",
       "        vertical-align: middle;\n",
       "    }\n",
       "\n",
       "    .dataframe tbody tr th {\n",
       "        vertical-align: top;\n",
       "    }\n",
       "\n",
       "    .dataframe thead th {\n",
       "        text-align: right;\n",
       "    }\n",
       "</style>\n",
       "<table border=\"1\" class=\"dataframe\">\n",
       "  <thead>\n",
       "    <tr style=\"text-align: right;\">\n",
       "      <th></th>\n",
       "      <th>year</th>\n",
       "      <th>title</th>\n",
       "      <th>summary</th>\n",
       "    </tr>\n",
       "  </thead>\n",
       "  <tbody>\n",
       "    <tr>\n",
       "      <th>7</th>\n",
       "      <td>2021</td>\n",
       "      <td>#ContextMatters: Advantages and Limitations of...</td>\n",
       "      <td>The United Nations identified gender equalit...</td>\n",
       "    </tr>\n",
       "    <tr>\n",
       "      <th>8</th>\n",
       "      <td>2018</td>\n",
       "      <td>Understanding and Measuring Psychological Stre...</td>\n",
       "      <td>A body of literature has demonstrated that u...</td>\n",
       "    </tr>\n",
       "    <tr>\n",
       "      <th>9</th>\n",
       "      <td>2021</td>\n",
       "      <td>Analysing Cyberbullying using Natural Language...</td>\n",
       "      <td>Cyberbullying is of extreme prevalence today...</td>\n",
       "    </tr>\n",
       "  </tbody>\n",
       "</table>\n",
       "</div>"
      ],
      "text/plain": [
       "   year                                              title  \\\n",
       "7  2021  #ContextMatters: Advantages and Limitations of...   \n",
       "8  2018  Understanding and Measuring Psychological Stre...   \n",
       "9  2021  Analysing Cyberbullying using Natural Language...   \n",
       "\n",
       "                                             summary  \n",
       "7    The United Nations identified gender equalit...  \n",
       "8    A body of literature has demonstrated that u...  \n",
       "9    Cyberbullying is of extreme prevalence today...  "
      ]
     },
     "execution_count": 10,
     "metadata": {},
     "output_type": "execute_result"
    }
   ],
   "source": [
    "import datetime\n",
    "%time\n",
    "def initial_process(df):\n",
    "    data = df.copy()\n",
    "    data = data[~data['summary'].isnull()]  # Remove rows with empty content\n",
    "\n",
    "    # Select contents of length between 140 and 2000 characters.\n",
    "    data = data[(data.summary.map(len) > 140) & (data.summary.map(len) <= 2000)]\n",
    "    data.reset_index(inplace=True, drop=True)\n",
    "\n",
    "    # collecting 10000 random sample for computational ease\n",
    "    #data = data.sample(10000, random_state=2021)\n",
    "    #data.reset_index(inplace=True, drop=True)\n",
    "    \n",
    "\n",
    "    # aligning the columns in order of requirement\n",
    "    data = data[['year', 'title', 'summary']]\n",
    "    # renaming date -> date_of_news\n",
    "    #data.rename(columns = {'date': 'date_of_news'}, inplace = True)\n",
    "    return (data)\n",
    "\n",
    "data = initial_process(all_papers_df)\n",
    "data.tail(3)"
   ]
  },
  {
   "cell_type": "code",
   "execution_count": 11,
   "metadata": {},
   "outputs": [
    {
     "data": {
      "image/png": "[encoded data removed]",
      "text/plain": [
       "<Figure size 1000x600 with 1 Axes>"
      ]
     },
     "metadata": {},
     "output_type": "display_data"
    }
   ],
   "source": [
    "topics = data['year'].value_counts().to_frame()[:30]\n",
    "topics.sort_values(by='year', ascending=True).plot(\n",
    "    kind = 'barh', colormap='jet', legend=False, figsize=(10, 6));\n",
    "plt.grid(True)"
   ]
  },
  {
   "cell_type": "code",
   "execution_count": null,
   "metadata": {},
   "outputs": [],
   "source": []
  }
 ],
 "metadata": {
  "kernelspec": {
   "display_name": "Python 3",
   "language": "python",
   "name": "python3"
  },
  "language_info": {
   "codemirror_mode": {
    "name": "ipython",
    "version": 3
   },
   "file_extension": ".py",
   "mimetype": "text/x-python",
   "name": "python",
   "nbconvert_exporter": "python",
   "pygments_lexer": "ipython3",
   "version": "3.9.6"
  },
  "orig_nbformat": 4,
  "vscode": {
   "interpreter": {
    "hash": "31f2aee4e71d21fbe5cf8b01ff0e069b9275f58929596ceb00d14d90e3e16cd6"
   }
  }
 },
 "nbformat": 4,
 "nbformat_minor": 2
}
