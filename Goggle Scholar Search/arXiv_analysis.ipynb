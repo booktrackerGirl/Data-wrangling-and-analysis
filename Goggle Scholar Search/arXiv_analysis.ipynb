{
 "cells": [
  {
   "cell_type": "code",
   "execution_count": 1,
   "metadata": {},
   "outputs": [
    {
     "name": "stderr",
     "output_type": "stream",
     "text": [
      "[nltk_data] Downloading package omw-1.4 to\n",
      "[nltk_data]     /Users/aditidutta/nltk_data...\n",
      "[nltk_data]   Package omw-1.4 is already up-to-date!\n",
      "[nltk_data] Downloading package maxent_ne_chunker to\n",
      "[nltk_data]     /Users/aditidutta/nltk_data...\n",
      "[nltk_data]   Package maxent_ne_chunker is already up-to-date!\n",
      "[nltk_data] Downloading package words to\n",
      "[nltk_data]     /Users/aditidutta/nltk_data...\n",
      "[nltk_data]   Package words is already up-to-date!\n"
     ]
    }
   ],
   "source": [
    "import pandas as pd\n",
    "import matplotlib.pyplot as plt\n",
    "import numpy as np\n",
    "import pandas as pd\n",
    "import seaborn as sns\n",
    "#% matplotlib inline\n",
    "from datetime import datetime\n",
    "\n",
    "import plotly.graph_objs as go\n",
    "import plotly.offline as pyo\n",
    "import plotly.figure_factory as ff\n",
    "import plotly.express as px\n",
    "from plotly import tools\n",
    "from plotly.subplots import make_subplots\n",
    "from plotly.offline import iplot\n",
    "\n",
    "from textblob import TextBlob, Word, Blobber\n",
    "from textblob.classifiers import NaiveBayesClassifier\n",
    "from textblob.taggers import NLTKTagger\n",
    "\n",
    "import nltk\n",
    "from nltk.corpus import stopwords\n",
    "from nltk.stem.porter import PorterStemmer \n",
    "from nltk.stem import WordNetLemmatizer\n",
    "nltk.download('omw-1.4')\n",
    "from nltk.tokenize import word_tokenize\n",
    "nltk.download('maxent_ne_chunker')\n",
    "nltk.download('words')\n",
    "\n",
    "import string\n",
    "import gensim\n",
    "import collections\n",
    "from gensim.corpora import Dictionary\n",
    "\n",
    "from tqdm import tqdm\n",
    "tqdm.pandas(desc=\"progress-bar\")\n",
    "\n",
    "from gensim.models.ldamodel import LdaModel\n",
    "from gensim.models.coherencemodel import CoherenceModel\n",
    "\n",
    "from autocorrect import Speller\n",
    "\n",
    "from bs4 import BeautifulSoup\n",
    "import requests\n",
    "import csv\n",
    "import time\n",
    "\n",
    "import re\n",
    "import string\n",
    "import gc\n",
    "import warnings\n",
    "warnings.filterwarnings('ignore')"
   ]
  },
  {
   "attachments": {},
   "cell_type": "markdown",
   "metadata": {},
   "source": [
    "#### Using the arXiv API"
   ]
  },
  {
   "cell_type": "code",
   "execution_count": 2,
   "metadata": {},
   "outputs": [],
   "source": [
    "import requests \n",
    "import datetime as dt\n",
    "import xml.etree.ElementTree as ET\n",
    "import matplotlib.pyplot as plt"
   ]
  },
  {
   "cell_type": "code",
   "execution_count": 3,
   "metadata": {},
   "outputs": [],
   "source": [
    "# Parameters\n",
    "query = '(misogyny OR sexism OR sexist OR gender OR \"online hate\" OR \"online abuse\") AND (\"social media\" OR \"social platform\" OR twitter OR facebook OR reddit OR instagram OR meta OR linkedin OR youtube)' \n",
    "# original query only gave 22 results. This gives 405 results\n",
    "max_results = 1000"
   ]
  },
  {
   "cell_type": "code",
   "execution_count": 4,
   "metadata": {},
   "outputs": [],
   "source": [
    "#Call arXiv API with the query parameters\n",
    "url = f'http://export.arxiv.org/api/query?search_query={query}&max_results={max_results}'\n",
    "resp = requests.get(url)"
   ]
  },
  {
   "cell_type": "code",
   "execution_count": 5,
   "metadata": {},
   "outputs": [
    {
     "data": {
      "text/plain": [
       "Index(['id', 'updated', 'published', 'title', 'summary', 'author', 'comment',\n",
       "       'link', 'primary_category', 'category', 'doi', 'journal_ref'],\n",
       "      dtype='object')"
      ]
     },
     "execution_count": 5,
     "metadata": {},
     "output_type": "execute_result"
    }
   ],
   "source": [
    "# Parse the response.\n",
    "# The response is in XML format. We’ll use an XML parser to parse the response\n",
    "ns = { 'r':'http://www.w3.org/2005/Atom'}\n",
    "root = ET.fromstring(resp.text)\n",
    "\n",
    "# Construct the dataframe from the response\n",
    "all_papers = list()\n",
    "entries = root.findall('r:entry',namespaces=ns)\n",
    "for entry in entries :\n",
    "    all_papers.append({l.tag[l.tag.index('}')+1:] :l.text for l in entry})\n",
    "\n",
    "all_papers_df=pd.DataFrame(all_papers)\n",
    "all_papers_df.columns"
   ]
  },
  {
   "cell_type": "code",
   "execution_count": 6,
   "metadata": {},
   "outputs": [
    {
     "data": {
      "text/plain": [
       "405"
      ]
     },
     "execution_count": 6,
     "metadata": {},
     "output_type": "execute_result"
    }
   ],
   "source": [
    "len(all_papers_df)"
   ]
  },
  {
   "cell_type": "code",
   "execution_count": 7,
   "metadata": {},
   "outputs": [],
   "source": [
    "# Joining the titles and the abstracts \n",
    "all_papers_df['title & abstract'] = all_papers_df['title'] + ' ' + all_papers_df['summary']\n",
    "\n",
    "# Converting to datetime format\n",
    "all_papers_df['year'] = pd.to_datetime(all_papers_df['published']).dt.year"
   ]
  },
  {
   "cell_type": "code",
   "execution_count": 8,
   "metadata": {},
   "outputs": [],
   "source": [
    "# Removing dates till 2012 in post-filtering as only 'updated' and 'published' parameters are there\n",
    "all_papers_df = all_papers_df[all_papers_df.year > 2012]"
   ]
  },
  {
   "cell_type": "code",
   "execution_count": 9,
   "metadata": {},
   "outputs": [
    {
     "name": "stdout",
     "output_type": "stream",
     "text": [
      "CPU times: user 1 µs, sys: 1e+03 ns, total: 2 µs\n",
      "Wall time: 3.1 µs\n"
     ]
    },
    {
     "data": {
      "text/html": [
       "<div>\n",
       "<style scoped>\n",
       "    .dataframe tbody tr th:only-of-type {\n",
       "        vertical-align: middle;\n",
       "    }\n",
       "\n",
       "    .dataframe tbody tr th {\n",
       "        vertical-align: top;\n",
       "    }\n",
       "\n",
       "    .dataframe thead th {\n",
       "        text-align: right;\n",
       "    }\n",
       "</style>\n",
       "<table border=\"1\" class=\"dataframe\">\n",
       "  <thead>\n",
       "    <tr style=\"text-align: right;\">\n",
       "      <th></th>\n",
       "      <th>year</th>\n",
       "      <th>title</th>\n",
       "      <th>summary</th>\n",
       "    </tr>\n",
       "  </thead>\n",
       "  <tbody>\n",
       "    <tr>\n",
       "      <th>396</th>\n",
       "      <td>2013</td>\n",
       "      <td>What are Chinese Talking about in Hot Weibos?</td>\n",
       "      <td>SinaWeibo is a Twitter-like social network s...</td>\n",
       "    </tr>\n",
       "    <tr>\n",
       "      <th>397</th>\n",
       "      <td>2016</td>\n",
       "      <td>Surveying Turkish high school and university s...</td>\n",
       "      <td>Student attitudes and approaches to problem ...</td>\n",
       "    </tr>\n",
       "    <tr>\n",
       "      <th>398</th>\n",
       "      <td>2020</td>\n",
       "      <td>Large image datasets: A pyrrhic win for comput...</td>\n",
       "      <td>In this paper we investigate problematic pra...</td>\n",
       "    </tr>\n",
       "  </tbody>\n",
       "</table>\n",
       "</div>"
      ],
      "text/plain": [
       "     year                                              title  \\\n",
       "396  2013      What are Chinese Talking about in Hot Weibos?   \n",
       "397  2016  Surveying Turkish high school and university s...   \n",
       "398  2020  Large image datasets: A pyrrhic win for comput...   \n",
       "\n",
       "                                               summary  \n",
       "396    SinaWeibo is a Twitter-like social network s...  \n",
       "397    Student attitudes and approaches to problem ...  \n",
       "398    In this paper we investigate problematic pra...  "
      ]
     },
     "execution_count": 9,
     "metadata": {},
     "output_type": "execute_result"
    }
   ],
   "source": [
    "import datetime\n",
    "%time\n",
    "def initial_process(df):\n",
    "    data = df.copy()\n",
    "    data = data[~data['summary'].isnull()]  # Remove rows with empty content\n",
    "\n",
    "    # Select contents of length between 140 and 2000 characters.\n",
    "    data = data[(data.summary.map(len) > 140) & (data.summary.map(len) <= 2000)]\n",
    "    data.reset_index(inplace=True, drop=True)\n",
    "\n",
    "    # collecting 10000 random sample for computational ease\n",
    "    #data = data.sample(10000, random_state=2021)\n",
    "    #data.reset_index(inplace=True, drop=True)\n",
    "    \n",
    "\n",
    "    # aligning the columns in order of requirement\n",
    "    data = data[['year', 'title', 'summary']]\n",
    "    # renaming date -> date_of_news\n",
    "    #data.rename(columns = {'date': 'date_of_news'}, inplace = True)\n",
    "    return (data)\n",
    "\n",
    "data = initial_process(all_papers_df)\n",
    "data.tail(3)"
   ]
  },
  {
   "cell_type": "code",
   "execution_count": 10,
   "metadata": {},
   "outputs": [
    {
     "data": {
      "image/png": "[encoded data removed]",
      "text/plain": [
       "<Figure size 1000x600 with 1 Axes>"
      ]
     },
     "metadata": {},
     "output_type": "display_data"
    }
   ],
   "source": [
    "years = data['year'].value_counts().to_frame()[:30]\n",
    "years.sort_values(by='year', ascending=True).plot(\n",
    "    kind = 'barh', colormap='jet', legend=False, figsize=(10, 6));\n",
    "plt.grid(True)"
   ]
  },
  {
   "cell_type": "code",
   "execution_count": 11,
   "metadata": {},
   "outputs": [
    {
     "data": {
      "application/vnd.plotly.v1+json": {
       "config": {
        "plotlyServerURL": "https://plot.ly"
       },
       "data": [
        {
         "alignmentgroup": "True",
         "hovertemplate": "year=%{x}<br>count=%{marker.color}<extra></extra>",
         "legendgroup": "",
         "marker": {
          "color": [
           5,
           8,
           19,
           11,
           73,
           33,
           52,
           47,
           78,
           73
          ],
          "coloraxis": "coloraxis",
          "pattern": {
           "shape": ""
          }
         },
         "name": "",
         "offsetgroup": "",
         "orientation": "v",
         "showlegend": false,
         "text": [
          5,
          8,
          19,
          11,
          73,
          33,
          52,
          47,
          78,
          73
         ],
         "textposition": "outside",
         "type": "bar",
         "x": [
          2013,
          2014,
          2015,
          2016,
          2017,
          2018,
          2019,
          2020,
          2021,
          2022
         ],
         "xaxis": "x",
         "y": [
          5,
          8,
          19,
          11,
          73,
          33,
          52,
          47,
          78,
          73
         ],
         "yaxis": "y"
        }
       ],
       "layout": {
        "barmode": "relative",
        "coloraxis": {
         "colorbar": {
          "title": {
           "text": "count"
          }
         },
         "colorscale": [
          [
           0,
           "#0d0887"
          ],
          [
           0.1111111111111111,
           "#46039f"
          ],
          [
           0.2222222222222222,
           "#7201a8"
          ],
          [
           0.3333333333333333,
           "#9c179e"
          ],
          [
           0.4444444444444444,
           "#bd3786"
          ],
          [
           0.5555555555555556,
           "#d8576b"
          ],
          [
           0.6666666666666666,
           "#ed7953"
          ],
          [
           0.7777777777777778,
           "#fb9f3a"
          ],
          [
           0.8888888888888888,
           "#fdca26"
          ],
          [
           1,
           "#f0f921"
          ]
         ],
         "showscale": false
        },
        "legend": {
         "tracegroupgap": 0
        },
        "margin": {
         "t": 60
        },
        "showlegend": false,
        "template": {
         "data": {
          "bar": [
           {
            "error_x": {
             "color": "#2a3f5f"
            },
            "error_y": {
             "color": "#2a3f5f"
            },
            "marker": {
             "line": {
              "color": "#E5ECF6",
              "width": 0.5
             },
             "pattern": {
              "fillmode": "overlay",
              "size": 10,
              "solidity": 0.2
             }
            },
            "type": "bar"
           }
          ],
          "barpolar": [
           {
            "marker": {
             "line": {
              "color": "#E5ECF6",
              "width": 0.5
             },
             "pattern": {
              "fillmode": "overlay",
              "size": 10,
              "solidity": 0.2
             }
            },
            "type": "barpolar"
           }
          ],
          "carpet": [
           {
            "aaxis": {
             "endlinecolor": "#2a3f5f",
             "gridcolor": "white",
             "linecolor": "white",
             "minorgridcolor": "white",
             "startlinecolor": "#2a3f5f"
            },
            "baxis": {
             "endlinecolor": "#2a3f5f",
             "gridcolor": "white",
             "linecolor": "white",
             "minorgridcolor": "white",
             "startlinecolor": "#2a3f5f"
            },
            "type": "carpet"
           }
          ],
          "choropleth": [
           {
            "colorbar": {
             "outlinewidth": 0,
             "ticks": ""
            },
            "type": "choropleth"
           }
          ],
          "contour": [
           {
            "colorbar": {
             "outlinewidth": 0,
             "ticks": ""
            },
            "colorscale": [
             [
              0,
              "#0d0887"
             ],
             [
              0.1111111111111111,
              "#46039f"
             ],
             [
              0.2222222222222222,
              "#7201a8"
             ],
             [
              0.3333333333333333,
              "#9c179e"
             ],
             [
              0.4444444444444444,
              "#bd3786"
             ],
             [
              0.5555555555555556,
              "#d8576b"
             ],
             [
              0.6666666666666666,
              "#ed7953"
             ],
             [
              0.7777777777777778,
              "#fb9f3a"
             ],
             [
              0.8888888888888888,
              "#fdca26"
             ],
             [
              1,
              "#f0f921"
             ]
            ],
            "type": "contour"
           }
          ],
          "contourcarpet": [
           {
            "colorbar": {
             "outlinewidth": 0,
             "ticks": ""
            },
            "type": "contourcarpet"
           }
          ],
          "heatmap": [
           {
            "colorbar": {
             "outlinewidth": 0,
             "ticks": ""
            },
            "colorscale": [
             [
              0,
              "#0d0887"
             ],
             [
              0.1111111111111111,
              "#46039f"
             ],
             [
              0.2222222222222222,
              "#7201a8"
             ],
             [
              0.3333333333333333,
              "#9c179e"
             ],
             [
              0.4444444444444444,
              "#bd3786"
             ],
             [
              0.5555555555555556,
              "#d8576b"
             ],
             [
              0.6666666666666666,
              "#ed7953"
             ],
             [
              0.7777777777777778,
              "#fb9f3a"
             ],
             [
              0.8888888888888888,
              "#fdca26"
             ],
             [
              1,
              "#f0f921"
             ]
            ],
            "type": "heatmap"
           }
          ],
          "heatmapgl": [
           {
            "colorbar": {
             "outlinewidth": 0,
             "ticks": ""
            },
            "colorscale": [
             [
              0,
              "#0d0887"
             ],
             [
              0.1111111111111111,
              "#46039f"
             ],
             [
              0.2222222222222222,
              "#7201a8"
             ],
             [
              0.3333333333333333,
              "#9c179e"
             ],
             [
              0.4444444444444444,
              "#bd3786"
             ],
             [
              0.5555555555555556,
              "#d8576b"
             ],
             [
              0.6666666666666666,
              "#ed7953"
             ],
             [
              0.7777777777777778,
              "#fb9f3a"
             ],
             [
              0.8888888888888888,
              "#fdca26"
             ],
             [
              1,
              "#f0f921"
             ]
            ],
            "type": "heatmapgl"
           }
          ],
          "histogram": [
           {
            "marker": {
             "pattern": {
              "fillmode": "overlay",
              "size": 10,
              "solidity": 0.2
             }
            },
            "type": "histogram"
           }
          ],
          "histogram2d": [
           {
            "colorbar": {
             "outlinewidth": 0,
             "ticks": ""
            },
            "colorscale": [
             [
              0,
              "#0d0887"
             ],
             [
              0.1111111111111111,
              "#46039f"
             ],
             [
              0.2222222222222222,
              "#7201a8"
             ],
             [
              0.3333333333333333,
              "#9c179e"
             ],
             [
              0.4444444444444444,
              "#bd3786"
             ],
             [
              0.5555555555555556,
              "#d8576b"
             ],
             [
              0.6666666666666666,
              "#ed7953"
             ],
             [
              0.7777777777777778,
              "#fb9f3a"
             ],
             [
              0.8888888888888888,
              "#fdca26"
             ],
             [
              1,
              "#f0f921"
             ]
            ],
            "type": "histogram2d"
           }
          ],
          "histogram2dcontour": [
           {
            "colorbar": {
             "outlinewidth": 0,
             "ticks": ""
            },
            "colorscale": [
             [
              0,
              "#0d0887"
             ],
             [
              0.1111111111111111,
              "#46039f"
             ],
             [
              0.2222222222222222,
              "#7201a8"
             ],
             [
              0.3333333333333333,
              "#9c179e"
             ],
             [
              0.4444444444444444,
              "#bd3786"
             ],
             [
              0.5555555555555556,
              "#d8576b"
             ],
             [
              0.6666666666666666,
              "#ed7953"
             ],
             [
              0.7777777777777778,
              "#fb9f3a"
             ],
             [
              0.8888888888888888,
              "#fdca26"
             ],
             [
              1,
              "#f0f921"
             ]
            ],
            "type": "histogram2dcontour"
           }
          ],
          "mesh3d": [
           {
            "colorbar": {
             "outlinewidth": 0,
             "ticks": ""
            },
            "type": "mesh3d"
           }
          ],
          "parcoords": [
           {
            "line": {
             "colorbar": {
              "outlinewidth": 0,
              "ticks": ""
             }
            },
            "type": "parcoords"
           }
          ],
          "pie": [
           {
            "automargin": true,
            "type": "pie"
           }
          ],
          "scatter": [
           {
            "fillpattern": {
             "fillmode": "overlay",
             "size": 10,
             "solidity": 0.2
            },
            "type": "scatter"
           }
          ],
          "scatter3d": [
           {
            "line": {
             "colorbar": {
              "outlinewidth": 0,
              "ticks": ""
             }
            },
            "marker": {
             "colorbar": {
              "outlinewidth": 0,
              "ticks": ""
             }
            },
            "type": "scatter3d"
           }
          ],
          "scattercarpet": [
           {
            "marker": {
             "colorbar": {
              "outlinewidth": 0,
              "ticks": ""
             }
            },
            "type": "scattercarpet"
           }
          ],
          "scattergeo": [
           {
            "marker": {
             "colorbar": {
              "outlinewidth": 0,
              "ticks": ""
             }
            },
            "type": "scattergeo"
           }
          ],
          "scattergl": [
           {
            "marker": {
             "colorbar": {
              "outlinewidth": 0,
              "ticks": ""
             }
            },
            "type": "scattergl"
           }
          ],
          "scattermapbox": [
           {
            "marker": {
             "colorbar": {
              "outlinewidth": 0,
              "ticks": ""
             }
            },
            "type": "scattermapbox"
           }
          ],
          "scatterpolar": [
           {
            "marker": {
             "colorbar": {
              "outlinewidth": 0,
              "ticks": ""
             }
            },
            "type": "scatterpolar"
           }
          ],
          "scatterpolargl": [
           {
            "marker": {
             "colorbar": {
              "outlinewidth": 0,
              "ticks": ""
             }
            },
            "type": "scatterpolargl"
           }
          ],
          "scatterternary": [
           {
            "marker": {
             "colorbar": {
              "outlinewidth": 0,
              "ticks": ""
             }
            },
            "type": "scatterternary"
           }
          ],
          "surface": [
           {
            "colorbar": {
             "outlinewidth": 0,
             "ticks": ""
            },
            "colorscale": [
             [
              0,
              "#0d0887"
             ],
             [
              0.1111111111111111,
              "#46039f"
             ],
             [
              0.2222222222222222,
              "#7201a8"
             ],
             [
              0.3333333333333333,
              "#9c179e"
             ],
             [
              0.4444444444444444,
              "#bd3786"
             ],
             [
              0.5555555555555556,
              "#d8576b"
             ],
             [
              0.6666666666666666,
              "#ed7953"
             ],
             [
              0.7777777777777778,
              "#fb9f3a"
             ],
             [
              0.8888888888888888,
              "#fdca26"
             ],
             [
              1,
              "#f0f921"
             ]
            ],
            "type": "surface"
           }
          ],
          "table": [
           {
            "cells": {
             "fill": {
              "color": "#EBF0F8"
             },
             "line": {
              "color": "white"
             }
            },
            "header": {
             "fill": {
              "color": "#C8D4E3"
             },
             "line": {
              "color": "white"
             }
            },
            "type": "table"
           }
          ]
         },
         "layout": {
          "annotationdefaults": {
           "arrowcolor": "#2a3f5f",
           "arrowhead": 0,
           "arrowwidth": 1
          },
          "autotypenumbers": "strict",
          "coloraxis": {
           "colorbar": {
            "outlinewidth": 0,
            "ticks": ""
           }
          },
          "colorscale": {
           "diverging": [
            [
             0,
             "#8e0152"
            ],
            [
             0.1,
             "#c51b7d"
            ],
            [
             0.2,
             "#de77ae"
            ],
            [
             0.3,
             "#f1b6da"
            ],
            [
             0.4,
             "#fde0ef"
            ],
            [
             0.5,
             "#f7f7f7"
            ],
            [
             0.6,
             "#e6f5d0"
            ],
            [
             0.7,
             "#b8e186"
            ],
            [
             0.8,
             "#7fbc41"
            ],
            [
             0.9,
             "#4d9221"
            ],
            [
             1,
             "#276419"
            ]
           ],
           "sequential": [
            [
             0,
             "#0d0887"
            ],
            [
             0.1111111111111111,
             "#46039f"
            ],
            [
             0.2222222222222222,
             "#7201a8"
            ],
            [
             0.3333333333333333,
             "#9c179e"
            ],
            [
             0.4444444444444444,
             "#bd3786"
            ],
            [
             0.5555555555555556,
             "#d8576b"
            ],
            [
             0.6666666666666666,
             "#ed7953"
            ],
            [
             0.7777777777777778,
             "#fb9f3a"
            ],
            [
             0.8888888888888888,
             "#fdca26"
            ],
            [
             1,
             "#f0f921"
            ]
           ],
           "sequentialminus": [
            [
             0,
             "#0d0887"
            ],
            [
             0.1111111111111111,
             "#46039f"
            ],
            [
             0.2222222222222222,
             "#7201a8"
            ],
            [
             0.3333333333333333,
             "#9c179e"
            ],
            [
             0.4444444444444444,
             "#bd3786"
            ],
            [
             0.5555555555555556,
             "#d8576b"
            ],
            [
             0.6666666666666666,
             "#ed7953"
            ],
            [
             0.7777777777777778,
             "#fb9f3a"
            ],
            [
             0.8888888888888888,
             "#fdca26"
            ],
            [
             1,
             "#f0f921"
            ]
           ]
          },
          "colorway": [
           "#636efa",
           "#EF553B",
           "#00cc96",
           "#ab63fa",
           "#FFA15A",
           "#19d3f3",
           "#FF6692",
           "#B6E880",
           "#FF97FF",
           "#FECB52"
          ],
          "font": {
           "color": "#2a3f5f"
          },
          "geo": {
           "bgcolor": "white",
           "lakecolor": "white",
           "landcolor": "#E5ECF6",
           "showlakes": true,
           "showland": true,
           "subunitcolor": "white"
          },
          "hoverlabel": {
           "align": "left"
          },
          "hovermode": "closest",
          "mapbox": {
           "style": "light"
          },
          "paper_bgcolor": "white",
          "plot_bgcolor": "#E5ECF6",
          "polar": {
           "angularaxis": {
            "gridcolor": "white",
            "linecolor": "white",
            "ticks": ""
           },
           "bgcolor": "#E5ECF6",
           "radialaxis": {
            "gridcolor": "white",
            "linecolor": "white",
            "ticks": ""
           }
          },
          "scene": {
           "xaxis": {
            "backgroundcolor": "#E5ECF6",
            "gridcolor": "white",
            "gridwidth": 2,
            "linecolor": "white",
            "showbackground": true,
            "ticks": "",
            "zerolinecolor": "white"
           },
           "yaxis": {
            "backgroundcolor": "#E5ECF6",
            "gridcolor": "white",
            "gridwidth": 2,
            "linecolor": "white",
            "showbackground": true,
            "ticks": "",
            "zerolinecolor": "white"
           },
           "zaxis": {
            "backgroundcolor": "#E5ECF6",
            "gridcolor": "white",
            "gridwidth": 2,
            "linecolor": "white",
            "showbackground": true,
            "ticks": "",
            "zerolinecolor": "white"
           }
          },
          "shapedefaults": {
           "line": {
            "color": "#2a3f5f"
           }
          },
          "ternary": {
           "aaxis": {
            "gridcolor": "white",
            "linecolor": "white",
            "ticks": ""
           },
           "baxis": {
            "gridcolor": "white",
            "linecolor": "white",
            "ticks": ""
           },
           "bgcolor": "#E5ECF6",
           "caxis": {
            "gridcolor": "white",
            "linecolor": "white",
            "ticks": ""
           }
          },
          "title": {
           "x": 0.05
          },
          "xaxis": {
           "automargin": true,
           "gridcolor": "white",
           "linecolor": "white",
           "ticks": "",
           "title": {
            "standoff": 15
           },
           "zerolinecolor": "white",
           "zerolinewidth": 2
          },
          "yaxis": {
           "automargin": true,
           "gridcolor": "white",
           "linecolor": "white",
           "ticks": "",
           "title": {
            "standoff": 15
           },
           "zerolinecolor": "white",
           "zerolinewidth": 2
          }
         }
        },
        "title": {
         "text": "Number of preprints by years",
         "x": 0.5,
         "y": 0.92
        },
        "uniformtext": {
         "minsize": 8,
         "mode": "hide"
        },
        "xaxis": {
         "anchor": "y",
         "domain": [
          0,
          1
         ],
         "tickmode": "array",
         "ticktext": [
          2013,
          2014,
          2015,
          2016,
          2017,
          2018,
          2019,
          2020,
          2021,
          2022
         ],
         "tickvals": [
          2013,
          2014,
          2015,
          2016,
          2017,
          2018,
          2019,
          2020,
          2021,
          2022
         ],
         "title": {
          "text": "year"
         }
        },
        "yaxis": {
         "anchor": "x",
         "categoryorder": "total ascending",
         "domain": [
          0,
          1
         ],
         "range": [
          0,
          90
         ],
         "title": {
          "text": "count"
         }
        }
       }
      }
     },
     "metadata": {},
     "output_type": "display_data"
    }
   ],
   "source": [
    "df_pub_years = pd.DataFrame({\n",
    "    'year': data['year'].dropna().unique(),\n",
    "    'count': data['year'].value_counts().tolist()\n",
    "})\n",
    "df_pub_years = df_pub_years.sort_values(by='year', ascending=True)\n",
    "tick_val = df_pub_years.year.to_list()\n",
    "\n",
    "fig = px.bar(df_pub_years, x=\"year\", y=\"count\", color= \"count\", \n",
    "            hover_data=['year'], text ='count')\n",
    "fig.update_layout(yaxis={'categoryorder':'total ascending'})\n",
    "fig.update_layout(uniformtext_minsize=8, uniformtext_mode='hide')\n",
    "fig.update_traces(textposition='outside')\n",
    "fig.update_layout(title_text='Number of preprints by years', title_x=0.5, title_y=0.92,\n",
    "    showlegend=False)\n",
    "fig.update_yaxes(range=[0,90])\n",
    "fig.update_layout(\n",
    "    xaxis = dict(\n",
    "        tickmode = 'array',\n",
    "        tickvals = tick_val,\n",
    "        ticktext = tick_val\n",
    "    )\n",
    ")\n",
    "fig.update_coloraxes(showscale=False)\n",
    "\n",
    "fig.show()"
   ]
  },
  {
   "cell_type": "code",
   "execution_count": null,
   "metadata": {},
   "outputs": [],
   "source": []
  },
  {
   "attachments": {},
   "cell_type": "markdown",
   "metadata": {},
   "source": [
    "### Further preprocessing"
   ]
  },
  {
   "cell_type": "code",
   "execution_count": 12,
   "metadata": {},
   "outputs": [
    {
     "name": "stdout",
     "output_type": "stream",
     "text": [
      "CPU times: user 2 µs, sys: 1 µs, total: 3 µs\n",
      "Wall time: 2.15 µs\n"
     ]
    },
    {
     "data": {
      "text/html": [
       "<div>\n",
       "<style scoped>\n",
       "    .dataframe tbody tr th:only-of-type {\n",
       "        vertical-align: middle;\n",
       "    }\n",
       "\n",
       "    .dataframe tbody tr th {\n",
       "        vertical-align: top;\n",
       "    }\n",
       "\n",
       "    .dataframe thead th {\n",
       "        text-align: right;\n",
       "    }\n",
       "</style>\n",
       "<table border=\"1\" class=\"dataframe\">\n",
       "  <thead>\n",
       "    <tr style=\"text-align: right;\">\n",
       "      <th></th>\n",
       "      <th>year</th>\n",
       "      <th>title</th>\n",
       "      <th>summary</th>\n",
       "      <th>processedsummary</th>\n",
       "    </tr>\n",
       "  </thead>\n",
       "  <tbody>\n",
       "    <tr>\n",
       "      <th>0</th>\n",
       "      <td>2021</td>\n",
       "      <td>Let-Mi: An Arabic Levantine Twitter Dataset fo...</td>\n",
       "      <td>Online misogyny has become an increasing wor...</td>\n",
       "      <td>online misogyny has become an increasing worry...</td>\n",
       "    </tr>\n",
       "    <tr>\n",
       "      <th>1</th>\n",
       "      <td>2022</td>\n",
       "      <td>SexWEs: Domain-Aware Word Embeddings via Cross...</td>\n",
       "      <td>The goal of sexism detection is to mitigate ...</td>\n",
       "      <td>the goal of sexism detection is to mitigate ne...</td>\n",
       "    </tr>\n",
       "    <tr>\n",
       "      <th>2</th>\n",
       "      <td>2017</td>\n",
       "      <td>Wearing Many (Social) Hats: How Different are ...</td>\n",
       "      <td>This paper investigates when users create pr...</td>\n",
       "      <td>this paper investigates when users create prof...</td>\n",
       "    </tr>\n",
       "  </tbody>\n",
       "</table>\n",
       "</div>"
      ],
      "text/plain": [
       "   year                                              title  \\\n",
       "0  2021  Let-Mi: An Arabic Levantine Twitter Dataset fo...   \n",
       "1  2022  SexWEs: Domain-Aware Word Embeddings via Cross...   \n",
       "2  2017  Wearing Many (Social) Hats: How Different are ...   \n",
       "\n",
       "                                             summary  \\\n",
       "0    Online misogyny has become an increasing wor...   \n",
       "1    The goal of sexism detection is to mitigate ...   \n",
       "2    This paper investigates when users create pr...   \n",
       "\n",
       "                                    processedsummary  \n",
       "0  online misogyny has become an increasing worry...  \n",
       "1  the goal of sexism detection is to mitigate ne...  \n",
       "2  this paper investigates when users create prof...  "
      ]
     },
     "execution_count": 12,
     "metadata": {},
     "output_type": "execute_result"
    }
   ],
   "source": [
    "%time\n",
    "def preProcess(text):\n",
    "    #  Remove non-ASCII characters\n",
    "    text = text.encode('ascii', 'ignore').decode('utf-8', 'ignore').lower()                   # lower case lowers the sparsity of the data\n",
    "  \n",
    "    # remove numbers\n",
    "    text = re.sub(r'\\d+', '', str(text))\n",
    "\n",
    "    # removing salutaions (if any)\n",
    "    text = re.sub(\"Mr\\.\",'Mr',  str(text))\n",
    "    text = re.sub(\"Mrs\\.\",'Mrs',str(text))\n",
    "\n",
    "    text = re.sub(r\"what's\", \"what is \", text)\n",
    "    text = re.sub(r'won\\'t', 'will not', text)\n",
    "    text = text.replace('(ap)', '')\n",
    "    text = re.sub(r\"\\'s\", \" is \", text)\n",
    "    text = re.sub(r'(\\w+)\\'s', '\\g<1> is', text)\n",
    "    text = re.sub(r'(\\w+)\\'ve', '\\g<1> have', text)\n",
    "    text = re.sub(r\"can't\", \"cannot \", text)\n",
    "    text = re.sub(r\"n't\", \" not \", text)\n",
    "    text = re.sub(r\"i'm\", \"i am \", text)\n",
    "    text = re.sub(r\"\\'re\", \" are \", text)\n",
    "    text = re.sub(r\"\\'d\", \" would \", text)\n",
    "    text = re.sub(r\"\\'ll\", \" will \", text)\n",
    "\n",
    "   \n",
    "    # substitute multiple whitespace with single whitespace\n",
    "    # Also, removes leading and trailing whitespaces\n",
    "    text = re.sub(r'\\W+', ' ', text)\n",
    "    text = re.sub(r'\\s+', ' ', text)\n",
    "  \n",
    "    # removing any reference to outside text\n",
    "    text = re.sub(r\"\\\\\", \"\", text)\n",
    "    text = re.sub(r\"\\'\", \"\", text)    \n",
    "    text = re.sub(r\"\\\"\", \"\", text)\n",
    "\n",
    "    text = text.strip()\n",
    "    return text\n",
    "\n",
    "# preprocessing texts\n",
    "data['processedsummary'] = data['summary'].apply(preProcess)\n",
    "data.head(3)"
   ]
  },
  {
   "attachments": {},
   "cell_type": "markdown",
   "metadata": {},
   "source": [
    "##### Removing rare words"
   ]
  },
  {
   "cell_type": "code",
   "execution_count": 13,
   "metadata": {},
   "outputs": [
    {
     "name": "stdout",
     "output_type": "stream",
     "text": [
      "CPU times: user 1 µs, sys: 0 ns, total: 1 µs\n",
      "Wall time: 2.15 µs\n"
     ]
    },
    {
     "data": {
      "text/html": [
       "<div>\n",
       "<style scoped>\n",
       "    .dataframe tbody tr th:only-of-type {\n",
       "        vertical-align: middle;\n",
       "    }\n",
       "\n",
       "    .dataframe tbody tr th {\n",
       "        vertical-align: top;\n",
       "    }\n",
       "\n",
       "    .dataframe thead th {\n",
       "        text-align: right;\n",
       "    }\n",
       "</style>\n",
       "<table border=\"1\" class=\"dataframe\">\n",
       "  <thead>\n",
       "    <tr style=\"text-align: right;\">\n",
       "      <th></th>\n",
       "      <th>year</th>\n",
       "      <th>title</th>\n",
       "      <th>summary</th>\n",
       "      <th>processedsummary</th>\n",
       "    </tr>\n",
       "  </thead>\n",
       "  <tbody>\n",
       "    <tr>\n",
       "      <th>0</th>\n",
       "      <td>2021</td>\n",
       "      <td>Let-Mi: An Arabic Levantine Twitter Dataset fo...</td>\n",
       "      <td>Online misogyny has become an increasing wor...</td>\n",
       "      <td>online misogyny has become an increasing worry...</td>\n",
       "    </tr>\n",
       "    <tr>\n",
       "      <th>1</th>\n",
       "      <td>2022</td>\n",
       "      <td>SexWEs: Domain-Aware Word Embeddings via Cross...</td>\n",
       "      <td>The goal of sexism detection is to mitigate ...</td>\n",
       "      <td>the goal of sexism detection is to mitigate ne...</td>\n",
       "    </tr>\n",
       "    <tr>\n",
       "      <th>2</th>\n",
       "      <td>2017</td>\n",
       "      <td>Wearing Many (Social) Hats: How Different are ...</td>\n",
       "      <td>This paper investigates when users create pr...</td>\n",
       "      <td>this paper investigates when users create prof...</td>\n",
       "    </tr>\n",
       "  </tbody>\n",
       "</table>\n",
       "</div>"
      ],
      "text/plain": [
       "   year                                              title  \\\n",
       "0  2021  Let-Mi: An Arabic Levantine Twitter Dataset fo...   \n",
       "1  2022  SexWEs: Domain-Aware Word Embeddings via Cross...   \n",
       "2  2017  Wearing Many (Social) Hats: How Different are ...   \n",
       "\n",
       "                                             summary  \\\n",
       "0    Online misogyny has become an increasing wor...   \n",
       "1    The goal of sexism detection is to mitigate ...   \n",
       "2    This paper investigates when users create pr...   \n",
       "\n",
       "                                    processedsummary  \n",
       "0  online misogyny has become an increasing worry...  \n",
       "1  the goal of sexism detection is to mitigate ne...  \n",
       "2  this paper investigates when users create prof...  "
      ]
     },
     "execution_count": 13,
     "metadata": {},
     "output_type": "execute_result"
    }
   ],
   "source": [
    "%time\n",
    "num_of_rare_words = 25\n",
    "RARE_WORDS = set([w for (w, wc) in collections.Counter().most_common()[:-num_of_rare_words-1:-1]])\n",
    "def remove_rare_words(text):\n",
    "    return \" \".join([word for word in str(text).split() if word not in RARE_WORDS])\n",
    "\n",
    "data[\"processedsummary\"] = data[\"processedsummary\"].apply(lambda text: remove_rare_words(text))\n",
    "data.head(3)"
   ]
  },
  {
   "attachments": {},
   "cell_type": "markdown",
   "metadata": {},
   "source": [
    "##### Frequent words removal"
   ]
  },
  {
   "cell_type": "code",
   "execution_count": 14,
   "metadata": {},
   "outputs": [
    {
     "name": "stdout",
     "output_type": "stream",
     "text": [
      "CPU times: user 1 µs, sys: 0 ns, total: 1 µs\n",
      "Wall time: 1.91 µs\n"
     ]
    },
    {
     "data": {
      "text/html": [
       "<div>\n",
       "<style scoped>\n",
       "    .dataframe tbody tr th:only-of-type {\n",
       "        vertical-align: middle;\n",
       "    }\n",
       "\n",
       "    .dataframe tbody tr th {\n",
       "        vertical-align: top;\n",
       "    }\n",
       "\n",
       "    .dataframe thead th {\n",
       "        text-align: right;\n",
       "    }\n",
       "</style>\n",
       "<table border=\"1\" class=\"dataframe\">\n",
       "  <thead>\n",
       "    <tr style=\"text-align: right;\">\n",
       "      <th></th>\n",
       "      <th>year</th>\n",
       "      <th>title</th>\n",
       "      <th>summary</th>\n",
       "      <th>processedsummary</th>\n",
       "    </tr>\n",
       "  </thead>\n",
       "  <tbody>\n",
       "    <tr>\n",
       "      <th>0</th>\n",
       "      <td>2021</td>\n",
       "      <td>Let-Mi: An Arabic Levantine Twitter Dataset fo...</td>\n",
       "      <td>Online misogyny has become an increasing wor...</td>\n",
       "      <td>online misogyny has become an increasing worry...</td>\n",
       "    </tr>\n",
       "    <tr>\n",
       "      <th>1</th>\n",
       "      <td>2022</td>\n",
       "      <td>SexWEs: Domain-Aware Word Embeddings via Cross...</td>\n",
       "      <td>The goal of sexism detection is to mitigate ...</td>\n",
       "      <td>the goal of sexism detection is to mitigate ne...</td>\n",
       "    </tr>\n",
       "    <tr>\n",
       "      <th>2</th>\n",
       "      <td>2017</td>\n",
       "      <td>Wearing Many (Social) Hats: How Different are ...</td>\n",
       "      <td>This paper investigates when users create pr...</td>\n",
       "      <td>this paper investigates when users create prof...</td>\n",
       "    </tr>\n",
       "  </tbody>\n",
       "</table>\n",
       "</div>"
      ],
      "text/plain": [
       "   year                                              title  \\\n",
       "0  2021  Let-Mi: An Arabic Levantine Twitter Dataset fo...   \n",
       "1  2022  SexWEs: Domain-Aware Word Embeddings via Cross...   \n",
       "2  2017  Wearing Many (Social) Hats: How Different are ...   \n",
       "\n",
       "                                             summary  \\\n",
       "0    Online misogyny has become an increasing wor...   \n",
       "1    The goal of sexism detection is to mitigate ...   \n",
       "2    This paper investigates when users create pr...   \n",
       "\n",
       "                                    processedsummary  \n",
       "0  online misogyny has become an increasing worry...  \n",
       "1  the goal of sexism detection is to mitigate ne...  \n",
       "2  this paper investigates when users create prof...  "
      ]
     },
     "execution_count": 14,
     "metadata": {},
     "output_type": "execute_result"
    }
   ],
   "source": [
    "%time\n",
    "FREQ_WORDS = set([w for (w, wc) in collections.Counter().most_common(25)])\n",
    "def remove_freq_words(text):\n",
    "    return \" \".join([word for word in str(text).split() if word not in FREQ_WORDS])\n",
    "\n",
    "data[\"processedsummary\"] = data[\"processedsummary\"].apply(lambda text: remove_freq_words(text))\n",
    "data.head(3)"
   ]
  },
  {
   "attachments": {},
   "cell_type": "markdown",
   "metadata": {},
   "source": [
    "##### Stopwords removal"
   ]
  },
  {
   "cell_type": "code",
   "execution_count": 15,
   "metadata": {},
   "outputs": [
    {
     "name": "stdout",
     "output_type": "stream",
     "text": [
      "CPU times: user 1 µs, sys: 1 µs, total: 2 µs\n",
      "Wall time: 2.15 µs\n"
     ]
    },
    {
     "data": {
      "text/html": [
       "<div>\n",
       "<style scoped>\n",
       "    .dataframe tbody tr th:only-of-type {\n",
       "        vertical-align: middle;\n",
       "    }\n",
       "\n",
       "    .dataframe tbody tr th {\n",
       "        vertical-align: top;\n",
       "    }\n",
       "\n",
       "    .dataframe thead th {\n",
       "        text-align: right;\n",
       "    }\n",
       "</style>\n",
       "<table border=\"1\" class=\"dataframe\">\n",
       "  <thead>\n",
       "    <tr style=\"text-align: right;\">\n",
       "      <th></th>\n",
       "      <th>year</th>\n",
       "      <th>title</th>\n",
       "      <th>summary</th>\n",
       "      <th>processedsummary</th>\n",
       "    </tr>\n",
       "  </thead>\n",
       "  <tbody>\n",
       "    <tr>\n",
       "      <th>0</th>\n",
       "      <td>2021</td>\n",
       "      <td>Let-Mi: An Arabic Levantine Twitter Dataset fo...</td>\n",
       "      <td>Online misogyny has become an increasing wor...</td>\n",
       "      <td>online misogyny become increasing worry arab w...</td>\n",
       "    </tr>\n",
       "    <tr>\n",
       "      <th>1</th>\n",
       "      <td>2022</td>\n",
       "      <td>SexWEs: Domain-Aware Word Embeddings via Cross...</td>\n",
       "      <td>The goal of sexism detection is to mitigate ...</td>\n",
       "      <td>goal sexism detection mitigate negative online...</td>\n",
       "    </tr>\n",
       "    <tr>\n",
       "      <th>2</th>\n",
       "      <td>2017</td>\n",
       "      <td>Wearing Many (Social) Hats: How Different are ...</td>\n",
       "      <td>This paper investigates when users create pr...</td>\n",
       "      <td>paper investigates users create profiles diffe...</td>\n",
       "    </tr>\n",
       "    <tr>\n",
       "      <th>3</th>\n",
       "      <td>2019</td>\n",
       "      <td>When a Tweet is Actually Sexist. A more Compre...</td>\n",
       "      <td>Sexism is very common in social media and ma...</td>\n",
       "      <td>sexism common social media makes boundaries fr...</td>\n",
       "    </tr>\n",
       "    <tr>\n",
       "      <th>4</th>\n",
       "      <td>2019</td>\n",
       "      <td>How is Your Mood When Writing Sexist tweets? D...</td>\n",
       "      <td>Online social platforms have been the battle...</td>\n",
       "      <td>online social platforms battlefield users diff...</td>\n",
       "    </tr>\n",
       "  </tbody>\n",
       "</table>\n",
       "</div>"
      ],
      "text/plain": [
       "   year                                              title  \\\n",
       "0  2021  Let-Mi: An Arabic Levantine Twitter Dataset fo...   \n",
       "1  2022  SexWEs: Domain-Aware Word Embeddings via Cross...   \n",
       "2  2017  Wearing Many (Social) Hats: How Different are ...   \n",
       "3  2019  When a Tweet is Actually Sexist. A more Compre...   \n",
       "4  2019  How is Your Mood When Writing Sexist tweets? D...   \n",
       "\n",
       "                                             summary  \\\n",
       "0    Online misogyny has become an increasing wor...   \n",
       "1    The goal of sexism detection is to mitigate ...   \n",
       "2    This paper investigates when users create pr...   \n",
       "3    Sexism is very common in social media and ma...   \n",
       "4    Online social platforms have been the battle...   \n",
       "\n",
       "                                    processedsummary  \n",
       "0  online misogyny become increasing worry arab w...  \n",
       "1  goal sexism detection mitigate negative online...  \n",
       "2  paper investigates users create profiles diffe...  \n",
       "3  sexism common social media makes boundaries fr...  \n",
       "4  online social platforms battlefield users diff...  "
      ]
     },
     "execution_count": 15,
     "metadata": {},
     "output_type": "execute_result"
    }
   ],
   "source": [
    "%time\n",
    "\n",
    "stop_words = set(stopwords.words('english'))\n",
    "\n",
    "# add words that aren't in the NLTK stopwords list\n",
    "STOPWORDS = list(stop_words)\n",
    "#print(STOPWORDS); print()\n",
    "#print(len(STOPWORDS))\n",
    "\n",
    "def remove_stopwords(text):\n",
    "    return \" \".join([word for word in str(text).split() if word not in STOPWORDS])\n",
    "\n",
    "data[\"processedsummary\"] = data[\"processedsummary\"].apply(lambda text: remove_stopwords(text))\n",
    "data.head(5)"
   ]
  },
  {
   "attachments": {},
   "cell_type": "markdown",
   "metadata": {},
   "source": [
    "##### Lemmatizing"
   ]
  },
  {
   "cell_type": "code",
   "execution_count": 16,
   "metadata": {},
   "outputs": [
    {
     "data": {
      "text/html": [
       "<div>\n",
       "<style scoped>\n",
       "    .dataframe tbody tr th:only-of-type {\n",
       "        vertical-align: middle;\n",
       "    }\n",
       "\n",
       "    .dataframe tbody tr th {\n",
       "        vertical-align: top;\n",
       "    }\n",
       "\n",
       "    .dataframe thead th {\n",
       "        text-align: right;\n",
       "    }\n",
       "</style>\n",
       "<table border=\"1\" class=\"dataframe\">\n",
       "  <thead>\n",
       "    <tr style=\"text-align: right;\">\n",
       "      <th></th>\n",
       "      <th>year</th>\n",
       "      <th>title</th>\n",
       "      <th>summary</th>\n",
       "      <th>processedsummary</th>\n",
       "    </tr>\n",
       "  </thead>\n",
       "  <tbody>\n",
       "    <tr>\n",
       "      <th>0</th>\n",
       "      <td>2021</td>\n",
       "      <td>Let-Mi: An Arabic Levantine Twitter Dataset fo...</td>\n",
       "      <td>Online misogyny has become an increasing wor...</td>\n",
       "      <td>online misogyny become increasing worry arab w...</td>\n",
       "    </tr>\n",
       "    <tr>\n",
       "      <th>1</th>\n",
       "      <td>2022</td>\n",
       "      <td>SexWEs: Domain-Aware Word Embeddings via Cross...</td>\n",
       "      <td>The goal of sexism detection is to mitigate ...</td>\n",
       "      <td>goal sexism detection mitigate negative online...</td>\n",
       "    </tr>\n",
       "    <tr>\n",
       "      <th>2</th>\n",
       "      <td>2017</td>\n",
       "      <td>Wearing Many (Social) Hats: How Different are ...</td>\n",
       "      <td>This paper investigates when users create pr...</td>\n",
       "      <td>paper investigates user create profile differe...</td>\n",
       "    </tr>\n",
       "    <tr>\n",
       "      <th>3</th>\n",
       "      <td>2019</td>\n",
       "      <td>When a Tweet is Actually Sexist. A more Compre...</td>\n",
       "      <td>Sexism is very common in social media and ma...</td>\n",
       "      <td>sexism common social medium make boundary free...</td>\n",
       "    </tr>\n",
       "    <tr>\n",
       "      <th>4</th>\n",
       "      <td>2019</td>\n",
       "      <td>How is Your Mood When Writing Sexist tweets? D...</td>\n",
       "      <td>Online social platforms have been the battle...</td>\n",
       "      <td>online social platform battlefield user differ...</td>\n",
       "    </tr>\n",
       "  </tbody>\n",
       "</table>\n",
       "</div>"
      ],
      "text/plain": [
       "   year                                              title  \\\n",
       "0  2021  Let-Mi: An Arabic Levantine Twitter Dataset fo...   \n",
       "1  2022  SexWEs: Domain-Aware Word Embeddings via Cross...   \n",
       "2  2017  Wearing Many (Social) Hats: How Different are ...   \n",
       "3  2019  When a Tweet is Actually Sexist. A more Compre...   \n",
       "4  2019  How is Your Mood When Writing Sexist tweets? D...   \n",
       "\n",
       "                                             summary  \\\n",
       "0    Online misogyny has become an increasing wor...   \n",
       "1    The goal of sexism detection is to mitigate ...   \n",
       "2    This paper investigates when users create pr...   \n",
       "3    Sexism is very common in social media and ma...   \n",
       "4    Online social platforms have been the battle...   \n",
       "\n",
       "                                    processedsummary  \n",
       "0  online misogyny become increasing worry arab w...  \n",
       "1  goal sexism detection mitigate negative online...  \n",
       "2  paper investigates user create profile differe...  \n",
       "3  sexism common social medium make boundary free...  \n",
       "4  online social platform battlefield user differ...  "
      ]
     },
     "execution_count": 16,
     "metadata": {},
     "output_type": "execute_result"
    }
   ],
   "source": [
    "wnl = WordNetLemmatizer()\n",
    "def lemmatize_words(text):\n",
    "    return \" \".join([wnl.lemmatize(word) for word in text.split()])\n",
    "\n",
    "data[\"processedsummary\"] = data[\"processedsummary\"].apply(lambda text: lemmatize_words(text))\n",
    "data.head()"
   ]
  },
  {
   "attachments": {},
   "cell_type": "markdown",
   "metadata": {},
   "source": [
    "##### Remove punctuations"
   ]
  },
  {
   "cell_type": "code",
   "execution_count": 17,
   "metadata": {},
   "outputs": [
    {
     "name": "stdout",
     "output_type": "stream",
     "text": [
      "CPU times: user 1 µs, sys: 0 ns, total: 1 µs\n",
      "Wall time: 2.15 µs\n"
     ]
    },
    {
     "data": {
      "text/html": [
       "<div>\n",
       "<style scoped>\n",
       "    .dataframe tbody tr th:only-of-type {\n",
       "        vertical-align: middle;\n",
       "    }\n",
       "\n",
       "    .dataframe tbody tr th {\n",
       "        vertical-align: top;\n",
       "    }\n",
       "\n",
       "    .dataframe thead th {\n",
       "        text-align: right;\n",
       "    }\n",
       "</style>\n",
       "<table border=\"1\" class=\"dataframe\">\n",
       "  <thead>\n",
       "    <tr style=\"text-align: right;\">\n",
       "      <th></th>\n",
       "      <th>year</th>\n",
       "      <th>title</th>\n",
       "      <th>summary</th>\n",
       "      <th>processedsummary</th>\n",
       "    </tr>\n",
       "  </thead>\n",
       "  <tbody>\n",
       "    <tr>\n",
       "      <th>0</th>\n",
       "      <td>2021</td>\n",
       "      <td>Let-Mi: An Arabic Levantine Twitter Dataset fo...</td>\n",
       "      <td>Online misogyny has become an increasing wor...</td>\n",
       "      <td>online misogyny become increasing worry arab w...</td>\n",
       "    </tr>\n",
       "    <tr>\n",
       "      <th>1</th>\n",
       "      <td>2022</td>\n",
       "      <td>SexWEs: Domain-Aware Word Embeddings via Cross...</td>\n",
       "      <td>The goal of sexism detection is to mitigate ...</td>\n",
       "      <td>goal sexism detection mitigate negative online...</td>\n",
       "    </tr>\n",
       "    <tr>\n",
       "      <th>2</th>\n",
       "      <td>2017</td>\n",
       "      <td>Wearing Many (Social) Hats: How Different are ...</td>\n",
       "      <td>This paper investigates when users create pr...</td>\n",
       "      <td>paper investigates user create profile differe...</td>\n",
       "    </tr>\n",
       "    <tr>\n",
       "      <th>3</th>\n",
       "      <td>2019</td>\n",
       "      <td>When a Tweet is Actually Sexist. A more Compre...</td>\n",
       "      <td>Sexism is very common in social media and ma...</td>\n",
       "      <td>sexism common social medium make boundary free...</td>\n",
       "    </tr>\n",
       "    <tr>\n",
       "      <th>4</th>\n",
       "      <td>2019</td>\n",
       "      <td>How is Your Mood When Writing Sexist tweets? D...</td>\n",
       "      <td>Online social platforms have been the battle...</td>\n",
       "      <td>online social platform battlefield user differ...</td>\n",
       "    </tr>\n",
       "  </tbody>\n",
       "</table>\n",
       "</div>"
      ],
      "text/plain": [
       "   year                                              title  \\\n",
       "0  2021  Let-Mi: An Arabic Levantine Twitter Dataset fo...   \n",
       "1  2022  SexWEs: Domain-Aware Word Embeddings via Cross...   \n",
       "2  2017  Wearing Many (Social) Hats: How Different are ...   \n",
       "3  2019  When a Tweet is Actually Sexist. A more Compre...   \n",
       "4  2019  How is Your Mood When Writing Sexist tweets? D...   \n",
       "\n",
       "                                             summary  \\\n",
       "0    Online misogyny has become an increasing wor...   \n",
       "1    The goal of sexism detection is to mitigate ...   \n",
       "2    This paper investigates when users create pr...   \n",
       "3    Sexism is very common in social media and ma...   \n",
       "4    Online social platforms have been the battle...   \n",
       "\n",
       "                                    processedsummary  \n",
       "0  online misogyny become increasing worry arab w...  \n",
       "1  goal sexism detection mitigate negative online...  \n",
       "2  paper investigates user create profile differe...  \n",
       "3  sexism common social medium make boundary free...  \n",
       "4  online social platform battlefield user differ...  "
      ]
     },
     "execution_count": 17,
     "metadata": {},
     "output_type": "execute_result"
    }
   ],
   "source": [
    "%time\n",
    "PUNCT_REMOVE = string.punctuation\n",
    "def remove_punctuation(text):\n",
    "    return text.translate(str.maketrans('', '', PUNCT_REMOVE))\n",
    "\n",
    "data[\"processedsummary\"] = data[\"processedsummary\"].apply(lambda text: remove_punctuation(text))\n",
    "data.head()\n"
   ]
  },
  {
   "attachments": {},
   "cell_type": "markdown",
   "metadata": {},
   "source": [
    "##### Tokenization"
   ]
  },
  {
   "cell_type": "code",
   "execution_count": 18,
   "metadata": {},
   "outputs": [
    {
     "data": {
      "text/html": [
       "<div>\n",
       "<style scoped>\n",
       "    .dataframe tbody tr th:only-of-type {\n",
       "        vertical-align: middle;\n",
       "    }\n",
       "\n",
       "    .dataframe tbody tr th {\n",
       "        vertical-align: top;\n",
       "    }\n",
       "\n",
       "    .dataframe thead th {\n",
       "        text-align: right;\n",
       "    }\n",
       "</style>\n",
       "<table border=\"1\" class=\"dataframe\">\n",
       "  <thead>\n",
       "    <tr style=\"text-align: right;\">\n",
       "      <th></th>\n",
       "      <th>year</th>\n",
       "      <th>title</th>\n",
       "      <th>summary</th>\n",
       "      <th>processedsummary</th>\n",
       "      <th>tokens</th>\n",
       "      <th>ner</th>\n",
       "    </tr>\n",
       "  </thead>\n",
       "  <tbody>\n",
       "    <tr>\n",
       "      <th>396</th>\n",
       "      <td>2013</td>\n",
       "      <td>What are Chinese Talking about in Hot Weibos?</td>\n",
       "      <td>SinaWeibo is a Twitter-like social network s...</td>\n",
       "      <td>sinaweibo twitter like social network service ...</td>\n",
       "      <td>[sinaweibo, twitter, like, social, network, se...</td>\n",
       "      <td>[(sinaweibo, JJ), (twitter, NN), (like, IN), (...</td>\n",
       "    </tr>\n",
       "    <tr>\n",
       "      <th>397</th>\n",
       "      <td>2016</td>\n",
       "      <td>Surveying Turkish high school and university s...</td>\n",
       "      <td>Student attitudes and approaches to problem ...</td>\n",
       "      <td>student attitude approach problem solving impa...</td>\n",
       "      <td>[student, attitude, approach, problem, solving...</td>\n",
       "      <td>[(student, NN), (attitude, NN), (approach, NN)...</td>\n",
       "    </tr>\n",
       "    <tr>\n",
       "      <th>398</th>\n",
       "      <td>2020</td>\n",
       "      <td>Large image datasets: A pyrrhic win for comput...</td>\n",
       "      <td>In this paper we investigate problematic pra...</td>\n",
       "      <td>paper investigate problematic practice consequ...</td>\n",
       "      <td>[paper, investigate, problematic, practice, co...</td>\n",
       "      <td>[(paper, NN), (investigate, NN), (problematic,...</td>\n",
       "    </tr>\n",
       "  </tbody>\n",
       "</table>\n",
       "</div>"
      ],
      "text/plain": [
       "     year                                              title  \\\n",
       "396  2013      What are Chinese Talking about in Hot Weibos?   \n",
       "397  2016  Surveying Turkish high school and university s...   \n",
       "398  2020  Large image datasets: A pyrrhic win for comput...   \n",
       "\n",
       "                                               summary  \\\n",
       "396    SinaWeibo is a Twitter-like social network s...   \n",
       "397    Student attitudes and approaches to problem ...   \n",
       "398    In this paper we investigate problematic pra...   \n",
       "\n",
       "                                      processedsummary  \\\n",
       "396  sinaweibo twitter like social network service ...   \n",
       "397  student attitude approach problem solving impa...   \n",
       "398  paper investigate problematic practice consequ...   \n",
       "\n",
       "                                                tokens  \\\n",
       "396  [sinaweibo, twitter, like, social, network, se...   \n",
       "397  [student, attitude, approach, problem, solving...   \n",
       "398  [paper, investigate, problematic, practice, co...   \n",
       "\n",
       "                                                   ner  \n",
       "396  [(sinaweibo, JJ), (twitter, NN), (like, IN), (...  \n",
       "397  [(student, NN), (attitude, NN), (approach, NN)...  \n",
       "398  [(paper, NN), (investigate, NN), (problematic,...  "
      ]
     },
     "execution_count": 18,
     "metadata": {},
     "output_type": "execute_result"
    }
   ],
   "source": [
    "# tokenizer to 'processedContent' column through all rows and store in 'tokens' column.\n",
    "data['tokens'] = data['processedsummary'].apply(word_tokenize) \n",
    "\n",
    "#  POS tagging of the sentence and ne_chunk() to recognize each named entity in sentences\n",
    "data['ner'] = data['processedsummary']\\\n",
    "    .apply(lambda x: nltk.ne_chunk(nltk.pos_tag(nltk.word_tokenize(x)),binary=True))\n",
    "data.tail(3)"
   ]
  },
  {
   "attachments": {},
   "cell_type": "markdown",
   "metadata": {},
   "source": [
    "### Term Document Frequency"
   ]
  },
  {
   "cell_type": "code",
   "execution_count": 19,
   "metadata": {},
   "outputs": [
    {
     "name": "stdout",
     "output_type": "stream",
     "text": [
      "CPU times: user 1e+03 ns, sys: 3 µs, total: 4 µs\n",
      "Wall time: 12.9 µs\n"
     ]
    },
    {
     "name": "stderr",
     "output_type": "stream",
     "text": [
      "progress-bar: 100%|██████████| 399/399 [00:00<00:00, 17164.38it/s]\n"
     ]
    }
   ],
   "source": [
    "%time\n",
    "yDf = data[['year', 'title', 'tokens']].copy()\n",
    "\n",
    "bigram = gensim.models.Phrases(yDf['tokens'], min_count=5, threshold=100)\n",
    "bigramModel = gensim.models.phrases.Phraser(bigram)\n",
    "\n",
    "yDf['bigramTokens'] = yDf['tokens'].progress_map(lambda tokens: bigramModel[tokens])\n",
    "\n",
    "# Creating Dictionary\n",
    "id2word = Dictionary(yDf['bigramTokens'])\n",
    "\n",
    "# Creating Corpus\n",
    "texts = yDf['bigramTokens'].tolist()\n",
    "dictionary = Dictionary(texts)\n",
    "\n",
    "# Term Document Frequency\n",
    "corpus = [id2word.doc2bow(text) for text in texts]"
   ]
  },
  {
   "attachments": {},
   "cell_type": "markdown",
   "metadata": {},
   "source": [
    "### Defining LDA model"
   ]
  },
  {
   "cell_type": "code",
   "execution_count": 20,
   "metadata": {},
   "outputs": [
    {
     "name": "stdout",
     "output_type": "stream",
     "text": [
      "CPU times: user 2 µs, sys: 3 µs, total: 5 µs\n",
      "Wall time: 12.2 µs\n"
     ]
    },
    {
     "name": "stderr",
     "output_type": "stream",
     "text": [
      "                                             \r"
     ]
    },
    {
     "data": {
      "image/png": "[encoded data removed]",
      "text/plain": [
       "<Figure size 1000x500 with 1 Axes>"
      ]
     },
     "metadata": {},
     "output_type": "display_data"
    }
   ],
   "source": [
    "\n",
    "%time\n",
    "\n",
    "# Define LDA model in function that takes the number of topics as a parameter.\n",
    "def LDAmodel(num_topics, passes=1):\n",
    "    return gensim.models.ldamodel.LdaModel(\n",
    "        corpus=tqdm(corpus, leave=False),\n",
    "        id2word=id2word,\n",
    "        alpha='auto', eta='auto',\n",
    "        num_topics=num_topics, # the number of topics is equal to num_topics\n",
    "        random_state=2021,\n",
    "        eval_every=1,\n",
    "        chunksize=2000,\n",
    "        passes=passes,\n",
    "        per_word_topics=True\n",
    "        )\n",
    "    \n",
    "def coherence_computation(model):\n",
    "    coherence = CoherenceModel(\n",
    "        model = model, \n",
    "        texts = texts,\n",
    "        dictionary = id2word, coherence='c_v'\n",
    "        )\n",
    "    return coherence.get_coherence()\n",
    "\n",
    "def display_topics(model):\n",
    "    topics = model.show_topics(num_topics=model.num_topics, formatted=False, num_words=10)\n",
    "    topics = map(lambda c: map(lambda cc: cc[0], c[1]), topics)\n",
    "    DATA = pd.DataFrame(topics)\n",
    "    DATA.index = ['topic_{0}'.format(i) for i in range(model.num_topics)]\n",
    "    DATA.columns = ['keyword_{0}'.format(i) for i in range(1, 10+1)]\n",
    "    return DATA\n",
    "\n",
    "def explore_models(DATA, range = range(5, 25)):\n",
    "    id2word = Dictionary(DATA['bigramTokens'])\n",
    "    texts = DATA['bigramTokens'].tolist()\n",
    "    corpus = [id2word.doc2bow(text) for text in texts]\n",
    "\n",
    "    coherence_values = []\n",
    "    model_list = []\n",
    "    \n",
    "    for num_topics in tqdm(range, leave=False):\n",
    "        lda = LDAmodel(num_topics, passes=5)\n",
    "        model_list.append(lda)\n",
    "        coherence = coherence_computation(lda)\n",
    "        coherence_values.append(coherence)\n",
    "      \n",
    "    fig = plt.figure(figsize=(10,5))\n",
    "    plt.title('Optimal number of topics')\n",
    "    plt.xlabel('Number of topics')\n",
    "    plt.ylabel('Coherence Score')\n",
    "    plt.grid(True)\n",
    "    plt.plot(range, coherence_values)\n",
    "    \n",
    "    return coherence_values, model_list\n",
    "\n",
    "coherence_values, model_list = explore_models(yDf, range = range(5, 40, 5))"
   ]
  },
  {
   "attachments": {},
   "cell_type": "markdown",
   "metadata": {},
   "source": [
    "##### Printing the coherence scores"
   ]
  },
  {
   "cell_type": "code",
   "execution_count": 21,
   "metadata": {},
   "outputs": [
    {
     "name": "stdout",
     "output_type": "stream",
     "text": [
      "Num Topics = 5  has Coherence Value of 0.2884\n",
      "Num Topics = 11  has Coherence Value of 0.2868\n",
      "Num Topics = 17  has Coherence Value of 0.2843\n",
      "Num Topics = 23  has Coherence Value of 0.2866\n",
      "Num Topics = 29  has Coherence Value of 0.303\n",
      "Num Topics = 35  has Coherence Value of 0.2774\n"
     ]
    }
   ],
   "source": [
    "# Print the coherence scores\n",
    "limit=40; start=5; step=6;\n",
    "x = range(start, limit, step)\n",
    "\n",
    "for m, cv in zip(x, coherence_values):\n",
    "    print(\"Num Topics =\", m, \" has Coherence Value of\", round(cv, 4))"
   ]
  },
  {
   "cell_type": "code",
   "execution_count": 22,
   "metadata": {},
   "outputs": [
    {
     "name": "stderr",
     "output_type": "stream",
     "text": [
      "                                                   \r"
     ]
    },
    {
     "name": "stdout",
     "output_type": "stream",
     "text": [
      "           keyword_1 keyword_2 keyword_3    keyword_4    keyword_5 keyword_6  \\\n",
      "topic_0        model    social    sexism         task       gender  language   \n",
      "topic_1         user    social    gender         data       medium     model   \n",
      "topic_2       social      name   network       gender      student      user   \n",
      "topic_3       gender      bias     study       online  hate_speech    social   \n",
      "topic_4       social    online    medium       gender         user   network   \n",
      "topic_5         user    gender     model  hate_speech       social      data   \n",
      "topic_6  hate_speech    social    online       medium     approach      user   \n",
      "topic_7        tweet    social  research        group       gender     model   \n",
      "topic_8       gender      data      bias    algorithm    different     model   \n",
      "topic_9       gender     image    social       medium        covid     paper   \n",
      "\n",
      "           keyword_7 keyword_8 keyword_9   keyword_10  \n",
      "topic_0       medium      data   dataset        tweet  \n",
      "topic_1  information   twitter      task  demographic  \n",
      "topic_2      twitter     group    medium    different  \n",
      "topic_3        paper  language     using       method  \n",
      "topic_4     platform   content     model  demographic  \n",
      "topic_5       medium    online  analysis      content  \n",
      "topic_6        study  analysis      hate      dialect  \n",
      "topic_7       medium    public      data    different  \n",
      "topic_8        study      user     using          age  \n",
      "topic_9         user     using      data         also  \n"
     ]
    }
   ],
   "source": [
    "pd.options.display.max_columns = 20\n",
    "bestModel = LDAmodel(num_topics=10, passes=5)\n",
    "print(display_topics(model = bestModel))"
   ]
  },
  {
   "cell_type": "code",
   "execution_count": null,
   "metadata": {},
   "outputs": [],
   "source": []
  }
 ],
 "metadata": {
  "kernelspec": {
   "display_name": "Python 3",
   "language": "python",
   "name": "python3"
  },
  "language_info": {
   "codemirror_mode": {
    "name": "ipython",
    "version": 3
   },
   "file_extension": ".py",
   "mimetype": "text/x-python",
   "name": "python",
   "nbconvert_exporter": "python",
   "pygments_lexer": "ipython3",
   "version": "3.9.6"
  },
  "orig_nbformat": 4,
  "vscode": {
   "interpreter": {
    "hash": "31f2aee4e71d21fbe5cf8b01ff0e069b9275f58929596ceb00d14d90e3e16cd6"
   }
  }
 },
 "nbformat": 4,
 "nbformat_minor": 2
}
