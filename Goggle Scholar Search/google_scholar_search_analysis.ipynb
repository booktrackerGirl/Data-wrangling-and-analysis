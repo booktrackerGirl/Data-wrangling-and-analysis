{
 "cells": [
  {
   "cell_type": "code",
   "execution_count": 19,
   "metadata": {},
   "outputs": [
    {
     "name": "stderr",
     "output_type": "stream",
     "text": [
      "[nltk_data] Downloading package omw-1.4 to\n",
      "[nltk_data]     /Users/aditidutta/nltk_data...\n",
      "[nltk_data]   Package omw-1.4 is already up-to-date!\n",
      "[nltk_data] Downloading package maxent_ne_chunker to\n",
      "[nltk_data]     /Users/aditidutta/nltk_data...\n",
      "[nltk_data]   Package maxent_ne_chunker is already up-to-date!\n",
      "[nltk_data] Downloading package words to\n",
      "[nltk_data]     /Users/aditidutta/nltk_data...\n",
      "[nltk_data]   Package words is already up-to-date!\n"
     ]
    }
   ],
   "source": [
    "# Importing the libraries\n",
    "\n",
    "import pandas as pd\n",
    "import matplotlib.pyplot as plt\n",
    "import numpy as np\n",
    "import pandas as pd\n",
    "import seaborn as sns\n",
    "#% matplotlib inline\n",
    "from datetime import datetime\n",
    "\n",
    "import plotly\n",
    "import plotly.graph_objs as go\n",
    "import plotly.offline as pyo\n",
    "import plotly.figure_factory as ff\n",
    "import plotly.express as px\n",
    "from plotly import tools\n",
    "from plotly.subplots import make_subplots\n",
    "from plotly.offline import iplot\n",
    "\n",
    "from textblob import TextBlob, Word, Blobber\n",
    "from textblob.classifiers import NaiveBayesClassifier\n",
    "from textblob.taggers import NLTKTagger\n",
    "\n",
    "import nltk\n",
    "from nltk.corpus import stopwords\n",
    "from nltk.stem.porter import PorterStemmer \n",
    "from nltk.stem import WordNetLemmatizer\n",
    "nltk.download('omw-1.4')\n",
    "from nltk.tokenize import word_tokenize\n",
    "nltk.download('maxent_ne_chunker')\n",
    "nltk.download('words')\n",
    "\n",
    "import string\n",
    "import gensim\n",
    "import collections\n",
    "from gensim.corpora import Dictionary\n",
    "\n",
    "from tqdm import tqdm\n",
    "tqdm.pandas(desc=\"progress-bar\")\n",
    "\n",
    "from gensim.models.ldamodel import LdaModel\n",
    "from gensim.models.coherencemodel import CoherenceModel\n",
    "\n",
    "from autocorrect import Speller\n",
    "\n",
    "from bs4 import BeautifulSoup\n",
    "import requests\n",
    "import csv\n",
    "import time\n",
    "\n",
    "import re\n",
    "import string\n",
    "import gc\n",
    "import warnings\n",
    "warnings.filterwarnings('ignore')"
   ]
  },
  {
   "cell_type": "code",
   "execution_count": 20,
   "metadata": {},
   "outputs": [
    {
     "data": {
      "text/html": [
       "<div>\n",
       "<style scoped>\n",
       "    .dataframe tbody tr th:only-of-type {\n",
       "        vertical-align: middle;\n",
       "    }\n",
       "\n",
       "    .dataframe tbody tr th {\n",
       "        vertical-align: top;\n",
       "    }\n",
       "\n",
       "    .dataframe thead th {\n",
       "        text-align: right;\n",
       "    }\n",
       "</style>\n",
       "<table border=\"1\" class=\"dataframe\">\n",
       "  <thead>\n",
       "    <tr style=\"text-align: right;\">\n",
       "      <th></th>\n",
       "      <th>Cites</th>\n",
       "      <th>Authors</th>\n",
       "      <th>Title</th>\n",
       "      <th>Year</th>\n",
       "      <th>Source</th>\n",
       "      <th>Publisher</th>\n",
       "      <th>ArticleURL</th>\n",
       "      <th>CitesURL</th>\n",
       "      <th>GSRank</th>\n",
       "      <th>QueryDate</th>\n",
       "      <th>...</th>\n",
       "      <th>StartPage</th>\n",
       "      <th>EndPage</th>\n",
       "      <th>ECC</th>\n",
       "      <th>CitesPerYear</th>\n",
       "      <th>CitesPerAuthor</th>\n",
       "      <th>AuthorCount</th>\n",
       "      <th>Age</th>\n",
       "      <th>Abstract</th>\n",
       "      <th>FullTextURL</th>\n",
       "      <th>RelatedURL</th>\n",
       "    </tr>\n",
       "  </thead>\n",
       "  <tbody>\n",
       "    <tr>\n",
       "      <th>0</th>\n",
       "      <td>1</td>\n",
       "      <td>M Turno</td>\n",
       "      <td>'Dai che mi vesto da puttana!': Cultural Repre...</td>\n",
       "      <td>2012.0</td>\n",
       "      <td>NaN</td>\n",
       "      <td>Citeseer</td>\n",
       "      <td>https://citeseerx.ist.psu.edu/viewdoc/download...</td>\n",
       "      <td>https://scholar.google.com/scholar?cites=68233...</td>\n",
       "      <td>93</td>\n",
       "      <td>2022-07-17 10:02:25</td>\n",
       "      <td>...</td>\n",
       "      <td>NaN</td>\n",
       "      <td>NaN</td>\n",
       "      <td>1</td>\n",
       "      <td>0.1</td>\n",
       "      <td>1</td>\n",
       "      <td>1</td>\n",
       "      <td>10.0</td>\n",
       "      <td>Nadia frantically tries to escape, chased by a...</td>\n",
       "      <td>https://citeseerx.ist.psu.edu/viewdoc/download...</td>\n",
       "      <td>https://scholar.google.com/scholar?q=related:x...</td>\n",
       "    </tr>\n",
       "    <tr>\n",
       "      <th>1</th>\n",
       "      <td>1</td>\n",
       "      <td>Z Vaisman</td>\n",
       "      <td>A Cognitive-Behavioral Therapy Model for the T...</td>\n",
       "      <td>2012.0</td>\n",
       "      <td>NaN</td>\n",
       "      <td>search.proquest.com</td>\n",
       "      <td>https://search.proquest.com/openview/e9d6eb306...</td>\n",
       "      <td>https://scholar.google.com/scholar?cites=14365...</td>\n",
       "      <td>27</td>\n",
       "      <td>2022-07-17 10:02:25</td>\n",
       "      <td>...</td>\n",
       "      <td>NaN</td>\n",
       "      <td>NaN</td>\n",
       "      <td>1</td>\n",
       "      <td>0.1</td>\n",
       "      <td>1</td>\n",
       "      <td>1</td>\n",
       "      <td>10.0</td>\n",
       "      <td>… to impose such a classification in our next ...</td>\n",
       "      <td>NaN</td>\n",
       "      <td>https://scholar.google.com/scholar?q=related:P...</td>\n",
       "    </tr>\n",
       "    <tr>\n",
       "      <th>2</th>\n",
       "      <td>0</td>\n",
       "      <td>J Lammi</td>\n",
       "      <td>A genre analysis of Iain M. Banks' The Player ...</td>\n",
       "      <td>2012.0</td>\n",
       "      <td>NaN</td>\n",
       "      <td>erepo.uef.fi</td>\n",
       "      <td>https://erepo.uef.fi/bitstream/handle/12345678...</td>\n",
       "      <td>NaN</td>\n",
       "      <td>82</td>\n",
       "      <td>2022-07-17 10:02:25</td>\n",
       "      <td>...</td>\n",
       "      <td>NaN</td>\n",
       "      <td>NaN</td>\n",
       "      <td>0</td>\n",
       "      <td>0.0</td>\n",
       "      <td>0</td>\n",
       "      <td>1</td>\n",
       "      <td>10.0</td>\n",
       "      <td>… Sentient artificial intelligence has also be...</td>\n",
       "      <td>https://erepo.uef.fi/bitstream/handle/12345678...</td>\n",
       "      <td>https://scholar.google.com/scholar?q=related:n...</td>\n",
       "    </tr>\n",
       "    <tr>\n",
       "      <th>3</th>\n",
       "      <td>31</td>\n",
       "      <td>MR Davidson</td>\n",
       "      <td>A nurse's guide to women's mental health</td>\n",
       "      <td>2012.0</td>\n",
       "      <td>NaN</td>\n",
       "      <td>books.google.com</td>\n",
       "      <td>https://books.google.com/books?hl=en&amp;lr=&amp;id=I3...</td>\n",
       "      <td>https://scholar.google.com/scholar?cites=15456...</td>\n",
       "      <td>37</td>\n",
       "      <td>2022-07-17 10:02:25</td>\n",
       "      <td>...</td>\n",
       "      <td>NaN</td>\n",
       "      <td>NaN</td>\n",
       "      <td>31</td>\n",
       "      <td>3.1</td>\n",
       "      <td>31</td>\n",
       "      <td>1</td>\n",
       "      <td>10.0</td>\n",
       "      <td>Named a 2013 Doody's Core Title! 2012 Third Pl...</td>\n",
       "      <td>NaN</td>\n",
       "      <td>https://scholar.google.com/scholar?q=related:8...</td>\n",
       "    </tr>\n",
       "    <tr>\n",
       "      <th>4</th>\n",
       "      <td>3</td>\n",
       "      <td>A Wright</td>\n",
       "      <td>A review of best practices in child welfare</td>\n",
       "      <td>2012.0</td>\n",
       "      <td>NaN</td>\n",
       "      <td>books.google.com</td>\n",
       "      <td>https://books.google.com/books?hl=en&amp;lr=&amp;id=hg...</td>\n",
       "      <td>https://scholar.google.com/scholar?cites=13797...</td>\n",
       "      <td>48</td>\n",
       "      <td>2022-07-17 10:02:25</td>\n",
       "      <td>...</td>\n",
       "      <td>NaN</td>\n",
       "      <td>NaN</td>\n",
       "      <td>3</td>\n",
       "      <td>0.3</td>\n",
       "      <td>3</td>\n",
       "      <td>1</td>\n",
       "      <td>10.0</td>\n",
       "      <td>… the child welfare field, as BP provide the i...</td>\n",
       "      <td>http://phoenixsinclairinquiry.ca/exhibits/exhi...</td>\n",
       "      <td>https://scholar.google.com/scholar?q=related:h...</td>\n",
       "    </tr>\n",
       "  </tbody>\n",
       "</table>\n",
       "<p>5 rows × 26 columns</p>\n",
       "</div>"
      ],
      "text/plain": [
       "   Cites      Authors                                              Title  \\\n",
       "0      1      M Turno  'Dai che mi vesto da puttana!': Cultural Repre...   \n",
       "1      1    Z Vaisman  A Cognitive-Behavioral Therapy Model for the T...   \n",
       "2      0      J Lammi  A genre analysis of Iain M. Banks' The Player ...   \n",
       "3     31  MR Davidson           A nurse's guide to women's mental health   \n",
       "4      3     A Wright        A review of best practices in child welfare   \n",
       "\n",
       "     Year Source            Publisher  \\\n",
       "0  2012.0    NaN             Citeseer   \n",
       "1  2012.0    NaN  search.proquest.com   \n",
       "2  2012.0    NaN         erepo.uef.fi   \n",
       "3  2012.0    NaN     books.google.com   \n",
       "4  2012.0    NaN     books.google.com   \n",
       "\n",
       "                                          ArticleURL  \\\n",
       "0  https://citeseerx.ist.psu.edu/viewdoc/download...   \n",
       "1  https://search.proquest.com/openview/e9d6eb306...   \n",
       "2  https://erepo.uef.fi/bitstream/handle/12345678...   \n",
       "3  https://books.google.com/books?hl=en&lr=&id=I3...   \n",
       "4  https://books.google.com/books?hl=en&lr=&id=hg...   \n",
       "\n",
       "                                            CitesURL  GSRank  \\\n",
       "0  https://scholar.google.com/scholar?cites=68233...      93   \n",
       "1  https://scholar.google.com/scholar?cites=14365...      27   \n",
       "2                                                NaN      82   \n",
       "3  https://scholar.google.com/scholar?cites=15456...      37   \n",
       "4  https://scholar.google.com/scholar?cites=13797...      48   \n",
       "\n",
       "             QueryDate  ... StartPage EndPage  ECC  CitesPerYear  \\\n",
       "0  2022-07-17 10:02:25  ...       NaN     NaN    1           0.1   \n",
       "1  2022-07-17 10:02:25  ...       NaN     NaN    1           0.1   \n",
       "2  2022-07-17 10:02:25  ...       NaN     NaN    0           0.0   \n",
       "3  2022-07-17 10:02:25  ...       NaN     NaN   31           3.1   \n",
       "4  2022-07-17 10:02:25  ...       NaN     NaN    3           0.3   \n",
       "\n",
       "   CitesPerAuthor  AuthorCount   Age  \\\n",
       "0               1            1  10.0   \n",
       "1               1            1  10.0   \n",
       "2               0            1  10.0   \n",
       "3              31            1  10.0   \n",
       "4               3            1  10.0   \n",
       "\n",
       "                                            Abstract  \\\n",
       "0  Nadia frantically tries to escape, chased by a...   \n",
       "1  … to impose such a classification in our next ...   \n",
       "2  … Sentient artificial intelligence has also be...   \n",
       "3  Named a 2013 Doody's Core Title! 2012 Third Pl...   \n",
       "4  … the child welfare field, as BP provide the i...   \n",
       "\n",
       "                                         FullTextURL  \\\n",
       "0  https://citeseerx.ist.psu.edu/viewdoc/download...   \n",
       "1                                                NaN   \n",
       "2  https://erepo.uef.fi/bitstream/handle/12345678...   \n",
       "3                                                NaN   \n",
       "4  http://phoenixsinclairinquiry.ca/exhibits/exhi...   \n",
       "\n",
       "                                          RelatedURL  \n",
       "0  https://scholar.google.com/scholar?q=related:x...  \n",
       "1  https://scholar.google.com/scholar?q=related:P...  \n",
       "2  https://scholar.google.com/scholar?q=related:n...  \n",
       "3  https://scholar.google.com/scholar?q=related:8...  \n",
       "4  https://scholar.google.com/scholar?q=related:h...  \n",
       "\n",
       "[5 rows x 26 columns]"
      ]
     },
     "execution_count": 20,
     "metadata": {},
     "output_type": "execute_result"
    }
   ],
   "source": [
    "# gathering up all the data from the files received in via Google Scholar search \n",
    "\n",
    "df1 = pd.read_csv('data/2012.csv')\n",
    "df2 = pd.read_csv('data/2013.csv')\n",
    "df3 = pd.read_csv('data/2014.csv')\n",
    "df4 = pd.read_csv('data/2015.csv')\n",
    "df5 = pd.read_csv('data/2016.csv')\n",
    "df6 = pd.read_csv('data/2017.csv')\n",
    "df7 = pd.read_csv('data/2018.csv')\n",
    "df8 = pd.read_csv('data/2019.csv')\n",
    "df9 = pd.read_csv('data/2020.csv')\n",
    "df10 = pd.read_csv('data/2021.csv')\n",
    "df11 = pd.read_csv('data/2022.csv')\n",
    "\n",
    "\n",
    "df = pd.concat([df1, df2, df3, df4, df5, df6, df7, df8, df9, df10, df11], ignore_index=True)\n",
    "df.head()"
   ]
  },
  {
   "cell_type": "code",
   "execution_count": 21,
   "metadata": {},
   "outputs": [
    {
     "data": {
      "text/plain": [
       "Index(['Cites', 'Authors', 'Title', 'Year', 'Source', 'Publisher',\n",
       "       'ArticleURL', 'CitesURL', 'GSRank', 'QueryDate', 'Type', 'DOI', 'ISSN',\n",
       "       'CitationURL', 'Volume', 'Issue', 'StartPage', 'EndPage', 'ECC',\n",
       "       'CitesPerYear', 'CitesPerAuthor', 'AuthorCount', 'Age', 'Abstract',\n",
       "       'FullTextURL', 'RelatedURL'],\n",
       "      dtype='object')"
      ]
     },
     "execution_count": 21,
     "metadata": {},
     "output_type": "execute_result"
    }
   ],
   "source": [
    "# View the columns\n",
    "df.columns"
   ]
  },
  {
   "cell_type": "code",
   "execution_count": 22,
   "metadata": {},
   "outputs": [
    {
     "data": {
      "text/plain": [
       "ArticleURL    https://link.springer.com/article/10.1007/s105...\n",
       "Name: 10, dtype: object"
      ]
     },
     "execution_count": 22,
     "metadata": {},
     "output_type": "execute_result"
    }
   ],
   "source": [
    "df[['ArticleURL']].iloc[10]  #not in full-text #difficult to scrape web data"
   ]
  },
  {
   "cell_type": "code",
   "execution_count": 23,
   "metadata": {},
   "outputs": [
    {
     "data": {
      "text/plain": [
       "arXiv preprint arXiv …                                   85\n",
       "api.taylorfrancis.com                                    34\n",
       "researchgate.net                                         27\n",
       "Journal of …                                             26\n",
       "Proceedings of the …                                     24\n",
       "                                                         ..\n",
       "CENTRAL EUROPEAN POLITICAL SCIENCE                        1\n",
       "The Kaleidoscope of Gender: Prisms, Patterns, and …       1\n",
       "Busted! The Truth about the 50 Most Common Internet …     1\n",
       "Psychology, Crime & Law                                   1\n",
       "CHI Conference on Human Factors in …                      1\n",
       "Name: Source, Length: 1581, dtype: int64"
      ]
     },
     "execution_count": 23,
     "metadata": {},
     "output_type": "execute_result"
    }
   ],
   "source": [
    "df['Source'].value_counts()\n",
    "\n",
    "# shows a lot of preprints, and it occupies the largest share of the lot"
   ]
  },
  {
   "cell_type": "code",
   "execution_count": 24,
   "metadata": {},
   "outputs": [
    {
     "data": {
      "text/plain": [
       "3892"
      ]
     },
     "execution_count": 24,
     "metadata": {},
     "output_type": "execute_result"
    }
   ],
   "source": [
    "df['Source'].isna().count() \n",
    "# The high number of NA could be because of a large number of preprints"
   ]
  },
  {
   "attachments": {},
   "cell_type": "markdown",
   "metadata": {},
   "source": [
    "### Years"
   ]
  },
  {
   "cell_type": "code",
   "execution_count": 25,
   "metadata": {},
   "outputs": [],
   "source": [
    "df['Year'] = pd.to_datetime(df['Year'], format='%Y').dt.strftime('%Y')\n",
    "df = df[~(df['Year'] < '2012')] # Seems like there were a few examples which dated before 2012"
   ]
  },
  {
   "cell_type": "code",
   "execution_count": 26,
   "metadata": {},
   "outputs": [
    {
     "data": {
      "text/html": [
       "<div>\n",
       "<style scoped>\n",
       "    .dataframe tbody tr th:only-of-type {\n",
       "        vertical-align: middle;\n",
       "    }\n",
       "\n",
       "    .dataframe tbody tr th {\n",
       "        vertical-align: top;\n",
       "    }\n",
       "\n",
       "    .dataframe thead th {\n",
       "        text-align: right;\n",
       "    }\n",
       "</style>\n",
       "<table border=\"1\" class=\"dataframe\">\n",
       "  <thead>\n",
       "    <tr style=\"text-align: right;\">\n",
       "      <th></th>\n",
       "      <th>index</th>\n",
       "      <th>total</th>\n",
       "    </tr>\n",
       "  </thead>\n",
       "  <tbody>\n",
       "    <tr>\n",
       "      <th>2</th>\n",
       "      <td>2022</td>\n",
       "      <td>528</td>\n",
       "    </tr>\n",
       "    <tr>\n",
       "      <th>0</th>\n",
       "      <td>2021</td>\n",
       "      <td>883</td>\n",
       "    </tr>\n",
       "    <tr>\n",
       "      <th>1</th>\n",
       "      <td>2020</td>\n",
       "      <td>553</td>\n",
       "    </tr>\n",
       "    <tr>\n",
       "      <th>3</th>\n",
       "      <td>2019</td>\n",
       "      <td>462</td>\n",
       "    </tr>\n",
       "    <tr>\n",
       "      <th>4</th>\n",
       "      <td>2018</td>\n",
       "      <td>334</td>\n",
       "    </tr>\n",
       "    <tr>\n",
       "      <th>5</th>\n",
       "      <td>2017</td>\n",
       "      <td>237</td>\n",
       "    </tr>\n",
       "    <tr>\n",
       "      <th>6</th>\n",
       "      <td>2016</td>\n",
       "      <td>175</td>\n",
       "    </tr>\n",
       "    <tr>\n",
       "      <th>8</th>\n",
       "      <td>2015</td>\n",
       "      <td>108</td>\n",
       "    </tr>\n",
       "    <tr>\n",
       "      <th>7</th>\n",
       "      <td>2014</td>\n",
       "      <td>124</td>\n",
       "    </tr>\n",
       "    <tr>\n",
       "      <th>9</th>\n",
       "      <td>2013</td>\n",
       "      <td>107</td>\n",
       "    </tr>\n",
       "    <tr>\n",
       "      <th>10</th>\n",
       "      <td>2012</td>\n",
       "      <td>88</td>\n",
       "    </tr>\n",
       "  </tbody>\n",
       "</table>\n",
       "</div>"
      ],
      "text/plain": [
       "   index  total\n",
       "2   2022    528\n",
       "0   2021    883\n",
       "1   2020    553\n",
       "3   2019    462\n",
       "4   2018    334\n",
       "5   2017    237\n",
       "6   2016    175\n",
       "8   2015    108\n",
       "7   2014    124\n",
       "9   2013    107\n",
       "10  2012     88"
      ]
     },
     "execution_count": 26,
     "metadata": {},
     "output_type": "execute_result"
    }
   ],
   "source": [
    "n_years = df['Year'].value_counts().reset_index(name='total')\n",
    "n_years = n_years.sort_values(by=\"index\", ascending=False)[[\"index\", \"total\"]]\n",
    "n_years"
   ]
  },
  {
   "cell_type": "code",
   "execution_count": 27,
   "metadata": {},
   "outputs": [
    {
     "data": {
      "application/vnd.plotly.v1+json": {
       "config": {
        "plotlyServerURL": "https://plot.ly"
       },
       "data": [
        {
         "marker": {
          "line": {
           "color": "rgb(8,48,107)",
           "width": 1.5
          }
         },
         "name": "Years",
         "showlegend": false,
         "text": [
          528,
          883,
          553,
          462,
          334,
          237,
          175,
          108,
          124,
          107,
          88
         ],
         "textposition": "outside",
         "type": "bar",
         "x": [
          "2022",
          "2021",
          "2020",
          "2019",
          "2018",
          "2017",
          "2016",
          "2015",
          "2014",
          "2013",
          "2012"
         ],
         "xaxis": "x",
         "y": [
          528,
          883,
          553,
          462,
          334,
          237,
          175,
          108,
          124,
          107,
          88
         ],
         "yaxis": "y"
        }
       ],
       "layout": {
        "template": {
         "data": {
          "bar": [
           {
            "error_x": {
             "color": "#2a3f5f"
            },
            "error_y": {
             "color": "#2a3f5f"
            },
            "marker": {
             "line": {
              "color": "#E5ECF6",
              "width": 0.5
             },
             "pattern": {
              "fillmode": "overlay",
              "size": 10,
              "solidity": 0.2
             }
            },
            "type": "bar"
           }
          ],
          "barpolar": [
           {
            "marker": {
             "line": {
              "color": "#E5ECF6",
              "width": 0.5
             },
             "pattern": {
              "fillmode": "overlay",
              "size": 10,
              "solidity": 0.2
             }
            },
            "type": "barpolar"
           }
          ],
          "carpet": [
           {
            "aaxis": {
             "endlinecolor": "#2a3f5f",
             "gridcolor": "white",
             "linecolor": "white",
             "minorgridcolor": "white",
             "startlinecolor": "#2a3f5f"
            },
            "baxis": {
             "endlinecolor": "#2a3f5f",
             "gridcolor": "white",
             "linecolor": "white",
             "minorgridcolor": "white",
             "startlinecolor": "#2a3f5f"
            },
            "type": "carpet"
           }
          ],
          "choropleth": [
           {
            "colorbar": {
             "outlinewidth": 0,
             "ticks": ""
            },
            "type": "choropleth"
           }
          ],
          "contour": [
           {
            "colorbar": {
             "outlinewidth": 0,
             "ticks": ""
            },
            "colorscale": [
             [
              0,
              "#0d0887"
             ],
             [
              0.1111111111111111,
              "#46039f"
             ],
             [
              0.2222222222222222,
              "#7201a8"
             ],
             [
              0.3333333333333333,
              "#9c179e"
             ],
             [
              0.4444444444444444,
              "#bd3786"
             ],
             [
              0.5555555555555556,
              "#d8576b"
             ],
             [
              0.6666666666666666,
              "#ed7953"
             ],
             [
              0.7777777777777778,
              "#fb9f3a"
             ],
             [
              0.8888888888888888,
              "#fdca26"
             ],
             [
              1,
              "#f0f921"
             ]
            ],
            "type": "contour"
           }
          ],
          "contourcarpet": [
           {
            "colorbar": {
             "outlinewidth": 0,
             "ticks": ""
            },
            "type": "contourcarpet"
           }
          ],
          "heatmap": [
           {
            "colorbar": {
             "outlinewidth": 0,
             "ticks": ""
            },
            "colorscale": [
             [
              0,
              "#0d0887"
             ],
             [
              0.1111111111111111,
              "#46039f"
             ],
             [
              0.2222222222222222,
              "#7201a8"
             ],
             [
              0.3333333333333333,
              "#9c179e"
             ],
             [
              0.4444444444444444,
              "#bd3786"
             ],
             [
              0.5555555555555556,
              "#d8576b"
             ],
             [
              0.6666666666666666,
              "#ed7953"
             ],
             [
              0.7777777777777778,
              "#fb9f3a"
             ],
             [
              0.8888888888888888,
              "#fdca26"
             ],
             [
              1,
              "#f0f921"
             ]
            ],
            "type": "heatmap"
           }
          ],
          "heatmapgl": [
           {
            "colorbar": {
             "outlinewidth": 0,
             "ticks": ""
            },
            "colorscale": [
             [
              0,
              "#0d0887"
             ],
             [
              0.1111111111111111,
              "#46039f"
             ],
             [
              0.2222222222222222,
              "#7201a8"
             ],
             [
              0.3333333333333333,
              "#9c179e"
             ],
             [
              0.4444444444444444,
              "#bd3786"
             ],
             [
              0.5555555555555556,
              "#d8576b"
             ],
             [
              0.6666666666666666,
              "#ed7953"
             ],
             [
              0.7777777777777778,
              "#fb9f3a"
             ],
             [
              0.8888888888888888,
              "#fdca26"
             ],
             [
              1,
              "#f0f921"
             ]
            ],
            "type": "heatmapgl"
           }
          ],
          "histogram": [
           {
            "marker": {
             "pattern": {
              "fillmode": "overlay",
              "size": 10,
              "solidity": 0.2
             }
            },
            "type": "histogram"
           }
          ],
          "histogram2d": [
           {
            "colorbar": {
             "outlinewidth": 0,
             "ticks": ""
            },
            "colorscale": [
             [
              0,
              "#0d0887"
             ],
             [
              0.1111111111111111,
              "#46039f"
             ],
             [
              0.2222222222222222,
              "#7201a8"
             ],
             [
              0.3333333333333333,
              "#9c179e"
             ],
             [
              0.4444444444444444,
              "#bd3786"
             ],
             [
              0.5555555555555556,
              "#d8576b"
             ],
             [
              0.6666666666666666,
              "#ed7953"
             ],
             [
              0.7777777777777778,
              "#fb9f3a"
             ],
             [
              0.8888888888888888,
              "#fdca26"
             ],
             [
              1,
              "#f0f921"
             ]
            ],
            "type": "histogram2d"
           }
          ],
          "histogram2dcontour": [
           {
            "colorbar": {
             "outlinewidth": 0,
             "ticks": ""
            },
            "colorscale": [
             [
              0,
              "#0d0887"
             ],
             [
              0.1111111111111111,
              "#46039f"
             ],
             [
              0.2222222222222222,
              "#7201a8"
             ],
             [
              0.3333333333333333,
              "#9c179e"
             ],
             [
              0.4444444444444444,
              "#bd3786"
             ],
             [
              0.5555555555555556,
              "#d8576b"
             ],
             [
              0.6666666666666666,
              "#ed7953"
             ],
             [
              0.7777777777777778,
              "#fb9f3a"
             ],
             [
              0.8888888888888888,
              "#fdca26"
             ],
             [
              1,
              "#f0f921"
             ]
            ],
            "type": "histogram2dcontour"
           }
          ],
          "mesh3d": [
           {
            "colorbar": {
             "outlinewidth": 0,
             "ticks": ""
            },
            "type": "mesh3d"
           }
          ],
          "parcoords": [
           {
            "line": {
             "colorbar": {
              "outlinewidth": 0,
              "ticks": ""
             }
            },
            "type": "parcoords"
           }
          ],
          "pie": [
           {
            "automargin": true,
            "type": "pie"
           }
          ],
          "scatter": [
           {
            "fillpattern": {
             "fillmode": "overlay",
             "size": 10,
             "solidity": 0.2
            },
            "type": "scatter"
           }
          ],
          "scatter3d": [
           {
            "line": {
             "colorbar": {
              "outlinewidth": 0,
              "ticks": ""
             }
            },
            "marker": {
             "colorbar": {
              "outlinewidth": 0,
              "ticks": ""
             }
            },
            "type": "scatter3d"
           }
          ],
          "scattercarpet": [
           {
            "marker": {
             "colorbar": {
              "outlinewidth": 0,
              "ticks": ""
             }
            },
            "type": "scattercarpet"
           }
          ],
          "scattergeo": [
           {
            "marker": {
             "colorbar": {
              "outlinewidth": 0,
              "ticks": ""
             }
            },
            "type": "scattergeo"
           }
          ],
          "scattergl": [
           {
            "marker": {
             "colorbar": {
              "outlinewidth": 0,
              "ticks": ""
             }
            },
            "type": "scattergl"
           }
          ],
          "scattermapbox": [
           {
            "marker": {
             "colorbar": {
              "outlinewidth": 0,
              "ticks": ""
             }
            },
            "type": "scattermapbox"
           }
          ],
          "scatterpolar": [
           {
            "marker": {
             "colorbar": {
              "outlinewidth": 0,
              "ticks": ""
             }
            },
            "type": "scatterpolar"
           }
          ],
          "scatterpolargl": [
           {
            "marker": {
             "colorbar": {
              "outlinewidth": 0,
              "ticks": ""
             }
            },
            "type": "scatterpolargl"
           }
          ],
          "scatterternary": [
           {
            "marker": {
             "colorbar": {
              "outlinewidth": 0,
              "ticks": ""
             }
            },
            "type": "scatterternary"
           }
          ],
          "surface": [
           {
            "colorbar": {
             "outlinewidth": 0,
             "ticks": ""
            },
            "colorscale": [
             [
              0,
              "#0d0887"
             ],
             [
              0.1111111111111111,
              "#46039f"
             ],
             [
              0.2222222222222222,
              "#7201a8"
             ],
             [
              0.3333333333333333,
              "#9c179e"
             ],
             [
              0.4444444444444444,
              "#bd3786"
             ],
             [
              0.5555555555555556,
              "#d8576b"
             ],
             [
              0.6666666666666666,
              "#ed7953"
             ],
             [
              0.7777777777777778,
              "#fb9f3a"
             ],
             [
              0.8888888888888888,
              "#fdca26"
             ],
             [
              1,
              "#f0f921"
             ]
            ],
            "type": "surface"
           }
          ],
          "table": [
           {
            "cells": {
             "fill": {
              "color": "#EBF0F8"
             },
             "line": {
              "color": "white"
             }
            },
            "header": {
             "fill": {
              "color": "#C8D4E3"
             },
             "line": {
              "color": "white"
             }
            },
            "type": "table"
           }
          ]
         },
         "layout": {
          "annotationdefaults": {
           "arrowcolor": "#2a3f5f",
           "arrowhead": 0,
           "arrowwidth": 1
          },
          "autotypenumbers": "strict",
          "coloraxis": {
           "colorbar": {
            "outlinewidth": 0,
            "ticks": ""
           }
          },
          "colorscale": {
           "diverging": [
            [
             0,
             "#8e0152"
            ],
            [
             0.1,
             "#c51b7d"
            ],
            [
             0.2,
             "#de77ae"
            ],
            [
             0.3,
             "#f1b6da"
            ],
            [
             0.4,
             "#fde0ef"
            ],
            [
             0.5,
             "#f7f7f7"
            ],
            [
             0.6,
             "#e6f5d0"
            ],
            [
             0.7,
             "#b8e186"
            ],
            [
             0.8,
             "#7fbc41"
            ],
            [
             0.9,
             "#4d9221"
            ],
            [
             1,
             "#276419"
            ]
           ],
           "sequential": [
            [
             0,
             "#0d0887"
            ],
            [
             0.1111111111111111,
             "#46039f"
            ],
            [
             0.2222222222222222,
             "#7201a8"
            ],
            [
             0.3333333333333333,
             "#9c179e"
            ],
            [
             0.4444444444444444,
             "#bd3786"
            ],
            [
             0.5555555555555556,
             "#d8576b"
            ],
            [
             0.6666666666666666,
             "#ed7953"
            ],
            [
             0.7777777777777778,
             "#fb9f3a"
            ],
            [
             0.8888888888888888,
             "#fdca26"
            ],
            [
             1,
             "#f0f921"
            ]
           ],
           "sequentialminus": [
            [
             0,
             "#0d0887"
            ],
            [
             0.1111111111111111,
             "#46039f"
            ],
            [
             0.2222222222222222,
             "#7201a8"
            ],
            [
             0.3333333333333333,
             "#9c179e"
            ],
            [
             0.4444444444444444,
             "#bd3786"
            ],
            [
             0.5555555555555556,
             "#d8576b"
            ],
            [
             0.6666666666666666,
             "#ed7953"
            ],
            [
             0.7777777777777778,
             "#fb9f3a"
            ],
            [
             0.8888888888888888,
             "#fdca26"
            ],
            [
             1,
             "#f0f921"
            ]
           ]
          },
          "colorway": [
           "#636efa",
           "#EF553B",
           "#00cc96",
           "#ab63fa",
           "#FFA15A",
           "#19d3f3",
           "#FF6692",
           "#B6E880",
           "#FF97FF",
           "#FECB52"
          ],
          "font": {
           "color": "#2a3f5f"
          },
          "geo": {
           "bgcolor": "white",
           "lakecolor": "white",
           "landcolor": "#E5ECF6",
           "showlakes": true,
           "showland": true,
           "subunitcolor": "white"
          },
          "hoverlabel": {
           "align": "left"
          },
          "hovermode": "closest",
          "mapbox": {
           "style": "light"
          },
          "paper_bgcolor": "white",
          "plot_bgcolor": "#E5ECF6",
          "polar": {
           "angularaxis": {
            "gridcolor": "white",
            "linecolor": "white",
            "ticks": ""
           },
           "bgcolor": "#E5ECF6",
           "radialaxis": {
            "gridcolor": "white",
            "linecolor": "white",
            "ticks": ""
           }
          },
          "scene": {
           "xaxis": {
            "backgroundcolor": "#E5ECF6",
            "gridcolor": "white",
            "gridwidth": 2,
            "linecolor": "white",
            "showbackground": true,
            "ticks": "",
            "zerolinecolor": "white"
           },
           "yaxis": {
            "backgroundcolor": "#E5ECF6",
            "gridcolor": "white",
            "gridwidth": 2,
            "linecolor": "white",
            "showbackground": true,
            "ticks": "",
            "zerolinecolor": "white"
           },
           "zaxis": {
            "backgroundcolor": "#E5ECF6",
            "gridcolor": "white",
            "gridwidth": 2,
            "linecolor": "white",
            "showbackground": true,
            "ticks": "",
            "zerolinecolor": "white"
           }
          },
          "shapedefaults": {
           "line": {
            "color": "#2a3f5f"
           }
          },
          "ternary": {
           "aaxis": {
            "gridcolor": "white",
            "linecolor": "white",
            "ticks": ""
           },
           "baxis": {
            "gridcolor": "white",
            "linecolor": "white",
            "ticks": ""
           },
           "bgcolor": "#E5ECF6",
           "caxis": {
            "gridcolor": "white",
            "linecolor": "white",
            "ticks": ""
           }
          },
          "title": {
           "x": 0.05
          },
          "xaxis": {
           "automargin": true,
           "gridcolor": "white",
           "linecolor": "white",
           "ticks": "",
           "title": {
            "standoff": 15
           },
           "zerolinecolor": "white",
           "zerolinewidth": 2
          },
          "yaxis": {
           "automargin": true,
           "gridcolor": "white",
           "linecolor": "white",
           "ticks": "",
           "title": {
            "standoff": 15
           },
           "zerolinecolor": "white",
           "zerolinewidth": 2
          }
         }
        },
        "xaxis": {
         "anchor": "y",
         "domain": [
          0,
          1
         ]
        },
        "yaxis": {
         "anchor": "x",
         "domain": [
          0,
          1
         ],
         "range": [
          0,
          1000
         ]
        }
       }
      }
     },
     "metadata": {},
     "output_type": "display_data"
    }
   ],
   "source": [
    "fig = make_subplots(rows=1, cols=1, specs=[[{\"type\": \"bar\"}]])\n",
    "\n",
    "fig.add_trace(go.Bar(\n",
    "     x=n_years['index'], y=n_years['total'], showlegend=False,\n",
    "    text =n_years['total'], \n",
    "     name=\"Years\"), \n",
    "     row=1, col=1)\n",
    "fig.update_traces(textposition='outside', marker_line_color='rgb(8,48,107)',  marker_line_width=1.5)\n",
    "fig.update_yaxes(range=[0,1000])\n",
    "fig.show()"
   ]
  },
  {
   "attachments": {},
   "cell_type": "markdown",
   "metadata": {},
   "source": [
    "### Publishers"
   ]
  },
  {
   "cell_type": "code",
   "execution_count": 28,
   "metadata": {},
   "outputs": [
    {
     "data": {
      "text/plain": [
       "array(['Citeseer', 'search.proquest.com', 'erepo.uef.fi',\n",
       "       'books.google.com', 'liebertpub.com', 'api.taylorfrancis.com',\n",
       "       'Taylor & Francis', 'Springer', 'scipedia.com',\n",
       "       'taylorfrancis.com', 'thescholarship.ecu.edu', 'theses.fr', nan,\n",
       "       'blancharder.wordpress.com', 'dc.etsu.edu', 'journals.sagepub.com',\n",
       "       'academiccommons.columbia.edu', 'lurepository.lakeheadu.ca',\n",
       "       'psycnet.apa.org', 'core.ac.uk', 'researchgate.net',\n",
       "       'jbe-platform.com', 'd.lib.msu.edu', 'summit.sfu.ca',\n",
       "       'scholarworks.boisestate.edu', 'kisseng.kstudy.com',\n",
       "       'studenttheses.uu.nl', 'stars.library.ucf.edu',\n",
       "       'dr.library.brocku.ca', 'utpjournals.press',\n",
       "       'digital.lib.washington.edu', 'deepblue.lib.umich.edu',\n",
       "       'academia.edu', 'existenz.us', 'openaccess.wgtn.ac.nz',\n",
       "       'tel.archives-ouvertes.fr', 'torrossa.com', 'Google Patents',\n",
       "       'dashboard.commons.pacificu.edu',\n",
       "       'research-repository.griffith.edu.au', 'etd.ceu.edu', 'tdx.cat',\n",
       "       'rave.ohiolink.edu', 'scholarworks.moreheadstate.edu',\n",
       "       'repository.londonmet.ac.uk', 'escholarship.mcgill.ca',\n",
       "       'ingentaconnect.com', 'swe.org', 'firstmonday.org',\n",
       "       'unbscholar.lib.unb.ca', 'academic.oup.com', 'scirp.org',\n",
       "       'journals.uchicago.edu', 'btchflcks.com',\n",
       "       'cardinalscholar.bsu.edu', 'bac-lac.gc.ca', 'open.library.ubc.ca',\n",
       "       'ir.canterbury.ac.nz', 'shareok.org',\n",
       "       'elischolar.library.yale.edu', 'powereality.net',\n",
       "       'scholarworks.umass.edu', 'rc.library.uta.edu', 'bia.unibz.it',\n",
       "       'minds.wisconsin.edu', 'iopscience.iop.org', 'eige.europa.eu',\n",
       "       'scholarworks.waldenu.edu', 'scholarworks.gsu.edu', 'elastic.org',\n",
       "       'JSTOR', 'getd.libs.uga.edu', 'etheses.lse.ac.uk',\n",
       "       'englishlit.ege.edu.tr', 'jcdurbant.wordpress.com',\n",
       "       'scholarworks.smith.edu', 'ruor.uottawa.ca',\n",
       "       'researchcommons.waikato.ac.nz', 'igi-global.com', 'emerald.com',\n",
       "       'Elsevier', 'frontiersin.org', 'digitalcommons.odu.edu',\n",
       "       'pubsonline.informs.org', 'curve.carleton.ca', 'eprints.hud.ac.uk',\n",
       "       'repository.up.ac.za', 'hrcak.srce.hr', 'scholarship.miami.edu',\n",
       "       'era.library.ualberta.ca', 'oaktrust.library.tamu.edu',\n",
       "       \"St. Martin's Press\", 'repository.lib.ncsu.edu',\n",
       "       'ncbi.nlm.nih.gov', 'studentexperiencenetwork.org',\n",
       "       'repositories.lib.utexas.edu', 'ir.stonybrook.edu',\n",
       "       'digitalcommons.georgefox.edu', 'research.manchester.ac.uk',\n",
       "       'papyrus.bib.umontreal.ca', 'diva-portal.org', 'ceeol.com',\n",
       "       'sophia.stkate.edu', 'etda.libraries.psu.edu', 'degruyter.com',\n",
       "       'etd.auburn.edu', 'bearworks.missouristate.edu',\n",
       "       'ukzn-dspace.ukzn.ac.za', 'dspace.library.uvic.ca',\n",
       "       'gupea.ub.gu.se', 'scholarworks.montana.edu', 'cambridge.org',\n",
       "       'trace.tennessee.edu', 'scholarworks.csun.edu',\n",
       "       'journal.finfar.org', 'duo.uio.no', 'ikee.lib.auth.gr',\n",
       "       'scholarworks.calstate.edu', 'mountainscholar.org',\n",
       "       'aclanthology.org', 'etd.uwc.ac.za', 'sorelle.friedler.net',\n",
       "       'scholarworks.umt.edu', 'jscholarship.library.jhu.edu',\n",
       "       'vuir.vu.edu.au', 'sfsu-dspace.calstate.edu',\n",
       "       'openresearch.ocadu.ca', 'morganclaypool.com', 'newappsblog.com',\n",
       "       'uwspace.uwaterloo.ca', 'conservancy.umn.edu', 'doi.apa.org',\n",
       "       'HeinOnline', 'repository.uel.ac.uk', 'scholars.wlu.ca',\n",
       "       'cab.unime.it', 'digitalcommons.wku.edu', 'digitalcommons.unf.edu',\n",
       "       'mro.massey.ac.nz', 'dare.uva.nl', 'prostitutionresearch.com',\n",
       "       'commons.erau.edu', 'library.oapen.org', 'ojs.uwindsor.ca',\n",
       "       'd-scholarship.pitt.edu', 'tauja.ujaen.es', 'cdr.lib.unc.edu',\n",
       "       'orca.cardiff.ac.uk', 'erudit.org', 'ojcmt.net',\n",
       "       'escholarship.org', 'courses.media.mit.edu', 'Macmillan',\n",
       "       'essay.utwente.nl', 'ora.ox.ac.uk', 'scarab.bates.edu',\n",
       "       'Wiley Online Library', 'alandu.me',\n",
       "       'digitalcommons.pepperdine.edu', 'dspace.adu.ac.ae',\n",
       "       'ir.lib.uwo.ca', 'bdigital.ufp.pt', 'repository.uantwerpen.be',\n",
       "       'yorkspace.library.yorku.ca', 'WW Norton & Company',\n",
       "       'dspace.mit.edu', 'growthecon.com', 'portal.pacfa.org.au',\n",
       "       'dl.acm.org', 'lucris.lub.lu.se', 'tverezo.info',\n",
       "       'macsphere.mcmaster.ca', 'publications.iadb.org',\n",
       "       'online.ucpress.edu', 'Bloomsbury Publishing USA', 'whdl.org',\n",
       "       'Hachette UK', 'repository.usfca.edu',\n",
       "       'digitalcommons.umassglobal.edu', 'arctichealth.org', 'jyx.jyu.fi',\n",
       "       'ideals.illinois.edu', 'scholarspace.manoa.hawaii.edu',\n",
       "       'harvest.usask.ca', 'ir.vanderbilt.edu', 'iris.luiss.it',\n",
       "       'ssoar.info', 'psych.theclinics.com', 'eprints.bournemouth.ac.uk',\n",
       "       'dspace.calstate.edu', 'recil.ensinolusofona.pt', 'oxfordre.com',\n",
       "       'repo.iainbatusangkar.ac.id', 'apps.dtic.mil',\n",
       "       'repository.upenn.edu', 'direct.mit.edu',\n",
       "       'research.library.mun.ca', 'ceur-ws.org', 'eprints.gla.ac.uk',\n",
       "       'muse.jhu.edu', 'philpapers.org', 'arxiv.org',\n",
       "       'scholar.colorado.edu', 'kuscholarworks.ku.edu', 'cag.edu.tr',\n",
       "       'royalsocietypublishing.org', 'osf.io', 'eprints.lse.ac.uk',\n",
       "       'pure.itu.dk', 'mitpressonpubpub.mitpress.mit.edu',\n",
       "       'thesis.honors.olemiss.edu', 'brill.com',\n",
       "       'scholarlypublications …', 'kb.wisconsin.edu',\n",
       "       'dspace.ceid.org.tr', 'opus.lib.uts.edu.au', 'biblio.ugent.be',\n",
       "       'Random House', 'vb.mruni.eu', 'elgaronline.com',\n",
       "       'kennisopenbaarbestuur.nl', 'ieeexplore.ieee.org',\n",
       "       'repository.cityu.edu', 'mro-ns.massey.ac.nz', 'boa.unimib.it',\n",
       "       'personales.upv.es', 'ir.library.oregonstate.edu',\n",
       "       'papers.ssrn.com', 'ntnuopen.ntnu.no', 'scriptieprijs.be',\n",
       "       'Penguin', 'mdpi.com', 'globaledunet.org', 'eplus.uni-salzburg.at',\n",
       "       'uhu.es', 'scholarworks.uni.edu', 'bora.uib.no',\n",
       "       'zaguan.unizar.es', 'hatemeter.eu', 'upturn.org', 'econ.au.dk',\n",
       "       'Atlantic Monthly Press', 'spectrum.library.concordia.ca',\n",
       "       'uhcl-ir.tdl.org', 'cgspace.cgiar.org', 'scholar.archive.org',\n",
       "       'acrwebsite.org', 'digitalcommons.unomaha.edu',\n",
       "       'journals.openedition.org', 'digitalcommons.library.umaine.edu',\n",
       "       'tech.humanrights.gov.au', 'vc.bridgew.edu',\n",
       "       'Presse Universitaires de la …', 'pdfcookie.com', 'iris.unito.it',\n",
       "       'antiracist.org', 'repositorio.iscte-iul.pt',\n",
       "       'dignifiedhedonist.com', 'csueastbay-dspace.calstate.edu',\n",
       "       'ri.ufs.br', 'pdfs.semanticscholar.org', 'everydayconcerned.net',\n",
       "       'content.iospress.com', 'ddd.uab.cat',\n",
       "       'Melbourne Univ. Publishing', 'mds.marshall.edu',\n",
       "       'towardsdatascience.com', 'eprints.zu.edu.ua',\n",
       "       'scholarsmine.mst.edu', 'psyarxiv.com', 'search.informit.org',\n",
       "       'ma.edu.mk', 'twu-ir.tdl.org', 'eprints.whiterose.ac.uk',\n",
       "       'theseus.fi', 'cairn.info', 'ir.library.louisville.edu',\n",
       "       'lup.lub.lu.se', 'repository.graduateinstitute.ch',\n",
       "       'dspace.library.uu.nl', 'scholarcommons.sc.edu',\n",
       "       'eprints.soas.ac.uk', 'itforchange.net',\n",
       "       'nottingham-repository.worktribe.com', 'eprints.utar.edu.my',\n",
       "       'dergipark.org.tr', 'iro.uiowa.edu', 'egrove.olemiss.edu',\n",
       "       'riunet.upv.es', 'etheses.whiterose.ac.uk', 'uni-mainz.de',\n",
       "       'ELTE BTK Angol-Amerikai Intézet', 'digitalcommons.chapman.edu',\n",
       "       'repub.eur.nl', 'trepo.tuni.fi', 'SciELO Chile',\n",
       "       'repository.iiitd.edu.in', 'pure.hva.nl', 'clok.uclan.ac.uk',\n",
       "       'cl.uzh.ch', 'datasociety.net', 'comum.rcaap.pt',\n",
       "       'upcommons.upc.edu', 'digitalcommons.latech.edu',\n",
       "       'library2.smu.ca', 'scholarship.law.umn.edu', 'eprints.qut.edu.au',\n",
       "       'clarin-pl.eu', 'elib.osu.ru', 'alexandrato.com',\n",
       "       'rucforsk.ruc.dk', 'nova.newcastle.edu.au', 'winlp.org',\n",
       "       'World Scientific', 'aaai.org', 'repository.falmouth.ac.uk',\n",
       "       'openaccess.hacettepe.edu.tr', 'doria.fi', 'lawscopelibrary.com',\n",
       "       'discovery.ucl.ac.uk', 'dspace.bracu.ac.bd', 'turing.ac.uk',\n",
       "       'etheses.bham.ac.uk', 'redalyc.org', 'dspace.unive.it',\n",
       "       'helda.helsinki.fi', 'oda.oslomet.no', 'wcsaglobal.org',\n",
       "       'usa.anarchistlibraries.net', 'commons.ru.ac.za',\n",
       "       'griffithlawjournal.org', 'scitepress.org', 'tesi.luiss.it',\n",
       "       'robsoncrim.scholasticahq.com', 'local.cis.strath.ac.uk',\n",
       "       'dalspace.library.dal.ca', 'journals.uic.edu', 'euppublishing.com',\n",
       "       'scholarscompass.vcu.edu', 'nwmindia.org', 'ray.yorksj.ac.uk',\n",
       "       'mediarep.org', 'scholars.hkbu.edu.hk', 'MSU Press', 'ERIC',\n",
       "       'digitalcommons.tacoma.uw.edu', 'scholarworks.umb.edu',\n",
       "       'dro.deakin.edu.au', 'ruj.uj.edu.pl', 'repositorio.grial.eu',\n",
       "       'commons.allard.ubc.ca', 'e-spacio.uned.es',\n",
       "       'ffi-publikasjoner.archive …', 'ualresearchonline.arts.ac.uk',\n",
       "       'graduation.asu.edu', 'repositori.upf.edu',\n",
       "       'atrium.lib.uoguelph.ca', 'wrap.warwick.ac.uk', 'dspace.cuni.cz',\n",
       "       'uknowledge.uky.edu', 'livrepository.liverpool.ac.uk',\n",
       "       'Lantern Books', 'digitalcommons.humboldt.edu', 'digibug.ugr.es',\n",
       "       'nur.nu.edu.kz', 'digitalscholarship.unlv.edu', 'cms.wellcome.org',\n",
       "       'vtechworks.lib.vt.edu', 'open.uct.ac.za', 'aireuhl.github.io',\n",
       "       'demtech.oii.ox.ac.uk', 'uia.brage.unit.no',\n",
       "       'chesterrep.openrepository.com', 'ojs.aaai.org', 'pure.qub.ac.uk',\n",
       "       'digitalcommons.nl.edu', 'digitalcommons.library.tmc.edu',\n",
       "       'dspace.uevora.pt', 'journals.plos.org', 'repo.gchumanrights.org',\n",
       "       'openreview.net', 'meridian.allenpress.com',\n",
       "       'repository.ihu.edu.gr', 'digital.sandiego.edu',\n",
       "       'academicrepository.khas.edu.tr', 'nature.com', 'par.nsf.gov',\n",
       "       'digital.library.txstate.edu', 'files.emailmeform.com', 'jlcl.org',\n",
       "       'smartech.gatech.edu', 'huolab.psych.ucla.edu',\n",
       "       'caminoscastillayleon.es', 'iopn.library.illinois.edu',\n",
       "       '203.201.63.46', 'laborcenter.berkeley.edu',\n",
       "       'africanstudies.ugent.be', 'carnegieendowment.org',\n",
       "       '200.144.93.16', 'researchprotocols.org',\n",
       "       'mspace.lib.umanitoba.ca', 'openworks.wooster.edu',\n",
       "       'strathprints.strath.ac.uk', 'ijpsl.in',\n",
       "       'language-and-psychoanalysis.com',\n",
       "       'commonplace.knowledgefutures.org', 'search.ebscohost.com',\n",
       "       'ses.library.usyd.edu.au', 'arpi.unipi.it', 'hpi.de',\n",
       "       'openaccess.thecvf.com', 'researchportal.scu.edu.au',\n",
       "       'iris.unitn.it', 'centaur.reading.ac.uk', 'researchportal.vub.be',\n",
       "       'Jones & Bartlett Learning', 'csitcp.org', 'politesi.polimi.it',\n",
       "       'research-management.mq.edu.au', 'nsuworks.nova.edu',\n",
       "       'scholarlypublishingcollective.org', 'gbata.org',\n",
       "       'culturavisual.uji.es', 'raco.cat', 'globaldigitalfoundation.org',\n",
       "       'dash.harvard.edu', 'iris.unimore.it', 'researchrepository.ucd.ie',\n",
       "       'ssa.uchicago.edu', 'drive.google.com', 'mediatum.ub.tum.de',\n",
       "       'maxwell.vrac.puc-rio.br', 'cms.textgain.com',\n",
       "       'fisherpub.sjfc.edu', 'roderic.uv.es',\n",
       "       'robertcookofnorthbucks.com', 'eprints.bbk.ac.uk',\n",
       "       'publishup.uni-potsdam.de', 'longtermrisk.org', 'otago.ac.nz',\n",
       "       'urban.org', 'kpu.pressbooks.pub', 'PublicAffairs',\n",
       "       'SAGE Publications', 'repositorio.ufmg.br',\n",
       "       'reports-archive.adm.cs.cmu.edu', 'repositorio.ul.pt', 'um.edu.mt',\n",
       "       'virtualconferences.press', 'pure.mpg.de', 'peerj.com',\n",
       "       'lirias.kuleuven.be', 'elainehsiehphd.net', 'repositorio.ucp.pt',\n",
       "       'triple-c.at', 'journal.acs.org.au', 'ijam-web.org',\n",
       "       'manchesterhive.com', 'it.iceforest.net', 'prof.bht-berlin.de',\n",
       "       'MCD', 'via.library.depaul.edu', 'ideaexchange.uakron.edu',\n",
       "       'ejournals.epublishing.ekt.gr', 'revistatransilvania.ro',\n",
       "       'digitalcommons.denison.edu', 'epjds.epj.org',\n",
       "       'crownschool.uchicago.edu', 'e-lib.mslu.by',\n",
       "       'researchspace.bathspa.ac.uk', 'aiu.ac.in',\n",
       "       'openscreensjournal.com', 'jdc.jefferson.edu',\n",
       "       'publications.aston.ac.uk', 'journals.nauss.edu.sa', 'zora.uzh.ch',\n",
       "       'icon2021.nits.ac.in', 'eu.boell.org', 'fcic.periodistes.cat',\n",
       "       '95.183.240.85', 'turcomat.org', 'tigerprints.clemson.edu',\n",
       "       'repositorioinstitucional.ceu.es', 'resp.llas.ac.cn',\n",
       "       'research.gold.ac.uk', 'wally.journals.yorku.ca',\n",
       "       'digital.csic.es', 'idl-bnc-idrc.dspacedirect.org', 'dsq-sds.org',\n",
       "       'think-asia.org', 'weareoneamerica.org', 'rua.ua.es',\n",
       "       'gelbukh.com', 'Redleaf Press', '130.63.180.190',\n",
       "       'raw.githubusercontent.com', 'lyonsassessmentconsulting.com',\n",
       "       'jair.org', 'nber.org', 'crestresearch.ac.uk', 'ttu-ir.tdl.org',\n",
       "       'survey.unitec.ac.nz', 'sol.sbc.org.br', 'ebooks.iospress.nl',\n",
       "       'cimat.repositorioinstitucional.mx',\n",
       "       'digitaldemocracy.mcmaster.ca', 'historyofwomenphilosophers.org',\n",
       "       'dronewars.net', 'usenix.org', 'repositorio.uam.es',\n",
       "       'digitalvegan.net', 'epub.ub.uni-muenchen.de', 'skeyesmedia.org',\n",
       "       'hamptonthink.org', 'ekmair.ukma.edu.ua',\n",
       "       'Random House Trade Paperbacks', 'businesscommunication.org',\n",
       "       'pewresearch.org', 'appap.group.uq.edu.au', '103.47.12.35',\n",
       "       'jdsr.se', 'econstor.eu', 'corpus.ulaval.ca', 'todigra.org',\n",
       "       'oxfamilibrary.openrepository.com', 'rodin.uca.es', 'idea.int',\n",
       "       'pearl.plymouth.ac.uk', 'iris.unibocconi.it',\n",
       "       'Penguin Random House India …', 'anyflip.com',\n",
       "       'rifdt.instifdt.bg.ac.rs', 'stacks.cdc.gov', 'odr.chalmers.se',\n",
       "       'ec.msvu.ca', 'repositorio.sis.puc-campinas.edu.br',\n",
       "       'jurnalkesos.ui.ac.id', 'bristoluniversitypressdigital.com',\n",
       "       'polecom.org', 'repository.law.uic.edu', 'ojs3.uv.es',\n",
       "       'savoirs.usherbrooke.ca', 'pure.royalholloway.ac.uk',\n",
       "       'atlantis-press.com', 'digitalcommons.acu.edu', 'ppbri.org',\n",
       "       'qmro.qmul.ac.uk', 'heritage.kemenag.go.id',\n",
       "       'digitalcommons.fiu.edu', 'proceedings.neurips.cc',\n",
       "       'en.cs.uni-paderborn.de', 'oa.upm.es', 'go.gale.com',\n",
       "       'theses.ncl.ac.uk', 'engrxiv.org', 'oro.open.ac.uk',\n",
       "       'journal.sepln.org', 'j-institute.org', 'scholarworks.ace.edu',\n",
       "       'refubium.fu-berlin.de', 'repository.ust.hk', 'pan.webis.de',\n",
       "       'repository.canterbury.ac.uk', 'prism.ucalgary.ca',\n",
       "       'uaos.unios.hr', 'kups.ub.uni-koeln.de', 'users.nber.org',\n",
       "       'University of Iowa Press', 'journals.sfu.ca',\n",
       "       'antitraffickingreview.org', 'dradproject.com',\n",
       "       'digitalcommons.schulichlaw.dal.ca', 'lartis.sk',\n",
       "       'saspublishers.com', 'edizionicafoscari.unive.it',\n",
       "       'journals.suub.uni-bremen.de', 'acr.comm.or.kr', 'revistas.ufg.br',\n",
       "       'researchspace.auckland.ac.nz', 'etheses.dur.ac.uk',\n",
       "       'cs.brown.edu', 'journals.uwyo.edu', 'delfanti.org',\n",
       "       'Cornell University Press', 'sadil.ws', 'mospace.umsystem.edu',\n",
       "       'aprja.net', 'proceedings.mlr.press',\n",
       "       'socj.telkomuniversity.ac.id', 'ojs.library.ubc.ca',\n",
       "       'dialnet.unirioja.es', 'inf.uni-hamburg.de',\n",
       "       'nrl.northumbria.ac.uk', 'hiof.brage.unit.no',\n",
       "       'research-portal.uws.ac.uk', 'hindawi.com', 'isdglobal.org',\n",
       "       'scholarworks.iupui.edu', 'ASHA', 'marinacastellaneta.it',\n",
       "       'hal.inria.fr', 'cogitatiopress.com', 'scholar.sun.ac.za',\n",
       "       'itflows.eu', 'cjshayward.com', 'sophiakraenkel.com',\n",
       "       'archipel.uqam.ca', 'recercat.cat', 'read.dukeupress.edu',\n",
       "       'cyberleninka.ru', 'vps5.cloudfarm.it', 'dbpia.co.kr',\n",
       "       'epublications.regis.edu', 'pure.solent.ac.uk',\n",
       "       'digitalcommons.usmalibrary.org', 'ccc.inaoep.mx', 'jscires.org',\n",
       "       'journal.binus.ac.id', 'preprints.org', 'scholarcommons.scu.edu',\n",
       "       'revista.uclm.es', 'aaltodoc.aalto.fi', 'manchesteropenhive.com',\n",
       "       'researchsquare.com', 'spiedigitallibrary.org',\n",
       "       's-space.snu.ac.kr', 'hal.archives-ouvertes.fr',\n",
       "       'webthesis.biblio.polito.it', 'aisel.aisnet.org',\n",
       "       'East West University', 'era.ed.ac.uk',\n",
       "       'digitalcommons.liberty.edu', 'uis.brage.unit.no', 'doras.dcu.ie',\n",
       "       'techrxiv.org', 'itc.ktu.lt', 'openrepository.aut.ac.nz',\n",
       "       'ecoevorxiv.org', 'penerbit.uthm.edu.my',\n",
       "       'ir.library.illinoisstate.edu', 'dspace.dtu.ac.in',\n",
       "       'ans-names.pitt.edu', 'scholarshare.temple.edu',\n",
       "       'rucore.libraries.rutgers.edu', 'populismstudies.org',\n",
       "       'scholarworks.utrgv.edu', 'repositorium.sdum.uminho.pt',\n",
       "       'journals.lww.com', 'chwaraeteg.com',\n",
       "       'scholarlycommons.law.wlu.edu', 'run.unl.pt', 'flore.unifi.it',\n",
       "       'researchbank.ac.nz', 'view.ckcest.cn', 'canada.ca',\n",
       "       'scholarworks.uark.edu', 'cys.cic.ipn.mx', 'jmt.scholasticahq.com',\n",
       "       'gala.gre.ac.uk', 'tumbig.com', 'cs.cmu.edu'], dtype=object)"
      ]
     },
     "execution_count": 28,
     "metadata": {},
     "output_type": "execute_result"
    }
   ],
   "source": [
    "df['Publisher'].unique()"
   ]
  },
  {
   "cell_type": "code",
   "execution_count": 29,
   "metadata": {},
   "outputs": [],
   "source": [
    "df['Publisher'] = df['Publisher'].replace(['taylorfrancis.com', 'api.taylorfrancis.com'],'Taylor & Francis')\n",
    "df['Publisher'] = df['Publisher'].replace(['search.proquest.com'],'ProQuest')\n",
    "df['Publisher'] = df['Publisher'].replace(['taylorfrancis.com', 'api.taylorfrancis.com'],'Taylor & Francis')\n",
    "df['Publisher'] = df['Publisher'].replace(['books.google.com'],'Google Books')\n",
    "df['Publisher'] = df['Publisher'].replace(['erepo.uef.fi'],'UEF eRepo')\n",
    "df['Publisher'] = df['Publisher'].replace(['arxiv.org'],'arXiv')\n",
    "df['Publisher'] = df['Publisher'].replace(['journals.sagepub.com'],'SAGE Publications')\n",
    "df['Publisher'] = df['Publisher'].replace(['dl.acm.org'],'ACM Digital Library')\n",
    "df['Publisher'] = df['Publisher'].replace(['aclanthology.org'],'ACL Anthology')\n",
    "df['Publisher'] = df['Publisher'].replace(['ieeexplore.ieee.org'],'IEEE Xplore')\n",
    "df['Publisher'] = df['Publisher'].replace(['papers.ssrn.com'],'SSRN eLibrary')\n",
    "df['Publisher'] = df['Publisher'].replace(['mdpi.com'],'MDPI')\n",
    "df['Publisher'] = df['Publisher'].replace(['researchgate.net'],'ResearchGate')\n",
    "df['Publisher'] = df['Publisher'].replace(['psycnet.apa.org'],'APA Psycnet')\n",
    "df['Publisher'] = df['Publisher'].replace(['library.oapen.org'],'OAPEN')\n",
    "df['Publisher'] = df['Publisher'].replace(['ceur-ws.org'],'CEUR Workshop')\n",
    "df['Publisher'] = df['Publisher'].replace(['academia.edu'],'Academia.edu')\n",
    "df['Publisher'] = df['Publisher'].replace(['emerald.com'],'Emerald Publishing')\n",
    "df['Publisher'] = df['Publisher'].replace(['academic.oup.com'],'Oxford Academic')\n"
   ]
  },
  {
   "cell_type": "code",
   "execution_count": 30,
   "metadata": {},
   "outputs": [
    {
     "data": {
      "text/html": [
       "<div>\n",
       "<style scoped>\n",
       "    .dataframe tbody tr th:only-of-type {\n",
       "        vertical-align: middle;\n",
       "    }\n",
       "\n",
       "    .dataframe tbody tr th {\n",
       "        vertical-align: top;\n",
       "    }\n",
       "\n",
       "    .dataframe thead th {\n",
       "        text-align: right;\n",
       "    }\n",
       "</style>\n",
       "<table border=\"1\" class=\"dataframe\">\n",
       "  <thead>\n",
       "    <tr style=\"text-align: right;\">\n",
       "      <th></th>\n",
       "      <th>index</th>\n",
       "      <th>total</th>\n",
       "    </tr>\n",
       "  </thead>\n",
       "  <tbody>\n",
       "    <tr>\n",
       "      <th>0</th>\n",
       "      <td>Taylor &amp; Francis</td>\n",
       "      <td>706</td>\n",
       "    </tr>\n",
       "    <tr>\n",
       "      <th>1</th>\n",
       "      <td>Google Books</td>\n",
       "      <td>483</td>\n",
       "    </tr>\n",
       "    <tr>\n",
       "      <th>2</th>\n",
       "      <td>ProQuest</td>\n",
       "      <td>387</td>\n",
       "    </tr>\n",
       "    <tr>\n",
       "      <th>3</th>\n",
       "      <td>Springer</td>\n",
       "      <td>220</td>\n",
       "    </tr>\n",
       "    <tr>\n",
       "      <th>4</th>\n",
       "      <td>arXiv</td>\n",
       "      <td>148</td>\n",
       "    </tr>\n",
       "    <tr>\n",
       "      <th>5</th>\n",
       "      <td>SAGE Publications</td>\n",
       "      <td>66</td>\n",
       "    </tr>\n",
       "    <tr>\n",
       "      <th>6</th>\n",
       "      <td>ACM Digital Library</td>\n",
       "      <td>62</td>\n",
       "    </tr>\n",
       "    <tr>\n",
       "      <th>7</th>\n",
       "      <td>Elsevier</td>\n",
       "      <td>53</td>\n",
       "    </tr>\n",
       "    <tr>\n",
       "      <th>8</th>\n",
       "      <td>ACL Anthology</td>\n",
       "      <td>51</td>\n",
       "    </tr>\n",
       "    <tr>\n",
       "      <th>9</th>\n",
       "      <td>IEEE Xplore</td>\n",
       "      <td>51</td>\n",
       "    </tr>\n",
       "    <tr>\n",
       "      <th>10</th>\n",
       "      <td>SSRN eLibrary</td>\n",
       "      <td>41</td>\n",
       "    </tr>\n",
       "    <tr>\n",
       "      <th>11</th>\n",
       "      <td>HeinOnline</td>\n",
       "      <td>39</td>\n",
       "    </tr>\n",
       "    <tr>\n",
       "      <th>12</th>\n",
       "      <td>MDPI</td>\n",
       "      <td>38</td>\n",
       "    </tr>\n",
       "    <tr>\n",
       "      <th>13</th>\n",
       "      <td>ResearchGate</td>\n",
       "      <td>31</td>\n",
       "    </tr>\n",
       "    <tr>\n",
       "      <th>14</th>\n",
       "      <td>APA Psycnet</td>\n",
       "      <td>30</td>\n",
       "    </tr>\n",
       "    <tr>\n",
       "      <th>15</th>\n",
       "      <td>OAPEN</td>\n",
       "      <td>24</td>\n",
       "    </tr>\n",
       "    <tr>\n",
       "      <th>16</th>\n",
       "      <td>CEUR Workshop</td>\n",
       "      <td>24</td>\n",
       "    </tr>\n",
       "    <tr>\n",
       "      <th>17</th>\n",
       "      <td>Academia.edu</td>\n",
       "      <td>23</td>\n",
       "    </tr>\n",
       "    <tr>\n",
       "      <th>18</th>\n",
       "      <td>Emerald Publishing</td>\n",
       "      <td>19</td>\n",
       "    </tr>\n",
       "    <tr>\n",
       "      <th>19</th>\n",
       "      <td>Oxford Academic</td>\n",
       "      <td>18</td>\n",
       "    </tr>\n",
       "  </tbody>\n",
       "</table>\n",
       "</div>"
      ],
      "text/plain": [
       "                  index  total\n",
       "0      Taylor & Francis    706\n",
       "1          Google Books    483\n",
       "2              ProQuest    387\n",
       "3              Springer    220\n",
       "4                 arXiv    148\n",
       "5     SAGE Publications     66\n",
       "6   ACM Digital Library     62\n",
       "7              Elsevier     53\n",
       "8         ACL Anthology     51\n",
       "9           IEEE Xplore     51\n",
       "10        SSRN eLibrary     41\n",
       "11           HeinOnline     39\n",
       "12                 MDPI     38\n",
       "13         ResearchGate     31\n",
       "14          APA Psycnet     30\n",
       "15                OAPEN     24\n",
       "16        CEUR Workshop     24\n",
       "17         Academia.edu     23\n",
       "18   Emerald Publishing     19\n",
       "19      Oxford Academic     18"
      ]
     },
     "execution_count": 30,
     "metadata": {},
     "output_type": "execute_result"
    }
   ],
   "source": [
    "# Viewing only top 20 publishers to check their count\n",
    "n_publishers = df['Publisher'].value_counts().reset_index(name='total')[:20]\n",
    "n_publishers = n_publishers.sort_values(by=\"total\", ascending=False)[[\"index\", \"total\"]]\n",
    "n_publishers"
   ]
  },
  {
   "cell_type": "code",
   "execution_count": 34,
   "metadata": {},
   "outputs": [
    {
     "data": {
      "application/vnd.plotly.v1+json": {
       "config": {
        "plotlyServerURL": "https://plot.ly"
       },
       "data": [
        {
         "marker": {
          "line": {
           "color": "rgb(8,48,107)",
           "width": 1.5
          }
         },
         "name": "Top 20 Publishers",
         "showlegend": false,
         "text": [
          706,
          483,
          387,
          220,
          148,
          66,
          62,
          53,
          51,
          51,
          41,
          39,
          38,
          31,
          30,
          24,
          24,
          23,
          19,
          18
         ],
         "textposition": "outside",
         "type": "bar",
         "x": [
          "Taylor & Francis",
          "Google Books",
          "ProQuest",
          "Springer",
          "arXiv",
          "SAGE Publications",
          "ACM Digital Library",
          "Elsevier",
          "ACL Anthology",
          "IEEE Xplore",
          "SSRN eLibrary",
          "HeinOnline",
          "MDPI",
          "ResearchGate",
          "APA Psycnet",
          "OAPEN",
          "CEUR Workshop",
          "Academia.edu",
          "Emerald Publishing",
          "Oxford Academic"
         ],
         "xaxis": "x",
         "y": [
          706,
          483,
          387,
          220,
          148,
          66,
          62,
          53,
          51,
          51,
          41,
          39,
          38,
          31,
          30,
          24,
          24,
          23,
          19,
          18
         ],
         "yaxis": "y"
        }
       ],
       "layout": {
        "template": {
         "data": {
          "bar": [
           {
            "error_x": {
             "color": "#2a3f5f"
            },
            "error_y": {
             "color": "#2a3f5f"
            },
            "marker": {
             "line": {
              "color": "#E5ECF6",
              "width": 0.5
             },
             "pattern": {
              "fillmode": "overlay",
              "size": 10,
              "solidity": 0.2
             }
            },
            "type": "bar"
           }
          ],
          "barpolar": [
           {
            "marker": {
             "line": {
              "color": "#E5ECF6",
              "width": 0.5
             },
             "pattern": {
              "fillmode": "overlay",
              "size": 10,
              "solidity": 0.2
             }
            },
            "type": "barpolar"
           }
          ],
          "carpet": [
           {
            "aaxis": {
             "endlinecolor": "#2a3f5f",
             "gridcolor": "white",
             "linecolor": "white",
             "minorgridcolor": "white",
             "startlinecolor": "#2a3f5f"
            },
            "baxis": {
             "endlinecolor": "#2a3f5f",
             "gridcolor": "white",
             "linecolor": "white",
             "minorgridcolor": "white",
             "startlinecolor": "#2a3f5f"
            },
            "type": "carpet"
           }
          ],
          "choropleth": [
           {
            "colorbar": {
             "outlinewidth": 0,
             "ticks": ""
            },
            "type": "choropleth"
           }
          ],
          "contour": [
           {
            "colorbar": {
             "outlinewidth": 0,
             "ticks": ""
            },
            "colorscale": [
             [
              0,
              "#0d0887"
             ],
             [
              0.1111111111111111,
              "#46039f"
             ],
             [
              0.2222222222222222,
              "#7201a8"
             ],
             [
              0.3333333333333333,
              "#9c179e"
             ],
             [
              0.4444444444444444,
              "#bd3786"
             ],
             [
              0.5555555555555556,
              "#d8576b"
             ],
             [
              0.6666666666666666,
              "#ed7953"
             ],
             [
              0.7777777777777778,
              "#fb9f3a"
             ],
             [
              0.8888888888888888,
              "#fdca26"
             ],
             [
              1,
              "#f0f921"
             ]
            ],
            "type": "contour"
           }
          ],
          "contourcarpet": [
           {
            "colorbar": {
             "outlinewidth": 0,
             "ticks": ""
            },
            "type": "contourcarpet"
           }
          ],
          "heatmap": [
           {
            "colorbar": {
             "outlinewidth": 0,
             "ticks": ""
            },
            "colorscale": [
             [
              0,
              "#0d0887"
             ],
             [
              0.1111111111111111,
              "#46039f"
             ],
             [
              0.2222222222222222,
              "#7201a8"
             ],
             [
              0.3333333333333333,
              "#9c179e"
             ],
             [
              0.4444444444444444,
              "#bd3786"
             ],
             [
              0.5555555555555556,
              "#d8576b"
             ],
             [
              0.6666666666666666,
              "#ed7953"
             ],
             [
              0.7777777777777778,
              "#fb9f3a"
             ],
             [
              0.8888888888888888,
              "#fdca26"
             ],
             [
              1,
              "#f0f921"
             ]
            ],
            "type": "heatmap"
           }
          ],
          "heatmapgl": [
           {
            "colorbar": {
             "outlinewidth": 0,
             "ticks": ""
            },
            "colorscale": [
             [
              0,
              "#0d0887"
             ],
             [
              0.1111111111111111,
              "#46039f"
             ],
             [
              0.2222222222222222,
              "#7201a8"
             ],
             [
              0.3333333333333333,
              "#9c179e"
             ],
             [
              0.4444444444444444,
              "#bd3786"
             ],
             [
              0.5555555555555556,
              "#d8576b"
             ],
             [
              0.6666666666666666,
              "#ed7953"
             ],
             [
              0.7777777777777778,
              "#fb9f3a"
             ],
             [
              0.8888888888888888,
              "#fdca26"
             ],
             [
              1,
              "#f0f921"
             ]
            ],
            "type": "heatmapgl"
           }
          ],
          "histogram": [
           {
            "marker": {
             "pattern": {
              "fillmode": "overlay",
              "size": 10,
              "solidity": 0.2
             }
            },
            "type": "histogram"
           }
          ],
          "histogram2d": [
           {
            "colorbar": {
             "outlinewidth": 0,
             "ticks": ""
            },
            "colorscale": [
             [
              0,
              "#0d0887"
             ],
             [
              0.1111111111111111,
              "#46039f"
             ],
             [
              0.2222222222222222,
              "#7201a8"
             ],
             [
              0.3333333333333333,
              "#9c179e"
             ],
             [
              0.4444444444444444,
              "#bd3786"
             ],
             [
              0.5555555555555556,
              "#d8576b"
             ],
             [
              0.6666666666666666,
              "#ed7953"
             ],
             [
              0.7777777777777778,
              "#fb9f3a"
             ],
             [
              0.8888888888888888,
              "#fdca26"
             ],
             [
              1,
              "#f0f921"
             ]
            ],
            "type": "histogram2d"
           }
          ],
          "histogram2dcontour": [
           {
            "colorbar": {
             "outlinewidth": 0,
             "ticks": ""
            },
            "colorscale": [
             [
              0,
              "#0d0887"
             ],
             [
              0.1111111111111111,
              "#46039f"
             ],
             [
              0.2222222222222222,
              "#7201a8"
             ],
             [
              0.3333333333333333,
              "#9c179e"
             ],
             [
              0.4444444444444444,
              "#bd3786"
             ],
             [
              0.5555555555555556,
              "#d8576b"
             ],
             [
              0.6666666666666666,
              "#ed7953"
             ],
             [
              0.7777777777777778,
              "#fb9f3a"
             ],
             [
              0.8888888888888888,
              "#fdca26"
             ],
             [
              1,
              "#f0f921"
             ]
            ],
            "type": "histogram2dcontour"
           }
          ],
          "mesh3d": [
           {
            "colorbar": {
             "outlinewidth": 0,
             "ticks": ""
            },
            "type": "mesh3d"
           }
          ],
          "parcoords": [
           {
            "line": {
             "colorbar": {
              "outlinewidth": 0,
              "ticks": ""
             }
            },
            "type": "parcoords"
           }
          ],
          "pie": [
           {
            "automargin": true,
            "type": "pie"
           }
          ],
          "scatter": [
           {
            "fillpattern": {
             "fillmode": "overlay",
             "size": 10,
             "solidity": 0.2
            },
            "type": "scatter"
           }
          ],
          "scatter3d": [
           {
            "line": {
             "colorbar": {
              "outlinewidth": 0,
              "ticks": ""
             }
            },
            "marker": {
             "colorbar": {
              "outlinewidth": 0,
              "ticks": ""
             }
            },
            "type": "scatter3d"
           }
          ],
          "scattercarpet": [
           {
            "marker": {
             "colorbar": {
              "outlinewidth": 0,
              "ticks": ""
             }
            },
            "type": "scattercarpet"
           }
          ],
          "scattergeo": [
           {
            "marker": {
             "colorbar": {
              "outlinewidth": 0,
              "ticks": ""
             }
            },
            "type": "scattergeo"
           }
          ],
          "scattergl": [
           {
            "marker": {
             "colorbar": {
              "outlinewidth": 0,
              "ticks": ""
             }
            },
            "type": "scattergl"
           }
          ],
          "scattermapbox": [
           {
            "marker": {
             "colorbar": {
              "outlinewidth": 0,
              "ticks": ""
             }
            },
            "type": "scattermapbox"
           }
          ],
          "scatterpolar": [
           {
            "marker": {
             "colorbar": {
              "outlinewidth": 0,
              "ticks": ""
             }
            },
            "type": "scatterpolar"
           }
          ],
          "scatterpolargl": [
           {
            "marker": {
             "colorbar": {
              "outlinewidth": 0,
              "ticks": ""
             }
            },
            "type": "scatterpolargl"
           }
          ],
          "scatterternary": [
           {
            "marker": {
             "colorbar": {
              "outlinewidth": 0,
              "ticks": ""
             }
            },
            "type": "scatterternary"
           }
          ],
          "surface": [
           {
            "colorbar": {
             "outlinewidth": 0,
             "ticks": ""
            },
            "colorscale": [
             [
              0,
              "#0d0887"
             ],
             [
              0.1111111111111111,
              "#46039f"
             ],
             [
              0.2222222222222222,
              "#7201a8"
             ],
             [
              0.3333333333333333,
              "#9c179e"
             ],
             [
              0.4444444444444444,
              "#bd3786"
             ],
             [
              0.5555555555555556,
              "#d8576b"
             ],
             [
              0.6666666666666666,
              "#ed7953"
             ],
             [
              0.7777777777777778,
              "#fb9f3a"
             ],
             [
              0.8888888888888888,
              "#fdca26"
             ],
             [
              1,
              "#f0f921"
             ]
            ],
            "type": "surface"
           }
          ],
          "table": [
           {
            "cells": {
             "fill": {
              "color": "#EBF0F8"
             },
             "line": {
              "color": "white"
             }
            },
            "header": {
             "fill": {
              "color": "#C8D4E3"
             },
             "line": {
              "color": "white"
             }
            },
            "type": "table"
           }
          ]
         },
         "layout": {
          "annotationdefaults": {
           "arrowcolor": "#2a3f5f",
           "arrowhead": 0,
           "arrowwidth": 1
          },
          "autotypenumbers": "strict",
          "coloraxis": {
           "colorbar": {
            "outlinewidth": 0,
            "ticks": ""
           }
          },
          "colorscale": {
           "diverging": [
            [
             0,
             "#8e0152"
            ],
            [
             0.1,
             "#c51b7d"
            ],
            [
             0.2,
             "#de77ae"
            ],
            [
             0.3,
             "#f1b6da"
            ],
            [
             0.4,
             "#fde0ef"
            ],
            [
             0.5,
             "#f7f7f7"
            ],
            [
             0.6,
             "#e6f5d0"
            ],
            [
             0.7,
             "#b8e186"
            ],
            [
             0.8,
             "#7fbc41"
            ],
            [
             0.9,
             "#4d9221"
            ],
            [
             1,
             "#276419"
            ]
           ],
           "sequential": [
            [
             0,
             "#0d0887"
            ],
            [
             0.1111111111111111,
             "#46039f"
            ],
            [
             0.2222222222222222,
             "#7201a8"
            ],
            [
             0.3333333333333333,
             "#9c179e"
            ],
            [
             0.4444444444444444,
             "#bd3786"
            ],
            [
             0.5555555555555556,
             "#d8576b"
            ],
            [
             0.6666666666666666,
             "#ed7953"
            ],
            [
             0.7777777777777778,
             "#fb9f3a"
            ],
            [
             0.8888888888888888,
             "#fdca26"
            ],
            [
             1,
             "#f0f921"
            ]
           ],
           "sequentialminus": [
            [
             0,
             "#0d0887"
            ],
            [
             0.1111111111111111,
             "#46039f"
            ],
            [
             0.2222222222222222,
             "#7201a8"
            ],
            [
             0.3333333333333333,
             "#9c179e"
            ],
            [
             0.4444444444444444,
             "#bd3786"
            ],
            [
             0.5555555555555556,
             "#d8576b"
            ],
            [
             0.6666666666666666,
             "#ed7953"
            ],
            [
             0.7777777777777778,
             "#fb9f3a"
            ],
            [
             0.8888888888888888,
             "#fdca26"
            ],
            [
             1,
             "#f0f921"
            ]
           ]
          },
          "colorway": [
           "#636efa",
           "#EF553B",
           "#00cc96",
           "#ab63fa",
           "#FFA15A",
           "#19d3f3",
           "#FF6692",
           "#B6E880",
           "#FF97FF",
           "#FECB52"
          ],
          "font": {
           "color": "#2a3f5f"
          },
          "geo": {
           "bgcolor": "white",
           "lakecolor": "white",
           "landcolor": "#E5ECF6",
           "showlakes": true,
           "showland": true,
           "subunitcolor": "white"
          },
          "hoverlabel": {
           "align": "left"
          },
          "hovermode": "closest",
          "mapbox": {
           "style": "light"
          },
          "paper_bgcolor": "white",
          "plot_bgcolor": "#E5ECF6",
          "polar": {
           "angularaxis": {
            "gridcolor": "white",
            "linecolor": "white",
            "ticks": ""
           },
           "bgcolor": "#E5ECF6",
           "radialaxis": {
            "gridcolor": "white",
            "linecolor": "white",
            "ticks": ""
           }
          },
          "scene": {
           "xaxis": {
            "backgroundcolor": "#E5ECF6",
            "gridcolor": "white",
            "gridwidth": 2,
            "linecolor": "white",
            "showbackground": true,
            "ticks": "",
            "zerolinecolor": "white"
           },
           "yaxis": {
            "backgroundcolor": "#E5ECF6",
            "gridcolor": "white",
            "gridwidth": 2,
            "linecolor": "white",
            "showbackground": true,
            "ticks": "",
            "zerolinecolor": "white"
           },
           "zaxis": {
            "backgroundcolor": "#E5ECF6",
            "gridcolor": "white",
            "gridwidth": 2,
            "linecolor": "white",
            "showbackground": true,
            "ticks": "",
            "zerolinecolor": "white"
           }
          },
          "shapedefaults": {
           "line": {
            "color": "#2a3f5f"
           }
          },
          "ternary": {
           "aaxis": {
            "gridcolor": "white",
            "linecolor": "white",
            "ticks": ""
           },
           "baxis": {
            "gridcolor": "white",
            "linecolor": "white",
            "ticks": ""
           },
           "bgcolor": "#E5ECF6",
           "caxis": {
            "gridcolor": "white",
            "linecolor": "white",
            "ticks": ""
           }
          },
          "title": {
           "x": 0.05
          },
          "xaxis": {
           "automargin": true,
           "gridcolor": "white",
           "linecolor": "white",
           "ticks": "",
           "title": {
            "standoff": 15
           },
           "zerolinecolor": "white",
           "zerolinewidth": 2
          },
          "yaxis": {
           "automargin": true,
           "gridcolor": "white",
           "linecolor": "white",
           "ticks": "",
           "title": {
            "standoff": 15
           },
           "zerolinecolor": "white",
           "zerolinewidth": 2
          }
         }
        },
        "xaxis": {
         "anchor": "y",
         "domain": [
          0,
          1
         ]
        },
        "yaxis": {
         "anchor": "x",
         "domain": [
          0,
          1
         ],
         "range": [
          0,
          800
         ]
        }
       }
      }
     },
     "metadata": {},
     "output_type": "display_data"
    }
   ],
   "source": [
    "fig = make_subplots(rows=1, cols=1, specs=[[{\"type\": \"bar\"}]])\n",
    "\n",
    "fig.add_trace(go.Bar(\n",
    "     x=n_publishers['index'], y=n_publishers['total'], showlegend=False,\n",
    "    text =n_publishers['total'],\n",
    "     name=\"Top 20 Publishers\"), \n",
    "     row=1, col=1)\n",
    "fig.update_traces(textposition='outside', marker_line_color='rgb(8,48,107)',  marker_line_width=1.5)\n",
    "fig.update_yaxes(range=[0,800])\n",
    "fig"
   ]
  },
  {
   "cell_type": "code",
   "execution_count": 32,
   "metadata": {},
   "outputs": [
    {
     "data": {
      "application/vnd.plotly.v1+json": {
       "config": {
        "plotlyServerURL": "https://plot.ly"
       },
       "data": [
        {
         "marker": {
          "color": [
           "#1F77B4",
           "#FF7F0E",
           "#2CA02C",
           "rgb(255, 255, 51)",
           "rgb(127, 60, 141)",
           "#8C564B",
           "#BCBD22",
           "#17BECE",
           "#7F7F7F",
           "#222A2A",
           "rgb(228, 26, 28)"
          ],
          "line": {
           "color": "rgb(8,48,107)",
           "width": 1.5
          }
         },
         "name": "Top 10 publications",
         "showlegend": false,
         "text": [
          706,
          483,
          387,
          220,
          148,
          66,
          62,
          53,
          51,
          51
         ],
         "textposition": "outside",
         "type": "bar",
         "x": [
          "Taylor & Francis",
          "Google Books",
          "ProQuest",
          "Springer",
          "arXiv",
          "SAGE Publications",
          "ACM Digital Library",
          "Elsevier",
          "ACL Anthology",
          "IEEE Xplore"
         ],
         "xaxis": "x",
         "y": [
          706,
          483,
          387,
          220,
          148,
          66,
          62,
          53,
          51,
          51
         ],
         "yaxis": "y"
        },
        {
         "domain": {
          "x": [
           0.55,
           1
          ],
          "y": [
           0,
           1
          ]
         },
         "hole": 0.3,
         "labels": [
          "Taylor & Francis",
          "Google Books",
          "ProQuest",
          "Springer",
          "arXiv",
          "SAGE Publications",
          "ACM Digital Library",
          "Elsevier",
          "ACL Anthology",
          "IEEE Xplore",
          "Others"
         ],
         "marker": {
          "colors": [
           "#1F77B4",
           "#FF7F0E",
           "#2CA02C",
           "rgb(255, 255, 51)",
           "rgb(127, 60, 141)",
           "#8C564B",
           "#BCBD22",
           "#17BECE",
           "#7F7F7F",
           "#222A2A",
           "rgb(228, 26, 28)"
          ]
         },
         "name": "Publication groups",
         "pull": [
          0.025,
          0.025,
          0.025,
          0.025,
          0.025,
          0.025,
          0.025,
          0.025,
          0.025,
          0.025,
          0.025,
          0.025,
          0.025,
          0.025,
          0.025
         ],
         "type": "pie",
         "values": [
          706,
          483,
          387,
          220,
          148,
          66,
          62,
          53,
          51,
          51,
          1393
         ]
        }
       ],
       "layout": {
        "legend": {
         "orientation": "h",
         "x": 0.5,
         "xanchor": "center",
         "y": 1,
         "yanchor": "bottom"
        },
        "template": {
         "data": {
          "bar": [
           {
            "error_x": {
             "color": "#2a3f5f"
            },
            "error_y": {
             "color": "#2a3f5f"
            },
            "marker": {
             "line": {
              "color": "#E5ECF6",
              "width": 0.5
             },
             "pattern": {
              "fillmode": "overlay",
              "size": 10,
              "solidity": 0.2
             }
            },
            "type": "bar"
           }
          ],
          "barpolar": [
           {
            "marker": {
             "line": {
              "color": "#E5ECF6",
              "width": 0.5
             },
             "pattern": {
              "fillmode": "overlay",
              "size": 10,
              "solidity": 0.2
             }
            },
            "type": "barpolar"
           }
          ],
          "carpet": [
           {
            "aaxis": {
             "endlinecolor": "#2a3f5f",
             "gridcolor": "white",
             "linecolor": "white",
             "minorgridcolor": "white",
             "startlinecolor": "#2a3f5f"
            },
            "baxis": {
             "endlinecolor": "#2a3f5f",
             "gridcolor": "white",
             "linecolor": "white",
             "minorgridcolor": "white",
             "startlinecolor": "#2a3f5f"
            },
            "type": "carpet"
           }
          ],
          "choropleth": [
           {
            "colorbar": {
             "outlinewidth": 0,
             "ticks": ""
            },
            "type": "choropleth"
           }
          ],
          "contour": [
           {
            "colorbar": {
             "outlinewidth": 0,
             "ticks": ""
            },
            "colorscale": [
             [
              0,
              "#0d0887"
             ],
             [
              0.1111111111111111,
              "#46039f"
             ],
             [
              0.2222222222222222,
              "#7201a8"
             ],
             [
              0.3333333333333333,
              "#9c179e"
             ],
             [
              0.4444444444444444,
              "#bd3786"
             ],
             [
              0.5555555555555556,
              "#d8576b"
             ],
             [
              0.6666666666666666,
              "#ed7953"
             ],
             [
              0.7777777777777778,
              "#fb9f3a"
             ],
             [
              0.8888888888888888,
              "#fdca26"
             ],
             [
              1,
              "#f0f921"
             ]
            ],
            "type": "contour"
           }
          ],
          "contourcarpet": [
           {
            "colorbar": {
             "outlinewidth": 0,
             "ticks": ""
            },
            "type": "contourcarpet"
           }
          ],
          "heatmap": [
           {
            "colorbar": {
             "outlinewidth": 0,
             "ticks": ""
            },
            "colorscale": [
             [
              0,
              "#0d0887"
             ],
             [
              0.1111111111111111,
              "#46039f"
             ],
             [
              0.2222222222222222,
              "#7201a8"
             ],
             [
              0.3333333333333333,
              "#9c179e"
             ],
             [
              0.4444444444444444,
              "#bd3786"
             ],
             [
              0.5555555555555556,
              "#d8576b"
             ],
             [
              0.6666666666666666,
              "#ed7953"
             ],
             [
              0.7777777777777778,
              "#fb9f3a"
             ],
             [
              0.8888888888888888,
              "#fdca26"
             ],
             [
              1,
              "#f0f921"
             ]
            ],
            "type": "heatmap"
           }
          ],
          "heatmapgl": [
           {
            "colorbar": {
             "outlinewidth": 0,
             "ticks": ""
            },
            "colorscale": [
             [
              0,
              "#0d0887"
             ],
             [
              0.1111111111111111,
              "#46039f"
             ],
             [
              0.2222222222222222,
              "#7201a8"
             ],
             [
              0.3333333333333333,
              "#9c179e"
             ],
             [
              0.4444444444444444,
              "#bd3786"
             ],
             [
              0.5555555555555556,
              "#d8576b"
             ],
             [
              0.6666666666666666,
              "#ed7953"
             ],
             [
              0.7777777777777778,
              "#fb9f3a"
             ],
             [
              0.8888888888888888,
              "#fdca26"
             ],
             [
              1,
              "#f0f921"
             ]
            ],
            "type": "heatmapgl"
           }
          ],
          "histogram": [
           {
            "marker": {
             "pattern": {
              "fillmode": "overlay",
              "size": 10,
              "solidity": 0.2
             }
            },
            "type": "histogram"
           }
          ],
          "histogram2d": [
           {
            "colorbar": {
             "outlinewidth": 0,
             "ticks": ""
            },
            "colorscale": [
             [
              0,
              "#0d0887"
             ],
             [
              0.1111111111111111,
              "#46039f"
             ],
             [
              0.2222222222222222,
              "#7201a8"
             ],
             [
              0.3333333333333333,
              "#9c179e"
             ],
             [
              0.4444444444444444,
              "#bd3786"
             ],
             [
              0.5555555555555556,
              "#d8576b"
             ],
             [
              0.6666666666666666,
              "#ed7953"
             ],
             [
              0.7777777777777778,
              "#fb9f3a"
             ],
             [
              0.8888888888888888,
              "#fdca26"
             ],
             [
              1,
              "#f0f921"
             ]
            ],
            "type": "histogram2d"
           }
          ],
          "histogram2dcontour": [
           {
            "colorbar": {
             "outlinewidth": 0,
             "ticks": ""
            },
            "colorscale": [
             [
              0,
              "#0d0887"
             ],
             [
              0.1111111111111111,
              "#46039f"
             ],
             [
              0.2222222222222222,
              "#7201a8"
             ],
             [
              0.3333333333333333,
              "#9c179e"
             ],
             [
              0.4444444444444444,
              "#bd3786"
             ],
             [
              0.5555555555555556,
              "#d8576b"
             ],
             [
              0.6666666666666666,
              "#ed7953"
             ],
             [
              0.7777777777777778,
              "#fb9f3a"
             ],
             [
              0.8888888888888888,
              "#fdca26"
             ],
             [
              1,
              "#f0f921"
             ]
            ],
            "type": "histogram2dcontour"
           }
          ],
          "mesh3d": [
           {
            "colorbar": {
             "outlinewidth": 0,
             "ticks": ""
            },
            "type": "mesh3d"
           }
          ],
          "parcoords": [
           {
            "line": {
             "colorbar": {
              "outlinewidth": 0,
              "ticks": ""
             }
            },
            "type": "parcoords"
           }
          ],
          "pie": [
           {
            "automargin": true,
            "type": "pie"
           }
          ],
          "scatter": [
           {
            "fillpattern": {
             "fillmode": "overlay",
             "size": 10,
             "solidity": 0.2
            },
            "type": "scatter"
           }
          ],
          "scatter3d": [
           {
            "line": {
             "colorbar": {
              "outlinewidth": 0,
              "ticks": ""
             }
            },
            "marker": {
             "colorbar": {
              "outlinewidth": 0,
              "ticks": ""
             }
            },
            "type": "scatter3d"
           }
          ],
          "scattercarpet": [
           {
            "marker": {
             "colorbar": {
              "outlinewidth": 0,
              "ticks": ""
             }
            },
            "type": "scattercarpet"
           }
          ],
          "scattergeo": [
           {
            "marker": {
             "colorbar": {
              "outlinewidth": 0,
              "ticks": ""
             }
            },
            "type": "scattergeo"
           }
          ],
          "scattergl": [
           {
            "marker": {
             "colorbar": {
              "outlinewidth": 0,
              "ticks": ""
             }
            },
            "type": "scattergl"
           }
          ],
          "scattermapbox": [
           {
            "marker": {
             "colorbar": {
              "outlinewidth": 0,
              "ticks": ""
             }
            },
            "type": "scattermapbox"
           }
          ],
          "scatterpolar": [
           {
            "marker": {
             "colorbar": {
              "outlinewidth": 0,
              "ticks": ""
             }
            },
            "type": "scatterpolar"
           }
          ],
          "scatterpolargl": [
           {
            "marker": {
             "colorbar": {
              "outlinewidth": 0,
              "ticks": ""
             }
            },
            "type": "scatterpolargl"
           }
          ],
          "scatterternary": [
           {
            "marker": {
             "colorbar": {
              "outlinewidth": 0,
              "ticks": ""
             }
            },
            "type": "scatterternary"
           }
          ],
          "surface": [
           {
            "colorbar": {
             "outlinewidth": 0,
             "ticks": ""
            },
            "colorscale": [
             [
              0,
              "#0d0887"
             ],
             [
              0.1111111111111111,
              "#46039f"
             ],
             [
              0.2222222222222222,
              "#7201a8"
             ],
             [
              0.3333333333333333,
              "#9c179e"
             ],
             [
              0.4444444444444444,
              "#bd3786"
             ],
             [
              0.5555555555555556,
              "#d8576b"
             ],
             [
              0.6666666666666666,
              "#ed7953"
             ],
             [
              0.7777777777777778,
              "#fb9f3a"
             ],
             [
              0.8888888888888888,
              "#fdca26"
             ],
             [
              1,
              "#f0f921"
             ]
            ],
            "type": "surface"
           }
          ],
          "table": [
           {
            "cells": {
             "fill": {
              "color": "#EBF0F8"
             },
             "line": {
              "color": "white"
             }
            },
            "header": {
             "fill": {
              "color": "#C8D4E3"
             },
             "line": {
              "color": "white"
             }
            },
            "type": "table"
           }
          ]
         },
         "layout": {
          "annotationdefaults": {
           "arrowcolor": "#2a3f5f",
           "arrowhead": 0,
           "arrowwidth": 1
          },
          "autotypenumbers": "strict",
          "coloraxis": {
           "colorbar": {
            "outlinewidth": 0,
            "ticks": ""
           }
          },
          "colorscale": {
           "diverging": [
            [
             0,
             "#8e0152"
            ],
            [
             0.1,
             "#c51b7d"
            ],
            [
             0.2,
             "#de77ae"
            ],
            [
             0.3,
             "#f1b6da"
            ],
            [
             0.4,
             "#fde0ef"
            ],
            [
             0.5,
             "#f7f7f7"
            ],
            [
             0.6,
             "#e6f5d0"
            ],
            [
             0.7,
             "#b8e186"
            ],
            [
             0.8,
             "#7fbc41"
            ],
            [
             0.9,
             "#4d9221"
            ],
            [
             1,
             "#276419"
            ]
           ],
           "sequential": [
            [
             0,
             "#0d0887"
            ],
            [
             0.1111111111111111,
             "#46039f"
            ],
            [
             0.2222222222222222,
             "#7201a8"
            ],
            [
             0.3333333333333333,
             "#9c179e"
            ],
            [
             0.4444444444444444,
             "#bd3786"
            ],
            [
             0.5555555555555556,
             "#d8576b"
            ],
            [
             0.6666666666666666,
             "#ed7953"
            ],
            [
             0.7777777777777778,
             "#fb9f3a"
            ],
            [
             0.8888888888888888,
             "#fdca26"
            ],
            [
             1,
             "#f0f921"
            ]
           ],
           "sequentialminus": [
            [
             0,
             "#0d0887"
            ],
            [
             0.1111111111111111,
             "#46039f"
            ],
            [
             0.2222222222222222,
             "#7201a8"
            ],
            [
             0.3333333333333333,
             "#9c179e"
            ],
            [
             0.4444444444444444,
             "#bd3786"
            ],
            [
             0.5555555555555556,
             "#d8576b"
            ],
            [
             0.6666666666666666,
             "#ed7953"
            ],
            [
             0.7777777777777778,
             "#fb9f3a"
            ],
            [
             0.8888888888888888,
             "#fdca26"
            ],
            [
             1,
             "#f0f921"
            ]
           ]
          },
          "colorway": [
           "#636efa",
           "#EF553B",
           "#00cc96",
           "#ab63fa",
           "#FFA15A",
           "#19d3f3",
           "#FF6692",
           "#B6E880",
           "#FF97FF",
           "#FECB52"
          ],
          "font": {
           "color": "#2a3f5f"
          },
          "geo": {
           "bgcolor": "white",
           "lakecolor": "white",
           "landcolor": "#E5ECF6",
           "showlakes": true,
           "showland": true,
           "subunitcolor": "white"
          },
          "hoverlabel": {
           "align": "left"
          },
          "hovermode": "closest",
          "mapbox": {
           "style": "light"
          },
          "paper_bgcolor": "white",
          "plot_bgcolor": "#E5ECF6",
          "polar": {
           "angularaxis": {
            "gridcolor": "white",
            "linecolor": "white",
            "ticks": ""
           },
           "bgcolor": "#E5ECF6",
           "radialaxis": {
            "gridcolor": "white",
            "linecolor": "white",
            "ticks": ""
           }
          },
          "scene": {
           "xaxis": {
            "backgroundcolor": "#E5ECF6",
            "gridcolor": "white",
            "gridwidth": 2,
            "linecolor": "white",
            "showbackground": true,
            "ticks": "",
            "zerolinecolor": "white"
           },
           "yaxis": {
            "backgroundcolor": "#E5ECF6",
            "gridcolor": "white",
            "gridwidth": 2,
            "linecolor": "white",
            "showbackground": true,
            "ticks": "",
            "zerolinecolor": "white"
           },
           "zaxis": {
            "backgroundcolor": "#E5ECF6",
            "gridcolor": "white",
            "gridwidth": 2,
            "linecolor": "white",
            "showbackground": true,
            "ticks": "",
            "zerolinecolor": "white"
           }
          },
          "shapedefaults": {
           "line": {
            "color": "#2a3f5f"
           }
          },
          "ternary": {
           "aaxis": {
            "gridcolor": "white",
            "linecolor": "white",
            "ticks": ""
           },
           "baxis": {
            "gridcolor": "white",
            "linecolor": "white",
            "ticks": ""
           },
           "bgcolor": "#E5ECF6",
           "caxis": {
            "gridcolor": "white",
            "linecolor": "white",
            "ticks": ""
           }
          },
          "title": {
           "x": 0.05
          },
          "xaxis": {
           "automargin": true,
           "gridcolor": "white",
           "linecolor": "white",
           "ticks": "",
           "title": {
            "standoff": 15
           },
           "zerolinecolor": "white",
           "zerolinewidth": 2
          },
          "yaxis": {
           "automargin": true,
           "gridcolor": "white",
           "linecolor": "white",
           "ticks": "",
           "title": {
            "standoff": 15
           },
           "zerolinecolor": "white",
           "zerolinewidth": 2
          }
         }
        },
        "title": {
         "text": "Top 10 publications with most works on misogyny",
         "x": 0.5,
         "y": 0.985
        },
        "uniformtext": {
         "minsize": 8
        },
        "xaxis": {
         "anchor": "y",
         "domain": [
          0,
          0.45
         ]
        },
        "yaxis": {
         "anchor": "x",
         "domain": [
          0,
          1
         ],
         "range": [
          0,
          750
         ]
        }
       }
      }
     },
     "metadata": {},
     "output_type": "display_data"
    }
   ],
   "source": [
    "# Viewing the top 10 publishers vs the others\n",
    "\n",
    "colors = ['#1F77B4', '#FF7F0E', '#2CA02C', 'rgb(255, 255, 51)', 'rgb(127, 60, 141)', '#8C564B', '#BCBD22', '#17BECE', '#7F7F7F', '#222A2A', 'rgb(228, 26, 28)']\n",
    "\n",
    "top10pubs = df['Publisher'].value_counts()[:10].reset_index(name='total')\n",
    "\n",
    "fig = make_subplots(rows=1, cols=2, specs=[[{\"type\": \"bar\"}, {\"type\": \"pie\"}]])\n",
    "\n",
    "fig.add_trace(go.Bar(\n",
    "     x=top10pubs['index'], y=top10pubs['total'], showlegend=False,\n",
    "    text =top10pubs['total'],\n",
    "     name=\"Top 10 publications\"), \n",
    "     row=1, col=1)\n",
    "fig.update_yaxes(range=[0,750])\n",
    "fig.update_layout(uniformtext_minsize=8)\n",
    "fig.update_traces(textposition='outside', marker_color=colors, marker_line_color='rgb(8,48,107)',  marker_line_width=1.5)\n",
    "\n",
    "list_top10pubs = list(df['Publisher'].value_counts()[:10].keys())\n",
    "\n",
    "others_count = len(df.loc[~df['Publisher'].isin(list_top10pubs)].dropna(subset=['Publisher']))\n",
    "new_row = {'index': 'Others', 'total':others_count}\n",
    "top10pubs = top10pubs.append(new_row, ignore_index=True)\n",
    "\n",
    "# pull is given as a fraction of the pie radius\n",
    "fig.add_trace(go.Pie(\n",
    "     values=top10pubs['total'],\n",
    "     labels=top10pubs['index'].values, pull=[0.025, 0.025, 0.025, 0.025, 0.025, 0.025, 0.025, 0.025, 0.025, 0.025, 0.025, 0.025, 0.025, 0.025, 0.025], hole=.3, \n",
    "    marker_colors=colors,\n",
    "     name=\"Publication groups\"),\n",
    "    row=1, col=2)\n",
    "fig.update_layout(title_text='Top 10 publications with most works on misogyny', title_x=0.5, title_y=0.985,\n",
    "                 legend=dict(orientation=\"h\", yanchor=\"bottom\", y=1, xanchor=\"center\", x=0.5))\n",
    "\n",
    "fig.show()\n",
    "\n"
   ]
  },
  {
   "cell_type": "code",
   "execution_count": 33,
   "metadata": {},
   "outputs": [
    {
     "data": {
      "text/plain": [
       "array([nan, \"Journal of Women's Health\", 'Journal of Sexual Aggression',\n",
       "       ..., 'LGBTQ+ Family: An Interdisciplinary Journal',\n",
       "       'Journal of Library …', 'CHI Conference on Human Factors in …'],\n",
       "      dtype=object)"
      ]
     },
     "execution_count": 33,
     "metadata": {},
     "output_type": "execute_result"
    }
   ],
   "source": [
    "df['Source'].unique()"
   ]
  },
  {
   "cell_type": "code",
   "execution_count": null,
   "metadata": {},
   "outputs": [],
   "source": []
  }
 ],
 "metadata": {
  "kernelspec": {
   "display_name": "Python 3",
   "language": "python",
   "name": "python3"
  },
  "language_info": {
   "codemirror_mode": {
    "name": "ipython",
    "version": 3
   },
   "file_extension": ".py",
   "mimetype": "text/x-python",
   "name": "python",
   "nbconvert_exporter": "python",
   "pygments_lexer": "ipython3",
   "version": "3.9.6"
  },
  "orig_nbformat": 4,
  "vscode": {
   "interpreter": {
    "hash": "31f2aee4e71d21fbe5cf8b01ff0e069b9275f58929596ceb00d14d90e3e16cd6"
   }
  }
 },
 "nbformat": 4,
 "nbformat_minor": 2
}
